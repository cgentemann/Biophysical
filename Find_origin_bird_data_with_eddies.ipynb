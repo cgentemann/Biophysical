{
 "cells": [
  {
   "cell_type": "markdown",
   "metadata": {},
   "source": [
    "# Take eddy that collocated to bird data and find complete eddy history\n",
    "- Read in collocated bird data\n",
    "- Read in AVISO eddy database subset for NPac\n",
    "- find unique eddies in bird data\n",
    "- find all AVISO eddy for that eddy ID\n",
    "- create new dataset with track number and observation number as dims\n",
    "- save eddy data into it"
   ]
  },
  {
   "cell_type": "code",
   "execution_count": null,
   "metadata": {},
   "outputs": [],
   "source": [
    "import matplotlib.pyplot as plt\n",
    "import numpy as np\n",
    "import xarray as xr\n",
    "import pandas as pd\n",
    "import warnings\n",
    "# filter some warning messages\n",
    "warnings.filterwarnings(\"ignore\") \n",
    "from geopy.distance import geodesic \n",
    "from pyresample.kd_tree import resample_nearest\n",
    "from scipy import spatial\n",
    "\n",
    "####################you will need to change some paths here!#####################\n",
    "#list of input files\n",
    "#list of input files\n",
    "\n",
    "filename_aviso='F:/data/project_data/NASA_biophysical/aviso/eddy_trajectory_19930101_20170106.nc'   #From AVISO  website\n",
    "filename_bird_netcdf='f:/data/project_data/NASA_biophysical/collocated_data/NPPSD_GOA_allseabird_wide_sat_and_eddy_data_final.nc'\n",
    "#################################################################################\n",
    "filename_origin='f:/data/project_data/NASA_biophysical/collocated_data/NPPSD_GOA_allseabird_full_eddy_info.nc'"
   ]
  },
  {
   "cell_type": "markdown",
   "metadata": {},
   "source": [
    "# read in collocated bird data"
   ]
  },
  {
   "cell_type": "code",
   "execution_count": null,
   "metadata": {},
   "outputs": [],
   "source": [
    "ds_bird = xr.open_dataset(filename_bird_netcdf)\n",
    "ds_bird"
   ]
  },
  {
   "cell_type": "markdown",
   "metadata": {},
   "source": [
    "# open aviso eddy dataset"
   ]
  },
  {
   "cell_type": "code",
   "execution_count": null,
   "metadata": {},
   "outputs": [],
   "source": []
  },
  {
   "cell_type": "code",
   "execution_count": null,
   "metadata": {},
   "outputs": [],
   "source": [
    "ds_eddy = xr.open_dataset('F:/data/project_data/NASA_biophysical/aviso/eddy_trajectory_19930101_20170106.nc')\n",
    "ds_eddy = ds_eddy.rename({'latitude':'lat','longitude':'lon'})\n",
    "#ds_eddy = xr.open_dataset('F:/data/project_data/NASA_biophysical/aviso/eddy_trajectory_19930101_20170106_northpac.nc')\n",
    "ilen_eddy = len(ds_eddy.lat)\n",
    "plt.scatter(ds_eddy.lon,ds_eddy.lat)\n",
    "ds_eddy"
   ]
  },
  {
   "cell_type": "markdown",
   "metadata": {},
   "source": [
    "# Create xarray dataset structure to hold data"
   ]
  },
  {
   "cell_type": "code",
   "execution_count": null,
   "metadata": {},
   "outputs": [],
   "source": [
    "ds2 = ds_bird.where(ds_bird.track>1,drop=True)\n",
    "all_tracks = np.unique(ds2.track.data)\n",
    "ilen = len(all_tracks)\n",
    "inum_obs = int(ds_eddy.observation_number.max().data)+1\n",
    "iobs = np.arange(inum_obs)\n",
    "print(ilen,inum_obs)\n",
    "da=xr.DataArray(np.nan*np.empty((ilen,inum_obs), \n",
    "                                dtype=str(ds_eddy['amplitude'].dtype)), \n",
    "                coords={'track': all_tracks.astype('int'),'observation_number':np.arange(inum_obs)}, \n",
    "                dims=('track','observation_number'))\n",
    "ds_tem = xr.Dataset({'amplitude':da})\n",
    "for var in ds_eddy:\n",
    "    if (var!='observation_number') & (var!='track') & (var!='time') & (var!='time64') & (var!='amplitude'):\n",
    "        da=xr.DataArray(np.nan*np.empty((ilen,inum_obs), \n",
    "                                dtype=str(ds_eddy[var].dtype)), \n",
    "                coords={'track': all_tracks.astype('int'),'observation_number':np.arange(inum_obs)}, \n",
    "                dims=('track','observation_number'))\n",
    "\n",
    "        ds_tem[var]=da\n",
    "    if (var=='time64'):\n",
    "        da=xr.DataArray(np.empty((ilen,inum_obs), \n",
    "                                dtype=str(ds_eddy[var].dtype)), \n",
    "                coords={'track': all_tracks.astype('int'),'observation_number':np.arange(inum_obs)}, \n",
    "                dims=('track','observation_number'))\n",
    "\n",
    "        ds_tem[var]=da\n",
    "ds_tem"
   ]
  },
  {
   "cell_type": "markdown",
   "metadata": {},
   "source": [
    "# go through all unique eddies and save data into structure\n",
    "- save variable attributes\n",
    "- save global attributes"
   ]
  },
  {
   "cell_type": "code",
   "execution_count": null,
   "metadata": {},
   "outputs": [],
   "source": [
    "for ii,idn in enumerate(ds_tem.track.data):\n",
    "    subset = ds_eddy.where(ds_eddy.track.astype('int')==idn,drop=True)\n",
    "    for var in subset:\n",
    "        if (var!='observation_number') & (var!='track') & (var!='time') & (var!='amplitude'):\n",
    "            ilen_obs = len(subset.obs)\n",
    "            ds_tem[var][ii,:ilen_obs]=subset[var][:].data\n",
    "            ds_tem[var].attrs=subset[var].attrs\n",
    "    if subset.observation_number[0].data>0:\n",
    "        print(ii,subset.observation_number[0])\n",
    "ds_tem.attrs = ds_eddy.attrs\n",
    "ds_tem.to_netcdf(filename_origin)"
   ]
  },
  {
   "cell_type": "code",
   "execution_count": null,
   "metadata": {},
   "outputs": [],
   "source": []
  }
 ],
 "metadata": {
  "kernelspec": {
   "display_name": "Python 3",
   "language": "python",
   "name": "python3"
  },
  "language_info": {
   "codemirror_mode": {
    "name": "ipython",
    "version": 3
   },
   "file_extension": ".py",
   "mimetype": "text/x-python",
   "name": "python",
   "nbconvert_exporter": "python",
   "pygments_lexer": "ipython3",
   "version": "3.7.6"
  }
 },
 "nbformat": 4,
 "nbformat_minor": 2
}
