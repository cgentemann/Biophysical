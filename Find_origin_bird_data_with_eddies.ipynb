{
 "cells": [
  {
   "cell_type": "markdown",
   "metadata": {},
   "source": [
    "# Take eddy that collocated to bird data and find complete eddy history\n",
    "- Read in collocated bird data\n",
    "- Read in AVISO eddy database subset for NPac\n",
    "- find unique eddies in bird data\n",
    "- find all AVISO eddy for that eddy ID\n",
    "- create new dataset with track number and observation number as dims\n",
    "- save eddy data into it"
   ]
  },
  {
   "cell_type": "code",
   "execution_count": 1,
   "metadata": {},
   "outputs": [],
   "source": [
    "import matplotlib.pyplot as plt\n",
    "import numpy as np\n",
    "import xarray as xr\n",
    "import pandas as pd\n",
    "import warnings\n",
    "# filter some warning messages\n",
    "warnings.filterwarnings(\"ignore\") \n",
    "from geopy.distance import geodesic \n",
    "from pyresample.kd_tree import resample_nearest\n",
    "from scipy import spatial\n",
    "\n",
    "####################you will need to change some paths here!#####################\n",
    "#list of input files\n",
    "#list of input files\n",
    "\n",
    "filename_aviso='F:/data/project_data/NASA_biophysical/aviso/eddy_trajectory_19930101_20170106.nc'   #From AVISO  website\n",
    "filename_bird_netcdf='f:/data/project_data/NASA_biophysical/collocated_data/NPPSD_GOA_allseabird_wide_sat_and_eddy_data_final.nc'\n",
    "#################################################################################\n",
    "filename_origin='f:/data/project_data/NASA_biophysical/collocated_data/NPPSD_GOA_allseabird_full_eddy_info.nc'"
   ]
  },
  {
   "cell_type": "markdown",
   "metadata": {},
   "source": [
    "# read in collocated bird data"
   ]
  },
  {
   "cell_type": "code",
   "execution_count": 2,
   "metadata": {},
   "outputs": [
    {
     "data": {
      "text/html": [
       "<pre>&lt;xarray.Dataset&gt;\n",
       "Dimensions:                 (index: 92738)\n",
       "Coordinates:\n",
       "  * index                   (index) int64 0 1 2 3 4 ... 92734 92735 92736 92737\n",
       "Data variables:\n",
       "    Unnamed: 0              (index) int64 ...\n",
       "    Master.Key              (index) object ...\n",
       "    Modified.Platform.Type  (index) object ...\n",
       "    Fly.Bird.Method         (index) object ...\n",
       "    Year                    (index) int64 ...\n",
       "    Month                   (index) int64 ...\n",
       "    Day                     (index) int64 ...\n",
       "    Julian.Date             (index) int64 ...\n",
       "    Sample.Area             (index) float64 ...\n",
       "    PI.Credit               (index) object ...\n",
       "    lon                     (index) float64 ...\n",
       "    lat                     (index) float64 ...\n",
       "    ANMU                    (index) int64 ...\n",
       "    ARTE                    (index) int64 ...\n",
       "    BLKI                    (index) int64 ...\n",
       "    BOGU                    (index) int64 ...\n",
       "    CAAU                    (index) int64 ...\n",
       "    CAGU                    (index) int64 ...\n",
       "    COLO                    (index) int64 ...\n",
       "    CRAU                    (index) int64 ...\n",
       "    DCCO                    (index) int64 ...\n",
       "    FTSP                    (index) int64 ...\n",
       "    GWGU                    (index) int64 ...\n",
       "    HERG                    (index) int64 ...\n",
       "    HOPU                    (index) int64 ...\n",
       "    LEAU                    (index) int64 ...\n",
       "    LESP                    (index) int64 ...\n",
       "    MEGU                    (index) int64 ...\n",
       "    NOFU                    (index) int64 ...\n",
       "    PAAU                    (index) int64 ...\n",
       "    PALO                    (index) int64 ...\n",
       "    PIGU                    (index) int64 ...\n",
       "    RHAU                    (index) int64 ...\n",
       "    SAGU                    (index) int64 ...\n",
       "    TUPU                    (index) int64 ...\n",
       "    WHAU                    (index) int64 ...\n",
       "    ALLSH                   (index) int64 ...\n",
       "    ALLMU                   (index) int64 ...\n",
       "    ALLBRMU                 (index) int64 ...\n",
       "    GACO                    (index) int64 ...\n",
       "    ALLALB                  (index) int64 ...\n",
       "    ALLPE                   (index) int64 ...\n",
       "    ALLJA                   (index) int64 ...\n",
       "    time                    (index) datetime64[ns] ...\n",
       "    amplitude               (index) float32 ...\n",
       "    cyclonic_type           (index) float64 ...\n",
       "    lat_eddy                (index) float32 ...\n",
       "    lon_eddy                (index) float32 ...\n",
       "    observation_number      (index) float64 ...\n",
       "    speed_average           (index) float32 ...\n",
       "    speed_radius            (index) float32 ...\n",
       "    track                   (index) float64 ...\n",
       "    time64                  (index) datetime64[ns] ...\n",
       "    save_eddy_distance      (index) float32 ...\n",
       "    aviso_adt               (index) float64 ...\n",
       "    aviso_sla               (index) float64 ...\n",
       "    aviso_ugos              (index) float64 ...\n",
       "    aviso_ugosa             (index) float64 ...\n",
       "    aviso_vgos              (index) float64 ...\n",
       "    aviso_vgosa             (index) float64 ...\n",
       "    ccmp_uwnd               (index) float32 ...\n",
       "    ccmp_vwnd               (index) float32 ...\n",
       "    cmc_sst                 (index) float32 ...\n",
       "    ETOPO_depth             (index) float64 ...</pre>"
      ],
      "text/plain": [
       "<xarray.Dataset>\n",
       "Dimensions:                 (index: 92738)\n",
       "Coordinates:\n",
       "  * index                   (index) int64 0 1 2 3 4 ... 92734 92735 92736 92737\n",
       "Data variables:\n",
       "    Unnamed: 0              (index) int64 ...\n",
       "    Master.Key              (index) object ...\n",
       "    Modified.Platform.Type  (index) object ...\n",
       "    Fly.Bird.Method         (index) object ...\n",
       "    Year                    (index) int64 ...\n",
       "    Month                   (index) int64 ...\n",
       "    Day                     (index) int64 ...\n",
       "    Julian.Date             (index) int64 ...\n",
       "    Sample.Area             (index) float64 ...\n",
       "    PI.Credit               (index) object ...\n",
       "    lon                     (index) float64 ...\n",
       "    lat                     (index) float64 ...\n",
       "    ANMU                    (index) int64 ...\n",
       "    ARTE                    (index) int64 ...\n",
       "    BLKI                    (index) int64 ...\n",
       "    BOGU                    (index) int64 ...\n",
       "    CAAU                    (index) int64 ...\n",
       "    CAGU                    (index) int64 ...\n",
       "    COLO                    (index) int64 ...\n",
       "    CRAU                    (index) int64 ...\n",
       "    DCCO                    (index) int64 ...\n",
       "    FTSP                    (index) int64 ...\n",
       "    GWGU                    (index) int64 ...\n",
       "    HERG                    (index) int64 ...\n",
       "    HOPU                    (index) int64 ...\n",
       "    LEAU                    (index) int64 ...\n",
       "    LESP                    (index) int64 ...\n",
       "    MEGU                    (index) int64 ...\n",
       "    NOFU                    (index) int64 ...\n",
       "    PAAU                    (index) int64 ...\n",
       "    PALO                    (index) int64 ...\n",
       "    PIGU                    (index) int64 ...\n",
       "    RHAU                    (index) int64 ...\n",
       "    SAGU                    (index) int64 ...\n",
       "    TUPU                    (index) int64 ...\n",
       "    WHAU                    (index) int64 ...\n",
       "    ALLSH                   (index) int64 ...\n",
       "    ALLMU                   (index) int64 ...\n",
       "    ALLBRMU                 (index) int64 ...\n",
       "    GACO                    (index) int64 ...\n",
       "    ALLALB                  (index) int64 ...\n",
       "    ALLPE                   (index) int64 ...\n",
       "    ALLJA                   (index) int64 ...\n",
       "    time                    (index) datetime64[ns] ...\n",
       "    amplitude               (index) float32 ...\n",
       "    cyclonic_type           (index) float64 ...\n",
       "    lat_eddy                (index) float32 ...\n",
       "    lon_eddy                (index) float32 ...\n",
       "    observation_number      (index) float64 ...\n",
       "    speed_average           (index) float32 ...\n",
       "    speed_radius            (index) float32 ...\n",
       "    track                   (index) float64 ...\n",
       "    time64                  (index) datetime64[ns] ...\n",
       "    save_eddy_distance      (index) float32 ...\n",
       "    aviso_adt               (index) float64 ...\n",
       "    aviso_sla               (index) float64 ...\n",
       "    aviso_ugos              (index) float64 ...\n",
       "    aviso_ugosa             (index) float64 ...\n",
       "    aviso_vgos              (index) float64 ...\n",
       "    aviso_vgosa             (index) float64 ...\n",
       "    ccmp_uwnd               (index) float32 ...\n",
       "    ccmp_vwnd               (index) float32 ...\n",
       "    cmc_sst                 (index) float32 ...\n",
       "    ETOPO_depth             (index) float64 ..."
      ]
     },
     "execution_count": 2,
     "metadata": {},
     "output_type": "execute_result"
    }
   ],
   "source": [
    "ds_bird = xr.open_dataset(filename_bird_netcdf)\n",
    "ds_bird"
   ]
  },
  {
   "cell_type": "markdown",
   "metadata": {},
   "source": [
    "# open aviso eddy dataset"
   ]
  },
  {
   "cell_type": "code",
   "execution_count": 3,
   "metadata": {},
   "outputs": [
    {
     "data": {
      "text/html": [
       "<pre>&lt;xarray.Dataset&gt;\n",
       "Dimensions:             (obs: 23086878)\n",
       "Dimensions without coordinates: obs\n",
       "Data variables:\n",
       "    amplitude           (obs) float32 ...\n",
       "    cyclonic_type       (obs) int8 ...\n",
       "    lat                 (obs) float32 ...\n",
       "    lon                 (obs) float32 ...\n",
       "    observation_number  (obs) uint16 ...\n",
       "    speed_average       (obs) float32 ...\n",
       "    speed_radius        (obs) float32 ...\n",
       "    time                (obs) object ...\n",
       "    track               (obs) uint32 ...\n",
       "Attributes:\n",
       "    Metadata_Conventions:      Unidata Dataset Discovery v1.0\n",
       "    title:                     Mesoscale Eddies in Altimeter Observations of SLA\n",
       "    institution:               CNES/CLS in collaboration with Oregon State Un...\n",
       "    project:                   SSALTO/DUACS\n",
       "    creator_url:               http://www.aviso.altimetry.fr\n",
       "    creator_email:             aviso@altimetry.fr\n",
       "    license:                   http://www.aviso.altimetry.fr/fileadmin/docume...\n",
       "    summary:                   This dataset contains eddy atlas from two-sate...\n",
       "    comment:                   Surface product; mesoscale eddies\n",
       "    input_product_reference:   https://www.aviso.altimetry.fr/en/data/product...\n",
       "    date_created:              2017-09-22T10:20:17Z\n",
       "    time_coverage_duration:    P8771D\n",
       "    time_coverage_start:       1993-01-01T00:00:00Z\n",
       "    time_coverage_end:         2017-01-06T00:00:00Z\n",
       "    standard_name_vocabulary:  NetCDF Climate and Forecast (CF) Metadata Conv...\n",
       "    product_version:           1.0</pre>"
      ],
      "text/plain": [
       "<xarray.Dataset>\n",
       "Dimensions:             (obs: 23086878)\n",
       "Dimensions without coordinates: obs\n",
       "Data variables:\n",
       "    amplitude           (obs) float32 ...\n",
       "    cyclonic_type       (obs) int8 ...\n",
       "    lat                 (obs) float32 ...\n",
       "    lon                 (obs) float32 ...\n",
       "    observation_number  (obs) uint16 ...\n",
       "    speed_average       (obs) float32 ...\n",
       "    speed_radius        (obs) float32 ...\n",
       "    time                (obs) object ...\n",
       "    track               (obs) uint32 ...\n",
       "Attributes:\n",
       "    Metadata_Conventions:      Unidata Dataset Discovery v1.0\n",
       "    title:                     Mesoscale Eddies in Altimeter Observations of SLA\n",
       "    institution:               CNES/CLS in collaboration with Oregon State Un...\n",
       "    project:                   SSALTO/DUACS\n",
       "    creator_url:               http://www.aviso.altimetry.fr\n",
       "    creator_email:             aviso@altimetry.fr\n",
       "    license:                   http://www.aviso.altimetry.fr/fileadmin/docume...\n",
       "    summary:                   This dataset contains eddy atlas from two-sate...\n",
       "    comment:                   Surface product; mesoscale eddies\n",
       "    input_product_reference:   https://www.aviso.altimetry.fr/en/data/product...\n",
       "    date_created:              2017-09-22T10:20:17Z\n",
       "    time_coverage_duration:    P8771D\n",
       "    time_coverage_start:       1993-01-01T00:00:00Z\n",
       "    time_coverage_end:         2017-01-06T00:00:00Z\n",
       "    standard_name_vocabulary:  NetCDF Climate and Forecast (CF) Metadata Conv...\n",
       "    product_version:           1.0"
      ]
     },
     "execution_count": 3,
     "metadata": {},
     "output_type": "execute_result"
    }
   ],
   "source": [
    "ds_eddy = xr.open_dataset('F:/data/project_data/NASA_biophysical/aviso/eddy_trajectory_19930101_20170106.nc')\n",
    "ds_eddy = ds_eddy.rename({'latitude':'lat','longitude':'lon'})\n",
    "#ds_eddy = xr.open_dataset('F:/data/project_data/NASA_biophysical/aviso/eddy_trajectory_19930101_20170106_northpac.nc')\n",
    "ilen_eddy = len(ds_eddy.lat)\n",
    "ds_eddy"
   ]
  },
  {
   "cell_type": "code",
   "execution_count": 19,
   "metadata": {},
   "outputs": [],
   "source": [
    "ds_eddy['time64']=xr.DataArray(np.empty(len(ds_eddy.lat),dtype='datetime64[ns]'), dims=('obs'))\n",
    "for i,time in enumerate(ds_eddy.time.data):\n",
    "    ds_eddy['time64'][i]=np.datetime64(time)"
   ]
  },
  {
   "cell_type": "code",
   "execution_count": 20,
   "metadata": {},
   "outputs": [
    {
     "data": {
      "text/html": [
       "<pre>&lt;xarray.Dataset&gt;\n",
       "Dimensions:             (obs: 23086878)\n",
       "Dimensions without coordinates: obs\n",
       "Data variables:\n",
       "    amplitude           (obs) float32 ...\n",
       "    cyclonic_type       (obs) int8 ...\n",
       "    lat                 (obs) float32 ...\n",
       "    lon                 (obs) float32 ...\n",
       "    observation_number  (obs) uint16 ...\n",
       "    speed_average       (obs) float32 ...\n",
       "    speed_radius        (obs) float32 ...\n",
       "    time                (obs) object 1993-01-01 00:00:00 ... 2017-01-06 00:00:00\n",
       "    track               (obs) uint32 ...\n",
       "    time64              (obs) datetime64[ns] 1993-01-01 ... 2017-01-06\n",
       "Attributes:\n",
       "    Metadata_Conventions:      Unidata Dataset Discovery v1.0\n",
       "    title:                     Mesoscale Eddies in Altimeter Observations of SLA\n",
       "    institution:               CNES/CLS in collaboration with Oregon State Un...\n",
       "    project:                   SSALTO/DUACS\n",
       "    creator_url:               http://www.aviso.altimetry.fr\n",
       "    creator_email:             aviso@altimetry.fr\n",
       "    license:                   http://www.aviso.altimetry.fr/fileadmin/docume...\n",
       "    summary:                   This dataset contains eddy atlas from two-sate...\n",
       "    comment:                   Surface product; mesoscale eddies\n",
       "    input_product_reference:   https://www.aviso.altimetry.fr/en/data/product...\n",
       "    date_created:              2017-09-22T10:20:17Z\n",
       "    time_coverage_duration:    P8771D\n",
       "    time_coverage_start:       1993-01-01T00:00:00Z\n",
       "    time_coverage_end:         2017-01-06T00:00:00Z\n",
       "    standard_name_vocabulary:  NetCDF Climate and Forecast (CF) Metadata Conv...\n",
       "    product_version:           1.0</pre>"
      ],
      "text/plain": [
       "<xarray.Dataset>\n",
       "Dimensions:             (obs: 23086878)\n",
       "Dimensions without coordinates: obs\n",
       "Data variables:\n",
       "    amplitude           (obs) float32 ...\n",
       "    cyclonic_type       (obs) int8 ...\n",
       "    lat                 (obs) float32 ...\n",
       "    lon                 (obs) float32 ...\n",
       "    observation_number  (obs) uint16 ...\n",
       "    speed_average       (obs) float32 ...\n",
       "    speed_radius        (obs) float32 ...\n",
       "    time                (obs) object 1993-01-01 00:00:00 ... 2017-01-06 00:00:00\n",
       "    track               (obs) uint32 ...\n",
       "    time64              (obs) datetime64[ns] 1993-01-01 ... 2017-01-06\n",
       "Attributes:\n",
       "    Metadata_Conventions:      Unidata Dataset Discovery v1.0\n",
       "    title:                     Mesoscale Eddies in Altimeter Observations of SLA\n",
       "    institution:               CNES/CLS in collaboration with Oregon State Un...\n",
       "    project:                   SSALTO/DUACS\n",
       "    creator_url:               http://www.aviso.altimetry.fr\n",
       "    creator_email:             aviso@altimetry.fr\n",
       "    license:                   http://www.aviso.altimetry.fr/fileadmin/docume...\n",
       "    summary:                   This dataset contains eddy atlas from two-sate...\n",
       "    comment:                   Surface product; mesoscale eddies\n",
       "    input_product_reference:   https://www.aviso.altimetry.fr/en/data/product...\n",
       "    date_created:              2017-09-22T10:20:17Z\n",
       "    time_coverage_duration:    P8771D\n",
       "    time_coverage_start:       1993-01-01T00:00:00Z\n",
       "    time_coverage_end:         2017-01-06T00:00:00Z\n",
       "    standard_name_vocabulary:  NetCDF Climate and Forecast (CF) Metadata Conv...\n",
       "    product_version:           1.0"
      ]
     },
     "execution_count": 20,
     "metadata": {},
     "output_type": "execute_result"
    }
   ],
   "source": [
    "ds_eddy"
   ]
  },
  {
   "cell_type": "markdown",
   "metadata": {},
   "source": [
    "# create a array where True when any of eddy database matches with bird collocated eddy"
   ]
  },
  {
   "cell_type": "code",
   "execution_count": 21,
   "metadata": {},
   "outputs": [
    {
     "name": "stdout",
     "output_type": "stream",
     "text": [
      "<xarray.DataArray ()>\n",
      "array(102383., dtype=float32)\n",
      "Wall time: 1min 4s\n"
     ]
    },
    {
     "data": {
      "text/html": [
       "<pre>&lt;xarray.Dataset&gt;\n",
       "Dimensions:             (obs: 102383)\n",
       "Dimensions without coordinates: obs\n",
       "Data variables:\n",
       "    amplitude           (obs) float32 3.044 2.2428 3.2599 ... 4.5581 4.2677\n",
       "    cyclonic_type       (obs) float64 -1.0 -1.0 -1.0 -1.0 ... -1.0 -1.0 -1.0\n",
       "    lat                 (obs) float32 58.156 58.1531 58.0991 ... 52.7487 52.7628\n",
       "    lon                 (obs) float32 218.199 218.133 ... 194.587 194.577\n",
       "    observation_number  (obs) float64 0.0 1.0 2.0 3.0 ... 29.0 30.0 31.0 32.0\n",
       "    speed_average       (obs) float32 9.9275 8.9938 9.3274 ... 14.901 15.0704\n",
       "    speed_radius        (obs) float32 91.9516 90.5198 101.973 ... 54.629 50.3442\n",
       "    time                (obs) object 1993-01-01 00:00:00 ... 2016-10-31 00:00:00\n",
       "    track               (obs) float64 4.438e+03 4.438e+03 ... 2.712e+05\n",
       "    time64              (obs) datetime64[ns] 1993-01-01 ... 2016-10-31\n",
       "Attributes:\n",
       "    Metadata_Conventions:      Unidata Dataset Discovery v1.0\n",
       "    title:                     Mesoscale Eddies in Altimeter Observations of SLA\n",
       "    institution:               CNES/CLS in collaboration with Oregon State Un...\n",
       "    project:                   SSALTO/DUACS\n",
       "    creator_url:               http://www.aviso.altimetry.fr\n",
       "    creator_email:             aviso@altimetry.fr\n",
       "    license:                   http://www.aviso.altimetry.fr/fileadmin/docume...\n",
       "    summary:                   This dataset contains eddy atlas from two-sate...\n",
       "    comment:                   Surface product; mesoscale eddies\n",
       "    input_product_reference:   https://www.aviso.altimetry.fr/en/data/product...\n",
       "    date_created:              2017-09-22T10:20:17Z\n",
       "    time_coverage_duration:    P8771D\n",
       "    time_coverage_start:       1993-01-01T00:00:00Z\n",
       "    time_coverage_end:         2017-01-06T00:00:00Z\n",
       "    standard_name_vocabulary:  NetCDF Climate and Forecast (CF) Metadata Conv...\n",
       "    product_version:           1.0</pre>"
      ],
      "text/plain": [
       "<xarray.Dataset>\n",
       "Dimensions:             (obs: 102383)\n",
       "Dimensions without coordinates: obs\n",
       "Data variables:\n",
       "    amplitude           (obs) float32 3.044 2.2428 3.2599 ... 4.5581 4.2677\n",
       "    cyclonic_type       (obs) float64 -1.0 -1.0 -1.0 -1.0 ... -1.0 -1.0 -1.0\n",
       "    lat                 (obs) float32 58.156 58.1531 58.0991 ... 52.7487 52.7628\n",
       "    lon                 (obs) float32 218.199 218.133 ... 194.587 194.577\n",
       "    observation_number  (obs) float64 0.0 1.0 2.0 3.0 ... 29.0 30.0 31.0 32.0\n",
       "    speed_average       (obs) float32 9.9275 8.9938 9.3274 ... 14.901 15.0704\n",
       "    speed_radius        (obs) float32 91.9516 90.5198 101.973 ... 54.629 50.3442\n",
       "    time                (obs) object 1993-01-01 00:00:00 ... 2016-10-31 00:00:00\n",
       "    track               (obs) float64 4.438e+03 4.438e+03 ... 2.712e+05\n",
       "    time64              (obs) datetime64[ns] 1993-01-01 ... 2016-10-31\n",
       "Attributes:\n",
       "    Metadata_Conventions:      Unidata Dataset Discovery v1.0\n",
       "    title:                     Mesoscale Eddies in Altimeter Observations of SLA\n",
       "    institution:               CNES/CLS in collaboration with Oregon State Un...\n",
       "    project:                   SSALTO/DUACS\n",
       "    creator_url:               http://www.aviso.altimetry.fr\n",
       "    creator_email:             aviso@altimetry.fr\n",
       "    license:                   http://www.aviso.altimetry.fr/fileadmin/docume...\n",
       "    summary:                   This dataset contains eddy atlas from two-sate...\n",
       "    comment:                   Surface product; mesoscale eddies\n",
       "    input_product_reference:   https://www.aviso.altimetry.fr/en/data/product...\n",
       "    date_created:              2017-09-22T10:20:17Z\n",
       "    time_coverage_duration:    P8771D\n",
       "    time_coverage_start:       1993-01-01T00:00:00Z\n",
       "    time_coverage_end:         2017-01-06T00:00:00Z\n",
       "    standard_name_vocabulary:  NetCDF Climate and Forecast (CF) Metadata Conv...\n",
       "    product_version:           1.0"
      ]
     },
     "execution_count": 21,
     "metadata": {},
     "output_type": "execute_result"
    }
   ],
   "source": [
    "%%time\n",
    "ds2 = ds_bird.where(ds_bird.track>1,drop=True)\n",
    "all_tracks = np.unique(ds2.track.data)\n",
    "result = ds_eddy.amplitude*np.nan\n",
    "#result = [x for x in a if x in b]\n",
    "a = all_tracks\n",
    "b = ds_eddy.track.astype('int')\n",
    "for val in a:\n",
    "    result = xr.where(b==val,True,result) #,1,b) #,True,result)\n",
    "print(result.sum())\n",
    "ds_eddy = ds_eddy.where(result==True,drop=True)\n",
    "ds_eddy"
   ]
  },
  {
   "cell_type": "code",
   "execution_count": 22,
   "metadata": {},
   "outputs": [
    {
     "data": {
      "text/plain": [
       "<matplotlib.collections.PathCollection at 0x22882908288>"
      ]
     },
     "execution_count": 22,
     "metadata": {},
     "output_type": "execute_result"
    },
    {
     "data": {
      "image/png": "[encoded data removed]",
      "text/plain": [
       "<Figure size 432x288 with 1 Axes>"
      ]
     },
     "metadata": {
      "needs_background": "light"
     },
     "output_type": "display_data"
    }
   ],
   "source": [
    "plt.scatter(ds_eddy.lon,ds_eddy.lat)"
   ]
  },
  {
   "cell_type": "markdown",
   "metadata": {},
   "source": [
    "# Create xarray dataset structure to hold data"
   ]
  },
  {
   "cell_type": "code",
   "execution_count": 23,
   "metadata": {},
   "outputs": [
    {
     "name": "stdout",
     "output_type": "stream",
     "text": [
      "765 1830\n"
     ]
    },
    {
     "data": {
      "text/html": [
       "<pre>&lt;xarray.Dataset&gt;\n",
       "Dimensions:             (observation_number: 1830, track: 765)\n",
       "Coordinates:\n",
       "  * track               (track) int32 4438 4918 5213 ... 270829 270892 271234\n",
       "  * observation_number  (observation_number) int32 0 1 2 3 ... 1827 1828 1829\n",
       "Data variables:\n",
       "    amplitude           (track, observation_number) float32 nan nan ... nan nan\n",
       "    cyclonic_type       (track, observation_number) float64 nan nan ... nan nan\n",
       "    lat                 (track, observation_number) float32 nan nan ... nan nan\n",
       "    lon                 (track, observation_number) float32 nan nan ... nan nan\n",
       "    speed_average       (track, observation_number) float32 nan nan ... nan nan\n",
       "    speed_radius        (track, observation_number) float32 nan nan ... nan nan\n",
       "    time64              (track, observation_number) datetime64[ns] 1970-01-01 ... 1970-01-01</pre>"
      ],
      "text/plain": [
       "<xarray.Dataset>\n",
       "Dimensions:             (observation_number: 1830, track: 765)\n",
       "Coordinates:\n",
       "  * track               (track) int32 4438 4918 5213 ... 270829 270892 271234\n",
       "  * observation_number  (observation_number) int32 0 1 2 3 ... 1827 1828 1829\n",
       "Data variables:\n",
       "    amplitude           (track, observation_number) float32 nan nan ... nan nan\n",
       "    cyclonic_type       (track, observation_number) float64 nan nan ... nan nan\n",
       "    lat                 (track, observation_number) float32 nan nan ... nan nan\n",
       "    lon                 (track, observation_number) float32 nan nan ... nan nan\n",
       "    speed_average       (track, observation_number) float32 nan nan ... nan nan\n",
       "    speed_radius        (track, observation_number) float32 nan nan ... nan nan\n",
       "    time64              (track, observation_number) datetime64[ns] 1970-01-01 ... 1970-01-01"
      ]
     },
     "execution_count": 23,
     "metadata": {},
     "output_type": "execute_result"
    }
   ],
   "source": [
    "ds2 = ds_bird.where(ds_bird.track>1,drop=True)\n",
    "all_tracks = np.unique(ds2.track.data)\n",
    "ilen = len(all_tracks)\n",
    "inum_obs = int(ds_eddy.observation_number.max().data)+1\n",
    "iobs = np.arange(inum_obs)\n",
    "print(ilen,inum_obs)\n",
    "da=xr.DataArray(np.nan*np.empty((ilen,inum_obs), \n",
    "                                dtype=str(ds_eddy['amplitude'].dtype)), \n",
    "                coords={'track': all_tracks.astype('int'),'observation_number':np.arange(inum_obs)}, \n",
    "                dims=('track','observation_number'))\n",
    "ds_tem = xr.Dataset({'amplitude':da})\n",
    "for var in ds_eddy:\n",
    "    if (var!='observation_number') & (var!='track') & (var!='time') & (var!='time64') & (var!='amplitude'):\n",
    "        da=xr.DataArray(np.nan*np.empty((ilen,inum_obs), \n",
    "                                dtype=str(ds_eddy[var].dtype)), \n",
    "                coords={'track': all_tracks.astype('int'),'observation_number':np.arange(inum_obs)}, \n",
    "                dims=('track','observation_number'))\n",
    "\n",
    "        ds_tem[var]=da\n",
    "    if (var=='time64'):\n",
    "        da=xr.DataArray(np.empty((ilen,inum_obs), \n",
    "                                dtype=str(ds_eddy[var].dtype)), \n",
    "                coords={'track': all_tracks.astype('int'),'observation_number':np.arange(inum_obs)}, \n",
    "                dims=('track','observation_number'))\n",
    "\n",
    "        ds_tem[var]=da\n",
    "ds_tem"
   ]
  },
  {
   "cell_type": "markdown",
   "metadata": {},
   "source": [
    "# go through all unique eddies and save data into structure\n",
    "- save variable attributes\n",
    "- save global attributes"
   ]
  },
  {
   "cell_type": "code",
   "execution_count": 24,
   "metadata": {},
   "outputs": [],
   "source": [
    "for ii,idn in enumerate(ds_tem.track.data):\n",
    "    subset = ds_eddy.where(ds_eddy.track.astype('int')==idn,drop=True)\n",
    "    for var in subset:\n",
    "        if (var!='observation_number') & (var!='track') & (var!='time') & (var!='amplitude'):\n",
    "            ilen_obs = len(subset.obs)\n",
    "            ds_tem[var][ii,:ilen_obs]=subset[var][:].data\n",
    "            ds_tem[var].attrs=subset[var].attrs\n",
    "    if subset.observation_number[0].data>0:\n",
    "        print(ii,subset.observation_number[0])\n",
    "ds_tem.attrs = ds_eddy.attrs\n",
    "ds_tem.to_netcdf(filename_origin)"
   ]
  },
  {
   "cell_type": "code",
   "execution_count": 25,
   "metadata": {},
   "outputs": [
    {
     "data": {
      "text/html": [
       "<pre>&lt;xarray.Dataset&gt;\n",
       "Dimensions:             (observation_number: 1830, track: 765)\n",
       "Coordinates:\n",
       "  * track               (track) int32 4438 4918 5213 ... 270829 270892 271234\n",
       "  * observation_number  (observation_number) int32 0 1 2 3 ... 1827 1828 1829\n",
       "Data variables:\n",
       "    amplitude           (track, observation_number) float32 nan nan ... nan nan\n",
       "    cyclonic_type       (track, observation_number) float64 -1.0 -1.0 ... nan\n",
       "    lat                 (track, observation_number) float32 58.156 ... nan\n",
       "    lon                 (track, observation_number) float32 218.199 ... nan\n",
       "    speed_average       (track, observation_number) float32 9.9275 ... nan\n",
       "    speed_radius        (track, observation_number) float32 91.9516 ... nan\n",
       "    time64              (track, observation_number) datetime64[ns] 1993-01-01 ... 1970-01-01\n",
       "Attributes:\n",
       "    Metadata_Conventions:      Unidata Dataset Discovery v1.0\n",
       "    title:                     Mesoscale Eddies in Altimeter Observations of SLA\n",
       "    institution:               CNES/CLS in collaboration with Oregon State Un...\n",
       "    project:                   SSALTO/DUACS\n",
       "    creator_url:               http://www.aviso.altimetry.fr\n",
       "    creator_email:             aviso@altimetry.fr\n",
       "    license:                   http://www.aviso.altimetry.fr/fileadmin/docume...\n",
       "    summary:                   This dataset contains eddy atlas from two-sate...\n",
       "    comment:                   Surface product; mesoscale eddies\n",
       "    input_product_reference:   https://www.aviso.altimetry.fr/en/data/product...\n",
       "    date_created:              2017-09-22T10:20:17Z\n",
       "    time_coverage_duration:    P8771D\n",
       "    time_coverage_start:       1993-01-01T00:00:00Z\n",
       "    time_coverage_end:         2017-01-06T00:00:00Z\n",
       "    standard_name_vocabulary:  NetCDF Climate and Forecast (CF) Metadata Conv...\n",
       "    product_version:           1.0</pre>"
      ],
      "text/plain": [
       "<xarray.Dataset>\n",
       "Dimensions:             (observation_number: 1830, track: 765)\n",
       "Coordinates:\n",
       "  * track               (track) int32 4438 4918 5213 ... 270829 270892 271234\n",
       "  * observation_number  (observation_number) int32 0 1 2 3 ... 1827 1828 1829\n",
       "Data variables:\n",
       "    amplitude           (track, observation_number) float32 nan nan ... nan nan\n",
       "    cyclonic_type       (track, observation_number) float64 -1.0 -1.0 ... nan\n",
       "    lat                 (track, observation_number) float32 58.156 ... nan\n",
       "    lon                 (track, observation_number) float32 218.199 ... nan\n",
       "    speed_average       (track, observation_number) float32 9.9275 ... nan\n",
       "    speed_radius        (track, observation_number) float32 91.9516 ... nan\n",
       "    time64              (track, observation_number) datetime64[ns] 1993-01-01 ... 1970-01-01\n",
       "Attributes:\n",
       "    Metadata_Conventions:      Unidata Dataset Discovery v1.0\n",
       "    title:                     Mesoscale Eddies in Altimeter Observations of SLA\n",
       "    institution:               CNES/CLS in collaboration with Oregon State Un...\n",
       "    project:                   SSALTO/DUACS\n",
       "    creator_url:               http://www.aviso.altimetry.fr\n",
       "    creator_email:             aviso@altimetry.fr\n",
       "    license:                   http://www.aviso.altimetry.fr/fileadmin/docume...\n",
       "    summary:                   This dataset contains eddy atlas from two-sate...\n",
       "    comment:                   Surface product; mesoscale eddies\n",
       "    input_product_reference:   https://www.aviso.altimetry.fr/en/data/product...\n",
       "    date_created:              2017-09-22T10:20:17Z\n",
       "    time_coverage_duration:    P8771D\n",
       "    time_coverage_start:       1993-01-01T00:00:00Z\n",
       "    time_coverage_end:         2017-01-06T00:00:00Z\n",
       "    standard_name_vocabulary:  NetCDF Climate and Forecast (CF) Metadata Conv...\n",
       "    product_version:           1.0"
      ]
     },
     "execution_count": 25,
     "metadata": {},
     "output_type": "execute_result"
    }
   ],
   "source": [
    "ds_tem"
   ]
  },
  {
   "cell_type": "code",
   "execution_count": null,
   "metadata": {},
   "outputs": [],
   "source": []
  }
 ],
 "metadata": {
  "kernelspec": {
   "display_name": "Python 3",
   "language": "python",
   "name": "python3"
  },
  "language_info": {
   "codemirror_mode": {
    "name": "ipython",
    "version": 3
   },
   "file_extension": ".py",
   "mimetype": "text/x-python",
   "name": "python",
   "nbconvert_exporter": "python",
   "pygments_lexer": "ipython3",
   "version": "3.7.6"
  }
 },
 "nbformat": 4,
 "nbformat_minor": 2
}
