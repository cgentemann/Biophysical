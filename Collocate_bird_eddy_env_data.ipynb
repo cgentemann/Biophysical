{
 "cells": [
  {
   "cell_type": "code",
   "execution_count": 1,
   "metadata": {},
   "outputs": [],
   "source": [
    "import matplotlib.pyplot as plt\n",
    "import numpy as np\n",
    "import xarray as xr\n",
    "import pandas as pd\n",
    "import warnings\n",
    "# filter some warning messages\n",
    "warnings.filterwarnings(\"ignore\") \n",
    "\n",
    "####################you will need to change some paths here!#####################\n",
    "#list of input files\n",
    "filename_origin='f:/data/project_data/NASA_biophysical/collocated_data/NPPSD_GOA_allseabird_full_eddy_info.nc'\n",
    "# output files\n",
    "filename_origin_out='f:/data/project_data/NASA_biophysical/collocated_data/NPPSD_GOA_allseabird_full_eddy_info_envdata.nc'\n"
   ]
  },
  {
   "cell_type": "code",
   "execution_count": 2,
   "metadata": {},
   "outputs": [
    {
     "data": {
      "text/html": [
       "<pre>&lt;xarray.Dataset&gt;\n",
       "Dimensions:             (observation_number: 1830, track: 765)\n",
       "Coordinates:\n",
       "  * track               (track) int32 4438 4918 5213 ... 270829 270892 271234\n",
       "  * observation_number  (observation_number) int32 0 1 2 3 ... 1827 1828 1829\n",
       "Data variables:\n",
       "    amplitude           (track, observation_number) float32 ...\n",
       "    cyclonic_type       (track, observation_number) float64 ...\n",
       "    lat                 (track, observation_number) float32 ...\n",
       "    lon                 (track, observation_number) float32 ...\n",
       "    speed_average       (track, observation_number) float32 ...\n",
       "    speed_radius        (track, observation_number) float32 ...\n",
       "Attributes:\n",
       "    Metadata_Conventions:      Unidata Dataset Discovery v1.0\n",
       "    title:                     Mesoscale Eddies in Altimeter Observations of SLA\n",
       "    institution:               CNES/CLS in collaboration with Oregon State Un...\n",
       "    project:                   SSALTO/DUACS\n",
       "    creator_url:               http://www.aviso.altimetry.fr\n",
       "    creator_email:             aviso@altimetry.fr\n",
       "    license:                   http://www.aviso.altimetry.fr/fileadmin/docume...\n",
       "    summary:                   This dataset contains eddy atlas from two-sate...\n",
       "    comment:                   Surface product; mesoscale eddies\n",
       "    input_product_reference:   https://www.aviso.altimetry.fr/en/data/product...\n",
       "    date_created:              2017-09-22T10:20:17Z\n",
       "    time_coverage_duration:    P8771D\n",
       "    time_coverage_start:       1993-01-01T00:00:00Z\n",
       "    time_coverage_end:         2017-01-06T00:00:00Z\n",
       "    standard_name_vocabulary:  NetCDF Climate and Forecast (CF) Metadata Conv...\n",
       "    product_version:           1.0</pre>"
      ],
      "text/plain": [
       "<xarray.Dataset>\n",
       "Dimensions:             (observation_number: 1830, track: 765)\n",
       "Coordinates:\n",
       "  * track               (track) int32 4438 4918 5213 ... 270829 270892 271234\n",
       "  * observation_number  (observation_number) int32 0 1 2 3 ... 1827 1828 1829\n",
       "Data variables:\n",
       "    amplitude           (track, observation_number) float32 ...\n",
       "    cyclonic_type       (track, observation_number) float64 ...\n",
       "    lat                 (track, observation_number) float32 ...\n",
       "    lon                 (track, observation_number) float32 ...\n",
       "    speed_average       (track, observation_number) float32 ...\n",
       "    speed_radius        (track, observation_number) float32 ...\n",
       "Attributes:\n",
       "    Metadata_Conventions:      Unidata Dataset Discovery v1.0\n",
       "    title:                     Mesoscale Eddies in Altimeter Observations of SLA\n",
       "    institution:               CNES/CLS in collaboration with Oregon State Un...\n",
       "    project:                   SSALTO/DUACS\n",
       "    creator_url:               http://www.aviso.altimetry.fr\n",
       "    creator_email:             aviso@altimetry.fr\n",
       "    license:                   http://www.aviso.altimetry.fr/fileadmin/docume...\n",
       "    summary:                   This dataset contains eddy atlas from two-sate...\n",
       "    comment:                   Surface product; mesoscale eddies\n",
       "    input_product_reference:   https://www.aviso.altimetry.fr/en/data/product...\n",
       "    date_created:              2017-09-22T10:20:17Z\n",
       "    time_coverage_duration:    P8771D\n",
       "    time_coverage_start:       1993-01-01T00:00:00Z\n",
       "    time_coverage_end:         2017-01-06T00:00:00Z\n",
       "    standard_name_vocabulary:  NetCDF Climate and Forecast (CF) Metadata Conv...\n",
       "    product_version:           1.0"
      ]
     },
     "execution_count": 2,
     "metadata": {},
     "output_type": "execute_result"
    }
   ],
   "source": [
    "ds_bird = xr.open_dataset(filename_origin)\n",
    "ds_bird"
   ]
  },
  {
   "cell_type": "code",
   "execution_count": 3,
   "metadata": {},
   "outputs": [],
   "source": [
    "def get_data():\n",
    "    \n",
    "    #climatology years\n",
    "    cyr1,cyr2='1993-01-01','2018-12-31'\n",
    "    \n",
    "    # CCMP test\n",
    "    dir_pattern_zarr = 'F:/data/sat_data/ccmp/zarr/'\n",
    "    ds= xr.open_zarr(dir_pattern_zarr)\n",
    "    ds = ds.rename({'latitude':'lat','longitude':'lon'})\n",
    "    ds.coords['lon'] = (ds.coords['lon'] + 180) % 360 - 180\n",
    "    ds_ccmp = ds.sortby(ds.lon)\n",
    "    ds_ccmp = ds_ccmp.drop('nobs')\n",
    "    for var in ds_ccmp:\n",
    "        tem = ds_ccmp[var].attrs\n",
    "        tem['var_name']='ccmp_'+str(var)\n",
    "        ds_ccmp[var].attrs=tem\n",
    "    ds_ccmp_clim = ds_ccmp.sel(time=slice(cyr1,cyr2))\n",
    "    ds_ccmp_clim = ds_ccmp_clim.groupby('time.dayofyear').mean('time',keep_attrs=True,skipna=False)\n",
    "    \n",
    "    # AVISO test\n",
    "    dir_pattern_zarr = 'F:/data/sat_data/aviso/zarr/'\n",
    "    ds= xr.open_zarr(dir_pattern_zarr)\n",
    "    ds = ds.rename({'latitude':'lat','longitude':'lon'})\n",
    "    ds.coords['lon'] = (ds.coords['lon'] + 180) % 360 - 180\n",
    "    ds_aviso = ds.sortby(ds.lon).drop({'lat_bnds','lon_bnds','crs','err'})\n",
    "    for var in ds_aviso:\n",
    "        tem = ds_aviso[var].attrs\n",
    "        tem['var_name']='aviso_'+str(var)\n",
    "        ds_aviso[var].attrs=tem\n",
    "    ds_aviso_clim = ds_aviso.sel(time=slice(cyr1,cyr2))\n",
    "    ds_aviso_clim = ds_aviso_clim.groupby('time.dayofyear').mean('time',keep_attrs=True,skipna=False)    \n",
    "\n",
    "    #sst\n",
    "    dir_pattern_zarr = 'F:/data/sat_data/sst/cmc/zarr/'\n",
    "    ds_sst= xr.open_zarr(dir_pattern_zarr)\n",
    "    ds_sst = ds_sst.drop({'analysis_error','mask','sea_ice_fraction'})\n",
    "    tem = ds_sst.analysed_sst.attrs\n",
    "    tem['var_name']='cmc_sst'\n",
    "    ds_sst.analysed_sst.attrs=tem\n",
    "    ds_sst_clim = ds_sst.sel(time=slice(cyr1,cyr2))\n",
    "    ds_sst_clim = ds_sst_clim.groupby('time.dayofyear').mean('time',keep_attrs=True,skipna=False)\n",
    "    \n",
    "    #get bathymetry from ETOPO1\n",
    "    fname_topo = 'F:/data/topo/ETOPO1_Ice_g_gmt4.grd'\n",
    "    ds = xr.open_dataset(fname_topo)\n",
    "    ds_topo = ds.rename_dims({'x':'lon','y':'lat'}).rename({'x':'lon','y':'lat'})\n",
    "    tem = ds_topo.z.attrs\n",
    "    tem['var_name']='etopo_depth'\n",
    "    ds_topo.z.attrs=tem\n",
    "\n",
    "    #put data into a dictionary\n",
    "    data_dict={'aviso':ds_aviso,\n",
    "               'wnd':ds_ccmp,\n",
    "               'sst':ds_sst,\n",
    "              'topo':ds_topo}\n",
    "    clim_dict={'aviso_clim':ds_aviso_clim,\n",
    "               'wnd_clim':ds_ccmp_clim,\n",
    "               'sst_clim':ds_sst_clim}\n",
    "  \n",
    "    return data_dict,clim_dict\n",
    "\n",
    "data,clim = get_data()"
   ]
  },
  {
   "cell_type": "code",
   "execution_count": 4,
   "metadata": {},
   "outputs": [
    {
     "ename": "NameError",
     "evalue": "name 'input_data' is not defined",
     "output_type": "error",
     "traceback": [
      "\u001b[1;31m---------------------------------------------------------------------------\u001b[0m",
      "\u001b[1;31mNameError\u001b[0m                                 Traceback (most recent call last)",
      "\u001b[1;32m<ipython-input-4-3524e852cee1>\u001b[0m in \u001b[0;36m<module>\u001b[1;34m\u001b[0m\n\u001b[0;32m      6\u001b[0m     \u001b[1;32mif\u001b[0m \u001b[0mname\u001b[0m\u001b[1;33m==\u001b[0m\u001b[1;34m'topo'\u001b[0m\u001b[1;33m:\u001b[0m\u001b[1;33m\u001b[0m\u001b[1;33m\u001b[0m\u001b[0m\n\u001b[0;32m      7\u001b[0m         \u001b[1;32mcontinue\u001b[0m\u001b[1;33m\u001b[0m\u001b[1;33m\u001b[0m\u001b[0m\n\u001b[1;32m----> 8\u001b[1;33m     \u001b[1;32mif\u001b[0m \u001b[1;32mnot\u001b[0m \u001b[0mname\u001b[0m\u001b[1;33m==\u001b[0m\u001b[0minput_data\u001b[0m\u001b[1;33m:\u001b[0m\u001b[1;33m\u001b[0m\u001b[1;33m\u001b[0m\u001b[0m\n\u001b[0m\u001b[0;32m      9\u001b[0m         \u001b[1;32mcontinue\u001b[0m\u001b[1;33m\u001b[0m\u001b[1;33m\u001b[0m\u001b[0m\n\u001b[0;32m     10\u001b[0m     \u001b[0mprint\u001b[0m\u001b[1;33m(\u001b[0m\u001b[1;34m'name'\u001b[0m\u001b[1;33m,\u001b[0m\u001b[0mname\u001b[0m\u001b[1;33m)\u001b[0m\u001b[1;33m\u001b[0m\u001b[1;33m\u001b[0m\u001b[0m\n",
      "\u001b[1;31mNameError\u001b[0m: name 'input_data' is not defined"
     ]
    }
   ],
   "source": [
    "#ds_bird = xr.open_dataset(filename_bird_out_eddy_netcdf)\n",
    "ilen_bird1 = len(ds_bird.track)\n",
    "ilen_bird2 = len(ds_bird.observation_number)\n",
    "for name in data:\n",
    "    ds_data=data[name]\n",
    "    if name=='topo':\n",
    "        continue\n",
    "    if not name==input_data:\n",
    "        continue\n",
    "    print('name',name)   \n",
    "    for var in ds_data:\n",
    "        var_tem=ds_data[var].attrs['var_name']\n",
    "        ds_bird[var_tem]=xr.DataArray(np.nan*np.empty((ilen_bird1,ilen_bird2), \n",
    "                                                      dtype=str(ds_data[var].dtype)), \n",
    "                                      coords={'track': ds_bird.track,'observation_number':'ds_bird.observation_number'},\n",
    "                                      dims=('track','observation_number'))\n",
    "        ds_bird[var_tem].attrs=ds_data[var].attrs\n",
    "    print('var',var_tem)\n",
    "    for i in range(ilen_bird1):\n",
    "        for j in range(ilen_bird2):\n",
    "            if np.isnan(ds_bird.lat[i,j]):\n",
    "                continue\n",
    "            if ds_bird.time[i,j]<ds_data.time.min():\n",
    "                continue\n",
    "            if ds_bird.time[i,j]>ds_data.time.max():\n",
    "                continue\n",
    "            t1,t2 = ds_bird.time[i,j]-np.timedelta64(24,'h'), ds_bird.time[i,j]+np.timedelta64(24,'h')\n",
    "            lat1,lat2=ds_bird.lat[i,j]-.5,ds_bird.lat[i,j]+.5\n",
    "            lon1,lon2=ds_bird.lon[i,j]-.5,ds_bird.lon[i,j]+.5\n",
    "            tem = ds_data.sel(time=slice(t1,t2),lat=slice(lat1,lat2),lon=slice(lon1,lon2)).load()\n",
    "            tem = tem.interp(time=ds_bird.time[i,j],lat=ds_bird.lat[i,j],lon=ds_bird.lon[i,j])\n",
    "            for var in ds_data:\n",
    "                var_tem=ds_data[var].attrs['var_name']\n",
    "                ds_bird[var_tem][i,j]=tem[var].data\n",
    "        print(i)\n",
    "        #at topo info\n"
   ]
  },
  {
   "cell_type": "code",
   "execution_count": null,
   "metadata": {},
   "outputs": [],
   "source": [
    "#interp will create a new 2D array, to avoid that put the lat/lon into dataarrays\n",
    "ds_topo=data['topo']\n",
    "new_lat = xr.DataArray(ds_bird.lat.data, dims='z')\n",
    "new_lon = xr.DataArray(ds_bird.lon.data, dims='z')\n",
    "tem = ds_topo.z.interp(lat=new_lat, lon=new_lon,method='nearest')\n",
    "ds_bird['ETOPO_depth'] = xr.DataArray(tem.data, coords={'track': ds_bird.track,'observation_number':'ds_bird.observation_number'},\n",
    "                                      dims=('track','observation_number'))\n",
    "#ds_bird = ds_bird.drop('obs')"
   ]
  },
  {
   "cell_type": "markdown",
   "metadata": {},
   "source": [
    "# collocate color"
   ]
  },
  {
   "cell_type": "code",
   "execution_count": null,
   "metadata": {},
   "outputs": [],
   "source": [
    "ds_color = xr.open_dataset('https://rsg.pml.ac.uk/thredds/dodsC/CCI_ALL-v4.2-DAILY')\n",
    "for var in ds_color:\n",
    "    if not var=='chlor_a':\n",
    "        ds_color = ds_color.drop(var)\n",
    "ds_color"
   ]
  },
  {
   "cell_type": "code",
   "execution_count": null,
   "metadata": {},
   "outputs": [],
   "source": [
    "ilen_bird = len(ds_bird.lat)\n",
    "ds_data = ds_color\n",
    "for var in ds_data:\n",
    "    var_tem=var\n",
    "    ds_bird[var_tem]=xr.DataArray(np.nan*np.empty(ilen_bird, dtype=str(ds_data[var].dtype)), coords={'index': ds_bird.index}, dims=('index'))\n",
    "    ds_bird[var_tem].attrs=ds_data[var].attrs\n",
    "print('var',var_tem)\n",
    "for i in range(ilen_bird):\n",
    "    t1,t2 = ds_bird.time64[i]-np.timedelta64(5,'D'), ds_bird.time64[i]+np.timedelta64(5,'D')\n",
    "    lat1,lat2=ds_bird.lat[i]+.1,ds_bird.lat[i]-.1\n",
    "    lon1,lon2=ds_bird.lon[i]-.1,ds_bird.lon[i]+.1\n",
    "    tem = ds_data.sel(time=slice(t1,t2),lat=slice(lat1,lat2),lon=slice(lon1,lon2)).load()\n",
    "    if len(tem)<1:\n",
    "        continue\n",
    "    tem = tem.mean(keep_attrs=True)\n",
    "    for var in ds_data:\n",
    "        var_tem=var\n",
    "        ds_bird[var_tem][i]=tem[var].data\n",
    "    if int(i/100)*100==i:\n",
    "        print(i,len(ds_bird.lat))"
   ]
  },
  {
   "cell_type": "code",
   "execution_count": null,
   "metadata": {},
   "outputs": [],
   "source": [
    "#output data\n",
    "df_bird = ds_bird.to_dataframe()\n",
    "df_bird.to_csv(filename_bird_out+input_data+'.csv')\n",
    "ds_bird.to_netcdf(filename_bird_out_netcdf+input_data+'.nc')\n",
    "\n"
   ]
  },
  {
   "cell_type": "code",
   "execution_count": null,
   "metadata": {},
   "outputs": [],
   "source": []
  }
 ],
 "metadata": {
  "kernelspec": {
   "display_name": "Python 3",
   "language": "python",
   "name": "python3"
  },
  "language_info": {
   "codemirror_mode": {
    "name": "ipython",
    "version": 3
   },
   "file_extension": ".py",
   "mimetype": "text/x-python",
   "name": "python",
   "nbconvert_exporter": "python",
   "pygments_lexer": "ipython3",
   "version": "3.7.6"
  }
 },
 "nbformat": 4,
 "nbformat_minor": 4
}
