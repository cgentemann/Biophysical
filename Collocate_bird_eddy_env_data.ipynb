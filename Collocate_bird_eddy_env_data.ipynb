{
 "cells": [
  {
   "cell_type": "code",
   "execution_count": 2,
   "metadata": {},
   "outputs": [],
   "source": [
    "import matplotlib.pyplot as plt\n",
    "import numpy as np\n",
    "import xarray as xr\n",
    "import pandas as pd\n",
    "import warnings\n",
    "# filter some warning messages\n",
    "warnings.filterwarnings(\"ignore\") \n",
    "\n",
    "#some of the data is on pangeo gcp, some on AWS\n",
    "import sys\n",
    "\n",
    "icloud = 0  #0 is local 1 is on pangeo\n",
    "\n",
    "if icloud==1:\n",
    "    import intake\n",
    "    import dask\n",
    "    import dask.array as dsa\n",
    "    import gcsfs\n",
    "    import fsspec\n",
    "    adir = './../data/' \n",
    "    sys.path.append('/home/jovyan/cloud_science/subroutines/')  #where your\n",
    "    from get_data_pangeo import get_data\n",
    "else: \n",
    "    adir = 'f:/data/project_data/NASA_biophysical/collocated_data/'\n",
    "    sys.path.append('./../cloud_science/subroutines/')  #where your\n",
    "    from get_data_local import get_data\n",
    "    \n",
    "#list of input files\n",
    "filename_origin=adir + 'NPPSD_GOA_allseabird_full_eddy_info.nc'\n",
    "# output files\n",
    "filename_origin_out=adir + 'NPPSD_GOA_allseabird_full_eddy_info_envdata'"
   ]
  },
  {
   "cell_type": "code",
   "execution_count": null,
   "metadata": {},
   "outputs": [],
   "source": [
    "if icloud == 1:\n",
    "    #libs for dask gateway\n",
    "    from dask_gateway import Gateway\n",
    "    from dask.distributed import Client\n",
    "    gateway = Gateway()\n",
    "    cluster = gateway.new_cluster()\n",
    "    #cluster.adapt(minimum=1, maximum=200)\n",
    "    cluster.scale(50)\n",
    "    client = Client(cluster)\n",
    "    cluster"
   ]
  },
  {
   "cell_type": "code",
   "execution_count": 12,
   "metadata": {},
   "outputs": [
    {
     "name": "stdout",
     "output_type": "stream",
     "text": [
      "fine\n"
     ]
    }
   ],
   "source": [
    "ctype = 'CPR'\n",
    "ds_bird = xr.open_dataset(filename_origin)\n",
    "ds_bird['time'] = ds_bird.time64 if ctype=='goa' else print('fine')\n",
    "#p = [q.index(v) if v in q else 99999 for v in vm]\n",
    "#if not ctype=='CPR' \n",
    "#ds_bird['lon'] = (ds_bird['lon'] + 180) % 360 - 180"
   ]
  },
  {
   "cell_type": "code",
   "execution_count": 6,
   "metadata": {},
   "outputs": [
    {
     "data": {
      "text/plain": [
       "[<matplotlib.lines.Line2D at 0x192408c0d08>]"
      ]
     },
     "execution_count": 6,
     "metadata": {},
     "output_type": "execute_result"
    },
    {
     "data": {
      "image/png": "[encoded data removed]",
      "text/plain": [
       "<Figure size 432x288 with 1 Axes>"
      ]
     },
     "metadata": {
      "needs_background": "light"
     },
     "output_type": "display_data"
    }
   ],
   "source": [
    "plt.plot(ds_bird.lon[0,:],ds_bird.lat[0,:])"
   ]
  },
  {
   "cell_type": "code",
   "execution_count": null,
   "metadata": {},
   "outputs": [],
   "source": [
    "ilen_bird1 = len(ds_bird.track)\n",
    "ilen_bird2 = len(ds_bird.observation_number)\n",
    "for name in data:\n",
    "    ds_data=data[name]\n",
    "    print('data',name)\n",
    "    if (name=='aviso'): # or (name=='wnd') or (name=='color') or:\n",
    "       continue\n",
    "    for var in ds_data:\n",
    "        var_tem=var\n",
    "        ds_bird[var_tem]=xr.DataArray(np.nan*np.empty((ilen_bird1,ilen_bird2), \n",
    "                                                      dtype=str(ds_data[var].dtype)), \n",
    "                                      coords={'track': ds_bird.track,'observation_number':ds_bird.observation_number},\n",
    "                                      dims=('track','observation_number'))\n",
    "        ds_bird[var_tem].attrs=ds_data[var].attrs\n",
    "    if name=='topo':\n",
    "        temlat,temlon = ds_bird.lat.fillna(0),ds_bird.lon.fillna(0)\n",
    "        tem2=ds_data.etopo_depth.interp(lat=temlat,lon=temlon,method='nearest') \n",
    "        ds['etopo_depth']=xr.DataArray(tem2.data, coords={'track': ds_bird.track}, dims=('track'))\n",
    "        ds['etopo_depth'].attrs = ds_data.attrs\n",
    "    else:\n",
    "        dtvar = np.timedelta64(9,'h') if name=='sst' else np.timedelta64(0,'h')   # if MUR SST need to change to 9am\n",
    "        tem = ds_data.interp(time=ds_bird.time64+dtvar,lat=ds_bird.lat,lon=ds_bird.lon)\n",
    "        tem = tem.load()\n",
    "        for var in ds_data:\n",
    "            var_tem=var\n",
    "            ds_bird[var_tem][:,:]=tem[var].data\n",
    "    #output data\n",
    "    ds_bird.to_netcdf(filename_origin_out+name+'.nc')\n",
    "    print('output:',filename_origin_out+name+'.nc')"
   ]
  },
  {
   "cell_type": "code",
   "execution_count": null,
   "metadata": {},
   "outputs": [],
   "source": [
    "##color\n",
    "input_data = 'color'\n",
    "ilen_bird1 = len(ds_bird.track)\n",
    "ilen_bird2 = len(ds_bird.observation_number)\n",
    "for name in data:\n",
    "    ds_data=data[name]\n",
    "    if not name==input_data:\n",
    "        continue\n",
    "    print('name',name)   \n",
    "    for var in ds_data:\n",
    "        var_tem=var #ds_data[var].attrs['var_name']\n",
    "        ds_bird[var_tem]=xr.DataArray(np.nan*np.empty((ilen_bird1,ilen_bird2), \n",
    "                                                      dtype=str(ds_data[var].dtype)), \n",
    "                                      coords={'track': ds_bird.track,'observation_number':ds_bird.observation_number},\n",
    "                                      dims=('track','observation_number'))\n",
    "        ds_bird[var_tem].attrs=ds_data[var].attrs\n",
    "    print('var',var_tem)\n",
    "    for i in range(ilen_bird1):\n",
    "        for j in range(10):#ilen_bird2):\n",
    "            if np.isnan(ds_bird.lat[i,j]):\n",
    "                continue\n",
    "            if ds_bird.time[i,j]<ds_data.time.min():\n",
    "                continue\n",
    "            if ds_bird.time[i,j]>ds_data.time.max():\n",
    "                continue\n",
    "            t1,t2 = ds_bird.time[i,j]-np.timedelta64(4,'D'), ds_bird.time[i,j]+np.timedelta64(4,'D')\n",
    "            lat1,lat2=ds_bird.lat[i,j]+.5,ds_bird.lat[i,j]-.5\n",
    "            lon1,lon2=ds_bird.lon[i,j]-.5,ds_bird.lon[i,j]+.5\n",
    "#            tem = ds_data.sel(time=str(ds_bird.time[i,j].data)[0:10],method='nearest')\n",
    "            tem = ds_data.sel(time=slice(t1,t2)).mean(dim='time',keep_attrs=True,skip_nan=True)\n",
    "            tem = tem.sel(lat=slice(lat1,lat2),lon=slice(lon1,lon2)).load()\n",
    "            tem = tem.interp(lat=ds_bird.lat[i,j],lon=ds_bird.lon[i,j])\n",
    "            for var in ds_data:\n",
    "                var_tem=var #ds_data[var].attrs['var_name']\n",
    "                ds_bird[var_tem][i,j]=tem[var].data\n",
    "        print(i,ilen_bird1)\n",
    "    #df_bird = ds_bird.to_dataframe()\n",
    "    ds_bird.to_netcdf(filename_origin_out+name+'.nc')\n",
    "    print('output:',filename_origin_out+name+'.nc')"
   ]
  },
  {
   "cell_type": "code",
   "execution_count": null,
   "metadata": {},
   "outputs": [],
   "source": []
  },
  {
   "cell_type": "code",
   "execution_count": null,
   "metadata": {},
   "outputs": [],
   "source": [
    "import glob \n",
    "#put it all together and create a csv file\n",
    "print(filename_origin_out)\n",
    "#filename = glob.glob('f:/data/project_data/NASA_biophysical/collocated_data/'+filename_origin_out+'*.nc')\n",
    "filename = glob.glob('f:/data/project_data/NASA_biophysical/collocated_data/NPPSD_GOA_allseabird_full_eddy_info_envdata*.nc')\n",
    "filename = filename[1:]\n",
    "filename\n"
   ]
  },
  {
   "cell_type": "code",
   "execution_count": null,
   "metadata": {},
   "outputs": [],
   "source": [
    "print(filename[0])\n",
    "ds = xr.open_dataset(filename[0])\n",
    "for iname in range(1,len(filename)):\n",
    "    print(filename[iname])\n",
    "    ds2 = xr.open_dataset(filename[iname])\n",
    "    for var in ds2:\n",
    "        if not var in ds:\n",
    "            ds[var]=ds2[var]\n",
    "                \n",
    "ds.to_netcdf(filename_origin_out+'all'+'.nc')\n",
    "df_bird = ds.to_dataframe()\n",
    "df_bird.to_csv(filename_origin_out+'all'+'.csv')\n"
   ]
  },
  {
   "cell_type": "code",
   "execution_count": null,
   "metadata": {},
   "outputs": [],
   "source": []
  },
  {
   "cell_type": "code",
   "execution_count": null,
   "metadata": {},
   "outputs": [],
   "source": []
  },
  {
   "cell_type": "code",
   "execution_count": null,
   "metadata": {},
   "outputs": [],
   "source": [
    "\n",
    "#point by point collocaiton OLD\n",
    "ilen_bird1 = len(ds_bird.track)\n",
    "ilen_bird2 = len(ds_bird.observation_number)\n",
    "for name in data:\n",
    "    ds_data=data[name]\n",
    "    if name=='topo':\n",
    "        continue\n",
    "    if name=='color':\n",
    "        continue\n",
    "    #if not name==input_data:\n",
    "    #    continue\n",
    "    print('name',name)   \n",
    "    for var in ds_data:\n",
    "        var_tem=var #ds_data[var].attrs['var_name']\n",
    "        ds_bird[var_tem]=xr.DataArray(np.nan*np.empty((ilen_bird1,ilen_bird2), \n",
    "                                                      dtype=str(ds_data[var].dtype)), \n",
    "                                      coords={'track': ds_bird.track,'observation_number':ds_bird.observation_number},\n",
    "                                      dims=('track','observation_number'))\n",
    "        ds_bird[var_tem].attrs=ds_data[var].attrs\n",
    "    print('var',var_tem)\n",
    "    for i in range(ilen_bird1):\n",
    "        for j in range(10):#ilen_bird2):\n",
    "            if np.isnan(ds_bird.lat[i,j]):\n",
    "                continue\n",
    "            if ds_bird.time[i,j]<ds_data.time.min():\n",
    "                continue\n",
    "            if ds_bird.time[i,j]>ds_data.time.max():\n",
    "                continue\n",
    "            t1,t2 = ds_bird.time[i,j]-np.timedelta64(24,'h'), ds_bird.time[i,j]+np.timedelta64(24,'h')\n",
    "            lat1,lat2=ds_bird.lat[i,j]-.5,ds_bird.lat[i,j]+.5\n",
    "            lon1,lon2=ds_bird.lon[i,j]-.5,ds_bird.lon[i,j]+.5\n",
    "            tem = ds_data.sel(time=slice(t1,t2),lat=slice(lat1,lat2),lon=slice(lon1,lon2)).load()\n",
    "            tem = tem.interp(time=ds_bird.time[i,j],lat=ds_bird.lat[i,j],lon=ds_bird.lon[i,j])\n",
    "            for var in ds_data:\n",
    "                var_tem=ds_data[var].attrs['var_name']\n",
    "                ds_bird[var_tem][i,j]=tem[var].data\n",
    "        print(i,ilen_bird1)\n",
    "    #df_bird = ds_bird.to_dataframe()\n",
    "    ds_bird.to_netcdf(filename_origin_out+name+'.nc')\n",
    "ds_bird.to_netcdf(filename_origin_out+'all'+'.nc')\n"
   ]
  },
  {
   "cell_type": "code",
   "execution_count": null,
   "metadata": {},
   "outputs": [],
   "source": [
    "\n"
   ]
  },
  {
   "cell_type": "markdown",
   "metadata": {},
   "source": [
    "# trying to do topo \n",
    "- but lots of nan becuase of array construct"
   ]
  },
  {
   "cell_type": "code",
   "execution_count": null,
   "metadata": {},
   "outputs": [],
   "source": [
    "ds_topo=data['topo']\n",
    "new_lat = xr.DataArray(ds_bird.lat.values, dims=('new_dim1','new_dims2')).fillna(0)\n",
    "new_lon = xr.DataArray(ds_bird.lon.values, dims=('new_dim1','new_dims2')).fillna(0)\n",
    "tem2 = ds_topo.z.interp(lat=new_lat, lon=new_lon,method='nearest')\n",
    "ds_bird['ETOPO_depth'] = xr.DataArray(tem2.data, \n",
    "                                      coords={'track': ds_bird.track,'observation_number':ds_bird.observation_number},\n",
    "                                      dims=('track','observation_number'))\n",
    "ds_bird['ETOPO_depth']=np.where(np.isnan(ds_bird.lat),np.nan,ds_bird['ETOPO_depth'])\n"
   ]
  },
  {
   "cell_type": "code",
   "execution_count": null,
   "metadata": {},
   "outputs": [],
   "source": [
    "ds_bird"
   ]
  },
  {
   "cell_type": "code",
   "execution_count": null,
   "metadata": {},
   "outputs": [],
   "source": [
    "##topo\n",
    "ds_topo=data['topo']\n",
    "temlat = ds_bird.lat\n",
    "temlon = ds_bird.lon\n",
    "temlat = temlat.fillna(0)\n",
    "temlon = temlon.fillna(0)\n",
    "tem2=ds_topo.z.interp(lat=temlat,lon=temlon,method='nearest') \n",
    "#ds_bird['ETOPO_depth']"
   ]
  },
  {
   "cell_type": "code",
   "execution_count": null,
   "metadata": {},
   "outputs": [],
   "source": []
  }
 ],
 "metadata": {
  "kernelspec": {
   "display_name": "Python 3",
   "language": "python",
   "name": "python3"
  },
  "language_info": {
   "codemirror_mode": {
    "name": "ipython",
    "version": 3
   },
   "file_extension": ".py",
   "mimetype": "text/x-python",
   "name": "python",
   "nbconvert_exporter": "python",
   "pygments_lexer": "ipython3",
   "version": "3.7.8"
  }
 },
 "nbformat": 4,
 "nbformat_minor": 4
}
