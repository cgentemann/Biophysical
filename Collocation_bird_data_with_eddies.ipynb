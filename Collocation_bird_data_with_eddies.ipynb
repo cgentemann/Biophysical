{
 "cells": [
  {
   "cell_type": "code",
   "execution_count": null,
   "metadata": {},
   "outputs": [],
   "source": [
    "import matplotlib.pyplot as plt\n",
    "import numpy as np\n",
    "import xarray as xr\n",
    "import pandas as pd\n",
    "import warnings\n",
    "# filter some warning messages\n",
    "warnings.filterwarnings(\"ignore\") \n",
    "from geopy.distance import geodesic \n",
    "from pyresample.kd_tree import resample_nearest\n",
    "from scipy import spatial\n",
    "\n",
    "####################you will need to change some paths here!#####################\n",
    "#list of input files\n",
    "#list of input files\n",
    "\n",
    "filename_aviso='F:/data/project_data/NASA_biophysical/aviso/eddy_trajectory_19930101_20170106.nc'   #From AVISO  website\n",
    "filename_bird='f:/data/project_data/NASA_biophysical/collocated_data/NPPSD_GOA_allseabird_wide.csv'\n",
    "#output files\n",
    "filename_bird_out='f:/data/project_data/NASA_biophysical/collocated_data/NPPSD_GOA_allseabird_with_sat_and eddy_data.csv'\n",
    "filename_bird_out_netcdf='f:/data/project_data/NASA_biophysical/collocated_data/NPPSD_GOA_allseabird_wide_sat_and_eddy_data.nc'\n",
    "#################################################################################\n",
    "filename_bird_out_eddy_netcdf='f:/data/project_data/NASA_biophysical/collocated_data/NPPSD_GOA_allseabird_with_eddy.nc'"
   ]
  },
  {
   "cell_type": "code",
   "execution_count": null,
   "metadata": {},
   "outputs": [],
   "source": [
    "#read in csv file in to panda dataframe & into xarray\n",
    "df_bird = pd.read_csv(filename_bird)\n",
    "ds_bird = df_bird.to_xarray()\n",
    "#calculate time\n",
    "ilen_bird = len(ds_bird.Lat)\n",
    "ds_bird['time'] = xr.DataArray(np.empty(ilen_bird, dtype='datetime64[ns]'), coords={'index': ds_bird.index}, dims=('index'))\n",
    "for i in range(len(df_bird)):\n",
    "    tstr = str(df_bird.Year[i])+'-'+str(df_bird.Month[i]).zfill(2)+'-'+str(df_bird.Day[i]).zfill(2)\n",
    "    ds_bird['time'][i]=np.datetime64(tstr)\n",
    "ds_bird = ds_bird.rename({'Lat':'lat','Lon':'lon'})\n",
    "ds_bird"
   ]
  },
  {
   "cell_type": "code",
   "execution_count": null,
   "metadata": {},
   "outputs": [],
   "source": [
    "#just check lat/lon & see looks okay\n",
    "minlat,maxlat=ds_bird.lat.min(),ds_bird.lat.max()\n",
    "minlon,maxlon=ds_bird.lon.min(),ds_bird.lon.max()\n",
    "plt.scatter(ds_bird.lon,ds_bird.lat)\n",
    "print(minlat,maxlat,minlon,maxlon)"
   ]
  },
  {
   "cell_type": "code",
   "execution_count": null,
   "metadata": {},
   "outputs": [],
   "source": [
    "#open aviso eddy dataset\n",
    "ds = xr.open_dataset(filename_aviso).rename({'latitude':'lat','longitude':'lon'})\n",
    "ds['lon'] = (ds.lon + 180) % 360 - 180\n",
    "ds.close()\n",
    "ds_eddy = ds\n",
    "cond = (ds_eddy.lat>=minlat) & (ds_eddy.lat<=maxlat) & (ds_eddy.lon>=minlon) & (ds_eddy.lon<=maxlon)\n",
    "ds_eddy = ds_eddy.where(cond,drop=True)\n",
    "ilen_eddy = len(ds_eddy.lat)\n",
    "print(ilen_eddy)\n",
    "ds_eddy['time64'] = xr.DataArray(np.empty(ilen_eddy, dtype='datetime64[ns]'), coords={'obs': ds_eddy.obs}, dims=('obs'))\n",
    "for i in range(ilen_eddy):\n",
    "    ss = str(ds_eddy.time[i].dt.year.data)+'-'+str(ds_eddy.time[i].dt.month.data).zfill(2)+'-'+str(ds_eddy.time[i].dt.day.data).zfill(2)\n",
    "    tem = np.datetime64(ss)\n",
    "    ds_eddy['time64'][i]=tem\n",
    "ds_eddy.to_netcdf('F:/data/project_data/NASA_biophysical/aviso/eddy_trajectory_19930101_20170106_northpac.nc')"
   ]
  },
  {
   "cell_type": "code",
   "execution_count": null,
   "metadata": {},
   "outputs": [],
   "source": [
    "ds_eddy = xr.open_dataset('F:/data/project_data/NASA_biophysical/aviso/eddy_trajectory_19930101_20170106_northpac.nc')\n",
    "ilen_eddy = len(ds_eddy.lat)\n",
    "plt.scatter(ds_eddy.lon,ds_eddy.lat)"
   ]
  },
  {
   "cell_type": "code",
   "execution_count": null,
   "metadata": {},
   "outputs": [],
   "source": [
    "ds_eddy"
   ]
  },
  {
   "cell_type": "code",
   "execution_count": null,
   "metadata": {},
   "outputs": [],
   "source": [
    "## print(len(cpr_sample_lat),ilen_cpr)\n",
    "#print(len(lats_new),ilen_eddy)\n",
    "save_eddy_index=[0] * (ilen_bird)\n",
    "save_eddy_distance=[0] * (ilen_bird)\n",
    "\n",
    "ilen_bird = len(ds_bird.lat)\n",
    "ds_bird_save = ds_bird.copy(deep=True)\n",
    "ilen_bird = len(ds_bird_save.lat)\n",
    "for var in ds_eddy:\n",
    "    if (var=='time'):\n",
    "        continue\n",
    "    if (var=='lat') or (var=='lon'):\n",
    "        ds_bird_save[var+'_eddy']=xr.DataArray(np.empty(ilen_bird, dtype=str(ds_eddy[var].dtype)), coords={'index': ds_bird.index}, dims=('index'))\n",
    "    else:\n",
    "        ds_bird_save[var]=xr.DataArray(np.empty(ilen_bird, dtype=str(ds_eddy[var].dtype)), coords={'index': ds_bird.index}, dims=('index'))\n",
    "ds_bird_save['save_eddy_distance']=xr.DataArray(np.empty(ilen_bird, dtype='float32'), coords={'index': ds_bird.index}, dims=('index'))\n",
    "\n",
    "print(ilen_bird,ilen_eddy)\n",
    "icnt=0\n",
    "for index_bird in range(ilen_bird):\n",
    "    if ds_bird.time[index_bird]<np.datetime64('1993-01-01'):\n",
    "        continue\n",
    "    arclen_to_eddy=100000  #set to a high value  \n",
    "    iarg = np.argwhere(ds_eddy.time64.data==ds_bird.time[index_bird].data)\n",
    "    if len(iarg)<1:\n",
    "        continue\n",
    "    for index_eddy in iarg:\n",
    "        ieddy = int(index_eddy)\n",
    "        coords_1 = (ds_bird.lat[index_bird], ds_bird.lon[index_bird])  #cpr sample location\n",
    "        coords_2 = (ds_eddy.lat[ieddy], ds_eddy.lon[ieddy])  #eddy location\n",
    "        arclen_temp = geodesic(coords_1, coords_2).km\n",
    "        if arclen_temp<arclen_to_eddy:\n",
    "            arclen_to_eddy=arclen_temp\n",
    "            for var in ds_eddy:\n",
    "                if (var=='time'):\n",
    "                    continue\n",
    "                if (var=='lat') or (var=='lon'):\n",
    "                    ds_bird_save[var+'_eddy'][index_bird]=ds_eddy[var][ieddy]\n",
    "                else:\n",
    "                    ds_bird_save[var][index_bird]=ds_eddy[var][ieddy]\n",
    "#                if var=='time':\n",
    "#                    continue\n",
    "#                ds_bird_save[var][index_bird]=ds_eddy[var][ieddy]\n",
    "#            save_eddy_index[index_bird]=index_eddy\n",
    "            ds_bird_save.save_eddy_distance[index_bird]=arclen_temp\n",
    "            save_eddy_distance[index_bird]=arclen_temp\n",
    "    if 20000*int(index_bird/20000)==index_bird:\n",
    "        print(index_bird,ilen_bird)\n",
    "ds_bird_save.to_netcdf(filename_bird_out_eddy_netcdf)"
   ]
  },
  {
   "cell_type": "code",
   "execution_count": null,
   "metadata": {},
   "outputs": [],
   "source": [
    "plt.scatter(ds_bird_save.lat,ds_bird_save.lon)"
   ]
  },
  {
   "cell_type": "code",
   "execution_count": null,
   "metadata": {},
   "outputs": [],
   "source": [
    "ds_bird_save"
   ]
  },
  {
   "cell_type": "markdown",
   "metadata": {},
   "source": [
    "# Define function to read in data and put in a dictionary"
   ]
  },
  {
   "cell_type": "code",
   "execution_count": null,
   "metadata": {},
   "outputs": [],
   "source": [
    "#define function to get all the data at once, use same years for climatology for all data\n",
    "def get_data():\n",
    "    \n",
    "    #climatology years\n",
    "    cyr1,cyr2='1993-01-01','2018-12-31'\n",
    "    \n",
    "    # CCMP test\n",
    "    dir_pattern_zarr = 'F:/data/sat_data/ccmp/zarr/'\n",
    "    ds= xr.open_zarr(dir_pattern_zarr)\n",
    "    ds = ds.rename({'latitude':'lat','longitude':'lon'})\n",
    "    ds.coords['lon'] = (ds.coords['lon'] + 180) % 360 - 180\n",
    "    ds_ccmp = ds.sortby(ds.lon)\n",
    "    ds_ccmp = ds_ccmp.drop('nobs')\n",
    "    for var in ds_ccmp:\n",
    "        tem = ds_ccmp[var].attrs\n",
    "        tem['var_name']='ccmp_'+str(var)\n",
    "        ds_ccmp[var].attrs=tem\n",
    "    ds_ccmp_clim = ds_ccmp.sel(time=slice(cyr1,cyr2))\n",
    "    ds_ccmp_clim = ds_ccmp_clim.groupby('time.dayofyear').mean('time',keep_attrs=True,skipna=False)\n",
    "    \n",
    "    # AVISO test\n",
    "    dir_pattern_zarr = 'F:/data/sat_data/aviso/zarr/'\n",
    "    ds= xr.open_zarr(dir_pattern_zarr)\n",
    "    ds = ds.rename({'latitude':'lat','longitude':'lon'})\n",
    "    ds.coords['lon'] = (ds.coords['lon'] + 180) % 360 - 180\n",
    "    ds_aviso = ds.sortby(ds.lon).drop({'lat_bnds','lon_bnds','crs','err'})\n",
    "    for var in ds_aviso:\n",
    "        tem = ds_aviso[var].attrs\n",
    "        tem['var_name']='aviso_'+str(var)\n",
    "        ds_aviso[var].attrs=tem\n",
    "    ds_aviso_clim = ds_aviso.sel(time=slice(cyr1,cyr2))\n",
    "    ds_aviso_clim = ds_aviso_clim.groupby('time.dayofyear').mean('time',keep_attrs=True,skipna=False)    \n",
    "\n",
    "    #sst\n",
    "    dir_pattern_zarr = 'F:/data/sat_data/sst/cmc/zarr/'\n",
    "    ds_sst= xr.open_zarr(dir_pattern_zarr)\n",
    "    ds_sst = ds_sst.drop({'analysis_error','mask','sea_ice_fraction'})\n",
    "    tem = ds_sst.analysed_sst.attrs\n",
    "    tem['var_name']='cmc_sst'\n",
    "    ds_sst.analysed_sst.attrs=tem\n",
    "    ds_sst_clim = ds_sst.sel(time=slice(cyr1,cyr2))\n",
    "    ds_sst_clim = ds_sst_clim.groupby('time.dayofyear').mean('time',keep_attrs=True,skipna=False)\n",
    "    \n",
    "    #get bathymetry from ETOPO1\n",
    "    fname_topo = 'F:/data/topo/ETOPO1_Ice_g_gmt4.grd'\n",
    "    ds = xr.open_dataset(fname_topo)\n",
    "    ds_topo = ds.rename_dims({'x':'lon','y':'lat'}).rename({'x':'lon','y':'lat'})\n",
    "    tem = ds_topo.z.attrs\n",
    "    tem['var_name']='etopo_depth'\n",
    "    ds_topo.z.attrs=tem\n",
    "\n",
    "    #put data into a dictionary\n",
    "    data_dict={'aviso':ds_aviso,\n",
    "               'wnd':ds_ccmp,\n",
    "               'sst':ds_sst,\n",
    "              'topo':ds_topo}\n",
    "    clim_dict={'aviso_clim':ds_aviso_clim,\n",
    "               'wnd_clim':ds_ccmp_clim,\n",
    "               'sst_clim':ds_sst_clim}\n",
    "  \n",
    "    return data_dict,clim_dict"
   ]
  },
  {
   "cell_type": "code",
   "execution_count": null,
   "metadata": {},
   "outputs": [],
   "source": [
    "data,clim = get_data()"
   ]
  },
  {
   "cell_type": "markdown",
   "metadata": {},
   "source": [
    "# Collocate all data with bird data"
   ]
  },
  {
   "cell_type": "code",
   "execution_count": null,
   "metadata": {},
   "outputs": [],
   "source": [
    "#output files\n",
    "ds_bird = xr.open_dataset(filename_bird_out_eddy_netcdf)\n",
    "for name in data:\n",
    "    ds_data=data[name]\n",
    "    if name=='topo':\n",
    "        continue\n",
    "    print('name',name)   \n",
    "    for var in ds_data:\n",
    "        var_tem=ds_data[var].attrs['var_name']\n",
    "        ds_bird[var_tem]=xr.DataArray(np.empty(ilen_bird, dtype=str(ds_data[var].dtype)), coords={'index': ds_bird.index}, dims=('index'))\n",
    "        ds_bird[var_tem].attrs=ds_data[var].attrs\n",
    "    print('var',var_tem)\n",
    "    for i in range(80000,80100):\n",
    "#    for i in range(len(ds_bird.lat)):\n",
    "        if ds_bird.time[i]<ds_data.time.min():\n",
    "            continue\n",
    "        if ds_bird.time[i]>ds_data.time.max():\n",
    "            continue\n",
    "        t1,t2 = ds_bird.time[i]-np.timedelta64(24,'h'), ds_bird.time[i]+np.timedelta64(24,'h')\n",
    "        lat1,lat2=ds_bird.lat[i]-.5,ds_bird.lat[i]+.5\n",
    "        lon1,lon2=ds_bird.lon[i]-.5,ds_bird.lon[i]+.5\n",
    "        tem = ds_data.sel(time=slice(t1,t2),lat=slice(lat1,lat2),lon=slice(lon1,lon2)).load()\n",
    "        tem = tem.interp(time=ds_bird.time[i],lat=ds_bird.lat[i],lon=ds_bird.lon[i])\n",
    "        #tem = tem.load()\n",
    "        for var in ds_data:\n",
    "            var_tem=ds_data[var].attrs['var_name']\n",
    "            ds_bird[var_tem][i]=tem[var].data\n",
    "        if int(i/10000)*10000==i:\n",
    "            print(i,len(ds_bird.lat))\n",
    "#at topo info\n",
    "#interp will create a new 2D array, to avoid that put the lat/lon into dataarrays\n",
    "ds_topo=data['topo']\n",
    "new_lat = xr.DataArray(ds_bird.lat.data, dims='z')\n",
    "new_lon = xr.DataArray(ds_bird.lon.data, dims='z')\n",
    "tem = ds_topo.z.interp(lat=new_lat, lon=new_lon,method='nearest')\n",
    "ds_bird['ETOPO_depth'] = xr.DataArray(tem.data, coords={'index': ds_bird.index}, dims=('index'))\n",
    "ds_bird = ds_bird.drop('obs')\n",
    "\n",
    "#output data\n",
    "df_bird = ds_bird.to_dataframe()\n",
    "df_bird.to_csv(filename_bird_out)\n",
    "ds_bird.to_netcdf(filename_bird_out_netcdf)"
   ]
  },
  {
   "cell_type": "markdown",
   "metadata": {},
   "source": [
    "# bring data together"
   ]
  },
  {
   "cell_type": "code",
   "execution_count": null,
   "metadata": {},
   "outputs": [],
   "source": [
    "plt.plot(ds_bird.amplitude)"
   ]
  },
  {
   "cell_type": "code",
   "execution_count": null,
   "metadata": {},
   "outputs": [],
   "source": [
    "adir = 'F:/data/project_data/NASA_biophysical/collocated_data/'\n",
    "file1 = adir+'NPPSD_GOA_allseabird_wide_sat_and_eddy_data.ncaviso.nc'\n",
    "file2 = adir+'NPPSD_GOA_allseabird_wide_sat_and_eddy_data.ncwnd.nc'\n",
    "file3 = adir+'NPPSD_GOA_allseabird_wide_sat_and_eddy_data.ncsst.nc'\n",
    "\n",
    "ds = xr.open_dataset(file1)\n",
    "ds2 = xr.open_dataset(file2)\n",
    "for var in ds2:\n",
    "    if not var in ds:\n",
    "        ds[var]=ds2[var]\n",
    "ds2 = xr.open_dataset(file3)\n",
    "for var in ds2:\n",
    "    if not var in ds:\n",
    "        ds[var]=ds2[var]\n",
    "        \n",
    "ds_topo=data['topo']\n",
    "new_lat = xr.DataArray(ds.lat.data, dims='z')\n",
    "new_lon = xr.DataArray(ds.lon.data, dims='z')\n",
    "tem = ds_topo.z.interp(lat=new_lat, lon=new_lon,method='nearest')\n",
    "ds['ETOPO_depth'] = xr.DataArray(tem.data, coords={'index': ds_bird.index}, dims=('index'))\n",
    "#ds_bird = ds_bird.drop('obs')\n",
    "         \n",
    "ds.to_netcdf(adir+'NPPSD_GOA_allseabird_wide_sat_and_eddy_data_final.nc')\n",
    "df_bird = ds.to_dataframe()\n",
    "df_bird.to_csv(adir+'NPPSD_GOA_allseabird_wide_sat_and_eddy_data_final.csv')\n",
    "\n"
   ]
  },
  {
   "cell_type": "markdown",
   "metadata": {},
   "source": [
    "# add distance from land"
   ]
  },
  {
   "cell_type": "code",
   "execution_count": null,
   "metadata": {},
   "outputs": [],
   "source": [
    "ds_land = xr.open_dataset('f:/data/sat_data/distance_to_land_25km.nc')\n",
    "ds_land"
   ]
  },
  {
   "cell_type": "code",
   "execution_count": null,
   "metadata": {},
   "outputs": [],
   "source": [
    "adir = 'F:/data/project_data/NASA_biophysical/collocated_data/'\n",
    "ds = xr.open_dataset(adir+'NPPSD_GOA_allseabird_wide_sat_and_eddy_data_final.nc')\n",
    "new_lat = xr.DataArray(ds.lat.data, dims='z')\n",
    "new_lon = xr.DataArray(ds.lon.data, dims='z')\n",
    "tem = ds_land.dist_land.interp(lat=new_lat, lon=new_lon,method='nearest')\n",
    "ds['distance_to_land'] = xr.DataArray(tem.data, coords={'index': ds_bird.index}, dims=('index'))\n"
   ]
  },
  {
   "cell_type": "markdown",
   "metadata": {},
   "source": [
    "# new distance from land file"
   ]
  },
  {
   "cell_type": "code",
   "execution_count": 3,
   "metadata": {},
   "outputs": [
    {
     "ename": "ValueError",
     "evalue": "at least one array or dtype is required",
     "output_type": "error",
     "traceback": [
      "\u001b[1;31m---------------------------------------------------------------------------\u001b[0m",
      "\u001b[1;31mValueError\u001b[0m                                Traceback (most recent call last)",
      "\u001b[1;32m<ipython-input-3-b95a44c40e72>\u001b[0m in \u001b[0;36m<module>\u001b[1;34m\u001b[0m\n\u001b[0;32m      9\u001b[0m \u001b[0mstacked\u001b[0m \u001b[1;33m=\u001b[0m \u001b[0mland_mask\u001b[0m\u001b[1;33m.\u001b[0m\u001b[0mstack\u001b[0m\u001b[1;33m(\u001b[0m\u001b[0mz\u001b[0m\u001b[1;33m=\u001b[0m\u001b[1;33m(\u001b[0m\u001b[1;34m\"lat\"\u001b[0m\u001b[1;33m,\u001b[0m \u001b[1;34m\"lon\"\u001b[0m\u001b[1;33m)\u001b[0m\u001b[1;33m)\u001b[0m\u001b[1;33m\u001b[0m\u001b[1;33m\u001b[0m\u001b[0m\n\u001b[0;32m     10\u001b[0m \u001b[1;31m#only include land points\u001b[0m\u001b[1;33m\u001b[0m\u001b[1;33m\u001b[0m\u001b[1;33m\u001b[0m\u001b[0m\n\u001b[1;32m---> 11\u001b[1;33m \u001b[0mland\u001b[0m \u001b[1;33m=\u001b[0m \u001b[0mstacked\u001b[0m\u001b[1;33m.\u001b[0m\u001b[0mwhere\u001b[0m\u001b[1;33m(\u001b[0m\u001b[0mstacked\u001b[0m\u001b[1;33m>=\u001b[0m\u001b[1;36m0\u001b[0m\u001b[1;33m,\u001b[0m\u001b[0mdrop\u001b[0m\u001b[1;33m=\u001b[0m\u001b[1;32mTrue\u001b[0m\u001b[1;33m)\u001b[0m\u001b[1;33m\u001b[0m\u001b[1;33m\u001b[0m\u001b[0m\n\u001b[0m\u001b[0;32m     12\u001b[0m \u001b[1;31m# build the tree\u001b[0m\u001b[1;33m\u001b[0m\u001b[1;33m\u001b[0m\u001b[1;33m\u001b[0m\u001b[0m\n\u001b[0;32m     13\u001b[0m \u001b[0mlats\u001b[0m \u001b[1;33m=\u001b[0m \u001b[0mland\u001b[0m\u001b[1;33m.\u001b[0m\u001b[0mlat\u001b[0m\u001b[1;33m.\u001b[0m\u001b[0mdata\u001b[0m\u001b[1;33m\u001b[0m\u001b[1;33m\u001b[0m\u001b[0m\n",
      "\u001b[1;32m~\\Miniconda3\\envs\\satenv2\\lib\\site-packages\\xarray\\core\\common.py\u001b[0m in \u001b[0;36mwhere\u001b[1;34m(self, cond, other, drop)\u001b[0m\n\u001b[0;32m   1235\u001b[0m             \u001b[1;31m# get cond with the minimal size needed for the Dataset\u001b[0m\u001b[1;33m\u001b[0m\u001b[1;33m\u001b[0m\u001b[1;33m\u001b[0m\u001b[0m\n\u001b[0;32m   1236\u001b[0m             \u001b[1;32mif\u001b[0m \u001b[0misinstance\u001b[0m\u001b[1;33m(\u001b[0m\u001b[0mcond\u001b[0m\u001b[1;33m,\u001b[0m \u001b[0mDataset\u001b[0m\u001b[1;33m)\u001b[0m\u001b[1;33m:\u001b[0m\u001b[1;33m\u001b[0m\u001b[1;33m\u001b[0m\u001b[0m\n\u001b[1;32m-> 1237\u001b[1;33m                 \u001b[0mclipcond\u001b[0m \u001b[1;33m=\u001b[0m \u001b[0mcond\u001b[0m\u001b[1;33m.\u001b[0m\u001b[0mto_array\u001b[0m\u001b[1;33m(\u001b[0m\u001b[1;33m)\u001b[0m\u001b[1;33m.\u001b[0m\u001b[0many\u001b[0m\u001b[1;33m(\u001b[0m\u001b[1;34m\"variable\"\u001b[0m\u001b[1;33m)\u001b[0m\u001b[1;33m\u001b[0m\u001b[1;33m\u001b[0m\u001b[0m\n\u001b[0m\u001b[0;32m   1238\u001b[0m             \u001b[1;32melse\u001b[0m\u001b[1;33m:\u001b[0m\u001b[1;33m\u001b[0m\u001b[1;33m\u001b[0m\u001b[0m\n\u001b[0;32m   1239\u001b[0m                 \u001b[0mclipcond\u001b[0m \u001b[1;33m=\u001b[0m \u001b[0mcond\u001b[0m\u001b[1;33m\u001b[0m\u001b[1;33m\u001b[0m\u001b[0m\n",
      "\u001b[1;32m~\\Miniconda3\\envs\\satenv2\\lib\\site-packages\\xarray\\core\\dataset.py\u001b[0m in \u001b[0;36mto_array\u001b[1;34m(self, dim, name)\u001b[0m\n\u001b[0;32m   4513\u001b[0m         \u001b[0mdata_vars\u001b[0m \u001b[1;33m=\u001b[0m \u001b[1;33m[\u001b[0m\u001b[0mself\u001b[0m\u001b[1;33m.\u001b[0m\u001b[0mvariables\u001b[0m\u001b[1;33m[\u001b[0m\u001b[0mk\u001b[0m\u001b[1;33m]\u001b[0m \u001b[1;32mfor\u001b[0m \u001b[0mk\u001b[0m \u001b[1;32min\u001b[0m \u001b[0mself\u001b[0m\u001b[1;33m.\u001b[0m\u001b[0mdata_vars\u001b[0m\u001b[1;33m]\u001b[0m\u001b[1;33m\u001b[0m\u001b[1;33m\u001b[0m\u001b[0m\n\u001b[0;32m   4514\u001b[0m         \u001b[0mbroadcast_vars\u001b[0m \u001b[1;33m=\u001b[0m \u001b[0mbroadcast_variables\u001b[0m\u001b[1;33m(\u001b[0m\u001b[1;33m*\u001b[0m\u001b[0mdata_vars\u001b[0m\u001b[1;33m)\u001b[0m\u001b[1;33m\u001b[0m\u001b[1;33m\u001b[0m\u001b[0m\n\u001b[1;32m-> 4515\u001b[1;33m         \u001b[0mdata\u001b[0m \u001b[1;33m=\u001b[0m \u001b[0mduck_array_ops\u001b[0m\u001b[1;33m.\u001b[0m\u001b[0mstack\u001b[0m\u001b[1;33m(\u001b[0m\u001b[1;33m[\u001b[0m\u001b[0mb\u001b[0m\u001b[1;33m.\u001b[0m\u001b[0mdata\u001b[0m \u001b[1;32mfor\u001b[0m \u001b[0mb\u001b[0m \u001b[1;32min\u001b[0m \u001b[0mbroadcast_vars\u001b[0m\u001b[1;33m]\u001b[0m\u001b[1;33m,\u001b[0m \u001b[0maxis\u001b[0m\u001b[1;33m=\u001b[0m\u001b[1;36m0\u001b[0m\u001b[1;33m)\u001b[0m\u001b[1;33m\u001b[0m\u001b[1;33m\u001b[0m\u001b[0m\n\u001b[0m\u001b[0;32m   4516\u001b[0m \u001b[1;33m\u001b[0m\u001b[0m\n\u001b[0;32m   4517\u001b[0m         \u001b[0mcoords\u001b[0m \u001b[1;33m=\u001b[0m \u001b[0mdict\u001b[0m\u001b[1;33m(\u001b[0m\u001b[0mself\u001b[0m\u001b[1;33m.\u001b[0m\u001b[0mcoords\u001b[0m\u001b[1;33m)\u001b[0m\u001b[1;33m\u001b[0m\u001b[1;33m\u001b[0m\u001b[0m\n",
      "\u001b[1;32m~\\Miniconda3\\envs\\satenv2\\lib\\site-packages\\xarray\\core\\duck_array_ops.py\u001b[0m in \u001b[0;36mstack\u001b[1;34m(arrays, axis)\u001b[0m\n\u001b[0;32m    289\u001b[0m \u001b[1;32mdef\u001b[0m \u001b[0mstack\u001b[0m\u001b[1;33m(\u001b[0m\u001b[0marrays\u001b[0m\u001b[1;33m,\u001b[0m \u001b[0maxis\u001b[0m\u001b[1;33m=\u001b[0m\u001b[1;36m0\u001b[0m\u001b[1;33m)\u001b[0m\u001b[1;33m:\u001b[0m\u001b[1;33m\u001b[0m\u001b[1;33m\u001b[0m\u001b[0m\n\u001b[0;32m    290\u001b[0m     \u001b[1;34m\"\"\"stack() with better dtype promotion rules.\"\"\"\u001b[0m\u001b[1;33m\u001b[0m\u001b[1;33m\u001b[0m\u001b[0m\n\u001b[1;32m--> 291\u001b[1;33m     \u001b[1;32mreturn\u001b[0m \u001b[0m_stack\u001b[0m\u001b[1;33m(\u001b[0m\u001b[0mas_shared_dtype\u001b[0m\u001b[1;33m(\u001b[0m\u001b[0marrays\u001b[0m\u001b[1;33m)\u001b[0m\u001b[1;33m,\u001b[0m \u001b[0maxis\u001b[0m\u001b[1;33m=\u001b[0m\u001b[0maxis\u001b[0m\u001b[1;33m)\u001b[0m\u001b[1;33m\u001b[0m\u001b[1;33m\u001b[0m\u001b[0m\n\u001b[0m\u001b[0;32m    292\u001b[0m \u001b[1;33m\u001b[0m\u001b[0m\n\u001b[0;32m    293\u001b[0m \u001b[1;33m\u001b[0m\u001b[0m\n",
      "\u001b[1;32m~\\Miniconda3\\envs\\satenv2\\lib\\site-packages\\xarray\\core\\duck_array_ops.py\u001b[0m in \u001b[0;36mas_shared_dtype\u001b[1;34m(scalars_or_arrays)\u001b[0m\n\u001b[0;32m    174\u001b[0m     \u001b[1;31m# Note that result_type() safely gets the dtype from dask arrays without\u001b[0m\u001b[1;33m\u001b[0m\u001b[1;33m\u001b[0m\u001b[1;33m\u001b[0m\u001b[0m\n\u001b[0;32m    175\u001b[0m     \u001b[1;31m# evaluating them.\u001b[0m\u001b[1;33m\u001b[0m\u001b[1;33m\u001b[0m\u001b[1;33m\u001b[0m\u001b[0m\n\u001b[1;32m--> 176\u001b[1;33m     \u001b[0mout_type\u001b[0m \u001b[1;33m=\u001b[0m \u001b[0mdtypes\u001b[0m\u001b[1;33m.\u001b[0m\u001b[0mresult_type\u001b[0m\u001b[1;33m(\u001b[0m\u001b[1;33m*\u001b[0m\u001b[0marrays\u001b[0m\u001b[1;33m)\u001b[0m\u001b[1;33m\u001b[0m\u001b[1;33m\u001b[0m\u001b[0m\n\u001b[0m\u001b[0;32m    177\u001b[0m     \u001b[1;32mreturn\u001b[0m \u001b[1;33m[\u001b[0m\u001b[0mx\u001b[0m\u001b[1;33m.\u001b[0m\u001b[0mastype\u001b[0m\u001b[1;33m(\u001b[0m\u001b[0mout_type\u001b[0m\u001b[1;33m,\u001b[0m \u001b[0mcopy\u001b[0m\u001b[1;33m=\u001b[0m\u001b[1;32mFalse\u001b[0m\u001b[1;33m)\u001b[0m \u001b[1;32mfor\u001b[0m \u001b[0mx\u001b[0m \u001b[1;32min\u001b[0m \u001b[0marrays\u001b[0m\u001b[1;33m]\u001b[0m\u001b[1;33m\u001b[0m\u001b[1;33m\u001b[0m\u001b[0m\n\u001b[0;32m    178\u001b[0m \u001b[1;33m\u001b[0m\u001b[0m\n",
      "\u001b[1;32m~\\Miniconda3\\envs\\satenv2\\lib\\site-packages\\xarray\\core\\dtypes.py\u001b[0m in \u001b[0;36mresult_type\u001b[1;34m(*arrays_and_dtypes)\u001b[0m\n\u001b[0;32m    167\u001b[0m             \u001b[1;32mreturn\u001b[0m \u001b[0mnp\u001b[0m\u001b[1;33m.\u001b[0m\u001b[0mdtype\u001b[0m\u001b[1;33m(\u001b[0m\u001b[0mobject\u001b[0m\u001b[1;33m)\u001b[0m\u001b[1;33m\u001b[0m\u001b[1;33m\u001b[0m\u001b[0m\n\u001b[0;32m    168\u001b[0m \u001b[1;33m\u001b[0m\u001b[0m\n\u001b[1;32m--> 169\u001b[1;33m     \u001b[1;32mreturn\u001b[0m \u001b[0mnp\u001b[0m\u001b[1;33m.\u001b[0m\u001b[0mresult_type\u001b[0m\u001b[1;33m(\u001b[0m\u001b[1;33m*\u001b[0m\u001b[0marrays_and_dtypes\u001b[0m\u001b[1;33m)\u001b[0m\u001b[1;33m\u001b[0m\u001b[1;33m\u001b[0m\u001b[0m\n\u001b[0m",
      "\u001b[1;32m<__array_function__ internals>\u001b[0m in \u001b[0;36mresult_type\u001b[1;34m(*args, **kwargs)\u001b[0m\n",
      "\u001b[1;31mValueError\u001b[0m: at least one array or dtype is required"
     ]
    },
    {
     "data": {
      "image/png": "[encoded data removed]",
      "text/plain": [
       "<Figure size 432x288 with 2 Axes>"
      ]
     },
     "metadata": {
      "needs_background": "light"
     },
     "output_type": "display_data"
    }
   ],
   "source": [
    "from geopy.distance import geodesic \n",
    "fname_topo = 'F:/data/topo/ETOPO1_Ice_g_gmt4.grd'\n",
    "ds = xr.open_dataset(fname_topo)\n",
    "ds_topo = ds.rename_dims({'x':'lon','y':'lat'}).rename({'x':'lon','y':'lat'})\n",
    "#create land mask -2 == ocean  0 == land\n",
    "land_mask = ds_topo.where(ds_topo.z>=0,other=-1)\n",
    "land_mask = land_mask/np.abs(land_mask)-1.\n",
    "land_mask.z[9000:10000,0:1000].plot()\n",
    "stacked = land_mask.stack(z=(\"lat\", \"lon\"))\n",
    "#only include land points\n",
    "land = stacked.where(stacked>=0,drop=True)\n",
    "# build the tree\n",
    "lats = land.lat.data\n",
    "lons = land.lon.data\n",
    "inputdata = list(zip(lons.ravel(), lats.ravel()))\n",
    "tree = spatial.KDTree(inputdata)\n",
    "xlat = np.arange(-90,90,0.01)\n",
    "xlon = np.arange(-180,180,0.01)\n",
    "dist = land_mask.interp(lat=xlat,lon=xlon,method='nearest')\n",
    "for nlat in xlat:\n",
    "    for nlon in xlon:\n",
    "        if dist[nlon,nlat]==0:   #land so distance == 0\n",
    "            continue            #skip forward since already find land\n",
    "        pts = np.array([nlon, nlat]) #pts = np.array([ds_usv.lon[iusv]+360\n",
    "        tree.query(pts,k=1)\n",
    "        i = tree.query(pts)[1]\n",
    "        rdist = tree.query(pts)[0]\n",
    "        dist[nlon,nlat]=rdist"
   ]
  },
  {
   "cell_type": "code",
   "execution_count": null,
   "metadata": {},
   "outputs": [],
   "source": [
    "\n",
    "       \n",
    "        \n"
   ]
  },
  {
   "cell_type": "markdown",
   "metadata": {},
   "source": [
    "# now add clim data"
   ]
  },
  {
   "cell_type": "code",
   "execution_count": null,
   "metadata": {},
   "outputs": [],
   "source": [
    "#read in csv file in to panda dataframe\n",
    "ds_bird = pd.read_csv(filename_bird_out)\n",
    "#calculate time\n",
    "tem=np.ones(len(ds_bird),dtype='datetime64[ns]')\n",
    "for i in range(len(ds_bird)):\n",
    "    tstr = str(ds_bird.Year[i])+'-'+str(ds_bird.Month[i]).zfill(2)+'-'+str(ds_bird.Day[i]).zfill(2)\n",
    "    tem[i]=np.datetime64(tstr)\n",
    "ds_bird['time']=tem\n",
    "ds_bird"
   ]
  },
  {
   "cell_type": "code",
   "execution_count": null,
   "metadata": {},
   "outputs": [],
   "source": [
    "for name in clim:\n",
    "    ds_data=clim[name]\n",
    "    print('name',name)\n",
    "    for var in ds_data:\n",
    "        var_tem=ds_data[var].attrs['var_name']+'_clim'\n",
    "        ds_bird[var_tem]=np.ones(len(ds_bird))*np.NaN\n",
    "        ds_bird[var_tem].attrs=ds_data[var].attrs\n",
    "    print('var',var_tem)\n",
    "    for i in range(len(ds_bird)):\n",
    "        t1,t2 = ds_bird.time[i]-np.timedelta64(24,'h'), ds_bird.time[i]+np.timedelta64(24,'h')\n",
    "        lat1,lat2=ds_bird.Lat[i]-.5,ds_bird.Lat[i]+.5\n",
    "        lon1,lon2=ds_bird.Lon[i]-.5,ds_bird.Lon[i]+.5\n",
    "        tem = ds_data.sel(dayofyear=ds_bird.time[i].dayofyear,lat=slice(lat1,lat2),lon=slice(lon1,lon2)).load()\n",
    "        tem = tem.interp(lat=ds_bird.Lat[i],lon=ds_bird.Lon[i])\n",
    "        for var in ds_data:\n",
    "            var_tem=ds_data[var].attrs['var_name']+'_clim'\n",
    "            ds_bird[var_tem][i]=tem[var].data\n",
    "            \n",
    "#output data\n",
    "ds_bird.to_csv(filename_bird_out_final)\n",
    "DS_bird = xr.Dataset.from_dataframe(ds_bird)\n",
    "DS_bird.to_netcdf(filename_bird_out_netcdf_final)\n",
    "\n",
    "\n"
   ]
  },
  {
   "cell_type": "code",
   "execution_count": null,
   "metadata": {},
   "outputs": [],
   "source": []
  }
 ],
 "metadata": {
  "kernelspec": {
   "display_name": "Python 3",
   "language": "python",
   "name": "python3"
  },
  "language_info": {
   "codemirror_mode": {
    "name": "ipython",
    "version": 3
   },
   "file_extension": ".py",
   "mimetype": "text/x-python",
   "name": "python",
   "nbconvert_exporter": "python",
   "pygments_lexer": "ipython3",
   "version": "3.8.3"
  }
 },
 "nbformat": 4,
 "nbformat_minor": 2
}
