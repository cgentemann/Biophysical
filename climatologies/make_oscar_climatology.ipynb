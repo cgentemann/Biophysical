{
 "cells": [
  {
   "cell_type": "code",
   "execution_count": 2,
   "metadata": {
    "scrolled": true
   },
   "outputs": [],
   "source": [
    "import xarray as xr\n",
    "import numpy as np\n",
    "#import math\n",
    "from math import atan2, pi\n",
    "import datetime\n",
    "def data_ones(x):\n",
    "    x_new=x/x\n",
    "    x_new=x_new.fillna(0)\n",
    "    return x_new\n",
    "dir_data = 'F:/data/sat_data/oscar/L4/oscar_third_deg/'"
   ]
  },
  {
   "cell_type": "code",
   "execution_count": 3,
   "metadata": {},
   "outputs": [
    {
     "name": "stderr",
     "output_type": "stream",
     "text": [
      "C:\\Users\\gentemann\\Miniconda3\\lib\\site-packages\\xarray\\core\\nanops.py:161: RuntimeWarning: Mean of empty slice\n",
      "  return np.nanmean(a, axis=axis, dtype=dtype)\n",
      "C:\\Users\\gentemann\\Miniconda3\\lib\\site-packages\\xarray\\core\\nanops.py:161: RuntimeWarning: Mean of empty slice\n",
      "  return np.nanmean(a, axis=axis, dtype=dtype)\n",
      "C:\\Users\\gentemann\\Miniconda3\\lib\\site-packages\\xarray\\core\\nanops.py:161: RuntimeWarning: Mean of empty slice\n",
      "  return np.nanmean(a, axis=axis, dtype=dtype)\n",
      "C:\\Users\\gentemann\\Miniconda3\\lib\\site-packages\\xarray\\core\\nanops.py:161: RuntimeWarning: Mean of empty slice\n",
      "  return np.nanmean(a, axis=axis, dtype=dtype)\n",
      "C:\\Users\\gentemann\\Miniconda3\\lib\\site-packages\\xarray\\core\\nanops.py:161: RuntimeWarning: Mean of empty slice\n",
      "  return np.nanmean(a, axis=axis, dtype=dtype)\n",
      "C:\\Users\\gentemann\\Miniconda3\\lib\\site-packages\\xarray\\core\\nanops.py:161: RuntimeWarning: Mean of empty slice\n",
      "  return np.nanmean(a, axis=axis, dtype=dtype)\n",
      "C:\\Users\\gentemann\\Miniconda3\\lib\\site-packages\\xarray\\core\\nanops.py:161: RuntimeWarning: Mean of empty slice\n",
      "  return np.nanmean(a, axis=axis, dtype=dtype)\n",
      "C:\\Users\\gentemann\\Miniconda3\\lib\\site-packages\\xarray\\core\\nanops.py:161: RuntimeWarning: Mean of empty slice\n",
      "  return np.nanmean(a, axis=axis, dtype=dtype)\n",
      "C:\\Users\\gentemann\\Miniconda3\\lib\\site-packages\\xarray\\core\\nanops.py:161: RuntimeWarning: Mean of empty slice\n",
      "  return np.nanmean(a, axis=axis, dtype=dtype)\n",
      "C:\\Users\\gentemann\\Miniconda3\\lib\\site-packages\\xarray\\core\\nanops.py:161: RuntimeWarning: Mean of empty slice\n",
      "  return np.nanmean(a, axis=axis, dtype=dtype)\n",
      "C:\\Users\\gentemann\\Miniconda3\\lib\\site-packages\\xarray\\core\\nanops.py:161: RuntimeWarning: Mean of empty slice\n",
      "  return np.nanmean(a, axis=axis, dtype=dtype)\n",
      "C:\\Users\\gentemann\\Miniconda3\\lib\\site-packages\\xarray\\core\\nanops.py:161: RuntimeWarning: Mean of empty slice\n",
      "  return np.nanmean(a, axis=axis, dtype=dtype)\n",
      "C:\\Users\\gentemann\\Miniconda3\\lib\\site-packages\\xarray\\core\\nanops.py:161: RuntimeWarning: Mean of empty slice\n",
      "  return np.nanmean(a, axis=axis, dtype=dtype)\n",
      "C:\\Users\\gentemann\\Miniconda3\\lib\\site-packages\\xarray\\core\\nanops.py:161: RuntimeWarning: Mean of empty slice\n",
      "  return np.nanmean(a, axis=axis, dtype=dtype)\n",
      "C:\\Users\\gentemann\\Miniconda3\\lib\\site-packages\\xarray\\core\\nanops.py:161: RuntimeWarning: Mean of empty slice\n",
      "  return np.nanmean(a, axis=axis, dtype=dtype)\n",
      "C:\\Users\\gentemann\\Miniconda3\\lib\\site-packages\\xarray\\core\\nanops.py:161: RuntimeWarning: Mean of empty slice\n",
      "  return np.nanmean(a, axis=axis, dtype=dtype)\n",
      "C:\\Users\\gentemann\\Miniconda3\\lib\\site-packages\\xarray\\core\\nanops.py:161: RuntimeWarning: Mean of empty slice\n",
      "  return np.nanmean(a, axis=axis, dtype=dtype)\n",
      "C:\\Users\\gentemann\\Miniconda3\\lib\\site-packages\\xarray\\core\\nanops.py:161: RuntimeWarning: Mean of empty slice\n",
      "  return np.nanmean(a, axis=axis, dtype=dtype)\n",
      "C:\\Users\\gentemann\\Miniconda3\\lib\\site-packages\\xarray\\core\\nanops.py:161: RuntimeWarning: Mean of empty slice\n",
      "  return np.nanmean(a, axis=axis, dtype=dtype)\n",
      "C:\\Users\\gentemann\\Miniconda3\\lib\\site-packages\\xarray\\core\\nanops.py:161: RuntimeWarning: Mean of empty slice\n",
      "  return np.nanmean(a, axis=axis, dtype=dtype)\n",
      "C:\\Users\\gentemann\\Miniconda3\\lib\\site-packages\\xarray\\core\\nanops.py:161: RuntimeWarning: Mean of empty slice\n",
      "  return np.nanmean(a, axis=axis, dtype=dtype)\n",
      "C:\\Users\\gentemann\\Miniconda3\\lib\\site-packages\\xarray\\core\\nanops.py:161: RuntimeWarning: Mean of empty slice\n",
      "  return np.nanmean(a, axis=axis, dtype=dtype)\n",
      "C:\\Users\\gentemann\\Miniconda3\\lib\\site-packages\\xarray\\core\\nanops.py:161: RuntimeWarning: Mean of empty slice\n",
      "  return np.nanmean(a, axis=axis, dtype=dtype)\n",
      "C:\\Users\\gentemann\\Miniconda3\\lib\\site-packages\\xarray\\core\\nanops.py:161: RuntimeWarning: Mean of empty slice\n",
      "  return np.nanmean(a, axis=axis, dtype=dtype)\n",
      "C:\\Users\\gentemann\\Miniconda3\\lib\\site-packages\\xarray\\core\\nanops.py:161: RuntimeWarning: Mean of empty slice\n",
      "  return np.nanmean(a, axis=axis, dtype=dtype)\n",
      "C:\\Users\\gentemann\\Miniconda3\\lib\\site-packages\\xarray\\core\\nanops.py:161: RuntimeWarning: Mean of empty slice\n",
      "  return np.nanmean(a, axis=axis, dtype=dtype)\n"
     ]
    }
   ],
   "source": [
    "#make oscar monthly data, change latitue and longitude to lat and lon, group by month\n",
    "#dir_data = 'https://podaac-opendap.jpl.nasa.gov/opendap/allData/oscar/preview/L4/oscar_third_deg/'\n",
    "for lyr in range(1993,2019): #2017):\n",
    "    filename = dir_data + 'oscar_vel' + str(lyr).zfill(4) + '.nc'\n",
    "    ds=xr.open_dataset(filename,drop_variables=['um','vm'])\n",
    "#    ds['spd']=(ds.u**2+ds.v**2)**.5\n",
    "#    ds['dir']=np.arctan2(ds.v,ds.u)* 180./pi\n",
    "    ds_month = ds.resample(time='M').mean(keep_attrs=True)    \n",
    "    ds_month = ds_month.rename({'longitude':'lon','latitude':'lat'})\n",
    "    ds.close()\n",
    "    ds_month = ds_month.sel(depth=15).drop('year').drop('depth')\n",
    "    ds_month.to_netcdf(dir_data + str(lyr) + 'monthly_data_oscar.nc')\n",
    "#check that yes, resampling is averaging for center of month\n",
    "#ds_month.u[0,0,450,900].data\n",
    "#ds.u[0:7,0,450,900].mean()"
   ]
  },
  {
   "cell_type": "code",
   "execution_count": 4,
   "metadata": {},
   "outputs": [
    {
     "data": {
      "text/plain": [
       "<xarray.Dataset>\n",
       "Dimensions:  (lat: 481, lon: 1201, time: 12)\n",
       "Coordinates:\n",
       "  * time     (time) datetime64[ns] 2018-01-31 2018-02-28 ... 2018-12-31\n",
       "  * lat      (lat) float64 80.0 79.67 79.33 79.0 ... -79.0 -79.33 -79.67 -80.0\n",
       "  * lon      (lon) float64 20.0 20.33 20.67 21.0 ... 419.0 419.3 419.7 420.0\n",
       "Data variables:\n",
       "    u        (time, lat, lon) float64 nan nan nan nan nan ... nan nan nan nan\n",
       "    v        (time, lat, lon) float64 nan nan nan nan nan ... nan nan nan nan\n",
       "Attributes:\n",
       "    VARIABLE:       Ocean Surface Currents\n",
       "    DATATYPE:       1/72 YEAR Interval\n",
       "    DATASUBTYPE:    unfiltered\n",
       "    GEORANGE:       20 to 420 -80 to 80\n",
       "    PERIOD:         Jan.01,2018 to Dec.26,2018\n",
       "    year:           2018\n",
       "    description:    OSCAR Third Degree Sea Surface Velocity\n",
       "    CREATION_DATE:  03:39 30-Jan-2019\n",
       "    version:        2009.0\n",
       "    source:         Gary Lagerloef, ESR (lager@esr.org) and Kathleen Dohan, E...\n",
       "    contact:        Kathleen Dohan (kdohan@esr.org) or John T. Gunn (gunn@esr...\n",
       "    company:        Earth & Space Research, Seattle, WA\n",
       "    reference:      Bonjean F. and G.S.E. Lagerloef, 2002 ,Diagnostic model a...\n",
       "    note1:          Maximum Mask velocity is the geostrophic component at all...\n",
       "    note2:          Longitude extends from 20 E to 420 E to avoid a break in ..."
      ]
     },
     "execution_count": 4,
     "metadata": {},
     "output_type": "execute_result"
    }
   ],
   "source": [
    "ds_month"
   ]
  },
  {
   "cell_type": "code",
   "execution_count": 5,
   "metadata": {},
   "outputs": [
    {
     "name": "stderr",
     "output_type": "stream",
     "text": [
      "C:\\Users\\gentemann\\Miniconda3\\lib\\site-packages\\xarray\\core\\nanops.py:161: RuntimeWarning: Mean of empty slice\n",
      "  return np.nanmean(a, axis=axis, dtype=dtype)\n"
     ]
    }
   ],
   "source": [
    "#make monthly climatology, need to drop 'year' coordinate value for mean to work right\n",
    "for lyr in range(1993,2019):\n",
    "    filename = dir_data + str(lyr) + 'monthly_data_oscar.nc'\n",
    "    ds=xr.open_dataset(filename)\n",
    "#    ds2 = ds.drop('year').sel(depth=15.0)  #drop year index and depth index\n",
    "    ds2 = ds #.sel(depth=15.0)  #drop year index and depth index\n",
    "    if lyr==1993:\n",
    "        ds_clim = ds2\n",
    "    else:\n",
    "        ds_clim = xr.concat([ds_clim,ds2],dim = 'time')\n",
    "    ds.close()\n",
    "ds_clim2 = ds_clim.groupby('time.month').mean('time',keep_attrs=True)\n",
    "ds_clim2.attrs['PERIOD']='Jun 01, 1993 to Dec 26 2018'\n",
    "ds_clim2.to_netcdf(dir_data + 'climatology_1993_2018_monthly_data_oscar.nc')\n"
   ]
  },
  {
   "cell_type": "code",
   "execution_count": 3,
   "metadata": {},
   "outputs": [],
   "source": [
    "#make monthly climatology, need to drop 'year' coordinate value for mean to work right\n",
    "for lyr in range(2000,2019):\n",
    "    filename = dir_data + '/monthly/' + str(lyr) + 'monthly_data_oscar.nc'\n",
    "    ds=xr.open_dataset(filename)\n",
    "#    ds2 = ds.drop('year').sel(depth=15.0)  #drop year index and depth index\n",
    "    ds2 = ds #.sel(depth=15.0)  #drop year index and depth index\n",
    "    if lyr==2000:\n",
    "        ds_clim = ds2\n",
    "    else:\n",
    "        ds_clim = xr.concat([ds_clim,ds2],dim = 'time')\n",
    "    ds.close()\n",
    "ds_clim2 = ds_clim.groupby('time.month').mean('time',keep_attrs=True,skipna=False)\n",
    "ds_clim2.attrs['PERIOD']='Jun 01, 2000 to Dec 26 2018'\n",
    "ds_clim2.to_netcdf(dir_data + 'climatology/climatology_2000_2018_monthly_data_oscar.nc')\n"
   ]
  },
  {
   "cell_type": "code",
   "execution_count": 55,
   "metadata": {},
   "outputs": [
    {
     "data": {
      "text/plain": [
       "<xarray.Dataset>\n",
       "Dimensions:  (lat: 481, lon: 1201, month: 12)\n",
       "Coordinates:\n",
       "  * lat      (lat) float64 80.0 79.67 79.33 79.0 ... -79.0 -79.33 -79.67 -80.0\n",
       "  * lon      (lon) float64 20.0 20.33 20.67 21.0 ... 419.0 419.3 419.7 420.0\n",
       "  * month    (month) int64 1 2 3 4 5 6 7 8 9 10 11 12\n",
       "Data variables:\n",
       "    u        (month, lat, lon) float64 nan nan nan nan nan ... nan nan nan nan\n",
       "    v        (month, lat, lon) float64 nan nan nan nan nan ... nan nan nan nan\n",
       "Attributes:\n",
       "    VARIABLE:       Ocean Surface Currents\n",
       "    DATATYPE:       1/72 YEAR Interval\n",
       "    DATASUBTYPE:    unfiltered\n",
       "    GEORANGE:       20 to 420 -80 to 80\n",
       "    PERIOD:         Jun 01, 2000 to Dec 26 2018\n",
       "    year:           2000\n",
       "    description:    OSCAR Third Degree Sea Surface Velocity\n",
       "    CREATION_DATE:  16:03 04-Apr-2017\n",
       "    version:        2017.0\n",
       "    source:         Kathleen Dohan, ESR (kdohan@esr.org)\n",
       "    contact:        Kathleen Dohan (kdohan@esr.org)\n",
       "    company:        Earth & Space Research, Seattle, WA\n",
       "    reference:      Bonjean F. and G.S.E. Lagerloef, 2002 ,Diagnostic model a...\n",
       "    note1:          Maximum Mask velocity is the geostrophic component at all...\n",
       "    note2:          Longitude extends from 20 E to 420 E to avoid a break in ..."
      ]
     },
     "execution_count": 55,
     "metadata": {},
     "output_type": "execute_result"
    }
   ],
   "source": [
    "ds_clim2"
   ]
  },
  {
   "cell_type": "code",
   "execution_count": 7,
   "metadata": {},
   "outputs": [
    {
     "name": "stdout",
     "output_type": "stream",
     "text": [
      "F:/data/sat_data/oscar/L4/oscar_third_deg/\n"
     ]
    }
   ],
   "source": [
    "print(dir_data)\n",
    "ds_clim2=xr.open_dataset(dir_data + '/climatology/climatology_2000_2018_monthly_data_oscar.nc')\n"
   ]
  },
  {
   "cell_type": "code",
   "execution_count": 5,
   "metadata": {},
   "outputs": [
    {
     "data": {
      "text/plain": [
       "<matplotlib.collections.QuadMesh at 0x18900c8c358>"
      ]
     },
     "execution_count": 5,
     "metadata": {},
     "output_type": "execute_result"
    },
    {
     "data": {
      "image/png": "[encoded data removed]",
      "text/plain": [
       "<Figure size 432x288 with 2 Axes>"
      ]
     },
     "metadata": {
      "needs_background": "light"
     },
     "output_type": "display_data"
    }
   ],
   "source": [
    "subset = ds_clim2.sel(lat=slice(65,40),lon=slice(190,230))\n",
    "#print(subset)\n",
    "subset.u[1,:,:].plot()"
   ]
  },
  {
   "cell_type": "code",
   "execution_count": null,
   "metadata": {},
   "outputs": [],
   "source": []
  }
 ],
 "metadata": {
  "kernelspec": {
   "display_name": "Python 3",
   "language": "python",
   "name": "python3"
  },
  "language_info": {
   "codemirror_mode": {
    "name": "ipython",
    "version": 3
   },
   "file_extension": ".py",
   "mimetype": "text/x-python",
   "name": "python",
   "nbconvert_exporter": "python",
   "pygments_lexer": "ipython3",
   "version": "3.7.1"
  }
 },
 "nbformat": 4,
 "nbformat_minor": 2
}
