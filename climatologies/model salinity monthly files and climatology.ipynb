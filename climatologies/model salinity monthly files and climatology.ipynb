{
 "cells": [
  {
   "cell_type": "code",
   "execution_count": 1,
   "metadata": {},
   "outputs": [],
   "source": [
    "import pandas\n",
    "import matplotlib as mpl\n",
    "import xarray as xr\n",
    "import numpy as np\n",
    "import datetime as dt\n",
    "import os.path\n",
    "dir_data='F:/data/model_data/CMEM/global-reanalysis-phy-001-030-monthly/'\n",
    "dir_data_clim='F:/data/model_data/CMEM/global-reanalysis-phy-001-030-monthly/clim/'\n",
    "def sss_filename(d):\n",
    "    dir_data='F:/data/model_data/CMEM/global-reanalysis-phy-001-030-monthly/'\n",
    "    syr, smon, sdym =str(d.year).zfill(4), str(d.month).zfill(2), str(d.day).zfill(2)\n",
    "    fname_tem=syr + '/'+ 'mercatorglorys12v1_gl12_mean_' + syr + smon + '.nc'\n",
    "    filename = dir_data + fname_tem\n",
    "    return filename\n",
    "def sss_filename_new(d):\n",
    "    dir_data='F:/data/model_data/CMEM/global-reanalysis-phy-001-030-monthly/'\n",
    "    syr, smon, sdym =str(d.year).zfill(4), str(d.month).zfill(2), str(d.day).zfill(2)\n",
    "    fname_tem=syr + '/'+ 'subset_mercatorglorys12v1_gl12_mean_' + syr + smon + '.nc'\n",
    "    filename = dir_data + fname_tem\n",
    "    return filename\n",
    "def sss_filename_new_yearly(d):\n",
    "    dir_data='F:/data/model_data/CMEM/global-reanalysis-phy-001-030-monthly/'\n",
    "    syr, smon, sdym =str(d.year).zfill(4), str(d.month).zfill(2), str(d.day).zfill(2)\n",
    "    fname_tem=syr + '/'+ 'year_subset_mercatorglorys12v1_gl12_mean_' + syr + '.nc'\n",
    "    filename = dir_data + fname_tem\n",
    "    return filename\n",
    "def sss_filename_new_monthly(d):\n",
    "    dir_data='F:/data/model_data/CMEM/global-reanalysis-phy-001-030-monthly/'\n",
    "    syr, smon, sdym =str(d.year).zfill(4), str(d.month).zfill(2), str(d.day).zfill(2)\n",
    "    fname_tem=syr + '/'+ 'subset_mercatorglorys12v1_gl12_mean_' + syr + smon + '.nc'\n",
    "    filename = dir_data + fname_tem\n",
    "    return filename\n",
    "\n",
    "def sss_nrt_filename(d):\n",
    "    dir_data='F:/data/model_data/CMEM/global-analysis-forecast-phys_001_015/'\n",
    "    syr, smon, sdym =str(d.year).zfill(4), str(d.month).zfill(2), str(d.day).zfill(2)\n",
    "    d2 = d + dt.timedelta(days = +2)\n",
    "    syr2, smon2, sdym2 =str(d2.year).zfill(4), str(d2.month).zfill(2), str(d2.day).zfill(2)\n",
    "    fname_tem = 'metoffice_coupled_orca025_GL4_SAL_b' + syr2 + smon2 + sdym2 + '_dm' + syr + smon + sdym + '.nc'\n",
    "    filename = dir_data + fname_tem\n",
    "    return filename\n",
    "def ssh_nrt_filename(d):\n",
    "    dir_data='F:/data/model_data/CMEM/global-analysis-forecast-phys_001_015/'\n",
    "    syr, smon, sdym =str(d.year).zfill(4), str(d.month).zfill(2), str(d.day).zfill(2)\n",
    "    d2 = d + dt.timedelta(days = +2)\n",
    "    syr2, smon2, sdym2 =str(d2.year).zfill(4), str(d2.month).zfill(2), str(d2.day).zfill(2)\n",
    "    fname_tem = 'metoffice_coupled_orca025_GL4_SSH_b' + syr2 + smon2 + sdym2 + '_dm' + syr + smon + sdym + '.nc'\n",
    "    filename = dir_data + fname_tem\n",
    "    return filename\n",
    "def sss_nrt_filename_new(d):\n",
    "    dir_data='F:/data/model_data/CMEM/global-analysis-forecast-phys_001_015/'\n",
    "    syr, smon, sdym =str(d.year).zfill(4), str(d.month).zfill(2), str(d.day).zfill(2)\n",
    "    fname_tem = 'monthly/monthly_subset_metoffice_coupled_orca025_GL4_SAL_b' + syr + smon + '_dm20180208.nc'\n",
    "    filename = dir_data + fname_tem\n",
    "    return filename\n",
    "def sss_nrt_filename_new_monthly(d):\n",
    "    dir_data='F:/data/model_data/CMEM/global-analysis-forecast-phys_001_015/'\n",
    "    syr, smon, sdym =str(d.year).zfill(4), str(d.month).zfill(2), str(d.day).zfill(2)\n",
    "    fname_tem = 'monthly/subset_metoffice_coupled_orca025_GL4_SAL_b' + syr + smon+ '_dm20180208.nc'\n",
    "    filename = dir_data + fname_tem\n",
    "    return filename\n",
    "def sss_nrt_filename_new_yearly(d):\n",
    "    dir_data='F:/data/model_data/CMEM/global-analysis-forecast-phys_001_015/'\n",
    "    syr, smon, sdym =str(d.year).zfill(4), str(d.month).zfill(2), str(d.day).zfill(2)\n",
    "    fname_tem = 'monthly/year_subset_metoffice_coupled_orca025_GL4_SAL_b' + syr + '_dm20180208.nc'\n",
    "    filename = dir_data + fname_tem\n",
    "    return filename\n",
    "\n",
    "#get 0.25 km grid from cmc data to downsamplt this\n",
    "filename = 'https://podaac-opendap.jpl.nasa.gov/opendap/allData/ghrsst/data/GDS2/L4/GLOB/CMC/CMC0.2deg/v2/1994/002/19940102120000-CMC-L4_GHRSST-SSTfnd-CMC0.2deg-GLOB-v02.0-fv02.0.nc'\n",
    "ds_v2 = xr.open_dataset(filename)\n",
    "new_lat = np.linspace(ds_v2.lat[0], ds_v2.lat[-1], ds_v2.dims['lat'])\n",
    "new_lon = np.linspace(ds_v2.lon[0], ds_v2.lon[-1], ds_v2.dims['lon'])\n",
    "ds_v2.close()"
   ]
  },
  {
   "cell_type": "code",
   "execution_count": 5,
   "metadata": {},
   "outputs": [],
   "source": [
    "#MONTHLY files are huge becauseo of depth layers, so lower spatial resolution and only save surface data\n",
    "for lyr in range(2018,2019): #2017):\n",
    "    for imon in range(1,13): #3,13):\n",
    "        d = dt.date(lyr,imon,1) \n",
    "        filename = sss_filename(d)\n",
    "        if os.path.exists(filename):      \n",
    "            ds = xr.open_dataset(filename)\n",
    "            ds_subset = ds.sel(depth = ds.depth[0].data)\n",
    "            ds_low_res = ds_subset.interp(latitude = new_lat,longitude = new_lon)\n",
    "            ds.close()\n",
    "            filename_new = sss_filename_new(d)\n",
    "            ds_low_res.to_netcdf(filename_new)\n",
    "            os.remove(filename)"
   ]
  },
  {
   "cell_type": "code",
   "execution_count": null,
   "metadata": {},
   "outputs": [],
   "source": [
    "lyr, idyjl = 2018, 1\n",
    "d = dt.date(lyr,1,1) + dt.timedelta(idyjl - 1)\n",
    "filename = sss_nrt_filename(d)\n",
    "print(filename)\n",
    "ds = xr.open_dataset(filename)\n",
    "ds.close()\n",
    "ds = ds.mean('depth')\n",
    "ds\n",
    "filename = ssh_nrt_filename(d)\n",
    "print(filename)\n",
    "ds2 = xr.open_dataset(filename)\n",
    "ds2.close()\n",
    "ds2\n",
    "ds['zos']=ds2['zos']\n",
    "ds"
   ]
  },
  {
   "cell_type": "code",
   "execution_count": 3,
   "metadata": {},
   "outputs": [
    {
     "name": "stderr",
     "output_type": "stream",
     "text": [
      "C:\\Users\\gentemann\\Miniconda3\\envs\\satenv\\lib\\site-packages\\xarray\\core\\nanops.py:159: RuntimeWarning: Mean of empty slice\n",
      "  return np.nanmean(a, axis=axis, dtype=dtype)\n"
     ]
    },
    {
     "name": "stdout",
     "output_type": "stream",
     "text": [
      "<xarray.Dataset>\n",
      "Dimensions:  (lat: 901, lon: 1800)\n",
      "Coordinates:\n",
      "    depth    float32 0.0\n",
      "  * lat      (lat) float64 -90.0 -89.8 -89.6 -89.4 -89.2 ... 89.4 89.6 89.8 90.0\n",
      "  * lon      (lon) float64 -180.0 -179.8 -179.6 -179.4 ... 179.4 179.6 179.8\n",
      "Data variables:\n",
      "    so       (lat, lon) float64 nan nan nan nan nan nan ... nan nan nan nan nan\n",
      "    zos      (lat, lon) float64 nan nan nan nan nan nan ... nan nan nan nan nan\n",
      "1 Frozen(SortedKeysDict({'lat': 901, 'lon': 1800}))\n"
     ]
    },
    {
     "name": "stderr",
     "output_type": "stream",
     "text": [
      "C:\\Users\\gentemann\\Miniconda3\\envs\\satenv\\lib\\site-packages\\xarray\\core\\nanops.py:159: RuntimeWarning: Mean of empty slice\n",
      "  return np.nanmean(a, axis=axis, dtype=dtype)\n"
     ]
    },
    {
     "name": "stdout",
     "output_type": "stream",
     "text": [
      "<xarray.Dataset>\n",
      "Dimensions:  (lat: 901, lon: 1800)\n",
      "Coordinates:\n",
      "    depth    float32 0.0\n",
      "  * lat      (lat) float64 -90.0 -89.8 -89.6 -89.4 -89.2 ... 89.4 89.6 89.8 90.0\n",
      "  * lon      (lon) float64 -180.0 -179.8 -179.6 -179.4 ... 179.4 179.6 179.8\n",
      "Data variables:\n",
      "    so       (lat, lon) float64 nan nan nan nan nan nan ... nan nan nan nan nan\n",
      "    zos      (lat, lon) float64 nan nan nan nan nan nan ... nan nan nan nan nan\n",
      "2 Frozen(SortedKeysDict({'lat': 901, 'lon': 1800, 'time': 2}))\n"
     ]
    },
    {
     "name": "stderr",
     "output_type": "stream",
     "text": [
      "C:\\Users\\gentemann\\Miniconda3\\envs\\satenv\\lib\\site-packages\\xarray\\core\\nanops.py:159: RuntimeWarning: Mean of empty slice\n",
      "  return np.nanmean(a, axis=axis, dtype=dtype)\n"
     ]
    },
    {
     "name": "stdout",
     "output_type": "stream",
     "text": [
      "<xarray.Dataset>\n",
      "Dimensions:  (lat: 901, lon: 1800)\n",
      "Coordinates:\n",
      "    depth    float32 0.0\n",
      "  * lat      (lat) float64 -90.0 -89.8 -89.6 -89.4 -89.2 ... 89.4 89.6 89.8 90.0\n",
      "  * lon      (lon) float64 -180.0 -179.8 -179.6 -179.4 ... 179.4 179.6 179.8\n",
      "Data variables:\n",
      "    so       (lat, lon) float64 nan nan nan nan nan nan ... nan nan nan nan nan\n",
      "    zos      (lat, lon) float64 nan nan nan nan nan nan ... nan nan nan nan nan\n",
      "3 Frozen(SortedKeysDict({'lat': 901, 'lon': 1800, 'time': 3}))\n"
     ]
    },
    {
     "name": "stderr",
     "output_type": "stream",
     "text": [
      "C:\\Users\\gentemann\\Miniconda3\\envs\\satenv\\lib\\site-packages\\xarray\\core\\nanops.py:159: RuntimeWarning: Mean of empty slice\n",
      "  return np.nanmean(a, axis=axis, dtype=dtype)\n"
     ]
    },
    {
     "name": "stdout",
     "output_type": "stream",
     "text": [
      "<xarray.Dataset>\n",
      "Dimensions:  (lat: 901, lon: 1800)\n",
      "Coordinates:\n",
      "    depth    float32 0.0\n",
      "  * lat      (lat) float64 -90.0 -89.8 -89.6 -89.4 -89.2 ... 89.4 89.6 89.8 90.0\n",
      "  * lon      (lon) float64 -180.0 -179.8 -179.6 -179.4 ... 179.4 179.6 179.8\n",
      "Data variables:\n",
      "    so       (lat, lon) float64 nan nan nan nan nan nan ... nan nan nan nan nan\n",
      "    zos      (lat, lon) float64 nan nan nan nan nan nan ... nan nan nan nan nan\n",
      "4 Frozen(SortedKeysDict({'lat': 901, 'lon': 1800, 'time': 4}))\n"
     ]
    },
    {
     "name": "stderr",
     "output_type": "stream",
     "text": [
      "C:\\Users\\gentemann\\Miniconda3\\envs\\satenv\\lib\\site-packages\\xarray\\core\\nanops.py:159: RuntimeWarning: Mean of empty slice\n",
      "  return np.nanmean(a, axis=axis, dtype=dtype)\n"
     ]
    },
    {
     "name": "stdout",
     "output_type": "stream",
     "text": [
      "<xarray.Dataset>\n",
      "Dimensions:  (lat: 901, lon: 1800)\n",
      "Coordinates:\n",
      "    depth    float32 0.0\n",
      "  * lat      (lat) float64 -90.0 -89.8 -89.6 -89.4 -89.2 ... 89.4 89.6 89.8 90.0\n",
      "  * lon      (lon) float64 -180.0 -179.8 -179.6 -179.4 ... 179.4 179.6 179.8\n",
      "Data variables:\n",
      "    so       (lat, lon) float64 nan nan nan nan nan nan ... nan nan nan nan nan\n",
      "    zos      (lat, lon) float64 nan nan nan nan nan nan ... nan nan nan nan nan\n",
      "5 Frozen(SortedKeysDict({'lat': 901, 'lon': 1800, 'time': 5}))\n"
     ]
    },
    {
     "name": "stderr",
     "output_type": "stream",
     "text": [
      "C:\\Users\\gentemann\\Miniconda3\\envs\\satenv\\lib\\site-packages\\xarray\\core\\nanops.py:159: RuntimeWarning: Mean of empty slice\n",
      "  return np.nanmean(a, axis=axis, dtype=dtype)\n"
     ]
    },
    {
     "name": "stdout",
     "output_type": "stream",
     "text": [
      "<xarray.Dataset>\n",
      "Dimensions:  (lat: 901, lon: 1800)\n",
      "Coordinates:\n",
      "    depth    float32 0.0\n",
      "  * lat      (lat) float64 -90.0 -89.8 -89.6 -89.4 -89.2 ... 89.4 89.6 89.8 90.0\n",
      "  * lon      (lon) float64 -180.0 -179.8 -179.6 -179.4 ... 179.4 179.6 179.8\n",
      "Data variables:\n",
      "    so       (lat, lon) float64 nan nan nan nan nan nan ... nan nan nan nan nan\n",
      "    zos      (lat, lon) float64 nan nan nan nan nan nan ... nan nan nan nan nan\n",
      "6 Frozen(SortedKeysDict({'lat': 901, 'lon': 1800, 'time': 6}))\n"
     ]
    },
    {
     "name": "stderr",
     "output_type": "stream",
     "text": [
      "C:\\Users\\gentemann\\Miniconda3\\envs\\satenv\\lib\\site-packages\\xarray\\core\\nanops.py:159: RuntimeWarning: Mean of empty slice\n",
      "  return np.nanmean(a, axis=axis, dtype=dtype)\n"
     ]
    },
    {
     "name": "stdout",
     "output_type": "stream",
     "text": [
      "<xarray.Dataset>\n",
      "Dimensions:  (lat: 901, lon: 1800)\n",
      "Coordinates:\n",
      "    depth    float32 0.0\n",
      "  * lat      (lat) float64 -90.0 -89.8 -89.6 -89.4 -89.2 ... 89.4 89.6 89.8 90.0\n",
      "  * lon      (lon) float64 -180.0 -179.8 -179.6 -179.4 ... 179.4 179.6 179.8\n",
      "Data variables:\n",
      "    so       (lat, lon) float64 nan nan nan nan nan nan ... nan nan nan nan nan\n",
      "    zos      (lat, lon) float64 nan nan nan nan nan nan ... nan nan nan nan nan\n",
      "7 Frozen(SortedKeysDict({'lat': 901, 'lon': 1800, 'time': 7}))\n"
     ]
    },
    {
     "name": "stderr",
     "output_type": "stream",
     "text": [
      "C:\\Users\\gentemann\\Miniconda3\\envs\\satenv\\lib\\site-packages\\xarray\\core\\nanops.py:159: RuntimeWarning: Mean of empty slice\n",
      "  return np.nanmean(a, axis=axis, dtype=dtype)\n"
     ]
    },
    {
     "name": "stdout",
     "output_type": "stream",
     "text": [
      "<xarray.Dataset>\n",
      "Dimensions:  (lat: 901, lon: 1800)\n",
      "Coordinates:\n",
      "    depth    float32 0.0\n",
      "  * lat      (lat) float64 -90.0 -89.8 -89.6 -89.4 -89.2 ... 89.4 89.6 89.8 90.0\n",
      "  * lon      (lon) float64 -180.0 -179.8 -179.6 -179.4 ... 179.4 179.6 179.8\n",
      "Data variables:\n",
      "    so       (lat, lon) float64 nan nan nan nan nan nan ... nan nan nan nan nan\n",
      "    zos      (lat, lon) float64 nan nan nan nan nan nan ... nan nan nan nan nan\n",
      "8 Frozen(SortedKeysDict({'lat': 901, 'lon': 1800, 'time': 8}))\n"
     ]
    },
    {
     "name": "stderr",
     "output_type": "stream",
     "text": [
      "C:\\Users\\gentemann\\Miniconda3\\envs\\satenv\\lib\\site-packages\\xarray\\core\\nanops.py:159: RuntimeWarning: Mean of empty slice\n",
      "  return np.nanmean(a, axis=axis, dtype=dtype)\n"
     ]
    },
    {
     "name": "stdout",
     "output_type": "stream",
     "text": [
      "<xarray.Dataset>\n",
      "Dimensions:  (lat: 901, lon: 1800)\n",
      "Coordinates:\n",
      "    depth    float32 0.0\n",
      "  * lat      (lat) float64 -90.0 -89.8 -89.6 -89.4 -89.2 ... 89.4 89.6 89.8 90.0\n",
      "  * lon      (lon) float64 -180.0 -179.8 -179.6 -179.4 ... 179.4 179.6 179.8\n",
      "Data variables:\n",
      "    so       (lat, lon) float64 nan nan nan nan nan nan ... nan nan nan nan nan\n",
      "    zos      (lat, lon) float64 nan nan nan nan nan nan ... nan nan nan nan nan\n",
      "9 Frozen(SortedKeysDict({'lat': 901, 'lon': 1800, 'time': 9}))\n"
     ]
    },
    {
     "name": "stderr",
     "output_type": "stream",
     "text": [
      "C:\\Users\\gentemann\\Miniconda3\\envs\\satenv\\lib\\site-packages\\xarray\\core\\nanops.py:159: RuntimeWarning: Mean of empty slice\n",
      "  return np.nanmean(a, axis=axis, dtype=dtype)\n"
     ]
    },
    {
     "name": "stdout",
     "output_type": "stream",
     "text": [
      "<xarray.Dataset>\n",
      "Dimensions:  (lat: 901, lon: 1800)\n",
      "Coordinates:\n",
      "    depth    float32 0.0\n",
      "  * lat      (lat) float64 -90.0 -89.8 -89.6 -89.4 -89.2 ... 89.4 89.6 89.8 90.0\n",
      "  * lon      (lon) float64 -180.0 -179.8 -179.6 -179.4 ... 179.4 179.6 179.8\n",
      "Data variables:\n",
      "    so       (lat, lon) float64 nan nan nan nan nan nan ... nan nan nan nan nan\n",
      "    zos      (lat, lon) float64 nan nan nan nan nan nan ... nan nan nan nan nan\n",
      "10 Frozen(SortedKeysDict({'lat': 901, 'lon': 1800, 'time': 10}))\n"
     ]
    },
    {
     "name": "stderr",
     "output_type": "stream",
     "text": [
      "C:\\Users\\gentemann\\Miniconda3\\envs\\satenv\\lib\\site-packages\\xarray\\core\\nanops.py:159: RuntimeWarning: Mean of empty slice\n",
      "  return np.nanmean(a, axis=axis, dtype=dtype)\n"
     ]
    },
    {
     "name": "stdout",
     "output_type": "stream",
     "text": [
      "<xarray.Dataset>\n",
      "Dimensions:  (lat: 901, lon: 1800)\n",
      "Coordinates:\n",
      "    depth    float32 0.0\n",
      "  * lat      (lat) float64 -90.0 -89.8 -89.6 -89.4 -89.2 ... 89.4 89.6 89.8 90.0\n",
      "  * lon      (lon) float64 -180.0 -179.8 -179.6 -179.4 ... 179.4 179.6 179.8\n",
      "Data variables:\n",
      "    so       (lat, lon) float64 nan nan nan nan nan nan ... nan nan nan nan nan\n",
      "    zos      (lat, lon) float64 nan nan nan nan nan nan ... nan nan nan nan nan\n",
      "11 Frozen(SortedKeysDict({'lat': 901, 'lon': 1800, 'time': 11}))\n"
     ]
    },
    {
     "name": "stderr",
     "output_type": "stream",
     "text": [
      "C:\\Users\\gentemann\\Miniconda3\\envs\\satenv\\lib\\site-packages\\xarray\\core\\nanops.py:159: RuntimeWarning: Mean of empty slice\n",
      "  return np.nanmean(a, axis=axis, dtype=dtype)\n"
     ]
    },
    {
     "name": "stdout",
     "output_type": "stream",
     "text": [
      "<xarray.Dataset>\n",
      "Dimensions:  (lat: 901, lon: 1800)\n",
      "Coordinates:\n",
      "    depth    float32 0.0\n",
      "  * lat      (lat) float64 -90.0 -89.8 -89.6 -89.4 -89.2 ... 89.4 89.6 89.8 90.0\n",
      "  * lon      (lon) float64 -180.0 -179.8 -179.6 -179.4 ... 179.4 179.6 179.8\n",
      "Data variables:\n",
      "    so       (lat, lon) float64 nan nan nan nan nan nan ... nan nan nan nan nan\n",
      "    zos      (lat, lon) float64 nan nan nan nan nan nan ... nan nan nan nan nan\n",
      "12 Frozen(SortedKeysDict({'lat': 901, 'lon': 1800, 'time': 12}))\n"
     ]
    },
    {
     "name": "stderr",
     "output_type": "stream",
     "text": [
      "C:\\Users\\gentemann\\Miniconda3\\envs\\satenv\\lib\\site-packages\\xarray\\core\\nanops.py:159: RuntimeWarning: Mean of empty slice\n",
      "  return np.nanmean(a, axis=axis, dtype=dtype)\n"
     ]
    },
    {
     "name": "stdout",
     "output_type": "stream",
     "text": [
      "<xarray.Dataset>\n",
      "Dimensions:  (lat: 901, lon: 1800)\n",
      "Coordinates:\n",
      "    depth    float32 0.0\n",
      "  * lat      (lat) float64 -90.0 -89.8 -89.6 -89.4 -89.2 ... 89.4 89.6 89.8 90.0\n",
      "  * lon      (lon) float64 -180.0 -179.8 -179.6 -179.4 ... 179.4 179.6 179.8\n",
      "Data variables:\n",
      "    so       (lat, lon) float64 nan nan nan nan nan nan ... nan nan nan nan nan\n",
      "    zos      (lat, lon) float64 nan nan nan nan nan nan ... nan nan nan nan nan\n",
      "13 Frozen(SortedKeysDict({'lat': 901, 'lon': 1800, 'time': 13}))\n"
     ]
    },
    {
     "name": "stderr",
     "output_type": "stream",
     "text": [
      "C:\\Users\\gentemann\\Miniconda3\\envs\\satenv\\lib\\site-packages\\xarray\\core\\nanops.py:159: RuntimeWarning: Mean of empty slice\n",
      "  return np.nanmean(a, axis=axis, dtype=dtype)\n"
     ]
    },
    {
     "name": "stdout",
     "output_type": "stream",
     "text": [
      "<xarray.Dataset>\n",
      "Dimensions:  (lat: 901, lon: 1800)\n",
      "Coordinates:\n",
      "    depth    float32 0.0\n",
      "  * lat      (lat) float64 -90.0 -89.8 -89.6 -89.4 -89.2 ... 89.4 89.6 89.8 90.0\n",
      "  * lon      (lon) float64 -180.0 -179.8 -179.6 -179.4 ... 179.4 179.6 179.8\n",
      "Data variables:\n",
      "    so       (lat, lon) float64 nan nan nan nan nan nan ... nan nan nan nan nan\n",
      "    zos      (lat, lon) float64 nan nan nan nan nan nan ... nan nan nan nan nan\n",
      "14 Frozen(SortedKeysDict({'lat': 901, 'lon': 1800, 'time': 14}))\n"
     ]
    },
    {
     "name": "stderr",
     "output_type": "stream",
     "text": [
      "C:\\Users\\gentemann\\Miniconda3\\envs\\satenv\\lib\\site-packages\\xarray\\core\\nanops.py:159: RuntimeWarning: Mean of empty slice\n",
      "  return np.nanmean(a, axis=axis, dtype=dtype)\n"
     ]
    },
    {
     "name": "stdout",
     "output_type": "stream",
     "text": [
      "<xarray.Dataset>\n",
      "Dimensions:  (lat: 901, lon: 1800)\n",
      "Coordinates:\n",
      "    depth    float32 0.0\n",
      "  * lat      (lat) float64 -90.0 -89.8 -89.6 -89.4 -89.2 ... 89.4 89.6 89.8 90.0\n",
      "  * lon      (lon) float64 -180.0 -179.8 -179.6 -179.4 ... 179.4 179.6 179.8\n",
      "Data variables:\n",
      "    so       (lat, lon) float64 nan nan nan nan nan nan ... nan nan nan nan nan\n",
      "    zos      (lat, lon) float64 nan nan nan nan nan nan ... nan nan nan nan nan\n",
      "15 Frozen(SortedKeysDict({'lat': 901, 'lon': 1800, 'time': 15}))\n"
     ]
    },
    {
     "name": "stderr",
     "output_type": "stream",
     "text": [
      "C:\\Users\\gentemann\\Miniconda3\\envs\\satenv\\lib\\site-packages\\xarray\\core\\nanops.py:159: RuntimeWarning: Mean of empty slice\n",
      "  return np.nanmean(a, axis=axis, dtype=dtype)\n"
     ]
    },
    {
     "name": "stdout",
     "output_type": "stream",
     "text": [
      "<xarray.Dataset>\n",
      "Dimensions:  (lat: 901, lon: 1800)\n",
      "Coordinates:\n",
      "    depth    float32 0.0\n",
      "  * lat      (lat) float64 -90.0 -89.8 -89.6 -89.4 -89.2 ... 89.4 89.6 89.8 90.0\n",
      "  * lon      (lon) float64 -180.0 -179.8 -179.6 -179.4 ... 179.4 179.6 179.8\n",
      "Data variables:\n",
      "    so       (lat, lon) float64 nan nan nan nan nan nan ... nan nan nan nan nan\n",
      "    zos      (lat, lon) float64 nan nan nan nan nan nan ... nan nan nan nan nan\n",
      "16 Frozen(SortedKeysDict({'lat': 901, 'lon': 1800, 'time': 16}))\n"
     ]
    },
    {
     "name": "stderr",
     "output_type": "stream",
     "text": [
      "C:\\Users\\gentemann\\Miniconda3\\envs\\satenv\\lib\\site-packages\\xarray\\core\\nanops.py:159: RuntimeWarning: Mean of empty slice\n",
      "  return np.nanmean(a, axis=axis, dtype=dtype)\n"
     ]
    },
    {
     "name": "stdout",
     "output_type": "stream",
     "text": [
      "<xarray.Dataset>\n",
      "Dimensions:  (lat: 901, lon: 1800)\n",
      "Coordinates:\n",
      "    depth    float32 0.0\n",
      "  * lat      (lat) float64 -90.0 -89.8 -89.6 -89.4 -89.2 ... 89.4 89.6 89.8 90.0\n",
      "  * lon      (lon) float64 -180.0 -179.8 -179.6 -179.4 ... 179.4 179.6 179.8\n",
      "Data variables:\n",
      "    so       (lat, lon) float64 nan nan nan nan nan nan ... nan nan nan nan nan\n",
      "    zos      (lat, lon) float64 nan nan nan nan nan nan ... nan nan nan nan nan\n",
      "17 Frozen(SortedKeysDict({'lat': 901, 'lon': 1800, 'time': 17}))\n"
     ]
    },
    {
     "name": "stderr",
     "output_type": "stream",
     "text": [
      "C:\\Users\\gentemann\\Miniconda3\\envs\\satenv\\lib\\site-packages\\xarray\\core\\nanops.py:159: RuntimeWarning: Mean of empty slice\n",
      "  return np.nanmean(a, axis=axis, dtype=dtype)\n"
     ]
    },
    {
     "name": "stdout",
     "output_type": "stream",
     "text": [
      "<xarray.Dataset>\n",
      "Dimensions:  (lat: 901, lon: 1800)\n",
      "Coordinates:\n",
      "    depth    float32 0.0\n",
      "  * lat      (lat) float64 -90.0 -89.8 -89.6 -89.4 -89.2 ... 89.4 89.6 89.8 90.0\n",
      "  * lon      (lon) float64 -180.0 -179.8 -179.6 -179.4 ... 179.4 179.6 179.8\n",
      "Data variables:\n",
      "    so       (lat, lon) float64 nan nan nan nan nan nan ... nan nan nan nan nan\n",
      "    zos      (lat, lon) float64 nan nan nan nan nan nan ... nan nan nan nan nan\n",
      "18 Frozen(SortedKeysDict({'lat': 901, 'lon': 1800, 'time': 18}))\n"
     ]
    },
    {
     "name": "stderr",
     "output_type": "stream",
     "text": [
      "C:\\Users\\gentemann\\Miniconda3\\envs\\satenv\\lib\\site-packages\\xarray\\core\\nanops.py:159: RuntimeWarning: Mean of empty slice\n",
      "  return np.nanmean(a, axis=axis, dtype=dtype)\n"
     ]
    },
    {
     "name": "stdout",
     "output_type": "stream",
     "text": [
      "<xarray.Dataset>\n",
      "Dimensions:  (lat: 901, lon: 1800)\n",
      "Coordinates:\n",
      "    depth    float32 0.0\n",
      "  * lat      (lat) float64 -90.0 -89.8 -89.6 -89.4 -89.2 ... 89.4 89.6 89.8 90.0\n",
      "  * lon      (lon) float64 -180.0 -179.8 -179.6 -179.4 ... 179.4 179.6 179.8\n",
      "Data variables:\n",
      "    so       (lat, lon) float64 nan nan nan nan nan nan ... nan nan nan nan nan\n",
      "    zos      (lat, lon) float64 nan nan nan nan nan nan ... nan nan nan nan nan\n",
      "19 Frozen(SortedKeysDict({'lat': 901, 'lon': 1800, 'time': 19}))\n"
     ]
    },
    {
     "name": "stderr",
     "output_type": "stream",
     "text": [
      "C:\\Users\\gentemann\\Miniconda3\\envs\\satenv\\lib\\site-packages\\xarray\\core\\nanops.py:159: RuntimeWarning: Mean of empty slice\n",
      "  return np.nanmean(a, axis=axis, dtype=dtype)\n"
     ]
    },
    {
     "name": "stdout",
     "output_type": "stream",
     "text": [
      "<xarray.Dataset>\n",
      "Dimensions:  (lat: 901, lon: 1800)\n",
      "Coordinates:\n",
      "    depth    float32 0.0\n",
      "  * lat      (lat) float64 -90.0 -89.8 -89.6 -89.4 -89.2 ... 89.4 89.6 89.8 90.0\n",
      "  * lon      (lon) float64 -180.0 -179.8 -179.6 -179.4 ... 179.4 179.6 179.8\n",
      "Data variables:\n",
      "    so       (lat, lon) float64 nan nan nan nan nan nan ... nan nan nan nan nan\n",
      "    zos      (lat, lon) float64 nan nan nan nan nan nan ... nan nan nan nan nan\n",
      "20 Frozen(SortedKeysDict({'lat': 901, 'lon': 1800, 'time': 20}))\n"
     ]
    },
    {
     "name": "stderr",
     "output_type": "stream",
     "text": [
      "C:\\Users\\gentemann\\Miniconda3\\envs\\satenv\\lib\\site-packages\\xarray\\core\\nanops.py:159: RuntimeWarning: Mean of empty slice\n",
      "  return np.nanmean(a, axis=axis, dtype=dtype)\n"
     ]
    },
    {
     "name": "stdout",
     "output_type": "stream",
     "text": [
      "<xarray.Dataset>\n",
      "Dimensions:  (lat: 901, lon: 1800)\n",
      "Coordinates:\n",
      "    depth    float32 0.0\n",
      "  * lat      (lat) float64 -90.0 -89.8 -89.6 -89.4 -89.2 ... 89.4 89.6 89.8 90.0\n",
      "  * lon      (lon) float64 -180.0 -179.8 -179.6 -179.4 ... 179.4 179.6 179.8\n",
      "Data variables:\n",
      "    so       (lat, lon) float64 nan nan nan nan nan nan ... nan nan nan nan nan\n",
      "    zos      (lat, lon) float64 nan nan nan nan nan nan ... nan nan nan nan nan\n",
      "21 Frozen(SortedKeysDict({'lat': 901, 'lon': 1800, 'time': 21}))\n"
     ]
    },
    {
     "name": "stderr",
     "output_type": "stream",
     "text": [
      "C:\\Users\\gentemann\\Miniconda3\\envs\\satenv\\lib\\site-packages\\xarray\\core\\nanops.py:159: RuntimeWarning: Mean of empty slice\n",
      "  return np.nanmean(a, axis=axis, dtype=dtype)\n"
     ]
    },
    {
     "name": "stdout",
     "output_type": "stream",
     "text": [
      "<xarray.Dataset>\n",
      "Dimensions:  (lat: 901, lon: 1800)\n",
      "Coordinates:\n",
      "    depth    float32 0.0\n",
      "  * lat      (lat) float64 -90.0 -89.8 -89.6 -89.4 -89.2 ... 89.4 89.6 89.8 90.0\n",
      "  * lon      (lon) float64 -180.0 -179.8 -179.6 -179.4 ... 179.4 179.6 179.8\n",
      "Data variables:\n",
      "    so       (lat, lon) float64 nan nan nan nan nan nan ... nan nan nan nan nan\n",
      "    zos      (lat, lon) float64 nan nan nan nan nan nan ... nan nan nan nan nan\n",
      "22 Frozen(SortedKeysDict({'lat': 901, 'lon': 1800, 'time': 22}))\n"
     ]
    },
    {
     "name": "stderr",
     "output_type": "stream",
     "text": [
      "C:\\Users\\gentemann\\Miniconda3\\envs\\satenv\\lib\\site-packages\\xarray\\core\\nanops.py:159: RuntimeWarning: Mean of empty slice\n",
      "  return np.nanmean(a, axis=axis, dtype=dtype)\n"
     ]
    },
    {
     "name": "stdout",
     "output_type": "stream",
     "text": [
      "<xarray.Dataset>\n",
      "Dimensions:  (lat: 901, lon: 1800)\n",
      "Coordinates:\n",
      "    depth    float32 0.0\n",
      "  * lat      (lat) float64 -90.0 -89.8 -89.6 -89.4 -89.2 ... 89.4 89.6 89.8 90.0\n",
      "  * lon      (lon) float64 -180.0 -179.8 -179.6 -179.4 ... 179.4 179.6 179.8\n",
      "Data variables:\n",
      "    so       (lat, lon) float64 nan nan nan nan nan nan ... nan nan nan nan nan\n",
      "    zos      (lat, lon) float64 nan nan nan nan nan nan ... nan nan nan nan nan\n",
      "23 Frozen(SortedKeysDict({'lat': 901, 'lon': 1800, 'time': 23}))\n"
     ]
    },
    {
     "name": "stderr",
     "output_type": "stream",
     "text": [
      "C:\\Users\\gentemann\\Miniconda3\\envs\\satenv\\lib\\site-packages\\xarray\\core\\nanops.py:159: RuntimeWarning: Mean of empty slice\n",
      "  return np.nanmean(a, axis=axis, dtype=dtype)\n"
     ]
    },
    {
     "name": "stdout",
     "output_type": "stream",
     "text": [
      "<xarray.Dataset>\n",
      "Dimensions:  (lat: 901, lon: 1800)\n",
      "Coordinates:\n",
      "    depth    float32 0.0\n",
      "  * lat      (lat) float64 -90.0 -89.8 -89.6 -89.4 -89.2 ... 89.4 89.6 89.8 90.0\n",
      "  * lon      (lon) float64 -180.0 -179.8 -179.6 -179.4 ... 179.4 179.6 179.8\n",
      "Data variables:\n",
      "    so       (lat, lon) float64 nan nan nan nan nan nan ... nan nan nan nan nan\n",
      "    zos      (lat, lon) float64 nan nan nan nan nan nan ... nan nan nan nan nan\n",
      "24 Frozen(SortedKeysDict({'lat': 901, 'lon': 1800, 'time': 24}))\n"
     ]
    },
    {
     "name": "stderr",
     "output_type": "stream",
     "text": [
      "C:\\Users\\gentemann\\Miniconda3\\envs\\satenv\\lib\\site-packages\\xarray\\core\\nanops.py:159: RuntimeWarning: Mean of empty slice\n",
      "  return np.nanmean(a, axis=axis, dtype=dtype)\n"
     ]
    },
    {
     "name": "stdout",
     "output_type": "stream",
     "text": [
      "<xarray.Dataset>\n",
      "Dimensions:  (lat: 901, lon: 1800)\n",
      "Coordinates:\n",
      "    depth    float32 0.0\n",
      "  * lat      (lat) float64 -90.0 -89.8 -89.6 -89.4 -89.2 ... 89.4 89.6 89.8 90.0\n",
      "  * lon      (lon) float64 -180.0 -179.8 -179.6 -179.4 ... 179.4 179.6 179.8\n",
      "Data variables:\n",
      "    so       (lat, lon) float64 nan nan nan nan nan nan ... nan nan nan nan nan\n",
      "    zos      (lat, lon) float64 nan nan nan nan nan nan ... nan nan nan nan nan\n",
      "25 Frozen(SortedKeysDict({'lat': 901, 'lon': 1800, 'time': 25}))\n"
     ]
    },
    {
     "name": "stderr",
     "output_type": "stream",
     "text": [
      "C:\\Users\\gentemann\\Miniconda3\\envs\\satenv\\lib\\site-packages\\xarray\\core\\nanops.py:159: RuntimeWarning: Mean of empty slice\n",
      "  return np.nanmean(a, axis=axis, dtype=dtype)\n"
     ]
    },
    {
     "name": "stdout",
     "output_type": "stream",
     "text": [
      "<xarray.Dataset>\n",
      "Dimensions:  (lat: 901, lon: 1800)\n",
      "Coordinates:\n",
      "    depth    float32 0.0\n",
      "  * lat      (lat) float64 -90.0 -89.8 -89.6 -89.4 -89.2 ... 89.4 89.6 89.8 90.0\n",
      "  * lon      (lon) float64 -180.0 -179.8 -179.6 -179.4 ... 179.4 179.6 179.8\n",
      "Data variables:\n",
      "    so       (lat, lon) float64 nan nan nan nan nan nan ... nan nan nan nan nan\n",
      "    zos      (lat, lon) float64 nan nan nan nan nan nan ... nan nan nan nan nan\n",
      "26 Frozen(SortedKeysDict({'lat': 901, 'lon': 1800, 'time': 26}))\n"
     ]
    },
    {
     "name": "stderr",
     "output_type": "stream",
     "text": [
      "C:\\Users\\gentemann\\Miniconda3\\envs\\satenv\\lib\\site-packages\\xarray\\core\\nanops.py:159: RuntimeWarning: Mean of empty slice\n",
      "  return np.nanmean(a, axis=axis, dtype=dtype)\n"
     ]
    },
    {
     "name": "stdout",
     "output_type": "stream",
     "text": [
      "<xarray.Dataset>\n",
      "Dimensions:  (lat: 901, lon: 1800)\n",
      "Coordinates:\n",
      "    depth    float32 0.0\n",
      "  * lat      (lat) float64 -90.0 -89.8 -89.6 -89.4 -89.2 ... 89.4 89.6 89.8 90.0\n",
      "  * lon      (lon) float64 -180.0 -179.8 -179.6 -179.4 ... 179.4 179.6 179.8\n",
      "Data variables:\n",
      "    so       (lat, lon) float64 nan nan nan nan nan nan ... nan nan nan nan nan\n",
      "    zos      (lat, lon) float64 nan nan nan nan nan nan ... nan nan nan nan nan\n",
      "27 Frozen(SortedKeysDict({'lat': 901, 'lon': 1800, 'time': 27}))\n"
     ]
    },
    {
     "name": "stderr",
     "output_type": "stream",
     "text": [
      "C:\\Users\\gentemann\\Miniconda3\\envs\\satenv\\lib\\site-packages\\xarray\\core\\nanops.py:159: RuntimeWarning: Mean of empty slice\n",
      "  return np.nanmean(a, axis=axis, dtype=dtype)\n"
     ]
    },
    {
     "name": "stdout",
     "output_type": "stream",
     "text": [
      "<xarray.Dataset>\n",
      "Dimensions:  (lat: 901, lon: 1800)\n",
      "Coordinates:\n",
      "    depth    float32 0.0\n",
      "  * lat      (lat) float64 -90.0 -89.8 -89.6 -89.4 -89.2 ... 89.4 89.6 89.8 90.0\n",
      "  * lon      (lon) float64 -180.0 -179.8 -179.6 -179.4 ... 179.4 179.6 179.8\n",
      "Data variables:\n",
      "    so       (lat, lon) float64 nan nan nan nan nan nan ... nan nan nan nan nan\n",
      "    zos      (lat, lon) float64 nan nan nan nan nan nan ... nan nan nan nan nan\n",
      "28 Frozen(SortedKeysDict({'lat': 901, 'lon': 1800, 'time': 28}))\n"
     ]
    },
    {
     "name": "stderr",
     "output_type": "stream",
     "text": [
      "C:\\Users\\gentemann\\Miniconda3\\envs\\satenv\\lib\\site-packages\\xarray\\core\\nanops.py:159: RuntimeWarning: Mean of empty slice\n",
      "  return np.nanmean(a, axis=axis, dtype=dtype)\n"
     ]
    },
    {
     "name": "stdout",
     "output_type": "stream",
     "text": [
      "<xarray.Dataset>\n",
      "Dimensions:  (lat: 901, lon: 1800)\n",
      "Coordinates:\n",
      "    depth    float32 0.0\n",
      "  * lat      (lat) float64 -90.0 -89.8 -89.6 -89.4 -89.2 ... 89.4 89.6 89.8 90.0\n",
      "  * lon      (lon) float64 -180.0 -179.8 -179.6 -179.4 ... 179.4 179.6 179.8\n",
      "Data variables:\n",
      "    so       (lat, lon) float64 nan nan nan nan nan nan ... nan nan nan nan nan\n",
      "    zos      (lat, lon) float64 nan nan nan nan nan nan ... nan nan nan nan nan\n",
      "29 Frozen(SortedKeysDict({'lat': 901, 'lon': 1800, 'time': 29}))\n"
     ]
    },
    {
     "name": "stderr",
     "output_type": "stream",
     "text": [
      "C:\\Users\\gentemann\\Miniconda3\\envs\\satenv\\lib\\site-packages\\xarray\\core\\nanops.py:159: RuntimeWarning: Mean of empty slice\n",
      "  return np.nanmean(a, axis=axis, dtype=dtype)\n"
     ]
    },
    {
     "name": "stdout",
     "output_type": "stream",
     "text": [
      "<xarray.Dataset>\n",
      "Dimensions:  (lat: 901, lon: 1800)\n",
      "Coordinates:\n",
      "    depth    float32 0.0\n",
      "  * lat      (lat) float64 -90.0 -89.8 -89.6 -89.4 -89.2 ... 89.4 89.6 89.8 90.0\n",
      "  * lon      (lon) float64 -180.0 -179.8 -179.6 -179.4 ... 179.4 179.6 179.8\n",
      "Data variables:\n",
      "    so       (lat, lon) float64 nan nan nan nan nan nan ... nan nan nan nan nan\n",
      "    zos      (lat, lon) float64 nan nan nan nan nan nan ... nan nan nan nan nan\n",
      "30 Frozen(SortedKeysDict({'lat': 901, 'lon': 1800, 'time': 30}))\n"
     ]
    },
    {
     "name": "stderr",
     "output_type": "stream",
     "text": [
      "C:\\Users\\gentemann\\Miniconda3\\envs\\satenv\\lib\\site-packages\\xarray\\core\\nanops.py:159: RuntimeWarning: Mean of empty slice\n",
      "  return np.nanmean(a, axis=axis, dtype=dtype)\n"
     ]
    },
    {
     "name": "stdout",
     "output_type": "stream",
     "text": [
      "<xarray.Dataset>\n",
      "Dimensions:  (lat: 901, lon: 1800)\n",
      "Coordinates:\n",
      "    depth    float32 0.0\n",
      "  * lat      (lat) float64 -90.0 -89.8 -89.6 -89.4 -89.2 ... 89.4 89.6 89.8 90.0\n",
      "  * lon      (lon) float64 -180.0 -179.8 -179.6 -179.4 ... 179.4 179.6 179.8\n",
      "Data variables:\n",
      "    so       (lat, lon) float64 nan nan nan nan nan nan ... nan nan nan nan nan\n",
      "    zos      (lat, lon) float64 nan nan nan nan nan nan ... nan nan nan nan nan\n",
      "31 Frozen(SortedKeysDict({'lat': 901, 'lon': 1800, 'time': 31}))\n"
     ]
    },
    {
     "name": "stderr",
     "output_type": "stream",
     "text": [
      "C:\\Users\\gentemann\\Miniconda3\\envs\\satenv\\lib\\site-packages\\xarray\\core\\nanops.py:159: RuntimeWarning: Mean of empty slice\n",
      "  return np.nanmean(a, axis=axis, dtype=dtype)\n"
     ]
    },
    {
     "name": "stdout",
     "output_type": "stream",
     "text": [
      "out: F:/data/model_data/CMEM/global-analysis-forecast-phys_001_015/monthly/subset_metoffice_coupled_orca025_GL4_SAL_b201801_dm20180208.nc\n",
      "<xarray.Dataset>\n",
      "Dimensions:  (lat: 901, lon: 1800)\n",
      "Coordinates:\n",
      "    depth    float32 0.0\n",
      "  * lat      (lat) float64 -90.0 -89.8 -89.6 -89.4 -89.2 ... 89.4 89.6 89.8 90.0\n",
      "  * lon      (lon) float64 -180.0 -179.8 -179.6 -179.4 ... 179.4 179.6 179.8\n",
      "Data variables:\n",
      "    so       (lat, lon) float64 nan nan nan nan nan nan ... nan nan nan nan nan\n",
      "    zos      (lat, lon) float64 nan nan nan nan nan nan ... nan nan nan nan nan\n",
      "32 Frozen(SortedKeysDict({'lat': 901, 'lon': 1800}))\n",
      "<xarray.Dataset>\n",
      "Dimensions:  (lat: 901, lon: 1800)\n",
      "Coordinates:\n",
      "    depth    float32 0.0\n",
      "  * lat      (lat) float64 -90.0 -89.8 -89.6 -89.4 -89.2 ... 89.4 89.6 89.8 90.0\n",
      "  * lon      (lon) float64 -180.0 -179.8 -179.6 -179.4 ... 179.4 179.6 179.8\n",
      "Data variables:\n",
      "    so       (lat, lon) float64 nan nan nan nan nan nan ... nan nan nan nan nan\n",
      "    zos      (lat, lon) float64 nan nan nan nan nan nan ... nan nan nan nan nan\n",
      "33 Frozen(SortedKeysDict({'lat': 901, 'lon': 1800, 'time': 2}))\n"
     ]
    },
    {
     "name": "stderr",
     "output_type": "stream",
     "text": [
      "C:\\Users\\gentemann\\Miniconda3\\envs\\satenv\\lib\\site-packages\\xarray\\core\\nanops.py:159: RuntimeWarning: Mean of empty slice\n",
      "  return np.nanmean(a, axis=axis, dtype=dtype)\n"
     ]
    },
    {
     "name": "stdout",
     "output_type": "stream",
     "text": [
      "<xarray.Dataset>\n",
      "Dimensions:  (lat: 901, lon: 1800)\n",
      "Coordinates:\n",
      "    depth    float32 0.0\n",
      "  * lat      (lat) float64 -90.0 -89.8 -89.6 -89.4 -89.2 ... 89.4 89.6 89.8 90.0\n",
      "  * lon      (lon) float64 -180.0 -179.8 -179.6 -179.4 ... 179.4 179.6 179.8\n",
      "Data variables:\n",
      "    so       (lat, lon) float64 nan nan nan nan nan nan ... nan nan nan nan nan\n",
      "    zos      (lat, lon) float64 nan nan nan nan nan nan ... nan nan nan nan nan\n",
      "34 Frozen(SortedKeysDict({'lat': 901, 'lon': 1800, 'time': 3}))\n"
     ]
    },
    {
     "name": "stderr",
     "output_type": "stream",
     "text": [
      "C:\\Users\\gentemann\\Miniconda3\\envs\\satenv\\lib\\site-packages\\xarray\\core\\nanops.py:159: RuntimeWarning: Mean of empty slice\n",
      "  return np.nanmean(a, axis=axis, dtype=dtype)\n"
     ]
    },
    {
     "name": "stdout",
     "output_type": "stream",
     "text": [
      "<xarray.Dataset>\n",
      "Dimensions:  (lat: 901, lon: 1800)\n",
      "Coordinates:\n",
      "    depth    float32 0.0\n",
      "  * lat      (lat) float64 -90.0 -89.8 -89.6 -89.4 -89.2 ... 89.4 89.6 89.8 90.0\n",
      "  * lon      (lon) float64 -180.0 -179.8 -179.6 -179.4 ... 179.4 179.6 179.8\n",
      "Data variables:\n",
      "    so       (lat, lon) float64 nan nan nan nan nan nan ... nan nan nan nan nan\n",
      "    zos      (lat, lon) float64 nan nan nan nan nan nan ... nan nan nan nan nan\n",
      "35 Frozen(SortedKeysDict({'lat': 901, 'lon': 1800, 'time': 4}))\n"
     ]
    },
    {
     "name": "stderr",
     "output_type": "stream",
     "text": [
      "C:\\Users\\gentemann\\Miniconda3\\envs\\satenv\\lib\\site-packages\\xarray\\core\\nanops.py:159: RuntimeWarning: Mean of empty slice\n",
      "  return np.nanmean(a, axis=axis, dtype=dtype)\n"
     ]
    },
    {
     "name": "stdout",
     "output_type": "stream",
     "text": [
      "<xarray.Dataset>\n",
      "Dimensions:  (lat: 901, lon: 1800)\n",
      "Coordinates:\n",
      "    depth    float32 0.0\n",
      "  * lat      (lat) float64 -90.0 -89.8 -89.6 -89.4 -89.2 ... 89.4 89.6 89.8 90.0\n",
      "  * lon      (lon) float64 -180.0 -179.8 -179.6 -179.4 ... 179.4 179.6 179.8\n",
      "Data variables:\n",
      "    so       (lat, lon) float64 nan nan nan nan nan nan ... nan nan nan nan nan\n",
      "    zos      (lat, lon) float64 nan nan nan nan nan nan ... nan nan nan nan nan\n",
      "36 Frozen(SortedKeysDict({'lat': 901, 'lon': 1800, 'time': 5}))\n"
     ]
    },
    {
     "name": "stderr",
     "output_type": "stream",
     "text": [
      "C:\\Users\\gentemann\\Miniconda3\\envs\\satenv\\lib\\site-packages\\xarray\\core\\nanops.py:159: RuntimeWarning: Mean of empty slice\n",
      "  return np.nanmean(a, axis=axis, dtype=dtype)\n"
     ]
    },
    {
     "name": "stdout",
     "output_type": "stream",
     "text": [
      "<xarray.Dataset>\n",
      "Dimensions:  (lat: 901, lon: 1800)\n",
      "Coordinates:\n",
      "    depth    float32 0.0\n",
      "  * lat      (lat) float64 -90.0 -89.8 -89.6 -89.4 -89.2 ... 89.4 89.6 89.8 90.0\n",
      "  * lon      (lon) float64 -180.0 -179.8 -179.6 -179.4 ... 179.4 179.6 179.8\n",
      "Data variables:\n",
      "    so       (lat, lon) float64 nan nan nan nan nan nan ... nan nan nan nan nan\n",
      "    zos      (lat, lon) float64 nan nan nan nan nan nan ... nan nan nan nan nan\n",
      "37 Frozen(SortedKeysDict({'lat': 901, 'lon': 1800, 'time': 6}))\n"
     ]
    },
    {
     "name": "stderr",
     "output_type": "stream",
     "text": [
      "C:\\Users\\gentemann\\Miniconda3\\envs\\satenv\\lib\\site-packages\\xarray\\core\\nanops.py:159: RuntimeWarning: Mean of empty slice\n",
      "  return np.nanmean(a, axis=axis, dtype=dtype)\n"
     ]
    },
    {
     "name": "stdout",
     "output_type": "stream",
     "text": [
      "<xarray.Dataset>\n",
      "Dimensions:  (lat: 901, lon: 1800)\n",
      "Coordinates:\n",
      "    depth    float32 0.0\n",
      "  * lat      (lat) float64 -90.0 -89.8 -89.6 -89.4 -89.2 ... 89.4 89.6 89.8 90.0\n",
      "  * lon      (lon) float64 -180.0 -179.8 -179.6 -179.4 ... 179.4 179.6 179.8\n",
      "Data variables:\n",
      "    so       (lat, lon) float64 nan nan nan nan nan nan ... nan nan nan nan nan\n",
      "    zos      (lat, lon) float64 nan nan nan nan nan nan ... nan nan nan nan nan\n",
      "38 Frozen(SortedKeysDict({'lat': 901, 'lon': 1800, 'time': 7}))\n"
     ]
    },
    {
     "name": "stderr",
     "output_type": "stream",
     "text": [
      "C:\\Users\\gentemann\\Miniconda3\\envs\\satenv\\lib\\site-packages\\xarray\\core\\nanops.py:159: RuntimeWarning: Mean of empty slice\n",
      "  return np.nanmean(a, axis=axis, dtype=dtype)\n"
     ]
    },
    {
     "name": "stdout",
     "output_type": "stream",
     "text": [
      "<xarray.Dataset>\n",
      "Dimensions:  (lat: 901, lon: 1800)\n",
      "Coordinates:\n",
      "    depth    float32 0.0\n",
      "  * lat      (lat) float64 -90.0 -89.8 -89.6 -89.4 -89.2 ... 89.4 89.6 89.8 90.0\n",
      "  * lon      (lon) float64 -180.0 -179.8 -179.6 -179.4 ... 179.4 179.6 179.8\n",
      "Data variables:\n",
      "    so       (lat, lon) float64 nan nan nan nan nan nan ... nan nan nan nan nan\n",
      "    zos      (lat, lon) float64 nan nan nan nan nan nan ... nan nan nan nan nan\n",
      "39 Frozen(SortedKeysDict({'lat': 901, 'lon': 1800, 'time': 8}))\n"
     ]
    },
    {
     "name": "stderr",
     "output_type": "stream",
     "text": [
      "C:\\Users\\gentemann\\Miniconda3\\envs\\satenv\\lib\\site-packages\\xarray\\core\\nanops.py:159: RuntimeWarning: Mean of empty slice\n",
      "  return np.nanmean(a, axis=axis, dtype=dtype)\n"
     ]
    },
    {
     "name": "stdout",
     "output_type": "stream",
     "text": [
      "<xarray.Dataset>\n",
      "Dimensions:  (lat: 901, lon: 1800)\n",
      "Coordinates:\n",
      "    depth    float32 0.0\n",
      "  * lat      (lat) float64 -90.0 -89.8 -89.6 -89.4 -89.2 ... 89.4 89.6 89.8 90.0\n",
      "  * lon      (lon) float64 -180.0 -179.8 -179.6 -179.4 ... 179.4 179.6 179.8\n",
      "Data variables:\n",
      "    so       (lat, lon) float64 nan nan nan nan nan nan ... nan nan nan nan nan\n",
      "    zos      (lat, lon) float64 nan nan nan nan nan nan ... nan nan nan nan nan\n",
      "40 Frozen(SortedKeysDict({'lat': 901, 'lon': 1800, 'time': 9}))\n"
     ]
    },
    {
     "name": "stderr",
     "output_type": "stream",
     "text": [
      "C:\\Users\\gentemann\\Miniconda3\\envs\\satenv\\lib\\site-packages\\xarray\\core\\nanops.py:159: RuntimeWarning: Mean of empty slice\n",
      "  return np.nanmean(a, axis=axis, dtype=dtype)\n"
     ]
    },
    {
     "name": "stdout",
     "output_type": "stream",
     "text": [
      "<xarray.Dataset>\n",
      "Dimensions:  (lat: 901, lon: 1800)\n",
      "Coordinates:\n",
      "    depth    float32 0.0\n",
      "  * lat      (lat) float64 -90.0 -89.8 -89.6 -89.4 -89.2 ... 89.4 89.6 89.8 90.0\n",
      "  * lon      (lon) float64 -180.0 -179.8 -179.6 -179.4 ... 179.4 179.6 179.8\n",
      "Data variables:\n",
      "    so       (lat, lon) float64 nan nan nan nan nan nan ... nan nan nan nan nan\n",
      "    zos      (lat, lon) float64 nan nan nan nan nan nan ... nan nan nan nan nan\n",
      "41 Frozen(SortedKeysDict({'lat': 901, 'lon': 1800, 'time': 10}))\n"
     ]
    },
    {
     "name": "stderr",
     "output_type": "stream",
     "text": [
      "C:\\Users\\gentemann\\Miniconda3\\envs\\satenv\\lib\\site-packages\\xarray\\core\\nanops.py:159: RuntimeWarning: Mean of empty slice\n",
      "  return np.nanmean(a, axis=axis, dtype=dtype)\n"
     ]
    },
    {
     "name": "stdout",
     "output_type": "stream",
     "text": [
      "<xarray.Dataset>\n",
      "Dimensions:  (lat: 901, lon: 1800)\n",
      "Coordinates:\n",
      "    depth    float32 0.0\n",
      "  * lat      (lat) float64 -90.0 -89.8 -89.6 -89.4 -89.2 ... 89.4 89.6 89.8 90.0\n",
      "  * lon      (lon) float64 -180.0 -179.8 -179.6 -179.4 ... 179.4 179.6 179.8\n",
      "Data variables:\n",
      "    so       (lat, lon) float64 nan nan nan nan nan nan ... nan nan nan nan nan\n",
      "    zos      (lat, lon) float64 nan nan nan nan nan nan ... nan nan nan nan nan\n",
      "42 Frozen(SortedKeysDict({'lat': 901, 'lon': 1800, 'time': 11}))\n"
     ]
    },
    {
     "name": "stderr",
     "output_type": "stream",
     "text": [
      "C:\\Users\\gentemann\\Miniconda3\\envs\\satenv\\lib\\site-packages\\xarray\\core\\nanops.py:159: RuntimeWarning: Mean of empty slice\n",
      "  return np.nanmean(a, axis=axis, dtype=dtype)\n"
     ]
    },
    {
     "name": "stdout",
     "output_type": "stream",
     "text": [
      "<xarray.Dataset>\n",
      "Dimensions:  (lat: 901, lon: 1800)\n",
      "Coordinates:\n",
      "    depth    float32 0.0\n",
      "  * lat      (lat) float64 -90.0 -89.8 -89.6 -89.4 -89.2 ... 89.4 89.6 89.8 90.0\n",
      "  * lon      (lon) float64 -180.0 -179.8 -179.6 -179.4 ... 179.4 179.6 179.8\n",
      "Data variables:\n",
      "    so       (lat, lon) float64 nan nan nan nan nan nan ... nan nan nan nan nan\n",
      "    zos      (lat, lon) float64 nan nan nan nan nan nan ... nan nan nan nan nan\n",
      "43 Frozen(SortedKeysDict({'lat': 901, 'lon': 1800, 'time': 12}))\n"
     ]
    },
    {
     "name": "stderr",
     "output_type": "stream",
     "text": [
      "C:\\Users\\gentemann\\Miniconda3\\envs\\satenv\\lib\\site-packages\\xarray\\core\\nanops.py:159: RuntimeWarning: Mean of empty slice\n",
      "  return np.nanmean(a, axis=axis, dtype=dtype)\n"
     ]
    },
    {
     "name": "stdout",
     "output_type": "stream",
     "text": [
      "<xarray.Dataset>\n",
      "Dimensions:  (lat: 901, lon: 1800)\n",
      "Coordinates:\n",
      "    depth    float32 0.0\n",
      "  * lat      (lat) float64 -90.0 -89.8 -89.6 -89.4 -89.2 ... 89.4 89.6 89.8 90.0\n",
      "  * lon      (lon) float64 -180.0 -179.8 -179.6 -179.4 ... 179.4 179.6 179.8\n",
      "Data variables:\n",
      "    so       (lat, lon) float64 nan nan nan nan nan nan ... nan nan nan nan nan\n",
      "    zos      (lat, lon) float64 nan nan nan nan nan nan ... nan nan nan nan nan\n",
      "44 Frozen(SortedKeysDict({'lat': 901, 'lon': 1800, 'time': 13}))\n"
     ]
    },
    {
     "name": "stderr",
     "output_type": "stream",
     "text": [
      "C:\\Users\\gentemann\\Miniconda3\\envs\\satenv\\lib\\site-packages\\xarray\\core\\nanops.py:159: RuntimeWarning: Mean of empty slice\n",
      "  return np.nanmean(a, axis=axis, dtype=dtype)\n"
     ]
    },
    {
     "name": "stdout",
     "output_type": "stream",
     "text": [
      "<xarray.Dataset>\n",
      "Dimensions:  (lat: 901, lon: 1800)\n",
      "Coordinates:\n",
      "    depth    float32 0.0\n",
      "  * lat      (lat) float64 -90.0 -89.8 -89.6 -89.4 -89.2 ... 89.4 89.6 89.8 90.0\n",
      "  * lon      (lon) float64 -180.0 -179.8 -179.6 -179.4 ... 179.4 179.6 179.8\n",
      "Data variables:\n",
      "    so       (lat, lon) float64 nan nan nan nan nan nan ... nan nan nan nan nan\n",
      "    zos      (lat, lon) float64 nan nan nan nan nan nan ... nan nan nan nan nan\n",
      "45 Frozen(SortedKeysDict({'lat': 901, 'lon': 1800, 'time': 14}))\n"
     ]
    },
    {
     "name": "stderr",
     "output_type": "stream",
     "text": [
      "C:\\Users\\gentemann\\Miniconda3\\envs\\satenv\\lib\\site-packages\\xarray\\core\\nanops.py:159: RuntimeWarning: Mean of empty slice\n",
      "  return np.nanmean(a, axis=axis, dtype=dtype)\n"
     ]
    },
    {
     "name": "stdout",
     "output_type": "stream",
     "text": [
      "<xarray.Dataset>\n",
      "Dimensions:  (lat: 901, lon: 1800)\n",
      "Coordinates:\n",
      "    depth    float32 0.0\n",
      "  * lat      (lat) float64 -90.0 -89.8 -89.6 -89.4 -89.2 ... 89.4 89.6 89.8 90.0\n",
      "  * lon      (lon) float64 -180.0 -179.8 -179.6 -179.4 ... 179.4 179.6 179.8\n",
      "Data variables:\n",
      "    so       (lat, lon) float64 nan nan nan nan nan nan ... nan nan nan nan nan\n",
      "    zos      (lat, lon) float64 nan nan nan nan nan nan ... nan nan nan nan nan\n",
      "46 Frozen(SortedKeysDict({'lat': 901, 'lon': 1800, 'time': 15}))\n"
     ]
    },
    {
     "name": "stderr",
     "output_type": "stream",
     "text": [
      "C:\\Users\\gentemann\\Miniconda3\\envs\\satenv\\lib\\site-packages\\xarray\\core\\nanops.py:159: RuntimeWarning: Mean of empty slice\n",
      "  return np.nanmean(a, axis=axis, dtype=dtype)\n"
     ]
    },
    {
     "name": "stdout",
     "output_type": "stream",
     "text": [
      "<xarray.Dataset>\n",
      "Dimensions:  (lat: 901, lon: 1800)\n",
      "Coordinates:\n",
      "    depth    float32 0.0\n",
      "  * lat      (lat) float64 -90.0 -89.8 -89.6 -89.4 -89.2 ... 89.4 89.6 89.8 90.0\n",
      "  * lon      (lon) float64 -180.0 -179.8 -179.6 -179.4 ... 179.4 179.6 179.8\n",
      "Data variables:\n",
      "    so       (lat, lon) float64 nan nan nan nan nan nan ... nan nan nan nan nan\n",
      "    zos      (lat, lon) float64 nan nan nan nan nan nan ... nan nan nan nan nan\n",
      "47 Frozen(SortedKeysDict({'lat': 901, 'lon': 1800, 'time': 16}))\n"
     ]
    },
    {
     "name": "stderr",
     "output_type": "stream",
     "text": [
      "C:\\Users\\gentemann\\Miniconda3\\envs\\satenv\\lib\\site-packages\\xarray\\core\\nanops.py:159: RuntimeWarning: Mean of empty slice\n",
      "  return np.nanmean(a, axis=axis, dtype=dtype)\n"
     ]
    },
    {
     "name": "stdout",
     "output_type": "stream",
     "text": [
      "<xarray.Dataset>\n",
      "Dimensions:  (lat: 901, lon: 1800)\n",
      "Coordinates:\n",
      "    depth    float32 0.0\n",
      "  * lat      (lat) float64 -90.0 -89.8 -89.6 -89.4 -89.2 ... 89.4 89.6 89.8 90.0\n",
      "  * lon      (lon) float64 -180.0 -179.8 -179.6 -179.4 ... 179.4 179.6 179.8\n",
      "Data variables:\n",
      "    so       (lat, lon) float64 nan nan nan nan nan nan ... nan nan nan nan nan\n",
      "    zos      (lat, lon) float64 nan nan nan nan nan nan ... nan nan nan nan nan\n",
      "48 Frozen(SortedKeysDict({'lat': 901, 'lon': 1800, 'time': 17}))\n"
     ]
    },
    {
     "name": "stderr",
     "output_type": "stream",
     "text": [
      "C:\\Users\\gentemann\\Miniconda3\\envs\\satenv\\lib\\site-packages\\xarray\\core\\nanops.py:159: RuntimeWarning: Mean of empty slice\n",
      "  return np.nanmean(a, axis=axis, dtype=dtype)\n"
     ]
    },
    {
     "name": "stdout",
     "output_type": "stream",
     "text": [
      "<xarray.Dataset>\n",
      "Dimensions:  (lat: 901, lon: 1800)\n",
      "Coordinates:\n",
      "    depth    float32 0.0\n",
      "  * lat      (lat) float64 -90.0 -89.8 -89.6 -89.4 -89.2 ... 89.4 89.6 89.8 90.0\n",
      "  * lon      (lon) float64 -180.0 -179.8 -179.6 -179.4 ... 179.4 179.6 179.8\n",
      "Data variables:\n",
      "    so       (lat, lon) float64 nan nan nan nan nan nan ... nan nan nan nan nan\n",
      "    zos      (lat, lon) float64 nan nan nan nan nan nan ... nan nan nan nan nan\n",
      "49 Frozen(SortedKeysDict({'lat': 901, 'lon': 1800, 'time': 18}))\n"
     ]
    },
    {
     "name": "stderr",
     "output_type": "stream",
     "text": [
      "C:\\Users\\gentemann\\Miniconda3\\envs\\satenv\\lib\\site-packages\\xarray\\core\\nanops.py:159: RuntimeWarning: Mean of empty slice\n",
      "  return np.nanmean(a, axis=axis, dtype=dtype)\n"
     ]
    },
    {
     "name": "stdout",
     "output_type": "stream",
     "text": [
      "<xarray.Dataset>\n",
      "Dimensions:  (lat: 901, lon: 1800)\n",
      "Coordinates:\n",
      "    depth    float32 0.0\n",
      "  * lat      (lat) float64 -90.0 -89.8 -89.6 -89.4 -89.2 ... 89.4 89.6 89.8 90.0\n",
      "  * lon      (lon) float64 -180.0 -179.8 -179.6 -179.4 ... 179.4 179.6 179.8\n",
      "Data variables:\n",
      "    so       (lat, lon) float64 nan nan nan nan nan nan ... nan nan nan nan nan\n",
      "    zos      (lat, lon) float64 nan nan nan nan nan nan ... nan nan nan nan nan\n",
      "50 Frozen(SortedKeysDict({'lat': 901, 'lon': 1800, 'time': 19}))\n"
     ]
    },
    {
     "name": "stderr",
     "output_type": "stream",
     "text": [
      "C:\\Users\\gentemann\\Miniconda3\\envs\\satenv\\lib\\site-packages\\xarray\\core\\nanops.py:159: RuntimeWarning: Mean of empty slice\n",
      "  return np.nanmean(a, axis=axis, dtype=dtype)\n"
     ]
    },
    {
     "name": "stdout",
     "output_type": "stream",
     "text": [
      "<xarray.Dataset>\n",
      "Dimensions:  (lat: 901, lon: 1800)\n",
      "Coordinates:\n",
      "    depth    float32 0.0\n",
      "  * lat      (lat) float64 -90.0 -89.8 -89.6 -89.4 -89.2 ... 89.4 89.6 89.8 90.0\n",
      "  * lon      (lon) float64 -180.0 -179.8 -179.6 -179.4 ... 179.4 179.6 179.8\n",
      "Data variables:\n",
      "    so       (lat, lon) float64 nan nan nan nan nan nan ... nan nan nan nan nan\n",
      "    zos      (lat, lon) float64 nan nan nan nan nan nan ... nan nan nan nan nan\n",
      "51 Frozen(SortedKeysDict({'lat': 901, 'lon': 1800, 'time': 20}))\n"
     ]
    },
    {
     "name": "stderr",
     "output_type": "stream",
     "text": [
      "C:\\Users\\gentemann\\Miniconda3\\envs\\satenv\\lib\\site-packages\\xarray\\core\\nanops.py:159: RuntimeWarning: Mean of empty slice\n",
      "  return np.nanmean(a, axis=axis, dtype=dtype)\n"
     ]
    },
    {
     "name": "stdout",
     "output_type": "stream",
     "text": [
      "<xarray.Dataset>\n",
      "Dimensions:  (lat: 901, lon: 1800)\n",
      "Coordinates:\n",
      "    depth    float32 0.0\n",
      "  * lat      (lat) float64 -90.0 -89.8 -89.6 -89.4 -89.2 ... 89.4 89.6 89.8 90.0\n",
      "  * lon      (lon) float64 -180.0 -179.8 -179.6 -179.4 ... 179.4 179.6 179.8\n",
      "Data variables:\n",
      "    so       (lat, lon) float64 nan nan nan nan nan nan ... nan nan nan nan nan\n",
      "    zos      (lat, lon) float64 nan nan nan nan nan nan ... nan nan nan nan nan\n",
      "52 Frozen(SortedKeysDict({'lat': 901, 'lon': 1800, 'time': 21}))\n"
     ]
    },
    {
     "name": "stderr",
     "output_type": "stream",
     "text": [
      "C:\\Users\\gentemann\\Miniconda3\\envs\\satenv\\lib\\site-packages\\xarray\\core\\nanops.py:159: RuntimeWarning: Mean of empty slice\n",
      "  return np.nanmean(a, axis=axis, dtype=dtype)\n"
     ]
    },
    {
     "name": "stdout",
     "output_type": "stream",
     "text": [
      "<xarray.Dataset>\n",
      "Dimensions:  (lat: 901, lon: 1800)\n",
      "Coordinates:\n",
      "    depth    float32 0.0\n",
      "  * lat      (lat) float64 -90.0 -89.8 -89.6 -89.4 -89.2 ... 89.4 89.6 89.8 90.0\n",
      "  * lon      (lon) float64 -180.0 -179.8 -179.6 -179.4 ... 179.4 179.6 179.8\n",
      "Data variables:\n",
      "    so       (lat, lon) float64 nan nan nan nan nan nan ... nan nan nan nan nan\n",
      "    zos      (lat, lon) float64 nan nan nan nan nan nan ... nan nan nan nan nan\n",
      "53 Frozen(SortedKeysDict({'lat': 901, 'lon': 1800, 'time': 22}))\n"
     ]
    },
    {
     "name": "stderr",
     "output_type": "stream",
     "text": [
      "C:\\Users\\gentemann\\Miniconda3\\envs\\satenv\\lib\\site-packages\\xarray\\core\\nanops.py:159: RuntimeWarning: Mean of empty slice\n",
      "  return np.nanmean(a, axis=axis, dtype=dtype)\n"
     ]
    },
    {
     "name": "stdout",
     "output_type": "stream",
     "text": [
      "<xarray.Dataset>\n",
      "Dimensions:  (lat: 901, lon: 1800)\n",
      "Coordinates:\n",
      "    depth    float32 0.0\n",
      "  * lat      (lat) float64 -90.0 -89.8 -89.6 -89.4 -89.2 ... 89.4 89.6 89.8 90.0\n",
      "  * lon      (lon) float64 -180.0 -179.8 -179.6 -179.4 ... 179.4 179.6 179.8\n",
      "Data variables:\n",
      "    so       (lat, lon) float64 nan nan nan nan nan nan ... nan nan nan nan nan\n",
      "    zos      (lat, lon) float64 nan nan nan nan nan nan ... nan nan nan nan nan\n",
      "54 Frozen(SortedKeysDict({'lat': 901, 'lon': 1800, 'time': 23}))\n"
     ]
    },
    {
     "name": "stderr",
     "output_type": "stream",
     "text": [
      "C:\\Users\\gentemann\\Miniconda3\\envs\\satenv\\lib\\site-packages\\xarray\\core\\nanops.py:159: RuntimeWarning: Mean of empty slice\n",
      "  return np.nanmean(a, axis=axis, dtype=dtype)\n"
     ]
    },
    {
     "name": "stdout",
     "output_type": "stream",
     "text": [
      "<xarray.Dataset>\n",
      "Dimensions:  (lat: 901, lon: 1800)\n",
      "Coordinates:\n",
      "    depth    float32 0.0\n",
      "  * lat      (lat) float64 -90.0 -89.8 -89.6 -89.4 -89.2 ... 89.4 89.6 89.8 90.0\n",
      "  * lon      (lon) float64 -180.0 -179.8 -179.6 -179.4 ... 179.4 179.6 179.8\n",
      "Data variables:\n",
      "    so       (lat, lon) float64 nan nan nan nan nan nan ... nan nan nan nan nan\n",
      "    zos      (lat, lon) float64 nan nan nan nan nan nan ... nan nan nan nan nan\n",
      "55 Frozen(SortedKeysDict({'lat': 901, 'lon': 1800, 'time': 24}))\n"
     ]
    },
    {
     "name": "stderr",
     "output_type": "stream",
     "text": [
      "C:\\Users\\gentemann\\Miniconda3\\envs\\satenv\\lib\\site-packages\\xarray\\core\\nanops.py:159: RuntimeWarning: Mean of empty slice\n",
      "  return np.nanmean(a, axis=axis, dtype=dtype)\n"
     ]
    },
    {
     "name": "stdout",
     "output_type": "stream",
     "text": [
      "<xarray.Dataset>\n",
      "Dimensions:  (lat: 901, lon: 1800)\n",
      "Coordinates:\n",
      "    depth    float32 0.0\n",
      "  * lat      (lat) float64 -90.0 -89.8 -89.6 -89.4 -89.2 ... 89.4 89.6 89.8 90.0\n",
      "  * lon      (lon) float64 -180.0 -179.8 -179.6 -179.4 ... 179.4 179.6 179.8\n",
      "Data variables:\n",
      "    so       (lat, lon) float64 nan nan nan nan nan nan ... nan nan nan nan nan\n",
      "    zos      (lat, lon) float64 nan nan nan nan nan nan ... nan nan nan nan nan\n",
      "56 Frozen(SortedKeysDict({'lat': 901, 'lon': 1800, 'time': 25}))\n"
     ]
    },
    {
     "name": "stderr",
     "output_type": "stream",
     "text": [
      "C:\\Users\\gentemann\\Miniconda3\\envs\\satenv\\lib\\site-packages\\xarray\\core\\nanops.py:159: RuntimeWarning: Mean of empty slice\n",
      "  return np.nanmean(a, axis=axis, dtype=dtype)\n"
     ]
    },
    {
     "name": "stdout",
     "output_type": "stream",
     "text": [
      "<xarray.Dataset>\n",
      "Dimensions:  (lat: 901, lon: 1800)\n",
      "Coordinates:\n",
      "    depth    float32 0.0\n",
      "  * lat      (lat) float64 -90.0 -89.8 -89.6 -89.4 -89.2 ... 89.4 89.6 89.8 90.0\n",
      "  * lon      (lon) float64 -180.0 -179.8 -179.6 -179.4 ... 179.4 179.6 179.8\n",
      "Data variables:\n",
      "    so       (lat, lon) float64 nan nan nan nan nan nan ... nan nan nan nan nan\n",
      "    zos      (lat, lon) float64 nan nan nan nan nan nan ... nan nan nan nan nan\n",
      "57 Frozen(SortedKeysDict({'lat': 901, 'lon': 1800, 'time': 26}))\n"
     ]
    },
    {
     "name": "stderr",
     "output_type": "stream",
     "text": [
      "C:\\Users\\gentemann\\Miniconda3\\envs\\satenv\\lib\\site-packages\\xarray\\core\\nanops.py:159: RuntimeWarning: Mean of empty slice\n",
      "  return np.nanmean(a, axis=axis, dtype=dtype)\n"
     ]
    },
    {
     "name": "stdout",
     "output_type": "stream",
     "text": [
      "<xarray.Dataset>\n",
      "Dimensions:  (lat: 901, lon: 1800)\n",
      "Coordinates:\n",
      "    depth    float32 0.0\n",
      "  * lat      (lat) float64 -90.0 -89.8 -89.6 -89.4 -89.2 ... 89.4 89.6 89.8 90.0\n",
      "  * lon      (lon) float64 -180.0 -179.8 -179.6 -179.4 ... 179.4 179.6 179.8\n",
      "Data variables:\n",
      "    so       (lat, lon) float64 nan nan nan nan nan nan ... nan nan nan nan nan\n",
      "    zos      (lat, lon) float64 nan nan nan nan nan nan ... nan nan nan nan nan\n",
      "58 Frozen(SortedKeysDict({'lat': 901, 'lon': 1800, 'time': 27}))\n"
     ]
    },
    {
     "name": "stderr",
     "output_type": "stream",
     "text": [
      "C:\\Users\\gentemann\\Miniconda3\\envs\\satenv\\lib\\site-packages\\xarray\\core\\nanops.py:159: RuntimeWarning: Mean of empty slice\n",
      "  return np.nanmean(a, axis=axis, dtype=dtype)\n"
     ]
    },
    {
     "name": "stdout",
     "output_type": "stream",
     "text": [
      "<xarray.Dataset>\n",
      "Dimensions:  (lat: 901, lon: 1800)\n",
      "Coordinates:\n",
      "    depth    float32 0.0\n",
      "  * lat      (lat) float64 -90.0 -89.8 -89.6 -89.4 -89.2 ... 89.4 89.6 89.8 90.0\n",
      "  * lon      (lon) float64 -180.0 -179.8 -179.6 -179.4 ... 179.4 179.6 179.8\n",
      "Data variables:\n",
      "    so       (lat, lon) float64 nan nan nan nan nan nan ... nan nan nan nan nan\n",
      "    zos      (lat, lon) float64 nan nan nan nan nan nan ... nan nan nan nan nan\n",
      "59 Frozen(SortedKeysDict({'lat': 901, 'lon': 1800, 'time': 28}))\n"
     ]
    },
    {
     "name": "stderr",
     "output_type": "stream",
     "text": [
      "C:\\Users\\gentemann\\Miniconda3\\envs\\satenv\\lib\\site-packages\\xarray\\core\\nanops.py:159: RuntimeWarning: Mean of empty slice\n",
      "  return np.nanmean(a, axis=axis, dtype=dtype)\n"
     ]
    },
    {
     "name": "stdout",
     "output_type": "stream",
     "text": [
      "out: F:/data/model_data/CMEM/global-analysis-forecast-phys_001_015/monthly/subset_metoffice_coupled_orca025_GL4_SAL_b201802_dm20180208.nc\n",
      "<xarray.Dataset>\n",
      "Dimensions:  (lat: 901, lon: 1800)\n",
      "Coordinates:\n",
      "    depth    float32 0.0\n",
      "  * lat      (lat) float64 -90.0 -89.8 -89.6 -89.4 -89.2 ... 89.4 89.6 89.8 90.0\n",
      "  * lon      (lon) float64 -180.0 -179.8 -179.6 -179.4 ... 179.4 179.6 179.8\n",
      "Data variables:\n",
      "    so       (lat, lon) float64 nan nan nan nan nan nan ... nan nan nan nan nan\n",
      "    zos      (lat, lon) float64 nan nan nan nan nan nan ... nan nan nan nan nan\n",
      "60 Frozen(SortedKeysDict({'lat': 901, 'lon': 1800}))\n",
      "<xarray.Dataset>\n",
      "Dimensions:  (lat: 901, lon: 1800)\n",
      "Coordinates:\n",
      "    depth    float32 0.0\n",
      "  * lat      (lat) float64 -90.0 -89.8 -89.6 -89.4 -89.2 ... 89.4 89.6 89.8 90.0\n",
      "  * lon      (lon) float64 -180.0 -179.8 -179.6 -179.4 ... 179.4 179.6 179.8\n",
      "Data variables:\n",
      "    so       (lat, lon) float64 nan nan nan nan nan nan ... nan nan nan nan nan\n",
      "    zos      (lat, lon) float64 nan nan nan nan nan nan ... nan nan nan nan nan\n",
      "61 Frozen(SortedKeysDict({'lat': 901, 'lon': 1800, 'time': 2}))\n"
     ]
    },
    {
     "name": "stderr",
     "output_type": "stream",
     "text": [
      "C:\\Users\\gentemann\\Miniconda3\\envs\\satenv\\lib\\site-packages\\xarray\\core\\nanops.py:159: RuntimeWarning: Mean of empty slice\n",
      "  return np.nanmean(a, axis=axis, dtype=dtype)\n"
     ]
    },
    {
     "name": "stdout",
     "output_type": "stream",
     "text": [
      "<xarray.Dataset>\n",
      "Dimensions:  (lat: 901, lon: 1800)\n",
      "Coordinates:\n",
      "    depth    float32 0.0\n",
      "  * lat      (lat) float64 -90.0 -89.8 -89.6 -89.4 -89.2 ... 89.4 89.6 89.8 90.0\n",
      "  * lon      (lon) float64 -180.0 -179.8 -179.6 -179.4 ... 179.4 179.6 179.8\n",
      "Data variables:\n",
      "    so       (lat, lon) float64 nan nan nan nan nan nan ... nan nan nan nan nan\n",
      "    zos      (lat, lon) float64 nan nan nan nan nan nan ... nan nan nan nan nan\n",
      "62 Frozen(SortedKeysDict({'lat': 901, 'lon': 1800, 'time': 3}))\n"
     ]
    },
    {
     "name": "stderr",
     "output_type": "stream",
     "text": [
      "C:\\Users\\gentemann\\Miniconda3\\envs\\satenv\\lib\\site-packages\\xarray\\core\\nanops.py:159: RuntimeWarning: Mean of empty slice\n",
      "  return np.nanmean(a, axis=axis, dtype=dtype)\n"
     ]
    },
    {
     "name": "stdout",
     "output_type": "stream",
     "text": [
      "<xarray.Dataset>\n",
      "Dimensions:  (lat: 901, lon: 1800)\n",
      "Coordinates:\n",
      "    depth    float32 0.0\n",
      "  * lat      (lat) float64 -90.0 -89.8 -89.6 -89.4 -89.2 ... 89.4 89.6 89.8 90.0\n",
      "  * lon      (lon) float64 -180.0 -179.8 -179.6 -179.4 ... 179.4 179.6 179.8\n",
      "Data variables:\n",
      "    so       (lat, lon) float64 nan nan nan nan nan nan ... nan nan nan nan nan\n",
      "    zos      (lat, lon) float64 nan nan nan nan nan nan ... nan nan nan nan nan\n",
      "63 Frozen(SortedKeysDict({'lat': 901, 'lon': 1800, 'time': 4}))\n"
     ]
    },
    {
     "name": "stderr",
     "output_type": "stream",
     "text": [
      "C:\\Users\\gentemann\\Miniconda3\\envs\\satenv\\lib\\site-packages\\xarray\\core\\nanops.py:159: RuntimeWarning: Mean of empty slice\n",
      "  return np.nanmean(a, axis=axis, dtype=dtype)\n"
     ]
    },
    {
     "name": "stdout",
     "output_type": "stream",
     "text": [
      "<xarray.Dataset>\n",
      "Dimensions:  (lat: 901, lon: 1800)\n",
      "Coordinates:\n",
      "    depth    float32 0.0\n",
      "  * lat      (lat) float64 -90.0 -89.8 -89.6 -89.4 -89.2 ... 89.4 89.6 89.8 90.0\n",
      "  * lon      (lon) float64 -180.0 -179.8 -179.6 -179.4 ... 179.4 179.6 179.8\n",
      "Data variables:\n",
      "    so       (lat, lon) float64 nan nan nan nan nan nan ... nan nan nan nan nan\n",
      "    zos      (lat, lon) float64 nan nan nan nan nan nan ... nan nan nan nan nan\n",
      "64 Frozen(SortedKeysDict({'lat': 901, 'lon': 1800, 'time': 5}))\n"
     ]
    },
    {
     "name": "stderr",
     "output_type": "stream",
     "text": [
      "C:\\Users\\gentemann\\Miniconda3\\envs\\satenv\\lib\\site-packages\\xarray\\core\\nanops.py:159: RuntimeWarning: Mean of empty slice\n",
      "  return np.nanmean(a, axis=axis, dtype=dtype)\n"
     ]
    },
    {
     "name": "stdout",
     "output_type": "stream",
     "text": [
      "<xarray.Dataset>\n",
      "Dimensions:  (lat: 901, lon: 1800)\n",
      "Coordinates:\n",
      "    depth    float32 0.0\n",
      "  * lat      (lat) float64 -90.0 -89.8 -89.6 -89.4 -89.2 ... 89.4 89.6 89.8 90.0\n",
      "  * lon      (lon) float64 -180.0 -179.8 -179.6 -179.4 ... 179.4 179.6 179.8\n",
      "Data variables:\n",
      "    so       (lat, lon) float64 nan nan nan nan nan nan ... nan nan nan nan nan\n",
      "    zos      (lat, lon) float64 nan nan nan nan nan nan ... nan nan nan nan nan\n",
      "65 Frozen(SortedKeysDict({'lat': 901, 'lon': 1800, 'time': 6}))\n"
     ]
    },
    {
     "name": "stderr",
     "output_type": "stream",
     "text": [
      "C:\\Users\\gentemann\\Miniconda3\\envs\\satenv\\lib\\site-packages\\xarray\\core\\nanops.py:159: RuntimeWarning: Mean of empty slice\n",
      "  return np.nanmean(a, axis=axis, dtype=dtype)\n"
     ]
    },
    {
     "name": "stdout",
     "output_type": "stream",
     "text": [
      "<xarray.Dataset>\n",
      "Dimensions:  (lat: 901, lon: 1800)\n",
      "Coordinates:\n",
      "    depth    float32 0.0\n",
      "  * lat      (lat) float64 -90.0 -89.8 -89.6 -89.4 -89.2 ... 89.4 89.6 89.8 90.0\n",
      "  * lon      (lon) float64 -180.0 -179.8 -179.6 -179.4 ... 179.4 179.6 179.8\n",
      "Data variables:\n",
      "    so       (lat, lon) float64 nan nan nan nan nan nan ... nan nan nan nan nan\n",
      "    zos      (lat, lon) float64 nan nan nan nan nan nan ... nan nan nan nan nan\n",
      "66 Frozen(SortedKeysDict({'lat': 901, 'lon': 1800, 'time': 7}))\n"
     ]
    },
    {
     "name": "stderr",
     "output_type": "stream",
     "text": [
      "C:\\Users\\gentemann\\Miniconda3\\envs\\satenv\\lib\\site-packages\\xarray\\core\\nanops.py:159: RuntimeWarning: Mean of empty slice\n",
      "  return np.nanmean(a, axis=axis, dtype=dtype)\n"
     ]
    },
    {
     "name": "stdout",
     "output_type": "stream",
     "text": [
      "<xarray.Dataset>\n",
      "Dimensions:  (lat: 901, lon: 1800)\n",
      "Coordinates:\n",
      "    depth    float32 0.0\n",
      "  * lat      (lat) float64 -90.0 -89.8 -89.6 -89.4 -89.2 ... 89.4 89.6 89.8 90.0\n",
      "  * lon      (lon) float64 -180.0 -179.8 -179.6 -179.4 ... 179.4 179.6 179.8\n",
      "Data variables:\n",
      "    so       (lat, lon) float64 nan nan nan nan nan nan ... nan nan nan nan nan\n",
      "    zos      (lat, lon) float64 nan nan nan nan nan nan ... nan nan nan nan nan\n",
      "67 Frozen(SortedKeysDict({'lat': 901, 'lon': 1800, 'time': 8}))\n"
     ]
    },
    {
     "name": "stderr",
     "output_type": "stream",
     "text": [
      "C:\\Users\\gentemann\\Miniconda3\\envs\\satenv\\lib\\site-packages\\xarray\\core\\nanops.py:159: RuntimeWarning: Mean of empty slice\n",
      "  return np.nanmean(a, axis=axis, dtype=dtype)\n"
     ]
    },
    {
     "name": "stdout",
     "output_type": "stream",
     "text": [
      "<xarray.Dataset>\n",
      "Dimensions:  (lat: 901, lon: 1800)\n",
      "Coordinates:\n",
      "    depth    float32 0.0\n",
      "  * lat      (lat) float64 -90.0 -89.8 -89.6 -89.4 -89.2 ... 89.4 89.6 89.8 90.0\n",
      "  * lon      (lon) float64 -180.0 -179.8 -179.6 -179.4 ... 179.4 179.6 179.8\n",
      "Data variables:\n",
      "    so       (lat, lon) float64 nan nan nan nan nan nan ... nan nan nan nan nan\n",
      "    zos      (lat, lon) float64 nan nan nan nan nan nan ... nan nan nan nan nan\n",
      "68 Frozen(SortedKeysDict({'lat': 901, 'lon': 1800, 'time': 9}))\n"
     ]
    },
    {
     "name": "stderr",
     "output_type": "stream",
     "text": [
      "C:\\Users\\gentemann\\Miniconda3\\envs\\satenv\\lib\\site-packages\\xarray\\core\\nanops.py:159: RuntimeWarning: Mean of empty slice\n",
      "  return np.nanmean(a, axis=axis, dtype=dtype)\n"
     ]
    },
    {
     "name": "stdout",
     "output_type": "stream",
     "text": [
      "<xarray.Dataset>\n",
      "Dimensions:  (lat: 901, lon: 1800)\n",
      "Coordinates:\n",
      "    depth    float32 0.0\n",
      "  * lat      (lat) float64 -90.0 -89.8 -89.6 -89.4 -89.2 ... 89.4 89.6 89.8 90.0\n",
      "  * lon      (lon) float64 -180.0 -179.8 -179.6 -179.4 ... 179.4 179.6 179.8\n",
      "Data variables:\n",
      "    so       (lat, lon) float64 nan nan nan nan nan nan ... nan nan nan nan nan\n",
      "    zos      (lat, lon) float64 nan nan nan nan nan nan ... nan nan nan nan nan\n",
      "69 Frozen(SortedKeysDict({'lat': 901, 'lon': 1800, 'time': 10}))\n"
     ]
    },
    {
     "name": "stderr",
     "output_type": "stream",
     "text": [
      "C:\\Users\\gentemann\\Miniconda3\\envs\\satenv\\lib\\site-packages\\xarray\\core\\nanops.py:159: RuntimeWarning: Mean of empty slice\n",
      "  return np.nanmean(a, axis=axis, dtype=dtype)\n"
     ]
    },
    {
     "name": "stdout",
     "output_type": "stream",
     "text": [
      "<xarray.Dataset>\n",
      "Dimensions:  (lat: 901, lon: 1800)\n",
      "Coordinates:\n",
      "    depth    float32 0.0\n",
      "  * lat      (lat) float64 -90.0 -89.8 -89.6 -89.4 -89.2 ... 89.4 89.6 89.8 90.0\n",
      "  * lon      (lon) float64 -180.0 -179.8 -179.6 -179.4 ... 179.4 179.6 179.8\n",
      "Data variables:\n",
      "    so       (lat, lon) float64 nan nan nan nan nan nan ... nan nan nan nan nan\n",
      "    zos      (lat, lon) float64 nan nan nan nan nan nan ... nan nan nan nan nan\n",
      "70 Frozen(SortedKeysDict({'lat': 901, 'lon': 1800, 'time': 11}))\n"
     ]
    },
    {
     "name": "stderr",
     "output_type": "stream",
     "text": [
      "C:\\Users\\gentemann\\Miniconda3\\envs\\satenv\\lib\\site-packages\\xarray\\core\\nanops.py:159: RuntimeWarning: Mean of empty slice\n",
      "  return np.nanmean(a, axis=axis, dtype=dtype)\n"
     ]
    },
    {
     "name": "stdout",
     "output_type": "stream",
     "text": [
      "<xarray.Dataset>\n",
      "Dimensions:  (lat: 901, lon: 1800)\n",
      "Coordinates:\n",
      "    depth    float32 0.0\n",
      "  * lat      (lat) float64 -90.0 -89.8 -89.6 -89.4 -89.2 ... 89.4 89.6 89.8 90.0\n",
      "  * lon      (lon) float64 -180.0 -179.8 -179.6 -179.4 ... 179.4 179.6 179.8\n",
      "Data variables:\n",
      "    so       (lat, lon) float64 nan nan nan nan nan nan ... nan nan nan nan nan\n",
      "    zos      (lat, lon) float64 nan nan nan nan nan nan ... nan nan nan nan nan\n",
      "71 Frozen(SortedKeysDict({'lat': 901, 'lon': 1800, 'time': 12}))\n"
     ]
    },
    {
     "name": "stderr",
     "output_type": "stream",
     "text": [
      "C:\\Users\\gentemann\\Miniconda3\\envs\\satenv\\lib\\site-packages\\xarray\\core\\nanops.py:159: RuntimeWarning: Mean of empty slice\n",
      "  return np.nanmean(a, axis=axis, dtype=dtype)\n"
     ]
    },
    {
     "name": "stdout",
     "output_type": "stream",
     "text": [
      "<xarray.Dataset>\n",
      "Dimensions:  (lat: 901, lon: 1800)\n",
      "Coordinates:\n",
      "    depth    float32 0.0\n",
      "  * lat      (lat) float64 -90.0 -89.8 -89.6 -89.4 -89.2 ... 89.4 89.6 89.8 90.0\n",
      "  * lon      (lon) float64 -180.0 -179.8 -179.6 -179.4 ... 179.4 179.6 179.8\n",
      "Data variables:\n",
      "    so       (lat, lon) float64 nan nan nan nan nan nan ... nan nan nan nan nan\n",
      "    zos      (lat, lon) float64 nan nan nan nan nan nan ... nan nan nan nan nan\n",
      "72 Frozen(SortedKeysDict({'lat': 901, 'lon': 1800, 'time': 13}))\n"
     ]
    },
    {
     "name": "stderr",
     "output_type": "stream",
     "text": [
      "C:\\Users\\gentemann\\Miniconda3\\envs\\satenv\\lib\\site-packages\\xarray\\core\\nanops.py:159: RuntimeWarning: Mean of empty slice\n",
      "  return np.nanmean(a, axis=axis, dtype=dtype)\n"
     ]
    },
    {
     "name": "stdout",
     "output_type": "stream",
     "text": [
      "<xarray.Dataset>\n",
      "Dimensions:  (lat: 901, lon: 1800)\n",
      "Coordinates:\n",
      "    depth    float32 0.0\n",
      "  * lat      (lat) float64 -90.0 -89.8 -89.6 -89.4 -89.2 ... 89.4 89.6 89.8 90.0\n",
      "  * lon      (lon) float64 -180.0 -179.8 -179.6 -179.4 ... 179.4 179.6 179.8\n",
      "Data variables:\n",
      "    so       (lat, lon) float64 nan nan nan nan nan nan ... nan nan nan nan nan\n",
      "    zos      (lat, lon) float64 nan nan nan nan nan nan ... nan nan nan nan nan\n",
      "73 Frozen(SortedKeysDict({'lat': 901, 'lon': 1800, 'time': 14}))\n"
     ]
    },
    {
     "name": "stderr",
     "output_type": "stream",
     "text": [
      "C:\\Users\\gentemann\\Miniconda3\\envs\\satenv\\lib\\site-packages\\xarray\\core\\nanops.py:159: RuntimeWarning: Mean of empty slice\n",
      "  return np.nanmean(a, axis=axis, dtype=dtype)\n"
     ]
    },
    {
     "name": "stdout",
     "output_type": "stream",
     "text": [
      "<xarray.Dataset>\n",
      "Dimensions:  (lat: 901, lon: 1800)\n",
      "Coordinates:\n",
      "    depth    float32 0.0\n",
      "  * lat      (lat) float64 -90.0 -89.8 -89.6 -89.4 -89.2 ... 89.4 89.6 89.8 90.0\n",
      "  * lon      (lon) float64 -180.0 -179.8 -179.6 -179.4 ... 179.4 179.6 179.8\n",
      "Data variables:\n",
      "    so       (lat, lon) float64 nan nan nan nan nan nan ... nan nan nan nan nan\n",
      "    zos      (lat, lon) float64 nan nan nan nan nan nan ... nan nan nan nan nan\n",
      "74 Frozen(SortedKeysDict({'lat': 901, 'lon': 1800, 'time': 15}))\n"
     ]
    },
    {
     "name": "stderr",
     "output_type": "stream",
     "text": [
      "C:\\Users\\gentemann\\Miniconda3\\envs\\satenv\\lib\\site-packages\\xarray\\core\\nanops.py:159: RuntimeWarning: Mean of empty slice\n",
      "  return np.nanmean(a, axis=axis, dtype=dtype)\n"
     ]
    },
    {
     "name": "stdout",
     "output_type": "stream",
     "text": [
      "<xarray.Dataset>\n",
      "Dimensions:  (lat: 901, lon: 1800)\n",
      "Coordinates:\n",
      "    depth    float32 0.0\n",
      "  * lat      (lat) float64 -90.0 -89.8 -89.6 -89.4 -89.2 ... 89.4 89.6 89.8 90.0\n",
      "  * lon      (lon) float64 -180.0 -179.8 -179.6 -179.4 ... 179.4 179.6 179.8\n",
      "Data variables:\n",
      "    so       (lat, lon) float64 nan nan nan nan nan nan ... nan nan nan nan nan\n",
      "    zos      (lat, lon) float64 nan nan nan nan nan nan ... nan nan nan nan nan\n",
      "75 Frozen(SortedKeysDict({'lat': 901, 'lon': 1800, 'time': 16}))\n"
     ]
    },
    {
     "name": "stderr",
     "output_type": "stream",
     "text": [
      "C:\\Users\\gentemann\\Miniconda3\\envs\\satenv\\lib\\site-packages\\xarray\\core\\nanops.py:159: RuntimeWarning: Mean of empty slice\n",
      "  return np.nanmean(a, axis=axis, dtype=dtype)\n"
     ]
    },
    {
     "name": "stdout",
     "output_type": "stream",
     "text": [
      "<xarray.Dataset>\n",
      "Dimensions:  (lat: 901, lon: 1800)\n",
      "Coordinates:\n",
      "    depth    float32 0.0\n",
      "  * lat      (lat) float64 -90.0 -89.8 -89.6 -89.4 -89.2 ... 89.4 89.6 89.8 90.0\n",
      "  * lon      (lon) float64 -180.0 -179.8 -179.6 -179.4 ... 179.4 179.6 179.8\n",
      "Data variables:\n",
      "    so       (lat, lon) float64 nan nan nan nan nan nan ... nan nan nan nan nan\n",
      "    zos      (lat, lon) float64 nan nan nan nan nan nan ... nan nan nan nan nan\n",
      "76 Frozen(SortedKeysDict({'lat': 901, 'lon': 1800, 'time': 17}))\n"
     ]
    },
    {
     "name": "stderr",
     "output_type": "stream",
     "text": [
      "C:\\Users\\gentemann\\Miniconda3\\envs\\satenv\\lib\\site-packages\\xarray\\core\\nanops.py:159: RuntimeWarning: Mean of empty slice\n",
      "  return np.nanmean(a, axis=axis, dtype=dtype)\n"
     ]
    },
    {
     "name": "stdout",
     "output_type": "stream",
     "text": [
      "<xarray.Dataset>\n",
      "Dimensions:  (lat: 901, lon: 1800)\n",
      "Coordinates:\n",
      "    depth    float32 0.0\n",
      "  * lat      (lat) float64 -90.0 -89.8 -89.6 -89.4 -89.2 ... 89.4 89.6 89.8 90.0\n",
      "  * lon      (lon) float64 -180.0 -179.8 -179.6 -179.4 ... 179.4 179.6 179.8\n",
      "Data variables:\n",
      "    so       (lat, lon) float64 nan nan nan nan nan nan ... nan nan nan nan nan\n",
      "    zos      (lat, lon) float64 nan nan nan nan nan nan ... nan nan nan nan nan\n",
      "77 Frozen(SortedKeysDict({'lat': 901, 'lon': 1800, 'time': 18}))\n"
     ]
    },
    {
     "name": "stderr",
     "output_type": "stream",
     "text": [
      "C:\\Users\\gentemann\\Miniconda3\\envs\\satenv\\lib\\site-packages\\xarray\\core\\nanops.py:159: RuntimeWarning: Mean of empty slice\n",
      "  return np.nanmean(a, axis=axis, dtype=dtype)\n"
     ]
    },
    {
     "name": "stdout",
     "output_type": "stream",
     "text": [
      "<xarray.Dataset>\n",
      "Dimensions:  (lat: 901, lon: 1800)\n",
      "Coordinates:\n",
      "    depth    float32 0.0\n",
      "  * lat      (lat) float64 -90.0 -89.8 -89.6 -89.4 -89.2 ... 89.4 89.6 89.8 90.0\n",
      "  * lon      (lon) float64 -180.0 -179.8 -179.6 -179.4 ... 179.4 179.6 179.8\n",
      "Data variables:\n",
      "    so       (lat, lon) float64 nan nan nan nan nan nan ... nan nan nan nan nan\n",
      "    zos      (lat, lon) float64 nan nan nan nan nan nan ... nan nan nan nan nan\n",
      "78 Frozen(SortedKeysDict({'lat': 901, 'lon': 1800, 'time': 19}))\n"
     ]
    },
    {
     "name": "stderr",
     "output_type": "stream",
     "text": [
      "C:\\Users\\gentemann\\Miniconda3\\envs\\satenv\\lib\\site-packages\\xarray\\core\\nanops.py:159: RuntimeWarning: Mean of empty slice\n",
      "  return np.nanmean(a, axis=axis, dtype=dtype)\n"
     ]
    },
    {
     "name": "stdout",
     "output_type": "stream",
     "text": [
      "<xarray.Dataset>\n",
      "Dimensions:  (lat: 901, lon: 1800)\n",
      "Coordinates:\n",
      "    depth    float32 0.0\n",
      "  * lat      (lat) float64 -90.0 -89.8 -89.6 -89.4 -89.2 ... 89.4 89.6 89.8 90.0\n",
      "  * lon      (lon) float64 -180.0 -179.8 -179.6 -179.4 ... 179.4 179.6 179.8\n",
      "Data variables:\n",
      "    so       (lat, lon) float64 nan nan nan nan nan nan ... nan nan nan nan nan\n",
      "    zos      (lat, lon) float64 nan nan nan nan nan nan ... nan nan nan nan nan\n",
      "79 Frozen(SortedKeysDict({'lat': 901, 'lon': 1800, 'time': 20}))\n"
     ]
    },
    {
     "name": "stderr",
     "output_type": "stream",
     "text": [
      "C:\\Users\\gentemann\\Miniconda3\\envs\\satenv\\lib\\site-packages\\xarray\\core\\nanops.py:159: RuntimeWarning: Mean of empty slice\n",
      "  return np.nanmean(a, axis=axis, dtype=dtype)\n"
     ]
    },
    {
     "name": "stdout",
     "output_type": "stream",
     "text": [
      "<xarray.Dataset>\n",
      "Dimensions:  (lat: 901, lon: 1800)\n",
      "Coordinates:\n",
      "    depth    float32 0.0\n",
      "  * lat      (lat) float64 -90.0 -89.8 -89.6 -89.4 -89.2 ... 89.4 89.6 89.8 90.0\n",
      "  * lon      (lon) float64 -180.0 -179.8 -179.6 -179.4 ... 179.4 179.6 179.8\n",
      "Data variables:\n",
      "    so       (lat, lon) float64 nan nan nan nan nan nan ... nan nan nan nan nan\n",
      "    zos      (lat, lon) float64 nan nan nan nan nan nan ... nan nan nan nan nan\n",
      "80 Frozen(SortedKeysDict({'lat': 901, 'lon': 1800, 'time': 21}))\n"
     ]
    },
    {
     "name": "stderr",
     "output_type": "stream",
     "text": [
      "C:\\Users\\gentemann\\Miniconda3\\envs\\satenv\\lib\\site-packages\\xarray\\core\\nanops.py:159: RuntimeWarning: Mean of empty slice\n",
      "  return np.nanmean(a, axis=axis, dtype=dtype)\n"
     ]
    },
    {
     "name": "stdout",
     "output_type": "stream",
     "text": [
      "<xarray.Dataset>\n",
      "Dimensions:  (lat: 901, lon: 1800)\n",
      "Coordinates:\n",
      "    depth    float32 0.0\n",
      "  * lat      (lat) float64 -90.0 -89.8 -89.6 -89.4 -89.2 ... 89.4 89.6 89.8 90.0\n",
      "  * lon      (lon) float64 -180.0 -179.8 -179.6 -179.4 ... 179.4 179.6 179.8\n",
      "Data variables:\n",
      "    so       (lat, lon) float64 nan nan nan nan nan nan ... nan nan nan nan nan\n",
      "    zos      (lat, lon) float64 nan nan nan nan nan nan ... nan nan nan nan nan\n",
      "81 Frozen(SortedKeysDict({'lat': 901, 'lon': 1800, 'time': 22}))\n"
     ]
    },
    {
     "name": "stderr",
     "output_type": "stream",
     "text": [
      "C:\\Users\\gentemann\\Miniconda3\\envs\\satenv\\lib\\site-packages\\xarray\\core\\nanops.py:159: RuntimeWarning: Mean of empty slice\n",
      "  return np.nanmean(a, axis=axis, dtype=dtype)\n"
     ]
    },
    {
     "name": "stdout",
     "output_type": "stream",
     "text": [
      "<xarray.Dataset>\n",
      "Dimensions:  (lat: 901, lon: 1800)\n",
      "Coordinates:\n",
      "    depth    float32 0.0\n",
      "  * lat      (lat) float64 -90.0 -89.8 -89.6 -89.4 -89.2 ... 89.4 89.6 89.8 90.0\n",
      "  * lon      (lon) float64 -180.0 -179.8 -179.6 -179.4 ... 179.4 179.6 179.8\n",
      "Data variables:\n",
      "    so       (lat, lon) float64 nan nan nan nan nan nan ... nan nan nan nan nan\n",
      "    zos      (lat, lon) float64 nan nan nan nan nan nan ... nan nan nan nan nan\n",
      "82 Frozen(SortedKeysDict({'lat': 901, 'lon': 1800, 'time': 23}))\n"
     ]
    },
    {
     "name": "stderr",
     "output_type": "stream",
     "text": [
      "C:\\Users\\gentemann\\Miniconda3\\envs\\satenv\\lib\\site-packages\\xarray\\core\\nanops.py:159: RuntimeWarning: Mean of empty slice\n",
      "  return np.nanmean(a, axis=axis, dtype=dtype)\n"
     ]
    },
    {
     "name": "stdout",
     "output_type": "stream",
     "text": [
      "<xarray.Dataset>\n",
      "Dimensions:  (lat: 901, lon: 1800)\n",
      "Coordinates:\n",
      "    depth    float32 0.0\n",
      "  * lat      (lat) float64 -90.0 -89.8 -89.6 -89.4 -89.2 ... 89.4 89.6 89.8 90.0\n",
      "  * lon      (lon) float64 -180.0 -179.8 -179.6 -179.4 ... 179.4 179.6 179.8\n",
      "Data variables:\n",
      "    so       (lat, lon) float64 nan nan nan nan nan nan ... nan nan nan nan nan\n",
      "    zos      (lat, lon) float64 nan nan nan nan nan nan ... nan nan nan nan nan\n",
      "83 Frozen(SortedKeysDict({'lat': 901, 'lon': 1800, 'time': 24}))\n"
     ]
    },
    {
     "name": "stderr",
     "output_type": "stream",
     "text": [
      "C:\\Users\\gentemann\\Miniconda3\\envs\\satenv\\lib\\site-packages\\xarray\\core\\nanops.py:159: RuntimeWarning: Mean of empty slice\n",
      "  return np.nanmean(a, axis=axis, dtype=dtype)\n"
     ]
    },
    {
     "name": "stdout",
     "output_type": "stream",
     "text": [
      "<xarray.Dataset>\n",
      "Dimensions:  (lat: 901, lon: 1800)\n",
      "Coordinates:\n",
      "    depth    float32 0.0\n",
      "  * lat      (lat) float64 -90.0 -89.8 -89.6 -89.4 -89.2 ... 89.4 89.6 89.8 90.0\n",
      "  * lon      (lon) float64 -180.0 -179.8 -179.6 -179.4 ... 179.4 179.6 179.8\n",
      "Data variables:\n",
      "    so       (lat, lon) float64 nan nan nan nan nan nan ... nan nan nan nan nan\n",
      "    zos      (lat, lon) float64 nan nan nan nan nan nan ... nan nan nan nan nan\n",
      "84 Frozen(SortedKeysDict({'lat': 901, 'lon': 1800, 'time': 25}))\n"
     ]
    },
    {
     "name": "stderr",
     "output_type": "stream",
     "text": [
      "C:\\Users\\gentemann\\Miniconda3\\envs\\satenv\\lib\\site-packages\\xarray\\core\\nanops.py:159: RuntimeWarning: Mean of empty slice\n",
      "  return np.nanmean(a, axis=axis, dtype=dtype)\n"
     ]
    },
    {
     "name": "stdout",
     "output_type": "stream",
     "text": [
      "<xarray.Dataset>\n",
      "Dimensions:  (lat: 901, lon: 1800)\n",
      "Coordinates:\n",
      "    depth    float32 0.0\n",
      "  * lat      (lat) float64 -90.0 -89.8 -89.6 -89.4 -89.2 ... 89.4 89.6 89.8 90.0\n",
      "  * lon      (lon) float64 -180.0 -179.8 -179.6 -179.4 ... 179.4 179.6 179.8\n",
      "Data variables:\n",
      "    so       (lat, lon) float64 nan nan nan nan nan nan ... nan nan nan nan nan\n",
      "    zos      (lat, lon) float64 nan nan nan nan nan nan ... nan nan nan nan nan\n",
      "85 Frozen(SortedKeysDict({'lat': 901, 'lon': 1800, 'time': 26}))\n"
     ]
    },
    {
     "name": "stderr",
     "output_type": "stream",
     "text": [
      "C:\\Users\\gentemann\\Miniconda3\\envs\\satenv\\lib\\site-packages\\xarray\\core\\nanops.py:159: RuntimeWarning: Mean of empty slice\n",
      "  return np.nanmean(a, axis=axis, dtype=dtype)\n"
     ]
    },
    {
     "name": "stdout",
     "output_type": "stream",
     "text": [
      "<xarray.Dataset>\n",
      "Dimensions:  (lat: 901, lon: 1800)\n",
      "Coordinates:\n",
      "    depth    float32 0.0\n",
      "  * lat      (lat) float64 -90.0 -89.8 -89.6 -89.4 -89.2 ... 89.4 89.6 89.8 90.0\n",
      "  * lon      (lon) float64 -180.0 -179.8 -179.6 -179.4 ... 179.4 179.6 179.8\n",
      "Data variables:\n",
      "    so       (lat, lon) float64 nan nan nan nan nan nan ... nan nan nan nan nan\n",
      "    zos      (lat, lon) float64 nan nan nan nan nan nan ... nan nan nan nan nan\n",
      "86 Frozen(SortedKeysDict({'lat': 901, 'lon': 1800, 'time': 27}))\n"
     ]
    },
    {
     "name": "stderr",
     "output_type": "stream",
     "text": [
      "C:\\Users\\gentemann\\Miniconda3\\envs\\satenv\\lib\\site-packages\\xarray\\core\\nanops.py:159: RuntimeWarning: Mean of empty slice\n",
      "  return np.nanmean(a, axis=axis, dtype=dtype)\n"
     ]
    },
    {
     "name": "stdout",
     "output_type": "stream",
     "text": [
      "<xarray.Dataset>\n",
      "Dimensions:  (lat: 901, lon: 1800)\n",
      "Coordinates:\n",
      "    depth    float32 0.0\n",
      "  * lat      (lat) float64 -90.0 -89.8 -89.6 -89.4 -89.2 ... 89.4 89.6 89.8 90.0\n",
      "  * lon      (lon) float64 -180.0 -179.8 -179.6 -179.4 ... 179.4 179.6 179.8\n",
      "Data variables:\n",
      "    so       (lat, lon) float64 nan nan nan nan nan nan ... nan nan nan nan nan\n",
      "    zos      (lat, lon) float64 nan nan nan nan nan nan ... nan nan nan nan nan\n",
      "87 Frozen(SortedKeysDict({'lat': 901, 'lon': 1800, 'time': 28}))\n"
     ]
    },
    {
     "name": "stderr",
     "output_type": "stream",
     "text": [
      "C:\\Users\\gentemann\\Miniconda3\\envs\\satenv\\lib\\site-packages\\xarray\\core\\nanops.py:159: RuntimeWarning: Mean of empty slice\n",
      "  return np.nanmean(a, axis=axis, dtype=dtype)\n"
     ]
    },
    {
     "name": "stdout",
     "output_type": "stream",
     "text": [
      "<xarray.Dataset>\n",
      "Dimensions:  (lat: 901, lon: 1800)\n",
      "Coordinates:\n",
      "    depth    float32 0.0\n",
      "  * lat      (lat) float64 -90.0 -89.8 -89.6 -89.4 -89.2 ... 89.4 89.6 89.8 90.0\n",
      "  * lon      (lon) float64 -180.0 -179.8 -179.6 -179.4 ... 179.4 179.6 179.8\n",
      "Data variables:\n",
      "    so       (lat, lon) float64 nan nan nan nan nan nan ... nan nan nan nan nan\n",
      "    zos      (lat, lon) float64 nan nan nan nan nan nan ... nan nan nan nan nan\n",
      "88 Frozen(SortedKeysDict({'lat': 901, 'lon': 1800, 'time': 29}))\n"
     ]
    },
    {
     "name": "stderr",
     "output_type": "stream",
     "text": [
      "C:\\Users\\gentemann\\Miniconda3\\envs\\satenv\\lib\\site-packages\\xarray\\core\\nanops.py:159: RuntimeWarning: Mean of empty slice\n",
      "  return np.nanmean(a, axis=axis, dtype=dtype)\n"
     ]
    },
    {
     "name": "stdout",
     "output_type": "stream",
     "text": [
      "<xarray.Dataset>\n",
      "Dimensions:  (lat: 901, lon: 1800)\n",
      "Coordinates:\n",
      "    depth    float32 0.0\n",
      "  * lat      (lat) float64 -90.0 -89.8 -89.6 -89.4 -89.2 ... 89.4 89.6 89.8 90.0\n",
      "  * lon      (lon) float64 -180.0 -179.8 -179.6 -179.4 ... 179.4 179.6 179.8\n",
      "Data variables:\n",
      "    so       (lat, lon) float64 nan nan nan nan nan nan ... nan nan nan nan nan\n",
      "    zos      (lat, lon) float64 nan nan nan nan nan nan ... nan nan nan nan nan\n",
      "89 Frozen(SortedKeysDict({'lat': 901, 'lon': 1800, 'time': 30}))\n"
     ]
    },
    {
     "name": "stderr",
     "output_type": "stream",
     "text": [
      "C:\\Users\\gentemann\\Miniconda3\\envs\\satenv\\lib\\site-packages\\xarray\\core\\nanops.py:159: RuntimeWarning: Mean of empty slice\n",
      "  return np.nanmean(a, axis=axis, dtype=dtype)\n"
     ]
    },
    {
     "name": "stdout",
     "output_type": "stream",
     "text": [
      "<xarray.Dataset>\n",
      "Dimensions:  (lat: 901, lon: 1800)\n",
      "Coordinates:\n",
      "    depth    float32 0.0\n",
      "  * lat      (lat) float64 -90.0 -89.8 -89.6 -89.4 -89.2 ... 89.4 89.6 89.8 90.0\n",
      "  * lon      (lon) float64 -180.0 -179.8 -179.6 -179.4 ... 179.4 179.6 179.8\n",
      "Data variables:\n",
      "    so       (lat, lon) float64 nan nan nan nan nan nan ... nan nan nan nan nan\n",
      "    zos      (lat, lon) float64 nan nan nan nan nan nan ... nan nan nan nan nan\n",
      "90 Frozen(SortedKeysDict({'lat': 901, 'lon': 1800, 'time': 31}))\n"
     ]
    },
    {
     "name": "stderr",
     "output_type": "stream",
     "text": [
      "C:\\Users\\gentemann\\Miniconda3\\envs\\satenv\\lib\\site-packages\\xarray\\core\\nanops.py:159: RuntimeWarning: Mean of empty slice\n",
      "  return np.nanmean(a, axis=axis, dtype=dtype)\n"
     ]
    },
    {
     "name": "stdout",
     "output_type": "stream",
     "text": [
      "out: F:/data/model_data/CMEM/global-analysis-forecast-phys_001_015/monthly/subset_metoffice_coupled_orca025_GL4_SAL_b201803_dm20180208.nc\n",
      "<xarray.Dataset>\n",
      "Dimensions:  (lat: 901, lon: 1800)\n",
      "Coordinates:\n",
      "    depth    float32 0.0\n",
      "  * lat      (lat) float64 -90.0 -89.8 -89.6 -89.4 -89.2 ... 89.4 89.6 89.8 90.0\n",
      "  * lon      (lon) float64 -180.0 -179.8 -179.6 -179.4 ... 179.4 179.6 179.8\n",
      "Data variables:\n",
      "    so       (lat, lon) float64 nan nan nan nan nan nan ... nan nan nan nan nan\n",
      "    zos      (lat, lon) float64 nan nan nan nan nan nan ... nan nan nan nan nan\n",
      "91 Frozen(SortedKeysDict({'lat': 901, 'lon': 1800}))\n",
      "<xarray.Dataset>\n",
      "Dimensions:  (lat: 901, lon: 1800)\n",
      "Coordinates:\n",
      "    depth    float32 0.0\n",
      "  * lat      (lat) float64 -90.0 -89.8 -89.6 -89.4 -89.2 ... 89.4 89.6 89.8 90.0\n",
      "  * lon      (lon) float64 -180.0 -179.8 -179.6 -179.4 ... 179.4 179.6 179.8\n",
      "Data variables:\n",
      "    so       (lat, lon) float64 nan nan nan nan nan nan ... nan nan nan nan nan\n",
      "    zos      (lat, lon) float64 nan nan nan nan nan nan ... nan nan nan nan nan\n",
      "92 Frozen(SortedKeysDict({'lat': 901, 'lon': 1800, 'time': 2}))\n"
     ]
    },
    {
     "name": "stderr",
     "output_type": "stream",
     "text": [
      "C:\\Users\\gentemann\\Miniconda3\\envs\\satenv\\lib\\site-packages\\xarray\\core\\nanops.py:159: RuntimeWarning: Mean of empty slice\n",
      "  return np.nanmean(a, axis=axis, dtype=dtype)\n"
     ]
    },
    {
     "name": "stdout",
     "output_type": "stream",
     "text": [
      "<xarray.Dataset>\n",
      "Dimensions:  (lat: 901, lon: 1800)\n",
      "Coordinates:\n",
      "    depth    float32 0.0\n",
      "  * lat      (lat) float64 -90.0 -89.8 -89.6 -89.4 -89.2 ... 89.4 89.6 89.8 90.0\n",
      "  * lon      (lon) float64 -180.0 -179.8 -179.6 -179.4 ... 179.4 179.6 179.8\n",
      "Data variables:\n",
      "    so       (lat, lon) float64 nan nan nan nan nan nan ... nan nan nan nan nan\n",
      "    zos      (lat, lon) float64 nan nan nan nan nan nan ... nan nan nan nan nan\n",
      "93 Frozen(SortedKeysDict({'lat': 901, 'lon': 1800, 'time': 3}))\n"
     ]
    },
    {
     "name": "stderr",
     "output_type": "stream",
     "text": [
      "C:\\Users\\gentemann\\Miniconda3\\envs\\satenv\\lib\\site-packages\\xarray\\core\\nanops.py:159: RuntimeWarning: Mean of empty slice\n",
      "  return np.nanmean(a, axis=axis, dtype=dtype)\n"
     ]
    },
    {
     "name": "stdout",
     "output_type": "stream",
     "text": [
      "<xarray.Dataset>\n",
      "Dimensions:  (lat: 901, lon: 1800)\n",
      "Coordinates:\n",
      "    depth    float32 0.0\n",
      "  * lat      (lat) float64 -90.0 -89.8 -89.6 -89.4 -89.2 ... 89.4 89.6 89.8 90.0\n",
      "  * lon      (lon) float64 -180.0 -179.8 -179.6 -179.4 ... 179.4 179.6 179.8\n",
      "Data variables:\n",
      "    so       (lat, lon) float64 nan nan nan nan nan nan ... nan nan nan nan nan\n",
      "    zos      (lat, lon) float64 nan nan nan nan nan nan ... nan nan nan nan nan\n",
      "94 Frozen(SortedKeysDict({'lat': 901, 'lon': 1800, 'time': 4}))\n"
     ]
    },
    {
     "name": "stderr",
     "output_type": "stream",
     "text": [
      "C:\\Users\\gentemann\\Miniconda3\\envs\\satenv\\lib\\site-packages\\xarray\\core\\nanops.py:159: RuntimeWarning: Mean of empty slice\n",
      "  return np.nanmean(a, axis=axis, dtype=dtype)\n"
     ]
    },
    {
     "name": "stdout",
     "output_type": "stream",
     "text": [
      "<xarray.Dataset>\n",
      "Dimensions:  (lat: 901, lon: 1800)\n",
      "Coordinates:\n",
      "    depth    float32 0.0\n",
      "  * lat      (lat) float64 -90.0 -89.8 -89.6 -89.4 -89.2 ... 89.4 89.6 89.8 90.0\n",
      "  * lon      (lon) float64 -180.0 -179.8 -179.6 -179.4 ... 179.4 179.6 179.8\n",
      "Data variables:\n",
      "    so       (lat, lon) float64 nan nan nan nan nan nan ... nan nan nan nan nan\n",
      "    zos      (lat, lon) float64 nan nan nan nan nan nan ... nan nan nan nan nan\n",
      "95 Frozen(SortedKeysDict({'lat': 901, 'lon': 1800, 'time': 5}))\n"
     ]
    },
    {
     "name": "stderr",
     "output_type": "stream",
     "text": [
      "C:\\Users\\gentemann\\Miniconda3\\envs\\satenv\\lib\\site-packages\\xarray\\core\\nanops.py:159: RuntimeWarning: Mean of empty slice\n",
      "  return np.nanmean(a, axis=axis, dtype=dtype)\n"
     ]
    },
    {
     "name": "stdout",
     "output_type": "stream",
     "text": [
      "<xarray.Dataset>\n",
      "Dimensions:  (lat: 901, lon: 1800)\n",
      "Coordinates:\n",
      "    depth    float32 0.0\n",
      "  * lat      (lat) float64 -90.0 -89.8 -89.6 -89.4 -89.2 ... 89.4 89.6 89.8 90.0\n",
      "  * lon      (lon) float64 -180.0 -179.8 -179.6 -179.4 ... 179.4 179.6 179.8\n",
      "Data variables:\n",
      "    so       (lat, lon) float64 nan nan nan nan nan nan ... nan nan nan nan nan\n",
      "    zos      (lat, lon) float64 nan nan nan nan nan nan ... nan nan nan nan nan\n",
      "96 Frozen(SortedKeysDict({'lat': 901, 'lon': 1800, 'time': 6}))\n"
     ]
    },
    {
     "name": "stderr",
     "output_type": "stream",
     "text": [
      "C:\\Users\\gentemann\\Miniconda3\\envs\\satenv\\lib\\site-packages\\xarray\\core\\nanops.py:159: RuntimeWarning: Mean of empty slice\n",
      "  return np.nanmean(a, axis=axis, dtype=dtype)\n"
     ]
    },
    {
     "name": "stdout",
     "output_type": "stream",
     "text": [
      "<xarray.Dataset>\n",
      "Dimensions:  (lat: 901, lon: 1800)\n",
      "Coordinates:\n",
      "    depth    float32 0.0\n",
      "  * lat      (lat) float64 -90.0 -89.8 -89.6 -89.4 -89.2 ... 89.4 89.6 89.8 90.0\n",
      "  * lon      (lon) float64 -180.0 -179.8 -179.6 -179.4 ... 179.4 179.6 179.8\n",
      "Data variables:\n",
      "    so       (lat, lon) float64 nan nan nan nan nan nan ... nan nan nan nan nan\n",
      "    zos      (lat, lon) float64 nan nan nan nan nan nan ... nan nan nan nan nan\n",
      "97 Frozen(SortedKeysDict({'lat': 901, 'lon': 1800, 'time': 7}))\n"
     ]
    },
    {
     "name": "stderr",
     "output_type": "stream",
     "text": [
      "C:\\Users\\gentemann\\Miniconda3\\envs\\satenv\\lib\\site-packages\\xarray\\core\\nanops.py:159: RuntimeWarning: Mean of empty slice\n",
      "  return np.nanmean(a, axis=axis, dtype=dtype)\n"
     ]
    },
    {
     "name": "stdout",
     "output_type": "stream",
     "text": [
      "<xarray.Dataset>\n",
      "Dimensions:  (lat: 901, lon: 1800)\n",
      "Coordinates:\n",
      "    depth    float32 0.0\n",
      "  * lat      (lat) float64 -90.0 -89.8 -89.6 -89.4 -89.2 ... 89.4 89.6 89.8 90.0\n",
      "  * lon      (lon) float64 -180.0 -179.8 -179.6 -179.4 ... 179.4 179.6 179.8\n",
      "Data variables:\n",
      "    so       (lat, lon) float64 nan nan nan nan nan nan ... nan nan nan nan nan\n",
      "    zos      (lat, lon) float64 nan nan nan nan nan nan ... nan nan nan nan nan\n",
      "98 Frozen(SortedKeysDict({'lat': 901, 'lon': 1800, 'time': 8}))\n"
     ]
    },
    {
     "name": "stderr",
     "output_type": "stream",
     "text": [
      "C:\\Users\\gentemann\\Miniconda3\\envs\\satenv\\lib\\site-packages\\xarray\\core\\nanops.py:159: RuntimeWarning: Mean of empty slice\n",
      "  return np.nanmean(a, axis=axis, dtype=dtype)\n"
     ]
    },
    {
     "name": "stdout",
     "output_type": "stream",
     "text": [
      "<xarray.Dataset>\n",
      "Dimensions:  (lat: 901, lon: 1800)\n",
      "Coordinates:\n",
      "    depth    float32 0.0\n",
      "  * lat      (lat) float64 -90.0 -89.8 -89.6 -89.4 -89.2 ... 89.4 89.6 89.8 90.0\n",
      "  * lon      (lon) float64 -180.0 -179.8 -179.6 -179.4 ... 179.4 179.6 179.8\n",
      "Data variables:\n",
      "    so       (lat, lon) float64 nan nan nan nan nan nan ... nan nan nan nan nan\n",
      "    zos      (lat, lon) float64 nan nan nan nan nan nan ... nan nan nan nan nan\n",
      "99 Frozen(SortedKeysDict({'lat': 901, 'lon': 1800, 'time': 9}))\n"
     ]
    },
    {
     "name": "stderr",
     "output_type": "stream",
     "text": [
      "C:\\Users\\gentemann\\Miniconda3\\envs\\satenv\\lib\\site-packages\\xarray\\core\\nanops.py:159: RuntimeWarning: Mean of empty slice\n",
      "  return np.nanmean(a, axis=axis, dtype=dtype)\n"
     ]
    },
    {
     "name": "stdout",
     "output_type": "stream",
     "text": [
      "<xarray.Dataset>\n",
      "Dimensions:  (lat: 901, lon: 1800)\n",
      "Coordinates:\n",
      "    depth    float32 0.0\n",
      "  * lat      (lat) float64 -90.0 -89.8 -89.6 -89.4 -89.2 ... 89.4 89.6 89.8 90.0\n",
      "  * lon      (lon) float64 -180.0 -179.8 -179.6 -179.4 ... 179.4 179.6 179.8\n",
      "Data variables:\n",
      "    so       (lat, lon) float64 nan nan nan nan nan nan ... nan nan nan nan nan\n",
      "    zos      (lat, lon) float64 nan nan nan nan nan nan ... nan nan nan nan nan\n",
      "100 Frozen(SortedKeysDict({'lat': 901, 'lon': 1800, 'time': 10}))\n"
     ]
    },
    {
     "name": "stderr",
     "output_type": "stream",
     "text": [
      "C:\\Users\\gentemann\\Miniconda3\\envs\\satenv\\lib\\site-packages\\xarray\\core\\nanops.py:159: RuntimeWarning: Mean of empty slice\n",
      "  return np.nanmean(a, axis=axis, dtype=dtype)\n"
     ]
    },
    {
     "name": "stdout",
     "output_type": "stream",
     "text": [
      "<xarray.Dataset>\n",
      "Dimensions:  (lat: 901, lon: 1800)\n",
      "Coordinates:\n",
      "    depth    float32 0.0\n",
      "  * lat      (lat) float64 -90.0 -89.8 -89.6 -89.4 -89.2 ... 89.4 89.6 89.8 90.0\n",
      "  * lon      (lon) float64 -180.0 -179.8 -179.6 -179.4 ... 179.4 179.6 179.8\n",
      "Data variables:\n",
      "    so       (lat, lon) float64 nan nan nan nan nan nan ... nan nan nan nan nan\n",
      "    zos      (lat, lon) float64 nan nan nan nan nan nan ... nan nan nan nan nan\n",
      "101 Frozen(SortedKeysDict({'lat': 901, 'lon': 1800, 'time': 11}))\n"
     ]
    },
    {
     "name": "stderr",
     "output_type": "stream",
     "text": [
      "C:\\Users\\gentemann\\Miniconda3\\envs\\satenv\\lib\\site-packages\\xarray\\core\\nanops.py:159: RuntimeWarning: Mean of empty slice\n",
      "  return np.nanmean(a, axis=axis, dtype=dtype)\n"
     ]
    },
    {
     "name": "stdout",
     "output_type": "stream",
     "text": [
      "<xarray.Dataset>\n",
      "Dimensions:  (lat: 901, lon: 1800)\n",
      "Coordinates:\n",
      "    depth    float32 0.0\n",
      "  * lat      (lat) float64 -90.0 -89.8 -89.6 -89.4 -89.2 ... 89.4 89.6 89.8 90.0\n",
      "  * lon      (lon) float64 -180.0 -179.8 -179.6 -179.4 ... 179.4 179.6 179.8\n",
      "Data variables:\n",
      "    so       (lat, lon) float64 nan nan nan nan nan nan ... nan nan nan nan nan\n",
      "    zos      (lat, lon) float64 nan nan nan nan nan nan ... nan nan nan nan nan\n",
      "102 Frozen(SortedKeysDict({'lat': 901, 'lon': 1800, 'time': 12}))\n"
     ]
    },
    {
     "name": "stderr",
     "output_type": "stream",
     "text": [
      "C:\\Users\\gentemann\\Miniconda3\\envs\\satenv\\lib\\site-packages\\xarray\\core\\nanops.py:159: RuntimeWarning: Mean of empty slice\n",
      "  return np.nanmean(a, axis=axis, dtype=dtype)\n"
     ]
    },
    {
     "name": "stdout",
     "output_type": "stream",
     "text": [
      "<xarray.Dataset>\n",
      "Dimensions:  (lat: 901, lon: 1800)\n",
      "Coordinates:\n",
      "    depth    float32 0.0\n",
      "  * lat      (lat) float64 -90.0 -89.8 -89.6 -89.4 -89.2 ... 89.4 89.6 89.8 90.0\n",
      "  * lon      (lon) float64 -180.0 -179.8 -179.6 -179.4 ... 179.4 179.6 179.8\n",
      "Data variables:\n",
      "    so       (lat, lon) float64 nan nan nan nan nan nan ... nan nan nan nan nan\n",
      "    zos      (lat, lon) float64 nan nan nan nan nan nan ... nan nan nan nan nan\n",
      "103 Frozen(SortedKeysDict({'lat': 901, 'lon': 1800, 'time': 13}))\n"
     ]
    },
    {
     "name": "stderr",
     "output_type": "stream",
     "text": [
      "C:\\Users\\gentemann\\Miniconda3\\envs\\satenv\\lib\\site-packages\\xarray\\core\\nanops.py:159: RuntimeWarning: Mean of empty slice\n",
      "  return np.nanmean(a, axis=axis, dtype=dtype)\n"
     ]
    },
    {
     "name": "stdout",
     "output_type": "stream",
     "text": [
      "<xarray.Dataset>\n",
      "Dimensions:  (lat: 901, lon: 1800)\n",
      "Coordinates:\n",
      "    depth    float32 0.0\n",
      "  * lat      (lat) float64 -90.0 -89.8 -89.6 -89.4 -89.2 ... 89.4 89.6 89.8 90.0\n",
      "  * lon      (lon) float64 -180.0 -179.8 -179.6 -179.4 ... 179.4 179.6 179.8\n",
      "Data variables:\n",
      "    so       (lat, lon) float64 nan nan nan nan nan nan ... nan nan nan nan nan\n",
      "    zos      (lat, lon) float64 nan nan nan nan nan nan ... nan nan nan nan nan\n",
      "104 Frozen(SortedKeysDict({'lat': 901, 'lon': 1800, 'time': 14}))\n"
     ]
    },
    {
     "name": "stderr",
     "output_type": "stream",
     "text": [
      "C:\\Users\\gentemann\\Miniconda3\\envs\\satenv\\lib\\site-packages\\xarray\\core\\nanops.py:159: RuntimeWarning: Mean of empty slice\n",
      "  return np.nanmean(a, axis=axis, dtype=dtype)\n"
     ]
    },
    {
     "name": "stdout",
     "output_type": "stream",
     "text": [
      "<xarray.Dataset>\n",
      "Dimensions:  (lat: 901, lon: 1800)\n",
      "Coordinates:\n",
      "    depth    float32 0.0\n",
      "  * lat      (lat) float64 -90.0 -89.8 -89.6 -89.4 -89.2 ... 89.4 89.6 89.8 90.0\n",
      "  * lon      (lon) float64 -180.0 -179.8 -179.6 -179.4 ... 179.4 179.6 179.8\n",
      "Data variables:\n",
      "    so       (lat, lon) float64 nan nan nan nan nan nan ... nan nan nan nan nan\n",
      "    zos      (lat, lon) float64 nan nan nan nan nan nan ... nan nan nan nan nan\n",
      "105 Frozen(SortedKeysDict({'lat': 901, 'lon': 1800, 'time': 15}))\n"
     ]
    },
    {
     "name": "stderr",
     "output_type": "stream",
     "text": [
      "C:\\Users\\gentemann\\Miniconda3\\envs\\satenv\\lib\\site-packages\\xarray\\core\\nanops.py:159: RuntimeWarning: Mean of empty slice\n",
      "  return np.nanmean(a, axis=axis, dtype=dtype)\n"
     ]
    },
    {
     "name": "stdout",
     "output_type": "stream",
     "text": [
      "<xarray.Dataset>\n",
      "Dimensions:  (lat: 901, lon: 1800)\n",
      "Coordinates:\n",
      "    depth    float32 0.0\n",
      "  * lat      (lat) float64 -90.0 -89.8 -89.6 -89.4 -89.2 ... 89.4 89.6 89.8 90.0\n",
      "  * lon      (lon) float64 -180.0 -179.8 -179.6 -179.4 ... 179.4 179.6 179.8\n",
      "Data variables:\n",
      "    so       (lat, lon) float64 nan nan nan nan nan nan ... nan nan nan nan nan\n",
      "    zos      (lat, lon) float64 nan nan nan nan nan nan ... nan nan nan nan nan\n",
      "106 Frozen(SortedKeysDict({'lat': 901, 'lon': 1800, 'time': 16}))\n"
     ]
    },
    {
     "name": "stderr",
     "output_type": "stream",
     "text": [
      "C:\\Users\\gentemann\\Miniconda3\\envs\\satenv\\lib\\site-packages\\xarray\\core\\nanops.py:159: RuntimeWarning: Mean of empty slice\n",
      "  return np.nanmean(a, axis=axis, dtype=dtype)\n"
     ]
    },
    {
     "name": "stdout",
     "output_type": "stream",
     "text": [
      "<xarray.Dataset>\n",
      "Dimensions:  (lat: 901, lon: 1800)\n",
      "Coordinates:\n",
      "    depth    float32 0.0\n",
      "  * lat      (lat) float64 -90.0 -89.8 -89.6 -89.4 -89.2 ... 89.4 89.6 89.8 90.0\n",
      "  * lon      (lon) float64 -180.0 -179.8 -179.6 -179.4 ... 179.4 179.6 179.8\n",
      "Data variables:\n",
      "    so       (lat, lon) float64 nan nan nan nan nan nan ... nan nan nan nan nan\n",
      "    zos      (lat, lon) float64 nan nan nan nan nan nan ... nan nan nan nan nan\n",
      "107 Frozen(SortedKeysDict({'lat': 901, 'lon': 1800, 'time': 17}))\n"
     ]
    },
    {
     "name": "stderr",
     "output_type": "stream",
     "text": [
      "C:\\Users\\gentemann\\Miniconda3\\envs\\satenv\\lib\\site-packages\\xarray\\core\\nanops.py:159: RuntimeWarning: Mean of empty slice\n",
      "  return np.nanmean(a, axis=axis, dtype=dtype)\n"
     ]
    },
    {
     "name": "stdout",
     "output_type": "stream",
     "text": [
      "<xarray.Dataset>\n",
      "Dimensions:  (lat: 901, lon: 1800)\n",
      "Coordinates:\n",
      "    depth    float32 0.0\n",
      "  * lat      (lat) float64 -90.0 -89.8 -89.6 -89.4 -89.2 ... 89.4 89.6 89.8 90.0\n",
      "  * lon      (lon) float64 -180.0 -179.8 -179.6 -179.4 ... 179.4 179.6 179.8\n",
      "Data variables:\n",
      "    so       (lat, lon) float64 nan nan nan nan nan nan ... nan nan nan nan nan\n",
      "    zos      (lat, lon) float64 nan nan nan nan nan nan ... nan nan nan nan nan\n",
      "108 Frozen(SortedKeysDict({'lat': 901, 'lon': 1800, 'time': 18}))\n"
     ]
    },
    {
     "name": "stderr",
     "output_type": "stream",
     "text": [
      "C:\\Users\\gentemann\\Miniconda3\\envs\\satenv\\lib\\site-packages\\xarray\\core\\nanops.py:159: RuntimeWarning: Mean of empty slice\n",
      "  return np.nanmean(a, axis=axis, dtype=dtype)\n"
     ]
    },
    {
     "name": "stdout",
     "output_type": "stream",
     "text": [
      "<xarray.Dataset>\n",
      "Dimensions:  (lat: 901, lon: 1800)\n",
      "Coordinates:\n",
      "    depth    float32 0.0\n",
      "  * lat      (lat) float64 -90.0 -89.8 -89.6 -89.4 -89.2 ... 89.4 89.6 89.8 90.0\n",
      "  * lon      (lon) float64 -180.0 -179.8 -179.6 -179.4 ... 179.4 179.6 179.8\n",
      "Data variables:\n",
      "    so       (lat, lon) float64 nan nan nan nan nan nan ... nan nan nan nan nan\n",
      "    zos      (lat, lon) float64 nan nan nan nan nan nan ... nan nan nan nan nan\n",
      "109 Frozen(SortedKeysDict({'lat': 901, 'lon': 1800, 'time': 19}))\n"
     ]
    },
    {
     "name": "stderr",
     "output_type": "stream",
     "text": [
      "C:\\Users\\gentemann\\Miniconda3\\envs\\satenv\\lib\\site-packages\\xarray\\core\\nanops.py:159: RuntimeWarning: Mean of empty slice\n",
      "  return np.nanmean(a, axis=axis, dtype=dtype)\n"
     ]
    },
    {
     "name": "stdout",
     "output_type": "stream",
     "text": [
      "<xarray.Dataset>\n",
      "Dimensions:  (lat: 901, lon: 1800)\n",
      "Coordinates:\n",
      "    depth    float32 0.0\n",
      "  * lat      (lat) float64 -90.0 -89.8 -89.6 -89.4 -89.2 ... 89.4 89.6 89.8 90.0\n",
      "  * lon      (lon) float64 -180.0 -179.8 -179.6 -179.4 ... 179.4 179.6 179.8\n",
      "Data variables:\n",
      "    so       (lat, lon) float64 nan nan nan nan nan nan ... nan nan nan nan nan\n",
      "    zos      (lat, lon) float64 nan nan nan nan nan nan ... nan nan nan nan nan\n",
      "110 Frozen(SortedKeysDict({'lat': 901, 'lon': 1800, 'time': 20}))\n"
     ]
    },
    {
     "name": "stderr",
     "output_type": "stream",
     "text": [
      "C:\\Users\\gentemann\\Miniconda3\\envs\\satenv\\lib\\site-packages\\xarray\\core\\nanops.py:159: RuntimeWarning: Mean of empty slice\n",
      "  return np.nanmean(a, axis=axis, dtype=dtype)\n"
     ]
    },
    {
     "name": "stdout",
     "output_type": "stream",
     "text": [
      "<xarray.Dataset>\n",
      "Dimensions:  (lat: 901, lon: 1800)\n",
      "Coordinates:\n",
      "    depth    float32 0.0\n",
      "  * lat      (lat) float64 -90.0 -89.8 -89.6 -89.4 -89.2 ... 89.4 89.6 89.8 90.0\n",
      "  * lon      (lon) float64 -180.0 -179.8 -179.6 -179.4 ... 179.4 179.6 179.8\n",
      "Data variables:\n",
      "    so       (lat, lon) float64 nan nan nan nan nan nan ... nan nan nan nan nan\n",
      "    zos      (lat, lon) float64 nan nan nan nan nan nan ... nan nan nan nan nan\n",
      "111 Frozen(SortedKeysDict({'lat': 901, 'lon': 1800, 'time': 21}))\n"
     ]
    },
    {
     "name": "stderr",
     "output_type": "stream",
     "text": [
      "C:\\Users\\gentemann\\Miniconda3\\envs\\satenv\\lib\\site-packages\\xarray\\core\\nanops.py:159: RuntimeWarning: Mean of empty slice\n",
      "  return np.nanmean(a, axis=axis, dtype=dtype)\n"
     ]
    },
    {
     "name": "stdout",
     "output_type": "stream",
     "text": [
      "<xarray.Dataset>\n",
      "Dimensions:  (lat: 901, lon: 1800)\n",
      "Coordinates:\n",
      "    depth    float32 0.0\n",
      "  * lat      (lat) float64 -90.0 -89.8 -89.6 -89.4 -89.2 ... 89.4 89.6 89.8 90.0\n",
      "  * lon      (lon) float64 -180.0 -179.8 -179.6 -179.4 ... 179.4 179.6 179.8\n",
      "Data variables:\n",
      "    so       (lat, lon) float64 nan nan nan nan nan nan ... nan nan nan nan nan\n",
      "    zos      (lat, lon) float64 nan nan nan nan nan nan ... nan nan nan nan nan\n",
      "112 Frozen(SortedKeysDict({'lat': 901, 'lon': 1800, 'time': 22}))\n"
     ]
    },
    {
     "name": "stderr",
     "output_type": "stream",
     "text": [
      "C:\\Users\\gentemann\\Miniconda3\\envs\\satenv\\lib\\site-packages\\xarray\\core\\nanops.py:159: RuntimeWarning: Mean of empty slice\n",
      "  return np.nanmean(a, axis=axis, dtype=dtype)\n"
     ]
    },
    {
     "name": "stdout",
     "output_type": "stream",
     "text": [
      "<xarray.Dataset>\n",
      "Dimensions:  (lat: 901, lon: 1800)\n",
      "Coordinates:\n",
      "    depth    float32 0.0\n",
      "  * lat      (lat) float64 -90.0 -89.8 -89.6 -89.4 -89.2 ... 89.4 89.6 89.8 90.0\n",
      "  * lon      (lon) float64 -180.0 -179.8 -179.6 -179.4 ... 179.4 179.6 179.8\n",
      "Data variables:\n",
      "    so       (lat, lon) float64 nan nan nan nan nan nan ... nan nan nan nan nan\n",
      "    zos      (lat, lon) float64 nan nan nan nan nan nan ... nan nan nan nan nan\n",
      "113 Frozen(SortedKeysDict({'lat': 901, 'lon': 1800, 'time': 23}))\n"
     ]
    },
    {
     "name": "stderr",
     "output_type": "stream",
     "text": [
      "C:\\Users\\gentemann\\Miniconda3\\envs\\satenv\\lib\\site-packages\\xarray\\core\\nanops.py:159: RuntimeWarning: Mean of empty slice\n",
      "  return np.nanmean(a, axis=axis, dtype=dtype)\n"
     ]
    },
    {
     "name": "stdout",
     "output_type": "stream",
     "text": [
      "<xarray.Dataset>\n",
      "Dimensions:  (lat: 901, lon: 1800)\n",
      "Coordinates:\n",
      "    depth    float32 0.0\n",
      "  * lat      (lat) float64 -90.0 -89.8 -89.6 -89.4 -89.2 ... 89.4 89.6 89.8 90.0\n",
      "  * lon      (lon) float64 -180.0 -179.8 -179.6 -179.4 ... 179.4 179.6 179.8\n",
      "Data variables:\n",
      "    so       (lat, lon) float64 nan nan nan nan nan nan ... nan nan nan nan nan\n",
      "    zos      (lat, lon) float64 nan nan nan nan nan nan ... nan nan nan nan nan\n",
      "114 Frozen(SortedKeysDict({'lat': 901, 'lon': 1800, 'time': 24}))\n"
     ]
    },
    {
     "name": "stderr",
     "output_type": "stream",
     "text": [
      "C:\\Users\\gentemann\\Miniconda3\\envs\\satenv\\lib\\site-packages\\xarray\\core\\nanops.py:159: RuntimeWarning: Mean of empty slice\n",
      "  return np.nanmean(a, axis=axis, dtype=dtype)\n"
     ]
    },
    {
     "name": "stdout",
     "output_type": "stream",
     "text": [
      "<xarray.Dataset>\n",
      "Dimensions:  (lat: 901, lon: 1800)\n",
      "Coordinates:\n",
      "    depth    float32 0.0\n",
      "  * lat      (lat) float64 -90.0 -89.8 -89.6 -89.4 -89.2 ... 89.4 89.6 89.8 90.0\n",
      "  * lon      (lon) float64 -180.0 -179.8 -179.6 -179.4 ... 179.4 179.6 179.8\n",
      "Data variables:\n",
      "    so       (lat, lon) float64 nan nan nan nan nan nan ... nan nan nan nan nan\n",
      "    zos      (lat, lon) float64 nan nan nan nan nan nan ... nan nan nan nan nan\n",
      "115 Frozen(SortedKeysDict({'lat': 901, 'lon': 1800, 'time': 25}))\n"
     ]
    },
    {
     "name": "stderr",
     "output_type": "stream",
     "text": [
      "C:\\Users\\gentemann\\Miniconda3\\envs\\satenv\\lib\\site-packages\\xarray\\core\\nanops.py:159: RuntimeWarning: Mean of empty slice\n",
      "  return np.nanmean(a, axis=axis, dtype=dtype)\n"
     ]
    },
    {
     "name": "stdout",
     "output_type": "stream",
     "text": [
      "<xarray.Dataset>\n",
      "Dimensions:  (lat: 901, lon: 1800)\n",
      "Coordinates:\n",
      "    depth    float32 0.0\n",
      "  * lat      (lat) float64 -90.0 -89.8 -89.6 -89.4 -89.2 ... 89.4 89.6 89.8 90.0\n",
      "  * lon      (lon) float64 -180.0 -179.8 -179.6 -179.4 ... 179.4 179.6 179.8\n",
      "Data variables:\n",
      "    so       (lat, lon) float64 nan nan nan nan nan nan ... nan nan nan nan nan\n",
      "    zos      (lat, lon) float64 nan nan nan nan nan nan ... nan nan nan nan nan\n",
      "116 Frozen(SortedKeysDict({'lat': 901, 'lon': 1800, 'time': 26}))\n"
     ]
    },
    {
     "name": "stderr",
     "output_type": "stream",
     "text": [
      "C:\\Users\\gentemann\\Miniconda3\\envs\\satenv\\lib\\site-packages\\xarray\\core\\nanops.py:159: RuntimeWarning: Mean of empty slice\n",
      "  return np.nanmean(a, axis=axis, dtype=dtype)\n"
     ]
    },
    {
     "name": "stdout",
     "output_type": "stream",
     "text": [
      "<xarray.Dataset>\n",
      "Dimensions:  (lat: 901, lon: 1800)\n",
      "Coordinates:\n",
      "    depth    float32 0.0\n",
      "  * lat      (lat) float64 -90.0 -89.8 -89.6 -89.4 -89.2 ... 89.4 89.6 89.8 90.0\n",
      "  * lon      (lon) float64 -180.0 -179.8 -179.6 -179.4 ... 179.4 179.6 179.8\n",
      "Data variables:\n",
      "    so       (lat, lon) float64 nan nan nan nan nan nan ... nan nan nan nan nan\n",
      "    zos      (lat, lon) float64 nan nan nan nan nan nan ... nan nan nan nan nan\n",
      "117 Frozen(SortedKeysDict({'lat': 901, 'lon': 1800, 'time': 27}))\n"
     ]
    },
    {
     "name": "stderr",
     "output_type": "stream",
     "text": [
      "C:\\Users\\gentemann\\Miniconda3\\envs\\satenv\\lib\\site-packages\\xarray\\core\\nanops.py:159: RuntimeWarning: Mean of empty slice\n",
      "  return np.nanmean(a, axis=axis, dtype=dtype)\n"
     ]
    },
    {
     "name": "stdout",
     "output_type": "stream",
     "text": [
      "<xarray.Dataset>\n",
      "Dimensions:  (lat: 901, lon: 1800)\n",
      "Coordinates:\n",
      "    depth    float32 0.0\n",
      "  * lat      (lat) float64 -90.0 -89.8 -89.6 -89.4 -89.2 ... 89.4 89.6 89.8 90.0\n",
      "  * lon      (lon) float64 -180.0 -179.8 -179.6 -179.4 ... 179.4 179.6 179.8\n",
      "Data variables:\n",
      "    so       (lat, lon) float64 nan nan nan nan nan nan ... nan nan nan nan nan\n",
      "    zos      (lat, lon) float64 nan nan nan nan nan nan ... nan nan nan nan nan\n",
      "118 Frozen(SortedKeysDict({'lat': 901, 'lon': 1800, 'time': 28}))\n"
     ]
    },
    {
     "name": "stderr",
     "output_type": "stream",
     "text": [
      "C:\\Users\\gentemann\\Miniconda3\\envs\\satenv\\lib\\site-packages\\xarray\\core\\nanops.py:159: RuntimeWarning: Mean of empty slice\n",
      "  return np.nanmean(a, axis=axis, dtype=dtype)\n"
     ]
    },
    {
     "name": "stdout",
     "output_type": "stream",
     "text": [
      "<xarray.Dataset>\n",
      "Dimensions:  (lat: 901, lon: 1800)\n",
      "Coordinates:\n",
      "    depth    float32 0.0\n",
      "  * lat      (lat) float64 -90.0 -89.8 -89.6 -89.4 -89.2 ... 89.4 89.6 89.8 90.0\n",
      "  * lon      (lon) float64 -180.0 -179.8 -179.6 -179.4 ... 179.4 179.6 179.8\n",
      "Data variables:\n",
      "    so       (lat, lon) float64 nan nan nan nan nan nan ... nan nan nan nan nan\n",
      "    zos      (lat, lon) float64 nan nan nan nan nan nan ... nan nan nan nan nan\n",
      "119 Frozen(SortedKeysDict({'lat': 901, 'lon': 1800, 'time': 29}))\n"
     ]
    },
    {
     "name": "stderr",
     "output_type": "stream",
     "text": [
      "C:\\Users\\gentemann\\Miniconda3\\envs\\satenv\\lib\\site-packages\\xarray\\core\\nanops.py:159: RuntimeWarning: Mean of empty slice\n",
      "  return np.nanmean(a, axis=axis, dtype=dtype)\n"
     ]
    },
    {
     "name": "stdout",
     "output_type": "stream",
     "text": [
      "<xarray.Dataset>\n",
      "Dimensions:  (lat: 901, lon: 1800)\n",
      "Coordinates:\n",
      "    depth    float32 0.0\n",
      "  * lat      (lat) float64 -90.0 -89.8 -89.6 -89.4 -89.2 ... 89.4 89.6 89.8 90.0\n",
      "  * lon      (lon) float64 -180.0 -179.8 -179.6 -179.4 ... 179.4 179.6 179.8\n",
      "Data variables:\n",
      "    so       (lat, lon) float64 nan nan nan nan nan nan ... nan nan nan nan nan\n",
      "    zos      (lat, lon) float64 nan nan nan nan nan nan ... nan nan nan nan nan\n",
      "120 Frozen(SortedKeysDict({'lat': 901, 'lon': 1800, 'time': 30}))\n"
     ]
    },
    {
     "name": "stderr",
     "output_type": "stream",
     "text": [
      "C:\\Users\\gentemann\\Miniconda3\\envs\\satenv\\lib\\site-packages\\xarray\\core\\nanops.py:159: RuntimeWarning: Mean of empty slice\n",
      "  return np.nanmean(a, axis=axis, dtype=dtype)\n"
     ]
    },
    {
     "name": "stdout",
     "output_type": "stream",
     "text": [
      "out: F:/data/model_data/CMEM/global-analysis-forecast-phys_001_015/monthly/subset_metoffice_coupled_orca025_GL4_SAL_b201804_dm20180208.nc\n",
      "<xarray.Dataset>\n",
      "Dimensions:  (lat: 901, lon: 1800)\n",
      "Coordinates:\n",
      "    depth    float32 0.0\n",
      "  * lat      (lat) float64 -90.0 -89.8 -89.6 -89.4 -89.2 ... 89.4 89.6 89.8 90.0\n",
      "  * lon      (lon) float64 -180.0 -179.8 -179.6 -179.4 ... 179.4 179.6 179.8\n",
      "Data variables:\n",
      "    so       (lat, lon) float64 nan nan nan nan nan nan ... nan nan nan nan nan\n",
      "    zos      (lat, lon) float64 nan nan nan nan nan nan ... nan nan nan nan nan\n",
      "121 Frozen(SortedKeysDict({'lat': 901, 'lon': 1800}))\n",
      "<xarray.Dataset>\n",
      "Dimensions:  (lat: 901, lon: 1800)\n",
      "Coordinates:\n",
      "    depth    float32 0.0\n",
      "  * lat      (lat) float64 -90.0 -89.8 -89.6 -89.4 -89.2 ... 89.4 89.6 89.8 90.0\n",
      "  * lon      (lon) float64 -180.0 -179.8 -179.6 -179.4 ... 179.4 179.6 179.8\n",
      "Data variables:\n",
      "    so       (lat, lon) float64 nan nan nan nan nan nan ... nan nan nan nan nan\n",
      "    zos      (lat, lon) float64 nan nan nan nan nan nan ... nan nan nan nan nan\n",
      "122 Frozen(SortedKeysDict({'lat': 901, 'lon': 1800, 'time': 2}))\n"
     ]
    },
    {
     "name": "stderr",
     "output_type": "stream",
     "text": [
      "C:\\Users\\gentemann\\Miniconda3\\envs\\satenv\\lib\\site-packages\\xarray\\core\\nanops.py:159: RuntimeWarning: Mean of empty slice\n",
      "  return np.nanmean(a, axis=axis, dtype=dtype)\n"
     ]
    },
    {
     "name": "stdout",
     "output_type": "stream",
     "text": [
      "<xarray.Dataset>\n",
      "Dimensions:  (lat: 901, lon: 1800)\n",
      "Coordinates:\n",
      "    depth    float32 0.0\n",
      "  * lat      (lat) float64 -90.0 -89.8 -89.6 -89.4 -89.2 ... 89.4 89.6 89.8 90.0\n",
      "  * lon      (lon) float64 -180.0 -179.8 -179.6 -179.4 ... 179.4 179.6 179.8\n",
      "Data variables:\n",
      "    so       (lat, lon) float64 nan nan nan nan nan nan ... nan nan nan nan nan\n",
      "    zos      (lat, lon) float64 nan nan nan nan nan nan ... nan nan nan nan nan\n",
      "123 Frozen(SortedKeysDict({'lat': 901, 'lon': 1800, 'time': 3}))\n"
     ]
    },
    {
     "name": "stderr",
     "output_type": "stream",
     "text": [
      "C:\\Users\\gentemann\\Miniconda3\\envs\\satenv\\lib\\site-packages\\xarray\\core\\nanops.py:159: RuntimeWarning: Mean of empty slice\n",
      "  return np.nanmean(a, axis=axis, dtype=dtype)\n"
     ]
    },
    {
     "name": "stdout",
     "output_type": "stream",
     "text": [
      "<xarray.Dataset>\n",
      "Dimensions:  (lat: 901, lon: 1800)\n",
      "Coordinates:\n",
      "    depth    float32 0.0\n",
      "  * lat      (lat) float64 -90.0 -89.8 -89.6 -89.4 -89.2 ... 89.4 89.6 89.8 90.0\n",
      "  * lon      (lon) float64 -180.0 -179.8 -179.6 -179.4 ... 179.4 179.6 179.8\n",
      "Data variables:\n",
      "    so       (lat, lon) float64 nan nan nan nan nan nan ... nan nan nan nan nan\n",
      "    zos      (lat, lon) float64 nan nan nan nan nan nan ... nan nan nan nan nan\n",
      "124 Frozen(SortedKeysDict({'lat': 901, 'lon': 1800, 'time': 4}))\n"
     ]
    },
    {
     "name": "stderr",
     "output_type": "stream",
     "text": [
      "C:\\Users\\gentemann\\Miniconda3\\envs\\satenv\\lib\\site-packages\\xarray\\core\\nanops.py:159: RuntimeWarning: Mean of empty slice\n",
      "  return np.nanmean(a, axis=axis, dtype=dtype)\n"
     ]
    },
    {
     "name": "stdout",
     "output_type": "stream",
     "text": [
      "<xarray.Dataset>\n",
      "Dimensions:  (lat: 901, lon: 1800)\n",
      "Coordinates:\n",
      "    depth    float32 0.0\n",
      "  * lat      (lat) float64 -90.0 -89.8 -89.6 -89.4 -89.2 ... 89.4 89.6 89.8 90.0\n",
      "  * lon      (lon) float64 -180.0 -179.8 -179.6 -179.4 ... 179.4 179.6 179.8\n",
      "Data variables:\n",
      "    so       (lat, lon) float64 nan nan nan nan nan nan ... nan nan nan nan nan\n",
      "    zos      (lat, lon) float64 nan nan nan nan nan nan ... nan nan nan nan nan\n",
      "125 Frozen(SortedKeysDict({'lat': 901, 'lon': 1800, 'time': 5}))\n"
     ]
    },
    {
     "name": "stderr",
     "output_type": "stream",
     "text": [
      "C:\\Users\\gentemann\\Miniconda3\\envs\\satenv\\lib\\site-packages\\xarray\\core\\nanops.py:159: RuntimeWarning: Mean of empty slice\n",
      "  return np.nanmean(a, axis=axis, dtype=dtype)\n"
     ]
    },
    {
     "name": "stdout",
     "output_type": "stream",
     "text": [
      "<xarray.Dataset>\n",
      "Dimensions:  (lat: 901, lon: 1800)\n",
      "Coordinates:\n",
      "    depth    float32 0.0\n",
      "  * lat      (lat) float64 -90.0 -89.8 -89.6 -89.4 -89.2 ... 89.4 89.6 89.8 90.0\n",
      "  * lon      (lon) float64 -180.0 -179.8 -179.6 -179.4 ... 179.4 179.6 179.8\n",
      "Data variables:\n",
      "    so       (lat, lon) float64 nan nan nan nan nan nan ... nan nan nan nan nan\n",
      "    zos      (lat, lon) float64 nan nan nan nan nan nan ... nan nan nan nan nan\n",
      "126 Frozen(SortedKeysDict({'lat': 901, 'lon': 1800, 'time': 6}))\n"
     ]
    },
    {
     "name": "stderr",
     "output_type": "stream",
     "text": [
      "C:\\Users\\gentemann\\Miniconda3\\envs\\satenv\\lib\\site-packages\\xarray\\core\\nanops.py:159: RuntimeWarning: Mean of empty slice\n",
      "  return np.nanmean(a, axis=axis, dtype=dtype)\n"
     ]
    },
    {
     "name": "stdout",
     "output_type": "stream",
     "text": [
      "<xarray.Dataset>\n",
      "Dimensions:  (lat: 901, lon: 1800)\n",
      "Coordinates:\n",
      "    depth    float32 0.0\n",
      "  * lat      (lat) float64 -90.0 -89.8 -89.6 -89.4 -89.2 ... 89.4 89.6 89.8 90.0\n",
      "  * lon      (lon) float64 -180.0 -179.8 -179.6 -179.4 ... 179.4 179.6 179.8\n",
      "Data variables:\n",
      "    so       (lat, lon) float64 nan nan nan nan nan nan ... nan nan nan nan nan\n",
      "    zos      (lat, lon) float64 nan nan nan nan nan nan ... nan nan nan nan nan\n",
      "127 Frozen(SortedKeysDict({'lat': 901, 'lon': 1800, 'time': 7}))\n"
     ]
    },
    {
     "name": "stderr",
     "output_type": "stream",
     "text": [
      "C:\\Users\\gentemann\\Miniconda3\\envs\\satenv\\lib\\site-packages\\xarray\\core\\nanops.py:159: RuntimeWarning: Mean of empty slice\n",
      "  return np.nanmean(a, axis=axis, dtype=dtype)\n"
     ]
    },
    {
     "name": "stdout",
     "output_type": "stream",
     "text": [
      "<xarray.Dataset>\n",
      "Dimensions:  (lat: 901, lon: 1800)\n",
      "Coordinates:\n",
      "    depth    float32 0.0\n",
      "  * lat      (lat) float64 -90.0 -89.8 -89.6 -89.4 -89.2 ... 89.4 89.6 89.8 90.0\n",
      "  * lon      (lon) float64 -180.0 -179.8 -179.6 -179.4 ... 179.4 179.6 179.8\n",
      "Data variables:\n",
      "    so       (lat, lon) float64 nan nan nan nan nan nan ... nan nan nan nan nan\n",
      "    zos      (lat, lon) float64 nan nan nan nan nan nan ... nan nan nan nan nan\n",
      "128 Frozen(SortedKeysDict({'lat': 901, 'lon': 1800, 'time': 8}))\n"
     ]
    },
    {
     "name": "stderr",
     "output_type": "stream",
     "text": [
      "C:\\Users\\gentemann\\Miniconda3\\envs\\satenv\\lib\\site-packages\\xarray\\core\\nanops.py:159: RuntimeWarning: Mean of empty slice\n",
      "  return np.nanmean(a, axis=axis, dtype=dtype)\n"
     ]
    },
    {
     "name": "stdout",
     "output_type": "stream",
     "text": [
      "<xarray.Dataset>\n",
      "Dimensions:  (lat: 901, lon: 1800)\n",
      "Coordinates:\n",
      "    depth    float32 0.0\n",
      "  * lat      (lat) float64 -90.0 -89.8 -89.6 -89.4 -89.2 ... 89.4 89.6 89.8 90.0\n",
      "  * lon      (lon) float64 -180.0 -179.8 -179.6 -179.4 ... 179.4 179.6 179.8\n",
      "Data variables:\n",
      "    so       (lat, lon) float64 nan nan nan nan nan nan ... nan nan nan nan nan\n",
      "    zos      (lat, lon) float64 nan nan nan nan nan nan ... nan nan nan nan nan\n",
      "129 Frozen(SortedKeysDict({'lat': 901, 'lon': 1800, 'time': 9}))\n"
     ]
    },
    {
     "name": "stderr",
     "output_type": "stream",
     "text": [
      "C:\\Users\\gentemann\\Miniconda3\\envs\\satenv\\lib\\site-packages\\xarray\\core\\nanops.py:159: RuntimeWarning: Mean of empty slice\n",
      "  return np.nanmean(a, axis=axis, dtype=dtype)\n"
     ]
    },
    {
     "name": "stdout",
     "output_type": "stream",
     "text": [
      "<xarray.Dataset>\n",
      "Dimensions:  (lat: 901, lon: 1800)\n",
      "Coordinates:\n",
      "    depth    float32 0.0\n",
      "  * lat      (lat) float64 -90.0 -89.8 -89.6 -89.4 -89.2 ... 89.4 89.6 89.8 90.0\n",
      "  * lon      (lon) float64 -180.0 -179.8 -179.6 -179.4 ... 179.4 179.6 179.8\n",
      "Data variables:\n",
      "    so       (lat, lon) float64 nan nan nan nan nan nan ... nan nan nan nan nan\n",
      "    zos      (lat, lon) float64 nan nan nan nan nan nan ... nan nan nan nan nan\n",
      "130 Frozen(SortedKeysDict({'lat': 901, 'lon': 1800, 'time': 10}))\n"
     ]
    },
    {
     "name": "stderr",
     "output_type": "stream",
     "text": [
      "C:\\Users\\gentemann\\Miniconda3\\envs\\satenv\\lib\\site-packages\\xarray\\core\\nanops.py:159: RuntimeWarning: Mean of empty slice\n",
      "  return np.nanmean(a, axis=axis, dtype=dtype)\n"
     ]
    },
    {
     "name": "stdout",
     "output_type": "stream",
     "text": [
      "<xarray.Dataset>\n",
      "Dimensions:  (lat: 901, lon: 1800)\n",
      "Coordinates:\n",
      "    depth    float32 0.0\n",
      "  * lat      (lat) float64 -90.0 -89.8 -89.6 -89.4 -89.2 ... 89.4 89.6 89.8 90.0\n",
      "  * lon      (lon) float64 -180.0 -179.8 -179.6 -179.4 ... 179.4 179.6 179.8\n",
      "Data variables:\n",
      "    so       (lat, lon) float64 nan nan nan nan nan nan ... nan nan nan nan nan\n",
      "    zos      (lat, lon) float64 nan nan nan nan nan nan ... nan nan nan nan nan\n",
      "131 Frozen(SortedKeysDict({'lat': 901, 'lon': 1800, 'time': 11}))\n"
     ]
    },
    {
     "name": "stderr",
     "output_type": "stream",
     "text": [
      "C:\\Users\\gentemann\\Miniconda3\\envs\\satenv\\lib\\site-packages\\xarray\\core\\nanops.py:159: RuntimeWarning: Mean of empty slice\n",
      "  return np.nanmean(a, axis=axis, dtype=dtype)\n"
     ]
    },
    {
     "name": "stdout",
     "output_type": "stream",
     "text": [
      "<xarray.Dataset>\n",
      "Dimensions:  (lat: 901, lon: 1800)\n",
      "Coordinates:\n",
      "    depth    float32 0.0\n",
      "  * lat      (lat) float64 -90.0 -89.8 -89.6 -89.4 -89.2 ... 89.4 89.6 89.8 90.0\n",
      "  * lon      (lon) float64 -180.0 -179.8 -179.6 -179.4 ... 179.4 179.6 179.8\n",
      "Data variables:\n",
      "    so       (lat, lon) float64 nan nan nan nan nan nan ... nan nan nan nan nan\n",
      "    zos      (lat, lon) float64 nan nan nan nan nan nan ... nan nan nan nan nan\n",
      "132 Frozen(SortedKeysDict({'lat': 901, 'lon': 1800, 'time': 12}))\n"
     ]
    },
    {
     "name": "stderr",
     "output_type": "stream",
     "text": [
      "C:\\Users\\gentemann\\Miniconda3\\envs\\satenv\\lib\\site-packages\\xarray\\core\\nanops.py:159: RuntimeWarning: Mean of empty slice\n",
      "  return np.nanmean(a, axis=axis, dtype=dtype)\n"
     ]
    },
    {
     "name": "stdout",
     "output_type": "stream",
     "text": [
      "<xarray.Dataset>\n",
      "Dimensions:  (lat: 901, lon: 1800)\n",
      "Coordinates:\n",
      "    depth    float32 0.0\n",
      "  * lat      (lat) float64 -90.0 -89.8 -89.6 -89.4 -89.2 ... 89.4 89.6 89.8 90.0\n",
      "  * lon      (lon) float64 -180.0 -179.8 -179.6 -179.4 ... 179.4 179.6 179.8\n",
      "Data variables:\n",
      "    so       (lat, lon) float64 nan nan nan nan nan nan ... nan nan nan nan nan\n",
      "    zos      (lat, lon) float64 nan nan nan nan nan nan ... nan nan nan nan nan\n",
      "133 Frozen(SortedKeysDict({'lat': 901, 'lon': 1800, 'time': 13}))\n"
     ]
    },
    {
     "name": "stderr",
     "output_type": "stream",
     "text": [
      "C:\\Users\\gentemann\\Miniconda3\\envs\\satenv\\lib\\site-packages\\xarray\\core\\nanops.py:159: RuntimeWarning: Mean of empty slice\n",
      "  return np.nanmean(a, axis=axis, dtype=dtype)\n"
     ]
    },
    {
     "name": "stdout",
     "output_type": "stream",
     "text": [
      "<xarray.Dataset>\n",
      "Dimensions:  (lat: 901, lon: 1800)\n",
      "Coordinates:\n",
      "    depth    float32 0.0\n",
      "  * lat      (lat) float64 -90.0 -89.8 -89.6 -89.4 -89.2 ... 89.4 89.6 89.8 90.0\n",
      "  * lon      (lon) float64 -180.0 -179.8 -179.6 -179.4 ... 179.4 179.6 179.8\n",
      "Data variables:\n",
      "    so       (lat, lon) float64 nan nan nan nan nan nan ... nan nan nan nan nan\n",
      "    zos      (lat, lon) float64 nan nan nan nan nan nan ... nan nan nan nan nan\n",
      "134 Frozen(SortedKeysDict({'lat': 901, 'lon': 1800, 'time': 14}))\n"
     ]
    },
    {
     "name": "stderr",
     "output_type": "stream",
     "text": [
      "C:\\Users\\gentemann\\Miniconda3\\envs\\satenv\\lib\\site-packages\\xarray\\core\\nanops.py:159: RuntimeWarning: Mean of empty slice\n",
      "  return np.nanmean(a, axis=axis, dtype=dtype)\n"
     ]
    },
    {
     "name": "stdout",
     "output_type": "stream",
     "text": [
      "<xarray.Dataset>\n",
      "Dimensions:  (lat: 901, lon: 1800)\n",
      "Coordinates:\n",
      "    depth    float32 0.0\n",
      "  * lat      (lat) float64 -90.0 -89.8 -89.6 -89.4 -89.2 ... 89.4 89.6 89.8 90.0\n",
      "  * lon      (lon) float64 -180.0 -179.8 -179.6 -179.4 ... 179.4 179.6 179.8\n",
      "Data variables:\n",
      "    so       (lat, lon) float64 nan nan nan nan nan nan ... nan nan nan nan nan\n",
      "    zos      (lat, lon) float64 nan nan nan nan nan nan ... nan nan nan nan nan\n",
      "135 Frozen(SortedKeysDict({'lat': 901, 'lon': 1800, 'time': 15}))\n"
     ]
    },
    {
     "name": "stderr",
     "output_type": "stream",
     "text": [
      "C:\\Users\\gentemann\\Miniconda3\\envs\\satenv\\lib\\site-packages\\xarray\\core\\nanops.py:159: RuntimeWarning: Mean of empty slice\n",
      "  return np.nanmean(a, axis=axis, dtype=dtype)\n"
     ]
    },
    {
     "name": "stdout",
     "output_type": "stream",
     "text": [
      "<xarray.Dataset>\n",
      "Dimensions:  (lat: 901, lon: 1800)\n",
      "Coordinates:\n",
      "    depth    float32 0.0\n",
      "  * lat      (lat) float64 -90.0 -89.8 -89.6 -89.4 -89.2 ... 89.4 89.6 89.8 90.0\n",
      "  * lon      (lon) float64 -180.0 -179.8 -179.6 -179.4 ... 179.4 179.6 179.8\n",
      "Data variables:\n",
      "    so       (lat, lon) float64 nan nan nan nan nan nan ... nan nan nan nan nan\n",
      "    zos      (lat, lon) float64 nan nan nan nan nan nan ... nan nan nan nan nan\n",
      "136 Frozen(SortedKeysDict({'lat': 901, 'lon': 1800, 'time': 16}))\n"
     ]
    },
    {
     "name": "stderr",
     "output_type": "stream",
     "text": [
      "C:\\Users\\gentemann\\Miniconda3\\envs\\satenv\\lib\\site-packages\\xarray\\core\\nanops.py:159: RuntimeWarning: Mean of empty slice\n",
      "  return np.nanmean(a, axis=axis, dtype=dtype)\n"
     ]
    },
    {
     "name": "stdout",
     "output_type": "stream",
     "text": [
      "<xarray.Dataset>\n",
      "Dimensions:  (lat: 901, lon: 1800)\n",
      "Coordinates:\n",
      "    depth    float32 0.0\n",
      "  * lat      (lat) float64 -90.0 -89.8 -89.6 -89.4 -89.2 ... 89.4 89.6 89.8 90.0\n",
      "  * lon      (lon) float64 -180.0 -179.8 -179.6 -179.4 ... 179.4 179.6 179.8\n",
      "Data variables:\n",
      "    so       (lat, lon) float64 nan nan nan nan nan nan ... nan nan nan nan nan\n",
      "    zos      (lat, lon) float64 nan nan nan nan nan nan ... nan nan nan nan nan\n",
      "137 Frozen(SortedKeysDict({'lat': 901, 'lon': 1800, 'time': 17}))\n"
     ]
    },
    {
     "name": "stderr",
     "output_type": "stream",
     "text": [
      "C:\\Users\\gentemann\\Miniconda3\\envs\\satenv\\lib\\site-packages\\xarray\\core\\nanops.py:159: RuntimeWarning: Mean of empty slice\n",
      "  return np.nanmean(a, axis=axis, dtype=dtype)\n"
     ]
    },
    {
     "name": "stdout",
     "output_type": "stream",
     "text": [
      "<xarray.Dataset>\n",
      "Dimensions:  (lat: 901, lon: 1800)\n",
      "Coordinates:\n",
      "    depth    float32 0.0\n",
      "  * lat      (lat) float64 -90.0 -89.8 -89.6 -89.4 -89.2 ... 89.4 89.6 89.8 90.0\n",
      "  * lon      (lon) float64 -180.0 -179.8 -179.6 -179.4 ... 179.4 179.6 179.8\n",
      "Data variables:\n",
      "    so       (lat, lon) float64 nan nan nan nan nan nan ... nan nan nan nan nan\n",
      "    zos      (lat, lon) float64 nan nan nan nan nan nan ... nan nan nan nan nan\n",
      "138 Frozen(SortedKeysDict({'lat': 901, 'lon': 1800, 'time': 18}))\n"
     ]
    },
    {
     "name": "stderr",
     "output_type": "stream",
     "text": [
      "C:\\Users\\gentemann\\Miniconda3\\envs\\satenv\\lib\\site-packages\\xarray\\core\\nanops.py:159: RuntimeWarning: Mean of empty slice\n",
      "  return np.nanmean(a, axis=axis, dtype=dtype)\n"
     ]
    },
    {
     "name": "stdout",
     "output_type": "stream",
     "text": [
      "<xarray.Dataset>\n",
      "Dimensions:  (lat: 901, lon: 1800)\n",
      "Coordinates:\n",
      "    depth    float32 0.0\n",
      "  * lat      (lat) float64 -90.0 -89.8 -89.6 -89.4 -89.2 ... 89.4 89.6 89.8 90.0\n",
      "  * lon      (lon) float64 -180.0 -179.8 -179.6 -179.4 ... 179.4 179.6 179.8\n",
      "Data variables:\n",
      "    so       (lat, lon) float64 nan nan nan nan nan nan ... nan nan nan nan nan\n",
      "    zos      (lat, lon) float64 nan nan nan nan nan nan ... nan nan nan nan nan\n",
      "139 Frozen(SortedKeysDict({'lat': 901, 'lon': 1800, 'time': 19}))\n"
     ]
    },
    {
     "name": "stderr",
     "output_type": "stream",
     "text": [
      "C:\\Users\\gentemann\\Miniconda3\\envs\\satenv\\lib\\site-packages\\xarray\\core\\nanops.py:159: RuntimeWarning: Mean of empty slice\n",
      "  return np.nanmean(a, axis=axis, dtype=dtype)\n"
     ]
    },
    {
     "name": "stdout",
     "output_type": "stream",
     "text": [
      "<xarray.Dataset>\n",
      "Dimensions:  (lat: 901, lon: 1800)\n",
      "Coordinates:\n",
      "    depth    float32 0.0\n",
      "  * lat      (lat) float64 -90.0 -89.8 -89.6 -89.4 -89.2 ... 89.4 89.6 89.8 90.0\n",
      "  * lon      (lon) float64 -180.0 -179.8 -179.6 -179.4 ... 179.4 179.6 179.8\n",
      "Data variables:\n",
      "    so       (lat, lon) float64 nan nan nan nan nan nan ... nan nan nan nan nan\n",
      "    zos      (lat, lon) float64 nan nan nan nan nan nan ... nan nan nan nan nan\n",
      "140 Frozen(SortedKeysDict({'lat': 901, 'lon': 1800, 'time': 20}))\n"
     ]
    },
    {
     "name": "stderr",
     "output_type": "stream",
     "text": [
      "C:\\Users\\gentemann\\Miniconda3\\envs\\satenv\\lib\\site-packages\\xarray\\core\\nanops.py:159: RuntimeWarning: Mean of empty slice\n",
      "  return np.nanmean(a, axis=axis, dtype=dtype)\n"
     ]
    },
    {
     "name": "stdout",
     "output_type": "stream",
     "text": [
      "<xarray.Dataset>\n",
      "Dimensions:  (lat: 901, lon: 1800)\n",
      "Coordinates:\n",
      "    depth    float32 0.0\n",
      "  * lat      (lat) float64 -90.0 -89.8 -89.6 -89.4 -89.2 ... 89.4 89.6 89.8 90.0\n",
      "  * lon      (lon) float64 -180.0 -179.8 -179.6 -179.4 ... 179.4 179.6 179.8\n",
      "Data variables:\n",
      "    so       (lat, lon) float64 nan nan nan nan nan nan ... nan nan nan nan nan\n",
      "    zos      (lat, lon) float64 nan nan nan nan nan nan ... nan nan nan nan nan\n",
      "141 Frozen(SortedKeysDict({'lat': 901, 'lon': 1800, 'time': 21}))\n"
     ]
    },
    {
     "name": "stderr",
     "output_type": "stream",
     "text": [
      "C:\\Users\\gentemann\\Miniconda3\\envs\\satenv\\lib\\site-packages\\xarray\\core\\nanops.py:159: RuntimeWarning: Mean of empty slice\n",
      "  return np.nanmean(a, axis=axis, dtype=dtype)\n"
     ]
    },
    {
     "name": "stdout",
     "output_type": "stream",
     "text": [
      "<xarray.Dataset>\n",
      "Dimensions:  (lat: 901, lon: 1800)\n",
      "Coordinates:\n",
      "    depth    float32 0.0\n",
      "  * lat      (lat) float64 -90.0 -89.8 -89.6 -89.4 -89.2 ... 89.4 89.6 89.8 90.0\n",
      "  * lon      (lon) float64 -180.0 -179.8 -179.6 -179.4 ... 179.4 179.6 179.8\n",
      "Data variables:\n",
      "    so       (lat, lon) float64 nan nan nan nan nan nan ... nan nan nan nan nan\n",
      "    zos      (lat, lon) float64 nan nan nan nan nan nan ... nan nan nan nan nan\n",
      "142 Frozen(SortedKeysDict({'lat': 901, 'lon': 1800, 'time': 22}))\n"
     ]
    },
    {
     "name": "stderr",
     "output_type": "stream",
     "text": [
      "C:\\Users\\gentemann\\Miniconda3\\envs\\satenv\\lib\\site-packages\\xarray\\core\\nanops.py:159: RuntimeWarning: Mean of empty slice\n",
      "  return np.nanmean(a, axis=axis, dtype=dtype)\n"
     ]
    },
    {
     "name": "stdout",
     "output_type": "stream",
     "text": [
      "<xarray.Dataset>\n",
      "Dimensions:  (lat: 901, lon: 1800)\n",
      "Coordinates:\n",
      "    depth    float32 0.0\n",
      "  * lat      (lat) float64 -90.0 -89.8 -89.6 -89.4 -89.2 ... 89.4 89.6 89.8 90.0\n",
      "  * lon      (lon) float64 -180.0 -179.8 -179.6 -179.4 ... 179.4 179.6 179.8\n",
      "Data variables:\n",
      "    so       (lat, lon) float64 nan nan nan nan nan nan ... nan nan nan nan nan\n",
      "    zos      (lat, lon) float64 nan nan nan nan nan nan ... nan nan nan nan nan\n",
      "143 Frozen(SortedKeysDict({'lat': 901, 'lon': 1800, 'time': 23}))\n"
     ]
    },
    {
     "name": "stderr",
     "output_type": "stream",
     "text": [
      "C:\\Users\\gentemann\\Miniconda3\\envs\\satenv\\lib\\site-packages\\xarray\\core\\nanops.py:159: RuntimeWarning: Mean of empty slice\n",
      "  return np.nanmean(a, axis=axis, dtype=dtype)\n"
     ]
    },
    {
     "name": "stdout",
     "output_type": "stream",
     "text": [
      "<xarray.Dataset>\n",
      "Dimensions:  (lat: 901, lon: 1800)\n",
      "Coordinates:\n",
      "    depth    float32 0.0\n",
      "  * lat      (lat) float64 -90.0 -89.8 -89.6 -89.4 -89.2 ... 89.4 89.6 89.8 90.0\n",
      "  * lon      (lon) float64 -180.0 -179.8 -179.6 -179.4 ... 179.4 179.6 179.8\n",
      "Data variables:\n",
      "    so       (lat, lon) float64 nan nan nan nan nan nan ... nan nan nan nan nan\n",
      "    zos      (lat, lon) float64 nan nan nan nan nan nan ... nan nan nan nan nan\n",
      "144 Frozen(SortedKeysDict({'lat': 901, 'lon': 1800, 'time': 24}))\n"
     ]
    },
    {
     "name": "stderr",
     "output_type": "stream",
     "text": [
      "C:\\Users\\gentemann\\Miniconda3\\envs\\satenv\\lib\\site-packages\\xarray\\core\\nanops.py:159: RuntimeWarning: Mean of empty slice\n",
      "  return np.nanmean(a, axis=axis, dtype=dtype)\n"
     ]
    },
    {
     "name": "stdout",
     "output_type": "stream",
     "text": [
      "<xarray.Dataset>\n",
      "Dimensions:  (lat: 901, lon: 1800)\n",
      "Coordinates:\n",
      "    depth    float32 0.0\n",
      "  * lat      (lat) float64 -90.0 -89.8 -89.6 -89.4 -89.2 ... 89.4 89.6 89.8 90.0\n",
      "  * lon      (lon) float64 -180.0 -179.8 -179.6 -179.4 ... 179.4 179.6 179.8\n",
      "Data variables:\n",
      "    so       (lat, lon) float64 nan nan nan nan nan nan ... nan nan nan nan nan\n",
      "    zos      (lat, lon) float64 nan nan nan nan nan nan ... nan nan nan nan nan\n",
      "145 Frozen(SortedKeysDict({'lat': 901, 'lon': 1800, 'time': 25}))\n"
     ]
    },
    {
     "name": "stderr",
     "output_type": "stream",
     "text": [
      "C:\\Users\\gentemann\\Miniconda3\\envs\\satenv\\lib\\site-packages\\xarray\\core\\nanops.py:159: RuntimeWarning: Mean of empty slice\n",
      "  return np.nanmean(a, axis=axis, dtype=dtype)\n"
     ]
    },
    {
     "name": "stdout",
     "output_type": "stream",
     "text": [
      "<xarray.Dataset>\n",
      "Dimensions:  (lat: 901, lon: 1800)\n",
      "Coordinates:\n",
      "    depth    float32 0.0\n",
      "  * lat      (lat) float64 -90.0 -89.8 -89.6 -89.4 -89.2 ... 89.4 89.6 89.8 90.0\n",
      "  * lon      (lon) float64 -180.0 -179.8 -179.6 -179.4 ... 179.4 179.6 179.8\n",
      "Data variables:\n",
      "    so       (lat, lon) float64 nan nan nan nan nan nan ... nan nan nan nan nan\n",
      "    zos      (lat, lon) float64 nan nan nan nan nan nan ... nan nan nan nan nan\n",
      "146 Frozen(SortedKeysDict({'lat': 901, 'lon': 1800, 'time': 26}))\n"
     ]
    },
    {
     "name": "stderr",
     "output_type": "stream",
     "text": [
      "C:\\Users\\gentemann\\Miniconda3\\envs\\satenv\\lib\\site-packages\\xarray\\core\\nanops.py:159: RuntimeWarning: Mean of empty slice\n",
      "  return np.nanmean(a, axis=axis, dtype=dtype)\n"
     ]
    },
    {
     "name": "stdout",
     "output_type": "stream",
     "text": [
      "<xarray.Dataset>\n",
      "Dimensions:  (lat: 901, lon: 1800)\n",
      "Coordinates:\n",
      "    depth    float32 0.0\n",
      "  * lat      (lat) float64 -90.0 -89.8 -89.6 -89.4 -89.2 ... 89.4 89.6 89.8 90.0\n",
      "  * lon      (lon) float64 -180.0 -179.8 -179.6 -179.4 ... 179.4 179.6 179.8\n",
      "Data variables:\n",
      "    so       (lat, lon) float64 nan nan nan nan nan nan ... nan nan nan nan nan\n",
      "    zos      (lat, lon) float64 nan nan nan nan nan nan ... nan nan nan nan nan\n",
      "147 Frozen(SortedKeysDict({'lat': 901, 'lon': 1800, 'time': 27}))\n"
     ]
    },
    {
     "name": "stderr",
     "output_type": "stream",
     "text": [
      "C:\\Users\\gentemann\\Miniconda3\\envs\\satenv\\lib\\site-packages\\xarray\\core\\nanops.py:159: RuntimeWarning: Mean of empty slice\n",
      "  return np.nanmean(a, axis=axis, dtype=dtype)\n"
     ]
    },
    {
     "name": "stdout",
     "output_type": "stream",
     "text": [
      "<xarray.Dataset>\n",
      "Dimensions:  (lat: 901, lon: 1800)\n",
      "Coordinates:\n",
      "    depth    float32 0.0\n",
      "  * lat      (lat) float64 -90.0 -89.8 -89.6 -89.4 -89.2 ... 89.4 89.6 89.8 90.0\n",
      "  * lon      (lon) float64 -180.0 -179.8 -179.6 -179.4 ... 179.4 179.6 179.8\n",
      "Data variables:\n",
      "    so       (lat, lon) float64 nan nan nan nan nan nan ... nan nan nan nan nan\n",
      "    zos      (lat, lon) float64 nan nan nan nan nan nan ... nan nan nan nan nan\n",
      "148 Frozen(SortedKeysDict({'lat': 901, 'lon': 1800, 'time': 28}))\n"
     ]
    },
    {
     "name": "stderr",
     "output_type": "stream",
     "text": [
      "C:\\Users\\gentemann\\Miniconda3\\envs\\satenv\\lib\\site-packages\\xarray\\core\\nanops.py:159: RuntimeWarning: Mean of empty slice\n",
      "  return np.nanmean(a, axis=axis, dtype=dtype)\n"
     ]
    },
    {
     "name": "stdout",
     "output_type": "stream",
     "text": [
      "<xarray.Dataset>\n",
      "Dimensions:  (lat: 901, lon: 1800)\n",
      "Coordinates:\n",
      "    depth    float32 0.0\n",
      "  * lat      (lat) float64 -90.0 -89.8 -89.6 -89.4 -89.2 ... 89.4 89.6 89.8 90.0\n",
      "  * lon      (lon) float64 -180.0 -179.8 -179.6 -179.4 ... 179.4 179.6 179.8\n",
      "Data variables:\n",
      "    so       (lat, lon) float64 nan nan nan nan nan nan ... nan nan nan nan nan\n",
      "    zos      (lat, lon) float64 nan nan nan nan nan nan ... nan nan nan nan nan\n",
      "149 Frozen(SortedKeysDict({'lat': 901, 'lon': 1800, 'time': 29}))\n"
     ]
    },
    {
     "name": "stderr",
     "output_type": "stream",
     "text": [
      "C:\\Users\\gentemann\\Miniconda3\\envs\\satenv\\lib\\site-packages\\xarray\\core\\nanops.py:159: RuntimeWarning: Mean of empty slice\n",
      "  return np.nanmean(a, axis=axis, dtype=dtype)\n"
     ]
    },
    {
     "name": "stdout",
     "output_type": "stream",
     "text": [
      "<xarray.Dataset>\n",
      "Dimensions:  (lat: 901, lon: 1800)\n",
      "Coordinates:\n",
      "    depth    float32 0.0\n",
      "  * lat      (lat) float64 -90.0 -89.8 -89.6 -89.4 -89.2 ... 89.4 89.6 89.8 90.0\n",
      "  * lon      (lon) float64 -180.0 -179.8 -179.6 -179.4 ... 179.4 179.6 179.8\n",
      "Data variables:\n",
      "    so       (lat, lon) float64 nan nan nan nan nan nan ... nan nan nan nan nan\n",
      "    zos      (lat, lon) float64 nan nan nan nan nan nan ... nan nan nan nan nan\n",
      "150 Frozen(SortedKeysDict({'lat': 901, 'lon': 1800, 'time': 30}))\n"
     ]
    },
    {
     "name": "stderr",
     "output_type": "stream",
     "text": [
      "C:\\Users\\gentemann\\Miniconda3\\envs\\satenv\\lib\\site-packages\\xarray\\core\\nanops.py:159: RuntimeWarning: Mean of empty slice\n",
      "  return np.nanmean(a, axis=axis, dtype=dtype)\n"
     ]
    },
    {
     "name": "stdout",
     "output_type": "stream",
     "text": [
      "<xarray.Dataset>\n",
      "Dimensions:  (lat: 901, lon: 1800)\n",
      "Coordinates:\n",
      "    depth    float32 0.0\n",
      "  * lat      (lat) float64 -90.0 -89.8 -89.6 -89.4 -89.2 ... 89.4 89.6 89.8 90.0\n",
      "  * lon      (lon) float64 -180.0 -179.8 -179.6 -179.4 ... 179.4 179.6 179.8\n",
      "Data variables:\n",
      "    so       (lat, lon) float64 nan nan nan nan nan nan ... nan nan nan nan nan\n",
      "    zos      (lat, lon) float64 nan nan nan nan nan nan ... nan nan nan nan nan\n",
      "151 Frozen(SortedKeysDict({'lat': 901, 'lon': 1800, 'time': 31}))\n"
     ]
    },
    {
     "name": "stderr",
     "output_type": "stream",
     "text": [
      "C:\\Users\\gentemann\\Miniconda3\\envs\\satenv\\lib\\site-packages\\xarray\\core\\nanops.py:159: RuntimeWarning: Mean of empty slice\n",
      "  return np.nanmean(a, axis=axis, dtype=dtype)\n"
     ]
    },
    {
     "name": "stdout",
     "output_type": "stream",
     "text": [
      "out: F:/data/model_data/CMEM/global-analysis-forecast-phys_001_015/monthly/subset_metoffice_coupled_orca025_GL4_SAL_b201805_dm20180208.nc\n",
      "<xarray.Dataset>\n",
      "Dimensions:  (lat: 901, lon: 1800)\n",
      "Coordinates:\n",
      "    depth    float32 0.0\n",
      "  * lat      (lat) float64 -90.0 -89.8 -89.6 -89.4 -89.2 ... 89.4 89.6 89.8 90.0\n",
      "  * lon      (lon) float64 -180.0 -179.8 -179.6 -179.4 ... 179.4 179.6 179.8\n",
      "Data variables:\n",
      "    so       (lat, lon) float64 nan nan nan nan nan nan ... nan nan nan nan nan\n",
      "    zos      (lat, lon) float64 nan nan nan nan nan nan ... nan nan nan nan nan\n",
      "152 Frozen(SortedKeysDict({'lat': 901, 'lon': 1800}))\n",
      "<xarray.Dataset>\n",
      "Dimensions:  (lat: 901, lon: 1800)\n",
      "Coordinates:\n",
      "    depth    float32 0.0\n",
      "  * lat      (lat) float64 -90.0 -89.8 -89.6 -89.4 -89.2 ... 89.4 89.6 89.8 90.0\n",
      "  * lon      (lon) float64 -180.0 -179.8 -179.6 -179.4 ... 179.4 179.6 179.8\n",
      "Data variables:\n",
      "    so       (lat, lon) float64 nan nan nan nan nan nan ... nan nan nan nan nan\n",
      "    zos      (lat, lon) float64 nan nan nan nan nan nan ... nan nan nan nan nan\n",
      "153 Frozen(SortedKeysDict({'lat': 901, 'lon': 1800, 'time': 2}))\n"
     ]
    },
    {
     "name": "stderr",
     "output_type": "stream",
     "text": [
      "C:\\Users\\gentemann\\Miniconda3\\envs\\satenv\\lib\\site-packages\\xarray\\core\\nanops.py:159: RuntimeWarning: Mean of empty slice\n",
      "  return np.nanmean(a, axis=axis, dtype=dtype)\n"
     ]
    },
    {
     "name": "stdout",
     "output_type": "stream",
     "text": [
      "<xarray.Dataset>\n",
      "Dimensions:  (lat: 901, lon: 1800)\n",
      "Coordinates:\n",
      "    depth    float32 0.0\n",
      "  * lat      (lat) float64 -90.0 -89.8 -89.6 -89.4 -89.2 ... 89.4 89.6 89.8 90.0\n",
      "  * lon      (lon) float64 -180.0 -179.8 -179.6 -179.4 ... 179.4 179.6 179.8\n",
      "Data variables:\n",
      "    so       (lat, lon) float64 nan nan nan nan nan nan ... nan nan nan nan nan\n",
      "    zos      (lat, lon) float64 nan nan nan nan nan nan ... nan nan nan nan nan\n",
      "154 Frozen(SortedKeysDict({'lat': 901, 'lon': 1800, 'time': 3}))\n"
     ]
    },
    {
     "name": "stderr",
     "output_type": "stream",
     "text": [
      "C:\\Users\\gentemann\\Miniconda3\\envs\\satenv\\lib\\site-packages\\xarray\\core\\nanops.py:159: RuntimeWarning: Mean of empty slice\n",
      "  return np.nanmean(a, axis=axis, dtype=dtype)\n"
     ]
    },
    {
     "name": "stdout",
     "output_type": "stream",
     "text": [
      "<xarray.Dataset>\n",
      "Dimensions:  (lat: 901, lon: 1800)\n",
      "Coordinates:\n",
      "    depth    float32 0.0\n",
      "  * lat      (lat) float64 -90.0 -89.8 -89.6 -89.4 -89.2 ... 89.4 89.6 89.8 90.0\n",
      "  * lon      (lon) float64 -180.0 -179.8 -179.6 -179.4 ... 179.4 179.6 179.8\n",
      "Data variables:\n",
      "    so       (lat, lon) float64 nan nan nan nan nan nan ... nan nan nan nan nan\n",
      "    zos      (lat, lon) float64 nan nan nan nan nan nan ... nan nan nan nan nan\n",
      "155 Frozen(SortedKeysDict({'lat': 901, 'lon': 1800, 'time': 4}))\n"
     ]
    },
    {
     "name": "stderr",
     "output_type": "stream",
     "text": [
      "C:\\Users\\gentemann\\Miniconda3\\envs\\satenv\\lib\\site-packages\\xarray\\core\\nanops.py:159: RuntimeWarning: Mean of empty slice\n",
      "  return np.nanmean(a, axis=axis, dtype=dtype)\n"
     ]
    },
    {
     "name": "stdout",
     "output_type": "stream",
     "text": [
      "<xarray.Dataset>\n",
      "Dimensions:  (lat: 901, lon: 1800)\n",
      "Coordinates:\n",
      "    depth    float32 0.0\n",
      "  * lat      (lat) float64 -90.0 -89.8 -89.6 -89.4 -89.2 ... 89.4 89.6 89.8 90.0\n",
      "  * lon      (lon) float64 -180.0 -179.8 -179.6 -179.4 ... 179.4 179.6 179.8\n",
      "Data variables:\n",
      "    so       (lat, lon) float64 nan nan nan nan nan nan ... nan nan nan nan nan\n",
      "    zos      (lat, lon) float64 nan nan nan nan nan nan ... nan nan nan nan nan\n",
      "156 Frozen(SortedKeysDict({'lat': 901, 'lon': 1800, 'time': 5}))\n"
     ]
    },
    {
     "name": "stderr",
     "output_type": "stream",
     "text": [
      "C:\\Users\\gentemann\\Miniconda3\\envs\\satenv\\lib\\site-packages\\xarray\\core\\nanops.py:159: RuntimeWarning: Mean of empty slice\n",
      "  return np.nanmean(a, axis=axis, dtype=dtype)\n"
     ]
    },
    {
     "name": "stdout",
     "output_type": "stream",
     "text": [
      "<xarray.Dataset>\n",
      "Dimensions:  (lat: 901, lon: 1800)\n",
      "Coordinates:\n",
      "    depth    float32 0.0\n",
      "  * lat      (lat) float64 -90.0 -89.8 -89.6 -89.4 -89.2 ... 89.4 89.6 89.8 90.0\n",
      "  * lon      (lon) float64 -180.0 -179.8 -179.6 -179.4 ... 179.4 179.6 179.8\n",
      "Data variables:\n",
      "    so       (lat, lon) float64 nan nan nan nan nan nan ... nan nan nan nan nan\n",
      "    zos      (lat, lon) float64 nan nan nan nan nan nan ... nan nan nan nan nan\n",
      "157 Frozen(SortedKeysDict({'lat': 901, 'lon': 1800, 'time': 6}))\n"
     ]
    },
    {
     "name": "stderr",
     "output_type": "stream",
     "text": [
      "C:\\Users\\gentemann\\Miniconda3\\envs\\satenv\\lib\\site-packages\\xarray\\core\\nanops.py:159: RuntimeWarning: Mean of empty slice\n",
      "  return np.nanmean(a, axis=axis, dtype=dtype)\n"
     ]
    },
    {
     "name": "stdout",
     "output_type": "stream",
     "text": [
      "<xarray.Dataset>\n",
      "Dimensions:  (lat: 901, lon: 1800)\n",
      "Coordinates:\n",
      "    depth    float32 0.0\n",
      "  * lat      (lat) float64 -90.0 -89.8 -89.6 -89.4 -89.2 ... 89.4 89.6 89.8 90.0\n",
      "  * lon      (lon) float64 -180.0 -179.8 -179.6 -179.4 ... 179.4 179.6 179.8\n",
      "Data variables:\n",
      "    so       (lat, lon) float64 nan nan nan nan nan nan ... nan nan nan nan nan\n",
      "    zos      (lat, lon) float64 nan nan nan nan nan nan ... nan nan nan nan nan\n",
      "158 Frozen(SortedKeysDict({'lat': 901, 'lon': 1800, 'time': 7}))\n"
     ]
    },
    {
     "name": "stderr",
     "output_type": "stream",
     "text": [
      "C:\\Users\\gentemann\\Miniconda3\\envs\\satenv\\lib\\site-packages\\xarray\\core\\nanops.py:159: RuntimeWarning: Mean of empty slice\n",
      "  return np.nanmean(a, axis=axis, dtype=dtype)\n"
     ]
    },
    {
     "name": "stdout",
     "output_type": "stream",
     "text": [
      "<xarray.Dataset>\n",
      "Dimensions:  (lat: 901, lon: 1800)\n",
      "Coordinates:\n",
      "    depth    float32 0.0\n",
      "  * lat      (lat) float64 -90.0 -89.8 -89.6 -89.4 -89.2 ... 89.4 89.6 89.8 90.0\n",
      "  * lon      (lon) float64 -180.0 -179.8 -179.6 -179.4 ... 179.4 179.6 179.8\n",
      "Data variables:\n",
      "    so       (lat, lon) float64 nan nan nan nan nan nan ... nan nan nan nan nan\n",
      "    zos      (lat, lon) float64 nan nan nan nan nan nan ... nan nan nan nan nan\n",
      "159 Frozen(SortedKeysDict({'lat': 901, 'lon': 1800, 'time': 8}))\n"
     ]
    },
    {
     "name": "stderr",
     "output_type": "stream",
     "text": [
      "C:\\Users\\gentemann\\Miniconda3\\envs\\satenv\\lib\\site-packages\\xarray\\core\\nanops.py:159: RuntimeWarning: Mean of empty slice\n",
      "  return np.nanmean(a, axis=axis, dtype=dtype)\n"
     ]
    },
    {
     "name": "stdout",
     "output_type": "stream",
     "text": [
      "<xarray.Dataset>\n",
      "Dimensions:  (lat: 901, lon: 1800)\n",
      "Coordinates:\n",
      "    depth    float32 0.0\n",
      "  * lat      (lat) float64 -90.0 -89.8 -89.6 -89.4 -89.2 ... 89.4 89.6 89.8 90.0\n",
      "  * lon      (lon) float64 -180.0 -179.8 -179.6 -179.4 ... 179.4 179.6 179.8\n",
      "Data variables:\n",
      "    so       (lat, lon) float64 nan nan nan nan nan nan ... nan nan nan nan nan\n",
      "    zos      (lat, lon) float64 nan nan nan nan nan nan ... nan nan nan nan nan\n",
      "160 Frozen(SortedKeysDict({'lat': 901, 'lon': 1800, 'time': 9}))\n"
     ]
    },
    {
     "name": "stderr",
     "output_type": "stream",
     "text": [
      "C:\\Users\\gentemann\\Miniconda3\\envs\\satenv\\lib\\site-packages\\xarray\\core\\nanops.py:159: RuntimeWarning: Mean of empty slice\n",
      "  return np.nanmean(a, axis=axis, dtype=dtype)\n"
     ]
    },
    {
     "name": "stdout",
     "output_type": "stream",
     "text": [
      "<xarray.Dataset>\n",
      "Dimensions:  (lat: 901, lon: 1800)\n",
      "Coordinates:\n",
      "    depth    float32 0.0\n",
      "  * lat      (lat) float64 -90.0 -89.8 -89.6 -89.4 -89.2 ... 89.4 89.6 89.8 90.0\n",
      "  * lon      (lon) float64 -180.0 -179.8 -179.6 -179.4 ... 179.4 179.6 179.8\n",
      "Data variables:\n",
      "    so       (lat, lon) float64 nan nan nan nan nan nan ... nan nan nan nan nan\n",
      "    zos      (lat, lon) float64 nan nan nan nan nan nan ... nan nan nan nan nan\n",
      "161 Frozen(SortedKeysDict({'lat': 901, 'lon': 1800, 'time': 10}))\n"
     ]
    },
    {
     "name": "stderr",
     "output_type": "stream",
     "text": [
      "C:\\Users\\gentemann\\Miniconda3\\envs\\satenv\\lib\\site-packages\\xarray\\core\\nanops.py:159: RuntimeWarning: Mean of empty slice\n",
      "  return np.nanmean(a, axis=axis, dtype=dtype)\n"
     ]
    },
    {
     "name": "stdout",
     "output_type": "stream",
     "text": [
      "<xarray.Dataset>\n",
      "Dimensions:  (lat: 901, lon: 1800)\n",
      "Coordinates:\n",
      "    depth    float32 0.0\n",
      "  * lat      (lat) float64 -90.0 -89.8 -89.6 -89.4 -89.2 ... 89.4 89.6 89.8 90.0\n",
      "  * lon      (lon) float64 -180.0 -179.8 -179.6 -179.4 ... 179.4 179.6 179.8\n",
      "Data variables:\n",
      "    so       (lat, lon) float64 nan nan nan nan nan nan ... nan nan nan nan nan\n",
      "    zos      (lat, lon) float64 nan nan nan nan nan nan ... nan nan nan nan nan\n",
      "162 Frozen(SortedKeysDict({'lat': 901, 'lon': 1800, 'time': 11}))\n"
     ]
    },
    {
     "name": "stderr",
     "output_type": "stream",
     "text": [
      "C:\\Users\\gentemann\\Miniconda3\\envs\\satenv\\lib\\site-packages\\xarray\\core\\nanops.py:159: RuntimeWarning: Mean of empty slice\n",
      "  return np.nanmean(a, axis=axis, dtype=dtype)\n"
     ]
    },
    {
     "name": "stdout",
     "output_type": "stream",
     "text": [
      "<xarray.Dataset>\n",
      "Dimensions:  (lat: 901, lon: 1800)\n",
      "Coordinates:\n",
      "    depth    float32 0.0\n",
      "  * lat      (lat) float64 -90.0 -89.8 -89.6 -89.4 -89.2 ... 89.4 89.6 89.8 90.0\n",
      "  * lon      (lon) float64 -180.0 -179.8 -179.6 -179.4 ... 179.4 179.6 179.8\n",
      "Data variables:\n",
      "    so       (lat, lon) float64 nan nan nan nan nan nan ... nan nan nan nan nan\n",
      "    zos      (lat, lon) float64 nan nan nan nan nan nan ... nan nan nan nan nan\n",
      "163 Frozen(SortedKeysDict({'lat': 901, 'lon': 1800, 'time': 12}))\n"
     ]
    },
    {
     "name": "stderr",
     "output_type": "stream",
     "text": [
      "C:\\Users\\gentemann\\Miniconda3\\envs\\satenv\\lib\\site-packages\\xarray\\core\\nanops.py:159: RuntimeWarning: Mean of empty slice\n",
      "  return np.nanmean(a, axis=axis, dtype=dtype)\n"
     ]
    },
    {
     "name": "stdout",
     "output_type": "stream",
     "text": [
      "<xarray.Dataset>\n",
      "Dimensions:  (lat: 901, lon: 1800)\n",
      "Coordinates:\n",
      "    depth    float32 0.0\n",
      "  * lat      (lat) float64 -90.0 -89.8 -89.6 -89.4 -89.2 ... 89.4 89.6 89.8 90.0\n",
      "  * lon      (lon) float64 -180.0 -179.8 -179.6 -179.4 ... 179.4 179.6 179.8\n",
      "Data variables:\n",
      "    so       (lat, lon) float64 nan nan nan nan nan nan ... nan nan nan nan nan\n",
      "    zos      (lat, lon) float64 nan nan nan nan nan nan ... nan nan nan nan nan\n",
      "164 Frozen(SortedKeysDict({'lat': 901, 'lon': 1800, 'time': 13}))\n"
     ]
    },
    {
     "name": "stderr",
     "output_type": "stream",
     "text": [
      "C:\\Users\\gentemann\\Miniconda3\\envs\\satenv\\lib\\site-packages\\xarray\\core\\nanops.py:159: RuntimeWarning: Mean of empty slice\n",
      "  return np.nanmean(a, axis=axis, dtype=dtype)\n"
     ]
    },
    {
     "name": "stdout",
     "output_type": "stream",
     "text": [
      "<xarray.Dataset>\n",
      "Dimensions:  (lat: 901, lon: 1800)\n",
      "Coordinates:\n",
      "    depth    float32 0.0\n",
      "  * lat      (lat) float64 -90.0 -89.8 -89.6 -89.4 -89.2 ... 89.4 89.6 89.8 90.0\n",
      "  * lon      (lon) float64 -180.0 -179.8 -179.6 -179.4 ... 179.4 179.6 179.8\n",
      "Data variables:\n",
      "    so       (lat, lon) float64 nan nan nan nan nan nan ... nan nan nan nan nan\n",
      "    zos      (lat, lon) float64 nan nan nan nan nan nan ... nan nan nan nan nan\n",
      "165 Frozen(SortedKeysDict({'lat': 901, 'lon': 1800, 'time': 14}))\n"
     ]
    },
    {
     "name": "stderr",
     "output_type": "stream",
     "text": [
      "C:\\Users\\gentemann\\Miniconda3\\envs\\satenv\\lib\\site-packages\\xarray\\core\\nanops.py:159: RuntimeWarning: Mean of empty slice\n",
      "  return np.nanmean(a, axis=axis, dtype=dtype)\n"
     ]
    },
    {
     "name": "stdout",
     "output_type": "stream",
     "text": [
      "<xarray.Dataset>\n",
      "Dimensions:  (lat: 901, lon: 1800)\n",
      "Coordinates:\n",
      "    depth    float32 0.0\n",
      "  * lat      (lat) float64 -90.0 -89.8 -89.6 -89.4 -89.2 ... 89.4 89.6 89.8 90.0\n",
      "  * lon      (lon) float64 -180.0 -179.8 -179.6 -179.4 ... 179.4 179.6 179.8\n",
      "Data variables:\n",
      "    so       (lat, lon) float64 nan nan nan nan nan nan ... nan nan nan nan nan\n",
      "    zos      (lat, lon) float64 nan nan nan nan nan nan ... nan nan nan nan nan\n",
      "166 Frozen(SortedKeysDict({'lat': 901, 'lon': 1800, 'time': 15}))\n"
     ]
    },
    {
     "name": "stderr",
     "output_type": "stream",
     "text": [
      "C:\\Users\\gentemann\\Miniconda3\\envs\\satenv\\lib\\site-packages\\xarray\\core\\nanops.py:159: RuntimeWarning: Mean of empty slice\n",
      "  return np.nanmean(a, axis=axis, dtype=dtype)\n"
     ]
    },
    {
     "name": "stdout",
     "output_type": "stream",
     "text": [
      "<xarray.Dataset>\n",
      "Dimensions:  (lat: 901, lon: 1800)\n",
      "Coordinates:\n",
      "    depth    float32 0.0\n",
      "  * lat      (lat) float64 -90.0 -89.8 -89.6 -89.4 -89.2 ... 89.4 89.6 89.8 90.0\n",
      "  * lon      (lon) float64 -180.0 -179.8 -179.6 -179.4 ... 179.4 179.6 179.8\n",
      "Data variables:\n",
      "    so       (lat, lon) float64 nan nan nan nan nan nan ... nan nan nan nan nan\n",
      "    zos      (lat, lon) float64 nan nan nan nan nan nan ... nan nan nan nan nan\n",
      "167 Frozen(SortedKeysDict({'lat': 901, 'lon': 1800, 'time': 16}))\n"
     ]
    },
    {
     "name": "stderr",
     "output_type": "stream",
     "text": [
      "C:\\Users\\gentemann\\Miniconda3\\envs\\satenv\\lib\\site-packages\\xarray\\core\\nanops.py:159: RuntimeWarning: Mean of empty slice\n",
      "  return np.nanmean(a, axis=axis, dtype=dtype)\n"
     ]
    },
    {
     "name": "stdout",
     "output_type": "stream",
     "text": [
      "<xarray.Dataset>\n",
      "Dimensions:  (lat: 901, lon: 1800)\n",
      "Coordinates:\n",
      "    depth    float32 0.0\n",
      "  * lat      (lat) float64 -90.0 -89.8 -89.6 -89.4 -89.2 ... 89.4 89.6 89.8 90.0\n",
      "  * lon      (lon) float64 -180.0 -179.8 -179.6 -179.4 ... 179.4 179.6 179.8\n",
      "Data variables:\n",
      "    so       (lat, lon) float64 nan nan nan nan nan nan ... nan nan nan nan nan\n",
      "    zos      (lat, lon) float64 nan nan nan nan nan nan ... nan nan nan nan nan\n",
      "168 Frozen(SortedKeysDict({'lat': 901, 'lon': 1800, 'time': 17}))\n"
     ]
    },
    {
     "name": "stderr",
     "output_type": "stream",
     "text": [
      "C:\\Users\\gentemann\\Miniconda3\\envs\\satenv\\lib\\site-packages\\xarray\\core\\nanops.py:159: RuntimeWarning: Mean of empty slice\n",
      "  return np.nanmean(a, axis=axis, dtype=dtype)\n"
     ]
    },
    {
     "name": "stdout",
     "output_type": "stream",
     "text": [
      "<xarray.Dataset>\n",
      "Dimensions:  (lat: 901, lon: 1800)\n",
      "Coordinates:\n",
      "    depth    float32 0.0\n",
      "  * lat      (lat) float64 -90.0 -89.8 -89.6 -89.4 -89.2 ... 89.4 89.6 89.8 90.0\n",
      "  * lon      (lon) float64 -180.0 -179.8 -179.6 -179.4 ... 179.4 179.6 179.8\n",
      "Data variables:\n",
      "    so       (lat, lon) float64 nan nan nan nan nan nan ... nan nan nan nan nan\n",
      "    zos      (lat, lon) float64 nan nan nan nan nan nan ... nan nan nan nan nan\n",
      "169 Frozen(SortedKeysDict({'lat': 901, 'lon': 1800, 'time': 18}))\n"
     ]
    },
    {
     "name": "stderr",
     "output_type": "stream",
     "text": [
      "C:\\Users\\gentemann\\Miniconda3\\envs\\satenv\\lib\\site-packages\\xarray\\core\\nanops.py:159: RuntimeWarning: Mean of empty slice\n",
      "  return np.nanmean(a, axis=axis, dtype=dtype)\n"
     ]
    },
    {
     "name": "stdout",
     "output_type": "stream",
     "text": [
      "<xarray.Dataset>\n",
      "Dimensions:  (lat: 901, lon: 1800)\n",
      "Coordinates:\n",
      "    depth    float32 0.0\n",
      "  * lat      (lat) float64 -90.0 -89.8 -89.6 -89.4 -89.2 ... 89.4 89.6 89.8 90.0\n",
      "  * lon      (lon) float64 -180.0 -179.8 -179.6 -179.4 ... 179.4 179.6 179.8\n",
      "Data variables:\n",
      "    so       (lat, lon) float64 nan nan nan nan nan nan ... nan nan nan nan nan\n",
      "    zos      (lat, lon) float64 nan nan nan nan nan nan ... nan nan nan nan nan\n",
      "170 Frozen(SortedKeysDict({'lat': 901, 'lon': 1800, 'time': 19}))\n"
     ]
    },
    {
     "name": "stderr",
     "output_type": "stream",
     "text": [
      "C:\\Users\\gentemann\\Miniconda3\\envs\\satenv\\lib\\site-packages\\xarray\\core\\nanops.py:159: RuntimeWarning: Mean of empty slice\n",
      "  return np.nanmean(a, axis=axis, dtype=dtype)\n"
     ]
    },
    {
     "name": "stdout",
     "output_type": "stream",
     "text": [
      "<xarray.Dataset>\n",
      "Dimensions:  (lat: 901, lon: 1800)\n",
      "Coordinates:\n",
      "    depth    float32 0.0\n",
      "  * lat      (lat) float64 -90.0 -89.8 -89.6 -89.4 -89.2 ... 89.4 89.6 89.8 90.0\n",
      "  * lon      (lon) float64 -180.0 -179.8 -179.6 -179.4 ... 179.4 179.6 179.8\n",
      "Data variables:\n",
      "    so       (lat, lon) float64 nan nan nan nan nan nan ... nan nan nan nan nan\n",
      "    zos      (lat, lon) float64 nan nan nan nan nan nan ... nan nan nan nan nan\n",
      "171 Frozen(SortedKeysDict({'lat': 901, 'lon': 1800, 'time': 20}))\n"
     ]
    },
    {
     "name": "stderr",
     "output_type": "stream",
     "text": [
      "C:\\Users\\gentemann\\Miniconda3\\envs\\satenv\\lib\\site-packages\\xarray\\core\\nanops.py:159: RuntimeWarning: Mean of empty slice\n",
      "  return np.nanmean(a, axis=axis, dtype=dtype)\n"
     ]
    },
    {
     "name": "stdout",
     "output_type": "stream",
     "text": [
      "<xarray.Dataset>\n",
      "Dimensions:  (lat: 901, lon: 1800)\n",
      "Coordinates:\n",
      "    depth    float32 0.0\n",
      "  * lat      (lat) float64 -90.0 -89.8 -89.6 -89.4 -89.2 ... 89.4 89.6 89.8 90.0\n",
      "  * lon      (lon) float64 -180.0 -179.8 -179.6 -179.4 ... 179.4 179.6 179.8\n",
      "Data variables:\n",
      "    so       (lat, lon) float64 nan nan nan nan nan nan ... nan nan nan nan nan\n",
      "    zos      (lat, lon) float64 nan nan nan nan nan nan ... nan nan nan nan nan\n",
      "172 Frozen(SortedKeysDict({'lat': 901, 'lon': 1800, 'time': 21}))\n"
     ]
    },
    {
     "name": "stderr",
     "output_type": "stream",
     "text": [
      "C:\\Users\\gentemann\\Miniconda3\\envs\\satenv\\lib\\site-packages\\xarray\\core\\nanops.py:159: RuntimeWarning: Mean of empty slice\n",
      "  return np.nanmean(a, axis=axis, dtype=dtype)\n"
     ]
    },
    {
     "name": "stdout",
     "output_type": "stream",
     "text": [
      "<xarray.Dataset>\n",
      "Dimensions:  (lat: 901, lon: 1800)\n",
      "Coordinates:\n",
      "    depth    float32 0.0\n",
      "  * lat      (lat) float64 -90.0 -89.8 -89.6 -89.4 -89.2 ... 89.4 89.6 89.8 90.0\n",
      "  * lon      (lon) float64 -180.0 -179.8 -179.6 -179.4 ... 179.4 179.6 179.8\n",
      "Data variables:\n",
      "    so       (lat, lon) float64 nan nan nan nan nan nan ... nan nan nan nan nan\n",
      "    zos      (lat, lon) float64 nan nan nan nan nan nan ... nan nan nan nan nan\n",
      "173 Frozen(SortedKeysDict({'lat': 901, 'lon': 1800, 'time': 22}))\n"
     ]
    },
    {
     "name": "stderr",
     "output_type": "stream",
     "text": [
      "C:\\Users\\gentemann\\Miniconda3\\envs\\satenv\\lib\\site-packages\\xarray\\core\\nanops.py:159: RuntimeWarning: Mean of empty slice\n",
      "  return np.nanmean(a, axis=axis, dtype=dtype)\n"
     ]
    },
    {
     "name": "stdout",
     "output_type": "stream",
     "text": [
      "<xarray.Dataset>\n",
      "Dimensions:  (lat: 901, lon: 1800)\n",
      "Coordinates:\n",
      "    depth    float32 0.0\n",
      "  * lat      (lat) float64 -90.0 -89.8 -89.6 -89.4 -89.2 ... 89.4 89.6 89.8 90.0\n",
      "  * lon      (lon) float64 -180.0 -179.8 -179.6 -179.4 ... 179.4 179.6 179.8\n",
      "Data variables:\n",
      "    so       (lat, lon) float64 nan nan nan nan nan nan ... nan nan nan nan nan\n",
      "    zos      (lat, lon) float64 nan nan nan nan nan nan ... nan nan nan nan nan\n",
      "174 Frozen(SortedKeysDict({'lat': 901, 'lon': 1800, 'time': 23}))\n"
     ]
    },
    {
     "name": "stderr",
     "output_type": "stream",
     "text": [
      "C:\\Users\\gentemann\\Miniconda3\\envs\\satenv\\lib\\site-packages\\xarray\\core\\nanops.py:159: RuntimeWarning: Mean of empty slice\n",
      "  return np.nanmean(a, axis=axis, dtype=dtype)\n"
     ]
    },
    {
     "name": "stdout",
     "output_type": "stream",
     "text": [
      "<xarray.Dataset>\n",
      "Dimensions:  (lat: 901, lon: 1800)\n",
      "Coordinates:\n",
      "    depth    float32 0.0\n",
      "  * lat      (lat) float64 -90.0 -89.8 -89.6 -89.4 -89.2 ... 89.4 89.6 89.8 90.0\n",
      "  * lon      (lon) float64 -180.0 -179.8 -179.6 -179.4 ... 179.4 179.6 179.8\n",
      "Data variables:\n",
      "    so       (lat, lon) float64 nan nan nan nan nan nan ... nan nan nan nan nan\n",
      "    zos      (lat, lon) float64 nan nan nan nan nan nan ... nan nan nan nan nan\n",
      "175 Frozen(SortedKeysDict({'lat': 901, 'lon': 1800, 'time': 24}))\n"
     ]
    },
    {
     "name": "stderr",
     "output_type": "stream",
     "text": [
      "C:\\Users\\gentemann\\Miniconda3\\envs\\satenv\\lib\\site-packages\\xarray\\core\\nanops.py:159: RuntimeWarning: Mean of empty slice\n",
      "  return np.nanmean(a, axis=axis, dtype=dtype)\n"
     ]
    },
    {
     "name": "stdout",
     "output_type": "stream",
     "text": [
      "<xarray.Dataset>\n",
      "Dimensions:  (lat: 901, lon: 1800)\n",
      "Coordinates:\n",
      "    depth    float32 0.0\n",
      "  * lat      (lat) float64 -90.0 -89.8 -89.6 -89.4 -89.2 ... 89.4 89.6 89.8 90.0\n",
      "  * lon      (lon) float64 -180.0 -179.8 -179.6 -179.4 ... 179.4 179.6 179.8\n",
      "Data variables:\n",
      "    so       (lat, lon) float64 nan nan nan nan nan nan ... nan nan nan nan nan\n",
      "    zos      (lat, lon) float64 nan nan nan nan nan nan ... nan nan nan nan nan\n",
      "176 Frozen(SortedKeysDict({'lat': 901, 'lon': 1800, 'time': 25}))\n"
     ]
    },
    {
     "name": "stderr",
     "output_type": "stream",
     "text": [
      "C:\\Users\\gentemann\\Miniconda3\\envs\\satenv\\lib\\site-packages\\xarray\\core\\nanops.py:159: RuntimeWarning: Mean of empty slice\n",
      "  return np.nanmean(a, axis=axis, dtype=dtype)\n"
     ]
    },
    {
     "name": "stdout",
     "output_type": "stream",
     "text": [
      "<xarray.Dataset>\n",
      "Dimensions:  (lat: 901, lon: 1800)\n",
      "Coordinates:\n",
      "    depth    float32 0.0\n",
      "  * lat      (lat) float64 -90.0 -89.8 -89.6 -89.4 -89.2 ... 89.4 89.6 89.8 90.0\n",
      "  * lon      (lon) float64 -180.0 -179.8 -179.6 -179.4 ... 179.4 179.6 179.8\n",
      "Data variables:\n",
      "    so       (lat, lon) float64 nan nan nan nan nan nan ... nan nan nan nan nan\n",
      "    zos      (lat, lon) float64 nan nan nan nan nan nan ... nan nan nan nan nan\n",
      "177 Frozen(SortedKeysDict({'lat': 901, 'lon': 1800, 'time': 26}))\n"
     ]
    },
    {
     "name": "stderr",
     "output_type": "stream",
     "text": [
      "C:\\Users\\gentemann\\Miniconda3\\envs\\satenv\\lib\\site-packages\\xarray\\core\\nanops.py:159: RuntimeWarning: Mean of empty slice\n",
      "  return np.nanmean(a, axis=axis, dtype=dtype)\n"
     ]
    },
    {
     "name": "stdout",
     "output_type": "stream",
     "text": [
      "<xarray.Dataset>\n",
      "Dimensions:  (lat: 901, lon: 1800)\n",
      "Coordinates:\n",
      "    depth    float32 0.0\n",
      "  * lat      (lat) float64 -90.0 -89.8 -89.6 -89.4 -89.2 ... 89.4 89.6 89.8 90.0\n",
      "  * lon      (lon) float64 -180.0 -179.8 -179.6 -179.4 ... 179.4 179.6 179.8\n",
      "Data variables:\n",
      "    so       (lat, lon) float64 nan nan nan nan nan nan ... nan nan nan nan nan\n",
      "    zos      (lat, lon) float64 nan nan nan nan nan nan ... nan nan nan nan nan\n",
      "178 Frozen(SortedKeysDict({'lat': 901, 'lon': 1800, 'time': 27}))\n"
     ]
    },
    {
     "name": "stderr",
     "output_type": "stream",
     "text": [
      "C:\\Users\\gentemann\\Miniconda3\\envs\\satenv\\lib\\site-packages\\xarray\\core\\nanops.py:159: RuntimeWarning: Mean of empty slice\n",
      "  return np.nanmean(a, axis=axis, dtype=dtype)\n"
     ]
    },
    {
     "name": "stdout",
     "output_type": "stream",
     "text": [
      "<xarray.Dataset>\n",
      "Dimensions:  (lat: 901, lon: 1800)\n",
      "Coordinates:\n",
      "    depth    float32 0.0\n",
      "  * lat      (lat) float64 -90.0 -89.8 -89.6 -89.4 -89.2 ... 89.4 89.6 89.8 90.0\n",
      "  * lon      (lon) float64 -180.0 -179.8 -179.6 -179.4 ... 179.4 179.6 179.8\n",
      "Data variables:\n",
      "    so       (lat, lon) float64 nan nan nan nan nan nan ... nan nan nan nan nan\n",
      "    zos      (lat, lon) float64 nan nan nan nan nan nan ... nan nan nan nan nan\n",
      "179 Frozen(SortedKeysDict({'lat': 901, 'lon': 1800, 'time': 28}))\n"
     ]
    },
    {
     "name": "stderr",
     "output_type": "stream",
     "text": [
      "C:\\Users\\gentemann\\Miniconda3\\envs\\satenv\\lib\\site-packages\\xarray\\core\\nanops.py:159: RuntimeWarning: Mean of empty slice\n",
      "  return np.nanmean(a, axis=axis, dtype=dtype)\n"
     ]
    },
    {
     "name": "stdout",
     "output_type": "stream",
     "text": [
      "<xarray.Dataset>\n",
      "Dimensions:  (lat: 901, lon: 1800)\n",
      "Coordinates:\n",
      "    depth    float32 0.0\n",
      "  * lat      (lat) float64 -90.0 -89.8 -89.6 -89.4 -89.2 ... 89.4 89.6 89.8 90.0\n",
      "  * lon      (lon) float64 -180.0 -179.8 -179.6 -179.4 ... 179.4 179.6 179.8\n",
      "Data variables:\n",
      "    so       (lat, lon) float64 nan nan nan nan nan nan ... nan nan nan nan nan\n",
      "    zos      (lat, lon) float64 nan nan nan nan nan nan ... nan nan nan nan nan\n",
      "180 Frozen(SortedKeysDict({'lat': 901, 'lon': 1800, 'time': 29}))\n"
     ]
    },
    {
     "name": "stderr",
     "output_type": "stream",
     "text": [
      "C:\\Users\\gentemann\\Miniconda3\\envs\\satenv\\lib\\site-packages\\xarray\\core\\nanops.py:159: RuntimeWarning: Mean of empty slice\n",
      "  return np.nanmean(a, axis=axis, dtype=dtype)\n"
     ]
    },
    {
     "name": "stdout",
     "output_type": "stream",
     "text": [
      "<xarray.Dataset>\n",
      "Dimensions:  (lat: 901, lon: 1800)\n",
      "Coordinates:\n",
      "    depth    float32 0.0\n",
      "  * lat      (lat) float64 -90.0 -89.8 -89.6 -89.4 -89.2 ... 89.4 89.6 89.8 90.0\n",
      "  * lon      (lon) float64 -180.0 -179.8 -179.6 -179.4 ... 179.4 179.6 179.8\n",
      "Data variables:\n",
      "    so       (lat, lon) float64 nan nan nan nan nan nan ... nan nan nan nan nan\n",
      "    zos      (lat, lon) float64 nan nan nan nan nan nan ... nan nan nan nan nan\n",
      "181 Frozen(SortedKeysDict({'lat': 901, 'lon': 1800, 'time': 30}))\n"
     ]
    },
    {
     "name": "stderr",
     "output_type": "stream",
     "text": [
      "C:\\Users\\gentemann\\Miniconda3\\envs\\satenv\\lib\\site-packages\\xarray\\core\\nanops.py:159: RuntimeWarning: Mean of empty slice\n",
      "  return np.nanmean(a, axis=axis, dtype=dtype)\n"
     ]
    },
    {
     "name": "stdout",
     "output_type": "stream",
     "text": [
      "out: F:/data/model_data/CMEM/global-analysis-forecast-phys_001_015/monthly/subset_metoffice_coupled_orca025_GL4_SAL_b201806_dm20180208.nc\n",
      "<xarray.Dataset>\n",
      "Dimensions:  (lat: 901, lon: 1800)\n",
      "Coordinates:\n",
      "    depth    float32 0.0\n",
      "  * lat      (lat) float64 -90.0 -89.8 -89.6 -89.4 -89.2 ... 89.4 89.6 89.8 90.0\n",
      "  * lon      (lon) float64 -180.0 -179.8 -179.6 -179.4 ... 179.4 179.6 179.8\n",
      "Data variables:\n",
      "    so       (lat, lon) float64 nan nan nan nan nan nan ... nan nan nan nan nan\n",
      "    zos      (lat, lon) float64 nan nan nan nan nan nan ... nan nan nan nan nan\n",
      "182 Frozen(SortedKeysDict({'lat': 901, 'lon': 1800}))\n",
      "<xarray.Dataset>\n",
      "Dimensions:  (lat: 901, lon: 1800)\n",
      "Coordinates:\n",
      "    depth    float32 0.0\n",
      "  * lat      (lat) float64 -90.0 -89.8 -89.6 -89.4 -89.2 ... 89.4 89.6 89.8 90.0\n",
      "  * lon      (lon) float64 -180.0 -179.8 -179.6 -179.4 ... 179.4 179.6 179.8\n",
      "Data variables:\n",
      "    so       (lat, lon) float64 nan nan nan nan nan nan ... nan nan nan nan nan\n",
      "    zos      (lat, lon) float64 nan nan nan nan nan nan ... nan nan nan nan nan\n",
      "183 Frozen(SortedKeysDict({'lat': 901, 'lon': 1800, 'time': 2}))\n"
     ]
    },
    {
     "name": "stderr",
     "output_type": "stream",
     "text": [
      "C:\\Users\\gentemann\\Miniconda3\\envs\\satenv\\lib\\site-packages\\xarray\\core\\nanops.py:159: RuntimeWarning: Mean of empty slice\n",
      "  return np.nanmean(a, axis=axis, dtype=dtype)\n"
     ]
    },
    {
     "name": "stdout",
     "output_type": "stream",
     "text": [
      "<xarray.Dataset>\n",
      "Dimensions:  (lat: 901, lon: 1800)\n",
      "Coordinates:\n",
      "    depth    float32 0.0\n",
      "  * lat      (lat) float64 -90.0 -89.8 -89.6 -89.4 -89.2 ... 89.4 89.6 89.8 90.0\n",
      "  * lon      (lon) float64 -180.0 -179.8 -179.6 -179.4 ... 179.4 179.6 179.8\n",
      "Data variables:\n",
      "    so       (lat, lon) float64 nan nan nan nan nan nan ... nan nan nan nan nan\n",
      "    zos      (lat, lon) float64 nan nan nan nan nan nan ... nan nan nan nan nan\n",
      "184 Frozen(SortedKeysDict({'lat': 901, 'lon': 1800, 'time': 3}))\n"
     ]
    },
    {
     "name": "stderr",
     "output_type": "stream",
     "text": [
      "C:\\Users\\gentemann\\Miniconda3\\envs\\satenv\\lib\\site-packages\\xarray\\core\\nanops.py:159: RuntimeWarning: Mean of empty slice\n",
      "  return np.nanmean(a, axis=axis, dtype=dtype)\n"
     ]
    },
    {
     "name": "stdout",
     "output_type": "stream",
     "text": [
      "<xarray.Dataset>\n",
      "Dimensions:  (lat: 901, lon: 1800)\n",
      "Coordinates:\n",
      "    depth    float32 0.0\n",
      "  * lat      (lat) float64 -90.0 -89.8 -89.6 -89.4 -89.2 ... 89.4 89.6 89.8 90.0\n",
      "  * lon      (lon) float64 -180.0 -179.8 -179.6 -179.4 ... 179.4 179.6 179.8\n",
      "Data variables:\n",
      "    so       (lat, lon) float64 nan nan nan nan nan nan ... nan nan nan nan nan\n",
      "    zos      (lat, lon) float64 nan nan nan nan nan nan ... nan nan nan nan nan\n",
      "185 Frozen(SortedKeysDict({'lat': 901, 'lon': 1800, 'time': 4}))\n"
     ]
    },
    {
     "name": "stderr",
     "output_type": "stream",
     "text": [
      "C:\\Users\\gentemann\\Miniconda3\\envs\\satenv\\lib\\site-packages\\xarray\\core\\nanops.py:159: RuntimeWarning: Mean of empty slice\n",
      "  return np.nanmean(a, axis=axis, dtype=dtype)\n"
     ]
    },
    {
     "name": "stdout",
     "output_type": "stream",
     "text": [
      "<xarray.Dataset>\n",
      "Dimensions:  (lat: 901, lon: 1800)\n",
      "Coordinates:\n",
      "    depth    float32 0.0\n",
      "  * lat      (lat) float64 -90.0 -89.8 -89.6 -89.4 -89.2 ... 89.4 89.6 89.8 90.0\n",
      "  * lon      (lon) float64 -180.0 -179.8 -179.6 -179.4 ... 179.4 179.6 179.8\n",
      "Data variables:\n",
      "    so       (lat, lon) float64 nan nan nan nan nan nan ... nan nan nan nan nan\n",
      "    zos      (lat, lon) float64 nan nan nan nan nan nan ... nan nan nan nan nan\n",
      "186 Frozen(SortedKeysDict({'lat': 901, 'lon': 1800, 'time': 5}))\n"
     ]
    },
    {
     "name": "stderr",
     "output_type": "stream",
     "text": [
      "C:\\Users\\gentemann\\Miniconda3\\envs\\satenv\\lib\\site-packages\\xarray\\core\\nanops.py:159: RuntimeWarning: Mean of empty slice\n",
      "  return np.nanmean(a, axis=axis, dtype=dtype)\n"
     ]
    },
    {
     "name": "stdout",
     "output_type": "stream",
     "text": [
      "<xarray.Dataset>\n",
      "Dimensions:  (lat: 901, lon: 1800)\n",
      "Coordinates:\n",
      "    depth    float32 0.0\n",
      "  * lat      (lat) float64 -90.0 -89.8 -89.6 -89.4 -89.2 ... 89.4 89.6 89.8 90.0\n",
      "  * lon      (lon) float64 -180.0 -179.8 -179.6 -179.4 ... 179.4 179.6 179.8\n",
      "Data variables:\n",
      "    so       (lat, lon) float64 nan nan nan nan nan nan ... nan nan nan nan nan\n",
      "    zos      (lat, lon) float64 nan nan nan nan nan nan ... nan nan nan nan nan\n",
      "187 Frozen(SortedKeysDict({'lat': 901, 'lon': 1800, 'time': 6}))\n"
     ]
    },
    {
     "name": "stderr",
     "output_type": "stream",
     "text": [
      "C:\\Users\\gentemann\\Miniconda3\\envs\\satenv\\lib\\site-packages\\xarray\\core\\nanops.py:159: RuntimeWarning: Mean of empty slice\n",
      "  return np.nanmean(a, axis=axis, dtype=dtype)\n"
     ]
    },
    {
     "name": "stdout",
     "output_type": "stream",
     "text": [
      "<xarray.Dataset>\n",
      "Dimensions:  (lat: 901, lon: 1800)\n",
      "Coordinates:\n",
      "    depth    float32 0.0\n",
      "  * lat      (lat) float64 -90.0 -89.8 -89.6 -89.4 -89.2 ... 89.4 89.6 89.8 90.0\n",
      "  * lon      (lon) float64 -180.0 -179.8 -179.6 -179.4 ... 179.4 179.6 179.8\n",
      "Data variables:\n",
      "    so       (lat, lon) float64 nan nan nan nan nan nan ... nan nan nan nan nan\n",
      "    zos      (lat, lon) float64 nan nan nan nan nan nan ... nan nan nan nan nan\n",
      "188 Frozen(SortedKeysDict({'lat': 901, 'lon': 1800, 'time': 7}))\n"
     ]
    },
    {
     "name": "stderr",
     "output_type": "stream",
     "text": [
      "C:\\Users\\gentemann\\Miniconda3\\envs\\satenv\\lib\\site-packages\\xarray\\core\\nanops.py:159: RuntimeWarning: Mean of empty slice\n",
      "  return np.nanmean(a, axis=axis, dtype=dtype)\n"
     ]
    },
    {
     "name": "stdout",
     "output_type": "stream",
     "text": [
      "<xarray.Dataset>\n",
      "Dimensions:  (lat: 901, lon: 1800)\n",
      "Coordinates:\n",
      "    depth    float32 0.0\n",
      "  * lat      (lat) float64 -90.0 -89.8 -89.6 -89.4 -89.2 ... 89.4 89.6 89.8 90.0\n",
      "  * lon      (lon) float64 -180.0 -179.8 -179.6 -179.4 ... 179.4 179.6 179.8\n",
      "Data variables:\n",
      "    so       (lat, lon) float64 nan nan nan nan nan nan ... nan nan nan nan nan\n",
      "    zos      (lat, lon) float64 nan nan nan nan nan nan ... nan nan nan nan nan\n",
      "189 Frozen(SortedKeysDict({'lat': 901, 'lon': 1800, 'time': 8}))\n"
     ]
    },
    {
     "name": "stderr",
     "output_type": "stream",
     "text": [
      "C:\\Users\\gentemann\\Miniconda3\\envs\\satenv\\lib\\site-packages\\xarray\\core\\nanops.py:159: RuntimeWarning: Mean of empty slice\n",
      "  return np.nanmean(a, axis=axis, dtype=dtype)\n"
     ]
    },
    {
     "name": "stdout",
     "output_type": "stream",
     "text": [
      "<xarray.Dataset>\n",
      "Dimensions:  (lat: 901, lon: 1800)\n",
      "Coordinates:\n",
      "    depth    float32 0.0\n",
      "  * lat      (lat) float64 -90.0 -89.8 -89.6 -89.4 -89.2 ... 89.4 89.6 89.8 90.0\n",
      "  * lon      (lon) float64 -180.0 -179.8 -179.6 -179.4 ... 179.4 179.6 179.8\n",
      "Data variables:\n",
      "    so       (lat, lon) float64 nan nan nan nan nan nan ... nan nan nan nan nan\n",
      "    zos      (lat, lon) float64 nan nan nan nan nan nan ... nan nan nan nan nan\n",
      "190 Frozen(SortedKeysDict({'lat': 901, 'lon': 1800, 'time': 9}))\n"
     ]
    },
    {
     "name": "stderr",
     "output_type": "stream",
     "text": [
      "C:\\Users\\gentemann\\Miniconda3\\envs\\satenv\\lib\\site-packages\\xarray\\core\\nanops.py:159: RuntimeWarning: Mean of empty slice\n",
      "  return np.nanmean(a, axis=axis, dtype=dtype)\n"
     ]
    },
    {
     "name": "stdout",
     "output_type": "stream",
     "text": [
      "<xarray.Dataset>\n",
      "Dimensions:  (lat: 901, lon: 1800)\n",
      "Coordinates:\n",
      "    depth    float32 0.0\n",
      "  * lat      (lat) float64 -90.0 -89.8 -89.6 -89.4 -89.2 ... 89.4 89.6 89.8 90.0\n",
      "  * lon      (lon) float64 -180.0 -179.8 -179.6 -179.4 ... 179.4 179.6 179.8\n",
      "Data variables:\n",
      "    so       (lat, lon) float64 nan nan nan nan nan nan ... nan nan nan nan nan\n",
      "    zos      (lat, lon) float64 nan nan nan nan nan nan ... nan nan nan nan nan\n",
      "191 Frozen(SortedKeysDict({'lat': 901, 'lon': 1800, 'time': 10}))\n"
     ]
    },
    {
     "name": "stderr",
     "output_type": "stream",
     "text": [
      "C:\\Users\\gentemann\\Miniconda3\\envs\\satenv\\lib\\site-packages\\xarray\\core\\nanops.py:159: RuntimeWarning: Mean of empty slice\n",
      "  return np.nanmean(a, axis=axis, dtype=dtype)\n"
     ]
    },
    {
     "name": "stdout",
     "output_type": "stream",
     "text": [
      "<xarray.Dataset>\n",
      "Dimensions:  (lat: 901, lon: 1800)\n",
      "Coordinates:\n",
      "    depth    float32 0.0\n",
      "  * lat      (lat) float64 -90.0 -89.8 -89.6 -89.4 -89.2 ... 89.4 89.6 89.8 90.0\n",
      "  * lon      (lon) float64 -180.0 -179.8 -179.6 -179.4 ... 179.4 179.6 179.8\n",
      "Data variables:\n",
      "    so       (lat, lon) float64 nan nan nan nan nan nan ... nan nan nan nan nan\n",
      "    zos      (lat, lon) float64 nan nan nan nan nan nan ... nan nan nan nan nan\n",
      "192 Frozen(SortedKeysDict({'lat': 901, 'lon': 1800, 'time': 11}))\n"
     ]
    },
    {
     "name": "stderr",
     "output_type": "stream",
     "text": [
      "C:\\Users\\gentemann\\Miniconda3\\envs\\satenv\\lib\\site-packages\\xarray\\core\\nanops.py:159: RuntimeWarning: Mean of empty slice\n",
      "  return np.nanmean(a, axis=axis, dtype=dtype)\n"
     ]
    },
    {
     "name": "stdout",
     "output_type": "stream",
     "text": [
      "<xarray.Dataset>\n",
      "Dimensions:  (lat: 901, lon: 1800)\n",
      "Coordinates:\n",
      "    depth    float32 0.0\n",
      "  * lat      (lat) float64 -90.0 -89.8 -89.6 -89.4 -89.2 ... 89.4 89.6 89.8 90.0\n",
      "  * lon      (lon) float64 -180.0 -179.8 -179.6 -179.4 ... 179.4 179.6 179.8\n",
      "Data variables:\n",
      "    so       (lat, lon) float64 nan nan nan nan nan nan ... nan nan nan nan nan\n",
      "    zos      (lat, lon) float64 nan nan nan nan nan nan ... nan nan nan nan nan\n",
      "193 Frozen(SortedKeysDict({'lat': 901, 'lon': 1800, 'time': 12}))\n"
     ]
    },
    {
     "name": "stderr",
     "output_type": "stream",
     "text": [
      "C:\\Users\\gentemann\\Miniconda3\\envs\\satenv\\lib\\site-packages\\xarray\\core\\nanops.py:159: RuntimeWarning: Mean of empty slice\n",
      "  return np.nanmean(a, axis=axis, dtype=dtype)\n"
     ]
    },
    {
     "name": "stdout",
     "output_type": "stream",
     "text": [
      "<xarray.Dataset>\n",
      "Dimensions:  (lat: 901, lon: 1800)\n",
      "Coordinates:\n",
      "    depth    float32 0.0\n",
      "  * lat      (lat) float64 -90.0 -89.8 -89.6 -89.4 -89.2 ... 89.4 89.6 89.8 90.0\n",
      "  * lon      (lon) float64 -180.0 -179.8 -179.6 -179.4 ... 179.4 179.6 179.8\n",
      "Data variables:\n",
      "    so       (lat, lon) float64 nan nan nan nan nan nan ... nan nan nan nan nan\n",
      "    zos      (lat, lon) float64 nan nan nan nan nan nan ... nan nan nan nan nan\n",
      "194 Frozen(SortedKeysDict({'lat': 901, 'lon': 1800, 'time': 13}))\n"
     ]
    },
    {
     "name": "stderr",
     "output_type": "stream",
     "text": [
      "C:\\Users\\gentemann\\Miniconda3\\envs\\satenv\\lib\\site-packages\\xarray\\core\\nanops.py:159: RuntimeWarning: Mean of empty slice\n",
      "  return np.nanmean(a, axis=axis, dtype=dtype)\n"
     ]
    },
    {
     "name": "stdout",
     "output_type": "stream",
     "text": [
      "<xarray.Dataset>\n",
      "Dimensions:  (lat: 901, lon: 1800)\n",
      "Coordinates:\n",
      "    depth    float32 0.0\n",
      "  * lat      (lat) float64 -90.0 -89.8 -89.6 -89.4 -89.2 ... 89.4 89.6 89.8 90.0\n",
      "  * lon      (lon) float64 -180.0 -179.8 -179.6 -179.4 ... 179.4 179.6 179.8\n",
      "Data variables:\n",
      "    so       (lat, lon) float64 nan nan nan nan nan nan ... nan nan nan nan nan\n",
      "    zos      (lat, lon) float64 nan nan nan nan nan nan ... nan nan nan nan nan\n",
      "195 Frozen(SortedKeysDict({'lat': 901, 'lon': 1800, 'time': 14}))\n"
     ]
    },
    {
     "name": "stderr",
     "output_type": "stream",
     "text": [
      "C:\\Users\\gentemann\\Miniconda3\\envs\\satenv\\lib\\site-packages\\xarray\\core\\nanops.py:159: RuntimeWarning: Mean of empty slice\n",
      "  return np.nanmean(a, axis=axis, dtype=dtype)\n"
     ]
    },
    {
     "name": "stdout",
     "output_type": "stream",
     "text": [
      "<xarray.Dataset>\n",
      "Dimensions:  (lat: 901, lon: 1800)\n",
      "Coordinates:\n",
      "    depth    float32 0.0\n",
      "  * lat      (lat) float64 -90.0 -89.8 -89.6 -89.4 -89.2 ... 89.4 89.6 89.8 90.0\n",
      "  * lon      (lon) float64 -180.0 -179.8 -179.6 -179.4 ... 179.4 179.6 179.8\n",
      "Data variables:\n",
      "    so       (lat, lon) float64 nan nan nan nan nan nan ... nan nan nan nan nan\n",
      "    zos      (lat, lon) float64 nan nan nan nan nan nan ... nan nan nan nan nan\n",
      "196 Frozen(SortedKeysDict({'lat': 901, 'lon': 1800, 'time': 15}))\n"
     ]
    },
    {
     "name": "stderr",
     "output_type": "stream",
     "text": [
      "C:\\Users\\gentemann\\Miniconda3\\envs\\satenv\\lib\\site-packages\\xarray\\core\\nanops.py:159: RuntimeWarning: Mean of empty slice\n",
      "  return np.nanmean(a, axis=axis, dtype=dtype)\n"
     ]
    },
    {
     "name": "stdout",
     "output_type": "stream",
     "text": [
      "<xarray.Dataset>\n",
      "Dimensions:  (lat: 901, lon: 1800)\n",
      "Coordinates:\n",
      "    depth    float32 0.0\n",
      "  * lat      (lat) float64 -90.0 -89.8 -89.6 -89.4 -89.2 ... 89.4 89.6 89.8 90.0\n",
      "  * lon      (lon) float64 -180.0 -179.8 -179.6 -179.4 ... 179.4 179.6 179.8\n",
      "Data variables:\n",
      "    so       (lat, lon) float64 nan nan nan nan nan nan ... nan nan nan nan nan\n",
      "    zos      (lat, lon) float64 nan nan nan nan nan nan ... nan nan nan nan nan\n",
      "197 Frozen(SortedKeysDict({'lat': 901, 'lon': 1800, 'time': 16}))\n"
     ]
    },
    {
     "name": "stderr",
     "output_type": "stream",
     "text": [
      "C:\\Users\\gentemann\\Miniconda3\\envs\\satenv\\lib\\site-packages\\xarray\\core\\nanops.py:159: RuntimeWarning: Mean of empty slice\n",
      "  return np.nanmean(a, axis=axis, dtype=dtype)\n"
     ]
    },
    {
     "name": "stdout",
     "output_type": "stream",
     "text": [
      "<xarray.Dataset>\n",
      "Dimensions:  (lat: 901, lon: 1800)\n",
      "Coordinates:\n",
      "    depth    float32 0.0\n",
      "  * lat      (lat) float64 -90.0 -89.8 -89.6 -89.4 -89.2 ... 89.4 89.6 89.8 90.0\n",
      "  * lon      (lon) float64 -180.0 -179.8 -179.6 -179.4 ... 179.4 179.6 179.8\n",
      "Data variables:\n",
      "    so       (lat, lon) float64 nan nan nan nan nan nan ... nan nan nan nan nan\n",
      "    zos      (lat, lon) float64 nan nan nan nan nan nan ... nan nan nan nan nan\n",
      "198 Frozen(SortedKeysDict({'lat': 901, 'lon': 1800, 'time': 17}))\n"
     ]
    },
    {
     "name": "stderr",
     "output_type": "stream",
     "text": [
      "C:\\Users\\gentemann\\Miniconda3\\envs\\satenv\\lib\\site-packages\\xarray\\core\\nanops.py:159: RuntimeWarning: Mean of empty slice\n",
      "  return np.nanmean(a, axis=axis, dtype=dtype)\n"
     ]
    },
    {
     "name": "stdout",
     "output_type": "stream",
     "text": [
      "<xarray.Dataset>\n",
      "Dimensions:  (lat: 901, lon: 1800)\n",
      "Coordinates:\n",
      "    depth    float32 0.0\n",
      "  * lat      (lat) float64 -90.0 -89.8 -89.6 -89.4 -89.2 ... 89.4 89.6 89.8 90.0\n",
      "  * lon      (lon) float64 -180.0 -179.8 -179.6 -179.4 ... 179.4 179.6 179.8\n",
      "Data variables:\n",
      "    so       (lat, lon) float64 nan nan nan nan nan nan ... nan nan nan nan nan\n",
      "    zos      (lat, lon) float64 nan nan nan nan nan nan ... nan nan nan nan nan\n",
      "199 Frozen(SortedKeysDict({'lat': 901, 'lon': 1800, 'time': 18}))\n"
     ]
    },
    {
     "name": "stderr",
     "output_type": "stream",
     "text": [
      "C:\\Users\\gentemann\\Miniconda3\\envs\\satenv\\lib\\site-packages\\xarray\\core\\nanops.py:159: RuntimeWarning: Mean of empty slice\n",
      "  return np.nanmean(a, axis=axis, dtype=dtype)\n"
     ]
    },
    {
     "name": "stdout",
     "output_type": "stream",
     "text": [
      "<xarray.Dataset>\n",
      "Dimensions:  (lat: 901, lon: 1800)\n",
      "Coordinates:\n",
      "    depth    float32 0.0\n",
      "  * lat      (lat) float64 -90.0 -89.8 -89.6 -89.4 -89.2 ... 89.4 89.6 89.8 90.0\n",
      "  * lon      (lon) float64 -180.0 -179.8 -179.6 -179.4 ... 179.4 179.6 179.8\n",
      "Data variables:\n",
      "    so       (lat, lon) float64 nan nan nan nan nan nan ... nan nan nan nan nan\n",
      "    zos      (lat, lon) float64 nan nan nan nan nan nan ... nan nan nan nan nan\n",
      "200 Frozen(SortedKeysDict({'lat': 901, 'lon': 1800, 'time': 19}))\n"
     ]
    },
    {
     "name": "stderr",
     "output_type": "stream",
     "text": [
      "C:\\Users\\gentemann\\Miniconda3\\envs\\satenv\\lib\\site-packages\\xarray\\core\\nanops.py:159: RuntimeWarning: Mean of empty slice\n",
      "  return np.nanmean(a, axis=axis, dtype=dtype)\n"
     ]
    },
    {
     "name": "stdout",
     "output_type": "stream",
     "text": [
      "<xarray.Dataset>\n",
      "Dimensions:  (lat: 901, lon: 1800)\n",
      "Coordinates:\n",
      "    depth    float32 0.0\n",
      "  * lat      (lat) float64 -90.0 -89.8 -89.6 -89.4 -89.2 ... 89.4 89.6 89.8 90.0\n",
      "  * lon      (lon) float64 -180.0 -179.8 -179.6 -179.4 ... 179.4 179.6 179.8\n",
      "Data variables:\n",
      "    so       (lat, lon) float64 nan nan nan nan nan nan ... nan nan nan nan nan\n",
      "    zos      (lat, lon) float64 nan nan nan nan nan nan ... nan nan nan nan nan\n",
      "201 Frozen(SortedKeysDict({'lat': 901, 'lon': 1800, 'time': 20}))\n"
     ]
    },
    {
     "name": "stderr",
     "output_type": "stream",
     "text": [
      "C:\\Users\\gentemann\\Miniconda3\\envs\\satenv\\lib\\site-packages\\xarray\\core\\nanops.py:159: RuntimeWarning: Mean of empty slice\n",
      "  return np.nanmean(a, axis=axis, dtype=dtype)\n"
     ]
    },
    {
     "name": "stdout",
     "output_type": "stream",
     "text": [
      "<xarray.Dataset>\n",
      "Dimensions:  (lat: 901, lon: 1800)\n",
      "Coordinates:\n",
      "    depth    float32 0.0\n",
      "  * lat      (lat) float64 -90.0 -89.8 -89.6 -89.4 -89.2 ... 89.4 89.6 89.8 90.0\n",
      "  * lon      (lon) float64 -180.0 -179.8 -179.6 -179.4 ... 179.4 179.6 179.8\n",
      "Data variables:\n",
      "    so       (lat, lon) float64 nan nan nan nan nan nan ... nan nan nan nan nan\n",
      "    zos      (lat, lon) float64 nan nan nan nan nan nan ... nan nan nan nan nan\n",
      "202 Frozen(SortedKeysDict({'lat': 901, 'lon': 1800, 'time': 21}))\n"
     ]
    },
    {
     "name": "stderr",
     "output_type": "stream",
     "text": [
      "C:\\Users\\gentemann\\Miniconda3\\envs\\satenv\\lib\\site-packages\\xarray\\core\\nanops.py:159: RuntimeWarning: Mean of empty slice\n",
      "  return np.nanmean(a, axis=axis, dtype=dtype)\n"
     ]
    },
    {
     "name": "stdout",
     "output_type": "stream",
     "text": [
      "<xarray.Dataset>\n",
      "Dimensions:  (lat: 901, lon: 1800)\n",
      "Coordinates:\n",
      "    depth    float32 0.0\n",
      "  * lat      (lat) float64 -90.0 -89.8 -89.6 -89.4 -89.2 ... 89.4 89.6 89.8 90.0\n",
      "  * lon      (lon) float64 -180.0 -179.8 -179.6 -179.4 ... 179.4 179.6 179.8\n",
      "Data variables:\n",
      "    so       (lat, lon) float64 nan nan nan nan nan nan ... nan nan nan nan nan\n",
      "    zos      (lat, lon) float64 nan nan nan nan nan nan ... nan nan nan nan nan\n",
      "203 Frozen(SortedKeysDict({'lat': 901, 'lon': 1800, 'time': 22}))\n"
     ]
    },
    {
     "name": "stderr",
     "output_type": "stream",
     "text": [
      "C:\\Users\\gentemann\\Miniconda3\\envs\\satenv\\lib\\site-packages\\xarray\\core\\nanops.py:159: RuntimeWarning: Mean of empty slice\n",
      "  return np.nanmean(a, axis=axis, dtype=dtype)\n"
     ]
    },
    {
     "name": "stdout",
     "output_type": "stream",
     "text": [
      "<xarray.Dataset>\n",
      "Dimensions:  (lat: 901, lon: 1800)\n",
      "Coordinates:\n",
      "    depth    float32 0.0\n",
      "  * lat      (lat) float64 -90.0 -89.8 -89.6 -89.4 -89.2 ... 89.4 89.6 89.8 90.0\n",
      "  * lon      (lon) float64 -180.0 -179.8 -179.6 -179.4 ... 179.4 179.6 179.8\n",
      "Data variables:\n",
      "    so       (lat, lon) float64 nan nan nan nan nan nan ... nan nan nan nan nan\n",
      "    zos      (lat, lon) float64 nan nan nan nan nan nan ... nan nan nan nan nan\n",
      "204 Frozen(SortedKeysDict({'lat': 901, 'lon': 1800, 'time': 23}))\n"
     ]
    },
    {
     "name": "stderr",
     "output_type": "stream",
     "text": [
      "C:\\Users\\gentemann\\Miniconda3\\envs\\satenv\\lib\\site-packages\\xarray\\core\\nanops.py:159: RuntimeWarning: Mean of empty slice\n",
      "  return np.nanmean(a, axis=axis, dtype=dtype)\n"
     ]
    },
    {
     "name": "stdout",
     "output_type": "stream",
     "text": [
      "<xarray.Dataset>\n",
      "Dimensions:  (lat: 901, lon: 1800)\n",
      "Coordinates:\n",
      "    depth    float32 0.0\n",
      "  * lat      (lat) float64 -90.0 -89.8 -89.6 -89.4 -89.2 ... 89.4 89.6 89.8 90.0\n",
      "  * lon      (lon) float64 -180.0 -179.8 -179.6 -179.4 ... 179.4 179.6 179.8\n",
      "Data variables:\n",
      "    so       (lat, lon) float64 nan nan nan nan nan nan ... nan nan nan nan nan\n",
      "    zos      (lat, lon) float64 nan nan nan nan nan nan ... nan nan nan nan nan\n",
      "205 Frozen(SortedKeysDict({'lat': 901, 'lon': 1800, 'time': 24}))\n"
     ]
    },
    {
     "name": "stderr",
     "output_type": "stream",
     "text": [
      "C:\\Users\\gentemann\\Miniconda3\\envs\\satenv\\lib\\site-packages\\xarray\\core\\nanops.py:159: RuntimeWarning: Mean of empty slice\n",
      "  return np.nanmean(a, axis=axis, dtype=dtype)\n"
     ]
    },
    {
     "name": "stdout",
     "output_type": "stream",
     "text": [
      "<xarray.Dataset>\n",
      "Dimensions:  (lat: 901, lon: 1800)\n",
      "Coordinates:\n",
      "    depth    float32 0.0\n",
      "  * lat      (lat) float64 -90.0 -89.8 -89.6 -89.4 -89.2 ... 89.4 89.6 89.8 90.0\n",
      "  * lon      (lon) float64 -180.0 -179.8 -179.6 -179.4 ... 179.4 179.6 179.8\n",
      "Data variables:\n",
      "    so       (lat, lon) float64 nan nan nan nan nan nan ... nan nan nan nan nan\n",
      "    zos      (lat, lon) float64 nan nan nan nan nan nan ... nan nan nan nan nan\n",
      "206 Frozen(SortedKeysDict({'lat': 901, 'lon': 1800, 'time': 25}))\n"
     ]
    },
    {
     "name": "stderr",
     "output_type": "stream",
     "text": [
      "C:\\Users\\gentemann\\Miniconda3\\envs\\satenv\\lib\\site-packages\\xarray\\core\\nanops.py:159: RuntimeWarning: Mean of empty slice\n",
      "  return np.nanmean(a, axis=axis, dtype=dtype)\n"
     ]
    },
    {
     "name": "stdout",
     "output_type": "stream",
     "text": [
      "<xarray.Dataset>\n",
      "Dimensions:  (lat: 901, lon: 1800)\n",
      "Coordinates:\n",
      "    depth    float32 0.0\n",
      "  * lat      (lat) float64 -90.0 -89.8 -89.6 -89.4 -89.2 ... 89.4 89.6 89.8 90.0\n",
      "  * lon      (lon) float64 -180.0 -179.8 -179.6 -179.4 ... 179.4 179.6 179.8\n",
      "Data variables:\n",
      "    so       (lat, lon) float64 nan nan nan nan nan nan ... nan nan nan nan nan\n",
      "    zos      (lat, lon) float64 nan nan nan nan nan nan ... nan nan nan nan nan\n",
      "207 Frozen(SortedKeysDict({'lat': 901, 'lon': 1800, 'time': 26}))\n"
     ]
    },
    {
     "name": "stderr",
     "output_type": "stream",
     "text": [
      "C:\\Users\\gentemann\\Miniconda3\\envs\\satenv\\lib\\site-packages\\xarray\\core\\nanops.py:159: RuntimeWarning: Mean of empty slice\n",
      "  return np.nanmean(a, axis=axis, dtype=dtype)\n"
     ]
    },
    {
     "name": "stdout",
     "output_type": "stream",
     "text": [
      "<xarray.Dataset>\n",
      "Dimensions:  (lat: 901, lon: 1800)\n",
      "Coordinates:\n",
      "    depth    float32 0.0\n",
      "  * lat      (lat) float64 -90.0 -89.8 -89.6 -89.4 -89.2 ... 89.4 89.6 89.8 90.0\n",
      "  * lon      (lon) float64 -180.0 -179.8 -179.6 -179.4 ... 179.4 179.6 179.8\n",
      "Data variables:\n",
      "    so       (lat, lon) float64 nan nan nan nan nan nan ... nan nan nan nan nan\n",
      "    zos      (lat, lon) float64 nan nan nan nan nan nan ... nan nan nan nan nan\n",
      "208 Frozen(SortedKeysDict({'lat': 901, 'lon': 1800, 'time': 27}))\n"
     ]
    },
    {
     "name": "stderr",
     "output_type": "stream",
     "text": [
      "C:\\Users\\gentemann\\Miniconda3\\envs\\satenv\\lib\\site-packages\\xarray\\core\\nanops.py:159: RuntimeWarning: Mean of empty slice\n",
      "  return np.nanmean(a, axis=axis, dtype=dtype)\n"
     ]
    },
    {
     "name": "stdout",
     "output_type": "stream",
     "text": [
      "<xarray.Dataset>\n",
      "Dimensions:  (lat: 901, lon: 1800)\n",
      "Coordinates:\n",
      "    depth    float32 0.0\n",
      "  * lat      (lat) float64 -90.0 -89.8 -89.6 -89.4 -89.2 ... 89.4 89.6 89.8 90.0\n",
      "  * lon      (lon) float64 -180.0 -179.8 -179.6 -179.4 ... 179.4 179.6 179.8\n",
      "Data variables:\n",
      "    so       (lat, lon) float64 nan nan nan nan nan nan ... nan nan nan nan nan\n",
      "    zos      (lat, lon) float64 nan nan nan nan nan nan ... nan nan nan nan nan\n",
      "209 Frozen(SortedKeysDict({'lat': 901, 'lon': 1800, 'time': 28}))\n"
     ]
    },
    {
     "name": "stderr",
     "output_type": "stream",
     "text": [
      "C:\\Users\\gentemann\\Miniconda3\\envs\\satenv\\lib\\site-packages\\xarray\\core\\nanops.py:159: RuntimeWarning: Mean of empty slice\n",
      "  return np.nanmean(a, axis=axis, dtype=dtype)\n"
     ]
    },
    {
     "name": "stdout",
     "output_type": "stream",
     "text": [
      "<xarray.Dataset>\n",
      "Dimensions:  (lat: 901, lon: 1800)\n",
      "Coordinates:\n",
      "    depth    float32 0.0\n",
      "  * lat      (lat) float64 -90.0 -89.8 -89.6 -89.4 -89.2 ... 89.4 89.6 89.8 90.0\n",
      "  * lon      (lon) float64 -180.0 -179.8 -179.6 -179.4 ... 179.4 179.6 179.8\n",
      "Data variables:\n",
      "    so       (lat, lon) float64 nan nan nan nan nan nan ... nan nan nan nan nan\n",
      "    zos      (lat, lon) float64 nan nan nan nan nan nan ... nan nan nan nan nan\n",
      "210 Frozen(SortedKeysDict({'lat': 901, 'lon': 1800, 'time': 29}))\n"
     ]
    },
    {
     "name": "stderr",
     "output_type": "stream",
     "text": [
      "C:\\Users\\gentemann\\Miniconda3\\envs\\satenv\\lib\\site-packages\\xarray\\core\\nanops.py:159: RuntimeWarning: Mean of empty slice\n",
      "  return np.nanmean(a, axis=axis, dtype=dtype)\n"
     ]
    },
    {
     "name": "stdout",
     "output_type": "stream",
     "text": [
      "<xarray.Dataset>\n",
      "Dimensions:  (lat: 901, lon: 1800)\n",
      "Coordinates:\n",
      "    depth    float32 0.0\n",
      "  * lat      (lat) float64 -90.0 -89.8 -89.6 -89.4 -89.2 ... 89.4 89.6 89.8 90.0\n",
      "  * lon      (lon) float64 -180.0 -179.8 -179.6 -179.4 ... 179.4 179.6 179.8\n",
      "Data variables:\n",
      "    so       (lat, lon) float64 nan nan nan nan nan nan ... nan nan nan nan nan\n",
      "    zos      (lat, lon) float64 nan nan nan nan nan nan ... nan nan nan nan nan\n",
      "211 Frozen(SortedKeysDict({'lat': 901, 'lon': 1800, 'time': 30}))\n"
     ]
    },
    {
     "name": "stderr",
     "output_type": "stream",
     "text": [
      "C:\\Users\\gentemann\\Miniconda3\\envs\\satenv\\lib\\site-packages\\xarray\\core\\nanops.py:159: RuntimeWarning: Mean of empty slice\n",
      "  return np.nanmean(a, axis=axis, dtype=dtype)\n"
     ]
    },
    {
     "name": "stdout",
     "output_type": "stream",
     "text": [
      "<xarray.Dataset>\n",
      "Dimensions:  (lat: 901, lon: 1800)\n",
      "Coordinates:\n",
      "    depth    float32 0.0\n",
      "  * lat      (lat) float64 -90.0 -89.8 -89.6 -89.4 -89.2 ... 89.4 89.6 89.8 90.0\n",
      "  * lon      (lon) float64 -180.0 -179.8 -179.6 -179.4 ... 179.4 179.6 179.8\n",
      "Data variables:\n",
      "    so       (lat, lon) float64 nan nan nan nan nan nan ... nan nan nan nan nan\n",
      "    zos      (lat, lon) float64 nan nan nan nan nan nan ... nan nan nan nan nan\n",
      "212 Frozen(SortedKeysDict({'lat': 901, 'lon': 1800, 'time': 31}))\n"
     ]
    },
    {
     "name": "stderr",
     "output_type": "stream",
     "text": [
      "C:\\Users\\gentemann\\Miniconda3\\envs\\satenv\\lib\\site-packages\\xarray\\core\\nanops.py:159: RuntimeWarning: Mean of empty slice\n",
      "  return np.nanmean(a, axis=axis, dtype=dtype)\n"
     ]
    },
    {
     "name": "stdout",
     "output_type": "stream",
     "text": [
      "out: F:/data/model_data/CMEM/global-analysis-forecast-phys_001_015/monthly/subset_metoffice_coupled_orca025_GL4_SAL_b201807_dm20180208.nc\n",
      "<xarray.Dataset>\n",
      "Dimensions:  (lat: 901, lon: 1800)\n",
      "Coordinates:\n",
      "    depth    float32 0.0\n",
      "  * lat      (lat) float64 -90.0 -89.8 -89.6 -89.4 -89.2 ... 89.4 89.6 89.8 90.0\n",
      "  * lon      (lon) float64 -180.0 -179.8 -179.6 -179.4 ... 179.4 179.6 179.8\n",
      "Data variables:\n",
      "    so       (lat, lon) float64 nan nan nan nan nan nan ... nan nan nan nan nan\n",
      "    zos      (lat, lon) float64 nan nan nan nan nan nan ... nan nan nan nan nan\n",
      "213 Frozen(SortedKeysDict({'lat': 901, 'lon': 1800}))\n",
      "<xarray.Dataset>\n",
      "Dimensions:  (lat: 901, lon: 1800)\n",
      "Coordinates:\n",
      "    depth    float32 0.0\n",
      "  * lat      (lat) float64 -90.0 -89.8 -89.6 -89.4 -89.2 ... 89.4 89.6 89.8 90.0\n",
      "  * lon      (lon) float64 -180.0 -179.8 -179.6 -179.4 ... 179.4 179.6 179.8\n",
      "Data variables:\n",
      "    so       (lat, lon) float64 nan nan nan nan nan nan ... nan nan nan nan nan\n",
      "    zos      (lat, lon) float64 nan nan nan nan nan nan ... nan nan nan nan nan\n",
      "214 Frozen(SortedKeysDict({'lat': 901, 'lon': 1800, 'time': 2}))\n"
     ]
    },
    {
     "name": "stderr",
     "output_type": "stream",
     "text": [
      "C:\\Users\\gentemann\\Miniconda3\\envs\\satenv\\lib\\site-packages\\xarray\\core\\nanops.py:159: RuntimeWarning: Mean of empty slice\n",
      "  return np.nanmean(a, axis=axis, dtype=dtype)\n"
     ]
    },
    {
     "name": "stdout",
     "output_type": "stream",
     "text": [
      "<xarray.Dataset>\n",
      "Dimensions:  (lat: 901, lon: 1800)\n",
      "Coordinates:\n",
      "    depth    float32 0.0\n",
      "  * lat      (lat) float64 -90.0 -89.8 -89.6 -89.4 -89.2 ... 89.4 89.6 89.8 90.0\n",
      "  * lon      (lon) float64 -180.0 -179.8 -179.6 -179.4 ... 179.4 179.6 179.8\n",
      "Data variables:\n",
      "    so       (lat, lon) float64 nan nan nan nan nan nan ... nan nan nan nan nan\n",
      "    zos      (lat, lon) float64 nan nan nan nan nan nan ... nan nan nan nan nan\n",
      "215 Frozen(SortedKeysDict({'lat': 901, 'lon': 1800, 'time': 3}))\n"
     ]
    },
    {
     "name": "stderr",
     "output_type": "stream",
     "text": [
      "C:\\Users\\gentemann\\Miniconda3\\envs\\satenv\\lib\\site-packages\\xarray\\core\\nanops.py:159: RuntimeWarning: Mean of empty slice\n",
      "  return np.nanmean(a, axis=axis, dtype=dtype)\n"
     ]
    },
    {
     "name": "stdout",
     "output_type": "stream",
     "text": [
      "<xarray.Dataset>\n",
      "Dimensions:  (lat: 901, lon: 1800)\n",
      "Coordinates:\n",
      "    depth    float32 0.0\n",
      "  * lat      (lat) float64 -90.0 -89.8 -89.6 -89.4 -89.2 ... 89.4 89.6 89.8 90.0\n",
      "  * lon      (lon) float64 -180.0 -179.8 -179.6 -179.4 ... 179.4 179.6 179.8\n",
      "Data variables:\n",
      "    so       (lat, lon) float64 nan nan nan nan nan nan ... nan nan nan nan nan\n",
      "    zos      (lat, lon) float64 nan nan nan nan nan nan ... nan nan nan nan nan\n",
      "216 Frozen(SortedKeysDict({'lat': 901, 'lon': 1800, 'time': 4}))\n"
     ]
    },
    {
     "name": "stderr",
     "output_type": "stream",
     "text": [
      "C:\\Users\\gentemann\\Miniconda3\\envs\\satenv\\lib\\site-packages\\xarray\\core\\nanops.py:159: RuntimeWarning: Mean of empty slice\n",
      "  return np.nanmean(a, axis=axis, dtype=dtype)\n"
     ]
    },
    {
     "name": "stdout",
     "output_type": "stream",
     "text": [
      "<xarray.Dataset>\n",
      "Dimensions:  (lat: 901, lon: 1800)\n",
      "Coordinates:\n",
      "    depth    float32 0.0\n",
      "  * lat      (lat) float64 -90.0 -89.8 -89.6 -89.4 -89.2 ... 89.4 89.6 89.8 90.0\n",
      "  * lon      (lon) float64 -180.0 -179.8 -179.6 -179.4 ... 179.4 179.6 179.8\n",
      "Data variables:\n",
      "    so       (lat, lon) float64 nan nan nan nan nan nan ... nan nan nan nan nan\n",
      "    zos      (lat, lon) float64 nan nan nan nan nan nan ... nan nan nan nan nan\n",
      "217 Frozen(SortedKeysDict({'lat': 901, 'lon': 1800, 'time': 5}))\n"
     ]
    },
    {
     "name": "stderr",
     "output_type": "stream",
     "text": [
      "C:\\Users\\gentemann\\Miniconda3\\envs\\satenv\\lib\\site-packages\\xarray\\core\\nanops.py:159: RuntimeWarning: Mean of empty slice\n",
      "  return np.nanmean(a, axis=axis, dtype=dtype)\n"
     ]
    },
    {
     "name": "stdout",
     "output_type": "stream",
     "text": [
      "<xarray.Dataset>\n",
      "Dimensions:  (lat: 901, lon: 1800)\n",
      "Coordinates:\n",
      "    depth    float32 0.0\n",
      "  * lat      (lat) float64 -90.0 -89.8 -89.6 -89.4 -89.2 ... 89.4 89.6 89.8 90.0\n",
      "  * lon      (lon) float64 -180.0 -179.8 -179.6 -179.4 ... 179.4 179.6 179.8\n",
      "Data variables:\n",
      "    so       (lat, lon) float64 nan nan nan nan nan nan ... nan nan nan nan nan\n",
      "    zos      (lat, lon) float64 nan nan nan nan nan nan ... nan nan nan nan nan\n",
      "218 Frozen(SortedKeysDict({'lat': 901, 'lon': 1800, 'time': 6}))\n"
     ]
    },
    {
     "name": "stderr",
     "output_type": "stream",
     "text": [
      "C:\\Users\\gentemann\\Miniconda3\\envs\\satenv\\lib\\site-packages\\xarray\\core\\nanops.py:159: RuntimeWarning: Mean of empty slice\n",
      "  return np.nanmean(a, axis=axis, dtype=dtype)\n"
     ]
    },
    {
     "name": "stdout",
     "output_type": "stream",
     "text": [
      "<xarray.Dataset>\n",
      "Dimensions:  (lat: 901, lon: 1800)\n",
      "Coordinates:\n",
      "    depth    float32 0.0\n",
      "  * lat      (lat) float64 -90.0 -89.8 -89.6 -89.4 -89.2 ... 89.4 89.6 89.8 90.0\n",
      "  * lon      (lon) float64 -180.0 -179.8 -179.6 -179.4 ... 179.4 179.6 179.8\n",
      "Data variables:\n",
      "    so       (lat, lon) float64 nan nan nan nan nan nan ... nan nan nan nan nan\n",
      "    zos      (lat, lon) float64 nan nan nan nan nan nan ... nan nan nan nan nan\n",
      "219 Frozen(SortedKeysDict({'lat': 901, 'lon': 1800, 'time': 7}))\n"
     ]
    },
    {
     "name": "stderr",
     "output_type": "stream",
     "text": [
      "C:\\Users\\gentemann\\Miniconda3\\envs\\satenv\\lib\\site-packages\\xarray\\core\\nanops.py:159: RuntimeWarning: Mean of empty slice\n",
      "  return np.nanmean(a, axis=axis, dtype=dtype)\n"
     ]
    },
    {
     "name": "stdout",
     "output_type": "stream",
     "text": [
      "<xarray.Dataset>\n",
      "Dimensions:  (lat: 901, lon: 1800)\n",
      "Coordinates:\n",
      "    depth    float32 0.0\n",
      "  * lat      (lat) float64 -90.0 -89.8 -89.6 -89.4 -89.2 ... 89.4 89.6 89.8 90.0\n",
      "  * lon      (lon) float64 -180.0 -179.8 -179.6 -179.4 ... 179.4 179.6 179.8\n",
      "Data variables:\n",
      "    so       (lat, lon) float64 nan nan nan nan nan nan ... nan nan nan nan nan\n",
      "    zos      (lat, lon) float64 nan nan nan nan nan nan ... nan nan nan nan nan\n",
      "220 Frozen(SortedKeysDict({'lat': 901, 'lon': 1800, 'time': 8}))\n"
     ]
    },
    {
     "name": "stderr",
     "output_type": "stream",
     "text": [
      "C:\\Users\\gentemann\\Miniconda3\\envs\\satenv\\lib\\site-packages\\xarray\\core\\nanops.py:159: RuntimeWarning: Mean of empty slice\n",
      "  return np.nanmean(a, axis=axis, dtype=dtype)\n"
     ]
    },
    {
     "name": "stdout",
     "output_type": "stream",
     "text": [
      "<xarray.Dataset>\n",
      "Dimensions:  (lat: 901, lon: 1800)\n",
      "Coordinates:\n",
      "    depth    float32 0.0\n",
      "  * lat      (lat) float64 -90.0 -89.8 -89.6 -89.4 -89.2 ... 89.4 89.6 89.8 90.0\n",
      "  * lon      (lon) float64 -180.0 -179.8 -179.6 -179.4 ... 179.4 179.6 179.8\n",
      "Data variables:\n",
      "    so       (lat, lon) float64 nan nan nan nan nan nan ... nan nan nan nan nan\n",
      "    zos      (lat, lon) float64 nan nan nan nan nan nan ... nan nan nan nan nan\n",
      "221 Frozen(SortedKeysDict({'lat': 901, 'lon': 1800, 'time': 9}))\n"
     ]
    },
    {
     "name": "stderr",
     "output_type": "stream",
     "text": [
      "C:\\Users\\gentemann\\Miniconda3\\envs\\satenv\\lib\\site-packages\\xarray\\core\\nanops.py:159: RuntimeWarning: Mean of empty slice\n",
      "  return np.nanmean(a, axis=axis, dtype=dtype)\n"
     ]
    },
    {
     "name": "stdout",
     "output_type": "stream",
     "text": [
      "<xarray.Dataset>\n",
      "Dimensions:  (lat: 901, lon: 1800)\n",
      "Coordinates:\n",
      "    depth    float32 0.0\n",
      "  * lat      (lat) float64 -90.0 -89.8 -89.6 -89.4 -89.2 ... 89.4 89.6 89.8 90.0\n",
      "  * lon      (lon) float64 -180.0 -179.8 -179.6 -179.4 ... 179.4 179.6 179.8\n",
      "Data variables:\n",
      "    so       (lat, lon) float64 nan nan nan nan nan nan ... nan nan nan nan nan\n",
      "    zos      (lat, lon) float64 nan nan nan nan nan nan ... nan nan nan nan nan\n",
      "222 Frozen(SortedKeysDict({'lat': 901, 'lon': 1800, 'time': 10}))\n"
     ]
    },
    {
     "name": "stderr",
     "output_type": "stream",
     "text": [
      "C:\\Users\\gentemann\\Miniconda3\\envs\\satenv\\lib\\site-packages\\xarray\\core\\nanops.py:159: RuntimeWarning: Mean of empty slice\n",
      "  return np.nanmean(a, axis=axis, dtype=dtype)\n"
     ]
    },
    {
     "name": "stdout",
     "output_type": "stream",
     "text": [
      "<xarray.Dataset>\n",
      "Dimensions:  (lat: 901, lon: 1800)\n",
      "Coordinates:\n",
      "    depth    float32 0.0\n",
      "  * lat      (lat) float64 -90.0 -89.8 -89.6 -89.4 -89.2 ... 89.4 89.6 89.8 90.0\n",
      "  * lon      (lon) float64 -180.0 -179.8 -179.6 -179.4 ... 179.4 179.6 179.8\n",
      "Data variables:\n",
      "    so       (lat, lon) float64 nan nan nan nan nan nan ... nan nan nan nan nan\n",
      "    zos      (lat, lon) float64 nan nan nan nan nan nan ... nan nan nan nan nan\n",
      "223 Frozen(SortedKeysDict({'lat': 901, 'lon': 1800, 'time': 11}))\n"
     ]
    },
    {
     "name": "stderr",
     "output_type": "stream",
     "text": [
      "C:\\Users\\gentemann\\Miniconda3\\envs\\satenv\\lib\\site-packages\\xarray\\core\\nanops.py:159: RuntimeWarning: Mean of empty slice\n",
      "  return np.nanmean(a, axis=axis, dtype=dtype)\n"
     ]
    },
    {
     "name": "stdout",
     "output_type": "stream",
     "text": [
      "<xarray.Dataset>\n",
      "Dimensions:  (lat: 901, lon: 1800)\n",
      "Coordinates:\n",
      "    depth    float32 0.0\n",
      "  * lat      (lat) float64 -90.0 -89.8 -89.6 -89.4 -89.2 ... 89.4 89.6 89.8 90.0\n",
      "  * lon      (lon) float64 -180.0 -179.8 -179.6 -179.4 ... 179.4 179.6 179.8\n",
      "Data variables:\n",
      "    so       (lat, lon) float64 nan nan nan nan nan nan ... nan nan nan nan nan\n",
      "    zos      (lat, lon) float64 nan nan nan nan nan nan ... nan nan nan nan nan\n",
      "224 Frozen(SortedKeysDict({'lat': 901, 'lon': 1800, 'time': 12}))\n"
     ]
    },
    {
     "name": "stderr",
     "output_type": "stream",
     "text": [
      "C:\\Users\\gentemann\\Miniconda3\\envs\\satenv\\lib\\site-packages\\xarray\\core\\nanops.py:159: RuntimeWarning: Mean of empty slice\n",
      "  return np.nanmean(a, axis=axis, dtype=dtype)\n"
     ]
    },
    {
     "name": "stdout",
     "output_type": "stream",
     "text": [
      "<xarray.Dataset>\n",
      "Dimensions:  (lat: 901, lon: 1800)\n",
      "Coordinates:\n",
      "    depth    float32 0.0\n",
      "  * lat      (lat) float64 -90.0 -89.8 -89.6 -89.4 -89.2 ... 89.4 89.6 89.8 90.0\n",
      "  * lon      (lon) float64 -180.0 -179.8 -179.6 -179.4 ... 179.4 179.6 179.8\n",
      "Data variables:\n",
      "    so       (lat, lon) float64 nan nan nan nan nan nan ... nan nan nan nan nan\n",
      "    zos      (lat, lon) float64 nan nan nan nan nan nan ... nan nan nan nan nan\n",
      "225 Frozen(SortedKeysDict({'lat': 901, 'lon': 1800, 'time': 13}))\n"
     ]
    },
    {
     "name": "stderr",
     "output_type": "stream",
     "text": [
      "C:\\Users\\gentemann\\Miniconda3\\envs\\satenv\\lib\\site-packages\\xarray\\core\\nanops.py:159: RuntimeWarning: Mean of empty slice\n",
      "  return np.nanmean(a, axis=axis, dtype=dtype)\n"
     ]
    },
    {
     "name": "stdout",
     "output_type": "stream",
     "text": [
      "<xarray.Dataset>\n",
      "Dimensions:  (lat: 901, lon: 1800)\n",
      "Coordinates:\n",
      "    depth    float32 0.0\n",
      "  * lat      (lat) float64 -90.0 -89.8 -89.6 -89.4 -89.2 ... 89.4 89.6 89.8 90.0\n",
      "  * lon      (lon) float64 -180.0 -179.8 -179.6 -179.4 ... 179.4 179.6 179.8\n",
      "Data variables:\n",
      "    so       (lat, lon) float64 nan nan nan nan nan nan ... nan nan nan nan nan\n",
      "    zos      (lat, lon) float64 nan nan nan nan nan nan ... nan nan nan nan nan\n",
      "226 Frozen(SortedKeysDict({'lat': 901, 'lon': 1800, 'time': 14}))\n"
     ]
    },
    {
     "name": "stderr",
     "output_type": "stream",
     "text": [
      "C:\\Users\\gentemann\\Miniconda3\\envs\\satenv\\lib\\site-packages\\xarray\\core\\nanops.py:159: RuntimeWarning: Mean of empty slice\n",
      "  return np.nanmean(a, axis=axis, dtype=dtype)\n"
     ]
    },
    {
     "name": "stdout",
     "output_type": "stream",
     "text": [
      "<xarray.Dataset>\n",
      "Dimensions:  (lat: 901, lon: 1800)\n",
      "Coordinates:\n",
      "    depth    float32 0.0\n",
      "  * lat      (lat) float64 -90.0 -89.8 -89.6 -89.4 -89.2 ... 89.4 89.6 89.8 90.0\n",
      "  * lon      (lon) float64 -180.0 -179.8 -179.6 -179.4 ... 179.4 179.6 179.8\n",
      "Data variables:\n",
      "    so       (lat, lon) float64 nan nan nan nan nan nan ... nan nan nan nan nan\n",
      "    zos      (lat, lon) float64 nan nan nan nan nan nan ... nan nan nan nan nan\n",
      "227 Frozen(SortedKeysDict({'lat': 901, 'lon': 1800, 'time': 15}))\n"
     ]
    },
    {
     "name": "stderr",
     "output_type": "stream",
     "text": [
      "C:\\Users\\gentemann\\Miniconda3\\envs\\satenv\\lib\\site-packages\\xarray\\core\\nanops.py:159: RuntimeWarning: Mean of empty slice\n",
      "  return np.nanmean(a, axis=axis, dtype=dtype)\n"
     ]
    },
    {
     "name": "stdout",
     "output_type": "stream",
     "text": [
      "<xarray.Dataset>\n",
      "Dimensions:  (lat: 901, lon: 1800)\n",
      "Coordinates:\n",
      "    depth    float32 0.0\n",
      "  * lat      (lat) float64 -90.0 -89.8 -89.6 -89.4 -89.2 ... 89.4 89.6 89.8 90.0\n",
      "  * lon      (lon) float64 -180.0 -179.8 -179.6 -179.4 ... 179.4 179.6 179.8\n",
      "Data variables:\n",
      "    so       (lat, lon) float64 nan nan nan nan nan nan ... nan nan nan nan nan\n",
      "    zos      (lat, lon) float64 nan nan nan nan nan nan ... nan nan nan nan nan\n",
      "228 Frozen(SortedKeysDict({'lat': 901, 'lon': 1800, 'time': 16}))\n"
     ]
    },
    {
     "name": "stderr",
     "output_type": "stream",
     "text": [
      "C:\\Users\\gentemann\\Miniconda3\\envs\\satenv\\lib\\site-packages\\xarray\\core\\nanops.py:159: RuntimeWarning: Mean of empty slice\n",
      "  return np.nanmean(a, axis=axis, dtype=dtype)\n"
     ]
    },
    {
     "name": "stdout",
     "output_type": "stream",
     "text": [
      "<xarray.Dataset>\n",
      "Dimensions:  (lat: 901, lon: 1800)\n",
      "Coordinates:\n",
      "    depth    float32 0.0\n",
      "  * lat      (lat) float64 -90.0 -89.8 -89.6 -89.4 -89.2 ... 89.4 89.6 89.8 90.0\n",
      "  * lon      (lon) float64 -180.0 -179.8 -179.6 -179.4 ... 179.4 179.6 179.8\n",
      "Data variables:\n",
      "    so       (lat, lon) float64 nan nan nan nan nan nan ... nan nan nan nan nan\n",
      "    zos      (lat, lon) float64 nan nan nan nan nan nan ... nan nan nan nan nan\n",
      "229 Frozen(SortedKeysDict({'lat': 901, 'lon': 1800, 'time': 17}))\n"
     ]
    },
    {
     "name": "stderr",
     "output_type": "stream",
     "text": [
      "C:\\Users\\gentemann\\Miniconda3\\envs\\satenv\\lib\\site-packages\\xarray\\core\\nanops.py:159: RuntimeWarning: Mean of empty slice\n",
      "  return np.nanmean(a, axis=axis, dtype=dtype)\n"
     ]
    },
    {
     "name": "stdout",
     "output_type": "stream",
     "text": [
      "<xarray.Dataset>\n",
      "Dimensions:  (lat: 901, lon: 1800)\n",
      "Coordinates:\n",
      "    depth    float32 0.0\n",
      "  * lat      (lat) float64 -90.0 -89.8 -89.6 -89.4 -89.2 ... 89.4 89.6 89.8 90.0\n",
      "  * lon      (lon) float64 -180.0 -179.8 -179.6 -179.4 ... 179.4 179.6 179.8\n",
      "Data variables:\n",
      "    so       (lat, lon) float64 nan nan nan nan nan nan ... nan nan nan nan nan\n",
      "    zos      (lat, lon) float64 nan nan nan nan nan nan ... nan nan nan nan nan\n",
      "230 Frozen(SortedKeysDict({'lat': 901, 'lon': 1800, 'time': 18}))\n"
     ]
    },
    {
     "name": "stderr",
     "output_type": "stream",
     "text": [
      "C:\\Users\\gentemann\\Miniconda3\\envs\\satenv\\lib\\site-packages\\xarray\\core\\nanops.py:159: RuntimeWarning: Mean of empty slice\n",
      "  return np.nanmean(a, axis=axis, dtype=dtype)\n"
     ]
    },
    {
     "name": "stdout",
     "output_type": "stream",
     "text": [
      "<xarray.Dataset>\n",
      "Dimensions:  (lat: 901, lon: 1800)\n",
      "Coordinates:\n",
      "    depth    float32 0.0\n",
      "  * lat      (lat) float64 -90.0 -89.8 -89.6 -89.4 -89.2 ... 89.4 89.6 89.8 90.0\n",
      "  * lon      (lon) float64 -180.0 -179.8 -179.6 -179.4 ... 179.4 179.6 179.8\n",
      "Data variables:\n",
      "    so       (lat, lon) float64 nan nan nan nan nan nan ... nan nan nan nan nan\n",
      "    zos      (lat, lon) float64 nan nan nan nan nan nan ... nan nan nan nan nan\n",
      "231 Frozen(SortedKeysDict({'lat': 901, 'lon': 1800, 'time': 19}))\n"
     ]
    },
    {
     "name": "stderr",
     "output_type": "stream",
     "text": [
      "C:\\Users\\gentemann\\Miniconda3\\envs\\satenv\\lib\\site-packages\\xarray\\core\\nanops.py:159: RuntimeWarning: Mean of empty slice\n",
      "  return np.nanmean(a, axis=axis, dtype=dtype)\n"
     ]
    },
    {
     "name": "stdout",
     "output_type": "stream",
     "text": [
      "<xarray.Dataset>\n",
      "Dimensions:  (lat: 901, lon: 1800)\n",
      "Coordinates:\n",
      "    depth    float32 0.0\n",
      "  * lat      (lat) float64 -90.0 -89.8 -89.6 -89.4 -89.2 ... 89.4 89.6 89.8 90.0\n",
      "  * lon      (lon) float64 -180.0 -179.8 -179.6 -179.4 ... 179.4 179.6 179.8\n",
      "Data variables:\n",
      "    so       (lat, lon) float64 nan nan nan nan nan nan ... nan nan nan nan nan\n",
      "    zos      (lat, lon) float64 nan nan nan nan nan nan ... nan nan nan nan nan\n",
      "232 Frozen(SortedKeysDict({'lat': 901, 'lon': 1800, 'time': 20}))\n"
     ]
    },
    {
     "name": "stderr",
     "output_type": "stream",
     "text": [
      "C:\\Users\\gentemann\\Miniconda3\\envs\\satenv\\lib\\site-packages\\xarray\\core\\nanops.py:159: RuntimeWarning: Mean of empty slice\n",
      "  return np.nanmean(a, axis=axis, dtype=dtype)\n"
     ]
    },
    {
     "name": "stdout",
     "output_type": "stream",
     "text": [
      "<xarray.Dataset>\n",
      "Dimensions:  (lat: 901, lon: 1800)\n",
      "Coordinates:\n",
      "    depth    float32 0.0\n",
      "  * lat      (lat) float64 -90.0 -89.8 -89.6 -89.4 -89.2 ... 89.4 89.6 89.8 90.0\n",
      "  * lon      (lon) float64 -180.0 -179.8 -179.6 -179.4 ... 179.4 179.6 179.8\n",
      "Data variables:\n",
      "    so       (lat, lon) float64 nan nan nan nan nan nan ... nan nan nan nan nan\n",
      "    zos      (lat, lon) float64 nan nan nan nan nan nan ... nan nan nan nan nan\n",
      "233 Frozen(SortedKeysDict({'lat': 901, 'lon': 1800, 'time': 21}))\n"
     ]
    },
    {
     "name": "stderr",
     "output_type": "stream",
     "text": [
      "C:\\Users\\gentemann\\Miniconda3\\envs\\satenv\\lib\\site-packages\\xarray\\core\\nanops.py:159: RuntimeWarning: Mean of empty slice\n",
      "  return np.nanmean(a, axis=axis, dtype=dtype)\n"
     ]
    },
    {
     "name": "stdout",
     "output_type": "stream",
     "text": [
      "<xarray.Dataset>\n",
      "Dimensions:  (lat: 901, lon: 1800)\n",
      "Coordinates:\n",
      "    depth    float32 0.0\n",
      "  * lat      (lat) float64 -90.0 -89.8 -89.6 -89.4 -89.2 ... 89.4 89.6 89.8 90.0\n",
      "  * lon      (lon) float64 -180.0 -179.8 -179.6 -179.4 ... 179.4 179.6 179.8\n",
      "Data variables:\n",
      "    so       (lat, lon) float64 nan nan nan nan nan nan ... nan nan nan nan nan\n",
      "    zos      (lat, lon) float64 nan nan nan nan nan nan ... nan nan nan nan nan\n",
      "234 Frozen(SortedKeysDict({'lat': 901, 'lon': 1800, 'time': 22}))\n"
     ]
    },
    {
     "name": "stderr",
     "output_type": "stream",
     "text": [
      "C:\\Users\\gentemann\\Miniconda3\\envs\\satenv\\lib\\site-packages\\xarray\\core\\nanops.py:159: RuntimeWarning: Mean of empty slice\n",
      "  return np.nanmean(a, axis=axis, dtype=dtype)\n"
     ]
    },
    {
     "name": "stdout",
     "output_type": "stream",
     "text": [
      "<xarray.Dataset>\n",
      "Dimensions:  (lat: 901, lon: 1800)\n",
      "Coordinates:\n",
      "    depth    float32 0.0\n",
      "  * lat      (lat) float64 -90.0 -89.8 -89.6 -89.4 -89.2 ... 89.4 89.6 89.8 90.0\n",
      "  * lon      (lon) float64 -180.0 -179.8 -179.6 -179.4 ... 179.4 179.6 179.8\n",
      "Data variables:\n",
      "    so       (lat, lon) float64 nan nan nan nan nan nan ... nan nan nan nan nan\n",
      "    zos      (lat, lon) float64 nan nan nan nan nan nan ... nan nan nan nan nan\n",
      "235 Frozen(SortedKeysDict({'lat': 901, 'lon': 1800, 'time': 23}))\n"
     ]
    },
    {
     "name": "stderr",
     "output_type": "stream",
     "text": [
      "C:\\Users\\gentemann\\Miniconda3\\envs\\satenv\\lib\\site-packages\\xarray\\core\\nanops.py:159: RuntimeWarning: Mean of empty slice\n",
      "  return np.nanmean(a, axis=axis, dtype=dtype)\n"
     ]
    },
    {
     "name": "stdout",
     "output_type": "stream",
     "text": [
      "<xarray.Dataset>\n",
      "Dimensions:  (lat: 901, lon: 1800)\n",
      "Coordinates:\n",
      "    depth    float32 0.0\n",
      "  * lat      (lat) float64 -90.0 -89.8 -89.6 -89.4 -89.2 ... 89.4 89.6 89.8 90.0\n",
      "  * lon      (lon) float64 -180.0 -179.8 -179.6 -179.4 ... 179.4 179.6 179.8\n",
      "Data variables:\n",
      "    so       (lat, lon) float64 nan nan nan nan nan nan ... nan nan nan nan nan\n",
      "    zos      (lat, lon) float64 nan nan nan nan nan nan ... nan nan nan nan nan\n",
      "236 Frozen(SortedKeysDict({'lat': 901, 'lon': 1800, 'time': 24}))\n"
     ]
    },
    {
     "name": "stderr",
     "output_type": "stream",
     "text": [
      "C:\\Users\\gentemann\\Miniconda3\\envs\\satenv\\lib\\site-packages\\xarray\\core\\nanops.py:159: RuntimeWarning: Mean of empty slice\n",
      "  return np.nanmean(a, axis=axis, dtype=dtype)\n"
     ]
    },
    {
     "name": "stdout",
     "output_type": "stream",
     "text": [
      "<xarray.Dataset>\n",
      "Dimensions:  (lat: 901, lon: 1800)\n",
      "Coordinates:\n",
      "    depth    float32 0.0\n",
      "  * lat      (lat) float64 -90.0 -89.8 -89.6 -89.4 -89.2 ... 89.4 89.6 89.8 90.0\n",
      "  * lon      (lon) float64 -180.0 -179.8 -179.6 -179.4 ... 179.4 179.6 179.8\n",
      "Data variables:\n",
      "    so       (lat, lon) float64 nan nan nan nan nan nan ... nan nan nan nan nan\n",
      "    zos      (lat, lon) float64 nan nan nan nan nan nan ... nan nan nan nan nan\n",
      "237 Frozen(SortedKeysDict({'lat': 901, 'lon': 1800, 'time': 25}))\n"
     ]
    },
    {
     "name": "stderr",
     "output_type": "stream",
     "text": [
      "C:\\Users\\gentemann\\Miniconda3\\envs\\satenv\\lib\\site-packages\\xarray\\core\\nanops.py:159: RuntimeWarning: Mean of empty slice\n",
      "  return np.nanmean(a, axis=axis, dtype=dtype)\n"
     ]
    },
    {
     "name": "stdout",
     "output_type": "stream",
     "text": [
      "<xarray.Dataset>\n",
      "Dimensions:  (lat: 901, lon: 1800)\n",
      "Coordinates:\n",
      "    depth    float32 0.0\n",
      "  * lat      (lat) float64 -90.0 -89.8 -89.6 -89.4 -89.2 ... 89.4 89.6 89.8 90.0\n",
      "  * lon      (lon) float64 -180.0 -179.8 -179.6 -179.4 ... 179.4 179.6 179.8\n",
      "Data variables:\n",
      "    so       (lat, lon) float64 nan nan nan nan nan nan ... nan nan nan nan nan\n",
      "    zos      (lat, lon) float64 nan nan nan nan nan nan ... nan nan nan nan nan\n",
      "238 Frozen(SortedKeysDict({'lat': 901, 'lon': 1800, 'time': 26}))\n"
     ]
    },
    {
     "name": "stderr",
     "output_type": "stream",
     "text": [
      "C:\\Users\\gentemann\\Miniconda3\\envs\\satenv\\lib\\site-packages\\xarray\\core\\nanops.py:159: RuntimeWarning: Mean of empty slice\n",
      "  return np.nanmean(a, axis=axis, dtype=dtype)\n"
     ]
    },
    {
     "name": "stdout",
     "output_type": "stream",
     "text": [
      "<xarray.Dataset>\n",
      "Dimensions:  (lat: 901, lon: 1800)\n",
      "Coordinates:\n",
      "    depth    float32 0.0\n",
      "  * lat      (lat) float64 -90.0 -89.8 -89.6 -89.4 -89.2 ... 89.4 89.6 89.8 90.0\n",
      "  * lon      (lon) float64 -180.0 -179.8 -179.6 -179.4 ... 179.4 179.6 179.8\n",
      "Data variables:\n",
      "    so       (lat, lon) float64 nan nan nan nan nan nan ... nan nan nan nan nan\n",
      "    zos      (lat, lon) float64 nan nan nan nan nan nan ... nan nan nan nan nan\n",
      "239 Frozen(SortedKeysDict({'lat': 901, 'lon': 1800, 'time': 27}))\n"
     ]
    },
    {
     "name": "stderr",
     "output_type": "stream",
     "text": [
      "C:\\Users\\gentemann\\Miniconda3\\envs\\satenv\\lib\\site-packages\\xarray\\core\\nanops.py:159: RuntimeWarning: Mean of empty slice\n",
      "  return np.nanmean(a, axis=axis, dtype=dtype)\n"
     ]
    },
    {
     "name": "stdout",
     "output_type": "stream",
     "text": [
      "<xarray.Dataset>\n",
      "Dimensions:  (lat: 901, lon: 1800)\n",
      "Coordinates:\n",
      "    depth    float32 0.0\n",
      "  * lat      (lat) float64 -90.0 -89.8 -89.6 -89.4 -89.2 ... 89.4 89.6 89.8 90.0\n",
      "  * lon      (lon) float64 -180.0 -179.8 -179.6 -179.4 ... 179.4 179.6 179.8\n",
      "Data variables:\n",
      "    so       (lat, lon) float64 nan nan nan nan nan nan ... nan nan nan nan nan\n",
      "    zos      (lat, lon) float64 nan nan nan nan nan nan ... nan nan nan nan nan\n",
      "240 Frozen(SortedKeysDict({'lat': 901, 'lon': 1800, 'time': 28}))\n"
     ]
    },
    {
     "name": "stderr",
     "output_type": "stream",
     "text": [
      "C:\\Users\\gentemann\\Miniconda3\\envs\\satenv\\lib\\site-packages\\xarray\\core\\nanops.py:159: RuntimeWarning: Mean of empty slice\n",
      "  return np.nanmean(a, axis=axis, dtype=dtype)\n"
     ]
    },
    {
     "name": "stdout",
     "output_type": "stream",
     "text": [
      "<xarray.Dataset>\n",
      "Dimensions:  (lat: 901, lon: 1800)\n",
      "Coordinates:\n",
      "    depth    float32 0.0\n",
      "  * lat      (lat) float64 -90.0 -89.8 -89.6 -89.4 -89.2 ... 89.4 89.6 89.8 90.0\n",
      "  * lon      (lon) float64 -180.0 -179.8 -179.6 -179.4 ... 179.4 179.6 179.8\n",
      "Data variables:\n",
      "    so       (lat, lon) float64 nan nan nan nan nan nan ... nan nan nan nan nan\n",
      "    zos      (lat, lon) float64 nan nan nan nan nan nan ... nan nan nan nan nan\n",
      "241 Frozen(SortedKeysDict({'lat': 901, 'lon': 1800, 'time': 29}))\n"
     ]
    },
    {
     "name": "stderr",
     "output_type": "stream",
     "text": [
      "C:\\Users\\gentemann\\Miniconda3\\envs\\satenv\\lib\\site-packages\\xarray\\core\\nanops.py:159: RuntimeWarning: Mean of empty slice\n",
      "  return np.nanmean(a, axis=axis, dtype=dtype)\n"
     ]
    },
    {
     "name": "stdout",
     "output_type": "stream",
     "text": [
      "<xarray.Dataset>\n",
      "Dimensions:  (lat: 901, lon: 1800)\n",
      "Coordinates:\n",
      "    depth    float32 0.0\n",
      "  * lat      (lat) float64 -90.0 -89.8 -89.6 -89.4 -89.2 ... 89.4 89.6 89.8 90.0\n",
      "  * lon      (lon) float64 -180.0 -179.8 -179.6 -179.4 ... 179.4 179.6 179.8\n",
      "Data variables:\n",
      "    so       (lat, lon) float64 nan nan nan nan nan nan ... nan nan nan nan nan\n",
      "    zos      (lat, lon) float64 nan nan nan nan nan nan ... nan nan nan nan nan\n",
      "242 Frozen(SortedKeysDict({'lat': 901, 'lon': 1800, 'time': 30}))\n"
     ]
    },
    {
     "name": "stderr",
     "output_type": "stream",
     "text": [
      "C:\\Users\\gentemann\\Miniconda3\\envs\\satenv\\lib\\site-packages\\xarray\\core\\nanops.py:159: RuntimeWarning: Mean of empty slice\n",
      "  return np.nanmean(a, axis=axis, dtype=dtype)\n"
     ]
    },
    {
     "name": "stdout",
     "output_type": "stream",
     "text": [
      "<xarray.Dataset>\n",
      "Dimensions:  (lat: 901, lon: 1800)\n",
      "Coordinates:\n",
      "    depth    float32 0.0\n",
      "  * lat      (lat) float64 -90.0 -89.8 -89.6 -89.4 -89.2 ... 89.4 89.6 89.8 90.0\n",
      "  * lon      (lon) float64 -180.0 -179.8 -179.6 -179.4 ... 179.4 179.6 179.8\n",
      "Data variables:\n",
      "    so       (lat, lon) float64 nan nan nan nan nan nan ... nan nan nan nan nan\n",
      "    zos      (lat, lon) float64 nan nan nan nan nan nan ... nan nan nan nan nan\n",
      "243 Frozen(SortedKeysDict({'lat': 901, 'lon': 1800, 'time': 31}))\n"
     ]
    },
    {
     "name": "stderr",
     "output_type": "stream",
     "text": [
      "C:\\Users\\gentemann\\Miniconda3\\envs\\satenv\\lib\\site-packages\\xarray\\core\\nanops.py:159: RuntimeWarning: Mean of empty slice\n",
      "  return np.nanmean(a, axis=axis, dtype=dtype)\n"
     ]
    },
    {
     "name": "stdout",
     "output_type": "stream",
     "text": [
      "out: F:/data/model_data/CMEM/global-analysis-forecast-phys_001_015/monthly/subset_metoffice_coupled_orca025_GL4_SAL_b201808_dm20180208.nc\n",
      "<xarray.Dataset>\n",
      "Dimensions:  (lat: 901, lon: 1800)\n",
      "Coordinates:\n",
      "    depth    float32 0.0\n",
      "  * lat      (lat) float64 -90.0 -89.8 -89.6 -89.4 -89.2 ... 89.4 89.6 89.8 90.0\n",
      "  * lon      (lon) float64 -180.0 -179.8 -179.6 -179.4 ... 179.4 179.6 179.8\n",
      "Data variables:\n",
      "    so       (lat, lon) float64 nan nan nan nan nan nan ... nan nan nan nan nan\n",
      "    zos      (lat, lon) float64 nan nan nan nan nan nan ... nan nan nan nan nan\n",
      "244 Frozen(SortedKeysDict({'lat': 901, 'lon': 1800}))\n",
      "<xarray.Dataset>\n",
      "Dimensions:  (lat: 901, lon: 1800)\n",
      "Coordinates:\n",
      "    depth    float32 0.0\n",
      "  * lat      (lat) float64 -90.0 -89.8 -89.6 -89.4 -89.2 ... 89.4 89.6 89.8 90.0\n",
      "  * lon      (lon) float64 -180.0 -179.8 -179.6 -179.4 ... 179.4 179.6 179.8\n",
      "Data variables:\n",
      "    so       (lat, lon) float64 nan nan nan nan nan nan ... nan nan nan nan nan\n",
      "    zos      (lat, lon) float64 nan nan nan nan nan nan ... nan nan nan nan nan\n",
      "245 Frozen(SortedKeysDict({'lat': 901, 'lon': 1800, 'time': 2}))\n"
     ]
    },
    {
     "name": "stderr",
     "output_type": "stream",
     "text": [
      "C:\\Users\\gentemann\\Miniconda3\\envs\\satenv\\lib\\site-packages\\xarray\\core\\nanops.py:159: RuntimeWarning: Mean of empty slice\n",
      "  return np.nanmean(a, axis=axis, dtype=dtype)\n"
     ]
    },
    {
     "name": "stdout",
     "output_type": "stream",
     "text": [
      "<xarray.Dataset>\n",
      "Dimensions:  (lat: 901, lon: 1800)\n",
      "Coordinates:\n",
      "    depth    float32 0.0\n",
      "  * lat      (lat) float64 -90.0 -89.8 -89.6 -89.4 -89.2 ... 89.4 89.6 89.8 90.0\n",
      "  * lon      (lon) float64 -180.0 -179.8 -179.6 -179.4 ... 179.4 179.6 179.8\n",
      "Data variables:\n",
      "    so       (lat, lon) float64 nan nan nan nan nan nan ... nan nan nan nan nan\n",
      "    zos      (lat, lon) float64 nan nan nan nan nan nan ... nan nan nan nan nan\n",
      "246 Frozen(SortedKeysDict({'lat': 901, 'lon': 1800, 'time': 3}))\n"
     ]
    },
    {
     "name": "stderr",
     "output_type": "stream",
     "text": [
      "C:\\Users\\gentemann\\Miniconda3\\envs\\satenv\\lib\\site-packages\\xarray\\core\\nanops.py:159: RuntimeWarning: Mean of empty slice\n",
      "  return np.nanmean(a, axis=axis, dtype=dtype)\n"
     ]
    },
    {
     "name": "stdout",
     "output_type": "stream",
     "text": [
      "<xarray.Dataset>\n",
      "Dimensions:  (lat: 901, lon: 1800)\n",
      "Coordinates:\n",
      "    depth    float32 0.0\n",
      "  * lat      (lat) float64 -90.0 -89.8 -89.6 -89.4 -89.2 ... 89.4 89.6 89.8 90.0\n",
      "  * lon      (lon) float64 -180.0 -179.8 -179.6 -179.4 ... 179.4 179.6 179.8\n",
      "Data variables:\n",
      "    so       (lat, lon) float64 nan nan nan nan nan nan ... nan nan nan nan nan\n",
      "    zos      (lat, lon) float64 nan nan nan nan nan nan ... nan nan nan nan nan\n",
      "247 Frozen(SortedKeysDict({'lat': 901, 'lon': 1800, 'time': 4}))\n"
     ]
    },
    {
     "name": "stderr",
     "output_type": "stream",
     "text": [
      "C:\\Users\\gentemann\\Miniconda3\\envs\\satenv\\lib\\site-packages\\xarray\\core\\nanops.py:159: RuntimeWarning: Mean of empty slice\n",
      "  return np.nanmean(a, axis=axis, dtype=dtype)\n"
     ]
    },
    {
     "name": "stdout",
     "output_type": "stream",
     "text": [
      "<xarray.Dataset>\n",
      "Dimensions:  (lat: 901, lon: 1800)\n",
      "Coordinates:\n",
      "    depth    float32 0.0\n",
      "  * lat      (lat) float64 -90.0 -89.8 -89.6 -89.4 -89.2 ... 89.4 89.6 89.8 90.0\n",
      "  * lon      (lon) float64 -180.0 -179.8 -179.6 -179.4 ... 179.4 179.6 179.8\n",
      "Data variables:\n",
      "    so       (lat, lon) float64 nan nan nan nan nan nan ... nan nan nan nan nan\n",
      "    zos      (lat, lon) float64 nan nan nan nan nan nan ... nan nan nan nan nan\n",
      "248 Frozen(SortedKeysDict({'lat': 901, 'lon': 1800, 'time': 5}))\n"
     ]
    },
    {
     "name": "stderr",
     "output_type": "stream",
     "text": [
      "C:\\Users\\gentemann\\Miniconda3\\envs\\satenv\\lib\\site-packages\\xarray\\core\\nanops.py:159: RuntimeWarning: Mean of empty slice\n",
      "  return np.nanmean(a, axis=axis, dtype=dtype)\n"
     ]
    },
    {
     "name": "stdout",
     "output_type": "stream",
     "text": [
      "<xarray.Dataset>\n",
      "Dimensions:  (lat: 901, lon: 1800)\n",
      "Coordinates:\n",
      "    depth    float32 0.0\n",
      "  * lat      (lat) float64 -90.0 -89.8 -89.6 -89.4 -89.2 ... 89.4 89.6 89.8 90.0\n",
      "  * lon      (lon) float64 -180.0 -179.8 -179.6 -179.4 ... 179.4 179.6 179.8\n",
      "Data variables:\n",
      "    so       (lat, lon) float64 nan nan nan nan nan nan ... nan nan nan nan nan\n",
      "    zos      (lat, lon) float64 nan nan nan nan nan nan ... nan nan nan nan nan\n",
      "249 Frozen(SortedKeysDict({'lat': 901, 'lon': 1800, 'time': 6}))\n"
     ]
    },
    {
     "name": "stderr",
     "output_type": "stream",
     "text": [
      "C:\\Users\\gentemann\\Miniconda3\\envs\\satenv\\lib\\site-packages\\xarray\\core\\nanops.py:159: RuntimeWarning: Mean of empty slice\n",
      "  return np.nanmean(a, axis=axis, dtype=dtype)\n"
     ]
    },
    {
     "name": "stdout",
     "output_type": "stream",
     "text": [
      "<xarray.Dataset>\n",
      "Dimensions:  (lat: 901, lon: 1800)\n",
      "Coordinates:\n",
      "    depth    float32 0.0\n",
      "  * lat      (lat) float64 -90.0 -89.8 -89.6 -89.4 -89.2 ... 89.4 89.6 89.8 90.0\n",
      "  * lon      (lon) float64 -180.0 -179.8 -179.6 -179.4 ... 179.4 179.6 179.8\n",
      "Data variables:\n",
      "    so       (lat, lon) float64 nan nan nan nan nan nan ... nan nan nan nan nan\n",
      "    zos      (lat, lon) float64 nan nan nan nan nan nan ... nan nan nan nan nan\n",
      "250 Frozen(SortedKeysDict({'lat': 901, 'lon': 1800, 'time': 7}))\n"
     ]
    },
    {
     "name": "stderr",
     "output_type": "stream",
     "text": [
      "C:\\Users\\gentemann\\Miniconda3\\envs\\satenv\\lib\\site-packages\\xarray\\core\\nanops.py:159: RuntimeWarning: Mean of empty slice\n",
      "  return np.nanmean(a, axis=axis, dtype=dtype)\n"
     ]
    },
    {
     "name": "stdout",
     "output_type": "stream",
     "text": [
      "<xarray.Dataset>\n",
      "Dimensions:  (lat: 901, lon: 1800)\n",
      "Coordinates:\n",
      "    depth    float32 0.0\n",
      "  * lat      (lat) float64 -90.0 -89.8 -89.6 -89.4 -89.2 ... 89.4 89.6 89.8 90.0\n",
      "  * lon      (lon) float64 -180.0 -179.8 -179.6 -179.4 ... 179.4 179.6 179.8\n",
      "Data variables:\n",
      "    so       (lat, lon) float64 nan nan nan nan nan nan ... nan nan nan nan nan\n",
      "    zos      (lat, lon) float64 nan nan nan nan nan nan ... nan nan nan nan nan\n",
      "251 Frozen(SortedKeysDict({'lat': 901, 'lon': 1800, 'time': 8}))\n"
     ]
    },
    {
     "name": "stderr",
     "output_type": "stream",
     "text": [
      "C:\\Users\\gentemann\\Miniconda3\\envs\\satenv\\lib\\site-packages\\xarray\\core\\nanops.py:159: RuntimeWarning: Mean of empty slice\n",
      "  return np.nanmean(a, axis=axis, dtype=dtype)\n"
     ]
    },
    {
     "name": "stdout",
     "output_type": "stream",
     "text": [
      "<xarray.Dataset>\n",
      "Dimensions:  (lat: 901, lon: 1800)\n",
      "Coordinates:\n",
      "    depth    float32 0.0\n",
      "  * lat      (lat) float64 -90.0 -89.8 -89.6 -89.4 -89.2 ... 89.4 89.6 89.8 90.0\n",
      "  * lon      (lon) float64 -180.0 -179.8 -179.6 -179.4 ... 179.4 179.6 179.8\n",
      "Data variables:\n",
      "    so       (lat, lon) float64 nan nan nan nan nan nan ... nan nan nan nan nan\n",
      "    zos      (lat, lon) float64 nan nan nan nan nan nan ... nan nan nan nan nan\n",
      "252 Frozen(SortedKeysDict({'lat': 901, 'lon': 1800, 'time': 9}))\n"
     ]
    },
    {
     "name": "stderr",
     "output_type": "stream",
     "text": [
      "C:\\Users\\gentemann\\Miniconda3\\envs\\satenv\\lib\\site-packages\\xarray\\core\\nanops.py:159: RuntimeWarning: Mean of empty slice\n",
      "  return np.nanmean(a, axis=axis, dtype=dtype)\n"
     ]
    },
    {
     "name": "stdout",
     "output_type": "stream",
     "text": [
      "<xarray.Dataset>\n",
      "Dimensions:  (lat: 901, lon: 1800)\n",
      "Coordinates:\n",
      "    depth    float32 0.0\n",
      "  * lat      (lat) float64 -90.0 -89.8 -89.6 -89.4 -89.2 ... 89.4 89.6 89.8 90.0\n",
      "  * lon      (lon) float64 -180.0 -179.8 -179.6 -179.4 ... 179.4 179.6 179.8\n",
      "Data variables:\n",
      "    so       (lat, lon) float64 nan nan nan nan nan nan ... nan nan nan nan nan\n",
      "    zos      (lat, lon) float64 nan nan nan nan nan nan ... nan nan nan nan nan\n",
      "253 Frozen(SortedKeysDict({'lat': 901, 'lon': 1800, 'time': 10}))\n"
     ]
    },
    {
     "name": "stderr",
     "output_type": "stream",
     "text": [
      "C:\\Users\\gentemann\\Miniconda3\\envs\\satenv\\lib\\site-packages\\xarray\\core\\nanops.py:159: RuntimeWarning: Mean of empty slice\n",
      "  return np.nanmean(a, axis=axis, dtype=dtype)\n"
     ]
    },
    {
     "name": "stdout",
     "output_type": "stream",
     "text": [
      "<xarray.Dataset>\n",
      "Dimensions:  (lat: 901, lon: 1800)\n",
      "Coordinates:\n",
      "    depth    float32 0.0\n",
      "  * lat      (lat) float64 -90.0 -89.8 -89.6 -89.4 -89.2 ... 89.4 89.6 89.8 90.0\n",
      "  * lon      (lon) float64 -180.0 -179.8 -179.6 -179.4 ... 179.4 179.6 179.8\n",
      "Data variables:\n",
      "    so       (lat, lon) float64 nan nan nan nan nan nan ... nan nan nan nan nan\n",
      "    zos      (lat, lon) float64 nan nan nan nan nan nan ... nan nan nan nan nan\n",
      "254 Frozen(SortedKeysDict({'lat': 901, 'lon': 1800, 'time': 11}))\n"
     ]
    },
    {
     "name": "stderr",
     "output_type": "stream",
     "text": [
      "C:\\Users\\gentemann\\Miniconda3\\envs\\satenv\\lib\\site-packages\\xarray\\core\\nanops.py:159: RuntimeWarning: Mean of empty slice\n",
      "  return np.nanmean(a, axis=axis, dtype=dtype)\n"
     ]
    },
    {
     "name": "stdout",
     "output_type": "stream",
     "text": [
      "<xarray.Dataset>\n",
      "Dimensions:  (lat: 901, lon: 1800)\n",
      "Coordinates:\n",
      "    depth    float32 0.0\n",
      "  * lat      (lat) float64 -90.0 -89.8 -89.6 -89.4 -89.2 ... 89.4 89.6 89.8 90.0\n",
      "  * lon      (lon) float64 -180.0 -179.8 -179.6 -179.4 ... 179.4 179.6 179.8\n",
      "Data variables:\n",
      "    so       (lat, lon) float64 nan nan nan nan nan nan ... nan nan nan nan nan\n",
      "    zos      (lat, lon) float64 nan nan nan nan nan nan ... nan nan nan nan nan\n",
      "255 Frozen(SortedKeysDict({'lat': 901, 'lon': 1800, 'time': 12}))\n"
     ]
    },
    {
     "name": "stderr",
     "output_type": "stream",
     "text": [
      "C:\\Users\\gentemann\\Miniconda3\\envs\\satenv\\lib\\site-packages\\xarray\\core\\nanops.py:159: RuntimeWarning: Mean of empty slice\n",
      "  return np.nanmean(a, axis=axis, dtype=dtype)\n"
     ]
    },
    {
     "name": "stdout",
     "output_type": "stream",
     "text": [
      "<xarray.Dataset>\n",
      "Dimensions:  (lat: 901, lon: 1800)\n",
      "Coordinates:\n",
      "    depth    float32 0.0\n",
      "  * lat      (lat) float64 -90.0 -89.8 -89.6 -89.4 -89.2 ... 89.4 89.6 89.8 90.0\n",
      "  * lon      (lon) float64 -180.0 -179.8 -179.6 -179.4 ... 179.4 179.6 179.8\n",
      "Data variables:\n",
      "    so       (lat, lon) float64 nan nan nan nan nan nan ... nan nan nan nan nan\n",
      "    zos      (lat, lon) float64 nan nan nan nan nan nan ... nan nan nan nan nan\n",
      "256 Frozen(SortedKeysDict({'lat': 901, 'lon': 1800, 'time': 13}))\n"
     ]
    },
    {
     "name": "stderr",
     "output_type": "stream",
     "text": [
      "C:\\Users\\gentemann\\Miniconda3\\envs\\satenv\\lib\\site-packages\\xarray\\core\\nanops.py:159: RuntimeWarning: Mean of empty slice\n",
      "  return np.nanmean(a, axis=axis, dtype=dtype)\n"
     ]
    },
    {
     "name": "stdout",
     "output_type": "stream",
     "text": [
      "<xarray.Dataset>\n",
      "Dimensions:  (lat: 901, lon: 1800)\n",
      "Coordinates:\n",
      "    depth    float32 0.0\n",
      "  * lat      (lat) float64 -90.0 -89.8 -89.6 -89.4 -89.2 ... 89.4 89.6 89.8 90.0\n",
      "  * lon      (lon) float64 -180.0 -179.8 -179.6 -179.4 ... 179.4 179.6 179.8\n",
      "Data variables:\n",
      "    so       (lat, lon) float64 nan nan nan nan nan nan ... nan nan nan nan nan\n",
      "    zos      (lat, lon) float64 nan nan nan nan nan nan ... nan nan nan nan nan\n",
      "257 Frozen(SortedKeysDict({'lat': 901, 'lon': 1800, 'time': 14}))\n"
     ]
    },
    {
     "name": "stderr",
     "output_type": "stream",
     "text": [
      "C:\\Users\\gentemann\\Miniconda3\\envs\\satenv\\lib\\site-packages\\xarray\\core\\nanops.py:159: RuntimeWarning: Mean of empty slice\n",
      "  return np.nanmean(a, axis=axis, dtype=dtype)\n"
     ]
    },
    {
     "name": "stdout",
     "output_type": "stream",
     "text": [
      "<xarray.Dataset>\n",
      "Dimensions:  (lat: 901, lon: 1800)\n",
      "Coordinates:\n",
      "    depth    float32 0.0\n",
      "  * lat      (lat) float64 -90.0 -89.8 -89.6 -89.4 -89.2 ... 89.4 89.6 89.8 90.0\n",
      "  * lon      (lon) float64 -180.0 -179.8 -179.6 -179.4 ... 179.4 179.6 179.8\n",
      "Data variables:\n",
      "    so       (lat, lon) float64 nan nan nan nan nan nan ... nan nan nan nan nan\n",
      "    zos      (lat, lon) float64 nan nan nan nan nan nan ... nan nan nan nan nan\n",
      "258 Frozen(SortedKeysDict({'lat': 901, 'lon': 1800, 'time': 15}))\n"
     ]
    },
    {
     "name": "stderr",
     "output_type": "stream",
     "text": [
      "C:\\Users\\gentemann\\Miniconda3\\envs\\satenv\\lib\\site-packages\\xarray\\core\\nanops.py:159: RuntimeWarning: Mean of empty slice\n",
      "  return np.nanmean(a, axis=axis, dtype=dtype)\n"
     ]
    },
    {
     "name": "stdout",
     "output_type": "stream",
     "text": [
      "<xarray.Dataset>\n",
      "Dimensions:  (lat: 901, lon: 1800)\n",
      "Coordinates:\n",
      "    depth    float32 0.0\n",
      "  * lat      (lat) float64 -90.0 -89.8 -89.6 -89.4 -89.2 ... 89.4 89.6 89.8 90.0\n",
      "  * lon      (lon) float64 -180.0 -179.8 -179.6 -179.4 ... 179.4 179.6 179.8\n",
      "Data variables:\n",
      "    so       (lat, lon) float64 nan nan nan nan nan nan ... nan nan nan nan nan\n",
      "    zos      (lat, lon) float64 nan nan nan nan nan nan ... nan nan nan nan nan\n",
      "259 Frozen(SortedKeysDict({'lat': 901, 'lon': 1800, 'time': 16}))\n"
     ]
    },
    {
     "name": "stderr",
     "output_type": "stream",
     "text": [
      "C:\\Users\\gentemann\\Miniconda3\\envs\\satenv\\lib\\site-packages\\xarray\\core\\nanops.py:159: RuntimeWarning: Mean of empty slice\n",
      "  return np.nanmean(a, axis=axis, dtype=dtype)\n"
     ]
    },
    {
     "name": "stdout",
     "output_type": "stream",
     "text": [
      "<xarray.Dataset>\n",
      "Dimensions:  (lat: 901, lon: 1800)\n",
      "Coordinates:\n",
      "    depth    float32 0.0\n",
      "  * lat      (lat) float64 -90.0 -89.8 -89.6 -89.4 -89.2 ... 89.4 89.6 89.8 90.0\n",
      "  * lon      (lon) float64 -180.0 -179.8 -179.6 -179.4 ... 179.4 179.6 179.8\n",
      "Data variables:\n",
      "    so       (lat, lon) float64 nan nan nan nan nan nan ... nan nan nan nan nan\n",
      "    zos      (lat, lon) float64 nan nan nan nan nan nan ... nan nan nan nan nan\n",
      "260 Frozen(SortedKeysDict({'lat': 901, 'lon': 1800, 'time': 17}))\n"
     ]
    },
    {
     "name": "stderr",
     "output_type": "stream",
     "text": [
      "C:\\Users\\gentemann\\Miniconda3\\envs\\satenv\\lib\\site-packages\\xarray\\core\\nanops.py:159: RuntimeWarning: Mean of empty slice\n",
      "  return np.nanmean(a, axis=axis, dtype=dtype)\n"
     ]
    },
    {
     "name": "stdout",
     "output_type": "stream",
     "text": [
      "<xarray.Dataset>\n",
      "Dimensions:  (lat: 901, lon: 1800)\n",
      "Coordinates:\n",
      "    depth    float32 0.0\n",
      "  * lat      (lat) float64 -90.0 -89.8 -89.6 -89.4 -89.2 ... 89.4 89.6 89.8 90.0\n",
      "  * lon      (lon) float64 -180.0 -179.8 -179.6 -179.4 ... 179.4 179.6 179.8\n",
      "Data variables:\n",
      "    so       (lat, lon) float64 nan nan nan nan nan nan ... nan nan nan nan nan\n",
      "    zos      (lat, lon) float64 nan nan nan nan nan nan ... nan nan nan nan nan\n",
      "261 Frozen(SortedKeysDict({'lat': 901, 'lon': 1800, 'time': 18}))\n"
     ]
    },
    {
     "name": "stderr",
     "output_type": "stream",
     "text": [
      "C:\\Users\\gentemann\\Miniconda3\\envs\\satenv\\lib\\site-packages\\xarray\\core\\nanops.py:159: RuntimeWarning: Mean of empty slice\n",
      "  return np.nanmean(a, axis=axis, dtype=dtype)\n"
     ]
    },
    {
     "name": "stdout",
     "output_type": "stream",
     "text": [
      "<xarray.Dataset>\n",
      "Dimensions:  (lat: 901, lon: 1800)\n",
      "Coordinates:\n",
      "    depth    float32 0.0\n",
      "  * lat      (lat) float64 -90.0 -89.8 -89.6 -89.4 -89.2 ... 89.4 89.6 89.8 90.0\n",
      "  * lon      (lon) float64 -180.0 -179.8 -179.6 -179.4 ... 179.4 179.6 179.8\n",
      "Data variables:\n",
      "    so       (lat, lon) float64 nan nan nan nan nan nan ... nan nan nan nan nan\n",
      "    zos      (lat, lon) float64 nan nan nan nan nan nan ... nan nan nan nan nan\n",
      "262 Frozen(SortedKeysDict({'lat': 901, 'lon': 1800, 'time': 19}))\n"
     ]
    },
    {
     "name": "stderr",
     "output_type": "stream",
     "text": [
      "C:\\Users\\gentemann\\Miniconda3\\envs\\satenv\\lib\\site-packages\\xarray\\core\\nanops.py:159: RuntimeWarning: Mean of empty slice\n",
      "  return np.nanmean(a, axis=axis, dtype=dtype)\n"
     ]
    },
    {
     "name": "stdout",
     "output_type": "stream",
     "text": [
      "<xarray.Dataset>\n",
      "Dimensions:  (lat: 901, lon: 1800)\n",
      "Coordinates:\n",
      "    depth    float32 0.0\n",
      "  * lat      (lat) float64 -90.0 -89.8 -89.6 -89.4 -89.2 ... 89.4 89.6 89.8 90.0\n",
      "  * lon      (lon) float64 -180.0 -179.8 -179.6 -179.4 ... 179.4 179.6 179.8\n",
      "Data variables:\n",
      "    so       (lat, lon) float64 nan nan nan nan nan nan ... nan nan nan nan nan\n",
      "    zos      (lat, lon) float64 nan nan nan nan nan nan ... nan nan nan nan nan\n",
      "263 Frozen(SortedKeysDict({'lat': 901, 'lon': 1800, 'time': 20}))\n"
     ]
    },
    {
     "name": "stderr",
     "output_type": "stream",
     "text": [
      "C:\\Users\\gentemann\\Miniconda3\\envs\\satenv\\lib\\site-packages\\xarray\\core\\nanops.py:159: RuntimeWarning: Mean of empty slice\n",
      "  return np.nanmean(a, axis=axis, dtype=dtype)\n"
     ]
    },
    {
     "name": "stdout",
     "output_type": "stream",
     "text": [
      "<xarray.Dataset>\n",
      "Dimensions:  (lat: 901, lon: 1800)\n",
      "Coordinates:\n",
      "    depth    float32 0.0\n",
      "  * lat      (lat) float64 -90.0 -89.8 -89.6 -89.4 -89.2 ... 89.4 89.6 89.8 90.0\n",
      "  * lon      (lon) float64 -180.0 -179.8 -179.6 -179.4 ... 179.4 179.6 179.8\n",
      "Data variables:\n",
      "    so       (lat, lon) float64 nan nan nan nan nan nan ... nan nan nan nan nan\n",
      "    zos      (lat, lon) float64 nan nan nan nan nan nan ... nan nan nan nan nan\n",
      "264 Frozen(SortedKeysDict({'lat': 901, 'lon': 1800, 'time': 21}))\n"
     ]
    },
    {
     "name": "stderr",
     "output_type": "stream",
     "text": [
      "C:\\Users\\gentemann\\Miniconda3\\envs\\satenv\\lib\\site-packages\\xarray\\core\\nanops.py:159: RuntimeWarning: Mean of empty slice\n",
      "  return np.nanmean(a, axis=axis, dtype=dtype)\n"
     ]
    },
    {
     "name": "stdout",
     "output_type": "stream",
     "text": [
      "<xarray.Dataset>\n",
      "Dimensions:  (lat: 901, lon: 1800)\n",
      "Coordinates:\n",
      "    depth    float32 0.0\n",
      "  * lat      (lat) float64 -90.0 -89.8 -89.6 -89.4 -89.2 ... 89.4 89.6 89.8 90.0\n",
      "  * lon      (lon) float64 -180.0 -179.8 -179.6 -179.4 ... 179.4 179.6 179.8\n",
      "Data variables:\n",
      "    so       (lat, lon) float64 nan nan nan nan nan nan ... nan nan nan nan nan\n",
      "    zos      (lat, lon) float64 nan nan nan nan nan nan ... nan nan nan nan nan\n",
      "265 Frozen(SortedKeysDict({'lat': 901, 'lon': 1800, 'time': 22}))\n"
     ]
    },
    {
     "name": "stderr",
     "output_type": "stream",
     "text": [
      "C:\\Users\\gentemann\\Miniconda3\\envs\\satenv\\lib\\site-packages\\xarray\\core\\nanops.py:159: RuntimeWarning: Mean of empty slice\n",
      "  return np.nanmean(a, axis=axis, dtype=dtype)\n"
     ]
    },
    {
     "name": "stdout",
     "output_type": "stream",
     "text": [
      "<xarray.Dataset>\n",
      "Dimensions:  (lat: 901, lon: 1800)\n",
      "Coordinates:\n",
      "    depth    float32 0.0\n",
      "  * lat      (lat) float64 -90.0 -89.8 -89.6 -89.4 -89.2 ... 89.4 89.6 89.8 90.0\n",
      "  * lon      (lon) float64 -180.0 -179.8 -179.6 -179.4 ... 179.4 179.6 179.8\n",
      "Data variables:\n",
      "    so       (lat, lon) float64 nan nan nan nan nan nan ... nan nan nan nan nan\n",
      "    zos      (lat, lon) float64 nan nan nan nan nan nan ... nan nan nan nan nan\n",
      "266 Frozen(SortedKeysDict({'lat': 901, 'lon': 1800, 'time': 23}))\n"
     ]
    },
    {
     "name": "stderr",
     "output_type": "stream",
     "text": [
      "C:\\Users\\gentemann\\Miniconda3\\envs\\satenv\\lib\\site-packages\\xarray\\core\\nanops.py:159: RuntimeWarning: Mean of empty slice\n",
      "  return np.nanmean(a, axis=axis, dtype=dtype)\n"
     ]
    },
    {
     "name": "stdout",
     "output_type": "stream",
     "text": [
      "<xarray.Dataset>\n",
      "Dimensions:  (lat: 901, lon: 1800)\n",
      "Coordinates:\n",
      "    depth    float32 0.0\n",
      "  * lat      (lat) float64 -90.0 -89.8 -89.6 -89.4 -89.2 ... 89.4 89.6 89.8 90.0\n",
      "  * lon      (lon) float64 -180.0 -179.8 -179.6 -179.4 ... 179.4 179.6 179.8\n",
      "Data variables:\n",
      "    so       (lat, lon) float64 nan nan nan nan nan nan ... nan nan nan nan nan\n",
      "    zos      (lat, lon) float64 nan nan nan nan nan nan ... nan nan nan nan nan\n",
      "267 Frozen(SortedKeysDict({'lat': 901, 'lon': 1800, 'time': 24}))\n"
     ]
    },
    {
     "name": "stderr",
     "output_type": "stream",
     "text": [
      "C:\\Users\\gentemann\\Miniconda3\\envs\\satenv\\lib\\site-packages\\xarray\\core\\nanops.py:159: RuntimeWarning: Mean of empty slice\n",
      "  return np.nanmean(a, axis=axis, dtype=dtype)\n"
     ]
    },
    {
     "name": "stdout",
     "output_type": "stream",
     "text": [
      "<xarray.Dataset>\n",
      "Dimensions:  (lat: 901, lon: 1800)\n",
      "Coordinates:\n",
      "    depth    float32 0.0\n",
      "  * lat      (lat) float64 -90.0 -89.8 -89.6 -89.4 -89.2 ... 89.4 89.6 89.8 90.0\n",
      "  * lon      (lon) float64 -180.0 -179.8 -179.6 -179.4 ... 179.4 179.6 179.8\n",
      "Data variables:\n",
      "    so       (lat, lon) float64 nan nan nan nan nan nan ... nan nan nan nan nan\n",
      "    zos      (lat, lon) float64 nan nan nan nan nan nan ... nan nan nan nan nan\n",
      "268 Frozen(SortedKeysDict({'lat': 901, 'lon': 1800, 'time': 25}))\n"
     ]
    },
    {
     "name": "stderr",
     "output_type": "stream",
     "text": [
      "C:\\Users\\gentemann\\Miniconda3\\envs\\satenv\\lib\\site-packages\\xarray\\core\\nanops.py:159: RuntimeWarning: Mean of empty slice\n",
      "  return np.nanmean(a, axis=axis, dtype=dtype)\n"
     ]
    },
    {
     "name": "stdout",
     "output_type": "stream",
     "text": [
      "<xarray.Dataset>\n",
      "Dimensions:  (lat: 901, lon: 1800)\n",
      "Coordinates:\n",
      "    depth    float32 0.0\n",
      "  * lat      (lat) float64 -90.0 -89.8 -89.6 -89.4 -89.2 ... 89.4 89.6 89.8 90.0\n",
      "  * lon      (lon) float64 -180.0 -179.8 -179.6 -179.4 ... 179.4 179.6 179.8\n",
      "Data variables:\n",
      "    so       (lat, lon) float64 nan nan nan nan nan nan ... nan nan nan nan nan\n",
      "    zos      (lat, lon) float64 nan nan nan nan nan nan ... nan nan nan nan nan\n",
      "269 Frozen(SortedKeysDict({'lat': 901, 'lon': 1800, 'time': 26}))\n"
     ]
    },
    {
     "name": "stderr",
     "output_type": "stream",
     "text": [
      "C:\\Users\\gentemann\\Miniconda3\\envs\\satenv\\lib\\site-packages\\xarray\\core\\nanops.py:159: RuntimeWarning: Mean of empty slice\n",
      "  return np.nanmean(a, axis=axis, dtype=dtype)\n"
     ]
    },
    {
     "name": "stdout",
     "output_type": "stream",
     "text": [
      "<xarray.Dataset>\n",
      "Dimensions:  (lat: 901, lon: 1800)\n",
      "Coordinates:\n",
      "    depth    float32 0.0\n",
      "  * lat      (lat) float64 -90.0 -89.8 -89.6 -89.4 -89.2 ... 89.4 89.6 89.8 90.0\n",
      "  * lon      (lon) float64 -180.0 -179.8 -179.6 -179.4 ... 179.4 179.6 179.8\n",
      "Data variables:\n",
      "    so       (lat, lon) float64 nan nan nan nan nan nan ... nan nan nan nan nan\n",
      "    zos      (lat, lon) float64 nan nan nan nan nan nan ... nan nan nan nan nan\n",
      "270 Frozen(SortedKeysDict({'lat': 901, 'lon': 1800, 'time': 27}))\n"
     ]
    },
    {
     "name": "stderr",
     "output_type": "stream",
     "text": [
      "C:\\Users\\gentemann\\Miniconda3\\envs\\satenv\\lib\\site-packages\\xarray\\core\\nanops.py:159: RuntimeWarning: Mean of empty slice\n",
      "  return np.nanmean(a, axis=axis, dtype=dtype)\n"
     ]
    },
    {
     "name": "stdout",
     "output_type": "stream",
     "text": [
      "<xarray.Dataset>\n",
      "Dimensions:  (lat: 901, lon: 1800)\n",
      "Coordinates:\n",
      "    depth    float32 0.0\n",
      "  * lat      (lat) float64 -90.0 -89.8 -89.6 -89.4 -89.2 ... 89.4 89.6 89.8 90.0\n",
      "  * lon      (lon) float64 -180.0 -179.8 -179.6 -179.4 ... 179.4 179.6 179.8\n",
      "Data variables:\n",
      "    so       (lat, lon) float64 nan nan nan nan nan nan ... nan nan nan nan nan\n",
      "    zos      (lat, lon) float64 nan nan nan nan nan nan ... nan nan nan nan nan\n",
      "271 Frozen(SortedKeysDict({'lat': 901, 'lon': 1800, 'time': 28}))\n"
     ]
    },
    {
     "name": "stderr",
     "output_type": "stream",
     "text": [
      "C:\\Users\\gentemann\\Miniconda3\\envs\\satenv\\lib\\site-packages\\xarray\\core\\nanops.py:159: RuntimeWarning: Mean of empty slice\n",
      "  return np.nanmean(a, axis=axis, dtype=dtype)\n"
     ]
    },
    {
     "name": "stdout",
     "output_type": "stream",
     "text": [
      "<xarray.Dataset>\n",
      "Dimensions:  (lat: 901, lon: 1800)\n",
      "Coordinates:\n",
      "    depth    float32 0.0\n",
      "  * lat      (lat) float64 -90.0 -89.8 -89.6 -89.4 -89.2 ... 89.4 89.6 89.8 90.0\n",
      "  * lon      (lon) float64 -180.0 -179.8 -179.6 -179.4 ... 179.4 179.6 179.8\n",
      "Data variables:\n",
      "    so       (lat, lon) float64 nan nan nan nan nan nan ... nan nan nan nan nan\n",
      "    zos      (lat, lon) float64 nan nan nan nan nan nan ... nan nan nan nan nan\n",
      "272 Frozen(SortedKeysDict({'lat': 901, 'lon': 1800, 'time': 29}))\n"
     ]
    },
    {
     "name": "stderr",
     "output_type": "stream",
     "text": [
      "C:\\Users\\gentemann\\Miniconda3\\envs\\satenv\\lib\\site-packages\\xarray\\core\\nanops.py:159: RuntimeWarning: Mean of empty slice\n",
      "  return np.nanmean(a, axis=axis, dtype=dtype)\n"
     ]
    },
    {
     "name": "stdout",
     "output_type": "stream",
     "text": [
      "<xarray.Dataset>\n",
      "Dimensions:  (lat: 901, lon: 1800)\n",
      "Coordinates:\n",
      "    depth    float32 0.0\n",
      "  * lat      (lat) float64 -90.0 -89.8 -89.6 -89.4 -89.2 ... 89.4 89.6 89.8 90.0\n",
      "  * lon      (lon) float64 -180.0 -179.8 -179.6 -179.4 ... 179.4 179.6 179.8\n",
      "Data variables:\n",
      "    so       (lat, lon) float64 nan nan nan nan nan nan ... nan nan nan nan nan\n",
      "    zos      (lat, lon) float64 nan nan nan nan nan nan ... nan nan nan nan nan\n",
      "273 Frozen(SortedKeysDict({'lat': 901, 'lon': 1800, 'time': 30}))\n"
     ]
    },
    {
     "name": "stderr",
     "output_type": "stream",
     "text": [
      "C:\\Users\\gentemann\\Miniconda3\\envs\\satenv\\lib\\site-packages\\xarray\\core\\nanops.py:159: RuntimeWarning: Mean of empty slice\n",
      "  return np.nanmean(a, axis=axis, dtype=dtype)\n"
     ]
    },
    {
     "name": "stdout",
     "output_type": "stream",
     "text": [
      "out: F:/data/model_data/CMEM/global-analysis-forecast-phys_001_015/monthly/subset_metoffice_coupled_orca025_GL4_SAL_b201809_dm20180208.nc\n",
      "<xarray.Dataset>\n",
      "Dimensions:  (lat: 901, lon: 1800)\n",
      "Coordinates:\n",
      "    depth    float32 0.0\n",
      "  * lat      (lat) float64 -90.0 -89.8 -89.6 -89.4 -89.2 ... 89.4 89.6 89.8 90.0\n",
      "  * lon      (lon) float64 -180.0 -179.8 -179.6 -179.4 ... 179.4 179.6 179.8\n",
      "Data variables:\n",
      "    so       (lat, lon) float64 nan nan nan nan nan nan ... nan nan nan nan nan\n",
      "    zos      (lat, lon) float64 nan nan nan nan nan nan ... nan nan nan nan nan\n",
      "274 Frozen(SortedKeysDict({'lat': 901, 'lon': 1800}))\n",
      "<xarray.Dataset>\n",
      "Dimensions:  (lat: 901, lon: 1800)\n",
      "Coordinates:\n",
      "    depth    float32 0.0\n",
      "  * lat      (lat) float64 -90.0 -89.8 -89.6 -89.4 -89.2 ... 89.4 89.6 89.8 90.0\n",
      "  * lon      (lon) float64 -180.0 -179.8 -179.6 -179.4 ... 179.4 179.6 179.8\n",
      "Data variables:\n",
      "    so       (lat, lon) float64 nan nan nan nan nan nan ... nan nan nan nan nan\n",
      "    zos      (lat, lon) float64 nan nan nan nan nan nan ... nan nan nan nan nan\n",
      "275 Frozen(SortedKeysDict({'lat': 901, 'lon': 1800, 'time': 2}))\n"
     ]
    },
    {
     "name": "stderr",
     "output_type": "stream",
     "text": [
      "C:\\Users\\gentemann\\Miniconda3\\envs\\satenv\\lib\\site-packages\\xarray\\core\\nanops.py:159: RuntimeWarning: Mean of empty slice\n",
      "  return np.nanmean(a, axis=axis, dtype=dtype)\n"
     ]
    },
    {
     "name": "stdout",
     "output_type": "stream",
     "text": [
      "<xarray.Dataset>\n",
      "Dimensions:  (lat: 901, lon: 1800)\n",
      "Coordinates:\n",
      "    depth    float32 0.0\n",
      "  * lat      (lat) float64 -90.0 -89.8 -89.6 -89.4 -89.2 ... 89.4 89.6 89.8 90.0\n",
      "  * lon      (lon) float64 -180.0 -179.8 -179.6 -179.4 ... 179.4 179.6 179.8\n",
      "Data variables:\n",
      "    so       (lat, lon) float64 nan nan nan nan nan nan ... nan nan nan nan nan\n",
      "    zos      (lat, lon) float64 nan nan nan nan nan nan ... nan nan nan nan nan\n",
      "276 Frozen(SortedKeysDict({'lat': 901, 'lon': 1800, 'time': 3}))\n"
     ]
    },
    {
     "name": "stderr",
     "output_type": "stream",
     "text": [
      "C:\\Users\\gentemann\\Miniconda3\\envs\\satenv\\lib\\site-packages\\xarray\\core\\nanops.py:159: RuntimeWarning: Mean of empty slice\n",
      "  return np.nanmean(a, axis=axis, dtype=dtype)\n"
     ]
    },
    {
     "name": "stdout",
     "output_type": "stream",
     "text": [
      "<xarray.Dataset>\n",
      "Dimensions:  (lat: 901, lon: 1800)\n",
      "Coordinates:\n",
      "    depth    float32 0.0\n",
      "  * lat      (lat) float64 -90.0 -89.8 -89.6 -89.4 -89.2 ... 89.4 89.6 89.8 90.0\n",
      "  * lon      (lon) float64 -180.0 -179.8 -179.6 -179.4 ... 179.4 179.6 179.8\n",
      "Data variables:\n",
      "    so       (lat, lon) float64 nan nan nan nan nan nan ... nan nan nan nan nan\n",
      "    zos      (lat, lon) float64 nan nan nan nan nan nan ... nan nan nan nan nan\n",
      "277 Frozen(SortedKeysDict({'lat': 901, 'lon': 1800, 'time': 4}))\n"
     ]
    },
    {
     "name": "stderr",
     "output_type": "stream",
     "text": [
      "C:\\Users\\gentemann\\Miniconda3\\envs\\satenv\\lib\\site-packages\\xarray\\core\\nanops.py:159: RuntimeWarning: Mean of empty slice\n",
      "  return np.nanmean(a, axis=axis, dtype=dtype)\n"
     ]
    },
    {
     "name": "stdout",
     "output_type": "stream",
     "text": [
      "<xarray.Dataset>\n",
      "Dimensions:  (lat: 901, lon: 1800)\n",
      "Coordinates:\n",
      "    depth    float32 0.0\n",
      "  * lat      (lat) float64 -90.0 -89.8 -89.6 -89.4 -89.2 ... 89.4 89.6 89.8 90.0\n",
      "  * lon      (lon) float64 -180.0 -179.8 -179.6 -179.4 ... 179.4 179.6 179.8\n",
      "Data variables:\n",
      "    so       (lat, lon) float64 nan nan nan nan nan nan ... nan nan nan nan nan\n",
      "    zos      (lat, lon) float64 nan nan nan nan nan nan ... nan nan nan nan nan\n",
      "278 Frozen(SortedKeysDict({'lat': 901, 'lon': 1800, 'time': 5}))\n"
     ]
    },
    {
     "name": "stderr",
     "output_type": "stream",
     "text": [
      "C:\\Users\\gentemann\\Miniconda3\\envs\\satenv\\lib\\site-packages\\xarray\\core\\nanops.py:159: RuntimeWarning: Mean of empty slice\n",
      "  return np.nanmean(a, axis=axis, dtype=dtype)\n"
     ]
    },
    {
     "name": "stdout",
     "output_type": "stream",
     "text": [
      "<xarray.Dataset>\n",
      "Dimensions:  (lat: 901, lon: 1800)\n",
      "Coordinates:\n",
      "    depth    float32 0.0\n",
      "  * lat      (lat) float64 -90.0 -89.8 -89.6 -89.4 -89.2 ... 89.4 89.6 89.8 90.0\n",
      "  * lon      (lon) float64 -180.0 -179.8 -179.6 -179.4 ... 179.4 179.6 179.8\n",
      "Data variables:\n",
      "    so       (lat, lon) float64 nan nan nan nan nan nan ... nan nan nan nan nan\n",
      "    zos      (lat, lon) float64 nan nan nan nan nan nan ... nan nan nan nan nan\n",
      "279 Frozen(SortedKeysDict({'lat': 901, 'lon': 1800, 'time': 6}))\n"
     ]
    },
    {
     "name": "stderr",
     "output_type": "stream",
     "text": [
      "C:\\Users\\gentemann\\Miniconda3\\envs\\satenv\\lib\\site-packages\\xarray\\core\\nanops.py:159: RuntimeWarning: Mean of empty slice\n",
      "  return np.nanmean(a, axis=axis, dtype=dtype)\n"
     ]
    },
    {
     "name": "stdout",
     "output_type": "stream",
     "text": [
      "<xarray.Dataset>\n",
      "Dimensions:  (lat: 901, lon: 1800)\n",
      "Coordinates:\n",
      "    depth    float32 0.0\n",
      "  * lat      (lat) float64 -90.0 -89.8 -89.6 -89.4 -89.2 ... 89.4 89.6 89.8 90.0\n",
      "  * lon      (lon) float64 -180.0 -179.8 -179.6 -179.4 ... 179.4 179.6 179.8\n",
      "Data variables:\n",
      "    so       (lat, lon) float64 nan nan nan nan nan nan ... nan nan nan nan nan\n",
      "    zos      (lat, lon) float64 nan nan nan nan nan nan ... nan nan nan nan nan\n",
      "280 Frozen(SortedKeysDict({'lat': 901, 'lon': 1800, 'time': 7}))\n"
     ]
    },
    {
     "name": "stderr",
     "output_type": "stream",
     "text": [
      "C:\\Users\\gentemann\\Miniconda3\\envs\\satenv\\lib\\site-packages\\xarray\\core\\nanops.py:159: RuntimeWarning: Mean of empty slice\n",
      "  return np.nanmean(a, axis=axis, dtype=dtype)\n"
     ]
    },
    {
     "name": "stdout",
     "output_type": "stream",
     "text": [
      "<xarray.Dataset>\n",
      "Dimensions:  (lat: 901, lon: 1800)\n",
      "Coordinates:\n",
      "    depth    float32 0.0\n",
      "  * lat      (lat) float64 -90.0 -89.8 -89.6 -89.4 -89.2 ... 89.4 89.6 89.8 90.0\n",
      "  * lon      (lon) float64 -180.0 -179.8 -179.6 -179.4 ... 179.4 179.6 179.8\n",
      "Data variables:\n",
      "    so       (lat, lon) float64 nan nan nan nan nan nan ... nan nan nan nan nan\n",
      "    zos      (lat, lon) float64 nan nan nan nan nan nan ... nan nan nan nan nan\n",
      "281 Frozen(SortedKeysDict({'lat': 901, 'lon': 1800, 'time': 8}))\n"
     ]
    },
    {
     "name": "stderr",
     "output_type": "stream",
     "text": [
      "C:\\Users\\gentemann\\Miniconda3\\envs\\satenv\\lib\\site-packages\\xarray\\core\\nanops.py:159: RuntimeWarning: Mean of empty slice\n",
      "  return np.nanmean(a, axis=axis, dtype=dtype)\n"
     ]
    },
    {
     "name": "stdout",
     "output_type": "stream",
     "text": [
      "<xarray.Dataset>\n",
      "Dimensions:  (lat: 901, lon: 1800)\n",
      "Coordinates:\n",
      "    depth    float32 0.0\n",
      "  * lat      (lat) float64 -90.0 -89.8 -89.6 -89.4 -89.2 ... 89.4 89.6 89.8 90.0\n",
      "  * lon      (lon) float64 -180.0 -179.8 -179.6 -179.4 ... 179.4 179.6 179.8\n",
      "Data variables:\n",
      "    so       (lat, lon) float64 nan nan nan nan nan nan ... nan nan nan nan nan\n",
      "    zos      (lat, lon) float64 nan nan nan nan nan nan ... nan nan nan nan nan\n",
      "282 Frozen(SortedKeysDict({'lat': 901, 'lon': 1800, 'time': 9}))\n"
     ]
    },
    {
     "name": "stderr",
     "output_type": "stream",
     "text": [
      "C:\\Users\\gentemann\\Miniconda3\\envs\\satenv\\lib\\site-packages\\xarray\\core\\nanops.py:159: RuntimeWarning: Mean of empty slice\n",
      "  return np.nanmean(a, axis=axis, dtype=dtype)\n"
     ]
    },
    {
     "name": "stdout",
     "output_type": "stream",
     "text": [
      "<xarray.Dataset>\n",
      "Dimensions:  (lat: 901, lon: 1800)\n",
      "Coordinates:\n",
      "    depth    float32 0.0\n",
      "  * lat      (lat) float64 -90.0 -89.8 -89.6 -89.4 -89.2 ... 89.4 89.6 89.8 90.0\n",
      "  * lon      (lon) float64 -180.0 -179.8 -179.6 -179.4 ... 179.4 179.6 179.8\n",
      "Data variables:\n",
      "    so       (lat, lon) float64 nan nan nan nan nan nan ... nan nan nan nan nan\n",
      "    zos      (lat, lon) float64 nan nan nan nan nan nan ... nan nan nan nan nan\n",
      "283 Frozen(SortedKeysDict({'lat': 901, 'lon': 1800, 'time': 10}))\n"
     ]
    },
    {
     "name": "stderr",
     "output_type": "stream",
     "text": [
      "C:\\Users\\gentemann\\Miniconda3\\envs\\satenv\\lib\\site-packages\\xarray\\core\\nanops.py:159: RuntimeWarning: Mean of empty slice\n",
      "  return np.nanmean(a, axis=axis, dtype=dtype)\n"
     ]
    },
    {
     "name": "stdout",
     "output_type": "stream",
     "text": [
      "<xarray.Dataset>\n",
      "Dimensions:  (lat: 901, lon: 1800)\n",
      "Coordinates:\n",
      "    depth    float32 0.0\n",
      "  * lat      (lat) float64 -90.0 -89.8 -89.6 -89.4 -89.2 ... 89.4 89.6 89.8 90.0\n",
      "  * lon      (lon) float64 -180.0 -179.8 -179.6 -179.4 ... 179.4 179.6 179.8\n",
      "Data variables:\n",
      "    so       (lat, lon) float64 nan nan nan nan nan nan ... nan nan nan nan nan\n",
      "    zos      (lat, lon) float64 nan nan nan nan nan nan ... nan nan nan nan nan\n",
      "284 Frozen(SortedKeysDict({'lat': 901, 'lon': 1800, 'time': 11}))\n"
     ]
    },
    {
     "name": "stderr",
     "output_type": "stream",
     "text": [
      "C:\\Users\\gentemann\\Miniconda3\\envs\\satenv\\lib\\site-packages\\xarray\\core\\nanops.py:159: RuntimeWarning: Mean of empty slice\n",
      "  return np.nanmean(a, axis=axis, dtype=dtype)\n"
     ]
    },
    {
     "name": "stdout",
     "output_type": "stream",
     "text": [
      "<xarray.Dataset>\n",
      "Dimensions:  (lat: 901, lon: 1800)\n",
      "Coordinates:\n",
      "    depth    float32 0.0\n",
      "  * lat      (lat) float64 -90.0 -89.8 -89.6 -89.4 -89.2 ... 89.4 89.6 89.8 90.0\n",
      "  * lon      (lon) float64 -180.0 -179.8 -179.6 -179.4 ... 179.4 179.6 179.8\n",
      "Data variables:\n",
      "    so       (lat, lon) float64 nan nan nan nan nan nan ... nan nan nan nan nan\n",
      "    zos      (lat, lon) float64 nan nan nan nan nan nan ... nan nan nan nan nan\n",
      "285 Frozen(SortedKeysDict({'lat': 901, 'lon': 1800, 'time': 12}))\n"
     ]
    },
    {
     "name": "stderr",
     "output_type": "stream",
     "text": [
      "C:\\Users\\gentemann\\Miniconda3\\envs\\satenv\\lib\\site-packages\\xarray\\core\\nanops.py:159: RuntimeWarning: Mean of empty slice\n",
      "  return np.nanmean(a, axis=axis, dtype=dtype)\n"
     ]
    },
    {
     "name": "stdout",
     "output_type": "stream",
     "text": [
      "<xarray.Dataset>\n",
      "Dimensions:  (lat: 901, lon: 1800)\n",
      "Coordinates:\n",
      "    depth    float32 0.0\n",
      "  * lat      (lat) float64 -90.0 -89.8 -89.6 -89.4 -89.2 ... 89.4 89.6 89.8 90.0\n",
      "  * lon      (lon) float64 -180.0 -179.8 -179.6 -179.4 ... 179.4 179.6 179.8\n",
      "Data variables:\n",
      "    so       (lat, lon) float64 nan nan nan nan nan nan ... nan nan nan nan nan\n",
      "    zos      (lat, lon) float64 nan nan nan nan nan nan ... nan nan nan nan nan\n",
      "286 Frozen(SortedKeysDict({'lat': 901, 'lon': 1800, 'time': 13}))\n"
     ]
    },
    {
     "name": "stderr",
     "output_type": "stream",
     "text": [
      "C:\\Users\\gentemann\\Miniconda3\\envs\\satenv\\lib\\site-packages\\xarray\\core\\nanops.py:159: RuntimeWarning: Mean of empty slice\n",
      "  return np.nanmean(a, axis=axis, dtype=dtype)\n"
     ]
    },
    {
     "name": "stdout",
     "output_type": "stream",
     "text": [
      "<xarray.Dataset>\n",
      "Dimensions:  (lat: 901, lon: 1800)\n",
      "Coordinates:\n",
      "    depth    float32 0.0\n",
      "  * lat      (lat) float64 -90.0 -89.8 -89.6 -89.4 -89.2 ... 89.4 89.6 89.8 90.0\n",
      "  * lon      (lon) float64 -180.0 -179.8 -179.6 -179.4 ... 179.4 179.6 179.8\n",
      "Data variables:\n",
      "    so       (lat, lon) float64 nan nan nan nan nan nan ... nan nan nan nan nan\n",
      "    zos      (lat, lon) float64 nan nan nan nan nan nan ... nan nan nan nan nan\n",
      "287 Frozen(SortedKeysDict({'lat': 901, 'lon': 1800, 'time': 14}))\n"
     ]
    },
    {
     "name": "stderr",
     "output_type": "stream",
     "text": [
      "C:\\Users\\gentemann\\Miniconda3\\envs\\satenv\\lib\\site-packages\\xarray\\core\\nanops.py:159: RuntimeWarning: Mean of empty slice\n",
      "  return np.nanmean(a, axis=axis, dtype=dtype)\n"
     ]
    },
    {
     "name": "stdout",
     "output_type": "stream",
     "text": [
      "<xarray.Dataset>\n",
      "Dimensions:  (lat: 901, lon: 1800)\n",
      "Coordinates:\n",
      "    depth    float32 0.0\n",
      "  * lat      (lat) float64 -90.0 -89.8 -89.6 -89.4 -89.2 ... 89.4 89.6 89.8 90.0\n",
      "  * lon      (lon) float64 -180.0 -179.8 -179.6 -179.4 ... 179.4 179.6 179.8\n",
      "Data variables:\n",
      "    so       (lat, lon) float64 nan nan nan nan nan nan ... nan nan nan nan nan\n",
      "    zos      (lat, lon) float64 nan nan nan nan nan nan ... nan nan nan nan nan\n",
      "288 Frozen(SortedKeysDict({'lat': 901, 'lon': 1800, 'time': 15}))\n"
     ]
    },
    {
     "name": "stderr",
     "output_type": "stream",
     "text": [
      "C:\\Users\\gentemann\\Miniconda3\\envs\\satenv\\lib\\site-packages\\xarray\\core\\nanops.py:159: RuntimeWarning: Mean of empty slice\n",
      "  return np.nanmean(a, axis=axis, dtype=dtype)\n"
     ]
    },
    {
     "name": "stdout",
     "output_type": "stream",
     "text": [
      "<xarray.Dataset>\n",
      "Dimensions:  (lat: 901, lon: 1800)\n",
      "Coordinates:\n",
      "    depth    float32 0.0\n",
      "  * lat      (lat) float64 -90.0 -89.8 -89.6 -89.4 -89.2 ... 89.4 89.6 89.8 90.0\n",
      "  * lon      (lon) float64 -180.0 -179.8 -179.6 -179.4 ... 179.4 179.6 179.8\n",
      "Data variables:\n",
      "    so       (lat, lon) float64 nan nan nan nan nan nan ... nan nan nan nan nan\n",
      "    zos      (lat, lon) float64 nan nan nan nan nan nan ... nan nan nan nan nan\n",
      "289 Frozen(SortedKeysDict({'lat': 901, 'lon': 1800, 'time': 16}))\n"
     ]
    },
    {
     "name": "stderr",
     "output_type": "stream",
     "text": [
      "C:\\Users\\gentemann\\Miniconda3\\envs\\satenv\\lib\\site-packages\\xarray\\core\\nanops.py:159: RuntimeWarning: Mean of empty slice\n",
      "  return np.nanmean(a, axis=axis, dtype=dtype)\n"
     ]
    },
    {
     "name": "stdout",
     "output_type": "stream",
     "text": [
      "<xarray.Dataset>\n",
      "Dimensions:  (lat: 901, lon: 1800)\n",
      "Coordinates:\n",
      "    depth    float32 0.0\n",
      "  * lat      (lat) float64 -90.0 -89.8 -89.6 -89.4 -89.2 ... 89.4 89.6 89.8 90.0\n",
      "  * lon      (lon) float64 -180.0 -179.8 -179.6 -179.4 ... 179.4 179.6 179.8\n",
      "Data variables:\n",
      "    so       (lat, lon) float64 nan nan nan nan nan nan ... nan nan nan nan nan\n",
      "    zos      (lat, lon) float64 nan nan nan nan nan nan ... nan nan nan nan nan\n",
      "290 Frozen(SortedKeysDict({'lat': 901, 'lon': 1800, 'time': 17}))\n"
     ]
    },
    {
     "name": "stderr",
     "output_type": "stream",
     "text": [
      "C:\\Users\\gentemann\\Miniconda3\\envs\\satenv\\lib\\site-packages\\xarray\\core\\nanops.py:159: RuntimeWarning: Mean of empty slice\n",
      "  return np.nanmean(a, axis=axis, dtype=dtype)\n"
     ]
    },
    {
     "name": "stdout",
     "output_type": "stream",
     "text": [
      "<xarray.Dataset>\n",
      "Dimensions:  (lat: 901, lon: 1800)\n",
      "Coordinates:\n",
      "    depth    float32 0.0\n",
      "  * lat      (lat) float64 -90.0 -89.8 -89.6 -89.4 -89.2 ... 89.4 89.6 89.8 90.0\n",
      "  * lon      (lon) float64 -180.0 -179.8 -179.6 -179.4 ... 179.4 179.6 179.8\n",
      "Data variables:\n",
      "    so       (lat, lon) float64 nan nan nan nan nan nan ... nan nan nan nan nan\n",
      "    zos      (lat, lon) float64 nan nan nan nan nan nan ... nan nan nan nan nan\n",
      "291 Frozen(SortedKeysDict({'lat': 901, 'lon': 1800, 'time': 18}))\n"
     ]
    },
    {
     "name": "stderr",
     "output_type": "stream",
     "text": [
      "C:\\Users\\gentemann\\Miniconda3\\envs\\satenv\\lib\\site-packages\\xarray\\core\\nanops.py:159: RuntimeWarning: Mean of empty slice\n",
      "  return np.nanmean(a, axis=axis, dtype=dtype)\n"
     ]
    },
    {
     "name": "stdout",
     "output_type": "stream",
     "text": [
      "<xarray.Dataset>\n",
      "Dimensions:  (lat: 901, lon: 1800)\n",
      "Coordinates:\n",
      "    depth    float32 0.0\n",
      "  * lat      (lat) float64 -90.0 -89.8 -89.6 -89.4 -89.2 ... 89.4 89.6 89.8 90.0\n",
      "  * lon      (lon) float64 -180.0 -179.8 -179.6 -179.4 ... 179.4 179.6 179.8\n",
      "Data variables:\n",
      "    so       (lat, lon) float64 nan nan nan nan nan nan ... nan nan nan nan nan\n",
      "    zos      (lat, lon) float64 nan nan nan nan nan nan ... nan nan nan nan nan\n",
      "292 Frozen(SortedKeysDict({'lat': 901, 'lon': 1800, 'time': 19}))\n"
     ]
    },
    {
     "name": "stderr",
     "output_type": "stream",
     "text": [
      "C:\\Users\\gentemann\\Miniconda3\\envs\\satenv\\lib\\site-packages\\xarray\\core\\nanops.py:159: RuntimeWarning: Mean of empty slice\n",
      "  return np.nanmean(a, axis=axis, dtype=dtype)\n"
     ]
    },
    {
     "name": "stdout",
     "output_type": "stream",
     "text": [
      "<xarray.Dataset>\n",
      "Dimensions:  (lat: 901, lon: 1800)\n",
      "Coordinates:\n",
      "    depth    float32 0.0\n",
      "  * lat      (lat) float64 -90.0 -89.8 -89.6 -89.4 -89.2 ... 89.4 89.6 89.8 90.0\n",
      "  * lon      (lon) float64 -180.0 -179.8 -179.6 -179.4 ... 179.4 179.6 179.8\n",
      "Data variables:\n",
      "    so       (lat, lon) float64 nan nan nan nan nan nan ... nan nan nan nan nan\n",
      "    zos      (lat, lon) float64 nan nan nan nan nan nan ... nan nan nan nan nan\n",
      "293 Frozen(SortedKeysDict({'lat': 901, 'lon': 1800, 'time': 20}))\n"
     ]
    },
    {
     "name": "stderr",
     "output_type": "stream",
     "text": [
      "C:\\Users\\gentemann\\Miniconda3\\envs\\satenv\\lib\\site-packages\\xarray\\core\\nanops.py:159: RuntimeWarning: Mean of empty slice\n",
      "  return np.nanmean(a, axis=axis, dtype=dtype)\n"
     ]
    },
    {
     "name": "stdout",
     "output_type": "stream",
     "text": [
      "<xarray.Dataset>\n",
      "Dimensions:  (lat: 901, lon: 1800)\n",
      "Coordinates:\n",
      "    depth    float32 0.0\n",
      "  * lat      (lat) float64 -90.0 -89.8 -89.6 -89.4 -89.2 ... 89.4 89.6 89.8 90.0\n",
      "  * lon      (lon) float64 -180.0 -179.8 -179.6 -179.4 ... 179.4 179.6 179.8\n",
      "Data variables:\n",
      "    so       (lat, lon) float64 nan nan nan nan nan nan ... nan nan nan nan nan\n",
      "    zos      (lat, lon) float64 nan nan nan nan nan nan ... nan nan nan nan nan\n",
      "294 Frozen(SortedKeysDict({'lat': 901, 'lon': 1800, 'time': 21}))\n"
     ]
    },
    {
     "name": "stderr",
     "output_type": "stream",
     "text": [
      "C:\\Users\\gentemann\\Miniconda3\\envs\\satenv\\lib\\site-packages\\xarray\\core\\nanops.py:159: RuntimeWarning: Mean of empty slice\n",
      "  return np.nanmean(a, axis=axis, dtype=dtype)\n"
     ]
    },
    {
     "name": "stdout",
     "output_type": "stream",
     "text": [
      "<xarray.Dataset>\n",
      "Dimensions:  (lat: 901, lon: 1800)\n",
      "Coordinates:\n",
      "    depth    float32 0.0\n",
      "  * lat      (lat) float64 -90.0 -89.8 -89.6 -89.4 -89.2 ... 89.4 89.6 89.8 90.0\n",
      "  * lon      (lon) float64 -180.0 -179.8 -179.6 -179.4 ... 179.4 179.6 179.8\n",
      "Data variables:\n",
      "    so       (lat, lon) float64 nan nan nan nan nan nan ... nan nan nan nan nan\n",
      "    zos      (lat, lon) float64 nan nan nan nan nan nan ... nan nan nan nan nan\n",
      "295 Frozen(SortedKeysDict({'lat': 901, 'lon': 1800, 'time': 22}))\n"
     ]
    },
    {
     "name": "stderr",
     "output_type": "stream",
     "text": [
      "C:\\Users\\gentemann\\Miniconda3\\envs\\satenv\\lib\\site-packages\\xarray\\core\\nanops.py:159: RuntimeWarning: Mean of empty slice\n",
      "  return np.nanmean(a, axis=axis, dtype=dtype)\n"
     ]
    },
    {
     "name": "stdout",
     "output_type": "stream",
     "text": [
      "<xarray.Dataset>\n",
      "Dimensions:  (lat: 901, lon: 1800)\n",
      "Coordinates:\n",
      "    depth    float32 0.0\n",
      "  * lat      (lat) float64 -90.0 -89.8 -89.6 -89.4 -89.2 ... 89.4 89.6 89.8 90.0\n",
      "  * lon      (lon) float64 -180.0 -179.8 -179.6 -179.4 ... 179.4 179.6 179.8\n",
      "Data variables:\n",
      "    so       (lat, lon) float64 nan nan nan nan nan nan ... nan nan nan nan nan\n",
      "    zos      (lat, lon) float64 nan nan nan nan nan nan ... nan nan nan nan nan\n",
      "296 Frozen(SortedKeysDict({'lat': 901, 'lon': 1800, 'time': 23}))\n"
     ]
    },
    {
     "name": "stderr",
     "output_type": "stream",
     "text": [
      "C:\\Users\\gentemann\\Miniconda3\\envs\\satenv\\lib\\site-packages\\xarray\\core\\nanops.py:159: RuntimeWarning: Mean of empty slice\n",
      "  return np.nanmean(a, axis=axis, dtype=dtype)\n"
     ]
    },
    {
     "name": "stdout",
     "output_type": "stream",
     "text": [
      "<xarray.Dataset>\n",
      "Dimensions:  (lat: 901, lon: 1800)\n",
      "Coordinates:\n",
      "    depth    float32 0.0\n",
      "  * lat      (lat) float64 -90.0 -89.8 -89.6 -89.4 -89.2 ... 89.4 89.6 89.8 90.0\n",
      "  * lon      (lon) float64 -180.0 -179.8 -179.6 -179.4 ... 179.4 179.6 179.8\n",
      "Data variables:\n",
      "    so       (lat, lon) float64 nan nan nan nan nan nan ... nan nan nan nan nan\n",
      "    zos      (lat, lon) float64 nan nan nan nan nan nan ... nan nan nan nan nan\n",
      "297 Frozen(SortedKeysDict({'lat': 901, 'lon': 1800, 'time': 24}))\n"
     ]
    },
    {
     "name": "stderr",
     "output_type": "stream",
     "text": [
      "C:\\Users\\gentemann\\Miniconda3\\envs\\satenv\\lib\\site-packages\\xarray\\core\\nanops.py:159: RuntimeWarning: Mean of empty slice\n",
      "  return np.nanmean(a, axis=axis, dtype=dtype)\n"
     ]
    },
    {
     "name": "stdout",
     "output_type": "stream",
     "text": [
      "<xarray.Dataset>\n",
      "Dimensions:  (lat: 901, lon: 1800)\n",
      "Coordinates:\n",
      "    depth    float32 0.0\n",
      "  * lat      (lat) float64 -90.0 -89.8 -89.6 -89.4 -89.2 ... 89.4 89.6 89.8 90.0\n",
      "  * lon      (lon) float64 -180.0 -179.8 -179.6 -179.4 ... 179.4 179.6 179.8\n",
      "Data variables:\n",
      "    so       (lat, lon) float64 nan nan nan nan nan nan ... nan nan nan nan nan\n",
      "    zos      (lat, lon) float64 nan nan nan nan nan nan ... nan nan nan nan nan\n",
      "298 Frozen(SortedKeysDict({'lat': 901, 'lon': 1800, 'time': 25}))\n"
     ]
    },
    {
     "name": "stderr",
     "output_type": "stream",
     "text": [
      "C:\\Users\\gentemann\\Miniconda3\\envs\\satenv\\lib\\site-packages\\xarray\\core\\nanops.py:159: RuntimeWarning: Mean of empty slice\n",
      "  return np.nanmean(a, axis=axis, dtype=dtype)\n"
     ]
    },
    {
     "name": "stdout",
     "output_type": "stream",
     "text": [
      "<xarray.Dataset>\n",
      "Dimensions:  (lat: 901, lon: 1800)\n",
      "Coordinates:\n",
      "    depth    float32 0.0\n",
      "  * lat      (lat) float64 -90.0 -89.8 -89.6 -89.4 -89.2 ... 89.4 89.6 89.8 90.0\n",
      "  * lon      (lon) float64 -180.0 -179.8 -179.6 -179.4 ... 179.4 179.6 179.8\n",
      "Data variables:\n",
      "    so       (lat, lon) float64 nan nan nan nan nan nan ... nan nan nan nan nan\n",
      "    zos      (lat, lon) float64 nan nan nan nan nan nan ... nan nan nan nan nan\n",
      "299 Frozen(SortedKeysDict({'lat': 901, 'lon': 1800, 'time': 26}))\n"
     ]
    },
    {
     "name": "stderr",
     "output_type": "stream",
     "text": [
      "C:\\Users\\gentemann\\Miniconda3\\envs\\satenv\\lib\\site-packages\\xarray\\core\\nanops.py:159: RuntimeWarning: Mean of empty slice\n",
      "  return np.nanmean(a, axis=axis, dtype=dtype)\n"
     ]
    },
    {
     "name": "stdout",
     "output_type": "stream",
     "text": [
      "<xarray.Dataset>\n",
      "Dimensions:  (lat: 901, lon: 1800)\n",
      "Coordinates:\n",
      "    depth    float32 0.0\n",
      "  * lat      (lat) float64 -90.0 -89.8 -89.6 -89.4 -89.2 ... 89.4 89.6 89.8 90.0\n",
      "  * lon      (lon) float64 -180.0 -179.8 -179.6 -179.4 ... 179.4 179.6 179.8\n",
      "Data variables:\n",
      "    so       (lat, lon) float64 nan nan nan nan nan nan ... nan nan nan nan nan\n",
      "    zos      (lat, lon) float64 nan nan nan nan nan nan ... nan nan nan nan nan\n",
      "300 Frozen(SortedKeysDict({'lat': 901, 'lon': 1800, 'time': 27}))\n"
     ]
    },
    {
     "name": "stderr",
     "output_type": "stream",
     "text": [
      "C:\\Users\\gentemann\\Miniconda3\\envs\\satenv\\lib\\site-packages\\xarray\\core\\nanops.py:159: RuntimeWarning: Mean of empty slice\n",
      "  return np.nanmean(a, axis=axis, dtype=dtype)\n"
     ]
    },
    {
     "name": "stdout",
     "output_type": "stream",
     "text": [
      "<xarray.Dataset>\n",
      "Dimensions:  (lat: 901, lon: 1800)\n",
      "Coordinates:\n",
      "    depth    float32 0.0\n",
      "  * lat      (lat) float64 -90.0 -89.8 -89.6 -89.4 -89.2 ... 89.4 89.6 89.8 90.0\n",
      "  * lon      (lon) float64 -180.0 -179.8 -179.6 -179.4 ... 179.4 179.6 179.8\n",
      "Data variables:\n",
      "    so       (lat, lon) float64 nan nan nan nan nan nan ... nan nan nan nan nan\n",
      "    zos      (lat, lon) float64 nan nan nan nan nan nan ... nan nan nan nan nan\n",
      "301 Frozen(SortedKeysDict({'lat': 901, 'lon': 1800, 'time': 28}))\n"
     ]
    },
    {
     "name": "stderr",
     "output_type": "stream",
     "text": [
      "C:\\Users\\gentemann\\Miniconda3\\envs\\satenv\\lib\\site-packages\\xarray\\core\\nanops.py:159: RuntimeWarning: Mean of empty slice\n",
      "  return np.nanmean(a, axis=axis, dtype=dtype)\n"
     ]
    },
    {
     "name": "stdout",
     "output_type": "stream",
     "text": [
      "<xarray.Dataset>\n",
      "Dimensions:  (lat: 901, lon: 1800)\n",
      "Coordinates:\n",
      "    depth    float32 0.0\n",
      "  * lat      (lat) float64 -90.0 -89.8 -89.6 -89.4 -89.2 ... 89.4 89.6 89.8 90.0\n",
      "  * lon      (lon) float64 -180.0 -179.8 -179.6 -179.4 ... 179.4 179.6 179.8\n",
      "Data variables:\n",
      "    so       (lat, lon) float64 nan nan nan nan nan nan ... nan nan nan nan nan\n",
      "    zos      (lat, lon) float64 nan nan nan nan nan nan ... nan nan nan nan nan\n",
      "302 Frozen(SortedKeysDict({'lat': 901, 'lon': 1800, 'time': 29}))\n"
     ]
    },
    {
     "name": "stderr",
     "output_type": "stream",
     "text": [
      "C:\\Users\\gentemann\\Miniconda3\\envs\\satenv\\lib\\site-packages\\xarray\\core\\nanops.py:159: RuntimeWarning: Mean of empty slice\n",
      "  return np.nanmean(a, axis=axis, dtype=dtype)\n"
     ]
    },
    {
     "name": "stdout",
     "output_type": "stream",
     "text": [
      "<xarray.Dataset>\n",
      "Dimensions:  (lat: 901, lon: 1800)\n",
      "Coordinates:\n",
      "    depth    float32 0.0\n",
      "  * lat      (lat) float64 -90.0 -89.8 -89.6 -89.4 -89.2 ... 89.4 89.6 89.8 90.0\n",
      "  * lon      (lon) float64 -180.0 -179.8 -179.6 -179.4 ... 179.4 179.6 179.8\n",
      "Data variables:\n",
      "    so       (lat, lon) float64 nan nan nan nan nan nan ... nan nan nan nan nan\n",
      "    zos      (lat, lon) float64 nan nan nan nan nan nan ... nan nan nan nan nan\n",
      "303 Frozen(SortedKeysDict({'lat': 901, 'lon': 1800, 'time': 30}))\n"
     ]
    },
    {
     "name": "stderr",
     "output_type": "stream",
     "text": [
      "C:\\Users\\gentemann\\Miniconda3\\envs\\satenv\\lib\\site-packages\\xarray\\core\\nanops.py:159: RuntimeWarning: Mean of empty slice\n",
      "  return np.nanmean(a, axis=axis, dtype=dtype)\n"
     ]
    },
    {
     "name": "stdout",
     "output_type": "stream",
     "text": [
      "<xarray.Dataset>\n",
      "Dimensions:  (lat: 901, lon: 1800)\n",
      "Coordinates:\n",
      "    depth    float32 0.0\n",
      "  * lat      (lat) float64 -90.0 -89.8 -89.6 -89.4 -89.2 ... 89.4 89.6 89.8 90.0\n",
      "  * lon      (lon) float64 -180.0 -179.8 -179.6 -179.4 ... 179.4 179.6 179.8\n",
      "Data variables:\n",
      "    so       (lat, lon) float64 nan nan nan nan nan nan ... nan nan nan nan nan\n",
      "    zos      (lat, lon) float64 nan nan nan nan nan nan ... nan nan nan nan nan\n",
      "304 Frozen(SortedKeysDict({'lat': 901, 'lon': 1800, 'time': 31}))\n"
     ]
    },
    {
     "name": "stderr",
     "output_type": "stream",
     "text": [
      "C:\\Users\\gentemann\\Miniconda3\\envs\\satenv\\lib\\site-packages\\xarray\\core\\nanops.py:159: RuntimeWarning: Mean of empty slice\n",
      "  return np.nanmean(a, axis=axis, dtype=dtype)\n"
     ]
    },
    {
     "name": "stdout",
     "output_type": "stream",
     "text": [
      "out: F:/data/model_data/CMEM/global-analysis-forecast-phys_001_015/monthly/subset_metoffice_coupled_orca025_GL4_SAL_b201810_dm20180208.nc\n",
      "<xarray.Dataset>\n",
      "Dimensions:  (lat: 901, lon: 1800)\n",
      "Coordinates:\n",
      "    depth    float32 0.0\n",
      "  * lat      (lat) float64 -90.0 -89.8 -89.6 -89.4 -89.2 ... 89.4 89.6 89.8 90.0\n",
      "  * lon      (lon) float64 -180.0 -179.8 -179.6 -179.4 ... 179.4 179.6 179.8\n",
      "Data variables:\n",
      "    so       (lat, lon) float64 nan nan nan nan nan nan ... nan nan nan nan nan\n",
      "    zos      (lat, lon) float64 nan nan nan nan nan nan ... nan nan nan nan nan\n",
      "305 Frozen(SortedKeysDict({'lat': 901, 'lon': 1800}))\n",
      "<xarray.Dataset>\n",
      "Dimensions:  (lat: 901, lon: 1800)\n",
      "Coordinates:\n",
      "    depth    float32 0.0\n",
      "  * lat      (lat) float64 -90.0 -89.8 -89.6 -89.4 -89.2 ... 89.4 89.6 89.8 90.0\n",
      "  * lon      (lon) float64 -180.0 -179.8 -179.6 -179.4 ... 179.4 179.6 179.8\n",
      "Data variables:\n",
      "    so       (lat, lon) float64 nan nan nan nan nan nan ... nan nan nan nan nan\n",
      "    zos      (lat, lon) float64 nan nan nan nan nan nan ... nan nan nan nan nan\n",
      "306 Frozen(SortedKeysDict({'lat': 901, 'lon': 1800, 'time': 2}))\n"
     ]
    },
    {
     "name": "stderr",
     "output_type": "stream",
     "text": [
      "C:\\Users\\gentemann\\Miniconda3\\envs\\satenv\\lib\\site-packages\\xarray\\core\\nanops.py:159: RuntimeWarning: Mean of empty slice\n",
      "  return np.nanmean(a, axis=axis, dtype=dtype)\n"
     ]
    },
    {
     "name": "stdout",
     "output_type": "stream",
     "text": [
      "<xarray.Dataset>\n",
      "Dimensions:  (lat: 901, lon: 1800)\n",
      "Coordinates:\n",
      "    depth    float32 0.0\n",
      "  * lat      (lat) float64 -90.0 -89.8 -89.6 -89.4 -89.2 ... 89.4 89.6 89.8 90.0\n",
      "  * lon      (lon) float64 -180.0 -179.8 -179.6 -179.4 ... 179.4 179.6 179.8\n",
      "Data variables:\n",
      "    so       (lat, lon) float64 nan nan nan nan nan nan ... nan nan nan nan nan\n",
      "    zos      (lat, lon) float64 nan nan nan nan nan nan ... nan nan nan nan nan\n",
      "307 Frozen(SortedKeysDict({'lat': 901, 'lon': 1800, 'time': 3}))\n"
     ]
    },
    {
     "name": "stderr",
     "output_type": "stream",
     "text": [
      "C:\\Users\\gentemann\\Miniconda3\\envs\\satenv\\lib\\site-packages\\xarray\\core\\nanops.py:159: RuntimeWarning: Mean of empty slice\n",
      "  return np.nanmean(a, axis=axis, dtype=dtype)\n"
     ]
    },
    {
     "name": "stdout",
     "output_type": "stream",
     "text": [
      "<xarray.Dataset>\n",
      "Dimensions:  (lat: 901, lon: 1800)\n",
      "Coordinates:\n",
      "    depth    float32 0.0\n",
      "  * lat      (lat) float64 -90.0 -89.8 -89.6 -89.4 -89.2 ... 89.4 89.6 89.8 90.0\n",
      "  * lon      (lon) float64 -180.0 -179.8 -179.6 -179.4 ... 179.4 179.6 179.8\n",
      "Data variables:\n",
      "    so       (lat, lon) float64 nan nan nan nan nan nan ... nan nan nan nan nan\n",
      "    zos      (lat, lon) float64 nan nan nan nan nan nan ... nan nan nan nan nan\n",
      "308 Frozen(SortedKeysDict({'lat': 901, 'lon': 1800, 'time': 4}))\n"
     ]
    },
    {
     "name": "stderr",
     "output_type": "stream",
     "text": [
      "C:\\Users\\gentemann\\Miniconda3\\envs\\satenv\\lib\\site-packages\\xarray\\core\\nanops.py:159: RuntimeWarning: Mean of empty slice\n",
      "  return np.nanmean(a, axis=axis, dtype=dtype)\n"
     ]
    },
    {
     "name": "stdout",
     "output_type": "stream",
     "text": [
      "<xarray.Dataset>\n",
      "Dimensions:  (lat: 901, lon: 1800)\n",
      "Coordinates:\n",
      "    depth    float32 0.0\n",
      "  * lat      (lat) float64 -90.0 -89.8 -89.6 -89.4 -89.2 ... 89.4 89.6 89.8 90.0\n",
      "  * lon      (lon) float64 -180.0 -179.8 -179.6 -179.4 ... 179.4 179.6 179.8\n",
      "Data variables:\n",
      "    so       (lat, lon) float64 nan nan nan nan nan nan ... nan nan nan nan nan\n",
      "    zos      (lat, lon) float64 nan nan nan nan nan nan ... nan nan nan nan nan\n",
      "309 Frozen(SortedKeysDict({'lat': 901, 'lon': 1800, 'time': 5}))\n"
     ]
    },
    {
     "name": "stderr",
     "output_type": "stream",
     "text": [
      "C:\\Users\\gentemann\\Miniconda3\\envs\\satenv\\lib\\site-packages\\xarray\\core\\nanops.py:159: RuntimeWarning: Mean of empty slice\n",
      "  return np.nanmean(a, axis=axis, dtype=dtype)\n"
     ]
    },
    {
     "name": "stdout",
     "output_type": "stream",
     "text": [
      "<xarray.Dataset>\n",
      "Dimensions:  (lat: 901, lon: 1800)\n",
      "Coordinates:\n",
      "    depth    float32 0.0\n",
      "  * lat      (lat) float64 -90.0 -89.8 -89.6 -89.4 -89.2 ... 89.4 89.6 89.8 90.0\n",
      "  * lon      (lon) float64 -180.0 -179.8 -179.6 -179.4 ... 179.4 179.6 179.8\n",
      "Data variables:\n",
      "    so       (lat, lon) float64 nan nan nan nan nan nan ... nan nan nan nan nan\n",
      "    zos      (lat, lon) float64 nan nan nan nan nan nan ... nan nan nan nan nan\n",
      "310 Frozen(SortedKeysDict({'lat': 901, 'lon': 1800, 'time': 6}))\n"
     ]
    },
    {
     "name": "stderr",
     "output_type": "stream",
     "text": [
      "C:\\Users\\gentemann\\Miniconda3\\envs\\satenv\\lib\\site-packages\\xarray\\core\\nanops.py:159: RuntimeWarning: Mean of empty slice\n",
      "  return np.nanmean(a, axis=axis, dtype=dtype)\n"
     ]
    },
    {
     "name": "stdout",
     "output_type": "stream",
     "text": [
      "<xarray.Dataset>\n",
      "Dimensions:  (lat: 901, lon: 1800)\n",
      "Coordinates:\n",
      "    depth    float32 0.0\n",
      "  * lat      (lat) float64 -90.0 -89.8 -89.6 -89.4 -89.2 ... 89.4 89.6 89.8 90.0\n",
      "  * lon      (lon) float64 -180.0 -179.8 -179.6 -179.4 ... 179.4 179.6 179.8\n",
      "Data variables:\n",
      "    so       (lat, lon) float64 nan nan nan nan nan nan ... nan nan nan nan nan\n",
      "    zos      (lat, lon) float64 nan nan nan nan nan nan ... nan nan nan nan nan\n",
      "311 Frozen(SortedKeysDict({'lat': 901, 'lon': 1800, 'time': 7}))\n"
     ]
    },
    {
     "name": "stderr",
     "output_type": "stream",
     "text": [
      "C:\\Users\\gentemann\\Miniconda3\\envs\\satenv\\lib\\site-packages\\xarray\\core\\nanops.py:159: RuntimeWarning: Mean of empty slice\n",
      "  return np.nanmean(a, axis=axis, dtype=dtype)\n"
     ]
    },
    {
     "name": "stdout",
     "output_type": "stream",
     "text": [
      "<xarray.Dataset>\n",
      "Dimensions:  (lat: 901, lon: 1800)\n",
      "Coordinates:\n",
      "    depth    float32 0.0\n",
      "  * lat      (lat) float64 -90.0 -89.8 -89.6 -89.4 -89.2 ... 89.4 89.6 89.8 90.0\n",
      "  * lon      (lon) float64 -180.0 -179.8 -179.6 -179.4 ... 179.4 179.6 179.8\n",
      "Data variables:\n",
      "    so       (lat, lon) float64 nan nan nan nan nan nan ... nan nan nan nan nan\n",
      "    zos      (lat, lon) float64 nan nan nan nan nan nan ... nan nan nan nan nan\n",
      "312 Frozen(SortedKeysDict({'lat': 901, 'lon': 1800, 'time': 8}))\n"
     ]
    },
    {
     "name": "stderr",
     "output_type": "stream",
     "text": [
      "C:\\Users\\gentemann\\Miniconda3\\envs\\satenv\\lib\\site-packages\\xarray\\core\\nanops.py:159: RuntimeWarning: Mean of empty slice\n",
      "  return np.nanmean(a, axis=axis, dtype=dtype)\n"
     ]
    },
    {
     "name": "stdout",
     "output_type": "stream",
     "text": [
      "<xarray.Dataset>\n",
      "Dimensions:  (lat: 901, lon: 1800)\n",
      "Coordinates:\n",
      "    depth    float32 0.0\n",
      "  * lat      (lat) float64 -90.0 -89.8 -89.6 -89.4 -89.2 ... 89.4 89.6 89.8 90.0\n",
      "  * lon      (lon) float64 -180.0 -179.8 -179.6 -179.4 ... 179.4 179.6 179.8\n",
      "Data variables:\n",
      "    so       (lat, lon) float64 nan nan nan nan nan nan ... nan nan nan nan nan\n",
      "    zos      (lat, lon) float64 nan nan nan nan nan nan ... nan nan nan nan nan\n",
      "313 Frozen(SortedKeysDict({'lat': 901, 'lon': 1800, 'time': 9}))\n"
     ]
    },
    {
     "name": "stderr",
     "output_type": "stream",
     "text": [
      "C:\\Users\\gentemann\\Miniconda3\\envs\\satenv\\lib\\site-packages\\xarray\\core\\nanops.py:159: RuntimeWarning: Mean of empty slice\n",
      "  return np.nanmean(a, axis=axis, dtype=dtype)\n"
     ]
    },
    {
     "name": "stdout",
     "output_type": "stream",
     "text": [
      "<xarray.Dataset>\n",
      "Dimensions:  (lat: 901, lon: 1800)\n",
      "Coordinates:\n",
      "    depth    float32 0.0\n",
      "  * lat      (lat) float64 -90.0 -89.8 -89.6 -89.4 -89.2 ... 89.4 89.6 89.8 90.0\n",
      "  * lon      (lon) float64 -180.0 -179.8 -179.6 -179.4 ... 179.4 179.6 179.8\n",
      "Data variables:\n",
      "    so       (lat, lon) float64 nan nan nan nan nan nan ... nan nan nan nan nan\n",
      "    zos      (lat, lon) float64 nan nan nan nan nan nan ... nan nan nan nan nan\n",
      "314 Frozen(SortedKeysDict({'lat': 901, 'lon': 1800, 'time': 10}))\n"
     ]
    },
    {
     "name": "stderr",
     "output_type": "stream",
     "text": [
      "C:\\Users\\gentemann\\Miniconda3\\envs\\satenv\\lib\\site-packages\\xarray\\core\\nanops.py:159: RuntimeWarning: Mean of empty slice\n",
      "  return np.nanmean(a, axis=axis, dtype=dtype)\n"
     ]
    },
    {
     "name": "stdout",
     "output_type": "stream",
     "text": [
      "<xarray.Dataset>\n",
      "Dimensions:  (lat: 901, lon: 1800)\n",
      "Coordinates:\n",
      "    depth    float32 0.0\n",
      "  * lat      (lat) float64 -90.0 -89.8 -89.6 -89.4 -89.2 ... 89.4 89.6 89.8 90.0\n",
      "  * lon      (lon) float64 -180.0 -179.8 -179.6 -179.4 ... 179.4 179.6 179.8\n",
      "Data variables:\n",
      "    so       (lat, lon) float64 nan nan nan nan nan nan ... nan nan nan nan nan\n",
      "    zos      (lat, lon) float64 nan nan nan nan nan nan ... nan nan nan nan nan\n",
      "315 Frozen(SortedKeysDict({'lat': 901, 'lon': 1800, 'time': 11}))\n"
     ]
    },
    {
     "name": "stderr",
     "output_type": "stream",
     "text": [
      "C:\\Users\\gentemann\\Miniconda3\\envs\\satenv\\lib\\site-packages\\xarray\\core\\nanops.py:159: RuntimeWarning: Mean of empty slice\n",
      "  return np.nanmean(a, axis=axis, dtype=dtype)\n"
     ]
    },
    {
     "name": "stdout",
     "output_type": "stream",
     "text": [
      "<xarray.Dataset>\n",
      "Dimensions:  (lat: 901, lon: 1800)\n",
      "Coordinates:\n",
      "    depth    float32 0.0\n",
      "  * lat      (lat) float64 -90.0 -89.8 -89.6 -89.4 -89.2 ... 89.4 89.6 89.8 90.0\n",
      "  * lon      (lon) float64 -180.0 -179.8 -179.6 -179.4 ... 179.4 179.6 179.8\n",
      "Data variables:\n",
      "    so       (lat, lon) float64 nan nan nan nan nan nan ... nan nan nan nan nan\n",
      "    zos      (lat, lon) float64 nan nan nan nan nan nan ... nan nan nan nan nan\n",
      "316 Frozen(SortedKeysDict({'lat': 901, 'lon': 1800, 'time': 12}))\n"
     ]
    },
    {
     "name": "stderr",
     "output_type": "stream",
     "text": [
      "C:\\Users\\gentemann\\Miniconda3\\envs\\satenv\\lib\\site-packages\\xarray\\core\\nanops.py:159: RuntimeWarning: Mean of empty slice\n",
      "  return np.nanmean(a, axis=axis, dtype=dtype)\n"
     ]
    },
    {
     "name": "stdout",
     "output_type": "stream",
     "text": [
      "<xarray.Dataset>\n",
      "Dimensions:  (lat: 901, lon: 1800)\n",
      "Coordinates:\n",
      "    depth    float32 0.0\n",
      "  * lat      (lat) float64 -90.0 -89.8 -89.6 -89.4 -89.2 ... 89.4 89.6 89.8 90.0\n",
      "  * lon      (lon) float64 -180.0 -179.8 -179.6 -179.4 ... 179.4 179.6 179.8\n",
      "Data variables:\n",
      "    so       (lat, lon) float64 nan nan nan nan nan nan ... nan nan nan nan nan\n",
      "    zos      (lat, lon) float64 nan nan nan nan nan nan ... nan nan nan nan nan\n",
      "317 Frozen(SortedKeysDict({'lat': 901, 'lon': 1800, 'time': 13}))\n"
     ]
    },
    {
     "name": "stderr",
     "output_type": "stream",
     "text": [
      "C:\\Users\\gentemann\\Miniconda3\\envs\\satenv\\lib\\site-packages\\xarray\\core\\nanops.py:159: RuntimeWarning: Mean of empty slice\n",
      "  return np.nanmean(a, axis=axis, dtype=dtype)\n"
     ]
    },
    {
     "name": "stdout",
     "output_type": "stream",
     "text": [
      "<xarray.Dataset>\n",
      "Dimensions:  (lat: 901, lon: 1800)\n",
      "Coordinates:\n",
      "    depth    float32 0.0\n",
      "  * lat      (lat) float64 -90.0 -89.8 -89.6 -89.4 -89.2 ... 89.4 89.6 89.8 90.0\n",
      "  * lon      (lon) float64 -180.0 -179.8 -179.6 -179.4 ... 179.4 179.6 179.8\n",
      "Data variables:\n",
      "    so       (lat, lon) float64 nan nan nan nan nan nan ... nan nan nan nan nan\n",
      "    zos      (lat, lon) float64 nan nan nan nan nan nan ... nan nan nan nan nan\n",
      "318 Frozen(SortedKeysDict({'lat': 901, 'lon': 1800, 'time': 14}))\n"
     ]
    },
    {
     "name": "stderr",
     "output_type": "stream",
     "text": [
      "C:\\Users\\gentemann\\Miniconda3\\envs\\satenv\\lib\\site-packages\\xarray\\core\\nanops.py:159: RuntimeWarning: Mean of empty slice\n",
      "  return np.nanmean(a, axis=axis, dtype=dtype)\n"
     ]
    },
    {
     "name": "stdout",
     "output_type": "stream",
     "text": [
      "<xarray.Dataset>\n",
      "Dimensions:  (lat: 901, lon: 1800)\n",
      "Coordinates:\n",
      "    depth    float32 0.0\n",
      "  * lat      (lat) float64 -90.0 -89.8 -89.6 -89.4 -89.2 ... 89.4 89.6 89.8 90.0\n",
      "  * lon      (lon) float64 -180.0 -179.8 -179.6 -179.4 ... 179.4 179.6 179.8\n",
      "Data variables:\n",
      "    so       (lat, lon) float64 nan nan nan nan nan nan ... nan nan nan nan nan\n",
      "    zos      (lat, lon) float64 nan nan nan nan nan nan ... nan nan nan nan nan\n",
      "319 Frozen(SortedKeysDict({'lat': 901, 'lon': 1800, 'time': 15}))\n"
     ]
    },
    {
     "name": "stderr",
     "output_type": "stream",
     "text": [
      "C:\\Users\\gentemann\\Miniconda3\\envs\\satenv\\lib\\site-packages\\xarray\\core\\nanops.py:159: RuntimeWarning: Mean of empty slice\n",
      "  return np.nanmean(a, axis=axis, dtype=dtype)\n"
     ]
    },
    {
     "name": "stdout",
     "output_type": "stream",
     "text": [
      "<xarray.Dataset>\n",
      "Dimensions:  (lat: 901, lon: 1800)\n",
      "Coordinates:\n",
      "    depth    float32 0.0\n",
      "  * lat      (lat) float64 -90.0 -89.8 -89.6 -89.4 -89.2 ... 89.4 89.6 89.8 90.0\n",
      "  * lon      (lon) float64 -180.0 -179.8 -179.6 -179.4 ... 179.4 179.6 179.8\n",
      "Data variables:\n",
      "    so       (lat, lon) float64 nan nan nan nan nan nan ... nan nan nan nan nan\n",
      "    zos      (lat, lon) float64 nan nan nan nan nan nan ... nan nan nan nan nan\n",
      "320 Frozen(SortedKeysDict({'lat': 901, 'lon': 1800, 'time': 16}))\n"
     ]
    },
    {
     "name": "stderr",
     "output_type": "stream",
     "text": [
      "C:\\Users\\gentemann\\Miniconda3\\envs\\satenv\\lib\\site-packages\\xarray\\core\\nanops.py:159: RuntimeWarning: Mean of empty slice\n",
      "  return np.nanmean(a, axis=axis, dtype=dtype)\n"
     ]
    },
    {
     "name": "stdout",
     "output_type": "stream",
     "text": [
      "<xarray.Dataset>\n",
      "Dimensions:  (lat: 901, lon: 1800)\n",
      "Coordinates:\n",
      "    depth    float32 0.0\n",
      "  * lat      (lat) float64 -90.0 -89.8 -89.6 -89.4 -89.2 ... 89.4 89.6 89.8 90.0\n",
      "  * lon      (lon) float64 -180.0 -179.8 -179.6 -179.4 ... 179.4 179.6 179.8\n",
      "Data variables:\n",
      "    so       (lat, lon) float64 nan nan nan nan nan nan ... nan nan nan nan nan\n",
      "    zos      (lat, lon) float64 nan nan nan nan nan nan ... nan nan nan nan nan\n",
      "321 Frozen(SortedKeysDict({'lat': 901, 'lon': 1800, 'time': 17}))\n"
     ]
    },
    {
     "name": "stderr",
     "output_type": "stream",
     "text": [
      "C:\\Users\\gentemann\\Miniconda3\\envs\\satenv\\lib\\site-packages\\xarray\\core\\nanops.py:159: RuntimeWarning: Mean of empty slice\n",
      "  return np.nanmean(a, axis=axis, dtype=dtype)\n"
     ]
    },
    {
     "name": "stdout",
     "output_type": "stream",
     "text": [
      "<xarray.Dataset>\n",
      "Dimensions:  (lat: 901, lon: 1800)\n",
      "Coordinates:\n",
      "    depth    float32 0.0\n",
      "  * lat      (lat) float64 -90.0 -89.8 -89.6 -89.4 -89.2 ... 89.4 89.6 89.8 90.0\n",
      "  * lon      (lon) float64 -180.0 -179.8 -179.6 -179.4 ... 179.4 179.6 179.8\n",
      "Data variables:\n",
      "    so       (lat, lon) float64 nan nan nan nan nan nan ... nan nan nan nan nan\n",
      "    zos      (lat, lon) float64 nan nan nan nan nan nan ... nan nan nan nan nan\n",
      "322 Frozen(SortedKeysDict({'lat': 901, 'lon': 1800, 'time': 18}))\n"
     ]
    },
    {
     "name": "stderr",
     "output_type": "stream",
     "text": [
      "C:\\Users\\gentemann\\Miniconda3\\envs\\satenv\\lib\\site-packages\\xarray\\core\\nanops.py:159: RuntimeWarning: Mean of empty slice\n",
      "  return np.nanmean(a, axis=axis, dtype=dtype)\n"
     ]
    },
    {
     "name": "stdout",
     "output_type": "stream",
     "text": [
      "<xarray.Dataset>\n",
      "Dimensions:  (lat: 901, lon: 1800)\n",
      "Coordinates:\n",
      "    depth    float32 0.0\n",
      "  * lat      (lat) float64 -90.0 -89.8 -89.6 -89.4 -89.2 ... 89.4 89.6 89.8 90.0\n",
      "  * lon      (lon) float64 -180.0 -179.8 -179.6 -179.4 ... 179.4 179.6 179.8\n",
      "Data variables:\n",
      "    so       (lat, lon) float64 nan nan nan nan nan nan ... nan nan nan nan nan\n",
      "    zos      (lat, lon) float64 nan nan nan nan nan nan ... nan nan nan nan nan\n",
      "323 Frozen(SortedKeysDict({'lat': 901, 'lon': 1800, 'time': 19}))\n"
     ]
    },
    {
     "name": "stderr",
     "output_type": "stream",
     "text": [
      "C:\\Users\\gentemann\\Miniconda3\\envs\\satenv\\lib\\site-packages\\xarray\\core\\nanops.py:159: RuntimeWarning: Mean of empty slice\n",
      "  return np.nanmean(a, axis=axis, dtype=dtype)\n"
     ]
    },
    {
     "name": "stdout",
     "output_type": "stream",
     "text": [
      "<xarray.Dataset>\n",
      "Dimensions:  (lat: 901, lon: 1800)\n",
      "Coordinates:\n",
      "    depth    float32 0.0\n",
      "  * lat      (lat) float64 -90.0 -89.8 -89.6 -89.4 -89.2 ... 89.4 89.6 89.8 90.0\n",
      "  * lon      (lon) float64 -180.0 -179.8 -179.6 -179.4 ... 179.4 179.6 179.8\n",
      "Data variables:\n",
      "    so       (lat, lon) float64 nan nan nan nan nan nan ... nan nan nan nan nan\n",
      "    zos      (lat, lon) float64 nan nan nan nan nan nan ... nan nan nan nan nan\n",
      "324 Frozen(SortedKeysDict({'lat': 901, 'lon': 1800, 'time': 20}))\n"
     ]
    },
    {
     "name": "stderr",
     "output_type": "stream",
     "text": [
      "C:\\Users\\gentemann\\Miniconda3\\envs\\satenv\\lib\\site-packages\\xarray\\core\\nanops.py:159: RuntimeWarning: Mean of empty slice\n",
      "  return np.nanmean(a, axis=axis, dtype=dtype)\n"
     ]
    },
    {
     "name": "stdout",
     "output_type": "stream",
     "text": [
      "<xarray.Dataset>\n",
      "Dimensions:  (lat: 901, lon: 1800)\n",
      "Coordinates:\n",
      "    depth    float32 0.0\n",
      "  * lat      (lat) float64 -90.0 -89.8 -89.6 -89.4 -89.2 ... 89.4 89.6 89.8 90.0\n",
      "  * lon      (lon) float64 -180.0 -179.8 -179.6 -179.4 ... 179.4 179.6 179.8\n",
      "Data variables:\n",
      "    so       (lat, lon) float64 nan nan nan nan nan nan ... nan nan nan nan nan\n",
      "    zos      (lat, lon) float64 nan nan nan nan nan nan ... nan nan nan nan nan\n",
      "325 Frozen(SortedKeysDict({'lat': 901, 'lon': 1800, 'time': 21}))\n"
     ]
    },
    {
     "name": "stderr",
     "output_type": "stream",
     "text": [
      "C:\\Users\\gentemann\\Miniconda3\\envs\\satenv\\lib\\site-packages\\xarray\\core\\nanops.py:159: RuntimeWarning: Mean of empty slice\n",
      "  return np.nanmean(a, axis=axis, dtype=dtype)\n"
     ]
    },
    {
     "name": "stdout",
     "output_type": "stream",
     "text": [
      "<xarray.Dataset>\n",
      "Dimensions:  (lat: 901, lon: 1800)\n",
      "Coordinates:\n",
      "    depth    float32 0.0\n",
      "  * lat      (lat) float64 -90.0 -89.8 -89.6 -89.4 -89.2 ... 89.4 89.6 89.8 90.0\n",
      "  * lon      (lon) float64 -180.0 -179.8 -179.6 -179.4 ... 179.4 179.6 179.8\n",
      "Data variables:\n",
      "    so       (lat, lon) float64 nan nan nan nan nan nan ... nan nan nan nan nan\n",
      "    zos      (lat, lon) float64 nan nan nan nan nan nan ... nan nan nan nan nan\n",
      "326 Frozen(SortedKeysDict({'lat': 901, 'lon': 1800, 'time': 22}))\n"
     ]
    },
    {
     "name": "stderr",
     "output_type": "stream",
     "text": [
      "C:\\Users\\gentemann\\Miniconda3\\envs\\satenv\\lib\\site-packages\\xarray\\core\\nanops.py:159: RuntimeWarning: Mean of empty slice\n",
      "  return np.nanmean(a, axis=axis, dtype=dtype)\n"
     ]
    },
    {
     "name": "stdout",
     "output_type": "stream",
     "text": [
      "<xarray.Dataset>\n",
      "Dimensions:  (lat: 901, lon: 1800)\n",
      "Coordinates:\n",
      "    depth    float32 0.0\n",
      "  * lat      (lat) float64 -90.0 -89.8 -89.6 -89.4 -89.2 ... 89.4 89.6 89.8 90.0\n",
      "  * lon      (lon) float64 -180.0 -179.8 -179.6 -179.4 ... 179.4 179.6 179.8\n",
      "Data variables:\n",
      "    so       (lat, lon) float64 nan nan nan nan nan nan ... nan nan nan nan nan\n",
      "    zos      (lat, lon) float64 nan nan nan nan nan nan ... nan nan nan nan nan\n",
      "327 Frozen(SortedKeysDict({'lat': 901, 'lon': 1800, 'time': 23}))\n"
     ]
    },
    {
     "name": "stderr",
     "output_type": "stream",
     "text": [
      "C:\\Users\\gentemann\\Miniconda3\\envs\\satenv\\lib\\site-packages\\xarray\\core\\nanops.py:159: RuntimeWarning: Mean of empty slice\n",
      "  return np.nanmean(a, axis=axis, dtype=dtype)\n"
     ]
    },
    {
     "name": "stdout",
     "output_type": "stream",
     "text": [
      "<xarray.Dataset>\n",
      "Dimensions:  (lat: 901, lon: 1800)\n",
      "Coordinates:\n",
      "    depth    float32 0.0\n",
      "  * lat      (lat) float64 -90.0 -89.8 -89.6 -89.4 -89.2 ... 89.4 89.6 89.8 90.0\n",
      "  * lon      (lon) float64 -180.0 -179.8 -179.6 -179.4 ... 179.4 179.6 179.8\n",
      "Data variables:\n",
      "    so       (lat, lon) float64 nan nan nan nan nan nan ... nan nan nan nan nan\n",
      "    zos      (lat, lon) float64 nan nan nan nan nan nan ... nan nan nan nan nan\n",
      "328 Frozen(SortedKeysDict({'lat': 901, 'lon': 1800, 'time': 24}))\n"
     ]
    },
    {
     "name": "stderr",
     "output_type": "stream",
     "text": [
      "C:\\Users\\gentemann\\Miniconda3\\envs\\satenv\\lib\\site-packages\\xarray\\core\\nanops.py:159: RuntimeWarning: Mean of empty slice\n",
      "  return np.nanmean(a, axis=axis, dtype=dtype)\n"
     ]
    },
    {
     "name": "stdout",
     "output_type": "stream",
     "text": [
      "<xarray.Dataset>\n",
      "Dimensions:  (lat: 901, lon: 1800)\n",
      "Coordinates:\n",
      "    depth    float32 0.0\n",
      "  * lat      (lat) float64 -90.0 -89.8 -89.6 -89.4 -89.2 ... 89.4 89.6 89.8 90.0\n",
      "  * lon      (lon) float64 -180.0 -179.8 -179.6 -179.4 ... 179.4 179.6 179.8\n",
      "Data variables:\n",
      "    so       (lat, lon) float64 nan nan nan nan nan nan ... nan nan nan nan nan\n",
      "    zos      (lat, lon) float64 nan nan nan nan nan nan ... nan nan nan nan nan\n",
      "329 Frozen(SortedKeysDict({'lat': 901, 'lon': 1800, 'time': 25}))\n"
     ]
    },
    {
     "name": "stderr",
     "output_type": "stream",
     "text": [
      "C:\\Users\\gentemann\\Miniconda3\\envs\\satenv\\lib\\site-packages\\xarray\\core\\nanops.py:159: RuntimeWarning: Mean of empty slice\n",
      "  return np.nanmean(a, axis=axis, dtype=dtype)\n"
     ]
    },
    {
     "name": "stdout",
     "output_type": "stream",
     "text": [
      "<xarray.Dataset>\n",
      "Dimensions:  (lat: 901, lon: 1800)\n",
      "Coordinates:\n",
      "    depth    float32 0.0\n",
      "  * lat      (lat) float64 -90.0 -89.8 -89.6 -89.4 -89.2 ... 89.4 89.6 89.8 90.0\n",
      "  * lon      (lon) float64 -180.0 -179.8 -179.6 -179.4 ... 179.4 179.6 179.8\n",
      "Data variables:\n",
      "    so       (lat, lon) float64 nan nan nan nan nan nan ... nan nan nan nan nan\n",
      "    zos      (lat, lon) float64 nan nan nan nan nan nan ... nan nan nan nan nan\n",
      "330 Frozen(SortedKeysDict({'lat': 901, 'lon': 1800, 'time': 26}))\n"
     ]
    },
    {
     "name": "stderr",
     "output_type": "stream",
     "text": [
      "C:\\Users\\gentemann\\Miniconda3\\envs\\satenv\\lib\\site-packages\\xarray\\core\\nanops.py:159: RuntimeWarning: Mean of empty slice\n",
      "  return np.nanmean(a, axis=axis, dtype=dtype)\n"
     ]
    },
    {
     "name": "stdout",
     "output_type": "stream",
     "text": [
      "<xarray.Dataset>\n",
      "Dimensions:  (lat: 901, lon: 1800)\n",
      "Coordinates:\n",
      "    depth    float32 0.0\n",
      "  * lat      (lat) float64 -90.0 -89.8 -89.6 -89.4 -89.2 ... 89.4 89.6 89.8 90.0\n",
      "  * lon      (lon) float64 -180.0 -179.8 -179.6 -179.4 ... 179.4 179.6 179.8\n",
      "Data variables:\n",
      "    so       (lat, lon) float64 nan nan nan nan nan nan ... nan nan nan nan nan\n",
      "    zos      (lat, lon) float64 nan nan nan nan nan nan ... nan nan nan nan nan\n",
      "331 Frozen(SortedKeysDict({'lat': 901, 'lon': 1800, 'time': 27}))\n"
     ]
    },
    {
     "name": "stderr",
     "output_type": "stream",
     "text": [
      "C:\\Users\\gentemann\\Miniconda3\\envs\\satenv\\lib\\site-packages\\xarray\\core\\nanops.py:159: RuntimeWarning: Mean of empty slice\n",
      "  return np.nanmean(a, axis=axis, dtype=dtype)\n"
     ]
    },
    {
     "name": "stdout",
     "output_type": "stream",
     "text": [
      "<xarray.Dataset>\n",
      "Dimensions:  (lat: 901, lon: 1800)\n",
      "Coordinates:\n",
      "    depth    float32 0.0\n",
      "  * lat      (lat) float64 -90.0 -89.8 -89.6 -89.4 -89.2 ... 89.4 89.6 89.8 90.0\n",
      "  * lon      (lon) float64 -180.0 -179.8 -179.6 -179.4 ... 179.4 179.6 179.8\n",
      "Data variables:\n",
      "    so       (lat, lon) float64 nan nan nan nan nan nan ... nan nan nan nan nan\n",
      "    zos      (lat, lon) float64 nan nan nan nan nan nan ... nan nan nan nan nan\n",
      "332 Frozen(SortedKeysDict({'lat': 901, 'lon': 1800, 'time': 28}))\n"
     ]
    },
    {
     "name": "stderr",
     "output_type": "stream",
     "text": [
      "C:\\Users\\gentemann\\Miniconda3\\envs\\satenv\\lib\\site-packages\\xarray\\core\\nanops.py:159: RuntimeWarning: Mean of empty slice\n",
      "  return np.nanmean(a, axis=axis, dtype=dtype)\n"
     ]
    },
    {
     "name": "stdout",
     "output_type": "stream",
     "text": [
      "<xarray.Dataset>\n",
      "Dimensions:  (lat: 901, lon: 1800)\n",
      "Coordinates:\n",
      "    depth    float32 0.0\n",
      "  * lat      (lat) float64 -90.0 -89.8 -89.6 -89.4 -89.2 ... 89.4 89.6 89.8 90.0\n",
      "  * lon      (lon) float64 -180.0 -179.8 -179.6 -179.4 ... 179.4 179.6 179.8\n",
      "Data variables:\n",
      "    so       (lat, lon) float64 nan nan nan nan nan nan ... nan nan nan nan nan\n",
      "    zos      (lat, lon) float64 nan nan nan nan nan nan ... nan nan nan nan nan\n",
      "333 Frozen(SortedKeysDict({'lat': 901, 'lon': 1800, 'time': 29}))\n"
     ]
    },
    {
     "name": "stderr",
     "output_type": "stream",
     "text": [
      "C:\\Users\\gentemann\\Miniconda3\\envs\\satenv\\lib\\site-packages\\xarray\\core\\nanops.py:159: RuntimeWarning: Mean of empty slice\n",
      "  return np.nanmean(a, axis=axis, dtype=dtype)\n"
     ]
    },
    {
     "name": "stdout",
     "output_type": "stream",
     "text": [
      "<xarray.Dataset>\n",
      "Dimensions:  (lat: 901, lon: 1800)\n",
      "Coordinates:\n",
      "    depth    float32 0.0\n",
      "  * lat      (lat) float64 -90.0 -89.8 -89.6 -89.4 -89.2 ... 89.4 89.6 89.8 90.0\n",
      "  * lon      (lon) float64 -180.0 -179.8 -179.6 -179.4 ... 179.4 179.6 179.8\n",
      "Data variables:\n",
      "    so       (lat, lon) float64 nan nan nan nan nan nan ... nan nan nan nan nan\n",
      "    zos      (lat, lon) float64 nan nan nan nan nan nan ... nan nan nan nan nan\n",
      "334 Frozen(SortedKeysDict({'lat': 901, 'lon': 1800, 'time': 30}))\n"
     ]
    },
    {
     "name": "stderr",
     "output_type": "stream",
     "text": [
      "C:\\Users\\gentemann\\Miniconda3\\envs\\satenv\\lib\\site-packages\\xarray\\core\\nanops.py:159: RuntimeWarning: Mean of empty slice\n",
      "  return np.nanmean(a, axis=axis, dtype=dtype)\n"
     ]
    },
    {
     "name": "stdout",
     "output_type": "stream",
     "text": [
      "out: F:/data/model_data/CMEM/global-analysis-forecast-phys_001_015/monthly/subset_metoffice_coupled_orca025_GL4_SAL_b201811_dm20180208.nc\n",
      "<xarray.Dataset>\n",
      "Dimensions:  (lat: 901, lon: 1800)\n",
      "Coordinates:\n",
      "    depth    float32 0.0\n",
      "  * lat      (lat) float64 -90.0 -89.8 -89.6 -89.4 -89.2 ... 89.4 89.6 89.8 90.0\n",
      "  * lon      (lon) float64 -180.0 -179.8 -179.6 -179.4 ... 179.4 179.6 179.8\n",
      "Data variables:\n",
      "    so       (lat, lon) float64 nan nan nan nan nan nan ... nan nan nan nan nan\n",
      "    zos      (lat, lon) float64 nan nan nan nan nan nan ... nan nan nan nan nan\n",
      "335 Frozen(SortedKeysDict({'lat': 901, 'lon': 1800}))\n",
      "<xarray.Dataset>\n",
      "Dimensions:  (lat: 901, lon: 1800)\n",
      "Coordinates:\n",
      "    depth    float32 0.0\n",
      "  * lat      (lat) float64 -90.0 -89.8 -89.6 -89.4 -89.2 ... 89.4 89.6 89.8 90.0\n",
      "  * lon      (lon) float64 -180.0 -179.8 -179.6 -179.4 ... 179.4 179.6 179.8\n",
      "Data variables:\n",
      "    so       (lat, lon) float64 nan nan nan nan nan nan ... nan nan nan nan nan\n",
      "    zos      (lat, lon) float64 nan nan nan nan nan nan ... nan nan nan nan nan\n",
      "336 Frozen(SortedKeysDict({'lat': 901, 'lon': 1800, 'time': 2}))\n"
     ]
    },
    {
     "name": "stderr",
     "output_type": "stream",
     "text": [
      "C:\\Users\\gentemann\\Miniconda3\\envs\\satenv\\lib\\site-packages\\xarray\\core\\nanops.py:159: RuntimeWarning: Mean of empty slice\n",
      "  return np.nanmean(a, axis=axis, dtype=dtype)\n"
     ]
    },
    {
     "name": "stdout",
     "output_type": "stream",
     "text": [
      "<xarray.Dataset>\n",
      "Dimensions:  (lat: 901, lon: 1800)\n",
      "Coordinates:\n",
      "    depth    float32 0.0\n",
      "  * lat      (lat) float64 -90.0 -89.8 -89.6 -89.4 -89.2 ... 89.4 89.6 89.8 90.0\n",
      "  * lon      (lon) float64 -180.0 -179.8 -179.6 -179.4 ... 179.4 179.6 179.8\n",
      "Data variables:\n",
      "    so       (lat, lon) float64 nan nan nan nan nan nan ... nan nan nan nan nan\n",
      "    zos      (lat, lon) float64 nan nan nan nan nan nan ... nan nan nan nan nan\n",
      "337 Frozen(SortedKeysDict({'lat': 901, 'lon': 1800, 'time': 3}))\n"
     ]
    },
    {
     "name": "stderr",
     "output_type": "stream",
     "text": [
      "C:\\Users\\gentemann\\Miniconda3\\envs\\satenv\\lib\\site-packages\\xarray\\core\\nanops.py:159: RuntimeWarning: Mean of empty slice\n",
      "  return np.nanmean(a, axis=axis, dtype=dtype)\n"
     ]
    },
    {
     "name": "stdout",
     "output_type": "stream",
     "text": [
      "<xarray.Dataset>\n",
      "Dimensions:  (lat: 901, lon: 1800)\n",
      "Coordinates:\n",
      "    depth    float32 0.0\n",
      "  * lat      (lat) float64 -90.0 -89.8 -89.6 -89.4 -89.2 ... 89.4 89.6 89.8 90.0\n",
      "  * lon      (lon) float64 -180.0 -179.8 -179.6 -179.4 ... 179.4 179.6 179.8\n",
      "Data variables:\n",
      "    so       (lat, lon) float64 nan nan nan nan nan nan ... nan nan nan nan nan\n",
      "    zos      (lat, lon) float64 nan nan nan nan nan nan ... nan nan nan nan nan\n",
      "338 Frozen(SortedKeysDict({'lat': 901, 'lon': 1800, 'time': 4}))\n"
     ]
    },
    {
     "name": "stderr",
     "output_type": "stream",
     "text": [
      "C:\\Users\\gentemann\\Miniconda3\\envs\\satenv\\lib\\site-packages\\xarray\\core\\nanops.py:159: RuntimeWarning: Mean of empty slice\n",
      "  return np.nanmean(a, axis=axis, dtype=dtype)\n"
     ]
    },
    {
     "name": "stdout",
     "output_type": "stream",
     "text": [
      "<xarray.Dataset>\n",
      "Dimensions:  (lat: 901, lon: 1800)\n",
      "Coordinates:\n",
      "    depth    float32 0.0\n",
      "  * lat      (lat) float64 -90.0 -89.8 -89.6 -89.4 -89.2 ... 89.4 89.6 89.8 90.0\n",
      "  * lon      (lon) float64 -180.0 -179.8 -179.6 -179.4 ... 179.4 179.6 179.8\n",
      "Data variables:\n",
      "    so       (lat, lon) float64 nan nan nan nan nan nan ... nan nan nan nan nan\n",
      "    zos      (lat, lon) float64 nan nan nan nan nan nan ... nan nan nan nan nan\n",
      "339 Frozen(SortedKeysDict({'lat': 901, 'lon': 1800, 'time': 5}))\n"
     ]
    },
    {
     "name": "stderr",
     "output_type": "stream",
     "text": [
      "C:\\Users\\gentemann\\Miniconda3\\envs\\satenv\\lib\\site-packages\\xarray\\core\\nanops.py:159: RuntimeWarning: Mean of empty slice\n",
      "  return np.nanmean(a, axis=axis, dtype=dtype)\n"
     ]
    },
    {
     "name": "stdout",
     "output_type": "stream",
     "text": [
      "<xarray.Dataset>\n",
      "Dimensions:  (lat: 901, lon: 1800)\n",
      "Coordinates:\n",
      "    depth    float32 0.0\n",
      "  * lat      (lat) float64 -90.0 -89.8 -89.6 -89.4 -89.2 ... 89.4 89.6 89.8 90.0\n",
      "  * lon      (lon) float64 -180.0 -179.8 -179.6 -179.4 ... 179.4 179.6 179.8\n",
      "Data variables:\n",
      "    so       (lat, lon) float64 nan nan nan nan nan nan ... nan nan nan nan nan\n",
      "    zos      (lat, lon) float64 nan nan nan nan nan nan ... nan nan nan nan nan\n",
      "340 Frozen(SortedKeysDict({'lat': 901, 'lon': 1800, 'time': 6}))\n"
     ]
    },
    {
     "name": "stderr",
     "output_type": "stream",
     "text": [
      "C:\\Users\\gentemann\\Miniconda3\\envs\\satenv\\lib\\site-packages\\xarray\\core\\nanops.py:159: RuntimeWarning: Mean of empty slice\n",
      "  return np.nanmean(a, axis=axis, dtype=dtype)\n"
     ]
    },
    {
     "name": "stdout",
     "output_type": "stream",
     "text": [
      "<xarray.Dataset>\n",
      "Dimensions:  (lat: 901, lon: 1800)\n",
      "Coordinates:\n",
      "    depth    float32 0.0\n",
      "  * lat      (lat) float64 -90.0 -89.8 -89.6 -89.4 -89.2 ... 89.4 89.6 89.8 90.0\n",
      "  * lon      (lon) float64 -180.0 -179.8 -179.6 -179.4 ... 179.4 179.6 179.8\n",
      "Data variables:\n",
      "    so       (lat, lon) float64 nan nan nan nan nan nan ... nan nan nan nan nan\n",
      "    zos      (lat, lon) float64 nan nan nan nan nan nan ... nan nan nan nan nan\n",
      "341 Frozen(SortedKeysDict({'lat': 901, 'lon': 1800, 'time': 7}))\n"
     ]
    },
    {
     "name": "stderr",
     "output_type": "stream",
     "text": [
      "C:\\Users\\gentemann\\Miniconda3\\envs\\satenv\\lib\\site-packages\\xarray\\core\\nanops.py:159: RuntimeWarning: Mean of empty slice\n",
      "  return np.nanmean(a, axis=axis, dtype=dtype)\n"
     ]
    },
    {
     "name": "stdout",
     "output_type": "stream",
     "text": [
      "<xarray.Dataset>\n",
      "Dimensions:  (lat: 901, lon: 1800)\n",
      "Coordinates:\n",
      "    depth    float32 0.0\n",
      "  * lat      (lat) float64 -90.0 -89.8 -89.6 -89.4 -89.2 ... 89.4 89.6 89.8 90.0\n",
      "  * lon      (lon) float64 -180.0 -179.8 -179.6 -179.4 ... 179.4 179.6 179.8\n",
      "Data variables:\n",
      "    so       (lat, lon) float64 nan nan nan nan nan nan ... nan nan nan nan nan\n",
      "    zos      (lat, lon) float64 nan nan nan nan nan nan ... nan nan nan nan nan\n",
      "342 Frozen(SortedKeysDict({'lat': 901, 'lon': 1800, 'time': 8}))\n"
     ]
    },
    {
     "name": "stderr",
     "output_type": "stream",
     "text": [
      "C:\\Users\\gentemann\\Miniconda3\\envs\\satenv\\lib\\site-packages\\xarray\\core\\nanops.py:159: RuntimeWarning: Mean of empty slice\n",
      "  return np.nanmean(a, axis=axis, dtype=dtype)\n"
     ]
    },
    {
     "name": "stdout",
     "output_type": "stream",
     "text": [
      "<xarray.Dataset>\n",
      "Dimensions:  (lat: 901, lon: 1800)\n",
      "Coordinates:\n",
      "    depth    float32 0.0\n",
      "  * lat      (lat) float64 -90.0 -89.8 -89.6 -89.4 -89.2 ... 89.4 89.6 89.8 90.0\n",
      "  * lon      (lon) float64 -180.0 -179.8 -179.6 -179.4 ... 179.4 179.6 179.8\n",
      "Data variables:\n",
      "    so       (lat, lon) float64 nan nan nan nan nan nan ... nan nan nan nan nan\n",
      "    zos      (lat, lon) float64 nan nan nan nan nan nan ... nan nan nan nan nan\n",
      "343 Frozen(SortedKeysDict({'lat': 901, 'lon': 1800, 'time': 9}))\n"
     ]
    },
    {
     "name": "stderr",
     "output_type": "stream",
     "text": [
      "C:\\Users\\gentemann\\Miniconda3\\envs\\satenv\\lib\\site-packages\\xarray\\core\\nanops.py:159: RuntimeWarning: Mean of empty slice\n",
      "  return np.nanmean(a, axis=axis, dtype=dtype)\n"
     ]
    },
    {
     "name": "stdout",
     "output_type": "stream",
     "text": [
      "<xarray.Dataset>\n",
      "Dimensions:  (lat: 901, lon: 1800)\n",
      "Coordinates:\n",
      "    depth    float32 0.0\n",
      "  * lat      (lat) float64 -90.0 -89.8 -89.6 -89.4 -89.2 ... 89.4 89.6 89.8 90.0\n",
      "  * lon      (lon) float64 -180.0 -179.8 -179.6 -179.4 ... 179.4 179.6 179.8\n",
      "Data variables:\n",
      "    so       (lat, lon) float64 nan nan nan nan nan nan ... nan nan nan nan nan\n",
      "    zos      (lat, lon) float64 nan nan nan nan nan nan ... nan nan nan nan nan\n",
      "344 Frozen(SortedKeysDict({'lat': 901, 'lon': 1800, 'time': 10}))\n"
     ]
    },
    {
     "name": "stderr",
     "output_type": "stream",
     "text": [
      "C:\\Users\\gentemann\\Miniconda3\\envs\\satenv\\lib\\site-packages\\xarray\\core\\nanops.py:159: RuntimeWarning: Mean of empty slice\n",
      "  return np.nanmean(a, axis=axis, dtype=dtype)\n"
     ]
    },
    {
     "name": "stdout",
     "output_type": "stream",
     "text": [
      "<xarray.Dataset>\n",
      "Dimensions:  (lat: 901, lon: 1800)\n",
      "Coordinates:\n",
      "    depth    float32 0.0\n",
      "  * lat      (lat) float64 -90.0 -89.8 -89.6 -89.4 -89.2 ... 89.4 89.6 89.8 90.0\n",
      "  * lon      (lon) float64 -180.0 -179.8 -179.6 -179.4 ... 179.4 179.6 179.8\n",
      "Data variables:\n",
      "    so       (lat, lon) float64 nan nan nan nan nan nan ... nan nan nan nan nan\n",
      "    zos      (lat, lon) float64 nan nan nan nan nan nan ... nan nan nan nan nan\n",
      "345 Frozen(SortedKeysDict({'lat': 901, 'lon': 1800, 'time': 11}))\n"
     ]
    },
    {
     "name": "stderr",
     "output_type": "stream",
     "text": [
      "C:\\Users\\gentemann\\Miniconda3\\envs\\satenv\\lib\\site-packages\\xarray\\core\\nanops.py:159: RuntimeWarning: Mean of empty slice\n",
      "  return np.nanmean(a, axis=axis, dtype=dtype)\n"
     ]
    },
    {
     "name": "stdout",
     "output_type": "stream",
     "text": [
      "<xarray.Dataset>\n",
      "Dimensions:  (lat: 901, lon: 1800)\n",
      "Coordinates:\n",
      "    depth    float32 0.0\n",
      "  * lat      (lat) float64 -90.0 -89.8 -89.6 -89.4 -89.2 ... 89.4 89.6 89.8 90.0\n",
      "  * lon      (lon) float64 -180.0 -179.8 -179.6 -179.4 ... 179.4 179.6 179.8\n",
      "Data variables:\n",
      "    so       (lat, lon) float64 nan nan nan nan nan nan ... nan nan nan nan nan\n",
      "    zos      (lat, lon) float64 nan nan nan nan nan nan ... nan nan nan nan nan\n",
      "346 Frozen(SortedKeysDict({'lat': 901, 'lon': 1800, 'time': 12}))\n"
     ]
    },
    {
     "name": "stderr",
     "output_type": "stream",
     "text": [
      "C:\\Users\\gentemann\\Miniconda3\\envs\\satenv\\lib\\site-packages\\xarray\\core\\nanops.py:159: RuntimeWarning: Mean of empty slice\n",
      "  return np.nanmean(a, axis=axis, dtype=dtype)\n"
     ]
    },
    {
     "name": "stdout",
     "output_type": "stream",
     "text": [
      "<xarray.Dataset>\n",
      "Dimensions:  (lat: 901, lon: 1800)\n",
      "Coordinates:\n",
      "    depth    float32 0.0\n",
      "  * lat      (lat) float64 -90.0 -89.8 -89.6 -89.4 -89.2 ... 89.4 89.6 89.8 90.0\n",
      "  * lon      (lon) float64 -180.0 -179.8 -179.6 -179.4 ... 179.4 179.6 179.8\n",
      "Data variables:\n",
      "    so       (lat, lon) float64 nan nan nan nan nan nan ... nan nan nan nan nan\n",
      "    zos      (lat, lon) float64 nan nan nan nan nan nan ... nan nan nan nan nan\n",
      "347 Frozen(SortedKeysDict({'lat': 901, 'lon': 1800, 'time': 13}))\n"
     ]
    },
    {
     "name": "stderr",
     "output_type": "stream",
     "text": [
      "C:\\Users\\gentemann\\Miniconda3\\envs\\satenv\\lib\\site-packages\\xarray\\core\\nanops.py:159: RuntimeWarning: Mean of empty slice\n",
      "  return np.nanmean(a, axis=axis, dtype=dtype)\n"
     ]
    },
    {
     "name": "stdout",
     "output_type": "stream",
     "text": [
      "<xarray.Dataset>\n",
      "Dimensions:  (lat: 901, lon: 1800)\n",
      "Coordinates:\n",
      "    depth    float32 0.0\n",
      "  * lat      (lat) float64 -90.0 -89.8 -89.6 -89.4 -89.2 ... 89.4 89.6 89.8 90.0\n",
      "  * lon      (lon) float64 -180.0 -179.8 -179.6 -179.4 ... 179.4 179.6 179.8\n",
      "Data variables:\n",
      "    so       (lat, lon) float64 nan nan nan nan nan nan ... nan nan nan nan nan\n",
      "    zos      (lat, lon) float64 nan nan nan nan nan nan ... nan nan nan nan nan\n",
      "348 Frozen(SortedKeysDict({'lat': 901, 'lon': 1800, 'time': 14}))\n"
     ]
    },
    {
     "name": "stderr",
     "output_type": "stream",
     "text": [
      "C:\\Users\\gentemann\\Miniconda3\\envs\\satenv\\lib\\site-packages\\xarray\\core\\nanops.py:159: RuntimeWarning: Mean of empty slice\n",
      "  return np.nanmean(a, axis=axis, dtype=dtype)\n"
     ]
    },
    {
     "name": "stdout",
     "output_type": "stream",
     "text": [
      "<xarray.Dataset>\n",
      "Dimensions:  (lat: 901, lon: 1800)\n",
      "Coordinates:\n",
      "    depth    float32 0.0\n",
      "  * lat      (lat) float64 -90.0 -89.8 -89.6 -89.4 -89.2 ... 89.4 89.6 89.8 90.0\n",
      "  * lon      (lon) float64 -180.0 -179.8 -179.6 -179.4 ... 179.4 179.6 179.8\n",
      "Data variables:\n",
      "    so       (lat, lon) float64 nan nan nan nan nan nan ... nan nan nan nan nan\n",
      "    zos      (lat, lon) float64 nan nan nan nan nan nan ... nan nan nan nan nan\n",
      "349 Frozen(SortedKeysDict({'lat': 901, 'lon': 1800, 'time': 15}))\n"
     ]
    },
    {
     "name": "stderr",
     "output_type": "stream",
     "text": [
      "C:\\Users\\gentemann\\Miniconda3\\envs\\satenv\\lib\\site-packages\\xarray\\core\\nanops.py:159: RuntimeWarning: Mean of empty slice\n",
      "  return np.nanmean(a, axis=axis, dtype=dtype)\n"
     ]
    },
    {
     "name": "stdout",
     "output_type": "stream",
     "text": [
      "<xarray.Dataset>\n",
      "Dimensions:  (lat: 901, lon: 1800)\n",
      "Coordinates:\n",
      "    depth    float32 0.0\n",
      "  * lat      (lat) float64 -90.0 -89.8 -89.6 -89.4 -89.2 ... 89.4 89.6 89.8 90.0\n",
      "  * lon      (lon) float64 -180.0 -179.8 -179.6 -179.4 ... 179.4 179.6 179.8\n",
      "Data variables:\n",
      "    so       (lat, lon) float64 nan nan nan nan nan nan ... nan nan nan nan nan\n",
      "    zos      (lat, lon) float64 nan nan nan nan nan nan ... nan nan nan nan nan\n",
      "350 Frozen(SortedKeysDict({'lat': 901, 'lon': 1800, 'time': 16}))\n"
     ]
    },
    {
     "name": "stderr",
     "output_type": "stream",
     "text": [
      "C:\\Users\\gentemann\\Miniconda3\\envs\\satenv\\lib\\site-packages\\xarray\\core\\nanops.py:159: RuntimeWarning: Mean of empty slice\n",
      "  return np.nanmean(a, axis=axis, dtype=dtype)\n"
     ]
    },
    {
     "name": "stdout",
     "output_type": "stream",
     "text": [
      "<xarray.Dataset>\n",
      "Dimensions:  (lat: 901, lon: 1800)\n",
      "Coordinates:\n",
      "    depth    float32 0.0\n",
      "  * lat      (lat) float64 -90.0 -89.8 -89.6 -89.4 -89.2 ... 89.4 89.6 89.8 90.0\n",
      "  * lon      (lon) float64 -180.0 -179.8 -179.6 -179.4 ... 179.4 179.6 179.8\n",
      "Data variables:\n",
      "    so       (lat, lon) float64 nan nan nan nan nan nan ... nan nan nan nan nan\n",
      "    zos      (lat, lon) float64 nan nan nan nan nan nan ... nan nan nan nan nan\n",
      "351 Frozen(SortedKeysDict({'lat': 901, 'lon': 1800, 'time': 17}))\n"
     ]
    },
    {
     "name": "stderr",
     "output_type": "stream",
     "text": [
      "C:\\Users\\gentemann\\Miniconda3\\envs\\satenv\\lib\\site-packages\\xarray\\core\\nanops.py:159: RuntimeWarning: Mean of empty slice\n",
      "  return np.nanmean(a, axis=axis, dtype=dtype)\n"
     ]
    },
    {
     "name": "stdout",
     "output_type": "stream",
     "text": [
      "<xarray.Dataset>\n",
      "Dimensions:  (lat: 901, lon: 1800)\n",
      "Coordinates:\n",
      "    depth    float32 0.0\n",
      "  * lat      (lat) float64 -90.0 -89.8 -89.6 -89.4 -89.2 ... 89.4 89.6 89.8 90.0\n",
      "  * lon      (lon) float64 -180.0 -179.8 -179.6 -179.4 ... 179.4 179.6 179.8\n",
      "Data variables:\n",
      "    so       (lat, lon) float64 nan nan nan nan nan nan ... nan nan nan nan nan\n",
      "    zos      (lat, lon) float64 nan nan nan nan nan nan ... nan nan nan nan nan\n",
      "352 Frozen(SortedKeysDict({'lat': 901, 'lon': 1800, 'time': 18}))\n"
     ]
    },
    {
     "name": "stderr",
     "output_type": "stream",
     "text": [
      "C:\\Users\\gentemann\\Miniconda3\\envs\\satenv\\lib\\site-packages\\xarray\\core\\nanops.py:159: RuntimeWarning: Mean of empty slice\n",
      "  return np.nanmean(a, axis=axis, dtype=dtype)\n"
     ]
    },
    {
     "name": "stdout",
     "output_type": "stream",
     "text": [
      "<xarray.Dataset>\n",
      "Dimensions:  (lat: 901, lon: 1800)\n",
      "Coordinates:\n",
      "    depth    float32 0.0\n",
      "  * lat      (lat) float64 -90.0 -89.8 -89.6 -89.4 -89.2 ... 89.4 89.6 89.8 90.0\n",
      "  * lon      (lon) float64 -180.0 -179.8 -179.6 -179.4 ... 179.4 179.6 179.8\n",
      "Data variables:\n",
      "    so       (lat, lon) float64 nan nan nan nan nan nan ... nan nan nan nan nan\n",
      "    zos      (lat, lon) float64 nan nan nan nan nan nan ... nan nan nan nan nan\n",
      "353 Frozen(SortedKeysDict({'lat': 901, 'lon': 1800, 'time': 19}))\n"
     ]
    },
    {
     "name": "stderr",
     "output_type": "stream",
     "text": [
      "C:\\Users\\gentemann\\Miniconda3\\envs\\satenv\\lib\\site-packages\\xarray\\core\\nanops.py:159: RuntimeWarning: Mean of empty slice\n",
      "  return np.nanmean(a, axis=axis, dtype=dtype)\n"
     ]
    },
    {
     "name": "stdout",
     "output_type": "stream",
     "text": [
      "<xarray.Dataset>\n",
      "Dimensions:  (lat: 901, lon: 1800)\n",
      "Coordinates:\n",
      "    depth    float32 0.0\n",
      "  * lat      (lat) float64 -90.0 -89.8 -89.6 -89.4 -89.2 ... 89.4 89.6 89.8 90.0\n",
      "  * lon      (lon) float64 -180.0 -179.8 -179.6 -179.4 ... 179.4 179.6 179.8\n",
      "Data variables:\n",
      "    so       (lat, lon) float64 nan nan nan nan nan nan ... nan nan nan nan nan\n",
      "    zos      (lat, lon) float64 nan nan nan nan nan nan ... nan nan nan nan nan\n",
      "354 Frozen(SortedKeysDict({'lat': 901, 'lon': 1800, 'time': 20}))\n"
     ]
    },
    {
     "name": "stderr",
     "output_type": "stream",
     "text": [
      "C:\\Users\\gentemann\\Miniconda3\\envs\\satenv\\lib\\site-packages\\xarray\\core\\nanops.py:159: RuntimeWarning: Mean of empty slice\n",
      "  return np.nanmean(a, axis=axis, dtype=dtype)\n"
     ]
    },
    {
     "name": "stdout",
     "output_type": "stream",
     "text": [
      "<xarray.Dataset>\n",
      "Dimensions:  (lat: 901, lon: 1800)\n",
      "Coordinates:\n",
      "    depth    float32 0.0\n",
      "  * lat      (lat) float64 -90.0 -89.8 -89.6 -89.4 -89.2 ... 89.4 89.6 89.8 90.0\n",
      "  * lon      (lon) float64 -180.0 -179.8 -179.6 -179.4 ... 179.4 179.6 179.8\n",
      "Data variables:\n",
      "    so       (lat, lon) float64 nan nan nan nan nan nan ... nan nan nan nan nan\n",
      "    zos      (lat, lon) float64 nan nan nan nan nan nan ... nan nan nan nan nan\n",
      "355 Frozen(SortedKeysDict({'lat': 901, 'lon': 1800, 'time': 21}))\n"
     ]
    },
    {
     "name": "stderr",
     "output_type": "stream",
     "text": [
      "C:\\Users\\gentemann\\Miniconda3\\envs\\satenv\\lib\\site-packages\\xarray\\core\\nanops.py:159: RuntimeWarning: Mean of empty slice\n",
      "  return np.nanmean(a, axis=axis, dtype=dtype)\n"
     ]
    },
    {
     "name": "stdout",
     "output_type": "stream",
     "text": [
      "<xarray.Dataset>\n",
      "Dimensions:  (lat: 901, lon: 1800)\n",
      "Coordinates:\n",
      "    depth    float32 0.0\n",
      "  * lat      (lat) float64 -90.0 -89.8 -89.6 -89.4 -89.2 ... 89.4 89.6 89.8 90.0\n",
      "  * lon      (lon) float64 -180.0 -179.8 -179.6 -179.4 ... 179.4 179.6 179.8\n",
      "Data variables:\n",
      "    so       (lat, lon) float64 nan nan nan nan nan nan ... nan nan nan nan nan\n",
      "    zos      (lat, lon) float64 nan nan nan nan nan nan ... nan nan nan nan nan\n",
      "356 Frozen(SortedKeysDict({'lat': 901, 'lon': 1800, 'time': 22}))\n"
     ]
    },
    {
     "name": "stderr",
     "output_type": "stream",
     "text": [
      "C:\\Users\\gentemann\\Miniconda3\\envs\\satenv\\lib\\site-packages\\xarray\\core\\nanops.py:159: RuntimeWarning: Mean of empty slice\n",
      "  return np.nanmean(a, axis=axis, dtype=dtype)\n"
     ]
    },
    {
     "name": "stdout",
     "output_type": "stream",
     "text": [
      "<xarray.Dataset>\n",
      "Dimensions:  (lat: 901, lon: 1800)\n",
      "Coordinates:\n",
      "    depth    float32 0.0\n",
      "  * lat      (lat) float64 -90.0 -89.8 -89.6 -89.4 -89.2 ... 89.4 89.6 89.8 90.0\n",
      "  * lon      (lon) float64 -180.0 -179.8 -179.6 -179.4 ... 179.4 179.6 179.8\n",
      "Data variables:\n",
      "    so       (lat, lon) float64 nan nan nan nan nan nan ... nan nan nan nan nan\n",
      "    zos      (lat, lon) float64 nan nan nan nan nan nan ... nan nan nan nan nan\n",
      "357 Frozen(SortedKeysDict({'lat': 901, 'lon': 1800, 'time': 23}))\n"
     ]
    },
    {
     "name": "stderr",
     "output_type": "stream",
     "text": [
      "C:\\Users\\gentemann\\Miniconda3\\envs\\satenv\\lib\\site-packages\\xarray\\core\\nanops.py:159: RuntimeWarning: Mean of empty slice\n",
      "  return np.nanmean(a, axis=axis, dtype=dtype)\n"
     ]
    },
    {
     "name": "stdout",
     "output_type": "stream",
     "text": [
      "<xarray.Dataset>\n",
      "Dimensions:  (lat: 901, lon: 1800)\n",
      "Coordinates:\n",
      "    depth    float32 0.0\n",
      "  * lat      (lat) float64 -90.0 -89.8 -89.6 -89.4 -89.2 ... 89.4 89.6 89.8 90.0\n",
      "  * lon      (lon) float64 -180.0 -179.8 -179.6 -179.4 ... 179.4 179.6 179.8\n",
      "Data variables:\n",
      "    so       (lat, lon) float64 nan nan nan nan nan nan ... nan nan nan nan nan\n",
      "    zos      (lat, lon) float64 nan nan nan nan nan nan ... nan nan nan nan nan\n",
      "358 Frozen(SortedKeysDict({'lat': 901, 'lon': 1800, 'time': 24}))\n"
     ]
    },
    {
     "name": "stderr",
     "output_type": "stream",
     "text": [
      "C:\\Users\\gentemann\\Miniconda3\\envs\\satenv\\lib\\site-packages\\xarray\\core\\nanops.py:159: RuntimeWarning: Mean of empty slice\n",
      "  return np.nanmean(a, axis=axis, dtype=dtype)\n"
     ]
    },
    {
     "name": "stdout",
     "output_type": "stream",
     "text": [
      "<xarray.Dataset>\n",
      "Dimensions:  (lat: 901, lon: 1800)\n",
      "Coordinates:\n",
      "    depth    float32 0.0\n",
      "  * lat      (lat) float64 -90.0 -89.8 -89.6 -89.4 -89.2 ... 89.4 89.6 89.8 90.0\n",
      "  * lon      (lon) float64 -180.0 -179.8 -179.6 -179.4 ... 179.4 179.6 179.8\n",
      "Data variables:\n",
      "    so       (lat, lon) float64 nan nan nan nan nan nan ... nan nan nan nan nan\n",
      "    zos      (lat, lon) float64 nan nan nan nan nan nan ... nan nan nan nan nan\n",
      "359 Frozen(SortedKeysDict({'lat': 901, 'lon': 1800, 'time': 25}))\n"
     ]
    },
    {
     "name": "stderr",
     "output_type": "stream",
     "text": [
      "C:\\Users\\gentemann\\Miniconda3\\envs\\satenv\\lib\\site-packages\\xarray\\core\\nanops.py:159: RuntimeWarning: Mean of empty slice\n",
      "  return np.nanmean(a, axis=axis, dtype=dtype)\n"
     ]
    },
    {
     "name": "stdout",
     "output_type": "stream",
     "text": [
      "<xarray.Dataset>\n",
      "Dimensions:  (lat: 901, lon: 1800)\n",
      "Coordinates:\n",
      "    depth    float32 0.0\n",
      "  * lat      (lat) float64 -90.0 -89.8 -89.6 -89.4 -89.2 ... 89.4 89.6 89.8 90.0\n",
      "  * lon      (lon) float64 -180.0 -179.8 -179.6 -179.4 ... 179.4 179.6 179.8\n",
      "Data variables:\n",
      "    so       (lat, lon) float64 nan nan nan nan nan nan ... nan nan nan nan nan\n",
      "    zos      (lat, lon) float64 nan nan nan nan nan nan ... nan nan nan nan nan\n",
      "360 Frozen(SortedKeysDict({'lat': 901, 'lon': 1800, 'time': 26}))\n"
     ]
    },
    {
     "name": "stderr",
     "output_type": "stream",
     "text": [
      "C:\\Users\\gentemann\\Miniconda3\\envs\\satenv\\lib\\site-packages\\xarray\\core\\nanops.py:159: RuntimeWarning: Mean of empty slice\n",
      "  return np.nanmean(a, axis=axis, dtype=dtype)\n"
     ]
    },
    {
     "name": "stdout",
     "output_type": "stream",
     "text": [
      "<xarray.Dataset>\n",
      "Dimensions:  (lat: 901, lon: 1800)\n",
      "Coordinates:\n",
      "    depth    float32 0.0\n",
      "  * lat      (lat) float64 -90.0 -89.8 -89.6 -89.4 -89.2 ... 89.4 89.6 89.8 90.0\n",
      "  * lon      (lon) float64 -180.0 -179.8 -179.6 -179.4 ... 179.4 179.6 179.8\n",
      "Data variables:\n",
      "    so       (lat, lon) float64 nan nan nan nan nan nan ... nan nan nan nan nan\n",
      "    zos      (lat, lon) float64 nan nan nan nan nan nan ... nan nan nan nan nan\n",
      "361 Frozen(SortedKeysDict({'lat': 901, 'lon': 1800, 'time': 27}))\n"
     ]
    },
    {
     "name": "stderr",
     "output_type": "stream",
     "text": [
      "C:\\Users\\gentemann\\Miniconda3\\envs\\satenv\\lib\\site-packages\\xarray\\core\\nanops.py:159: RuntimeWarning: Mean of empty slice\n",
      "  return np.nanmean(a, axis=axis, dtype=dtype)\n"
     ]
    },
    {
     "name": "stdout",
     "output_type": "stream",
     "text": [
      "<xarray.Dataset>\n",
      "Dimensions:  (lat: 901, lon: 1800)\n",
      "Coordinates:\n",
      "    depth    float32 0.0\n",
      "  * lat      (lat) float64 -90.0 -89.8 -89.6 -89.4 -89.2 ... 89.4 89.6 89.8 90.0\n",
      "  * lon      (lon) float64 -180.0 -179.8 -179.6 -179.4 ... 179.4 179.6 179.8\n",
      "Data variables:\n",
      "    so       (lat, lon) float64 nan nan nan nan nan nan ... nan nan nan nan nan\n",
      "    zos      (lat, lon) float64 nan nan nan nan nan nan ... nan nan nan nan nan\n",
      "362 Frozen(SortedKeysDict({'lat': 901, 'lon': 1800, 'time': 28}))\n"
     ]
    },
    {
     "name": "stderr",
     "output_type": "stream",
     "text": [
      "C:\\Users\\gentemann\\Miniconda3\\envs\\satenv\\lib\\site-packages\\xarray\\core\\nanops.py:159: RuntimeWarning: Mean of empty slice\n",
      "  return np.nanmean(a, axis=axis, dtype=dtype)\n"
     ]
    },
    {
     "name": "stdout",
     "output_type": "stream",
     "text": [
      "<xarray.Dataset>\n",
      "Dimensions:  (lat: 901, lon: 1800)\n",
      "Coordinates:\n",
      "    depth    float32 0.0\n",
      "  * lat      (lat) float64 -90.0 -89.8 -89.6 -89.4 -89.2 ... 89.4 89.6 89.8 90.0\n",
      "  * lon      (lon) float64 -180.0 -179.8 -179.6 -179.4 ... 179.4 179.6 179.8\n",
      "Data variables:\n",
      "    so       (lat, lon) float64 nan nan nan nan nan nan ... nan nan nan nan nan\n",
      "    zos      (lat, lon) float64 nan nan nan nan nan nan ... nan nan nan nan nan\n",
      "363 Frozen(SortedKeysDict({'lat': 901, 'lon': 1800, 'time': 29}))\n"
     ]
    },
    {
     "name": "stderr",
     "output_type": "stream",
     "text": [
      "C:\\Users\\gentemann\\Miniconda3\\envs\\satenv\\lib\\site-packages\\xarray\\core\\nanops.py:159: RuntimeWarning: Mean of empty slice\n",
      "  return np.nanmean(a, axis=axis, dtype=dtype)\n"
     ]
    },
    {
     "name": "stdout",
     "output_type": "stream",
     "text": [
      "<xarray.Dataset>\n",
      "Dimensions:  (lat: 901, lon: 1800)\n",
      "Coordinates:\n",
      "    depth    float32 0.0\n",
      "  * lat      (lat) float64 -90.0 -89.8 -89.6 -89.4 -89.2 ... 89.4 89.6 89.8 90.0\n",
      "  * lon      (lon) float64 -180.0 -179.8 -179.6 -179.4 ... 179.4 179.6 179.8\n",
      "Data variables:\n",
      "    so       (lat, lon) float64 nan nan nan nan nan nan ... nan nan nan nan nan\n",
      "    zos      (lat, lon) float64 nan nan nan nan nan nan ... nan nan nan nan nan\n",
      "364 Frozen(SortedKeysDict({'lat': 901, 'lon': 1800, 'time': 30}))\n"
     ]
    },
    {
     "name": "stderr",
     "output_type": "stream",
     "text": [
      "C:\\Users\\gentemann\\Miniconda3\\envs\\satenv\\lib\\site-packages\\xarray\\core\\nanops.py:159: RuntimeWarning: Mean of empty slice\n",
      "  return np.nanmean(a, axis=axis, dtype=dtype)\n"
     ]
    },
    {
     "name": "stdout",
     "output_type": "stream",
     "text": [
      "<xarray.Dataset>\n",
      "Dimensions:  (lat: 901, lon: 1800)\n",
      "Coordinates:\n",
      "    depth    float32 0.0\n",
      "  * lat      (lat) float64 -90.0 -89.8 -89.6 -89.4 -89.2 ... 89.4 89.6 89.8 90.0\n",
      "  * lon      (lon) float64 -180.0 -179.8 -179.6 -179.4 ... 179.4 179.6 179.8\n",
      "Data variables:\n",
      "    so       (lat, lon) float64 nan nan nan nan nan nan ... nan nan nan nan nan\n",
      "    zos      (lat, lon) float64 nan nan nan nan nan nan ... nan nan nan nan nan\n",
      "365 Frozen(SortedKeysDict({'lat': 901, 'lon': 1800, 'time': 31}))\n"
     ]
    },
    {
     "name": "stderr",
     "output_type": "stream",
     "text": [
      "C:\\Users\\gentemann\\Miniconda3\\envs\\satenv\\lib\\site-packages\\xarray\\core\\nanops.py:159: RuntimeWarning: Mean of empty slice\n",
      "  return np.nanmean(a, axis=axis, dtype=dtype)\n"
     ]
    },
    {
     "name": "stdout",
     "output_type": "stream",
     "text": [
      "out: F:/data/model_data/CMEM/global-analysis-forecast-phys_001_015/monthly/subset_metoffice_coupled_orca025_GL4_SAL_b201812_dm20180208.nc\n"
     ]
    }
   ],
   "source": [
    "#Daily NRT files are huge becauseo of depth layers, so lower spatial resolution and only save surface data\n",
    "#also put into monthly file          \n",
    "file1 = 'F:/data/model_data/CMEM/global-reanalysis-phy-001-030-monthly/2017/year_subset_mercatorglorys12v1_gl12_mean_2017.nc'\n",
    "ds1 = xr.open_dataset(file1)\n",
    "ds1.close()\n",
    "for lyr in range(2018,2019): \n",
    "    ds_mnth=[]\n",
    "    for imon in range(1,13): #:13):\n",
    "        init = 0\n",
    "        for idyjl in range(1,366):\n",
    "            d = dt.date(lyr,1,1) + dt.timedelta(idyjl - 1)\n",
    "            dd=dt.datetime(lyr,1,1) + dt.timedelta(idyjl - 1)\n",
    "            if d.month!=imon:\n",
    "                continue\n",
    "            filename = sss_nrt_filename(d)\n",
    "            ds = xr.open_dataset(filename)\n",
    "            ds = ds.drop('time').mean('time')\n",
    "            ds = ds.assign_coords(lon=(((ds.lon + 180) % 360) - 180)).sortby('lon').sortby('lat')\n",
    "            #ds['time']=dd\n",
    "            ds.assign_coords(time=dd)\n",
    "            ds.expand_dims('time')\n",
    "            ds_subset = ds.sel(depth = ds.depth[0].data)\n",
    "            ds.close()\n",
    "            filename = ssh_nrt_filename(d)\n",
    "            ds_tem = xr.open_dataset(filename)\n",
    "            ds_tem = ds_tem.drop('time').mean('time')\n",
    "            ds_tem = ds_tem.assign_coords(lon=(((ds_tem.lon + 180) % 360) - 180)).sortby('lon').sortby('lat')\n",
    "            #ds_tem['time']=dd\n",
    "            ds_tem.assign_coords(time=dd)\n",
    "            ds_tem.expand_dims('time')\n",
    "            ds_subset['zos']=ds_tem['zos']\n",
    "            ds_tem.close()\n",
    "            ds_low_res = ds_subset.interp(lat = new_lat,lon = new_lon)\n",
    "            print(ds_low_res)\n",
    "            if init==0:\n",
    "                ds_sum = ds_low_res\n",
    "                init = 1\n",
    "            else:\n",
    "                ds_sum = xr.concat([ds_sum,ds_low_res],dim = 'time')\n",
    "            print(idyjl,ds_sum.dims)\n",
    "        #ds_clim2 = ds_sum.resample(time='M').mean()   \n",
    "        ds_clim2 = ds_sum.mean('time',keep_attrs=True)\n",
    "        #ds_clim2.assign_coords(time=dd.month)\n",
    "        ds_clim2.expand_dims('time',0)\n",
    "        dd=dt.datetime(lyr,imon,1)\n",
    "        ds_clim2.coords['time']=ds1.time[imon-1].values+np.timedelta64(365,'D')\n",
    "#        ds_clim2 = ds_sum.groupby('time.month').mean('time')\n",
    "        #ds_sum = ds_sum.mean('time',skipna=True)\n",
    "        ds_mnth.append(ds_clim2)\n",
    "        d = dt.date(lyr,imon,1)\n",
    "        filename_month = sss_nrt_filename_new_monthly(d)\n",
    "        print('out:',filename_month)\n",
    "        ds_clim2.to_netcdf(filename_month)\n",
    "    combined = xr.concat(ds_mnth, dim='time')\n",
    "    filename_new = sss_nrt_filename_new_yearly(d)\n",
    "    combined.to_netcdf(filename_new)\n",
    "    "
   ]
  },
  {
   "cell_type": "code",
   "execution_count": 8,
   "metadata": {},
   "outputs": [
    {
     "name": "stdout",
     "output_type": "stream",
     "text": [
      "F:/data/model_data/CMEM/global-analysis-forecast-phys_001_015/monthly/year_subset_metoffice_coupled_orca025_GL4_SAL_b2018_dm20180208.nc\n",
      "F:/data/model_data/CMEM/global-analysis-forecast-phys_001_015/monthly/year_subset_metoffice_coupled_orca025_GL4_SAL_b2018_dm20180208.nc\n"
     ]
    }
   ],
   "source": [
    "d = dt.date(2018,12,1)\n",
    "fname = sss_nrt_filename_new_yearly(d)\n",
    "print(fname)\n",
    "ds = xr.open_dataset(fname)\n",
    "d = dt.date(2017,12,1)\n",
    "print(fname)\n",
    "fname = sss_filename_new_yearly(d)\n",
    "ds2 = xr.open_dataset(fname)"
   ]
  },
  {
   "cell_type": "code",
   "execution_count": 15,
   "metadata": {},
   "outputs": [
    {
     "data": {
      "text/plain": [
       "<xarray.Dataset>\n",
       "Dimensions:  (lat: 901, lon: 1800, time: 12)\n",
       "Coordinates:\n",
       "    depth    float32 ...\n",
       "  * lat      (lat) float64 -90.0 -89.8 -89.6 -89.4 -89.2 ... 89.4 89.6 89.8 90.0\n",
       "  * lon      (lon) float64 -180.0 -179.8 -179.6 -179.4 ... 179.4 179.6 179.8\n",
       "  * time     (time) datetime64[ns] 2018-01-16T12:00:00 ... 2018-12-16T12:00:00\n",
       "Data variables:\n",
       "    so       (time, lat, lon) float64 ...\n",
       "    zos      (time, lat, lon) float64 ..."
      ]
     },
     "execution_count": 15,
     "metadata": {},
     "output_type": "execute_result"
    }
   ],
   "source": [
    "ds"
   ]
  },
  {
   "cell_type": "code",
   "execution_count": 16,
   "metadata": {},
   "outputs": [
    {
     "data": {
      "text/plain": [
       "<xarray.Dataset>\n",
       "Dimensions:  (lat: 901, lon: 1800, time: 12)\n",
       "Coordinates:\n",
       "    depth    float32 ...\n",
       "  * lat      (lat) float64 -90.0 -89.8 -89.6 -89.4 -89.2 ... 89.4 89.6 89.8 90.0\n",
       "  * lon      (lon) float64 -180.0 -179.8 -179.6 -179.4 ... 179.4 179.6 179.8\n",
       "  * time     (time) datetime64[ns] 2017-01-16T12:00:00 ... 2017-12-16T12:00:00\n",
       "Data variables:\n",
       "    mlotst   (time, lat, lon) float64 ...\n",
       "    zos      (time, lat, lon) float64 ...\n",
       "    bottomT  (time, lat, lon) float64 ...\n",
       "    sithick  (time, lat, lon) float64 ...\n",
       "    siconc   (time, lat, lon) float64 ...\n",
       "    usi      (time, lat, lon) float64 ...\n",
       "    vsi      (time, lat, lon) float64 ...\n",
       "    thetao   (time, lat, lon) float64 ...\n",
       "    so       (time, lat, lon) float64 ...\n",
       "    uo       (time, lat, lon) float64 ...\n",
       "    vo       (time, lat, lon) float64 ...\n",
       "Attributes:\n",
       "    title:                         Monthly mean fields for product GLOBAL_REA...\n",
       "    references:                    http://marine.copernicus.eu\n",
       "    credit:                        E.U. Copernicus Marine Service Information...\n",
       "    licence:                       http://marine.copernicus.eu/services-portf...\n",
       "    contact:                       servicedesk.cmems@mercator-ocean.eu\n",
       "    producer:                      CMEMS - Global Monitoring and Forecasting ...\n",
       "    institution:                   Mercator Ocean\n",
       "    Conventions:                   CF-1.6\n",
       "    area:                          GLOBAL\n",
       "    product:                       GLOBAL_REANALYSIS_001_030\n",
       "    dataset:                       global-reanalysis-001-030-monthly\n",
       "    source:                        MERCATOR GLORYS12V1\n",
       "    product_user_manual:           http://marine.copernicus.eu/documents/PUM/...\n",
       "    quality_information_document:  http://marine.copernicus.eu/documents/QUID..."
      ]
     },
     "execution_count": 16,
     "metadata": {},
     "output_type": "execute_result"
    }
   ],
   "source": [
    "ds2"
   ]
  },
  {
   "cell_type": "code",
   "execution_count": null,
   "metadata": {},
   "outputs": [],
   "source": [
    "file1 = 'F:/data/model_data/CMEM/global-reanalysis-phy-001-030-monthly/2017/year_subset_mercatorglorys12v1_gl12_mean_2017.nc'\n",
    "ds1 = xr.open_dataset(file1)\n",
    "ds1.close()\n",
    "print(ds1.time[0])\n",
    "print(ds1.time[0].values+np.timedelta64(days=365))"
   ]
  },
  {
   "cell_type": "code",
   "execution_count": null,
   "metadata": {
    "scrolled": true
   },
   "outputs": [],
   "source": [
    "print(filename_new)\n",
    "print(combined)\n",
    "combined.so[0,:,:].plot()"
   ]
  },
  {
   "cell_type": "code",
   "execution_count": null,
   "metadata": {},
   "outputs": [],
   "source": [
    "#make monthly average ssts into one yearly file\n",
    "for lyr in range(2017,2018): #2017):\n",
    "    ds_mnth=[]\n",
    "    for imon in range(1,13):\n",
    "        d = dt.date(lyr,imon,1) \n",
    "        filename = sss_filename_new(d)\n",
    "        filename_new = sss_filename_new_yearly(d)\n",
    "        ds = xr.open_dataset(filename)\n",
    "        ds.close()\n",
    "        ds_mnth.append(ds)\n",
    "    combined = xr.concat(ds_mnth, dim='time')\n",
    "    combined = combined.rename({'longitude':'lon','latitude':'lat'})\n",
    "    combined.to_netcdf(filename_new)\n",
    "    "
   ]
  },
  {
   "cell_type": "code",
   "execution_count": null,
   "metadata": {},
   "outputs": [],
   "source": [
    "#test nrt and reanalysis yearly files\n",
    "#file1 = 'F:/data/model_data/CMEM/global-reanalysis-phy-001-030-monthly/1993/year_subset_mercatorglorys12v1_gl12_mean_1993.nc'\n",
    "file2 = 'F:/data/model_data/CMEM/global-analysis-forecast-phys_001_015/monthly/year_subset_metoffice_coupled_orca025_GL4_SAL_b2018_dm20180208.nc'\n",
    "file2a = 'F:/data/model_data/CMEM/global-analysis-forecast-phys_001_015/monthly/year_subset_metoffice_coupled_orca025_GL4_SAL_b2018_dm20180208a.nc'\n",
    "#ds1 = xr.open_dataset(file1)\n",
    "ds2 = xr.open_dataset(file2)\n",
    "#ds2['time']=ds2.time.values+np.timedelta64(365,'D')\n",
    "#ds1.close()\n",
    "ds2.close()\n",
    "#print(ds2)\n",
    "#print(ds1)\n",
    "print(ds2)\n",
    "ds2.to_netcdf(file2a)\n",
    "#print(dt.timedelta(days=25))\n",
    "#print(ds1.time[0]+dt.timedelta(days=25))\n",
    "#d=ds1['time'].values\n",
    "#d[0].time"
   ]
  },
  {
   "cell_type": "code",
   "execution_count": null,
   "metadata": {},
   "outputs": [],
   "source": [
    "ds2"
   ]
  },
  {
   "cell_type": "code",
   "execution_count": null,
   "metadata": {},
   "outputs": [],
   "source": [
    "print(ds2.time[0].values,ds2.time[0].values+np.timedelta64(days=365))\n",
    "\n",
    "ds2"
   ]
  },
  {
   "cell_type": "code",
   "execution_count": null,
   "metadata": {},
   "outputs": [],
   "source": [
    "ds1.so[0,:,:].plot(vmin=30,vmax=35)\n"
   ]
  },
  {
   "cell_type": "code",
   "execution_count": null,
   "metadata": {},
   "outputs": [],
   "source": [
    "ds2.so[0,:,:].plot(vmin=30,vmax=35)\n"
   ]
  },
  {
   "cell_type": "code",
   "execution_count": 17,
   "metadata": {},
   "outputs": [
    {
     "name": "stdout",
     "output_type": "stream",
     "text": [
      "1993 Frozen(SortedKeysDict({'lat': 901, 'lon': 1800, 'time': 12}))\n",
      "1994 Frozen(SortedKeysDict({'lat': 901, 'lon': 1800, 'time': 24}))\n",
      "1995 Frozen(SortedKeysDict({'lat': 901, 'lon': 1800, 'time': 36}))\n",
      "1996 Frozen(SortedKeysDict({'lat': 901, 'lon': 1800, 'time': 48}))\n",
      "1997 Frozen(SortedKeysDict({'lat': 901, 'lon': 1800, 'time': 60}))\n",
      "1998 Frozen(SortedKeysDict({'lat': 901, 'lon': 1800, 'time': 72}))\n",
      "1999 Frozen(SortedKeysDict({'lat': 901, 'lon': 1800, 'time': 84}))\n"
     ]
    },
    {
     "name": "stderr",
     "output_type": "stream",
     "text": [
      "C:\\Users\\gentemann\\Miniconda3\\envs\\satenv\\lib\\site-packages\\xarray\\core\\nanops.py:159: RuntimeWarning: Mean of empty slice\n",
      "  return np.nanmean(a, axis=axis, dtype=dtype)\n"
     ]
    },
    {
     "name": "stdout",
     "output_type": "stream",
     "text": [
      "2000 Frozen(SortedKeysDict({'lat': 901, 'lon': 1800, 'time': 12}))\n",
      "2001 Frozen(SortedKeysDict({'lat': 901, 'lon': 1800, 'time': 24}))\n",
      "2002 Frozen(SortedKeysDict({'lat': 901, 'lon': 1800, 'time': 36}))\n",
      "2003 Frozen(SortedKeysDict({'lat': 901, 'lon': 1800, 'time': 48}))\n",
      "2004 Frozen(SortedKeysDict({'lat': 901, 'lon': 1800, 'time': 60}))\n",
      "2005 Frozen(SortedKeysDict({'lat': 901, 'lon': 1800, 'time': 72}))\n",
      "2006 Frozen(SortedKeysDict({'lat': 901, 'lon': 1800, 'time': 84}))\n",
      "2007 Frozen(SortedKeysDict({'lat': 901, 'lon': 1800, 'time': 96}))\n",
      "2008 Frozen(SortedKeysDict({'lat': 901, 'lon': 1800, 'time': 108}))\n",
      "2009 Frozen(SortedKeysDict({'lat': 901, 'lon': 1800, 'time': 120}))\n"
     ]
    },
    {
     "name": "stderr",
     "output_type": "stream",
     "text": [
      "C:\\Users\\gentemann\\Miniconda3\\envs\\satenv\\lib\\site-packages\\xarray\\core\\nanops.py:159: RuntimeWarning: Mean of empty slice\n",
      "  return np.nanmean(a, axis=axis, dtype=dtype)\n"
     ]
    },
    {
     "name": "stdout",
     "output_type": "stream",
     "text": [
      "2010 Frozen(SortedKeysDict({'lat': 901, 'lon': 1800, 'time': 12}))\n",
      "2011 Frozen(SortedKeysDict({'lat': 901, 'lon': 1800, 'time': 24}))\n",
      "2012 Frozen(SortedKeysDict({'lat': 901, 'lon': 1800, 'time': 36}))\n",
      "2013 Frozen(SortedKeysDict({'lat': 901, 'lon': 1800, 'time': 48}))\n",
      "2014 Frozen(SortedKeysDict({'lat': 901, 'lon': 1800, 'time': 60}))\n",
      "2015 Frozen(SortedKeysDict({'lat': 901, 'lon': 1800, 'time': 72}))\n",
      "2016 Frozen(SortedKeysDict({'lat': 901, 'lon': 1800, 'time': 84}))\n",
      "2017 Frozen(SortedKeysDict({'lat': 901, 'lon': 1800, 'time': 96}))\n",
      "2018 Frozen(SortedKeysDict({'lat': 901, 'lon': 1800, 'time': 108}))\n"
     ]
    },
    {
     "name": "stderr",
     "output_type": "stream",
     "text": [
      "C:\\Users\\gentemann\\Miniconda3\\envs\\satenv\\lib\\site-packages\\xarray\\core\\nanops.py:159: RuntimeWarning: Mean of empty slice\n",
      "  return np.nanmean(a, axis=axis, dtype=dtype)\n"
     ]
    }
   ],
   "source": [
    "#calculate climatology\n",
    "for icase in range(0,3):\n",
    "    if icase==0:\n",
    "        iyr1,iyr2 = 1993,2000\n",
    "    if icase==1:\n",
    "        iyr1,iyr2 = 2000,2010\n",
    "    if icase==2:\n",
    "        iyr1,iyr2 = 2010,2019\n",
    "    init = 0\n",
    "    for lyr in range(iyr1,iyr2): \n",
    "        d = dt.date(lyr,1,1) \n",
    "        filename = sss_filename_new_yearly(d)\n",
    "        if lyr == 2018:\n",
    "            filename = sss_nrt_filename_new_yearly(d)\n",
    "        ds = xr.open_dataset(filename,drop_variables={'mlotst','bottomT','sithick','siconc','usi','vsi','thetao','uo','vo'})\n",
    "        if init==0:\n",
    "            ds_sum = ds\n",
    "            init = 1\n",
    "        else:\n",
    "            ds_sum = xr.concat([ds_sum,ds],dim = 'time')\n",
    "        print(lyr,ds_sum.dims)\n",
    "    ds_sum2 = ds_sum.groupby('time.month').mean('time',keep_attrs=True)\n",
    "    fname_tem=dir_data_clim + 'climatology_'+str(iyr1)+'_'+str(iyr2-1)+'_mercatorglorys12v1_gl12_mean.nc'\n",
    "    ds_sum2.to_netcdf(fname_tem)\n",
    "\n"
   ]
  },
  {
   "cell_type": "code",
   "execution_count": 18,
   "metadata": {},
   "outputs": [
    {
     "name": "stdout",
     "output_type": "stream",
     "text": [
      "1.0 0.2692307692307692 0.38461538461538464 0.34615384615384615\n",
      "F:/data/model_data/CMEM/global-reanalysis-phy-001-030-monthly/clim/climatology_1993_1999_mercatorglorys12v1_gl12_mean.nc\n",
      "F:/data/model_data/CMEM/global-reanalysis-phy-001-030-monthly/clim/climatology_2000_2009_mercatorglorys12v1_gl12_mean.nc\n",
      "F:/data/model_data/CMEM/global-reanalysis-phy-001-030-monthly/clim/climatology_2010_2018_mercatorglorys12v1_gl12_mean.nc\n",
      "F:/data/model_data/CMEM/global-reanalysis-phy-001-030-monthly/clim/climatology_1993_2018_mercatorglorys12v1_gl12_mean.nc\n"
     ]
    }
   ],
   "source": [
    "num_year = 2018-1993+1\n",
    "num_year_file1 = 1999 - 1993 + 1\n",
    "num_year_file2 = 2009 - 2000 + 1\n",
    "num_year_file3 = 2018 - 2010 + 1\n",
    "frac_file1 = num_year_file1 / num_year\n",
    "frac_file2 = num_year_file2 / num_year\n",
    "frac_file3 = num_year_file3 / num_year\n",
    "print(frac_file1+frac_file2+frac_file3,frac_file1,frac_file2,frac_file3)\n",
    "fname_tem = dir_data_clim + 'climatology_1993_1999_mercatorglorys12v1_gl12_mean.nc'\n",
    "print(fname_tem)\n",
    "ds = xr.open_dataset(fname_tem)\n",
    "ds.close()\n",
    "fname_tem = dir_data_clim + 'climatology_2000_2009_mercatorglorys12v1_gl12_mean.nc'\n",
    "print(fname_tem)\n",
    "ds2 = xr.open_dataset(fname_tem)\n",
    "ds2.close()\n",
    "fname_tem = dir_data_clim + 'climatology_2010_2018_mercatorglorys12v1_gl12_mean.nc'\n",
    "print(fname_tem)\n",
    "ds3 = xr.open_dataset(fname_tem)\n",
    "ds3.close()\n",
    "ds_ave = frac_file1*ds + frac_file2*ds2 + frac_file3*ds3\n",
    "fname_tem = dir_data_clim + 'climatology_1993_2018_mercatorglorys12v1_gl12_mean.nc'\n",
    "print(fname_tem)\n",
    "ds_ave.to_netcdf(fname_tem)\n",
    "\n"
   ]
  },
  {
   "cell_type": "code",
   "execution_count": 4,
   "metadata": {},
   "outputs": [
    {
     "name": "stdout",
     "output_type": "stream",
     "text": [
      "1.0 0.5263157894736842 0.47368421052631576\n",
      "F:/data/model_data/CMEM/global-reanalysis-phy-001-030-monthly/clim/climatology_2000_2009_mercatorglorys12v1_gl12_mean.nc\n",
      "F:/data/model_data/CMEM/global-reanalysis-phy-001-030-monthly/clim/climatology_2010_2018_mercatorglorys12v1_gl12_mean.nc\n",
      "1.0 0.5263157894736842 0.47368421052631576\n",
      "F:/data/model_data/CMEM/global-reanalysis-phy-001-030-monthly/clim/climatology_2000_2018_mercatorglorys12v1_gl12_mean.nc\n"
     ]
    }
   ],
   "source": [
    "num_year = 2018-2000+1\n",
    "#num_year_file1 = 1999 - 1993 + 1\n",
    "num_year_file2 = 2009 - 2000 + 1\n",
    "num_year_file3 = 2018 - 2010 + 1\n",
    "#frac_file1 = num_year_file1 / num_year\n",
    "frac_file2 = num_year_file2 / num_year\n",
    "frac_file3 = num_year_file3 / num_year\n",
    "print(frac_file2+frac_file3,frac_file2,frac_file3)\n",
    "#fname_tem = dir_data_clim + 'climatology_1993_1999_mercatorglorys12v1_gl12_mean.nc'\n",
    "#print(fname_tem)\n",
    "#ds = xr.open_dataset(fname_tem)\n",
    "#ds.close()\n",
    "fname_tem = dir_data_clim + 'climatology_2000_2009_mercatorglorys12v1_gl12_mean.nc'\n",
    "print(fname_tem)\n",
    "ds2 = xr.open_dataset(fname_tem)\n",
    "ds2.close()\n",
    "fname_tem = dir_data_clim + 'climatology_2010_2018_mercatorglorys12v1_gl12_mean.nc'\n",
    "print(fname_tem)\n",
    "ds3 = xr.open_dataset(fname_tem)\n",
    "ds3.close()\n",
    "print(frac_file2+frac_file3,frac_file2,frac_file3)\n",
    "ds_ave =  frac_file2*ds2 + frac_file3*ds3\n",
    "fname_tem = dir_data_clim + 'climatology_2000_2018_mercatorglorys12v1_gl12_mean.nc'\n",
    "print(fname_tem)\n",
    "ds_ave.to_netcdf(fname_tem)\n",
    "\n"
   ]
  },
  {
   "cell_type": "code",
   "execution_count": null,
   "metadata": {},
   "outputs": [],
   "source": []
  },
  {
   "cell_type": "code",
   "execution_count": null,
   "metadata": {},
   "outputs": [],
   "source": [
    "ds_ave"
   ]
  },
  {
   "cell_type": "code",
   "execution_count": null,
   "metadata": {},
   "outputs": [],
   "source": [
    "#put clim together into one \n",
    "fname_tem='climatology_monthly_1993_1998_mercatorglorys12v1_gl12_mean.nc'\n",
    "filename = dir_data_clim + fname_tem\n",
    "ds = xr.open_dataset(filename)\n",
    "ds_sum = ds\n",
    "ds.close()\n",
    "fname_tem='climatology_monthly_1999_2004_mercatorglorys12v1_gl12_mean.nc'\n",
    "filename = dir_data_clim + fname_tem\n",
    "ds = xr.open_dataset(filename)\n",
    "ds_sum = xr.concat([ds_sum,ds],dim = 'month')\n",
    "ds.close()\n",
    "fname_tem='climatology_monthly_2005_2010_mercatorglorys12v1_gl12_mean.nc'\n",
    "filename = dir_data_clim + fname_tem\n",
    "ds = xr.open_dataset(filename)\n",
    "ds_sum = xr.concat([ds_sum,ds],dim = 'month')\n",
    "ds.close()\n",
    "fname_tem='climatology_monthly_2011_2017_mercatorglorys12v1_gl12_mean.nc'\n",
    "filename = dir_data_clim + fname_tem\n",
    "ds = xr.open_dataset(filename)\n",
    "ds_sum = xr.concat([ds_sum,ds],dim = 'month')\n",
    "ds.close()\n",
    "ds_sum2 = ds_sum.groupby('month').mean('month')\n",
    "#ds_sum2.rename({'longitude':'lon','latitude':'lat'}, inplace = True)\n",
    "fname_tem='climatology_monthly_1993_2017_mercatorglorys12v1_gl12_mean.nc'\n",
    "filename_out = dir_data_clim + fname_tem\n",
    "ds_sum2.to_netcdf(filename_out)\n"
   ]
  },
  {
   "cell_type": "code",
   "execution_count": null,
   "metadata": {},
   "outputs": [],
   "source": [
    "ds_sum2"
   ]
  },
  {
   "cell_type": "code",
   "execution_count": null,
   "metadata": {},
   "outputs": [],
   "source": [
    "#change clim to lat and lon rather than latitude and longitude\n",
    "fname_tem='climatology_monthly_1993_2016_mercatorglorys12v1_gl12_mean.nc'\n",
    "filename_out = dir_data_clim + fname_tem\n",
    "ds=xr.open_dataset(filename_out)\n",
    "#ds.rename({'longitude':'lon','latitude':'lat'}, inplace = True)\n",
    "print(ds)\n",
    "#ds.to_netcdf(filename_out)\n",
    "ds.close()\n"
   ]
  },
  {
   "cell_type": "code",
   "execution_count": null,
   "metadata": {},
   "outputs": [],
   "source": [
    "ds_sum"
   ]
  },
  {
   "cell_type": "code",
   "execution_count": null,
   "metadata": {},
   "outputs": [],
   "source": []
  }
 ],
 "metadata": {
  "kernelspec": {
   "display_name": "Python 3",
   "language": "python",
   "name": "python3"
  },
  "language_info": {
   "codemirror_mode": {
    "name": "ipython",
    "version": 3
   },
   "file_extension": ".py",
   "mimetype": "text/x-python",
   "name": "python",
   "nbconvert_exporter": "python",
   "pygments_lexer": "ipython3",
   "version": "3.7.1"
  }
 },
 "nbformat": 4,
 "nbformat_minor": 2
}
