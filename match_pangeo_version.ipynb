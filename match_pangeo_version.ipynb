{
 "cells": [
  {
   "cell_type": "code",
   "execution_count": 2,
   "metadata": {},
   "outputs": [],
   "source": [
    "import xarray as xr\n",
    "import pandas as pd\n",
    "import numpy as np\n",
    "import matplotlib.pyplot as plt\n",
    "from math import cos, radians\n",
    "import xarray as xr\n",
    "import intake\n",
    "import dask\n",
    "\n",
    "#libs for dask gateway\n",
    "from dask_gateway import Gateway\n",
    "from dask.distributed import Client\n",
    "####################you will need to change some paths here!#####################\n",
    "#list of input files\n",
    "adir = './../data/'\n",
    "filename_cpr=adir + 'All CPR Sample catalogue.nc'\n",
    "filename_northpac_eddies=adir + 'eddy_trajectory_19930101_20170106_north_pacific_2020_10_06a.nc'\n",
    "filename_cpr_eddy=adir + 'eddy_cpr_data_north_pacific.nc'\n",
    "filename_eddy=adir + 'eddy_ranking_data_north_pacific.nc'\n",
    "fname_topo = adir + 'ETOPO1_Ice_g_gmt4.grd'\n",
    "#output files\n",
    "filename_cpr_expanded=adir + adir+'CPR/All CPR Sample catalogue with env info_2020_10_05'\n",
    "#################################################################################\n"
   ]
  },
  {
   "cell_type": "code",
   "execution_count": 2,
   "metadata": {},
   "outputs": [
    {
     "data": {
      "application/vnd.jupyter.widget-view+json": {
       "model_id": "c444d9f935a248be91f662a198481d8b",
       "version_major": 2,
       "version_minor": 0
      },
      "text/plain": [
       "VBox(children=(HTML(value='<h2>GatewayCluster</h2>'), HBox(children=(HTML(value='\\n<div>\\n<style scoped>\\n    …"
      ]
     },
     "metadata": {},
     "output_type": "display_data"
    }
   ],
   "source": [
    "gateway = Gateway()\n",
    "cluster = gateway.new_cluster()\n",
    "cluster.adapt(minimum=1, maximum=50)\n",
    "client = Client(cluster)\n",
    "cluster"
   ]
  },
  {
   "cell_type": "code",
   "execution_count": 3,
   "metadata": {},
   "outputs": [],
   "source": [
    "input_data = 'aviso'"
   ]
  },
  {
   "cell_type": "code",
   "execution_count": 4,
   "metadata": {},
   "outputs": [],
   "source": [
    "def get_data():\n",
    "    #climatology years\n",
    "    cyr1,cyr2='1993-01-01','2018-12-31'\n",
    "    \n",
    "    # CCMP test\n",
    "    cat_pangeo = intake.open_catalog(\"https://raw.githubusercontent.com/pangeo-data/pangeo-datastore/master/intake-catalogs/master.yaml\")\n",
    "    ds = cat_pangeo.atmosphere.nasa_ccmp_wind_vectors.to_dask()\n",
    "    ds = ds.rename({'latitude':'lat','longitude':'lon'})\n",
    "    ds.coords['lon'] = (ds.coords['lon'] + 180) % 360 - 180\n",
    "    ds_ccmp = ds.sortby(ds.lon)\n",
    "    ds_ccmp = ds_ccmp.drop('nobs')\n",
    "    for var in ds_ccmp:\n",
    "        tem = ds_ccmp[var].attrs\n",
    "        tem['var_name']='ccmp_'+str(var)\n",
    "        ds_ccmp[var].attrs=tem\n",
    "    ds_ccmp_clim = ds_ccmp.sel(time=slice(cyr1,cyr2))\n",
    "    ds_ccmp_clim = ds_ccmp_clim.groupby('time.dayofyear').mean('time',keep_attrs=True,skipna=False)\n",
    "    \n",
    "    # AVISO test\n",
    "    fs = gcsfs.GCSFileSystem(project='pangeo-181919',requester_pays=True)\n",
    "    zstore = 'gs://pangeo-cmems-duacs/sea_surface_height_clg'\n",
    "    ds = xr.open_zarr(fs.get_mapper(zstore), consolidated=True)\n",
    "    ds = ds.rename({'latitude':'lat','longitude':'lon'})\n",
    "    ds.coords['lon'] = (ds.coords['lon'] + 180) % 360 - 180\n",
    "    ds_aviso = ds.sortby(ds.lon).drop({'lat_bnds','lon_bnds','crs','err'})\n",
    "    for var in ds_aviso:\n",
    "        tem = ds_aviso[var].attrs\n",
    "        tem['var_name']='aviso_'+str(var)\n",
    "        ds_aviso[var].attrs=tem\n",
    "    ds_aviso_clim = ds_aviso.sel(time=slice(cyr1,cyr2))\n",
    "    ds_aviso_clim = ds_aviso_clim.groupby('time.dayofyear').mean('time',keep_attrs=True,skipna=False)    \n",
    "   \n",
    "    #put data into a dictionary\n",
    "    data_dict={'aviso':ds_aviso,\n",
    "               'wnd':ds_ccmp,\n",
    "              'topo':ds_topo}\n",
    "    clim_dict={'aviso_clim':ds_aviso_clim,\n",
    "               'wnd_clim':ds_ccmp_clim}\n",
    "  \n",
    "    return data_dict,clim_dict\n"
   ]
  },
  {
   "cell_type": "code",
   "execution_count": null,
   "metadata": {},
   "outputs": [],
   "source": [
    "#read in CPR data excell file using pandas library\n",
    "ds_cpr = xr.open_dataset(filename_cpr)\n",
    "\n",
    "ds_cpr.cpr_sample_lon.min().data,ds_cpr.cpr_sample_lon.max().data,ds_cpr.cpr_sample_lat.min().data,ds_cpr.cpr_sample_lat.max().data\n",
    "\n",
    "ds_eddy = xr.open_dataset(filename_northpac_eddies).rename({'Longitude':'lon','Latitude':'lat'})\n",
    "\n",
    "ds_eddy_cpr = xr.open_dataset(filename_cpr_eddy)\n",
    "\n",
    "#get bathymetry from ETOPO1\n",
    "ds = xr.open_dataset(fname_topo)\n",
    "ds_topo = ds.rename_dims({'x':'lon','y':'lat'}).rename({'x':'lon','y':'lat'})\n",
    "#tem = ds_topo.isel(lat=slice(7000,9500),lon=slice(0,4500))\n",
    "#tem.z.plot()\n",
    "tt = ds_topo.z.interp(lat=ds_cpr.cpr_sample_lat,lon=ds_cpr.cpr_sample_lon,method='nearest').data\n",
    "ds_cpr['ETOPO_depth']= xr.DataArray(tt, coords={'index':ds_cpr.index}, dims=[\"index\"])\n",
    "ds_cpr['cpr_sample_lon2'] = np.mod(ds_cpr['cpr_sample_lon'],360)\n",
    "\n",
    "#plt.scatter(ds_cpr.cpr_sample_lon2,ds_cpr.cpr_sample_lat,c=ds_cpr.ETOPO_depth,cmap='coolwarm',vmin=-8000,vmax=8000)\n",
    "\n",
    "\n",
    "data,clim = get_data()\n",
    "\n",
    "\n",
    "# In[ ]:\n",
    "\n",
    "\n",
    "#ds_cpr = xr.open_dataset(filename_bird_out_eddy_netcdf)\n",
    "ilen_bird1 = len(ds_cpr.cpr_sample_lon)\n",
    "\n",
    "clonmin,clonmax = ds_cpr.cpr_sample_lon.min().data,ds_cpr.cpr_sample_lon.max().data\n",
    "clatmin,clatmax = ds_cpr.cpr_sample_lat.min().data,ds_cpr.cpr_sample_lat.max().data\n",
    "t1save=0\n",
    "\n",
    "for name in data:\n",
    "    ds_data=data[name]\n",
    "    if name=='topo':\n",
    "        continue\n",
    "    if not name==input_data:\n",
    "        continue\n",
    "    print('name',name)   \n",
    "    for var in ds_data:\n",
    "        var_tem=ds_data[var].attrs['var_name']\n",
    "        ds_cpr[var_tem]=xr.DataArray(np.nan*np.empty((ilen_bird1), \n",
    "                                                      dtype=str(ds_data[var].dtype)), \n",
    "                                      coords={'index': ds_cpr.index},\n",
    "                                      dims=('index'))\n",
    "        ds_cpr[var_tem].attrs=ds_data[var].attrs\n",
    "    print('var',var_tem)\n",
    "    for i in range(ilen_bird1):\n",
    "        if np.isnan(ds_cpr.cpr_sample_lat[i]):\n",
    "            continue\n",
    "        if ds_cpr.cpr_sample_time[i]<ds_data.time.min():\n",
    "            continue\n",
    "        if ds_cpr.cpr_sample_time[i]>ds_data.time.max():\n",
    "            continue\n",
    "        t1,t2 = ds_cpr.cpr_sample_time[i]-np.timedelta64(24,'h'), ds_cpr.cpr_sample_time[i]+np.timedelta64(24,'h')\n",
    "        if not t1==t1save:\n",
    "            tem2 = ds_data.sel(time=slice(t1,t2),lat=slice(clatmin-.5,clatmax+.5),lon=slice(clonmin-.5,clonmax+.5)).load()               \n",
    "            t1save=t1\n",
    "            print(i,ilen_bird1)\n",
    "            #            lat1,lat2=ds_cpr.cpr_sample_lat[i]-.5,ds_cpr.cpr_sample_lat[i,j]+.5\n",
    "            #            lon1,lon2=ds_cpr.cpr_sample_lon[i]-.5,ds_cpr.cpr_sample_lon[i,j]+.5\n",
    "            #            tem = ds_data.sel(time=slice(t1,t2),lat=slice(lat1,lat2),lon=slice(lon1,lon2)).load()\n",
    "        tem = tem2.interp(time=ds_cpr.cpr_sample_time[i],lat=ds_cpr.cpr_sample_lat[i],lon=ds_cpr.cpr_sample_lon[i])\n",
    "        for var in ds_data:\n",
    "            var_tem=ds_data[var].attrs['var_name']\n",
    "            ds_cpr[var_tem][i]=tem[var].data\n",
    "    #output data\n",
    "    df_bird = ds_cpr.to_dataframe()\n",
    "    df_bird.to_csv(filename_cpr_expanded+name+'.csv')\n",
    "    ds_cpr.to_netcdf(filename_cpr_expanded+name+'.nc')\n",
    "\n"
   ]
  },
  {
   "cell_type": "code",
   "execution_count": null,
   "metadata": {},
   "outputs": [],
   "source": []
  }
 ],
 "metadata": {
  "kernelspec": {
   "display_name": "Python [conda env:notebook] *",
   "language": "python",
   "name": "conda-env-notebook-py"
  },
  "language_info": {
   "codemirror_mode": {
    "name": "ipython",
    "version": 3
   },
   "file_extension": ".py",
   "mimetype": "text/x-python",
   "name": "python",
   "nbconvert_exporter": "python",
   "pygments_lexer": "ipython3",
   "version": "3.7.8"
  }
 },
 "nbformat": 4,
 "nbformat_minor": 4
}
