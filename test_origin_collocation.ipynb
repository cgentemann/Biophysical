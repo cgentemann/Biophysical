{
 "cells": [
  {
   "cell_type": "code",
   "execution_count": 1,
   "metadata": {},
   "outputs": [],
   "source": [
    "import matplotlib.pyplot as plt\n",
    "import numpy as np\n",
    "import xarray as xr\n",
    "import pandas as pd\n",
    "import warnings\n",
    "# filter some warning messages\n",
    "warnings.filterwarnings(\"ignore\") \n",
    "\n",
    "####################you will need to change some paths here!#####################\n",
    "#list of input files\n",
    "filename_origin='f:/data/project_data/NASA_biophysical/collocated_data/NPPSD_GOA_allseabird_full_eddy_info.nc'\n",
    "# output files\n",
    "filename_origin_out='f:/data/project_data/NASA_biophysical/collocated_data/NPPSD_GOA_allseabird_full_eddy_info_envdata'\n",
    "filename_origin_out_nc='f:/data/project_data/NASA_biophysical/collocated_data/NPPSD_GOA_allseabird_full_eddy_info_envdata.nc'\n"
   ]
  },
  {
   "cell_type": "code",
   "execution_count": 2,
   "metadata": {},
   "outputs": [
    {
     "data": {
      "text/html": [
       "<pre>&lt;xarray.Dataset&gt;\n",
       "Dimensions:             (observation_number: 1830, track: 765)\n",
       "Coordinates:\n",
       "  * track               (track) int32 4438 4918 5213 ... 270829 270892 271234\n",
       "  * observation_number  (observation_number) int32 0 1 2 3 ... 1827 1828 1829\n",
       "Data variables:\n",
       "    amplitude           (track, observation_number) float32 ...\n",
       "    cyclonic_type       (track, observation_number) float64 ...\n",
       "    lat                 (track, observation_number) float32 ...\n",
       "    lon                 (track, observation_number) float32 ...\n",
       "    speed_average       (track, observation_number) float32 ...\n",
       "    speed_radius        (track, observation_number) float32 ...\n",
       "    time64              (track, observation_number) datetime64[ns] ...\n",
       "    time                (track, observation_number) datetime64[ns] ...\n",
       "    aviso_adt           (track, observation_number) float64 ...\n",
       "    aviso_sla           (track, observation_number) float64 ...\n",
       "    aviso_ugos          (track, observation_number) float64 ...\n",
       "    aviso_ugosa         (track, observation_number) float64 ...\n",
       "    aviso_vgos          (track, observation_number) float64 ...\n",
       "    aviso_vgosa         (track, observation_number) float64 ...\n",
       "    ccmp_uwnd           (track, observation_number) float32 ...\n",
       "    ccmp_vwnd           (track, observation_number) float32 ...\n",
       "    cmc_sst             (track, observation_number) float32 ...\n",
       "Attributes:\n",
       "    Metadata_Conventions:      Unidata Dataset Discovery v1.0\n",
       "    title:                     Mesoscale Eddies in Altimeter Observations of SLA\n",
       "    institution:               CNES/CLS in collaboration with Oregon State Un...\n",
       "    project:                   SSALTO/DUACS\n",
       "    creator_url:               http://www.aviso.altimetry.fr\n",
       "    creator_email:             aviso@altimetry.fr\n",
       "    license:                   http://www.aviso.altimetry.fr/fileadmin/docume...\n",
       "    summary:                   This dataset contains eddy atlas from two-sate...\n",
       "    comment:                   Surface product; mesoscale eddies\n",
       "    input_product_reference:   https://www.aviso.altimetry.fr/en/data/product...\n",
       "    date_created:              2017-09-22T10:20:17Z\n",
       "    time_coverage_duration:    P8771D\n",
       "    time_coverage_start:       1993-01-01T00:00:00Z\n",
       "    time_coverage_end:         2017-01-06T00:00:00Z\n",
       "    standard_name_vocabulary:  NetCDF Climate and Forecast (CF) Metadata Conv...\n",
       "    product_version:           1.0</pre>"
      ],
      "text/plain": [
       "<xarray.Dataset>\n",
       "Dimensions:             (observation_number: 1830, track: 765)\n",
       "Coordinates:\n",
       "  * track               (track) int32 4438 4918 5213 ... 270829 270892 271234\n",
       "  * observation_number  (observation_number) int32 0 1 2 3 ... 1827 1828 1829\n",
       "Data variables:\n",
       "    amplitude           (track, observation_number) float32 ...\n",
       "    cyclonic_type       (track, observation_number) float64 ...\n",
       "    lat                 (track, observation_number) float32 ...\n",
       "    lon                 (track, observation_number) float32 ...\n",
       "    speed_average       (track, observation_number) float32 ...\n",
       "    speed_radius        (track, observation_number) float32 ...\n",
       "    time64              (track, observation_number) datetime64[ns] ...\n",
       "    time                (track, observation_number) datetime64[ns] ...\n",
       "    aviso_adt           (track, observation_number) float64 ...\n",
       "    aviso_sla           (track, observation_number) float64 ...\n",
       "    aviso_ugos          (track, observation_number) float64 ...\n",
       "    aviso_ugosa         (track, observation_number) float64 ...\n",
       "    aviso_vgos          (track, observation_number) float64 ...\n",
       "    aviso_vgosa         (track, observation_number) float64 ...\n",
       "    ccmp_uwnd           (track, observation_number) float32 ...\n",
       "    ccmp_vwnd           (track, observation_number) float32 ...\n",
       "    cmc_sst             (track, observation_number) float32 ...\n",
       "Attributes:\n",
       "    Metadata_Conventions:      Unidata Dataset Discovery v1.0\n",
       "    title:                     Mesoscale Eddies in Altimeter Observations of SLA\n",
       "    institution:               CNES/CLS in collaboration with Oregon State Un...\n",
       "    project:                   SSALTO/DUACS\n",
       "    creator_url:               http://www.aviso.altimetry.fr\n",
       "    creator_email:             aviso@altimetry.fr\n",
       "    license:                   http://www.aviso.altimetry.fr/fileadmin/docume...\n",
       "    summary:                   This dataset contains eddy atlas from two-sate...\n",
       "    comment:                   Surface product; mesoscale eddies\n",
       "    input_product_reference:   https://www.aviso.altimetry.fr/en/data/product...\n",
       "    date_created:              2017-09-22T10:20:17Z\n",
       "    time_coverage_duration:    P8771D\n",
       "    time_coverage_start:       1993-01-01T00:00:00Z\n",
       "    time_coverage_end:         2017-01-06T00:00:00Z\n",
       "    standard_name_vocabulary:  NetCDF Climate and Forecast (CF) Metadata Conv...\n",
       "    product_version:           1.0"
      ]
     },
     "execution_count": 2,
     "metadata": {},
     "output_type": "execute_result"
    }
   ],
   "source": [
    "ds = xr.open_dataset(filename_origin_out+'test.nc')\n",
    "ds.close()\n",
    "ds"
   ]
  },
  {
   "cell_type": "code",
   "execution_count": 14,
   "metadata": {},
   "outputs": [
    {
     "data": {
      "text/plain": [
       "<matplotlib.colorbar.Colorbar at 0x1b4b340ac88>"
      ]
     },
     "execution_count": 14,
     "metadata": {},
     "output_type": "execute_result"
    },
    {
     "data": {
      "image/png": "[encoded data removed]",
      "text/plain": [
       "<Figure size 432x288 with 2 Axes>"
      ]
     },
     "metadata": {
      "needs_background": "light"
     },
     "output_type": "display_data"
    }
   ],
   "source": [
    "i=1\n",
    "plt.plot(ds.lon[i,:],ds.lat[i,:])\n",
    "plt.scatter(ds.lon[i,:],ds.lat[i,:],c=ds.cmc_sst[i,:]-273.15)\n",
    "plt.colorbar()"
   ]
  },
  {
   "cell_type": "code",
   "execution_count": null,
   "metadata": {},
   "outputs": [],
   "source": []
  }
 ],
 "metadata": {
  "kernelspec": {
   "display_name": "Python 3",
   "language": "python",
   "name": "python3"
  },
  "language_info": {
   "codemirror_mode": {
    "name": "ipython",
    "version": 3
   },
   "file_extension": ".py",
   "mimetype": "text/x-python",
   "name": "python",
   "nbconvert_exporter": "python",
   "pygments_lexer": "ipython3",
   "version": "3.7.6"
  }
 },
 "nbformat": 4,
 "nbformat_minor": 4
}
