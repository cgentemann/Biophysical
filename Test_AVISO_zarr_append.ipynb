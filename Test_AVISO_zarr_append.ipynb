{
 "cells": [
  {
   "cell_type": "markdown",
   "metadata": {},
   "source": [
    "# Import libraries"
   ]
  },
  {
   "cell_type": "code",
   "execution_count": null,
   "metadata": {},
   "outputs": [],
   "source": [
    "import xarray as xr\n",
    "from glob import glob\n",
    "import numpy as np\n",
    "pattern_netcdf = 'F:/data/sat_data/aviso/data/*/*.nc'\n",
    "pattern_zarr = 'F:/data/sat_data/aviso/zarr/'"
   ]
  },
  {
   "cell_type": "code",
   "execution_count": null,
   "metadata": {},
   "outputs": [],
   "source": [
    "%%time\n",
    "ds_zarr= xr.open_zarr(pattern_zarr)\n",
    "ds_zarr"
   ]
  },
  {
   "cell_type": "markdown",
   "metadata": {},
   "source": [
    "# Reading netCDF files"
   ]
  },
  {
   "cell_type": "code",
   "execution_count": null,
   "metadata": {},
   "outputs": [],
   "source": [
    "%%time\n",
    "#list files\n",
    "files = [x for x in glob(pattern_netcdf)]\n",
    "len(files)"
   ]
  },
  {
   "cell_type": "code",
   "execution_count": null,
   "metadata": {},
   "outputs": [],
   "source": [
    "#only get new ones\n",
    "files[-121]"
   ]
  },
  {
   "cell_type": "code",
   "execution_count": null,
   "metadata": {},
   "outputs": [],
   "source": [
    "ds=xr.open_mfdataset(files[-121:],combine='nested',concat_dim='time')\n",
    "ds.close()\n",
    "#remove any duplicates\n",
    "_, index = np.unique(ds['time'], return_index=True)\n",
    "ds=ds.isel(time=index)\n",
    "#rechunck data  #data in int16 = 2 bytes \n",
    "ds_netcdf = ds.chunk({'time':1000,'latitude':180,'longitude':180})"
   ]
  },
  {
   "cell_type": "code",
   "execution_count": null,
   "metadata": {},
   "outputs": [],
   "source": [
    "# concat old & new data\n",
    "ds_new = xr.concat([ds_zarr,ds_netcdf],dim='time')\n",
    "#remove any duplicates\n",
    "_, index = np.unique(ds_new['time'], return_index=True)\n",
    "ds_new=ds_new.isel(time=index)\n"
   ]
  },
  {
   "cell_type": "code",
   "execution_count": null,
   "metadata": {},
   "outputs": [],
   "source": [
    "ds_new"
   ]
  },
  {
   "cell_type": "code",
   "execution_count": null,
   "metadata": {},
   "outputs": [],
   "source": [
    "#write zarr append\n",
    "ds_netcdf.to_zarr(pattern_zarr, mode='a', append_dim='time')"
   ]
  },
  {
   "cell_type": "code",
   "execution_count": null,
   "metadata": {},
   "outputs": [],
   "source": [
    "ds_zarr= xr.open_zarr(pattern_zarr)\n",
    "ds_zarr"
   ]
  },
  {
   "cell_type": "code",
   "execution_count": null,
   "metadata": {},
   "outputs": [],
   "source": []
  }
 ],
 "metadata": {
  "kernelspec": {
   "display_name": "Python 3",
   "language": "python",
   "name": "python3"
  },
  "language_info": {
   "codemirror_mode": {
    "name": "ipython",
    "version": 3
   },
   "file_extension": ".py",
   "mimetype": "text/x-python",
   "name": "python",
   "nbconvert_exporter": "python",
   "pygments_lexer": "ipython3",
   "version": "3.7.6"
  }
 },
 "nbformat": 4,
 "nbformat_minor": 4
}
