{
 "cells": [
  {
   "cell_type": "markdown",
   "metadata": {},
   "source": [
    "# Tutorial on collocaing a daTASET  with lagged dat"
   ]
  },
  {
   "cell_type": "code",
   "execution_count": null,
   "metadata": {},
   "outputs": [],
   "source": [
    "import matplotlib.pyplot as plt\n",
    "import numpy as np\n",
    "import xarray as xr\n",
    "import pandas as pd\n",
    "import warnings\n",
    "# filter some warning messages\n",
    "warnings.filterwarnings(\"ignore\") \n",
    "from geopy.distance import geodesic \n",
    "\n",
    "####################you will need to change some paths here!#####################\n",
    "#list of input files\n",
    "#filename_bird='f:/data/project_data/NASA_biophysical/collocated_data/zoo_selgroups_HadSST_relabundance_5aug2019_plumchrusV_4regions_final.csv'\n",
    "#output files\n",
    "filename_bird='f:/data/project_data/NASA_biophysical/collocated_data/NPPSD_GOA_allseabird_wide_sat_and_eddy_data_final.nc'\n",
    "filename_bird_out='f:/data/project_data/NASA_biophysical/collocated_data/NPPSD_GOA_allseabird_wide_sat_and_eddy_data_final_color.csv'\n",
    "filename_bird_out_netcdf='f:/data/project_data/NASA_biophysical/collocated_data/NPPSD_GOA_allseabird_wide_sat_and_eddy_data_final_color.nc'\n",
    "#################################################################################\n"
   ]
  },
  {
   "cell_type": "markdown",
   "metadata": {},
   "source": [
    "## Reading CSV datasets"
   ]
  },
  {
   "cell_type": "code",
   "execution_count": null,
   "metadata": {},
   "outputs": [],
   "source": [
    "#read in csv file in to panda dataframe & into xarray\n",
    "#df_bird = pd.read_csv(filename_bird)\n",
    "ds_bird = xr.open_dataset(filename_bird) #df_bird.to_xarray()\n",
    "ilen_bird = len(ds_bird.lat)\n",
    "ds_bird"
   ]
  },
  {
   "cell_type": "code",
   "execution_count": null,
   "metadata": {},
   "outputs": [],
   "source": [
    "#clean up ds_bird so that zero are nan\n",
    "cond= (ds_bird.cmc_sst>100)\n",
    "clean = ds_bird.where(cond)\n",
    "dlist = ['cmc_sst']\n",
    "for var in dlist:\n",
    "    ds_bird[var]=clean[var]\n",
    "#plt.plot(ds_bird.time,ds_bird.cmc_sst,'b.')\n",
    "plt.plot(clean.time,clean.cmc_sst,'r.')"
   ]
  },
  {
   "cell_type": "code",
   "execution_count": null,
   "metadata": {},
   "outputs": [],
   "source": [
    "#clean up ds_bird so that zero are nan\n",
    "cond= (ds_bird.ccmp_uwnd!=0)\n",
    "clean = ds_bird.where(cond)\n",
    "dlist = ['ccmp_uwnd','ccmp_vwnd']\n",
    "for var in dlist:\n",
    "    ds_bird[var]=clean[var]\n",
    "plt.plot(ds_bird.time,ds_bird.ccmp_vwnd,'b.')\n",
    "plt.plot(clean.time,clean.ccmp_vwnd,'r.')"
   ]
  },
  {
   "cell_type": "code",
   "execution_count": null,
   "metadata": {},
   "outputs": [],
   "source": [
    "#clean up ds_bird so that zero are nan\n",
    "cond= (ds_bird.aviso_adt>.01)\n",
    "clean = ds_bird.where(cond)\n",
    "dlist = ['aviso_adt','aviso_sla','aviso_ugos','aviso_ugosa','aviso_vgos','aviso_vgosa']\n",
    "for var in dlist:\n",
    "    ds_bird[var]=clean[var]\n",
    "plt.plot(ds_bird.time,ds_bird.aviso_adt,'b.')\n",
    "plt.plot(clean.time,clean.aviso_adt,'r.')"
   ]
  },
  {
   "cell_type": "code",
   "execution_count": null,
   "metadata": {},
   "outputs": [],
   "source": [
    "#clean up ds_bird so that zero are nan\n",
    "cond= (ds_bird.cyclonic_type>.1) | (ds_bird.cyclonic_type<-.1)\n",
    "clean = ds_bird.where(cond)\n",
    "dlist = ['observation_number','cyclonic_type','lat_eddy','lon_eddy','speed_average','speed_radius','track','save_eddy_distance']\n",
    "for var in dlist:\n",
    "    ds_bird[var]=clean[var]\n",
    "plt.plot(ds_bird.time,ds_bird.observation_number,'b.')\n",
    "plt.plot(clean.time,clean.observation_number,'r.')"
   ]
  },
  {
   "cell_type": "code",
   "execution_count": null,
   "metadata": {},
   "outputs": [],
   "source": [
    "plt.plot(ds_bird.cyclonic_type,'.')"
   ]
  },
  {
   "cell_type": "code",
   "execution_count": null,
   "metadata": {},
   "outputs": [],
   "source": [
    "ds_color = xr.open_dataset('https://rsg.pml.ac.uk/thredds/dodsC/CCI_ALL-v4.2-DAILY')\n",
    "#ds_color = xr.open_dataset('https://rsg.pml.ac.uk/thredds/dodsC/CCI_ALL-v4.2-8DAY')\n",
    "for var in ds_color:\n",
    "    if not var=='chlor_a':\n",
    "        ds_color = ds_color.drop(var)\n",
    "ds_color"
   ]
  },
  {
   "cell_type": "code",
   "execution_count": null,
   "metadata": {},
   "outputs": [],
   "source": [
    "#just check lat/lon & see looks okay\n",
    "minlat,maxlat=ds_bird.lat.min(),ds_bird.lat.max()\n",
    "minlon,maxlon=ds_bird.lon.min(),ds_bird.lon.max()\n",
    "plt.scatter(ds_bird.lon,ds_bird.lat)\n",
    "print(minlat.data,maxlat.data,minlon.data,maxlon.data)\n",
    "print(ds_bird.time64.min().data,ds_bird.time64.max().data)"
   ]
  },
  {
   "cell_type": "markdown",
   "metadata": {},
   "source": [
    "# Collocate all data with bird data"
   ]
  },
  {
   "cell_type": "code",
   "execution_count": null,
   "metadata": {},
   "outputs": [],
   "source": [
    "ilen_bird = len(ds_bird.lat)\n",
    "ds_data = ds_color\n",
    "for var in ds_data:\n",
    "    var_tem=var\n",
    "    ds_bird[var_tem]=xr.DataArray(np.nan*np.empty(ilen_bird, dtype=str(ds_data[var].dtype)), coords={'index': ds_bird.index}, dims=('index'))\n",
    "    ds_bird[var_tem].attrs=ds_data[var].attrs\n",
    "print('var',var_tem)\n",
    "for i in range(ilen_bird):\n",
    "    t1,t2 = ds_bird.time64[i]-np.timedelta64(5,'D'), ds_bird.time64[i]+np.timedelta64(5,'D')\n",
    "    lat1,lat2=ds_bird.lat[i]+.1,ds_bird.lat[i]-.1\n",
    "    lon1,lon2=ds_bird.lon[i]-.1,ds_bird.lon[i]+.1\n",
    "    tem = ds_data.sel(time=slice(t1,t2),lat=slice(lat1,lat2),lon=slice(lon1,lon2)).load()\n",
    "    if len(tem)<1:\n",
    "        continue\n",
    "    tem = tem.mean(keep_attrs=True)\n",
    "    for var in ds_data:\n",
    "        var_tem=var\n",
    "        ds_bird[var_tem][i]=tem[var].data\n",
    "    if int(i/100)*100==i:\n",
    "        print(i,len(ds_bird.lat))\n",
    "#output data\n",
    "df_bird = ds_bird.to_dataframe()\n",
    "df_bird.to_csv(filename_bird_out)\n",
    "ds_bird.to_netcdf(filename_bird_out_netcdf)"
   ]
  },
  {
   "cell_type": "code",
   "execution_count": null,
   "metadata": {},
   "outputs": [],
   "source": [
    "plt.scatter(ds_bird.lon,ds_bird.lat,c=ds_bird.chlor_a)"
   ]
  },
  {
   "cell_type": "code",
   "execution_count": null,
   "metadata": {},
   "outputs": [],
   "source": []
  }
 ],
 "metadata": {
  "kernelspec": {
   "display_name": "Python 3",
   "language": "python",
   "name": "python3"
  },
  "language_info": {
   "codemirror_mode": {
    "name": "ipython",
    "version": 3
   },
   "file_extension": ".py",
   "mimetype": "text/x-python",
   "name": "python",
   "nbconvert_exporter": "python",
   "pygments_lexer": "ipython3",
   "version": "3.7.10"
  }
 },
 "nbformat": 4,
 "nbformat_minor": 2
}
