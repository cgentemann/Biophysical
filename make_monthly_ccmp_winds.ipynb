{
 "cells": [
  {
   "cell_type": "code",
   "execution_count": null,
   "metadata": {
    "scrolled": true
   },
   "outputs": [],
   "source": [
    "import pandas\n",
    "import matplotlib as mpl\n",
    "import xarray as xr\n",
    "import numpy as np\n",
    "import datetime as dt\n",
    "dir_data='F:/data/sat_data/ccmp/v02.0/Y'\n"
   ]
  },
  {
   "cell_type": "code",
   "execution_count": null,
   "metadata": {},
   "outputs": [],
   "source": [
    "#make cmc monthly average ssts in annual file\n",
    "for lyr in range(1988,2018): #2017):\n",
    "    ds_mnth=[]\n",
    "    for imon in range(1,13):\n",
    "        filename = dir_data + str(lyr) + '/M' + str(imon).zfill(2) + '/CCMP_Wind_Analysis_' + str(lyr) + str(imon).zfill(2) + '_V02.0_L3.5_RSS.nc'\n",
    "        ds = xr.open_dataset(filename)\n",
    "        ds_mnth.append(ds)\n",
    "        ds.close()\n",
    "    combined = xr.concat(ds_mnth, dim='time')\n",
    "    fname_tem=str(lyr) + 'monthly_average_ccmp_V02.0_L3.5_RSS.nc'\n",
    "    cmc_filename_out = dir_data + fname_tem\n",
    "    combined.to_netcdf(cmc_filename_out)"
   ]
  },
  {
   "cell_type": "code",
   "execution_count": null,
   "metadata": {},
   "outputs": [],
   "source": [
    "#make cmc climatology from monthly files\n",
    "init = 0\n",
    "for lyr in range(1988,2018): #2017):\n",
    "    fname_tem=str(lyr) + 'monthly_average_ccmp_V02.0_L3.5_RSS.nc'\n",
    "    cmc_filename_out = dir_data + fname_tem\n",
    "    ds = xr.open_dataset(cmc_filename_out)\n",
    "    if init==0:\n",
    "        ds_sum = ds\n",
    "        init = 1\n",
    "    else:\n",
    "        ds_sum = xr.concat([ds_sum,ds],dim = 'time')\n",
    "    print(lyr,ds_sum.dims)\n",
    "ds_sum = ds_sum.mean('time',skipna=True)\n",
    "fname_tem='monthly_climatology_ccmp_V02.0_L3.5_RSS.nc'\n",
    "cmc_filename_out = dir_data + fname_tem\n",
    "ds_sum.to_netcdf(cmc_filename_out)\n",
    "    "
   ]
  },
  {
   "cell_type": "code",
   "execution_count": null,
   "metadata": {},
   "outputs": [],
   "source": [
    "ds_sum"
   ]
  },
  {
   "cell_type": "code",
   "execution_count": null,
   "metadata": {},
   "outputs": [],
   "source": [
    "\n"
   ]
  },
  {
   "cell_type": "code",
   "execution_count": null,
   "metadata": {},
   "outputs": [],
   "source": [
    "ds2"
   ]
  },
  {
   "cell_type": "code",
   "execution_count": null,
   "metadata": {},
   "outputs": [],
   "source": []
  }
 ],
 "metadata": {
  "kernelspec": {
   "display_name": "Python 3",
   "language": "python",
   "name": "python3"
  },
  "language_info": {
   "codemirror_mode": {
    "name": "ipython",
    "version": 3
   },
   "file_extension": ".py",
   "mimetype": "text/x-python",
   "name": "python",
   "nbconvert_exporter": "python",
   "pygments_lexer": "ipython3",
   "version": "3.7.0"
  }
 },
 "nbformat": 4,
 "nbformat_minor": 2
}
