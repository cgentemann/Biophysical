{
 "cells": [
  {
   "cell_type": "code",
   "execution_count": 2,
   "metadata": {},
   "outputs": [],
   "source": [
    "import xarray as xr\n",
    "#boxes_names = ['NPC','NPC_biforcation','CalCur','Alaska1','Alaska2']\n",
    "boxes_lon_min = [-160,-130,-125,-130,-148]\n",
    "boxes_lon_max = [-170,-140,-135,-140,-158]\n",
    "boxes_lat_min = [41,46,35,52,52]\n",
    "boxes_lat_max = [46,51,40,57,57]\n",
    "boxes_lon_min_180 = boxes_lon_min[:]\n",
    "boxes_lon_max_180 = boxes_lon_max[:]\n",
    "for i in range(0,5):\n",
    "    boxes_lon_min[i] += 360\n",
    "    boxes_lon_max[i] += 360\n",
    "\n",
    "#trying to get into xarray properly\n",
    "location_values = ['NPC','NPC_biforcation','CalCur','Alaska1','Alaska2']\n",
    "data = [-160,-130,-125,-130,-148]\n",
    "lon1 = xr.DataArray(data, coords=[location_values], dims=['location'])\n",
    "data = [-170,-140,-135,-140,-158]\n",
    "lon2 = xr.DataArray(data, coords=[location_values], dims=['location'])\n",
    "data = [41,46,35,52,52]\n",
    "lat1 = xr.DataArray(data, coords=[location_values], dims=['location'])\n",
    "data = [46,51,40,57,57]\n",
    "lat2 = xr.DataArray(data, coords=[location_values], dims=['location'])\n",
    "boxes = xr.Dataset({'lon_min':lon1,'lon_max':lon2,'lat_min':lat1,'lat_max':lat2})\n"
   ]
  },
  {
   "cell_type": "code",
   "execution_count": 83,
   "metadata": {
    "scrolled": true
   },
   "outputs": [
    {
     "name": "stdout",
     "output_type": "stream",
     "text": [
      "<xarray.Dataset>\n",
      "Dimensions:   (yr: 276)\n",
      "Coordinates:\n",
      "    month     (yr) int32 1 2 3 4 5 6 7 8 9 10 11 12 ... 2 3 4 5 6 7 8 9 10 11 12\n",
      "    iyear     (yr) int32 1996 1996 1996 1996 1996 ... 2018 2018 2018 2018 2018\n",
      "  * yr        (yr) float64 1.996e+03 1.996e+03 1.996e+03 ... 2.019e+03 2.019e+03\n",
      "Data variables:\n",
      "    year      (yr) float64 1.996e+03 1.996e+03 1.996e+03 ... 2.019e+03 2.019e+03\n",
      "    latitude  (yr) float64 ...\n",
      "Attributes:\n",
      "    description:  Latitude of bifurcation line at -165E, using monthly averag...\n"
     ]
    }
   ],
   "source": [
    "ds = xr.open_dataset('F:/data/NASA_biophysical/timeseries_data/MonthlyBifurcationLat165.nc')\n",
    "ds['month']=np.ceil((ds.year-ds.year.astype('int'))*12).astype('int')\n",
    "ds['iyear']=ds.year.astype('int')\n",
    "ds = ds.assign_coords(yr=ds.year)\n",
    "ds = ds.assign_coords(iyear=ds.iyear)\n",
    "ds = ds.assign_coords(month=ds.month)\n",
    "print(ds)"
   ]
  },
  {
   "cell_type": "code",
   "execution_count": 106,
   "metadata": {},
   "outputs": [
    {
     "data": {
      "text/plain": [
       "41.587638960036834"
      ]
     },
     "execution_count": 106,
     "metadata": {},
     "output_type": "execute_result"
    }
   ],
   "source": [
    "iyr,imon = 1996,3\n",
    "tem_year = iyr+(imon-.5)/12\n",
    "subset = ds.sel(yr=slice(tem_year-.01,tem_year+.01)).latitude.data[0]\n",
    "subset\n",
    "\n",
    "   \n",
    "#subset.latitude[0].data\n",
    "#ds.loc[dict(iyear=iyr,month=imon)]"
   ]
  },
  {
   "cell_type": "code",
   "execution_count": 107,
   "metadata": {},
   "outputs": [
    {
     "data": {
      "text/plain": [
       "<xarray.Dataset>\n",
       "Dimensions:   (yr: 276)\n",
       "Coordinates:\n",
       "    month     (yr) int32 1 2 3 4 5 6 7 8 9 10 11 12 ... 2 3 4 5 6 7 8 9 10 11 12\n",
       "    iyear     (yr) int32 1996 1996 1996 1996 1996 ... 2018 2018 2018 2018 2018\n",
       "  * yr        (yr) float64 1.996e+03 1.996e+03 1.996e+03 ... 2.019e+03 2.019e+03\n",
       "Data variables:\n",
       "    year      (yr) float64 1.996e+03 1.996e+03 1.996e+03 ... 2.019e+03 2.019e+03\n",
       "    latitude  (yr) float64 41.55 40.34 41.59 42.79 ... 45.0 44.67 43.88 43.49\n",
       "Attributes:\n",
       "    description:  Latitude of bifurcation line at -165E, using monthly averag..."
      ]
     },
     "execution_count": 107,
     "metadata": {},
     "output_type": "execute_result"
    }
   ],
   "source": [
    "ds"
   ]
  },
  {
   "cell_type": "code",
   "execution_count": 108,
   "metadata": {},
   "outputs": [
    {
     "ename": "NameError",
     "evalue": "name 'get_monthly_oscar' is not defined",
     "output_type": "error",
     "traceback": [
      "\u001b[1;31m---------------------------------------------------------------------------\u001b[0m",
      "\u001b[1;31mNameError\u001b[0m                                 Traceback (most recent call last)",
      "\u001b[1;32m<ipython-input-108-a9da6552e85b>\u001b[0m in \u001b[0;36m<module>\u001b[1;34m\u001b[0m\n\u001b[1;32m----> 1\u001b[1;33m \u001b[0mds2\u001b[0m \u001b[1;33m=\u001b[0m \u001b[0mget_monthly_oscar\u001b[0m\u001b[1;33m(\u001b[0m\u001b[1;36m2000\u001b[0m\u001b[1;33m,\u001b[0m\u001b[1;36m0\u001b[0m\u001b[1;33m)\u001b[0m\u001b[1;33m\u001b[0m\u001b[0m\n\u001b[0m",
      "\u001b[1;31mNameError\u001b[0m: name 'get_monthly_oscar' is not defined"
     ]
    }
   ],
   "source": [
    "ds2 = get_monthly_oscar(2000,0)"
   ]
  },
  {
   "cell_type": "code",
   "execution_count": null,
   "metadata": {},
   "outputs": [],
   "source": []
  }
 ],
 "metadata": {
  "kernelspec": {
   "display_name": "Python 3",
   "language": "python",
   "name": "python3"
  },
  "language_info": {
   "codemirror_mode": {
    "name": "ipython",
    "version": 3
   },
   "file_extension": ".py",
   "mimetype": "text/x-python",
   "name": "python",
   "nbconvert_exporter": "python",
   "pygments_lexer": "ipython3",
   "version": "3.7.0"
  }
 },
 "nbformat": 4,
 "nbformat_minor": 2
}
