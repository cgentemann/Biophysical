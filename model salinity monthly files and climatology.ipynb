{
 "cells": [
  {
   "cell_type": "code",
   "execution_count": null,
   "metadata": {},
   "outputs": [],
   "source": [
    "import pandas\n",
    "import matplotlib as mpl\n",
    "import xarray as xr\n",
    "import numpy as np\n",
    "import datetime as dt\n",
    "import os.path\n",
    "dir_data='F:/data/model_data/CMEM/global-reanalysis-phy-001-030-monthly/'\n",
    "dir_data_clim='F:/data/model_data/CMEM/global-reanalysis-phy-001-030-monthly/clim/'\n",
    "def sss_filename(d):\n",
    "    dir_data='F:/data/model_data/CMEM/global-reanalysis-phy-001-030-monthly/'\n",
    "    syr, smon, sdym =str(d.year).zfill(4), str(d.month).zfill(2), str(d.day).zfill(2)\n",
    "    fname_tem=syr + '/'+ 'mercatorglorys12v1_gl12_mean_' + syr + smon + '.nc'\n",
    "    filename = dir_data + fname_tem\n",
    "    return filename\n",
    "def sss_filename_new(d):\n",
    "    dir_data='F:/data/model_data/CMEM/global-reanalysis-phy-001-030-monthly/'\n",
    "    syr, smon, sdym =str(d.year).zfill(4), str(d.month).zfill(2), str(d.day).zfill(2)\n",
    "    fname_tem=syr + '/'+ 'subset_mercatorglorys12v1_gl12_mean_' + syr + smon + '.nc'\n",
    "    filename = dir_data + fname_tem\n",
    "    return filename\n",
    "def sss_filename_new_yearly(d):\n",
    "    dir_data='F:/data/model_data/CMEM/global-reanalysis-phy-001-030-monthly/'\n",
    "    syr, smon, sdym =str(d.year).zfill(4), str(d.month).zfill(2), str(d.day).zfill(2)\n",
    "    fname_tem=syr + '/'+ 'year_subset_mercatorglorys12v1_gl12_mean_' + syr + '.nc'\n",
    "    filename = dir_data + fname_tem\n",
    "    return filename\n",
    "\n",
    "def sss_nrt_filename(d):\n",
    "    dir_data='F:/data/model_data/CMEM/global-analysis-forecast-phys_001_015/'\n",
    "    syr, smon, sdym =str(d.year).zfill(4), str(d.month).zfill(2), str(d.day).zfill(2)\n",
    "    d2 = d + dt.timedelta(days = +2)\n",
    "    syr2, smon2, sdym2 =str(d2.year).zfill(4), str(d2.month).zfill(2), str(d2.day).zfill(2)\n",
    "    fname_tem = 'metoffice_coupled_orca025_GL4_SAL_b' + syr2 + smon2 + sdym2 + '_dm' + syr + smon + sdym + '.nc'\n",
    "    filename = dir_data + fname_tem\n",
    "    return filename\n",
    "def ssh_nrt_filename(d):\n",
    "    dir_data='F:/data/model_data/CMEM/global-analysis-forecast-phys_001_015/'\n",
    "    syr, smon, sdym =str(d.year).zfill(4), str(d.month).zfill(2), str(d.day).zfill(2)\n",
    "    d2 = d + dt.timedelta(days = +2)\n",
    "    syr2, smon2, sdym2 =str(d2.year).zfill(4), str(d2.month).zfill(2), str(d2.day).zfill(2)\n",
    "    fname_tem = 'metoffice_coupled_orca025_GL4_SSH_b' + syr2 + smon2 + sdym2 + '_dm' + syr + smon + sdym + '.nc'\n",
    "    filename = dir_data + fname_tem\n",
    "    return filename\n",
    "def sss_nrt_filename_new(d):\n",
    "    dir_data='F:/data/model_data/CMEM/global-analysis-forecast-phys_001_015/'\n",
    "    syr, smon, sdym =str(d.year).zfill(4), str(d.month).zfill(2), str(d.day).zfill(2)\n",
    "    fname_tem = 'monthly/monthly_subset_metoffice_coupled_orca025_GL4_SAL_b' + syr + smon + '_dm20180208.nc'\n",
    "    filename = dir_data + fname_tem\n",
    "    return filename\n",
    "def sss_nrt_filename_new_yearly(d):\n",
    "    dir_data='F:/data/model_data/CMEM/global-analysis-forecast-phys_001_015/'\n",
    "    syr, smon, sdym =str(d.year).zfill(4), str(d.month).zfill(2), str(d.day).zfill(2)\n",
    "    fname_tem = 'monthly/year_subset_metoffice_coupled_orca025_GL4_SAL_b' + syr + '_dm20180208.nc'\n",
    "    filename = dir_data + fname_tem\n",
    "    return filename\n",
    "\n",
    "#get 0.25 km grid from cmc data to downsamplt this\n",
    "filename = 'https://podaac-opendap.jpl.nasa.gov/opendap/allData/ghrsst/data/GDS2/L4/GLOB/CMC/CMC0.2deg/v2/1994/002/19940102120000-CMC-L4_GHRSST-SSTfnd-CMC0.2deg-GLOB-v02.0-fv02.0.nc'\n",
    "ds_v2 = xr.open_dataset(filename)\n",
    "new_lat = np.linspace(ds_v2.lat[0], ds_v2.lat[-1], ds_v2.dims['lat'])\n",
    "new_lon = np.linspace(ds_v2.lon[0], ds_v2.lon[-1], ds_v2.dims['lon'])\n",
    "ds_v2.close()"
   ]
  },
  {
   "cell_type": "code",
   "execution_count": null,
   "metadata": {},
   "outputs": [],
   "source": [
    "#MONTHLY files are huge becauseo of depth layers, so lower spatial resolution and only save surface data\n",
    "for lyr in range(1999,2018): #2017):\n",
    "    for imon in range(1,13): #3,13):\n",
    "        d = dt.date(lyr,imon,1) \n",
    "        filename = sss_filename(d)\n",
    "        if os.path.exists(filename):      \n",
    "            ds = xr.open_dataset(filename)\n",
    "            ds_subset = ds.sel(depth = ds.depth[0].data)\n",
    "            ds_low_res = ds_subset.interp(latitude = new_lat,longitude = new_lon)\n",
    "            ds.close()\n",
    "            filename_new = sss_filename_new(d)\n",
    "            ds_low_res.to_netcdf(filename_new)\n",
    "            os.remove(filename)"
   ]
  },
  {
   "cell_type": "code",
   "execution_count": null,
   "metadata": {},
   "outputs": [],
   "source": [
    "lyr, idyjl = 2018, 1\n",
    "d = dt.date(lyr,1,1) + dt.timedelta(idyjl - 1)\n",
    "filename = sss_nrt_filename(d)\n",
    "print(filename)\n",
    "ds = xr.open_dataset(filename)\n",
    "ds.close()\n",
    "ds = ds.mean('depth')\n",
    "ds\n",
    "filename = ssh_nrt_filename(d)\n",
    "print(filename)\n",
    "ds2 = xr.open_dataset(filename)\n",
    "ds2.close()\n",
    "ds2\n",
    "ds['zos']=ds2['zos']\n",
    "ds"
   ]
  },
  {
   "cell_type": "code",
   "execution_count": null,
   "metadata": {},
   "outputs": [],
   "source": [
    "#Daily NRT files are huge becauseo of depth layers, so lower spatial resolution and only save surface data\n",
    "#also put into monthly file          \n",
    "file1 = 'F:/data/model_data/CMEM/global-reanalysis-phy-001-030-monthly/2017/year_subset_mercatorglorys12v1_gl12_mean_2017.nc'\n",
    "ds1 = xr.open_dataset(file1)\n",
    "ds1.close()\n",
    "for lyr in range(2018,2019): \n",
    "    ds_mnth=[]\n",
    "    for imon in range(1,13): #:13):\n",
    "        init = 0\n",
    "        for idyjl in range(1,366):\n",
    "            d = dt.date(lyr,1,1) + dt.timedelta(idyjl - 1)\n",
    "            dd=dt.datetime(lyr,1,1) + dt.timedelta(idyjl - 1)\n",
    "            if d.month!=imon:\n",
    "                continue\n",
    "            filename = sss_nrt_filename(d)\n",
    "            ds = xr.open_dataset(filename)\n",
    "            ds = ds.drop('time').mean('time')\n",
    "            ds = ds.assign_coords(lon=(((ds.lon + 180) % 360) - 180)).sortby('lon').sortby('lat')\n",
    "            #ds['time']=dd\n",
    "            ds.assign_coords(time=dd)\n",
    "            ds.expand_dims('time')\n",
    "            ds_subset = ds.sel(depth = ds.depth[0].data)\n",
    "            ds.close()\n",
    "            filename = ssh_nrt_filename(d)\n",
    "            ds_tem = xr.open_dataset(filename)\n",
    "            ds_tem = ds_tem.drop('time').mean('time')\n",
    "            ds_tem = ds_tem.assign_coords(lon=(((ds_tem.lon + 180) % 360) - 180)).sortby('lon').sortby('lat')\n",
    "            #ds_tem['time']=dd\n",
    "            ds_tem.assign_coords(time=dd)\n",
    "            ds_tem.expand_dims('time')\n",
    "            ds_subset['zos']=ds_tem['zos']\n",
    "            ds_tem.close()\n",
    "            ds_low_res = ds_subset.interp(lat = new_lat,lon = new_lon)\n",
    "            print(ds_low_res)\n",
    "            if init==0:\n",
    "                ds_sum = ds_low_res\n",
    "                init = 1\n",
    "            else:\n",
    "                ds_sum = xr.concat([ds_sum,ds_low_res],dim = 'time')\n",
    "            print(idyjl,ds_sum.dims)\n",
    "        #ds_clim2 = ds_sum.resample(time='M').mean()   \n",
    "        ds_clim2 = ds_sum.mean('time')\n",
    "        #ds_clim2.assign_coords(time=dd.month)\n",
    "        ds_clim2.expand_dims('time',0)\n",
    "        dd=dt.datetime(lyr,imon,1)\n",
    "        ds_clim2.coords['time']=ds1.time[imon-1].values+np.timedelta64(365,'D')\n",
    "#        ds_clim2 = ds_sum.groupby('time.month').mean('time')\n",
    "        #ds_sum = ds_sum.mean('time',skipna=True)\n",
    "        ds_mnth.append(ds_clim2)\n",
    "    combined = xr.concat(ds_mnth, dim='time')\n",
    "    filename_new = sss_nrt_filename_new_yearly(d)\n",
    "    combined.to_netcdf(filename_new)\n",
    "    "
   ]
  },
  {
   "cell_type": "code",
   "execution_count": null,
   "metadata": {},
   "outputs": [],
   "source": [
    "file1 = 'F:/data/model_data/CMEM/global-reanalysis-phy-001-030-monthly/2017/year_subset_mercatorglorys12v1_gl12_mean_2017.nc'\n",
    "ds1 = xr.open_dataset(file1)\n",
    "ds1.close()\n",
    "print(ds1.time[0])\n",
    "print(ds1.time[0].values+np.timedelta64(days=365))"
   ]
  },
  {
   "cell_type": "code",
   "execution_count": null,
   "metadata": {
    "scrolled": true
   },
   "outputs": [],
   "source": [
    "print(filename_new)\n",
    "print(combined)\n",
    "combined.so[0,:,:].plot()"
   ]
  },
  {
   "cell_type": "code",
   "execution_count": null,
   "metadata": {},
   "outputs": [],
   "source": [
    "#make monthly average ssts into one yearly file\n",
    "for lyr in range(2017,2018): #2017):\n",
    "    ds_mnth=[]\n",
    "    for imon in range(1,13):\n",
    "        d = dt.date(lyr,imon,1) \n",
    "        filename = sss_filename_new(d)\n",
    "        filename_new = sss_filename_new_yearly(d)\n",
    "        ds = xr.open_dataset(filename)\n",
    "        ds.close()\n",
    "        ds_mnth.append(ds)\n",
    "    combined = xr.concat(ds_mnth, dim='time')\n",
    "    combined = combined.rename({'longitude':'lon','latitude':'lat'})\n",
    "    combined.to_netcdf(filename_new)\n",
    "    "
   ]
  },
  {
   "cell_type": "code",
   "execution_count": null,
   "metadata": {},
   "outputs": [],
   "source": [
    "#test nrt and reanalysis yearly files\n",
    "#file1 = 'F:/data/model_data/CMEM/global-reanalysis-phy-001-030-monthly/1993/year_subset_mercatorglorys12v1_gl12_mean_1993.nc'\n",
    "file2 = 'F:/data/model_data/CMEM/global-analysis-forecast-phys_001_015/monthly/year_subset_metoffice_coupled_orca025_GL4_SAL_b2018_dm20180208.nc'\n",
    "file2a = 'F:/data/model_data/CMEM/global-analysis-forecast-phys_001_015/monthly/year_subset_metoffice_coupled_orca025_GL4_SAL_b2018_dm20180208a.nc'\n",
    "#ds1 = xr.open_dataset(file1)\n",
    "ds2 = xr.open_dataset(file2)\n",
    "#ds2['time']=ds2.time.values+np.timedelta64(365,'D')\n",
    "#ds1.close()\n",
    "ds2.close()\n",
    "#print(ds2)\n",
    "#print(ds1)\n",
    "print(ds2)\n",
    "ds2.to_netcdf(file2a)\n",
    "#print(dt.timedelta(days=25))\n",
    "#print(ds1.time[0]+dt.timedelta(days=25))\n",
    "#d=ds1['time'].values\n",
    "#d[0].time"
   ]
  },
  {
   "cell_type": "code",
   "execution_count": null,
   "metadata": {},
   "outputs": [],
   "source": [
    "ds2"
   ]
  },
  {
   "cell_type": "code",
   "execution_count": null,
   "metadata": {},
   "outputs": [],
   "source": [
    "print(ds2.time[0].values,ds2.time[0].values+np.timedelta64(days=365))\n",
    "\n",
    "ds2"
   ]
  },
  {
   "cell_type": "code",
   "execution_count": null,
   "metadata": {},
   "outputs": [],
   "source": [
    "ds1.so[0,:,:].plot(vmin=30,vmax=35)\n"
   ]
  },
  {
   "cell_type": "code",
   "execution_count": null,
   "metadata": {},
   "outputs": [],
   "source": [
    "ds2.so[0,:,:].plot(vmin=30,vmax=35)\n"
   ]
  },
  {
   "cell_type": "code",
   "execution_count": null,
   "metadata": {},
   "outputs": [],
   "source": [
    "#calculate climatology\n",
    "for icase in range(0,3):\n",
    "    if icase==0:\n",
    "        iyr1,iyr2 = 1993,2000\n",
    "    if icase==1:\n",
    "        iyr1,iyr2 = 2000,2010\n",
    "    if icase==2:\n",
    "        iyr1,iyr2 = 2010,2018\n",
    "    init = 0\n",
    "    for lyr in range(iyr1,iyr2): \n",
    "        d = dt.date(lyr,1,1) \n",
    "        filename = sss_filename_new_yearly(d)\n",
    "        if lyr == 2018:\n",
    "            filename = sss_nrt_filename_new_yearly(d)\n",
    "        ds = xr.open_dataset(filename)\n",
    "        if init==0:\n",
    "            ds_sum = ds\n",
    "            init = 1\n",
    "        else:\n",
    "            ds_sum = xr.concat([ds_sum,ds],dim = 'time')\n",
    "        print(lyr,ds_sum.dims)\n",
    "    ds_sum2 = ds_sum.groupby('time.month').mean('time')\n",
    "    fname_tem=dir_data_clim + 'climatology_'+str(iyr1)+'_'+str(iyr2-1)+'_mercatorglorys12v1_gl12_mean.nc'\n",
    "    ds_sum2.to_netcdf(fname_tem)\n",
    "\n"
   ]
  },
  {
   "cell_type": "code",
   "execution_count": null,
   "metadata": {},
   "outputs": [],
   "source": []
  },
  {
   "cell_type": "code",
   "execution_count": null,
   "metadata": {},
   "outputs": [],
   "source": [
    " "
   ]
  },
  {
   "cell_type": "code",
   "execution_count": null,
   "metadata": {},
   "outputs": [],
   "source": [
    "num_year = 2017-1993+1\n",
    "num_year_file1 = 1999 - 1993 + 1\n",
    "num_year_file2 = 2009 - 2000 + 1\n",
    "num_year_file3 = 2017 - 2010 + 1\n",
    "frac_file1 = num_year_file1 / num_year\n",
    "frac_file2 = num_year_file2 / num_year\n",
    "frac_file3 = num_year_file3 / num_year\n",
    "print(frac_file1+frac_file2+frac_file3,frac_file1,frac_file2,frac_file3)\n",
    "fname_tem = dir_data_clim + 'climatology_1993_1999_mercatorglorys12v1_gl12_mean.nc'\n",
    "print(fname_tem)\n",
    "ds = xr.open_dataset(fname_tem)\n",
    "ds.close()\n",
    "fname_tem = dir_data_clim + 'climatology_2000_2009_mercatorglorys12v1_gl12_mean.nc'\n",
    "print(fname_tem)\n",
    "ds2 = xr.open_dataset(fname_tem)\n",
    "ds2.close()\n",
    "fname_tem = dir_data_clim + 'climatology_2010_2017_mercatorglorys12v1_gl12_mean.nc'\n",
    "print(fname_tem)\n",
    "ds3 = xr.open_dataset(fname_tem)\n",
    "ds3.close()\n",
    "ds_ave = frac_file1*ds + frac_file2*ds2 + frac_file3*ds3\n",
    "fname_tem = dir_data_clim + 'climatology_1993_2017_mercatorglorys12v1_gl12_mean.nc'\n",
    "print(fname_tem)\n",
    "ds_ave.to_netcdf(fname_tem)\n",
    "\n"
   ]
  },
  {
   "cell_type": "code",
   "execution_count": null,
   "metadata": {},
   "outputs": [],
   "source": [
    "ds_ave"
   ]
  },
  {
   "cell_type": "code",
   "execution_count": null,
   "metadata": {},
   "outputs": [],
   "source": [
    "#put clim together into one \n",
    "fname_tem='climatology_monthly_1993_1998_mercatorglorys12v1_gl12_mean.nc'\n",
    "filename = dir_data_clim + fname_tem\n",
    "ds = xr.open_dataset(filename)\n",
    "ds_sum = ds\n",
    "ds.close()\n",
    "fname_tem='climatology_monthly_1999_2004_mercatorglorys12v1_gl12_mean.nc'\n",
    "filename = dir_data_clim + fname_tem\n",
    "ds = xr.open_dataset(filename)\n",
    "ds_sum = xr.concat([ds_sum,ds],dim = 'month')\n",
    "ds.close()\n",
    "fname_tem='climatology_monthly_2005_2010_mercatorglorys12v1_gl12_mean.nc'\n",
    "filename = dir_data_clim + fname_tem\n",
    "ds = xr.open_dataset(filename)\n",
    "ds_sum = xr.concat([ds_sum,ds],dim = 'month')\n",
    "ds.close()\n",
    "fname_tem='climatology_monthly_2011_2017_mercatorglorys12v1_gl12_mean.nc'\n",
    "filename = dir_data_clim + fname_tem\n",
    "ds = xr.open_dataset(filename)\n",
    "ds_sum = xr.concat([ds_sum,ds],dim = 'month')\n",
    "ds.close()\n",
    "ds_sum2 = ds_sum.groupby('month').mean('month')\n",
    "#ds_sum2.rename({'longitude':'lon','latitude':'lat'}, inplace = True)\n",
    "fname_tem='climatology_monthly_1993_2017_mercatorglorys12v1_gl12_mean.nc'\n",
    "filename_out = dir_data_clim + fname_tem\n",
    "ds_sum2.to_netcdf(filename_out)\n"
   ]
  },
  {
   "cell_type": "code",
   "execution_count": null,
   "metadata": {},
   "outputs": [],
   "source": [
    "ds_sum2"
   ]
  },
  {
   "cell_type": "code",
   "execution_count": null,
   "metadata": {},
   "outputs": [],
   "source": [
    "#change clim to lat and lon rather than latitude and longitude\n",
    "fname_tem='climatology_monthly_1993_2016_mercatorglorys12v1_gl12_mean.nc'\n",
    "filename_out = dir_data_clim + fname_tem\n",
    "ds=xr.open_dataset(filename_out)\n",
    "#ds.rename({'longitude':'lon','latitude':'lat'}, inplace = True)\n",
    "print(ds)\n",
    "#ds.to_netcdf(filename_out)\n",
    "ds.close()\n"
   ]
  },
  {
   "cell_type": "code",
   "execution_count": null,
   "metadata": {},
   "outputs": [],
   "source": [
    "ds_sum"
   ]
  },
  {
   "cell_type": "code",
   "execution_count": null,
   "metadata": {},
   "outputs": [],
   "source": []
  }
 ],
 "metadata": {
  "kernelspec": {
   "display_name": "Python 3",
   "language": "python",
   "name": "python3"
  },
  "language_info": {
   "codemirror_mode": {
    "name": "ipython",
    "version": 3
   },
   "file_extension": ".py",
   "mimetype": "text/x-python",
   "name": "python",
   "nbconvert_exporter": "python",
   "pygments_lexer": "ipython3",
   "version": "3.7.0"
  }
 },
 "nbformat": 4,
 "nbformat_minor": 2
}
