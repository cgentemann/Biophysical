{
 "cells": [
  {
   "cell_type": "code",
   "execution_count": 1,
   "metadata": {},
   "outputs": [],
   "source": [
    "import pandas\n",
    "import matplotlib as mpl\n",
    "import xarray as xr\n",
    "import numpy as np\n",
    "import datetime as dt\n",
    "import os.path\n",
    "dir_data='F:/data/model_data/CMEM/global-reanalysis-phy-001-030-monthly/'\n",
    "dir_data_clim='F:/data/model_data/CMEM/global-reanalysis-phy-001-030-monthly/clim/'\n",
    "def sss_filename(d):\n",
    "    dir_data='F:/data/model_data/CMEM/global-reanalysis-phy-001-030-monthly/'\n",
    "    syr=str(d.year).zfill(4)\n",
    "    smon=str(d.month).zfill(2)\n",
    "    fname_tem=syr + '/'+ 'mercatorglorys12v1_gl12_mean_' + syr + smon + '.nc'\n",
    "    filename = dir_data + fname_tem\n",
    "    return filename\n",
    "def sss_filename_new(d):\n",
    "    dir_data='F:/data/model_data/CMEM/global-reanalysis-phy-001-030-monthly/'\n",
    "    syr=str(d.year).zfill(4)\n",
    "    smon=str(d.month).zfill(2)\n",
    "    fname_tem=syr + '/'+ 'subset_mercatorglorys12v1_gl12_mean_' + syr + smon + '.nc'\n",
    "    filename = dir_data + fname_tem\n",
    "    return filename\n",
    "def sss_filename_new_yearly(d):\n",
    "    dir_data='F:/data/model_data/CMEM/global-reanalysis-phy-001-030-monthly/'\n",
    "    syr=str(d.year).zfill(4)\n",
    "    smon=str(d.month).zfill(2)\n",
    "    fname_tem=syr + '/'+ 'year_subset_mercatorglorys12v1_gl12_mean_' + syr + '.nc'\n",
    "    filename = dir_data + fname_tem\n",
    "    return filename\n",
    "\n",
    "#get 0.25 km grid from cmc data to downsamplt this\n",
    "filename = 'https://podaac-opendap.jpl.nasa.gov/opendap/allData/ghrsst/data/GDS2/L4/GLOB/CMC/CMC0.2deg/v2/1994/002/19940102120000-CMC-L4_GHRSST-SSTfnd-CMC0.2deg-GLOB-v02.0-fv02.0.nc'\n",
    "ds_v2 = xr.open_dataset(filename)\n",
    "new_lat = np.linspace(ds_v2.lat[0], ds_v2.lat[-1], ds_v2.dims['lat'])\n",
    "new_lon = np.linspace(ds_v2.lon[0], ds_v2.lon[-1], ds_v2.dims['lon'])\n",
    "ds_v2.close()"
   ]
  },
  {
   "cell_type": "code",
   "execution_count": null,
   "metadata": {},
   "outputs": [],
   "source": [
    "#files are huge becauseo of depth layers, so lower spatial resolution and only save surface data\n",
    "for lyr in range(2017,2018): #2017):\n",
    "    for imon in range(3,13): #3,13):\n",
    "        d = dt.date(lyr,imon,1) \n",
    "        filename = sss_filename(d)\n",
    "        if os.path.exists(filename):      \n",
    "            ds = xr.open_dataset(filename)\n",
    "            ds_subset = ds.sel(depth = ds.depth[0].data)\n",
    "            ds_low_res = ds_subset.interp(latitude = new_lat,longitude = new_lon)\n",
    "            ds.close()\n",
    "            filename_new = sss_filename_new(d)\n",
    "            ds_low_res.to_netcdf(filename_new)\n",
    "            os.remove(filename)"
   ]
  },
  {
   "cell_type": "code",
   "execution_count": null,
   "metadata": {},
   "outputs": [],
   "source": [
    "#make monthly average ssts into one yearly file\n",
    "for lyr in range(2017,2018): #2017):\n",
    "    ds_mnth=[]\n",
    "    for imon in range(1,13):\n",
    "        d = dt.date(lyr,imon,1) \n",
    "        filename = sss_filename_new(d)\n",
    "        filename_new = sss_filename_new_yearly(d)\n",
    "        ds = xr.open_dataset(filename)\n",
    "        ds.close()\n",
    "        ds_mnth.append(ds)\n",
    "    combined = xr.concat(ds_mnth, dim='time')\n",
    "    combined = combined.rename({'longitude':'lon','latitude':'lat'})\n",
    "    combined.to_netcdf(filename_new)\n",
    "    "
   ]
  },
  {
   "cell_type": "code",
   "execution_count": null,
   "metadata": {},
   "outputs": [],
   "source": []
  },
  {
   "cell_type": "code",
   "execution_count": null,
   "metadata": {},
   "outputs": [],
   "source": [
    "\n"
   ]
  },
  {
   "cell_type": "code",
   "execution_count": 3,
   "metadata": {},
   "outputs": [
    {
     "name": "stdout",
     "output_type": "stream",
     "text": [
      "1993 Frozen(SortedKeysDict({'lat': 901, 'lon': 1800, 'time': 12}))\n",
      "1994 Frozen(SortedKeysDict({'lat': 901, 'lon': 1800, 'time': 24}))\n",
      "1995 Frozen(SortedKeysDict({'lat': 901, 'lon': 1800, 'time': 36}))\n",
      "1996 Frozen(SortedKeysDict({'lat': 901, 'lon': 1800, 'time': 48}))\n",
      "1997 Frozen(SortedKeysDict({'lat': 901, 'lon': 1800, 'time': 60}))\n",
      "1998 Frozen(SortedKeysDict({'lat': 901, 'lon': 1800, 'time': 72}))\n"
     ]
    },
    {
     "name": "stderr",
     "output_type": "stream",
     "text": [
      "C:\\Users\\gentemann\\Miniconda3\\lib\\site-packages\\xarray\\core\\nanops.py:161: RuntimeWarning: Mean of empty slice\n",
      "  return np.nanmean(a, axis=axis, dtype=dtype)\n"
     ]
    }
   ],
   "source": [
    "init = 0\n",
    "for lyr in range(1993,1999): #2018): \n",
    "    d = dt.date(lyr,1,1) \n",
    "    filename = sss_filename_new_yearly(d)\n",
    "    ds = xr.open_dataset(filename)\n",
    "#    ds = xr.open_dataset(filename,drop_variables = ['usi','vsi','mlotst','zos','bottomT','sithick','siconc','thetao','uo','vo'])\n",
    "    if init==0:\n",
    "        ds_sum = ds\n",
    "        init = 1\n",
    "    else:\n",
    "        ds_sum = xr.concat([ds_sum,ds],dim = 'time')\n",
    "    ds.close()\n",
    "    print(lyr,ds_sum.dims)\n",
    "ds_sum2 = ds_sum.groupby('time.month').mean('time')\n",
    "fname_tem='climatology_monthly_1993_1998_mercatorglorys12v1_gl12_mean.nc'\n",
    "filename_out = dir_data_clim + fname_tem\n",
    "ds_sum2.to_netcdf(filename_out)\n"
   ]
  },
  {
   "cell_type": "code",
   "execution_count": null,
   "metadata": {},
   "outputs": [],
   "source": [
    "init = 0\n",
    "for lyr in range(1999,2005): #2018): \n",
    "    d = dt.date(lyr,1,1) \n",
    "    filename = sss_filename_new_yearly(d)\n",
    "    ds = xr.open_dataset(filename)\n",
    "#    ds = xr.open_dataset(filename,drop_variables = ['usi','vsi','mlotst','zos','bottomT','sithick','siconc','thetao','uo','vo'])\n",
    "    if init==0:\n",
    "        ds_sum = ds\n",
    "        init = 1\n",
    "    else:\n",
    "        ds_sum = xr.concat([ds_sum,ds],dim = 'time')\n",
    "    ds.close()\n",
    "    print(lyr,ds_sum.dims)\n",
    "ds_sum2 = ds_sum.groupby('time.month').mean('time')\n",
    "fname_tem='climatology_monthly_1999_2004_mercatorglorys12v1_gl12_mean.nc'\n",
    "filename_out = dir_data_clim + fname_tem\n",
    "ds_sum2.to_netcdf(filename_out)\n",
    "init = 0\n",
    "for lyr in range(2005,2011): #2018): \n",
    "    d = dt.date(lyr,1,1) \n",
    "    filename = sss_filename_new_yearly(d)\n",
    "    ds = xr.open_dataset(filename)\n",
    "#    ds = xr.open_dataset(filename,drop_variables = ['usi','vsi','mlotst','zos','bottomT','sithick','siconc','thetao','uo','vo'])\n",
    "    if init==0:\n",
    "        ds_sum = ds\n",
    "        init = 1\n",
    "    else:\n",
    "        ds_sum = xr.concat([ds_sum,ds],dim = 'time')\n",
    "    ds.close()\n",
    "    print(lyr,ds_sum.dims)\n",
    "ds_sum2 = ds_sum.groupby('time.month').mean('time')\n",
    "fname_tem='climatology_monthly_2005_2010_mercatorglorys12v1_gl12_mean.nc'\n",
    "filename_out = dir_data_clim + fname_tem\n",
    "ds_sum2.to_netcdf(filename_out)\n",
    "init = 0\n",
    "for lyr in range(2011,2018): #2018): \n",
    "    d = dt.date(lyr,1,1) \n",
    "    filename = sss_filename_new_yearly(d)\n",
    "    ds = xr.open_dataset(filename)\n",
    "#    ds = xr.open_dataset(filename,drop_variables = ['usi','vsi','mlotst','zos','bottomT','sithick','siconc','thetao','uo','vo'])\n",
    "    if init==0:\n",
    "        ds_sum = ds\n",
    "        init = 1\n",
    "    else:\n",
    "        ds_sum = xr.concat([ds_sum,ds],dim = 'time')\n",
    "    ds.close()\n",
    "    print(lyr,ds_sum.dims)\n",
    "ds_sum2 = ds_sum.groupby('time.month').mean('time')\n",
    "fname_tem='climatology_monthly_2011_2017_mercatorglorys12v1_gl12_mean.nc'\n",
    "filename_out = dir_data_clim + fname_tem\n",
    "ds_sum2.to_netcdf(filename_out)\n"
   ]
  },
  {
   "cell_type": "code",
   "execution_count": null,
   "metadata": {},
   "outputs": [],
   "source": []
  },
  {
   "cell_type": "code",
   "execution_count": 5,
   "metadata": {},
   "outputs": [
    {
     "name": "stdout",
     "output_type": "stream",
     "text": [
      "1.0 0.24 0.24 0.28\n",
      "F:/data/model_data/CMEM/global-reanalysis-phy-001-030-monthly/clim/climatology_monthly_1993_1998_mercatorglorys12v1_gl12_mean.nc\n",
      "F:/data/model_data/CMEM/global-reanalysis-phy-001-030-monthly/clim/climatology_monthly_1999_2004_mercatorglorys12v1_gl12_mean.nc\n",
      "F:/data/model_data/CMEM/global-reanalysis-phy-001-030-monthly/clim/climatology_monthly_2005_2010_mercatorglorys12v1_gl12_mean.nc\n",
      "F:/data/model_data/CMEM/global-reanalysis-phy-001-030-monthly/clim/climatology_monthly_2011_2017_mercatorglorys12v1_gl12_mean.nc\n",
      "F:/data/model_data/CMEM/global-reanalysis-phy-001-030-monthly/clim/climatology_monthly_1993_2017_mercatorglorys12v1_gl12_mean.nc\n"
     ]
    }
   ],
   "source": [
    "num_year = 2017-1993+1\n",
    "num_year_file0 = 1998 - 1993 + 1\n",
    "num_year_file1 = 2004 - 1999 + 1\n",
    "num_year_file2 = 2010 - 2005 + 1\n",
    "num_year_file3 = 2017 - 2011 + 1\n",
    "frac_file0 = num_year_file0 / num_year\n",
    "frac_file1 = num_year_file1 / num_year\n",
    "frac_file2 = num_year_file2 / num_year\n",
    "frac_file3 = num_year_file3 / num_year\n",
    "print(frac_file0+frac_file1+frac_file2+frac_file3,frac_file1,frac_file2,frac_file3)\n",
    "fname_tem = dir_data_clim + 'climatology_monthly_1993_1998_mercatorglorys12v1_gl12_mean.nc'\n",
    "print(fname_tem)\n",
    "ds0 = xr.open_dataset(fname_tem)\n",
    "ds0.close()\n",
    "fname_tem = dir_data_clim + 'climatology_monthly_1999_2004_mercatorglorys12v1_gl12_mean.nc'\n",
    "print(fname_tem)\n",
    "ds = xr.open_dataset(fname_tem)\n",
    "ds.close()\n",
    "fname_tem = dir_data_clim + 'climatology_monthly_2005_2010_mercatorglorys12v1_gl12_mean.nc'\n",
    "print(fname_tem)\n",
    "ds2 = xr.open_dataset(fname_tem)\n",
    "ds2.close()\n",
    "fname_tem = dir_data_clim + 'climatology_monthly_2011_2017_mercatorglorys12v1_gl12_mean.nc'\n",
    "print(fname_tem)\n",
    "ds3 = xr.open_dataset(fname_tem)\n",
    "ds3.close()\n",
    "ds_ave = frac_file0*ds0 + frac_file1*ds + frac_file2*ds2 + frac_file3*ds3\n",
    "fname_tem = dir_data_clim + 'climatology_monthly_1993_2017_mercatorglorys12v1_gl12_mean.nc'\n",
    "print(fname_tem)\n",
    "ds_ave.to_netcdf(fname_tem)\n",
    "\n"
   ]
  },
  {
   "cell_type": "code",
   "execution_count": null,
   "metadata": {},
   "outputs": [],
   "source": []
  },
  {
   "cell_type": "code",
   "execution_count": null,
   "metadata": {},
   "outputs": [],
   "source": [
    "#put clim together into one \n",
    "fname_tem='climatology_monthly_1993_1998_mercatorglorys12v1_gl12_mean.nc'\n",
    "filename = dir_data_clim + fname_tem\n",
    "ds = xr.open_dataset(filename)\n",
    "ds_sum = ds\n",
    "ds.close()\n",
    "fname_tem='climatology_monthly_1999_2004_mercatorglorys12v1_gl12_mean.nc'\n",
    "filename = dir_data_clim + fname_tem\n",
    "ds = xr.open_dataset(filename)\n",
    "ds_sum = xr.concat([ds_sum,ds],dim = 'month')\n",
    "ds.close()\n",
    "fname_tem='climatology_monthly_2005_2010_mercatorglorys12v1_gl12_mean.nc'\n",
    "filename = dir_data_clim + fname_tem\n",
    "ds = xr.open_dataset(filename)\n",
    "ds_sum = xr.concat([ds_sum,ds],dim = 'month')\n",
    "ds.close()\n",
    "fname_tem='climatology_monthly_2011_2017_mercatorglorys12v1_gl12_mean.nc'\n",
    "filename = dir_data_clim + fname_tem\n",
    "ds = xr.open_dataset(filename)\n",
    "ds_sum = xr.concat([ds_sum,ds],dim = 'month')\n",
    "ds.close()\n",
    "ds_sum2 = ds_sum.groupby('month').mean('month')\n",
    "#ds_sum2.rename({'longitude':'lon','latitude':'lat'}, inplace = True)\n",
    "fname_tem='climatology_monthly_1993_2017_mercatorglorys12v1_gl12_mean.nc'\n",
    "filename_out = dir_data_clim + fname_tem\n",
    "ds_sum2.to_netcdf(filename_out)\n"
   ]
  },
  {
   "cell_type": "code",
   "execution_count": null,
   "metadata": {},
   "outputs": [],
   "source": [
    "ds_sum2"
   ]
  },
  {
   "cell_type": "code",
   "execution_count": null,
   "metadata": {},
   "outputs": [],
   "source": [
    "#change clim to lat and lon rather than latitude and longitude\n",
    "fname_tem='climatology_monthly_1993_2016_mercatorglorys12v1_gl12_mean.nc'\n",
    "filename_out = dir_data_clim + fname_tem\n",
    "ds=xr.open_dataset(filename_out)\n",
    "#ds.rename({'longitude':'lon','latitude':'lat'}, inplace = True)\n",
    "print(ds)\n",
    "#ds.to_netcdf(filename_out)\n",
    "ds.close()\n"
   ]
  },
  {
   "cell_type": "code",
   "execution_count": null,
   "metadata": {},
   "outputs": [],
   "source": [
    "ds_sum"
   ]
  },
  {
   "cell_type": "code",
   "execution_count": null,
   "metadata": {},
   "outputs": [],
   "source": []
  }
 ],
 "metadata": {
  "kernelspec": {
   "display_name": "Python 3",
   "language": "python",
   "name": "python3"
  },
  "language_info": {
   "codemirror_mode": {
    "name": "ipython",
    "version": 3
   },
   "file_extension": ".py",
   "mimetype": "text/x-python",
   "name": "python",
   "nbconvert_exporter": "python",
   "pygments_lexer": "ipython3",
   "version": "3.7.0"
  }
 },
 "nbformat": 4,
 "nbformat_minor": 2
}
