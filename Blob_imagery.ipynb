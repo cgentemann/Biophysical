{
 "cells": [
  {
   "cell_type": "code",
   "execution_count": null,
   "metadata": {},
   "outputs": [],
   "source": [
    "import xarray as xr\n",
    "import numpy as np\n",
    "from math import pi\n",
    "import datetime as dt\n",
    "import os\n",
    "import sys\n",
    "from pathlib import Path\n",
    "from os.path import exists\n",
    "import matplotlib.pyplot as plt\n",
    "import cartopy.crs as ccrs\n",
    "from pathlib import Path\n",
    "\n",
    "sys.path.append('./subroutines/')\n",
    "from read_gridded_data import get_monthly_data\n",
    "\n",
    "def get_data(iyr):\n",
    "    from pathlib import Path\n",
    "    filelist=[]\n",
    "    dir_data = 'F:/data/sst/jpl_mur/v4.1/'+str(iyr).zfill(4)+'/'\n",
    "    for filename in Path(dir_data).rglob('*90000-JPL-L4_GHRSST-SSTfnd-MUR-GLOB-v02.0-fv04.1.nc'):\n",
    "#    dir_data = 'F:/data/sst/cmc/CMC0.2deg/v2/data/'\n",
    "#    for filename in Path(dir_data).rglob('*.nc'):\n",
    "        filelist.append(filename)\n",
    "    ds=xr.open_mfdataset(filelist,combine='nested',concat_dim='time').drop({'analysis_error'})#.rename({'latitude':'lat','longitude':'lon'})\n",
    "    ds = ds.resample(time='M',keep_attrs=True).mean(skipna=False,keep_attrs=True)\n",
    "    ds = ds.sel(lat=slice(20,90),lon=slice(-180,-100))\n",
    "    return ds"
   ]
  },
  {
   "cell_type": "code",
   "execution_count": null,
   "metadata": {},
   "outputs": [],
   "source": [
    "for iyr in range(2003,2019):\n",
    "    ds= get_data(iyr)\n",
    "    ds = ds.groupby('time.month').mean('time',keep_attrs=True,skipna=False)\n",
    "    for im in range(0,12):\n",
    "        ds.isel(month=im).to_netcdf('F:/data/sst/jpl_mur/monthlyv4.1/'+str(iyr)+str(im+1).zfill(2)+'.nc')"
   ]
  },
  {
   "cell_type": "code",
   "execution_count": null,
   "metadata": {},
   "outputs": [],
   "source": [
    "ds_month"
   ]
  },
  {
   "cell_type": "code",
   "execution_count": null,
   "metadata": {},
   "outputs": [],
   "source": [
    "#    ds = ds.isel(time=0).sel(lat=slice(20,90))\n",
    "#    ds.coords['lon'] = np.mod(ds['lon'], 360)\n",
    "#    ds = ds.sortby(ds.lon).sel(lon=slice(160,260))               \n",
    "dir_timeseries='F:/data/NASA_biophysical/blob/'\n",
    "date_start,date_end,date_end2='2003-01-01','2018-12-31','2019-11-01'\n",
    "ds= get_data()\n",
    "ds_tem=ds.sel(time=slice(date_start,date_end))\n",
    "data_climatology = ds_tem.groupby('time.month').mean('time',keep_attrs=True,skipna=False)\n",
    "ds_tem=ds.sel(time=slice(date_start,date_end2))\n",
    "data_anomaly = ds_tem.groupby('time.month') - data_climatology\n",
    "global_attributes = ds_tem.attrs\n",
    "data_anomaly.attrs = global_attributes\n"
   ]
  },
  {
   "cell_type": "code",
   "execution_count": null,
   "metadata": {},
   "outputs": [],
   "source": [
    "data_anomaly.time[-1]"
   ]
  },
  {
   "cell_type": "code",
   "execution_count": null,
   "metadata": {},
   "outputs": [],
   "source": [
    "data_anomaly.analysed_sst[-1,:,:].plot()"
   ]
  },
  {
   "cell_type": "code",
   "execution_count": null,
   "metadata": {},
   "outputs": [],
   "source": [
    "ds=data_anomaly.isel(time=-1).sel(lat=slice(20,90),lon=slice(-180,-100))\n",
    "#ds_tem.coords['lon'] = np.mod(ds_tem['lon'], 360)\n",
    "#ds_tem = ds_tem.sortby(ds_tem.lon).sel(lon=slice(160,260))               \n",
    "ds.to_netcdf('F:/data/sst/jpl_mur/2019_10_31anomaly.nc')\n",
    "\n",
    "#ds_tem=ds.sel(time=slice(date_start,date_end))\n",
    "#ds_tem"
   ]
  },
  {
   "cell_type": "code",
   "execution_count": null,
   "metadata": {},
   "outputs": [],
   "source": [
    "ds.analysed_sst.plot()"
   ]
  },
  {
   "cell_type": "code",
   "execution_count": null,
   "metadata": {},
   "outputs": [],
   "source": [
    "import cartopy.crs as ccrs                   # import projections\n",
    "import cartopy.feature as cf                 # import features\n",
    "fig = plt.figure(figsize=(8,12))\n",
    "ax = plt.axes(projection = ccrs.NorthPolarStereo(central_longitude=180.0))  # create a set of axes with Mercator projection\n",
    "ax.pcolormesh(ds.lon.values,ds.lat.values,ds.analysed_sst,transform=ccrs.PlateCarree(),cmap='rainbow');\n",
    "ax.coastlines(resolution='10m')                \n",
    "ax.set_extent([-180,-160,50,77])\n",
    "ax.legend()\n",
    "cax = fig.add_axes([0.45, 0.17, 0.3, 0.02])\n",
    "cbar = fig.colorbar(im,cax=cax, orientation='horizontal')\n",
    "cbar.set_label('SST ($^\\deg$C)')\n",
    "fig.savefig(fig_dirs+'blob_map.png')"
   ]
  },
  {
   "cell_type": "code",
   "execution_count": null,
   "metadata": {},
   "outputs": [],
   "source": [
    "#make oscar timeseries\n",
    "#for ibox in range(0,2): #5):\n",
    "#a\n",
    "from matplotlib.lines import Line2D \n",
    "from cartopy.mpl.ticker import LongitudeFormatter, LatitudeFormatter\n",
    "\n",
    "import cartopy.crs as ccrs\n",
    "fig = plt.figure(figsize=(18,10))\n",
    "ax0 = plt.axes(projection=ccrs.PlateCarree(central_longitude=180))\n",
    "#fig, axes = plt.subplots(1, 1,figsize=(20,6),subplot_kw={'projection': ccrs.PlateCarree(central_longitude=180)})\n",
    "import datetime\n",
    "import datetime as dt\n",
    "\n",
    "time_start = time_now = dt.datetime(2002, 6, 1) # from this date (included)\n",
    "time_stop = dt.datetime(2002, 7, 3)     # to that date (excluded)\n",
    "while time_now<time_stop:\n",
    "    year = str(time_now.year)\n",
    "    month = str(time_now.month).zfill(2)\n",
    "    ds_tem=ds.sel(time=time_now,method='nearest').sel(lat=slice(20,90))\n",
    "    ds_tem.coords['lon'] = np.mod(ds_tem['lon'], 360)\n",
    "    ds_tem = ds_tem.sortby(ds_tem.lon).sel(lon=slice(160,260))               \n",
    "    im = ax0.pcolormesh(ds_tem.lon.values,ds_tem.lat.values,ds_tem.analysed_sst,transform=ccrs.PlateCarree(),cmap='rainbow');\n",
    "    ax0.set_global(); ax0.coastlines();\n",
    "    ax0.set_xticks([0, 60, 120, 180, 240, 300, 360], crs=ccrs.PlateCarree())\n",
    "    ax0.set_yticks([-90, -60, -30, 0, 30, 60, 90], crs=ccrs.PlateCarree())\n",
    "    lon_formatter = LongitudeFormatter(zero_direction_label=True)\n",
    "    ax0.xaxis.set_major_formatter(lon_formatter)\n",
    "    ax0.set_xlim(-80,80); ax0.set_ylim(15,65)\n",
    "    ax0.set_title(darray[itype])      \n",
    "    fig.savefig(dir_figs + 'blob'+year+month+'.png', dpi=300)\n",
    "    dt += timedelta(months=1)\n",
    "\n",
    "           "
   ]
  },
  {
   "cell_type": "code",
   "execution_count": null,
   "metadata": {},
   "outputs": [],
   "source": [
    "    ds_tem=ds.sel(time=time_now,method='nearest').sel(lat=slice(20,90))\n",
    "    ds_tem.coords['lon'] = np.mod(ds_tem['lon'], 360)\n",
    "    ds_tem = ds_tem.sortby(ds_tem.lon).sel(lon=slice(160,260))               \n"
   ]
  },
  {
   "cell_type": "code",
   "execution_count": null,
   "metadata": {},
   "outputs": [],
   "source": [
    "ds_tem.analysed_sst.plot()"
   ]
  },
  {
   "cell_type": "code",
   "execution_count": null,
   "metadata": {},
   "outputs": [],
   "source": [
    "    im = ax0.pcolormesh(ds_tem.lon.values,ds_tem.lat.values,ds_tem.analysed_sst,transform=ccrs.PlateCarree(),cmap='rainbow');\n"
   ]
  },
  {
   "cell_type": "code",
   "execution_count": null,
   "metadata": {},
   "outputs": [],
   "source": [
    "    ax0.set_global(); ax0.coastlines();\n",
    "    ax0.set_xticks([0, 60, 120, 180, 240, 300, 360], crs=ccrs.PlateCarree())\n",
    "    ax0.set_yticks([-90, -60, -30, 0, 30, 60, 90], crs=ccrs.PlateCarree())\n",
    "    lon_formatter = LongitudeFormatter(zero_direction_label=True)\n",
    "    ax0.xaxis.set_major_formatter(lon_formatter)\n",
    "    ax0.set_xlim(-80,80); ax0.set_ylim(15,65)\n",
    "    ax0.set_title(darray[itype])      \n",
    "#    fig.savefig(dir_figs + 'blob'+year+month+'.png', dpi=300)\n"
   ]
  }
 ],
 "metadata": {
  "kernelspec": {
   "display_name": "Python 3",
   "language": "python",
   "name": "python3"
  },
  "language_info": {
   "codemirror_mode": {
    "name": "ipython",
    "version": 3
   },
   "file_extension": ".py",
   "mimetype": "text/x-python",
   "name": "python",
   "nbconvert_exporter": "python",
   "pygments_lexer": "ipython3",
   "version": "3.7.3"
  }
 },
 "nbformat": 4,
 "nbformat_minor": 2
}
