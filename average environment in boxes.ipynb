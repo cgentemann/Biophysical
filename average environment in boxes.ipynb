{
 "cells": [
  {
   "cell_type": "code",
   "execution_count": 1,
   "metadata": {},
   "outputs": [],
   "source": [
    "#take boxes determined by marisol from kathleens biforcation data and calculate average environmental information for them\n",
    "#want to calculate average SST, SSS, u^2+v^2, and var(u^2+v^2)\n",
    "import xarray as xr\n",
    "#import pandas as pd\n",
    "#import matplotlib as mpl\n",
    "#import openpyxl\n",
    "#from mpl_toolkits.basemap import Basemap\n",
    "#import matplotlib.pyplot as plt\n",
    "import numpy as np\n",
    "#from math import cos, radians\n",
    "import datetime as dt\n",
    "\n",
    "dir_cmc='F:/data/sst/cmc/CMC0.2deg/v2/'\n",
    "dir_cmc_clim='F:/data/sst/cmc/CMC0.2deg/v2/climatology/'\n",
    "dir_clim='F:/data/sat_data/oscar/L4/oscar_third_deg/climatology/'\n",
    "dir_data = 'https://podaac-opendap.jpl.nasa.gov/opendap/allData/oscar/preview/L4/oscar_third_deg/'\n",
    "dir_figs = 'F:/data/eddy/figures/'\n",
    "\n",
    "boxes_names = ['NPC','NPC_biforcation','CalCur','Alaska1','Alaska2']\n",
    "boxes_lon_min = [-160,-130,-125,-130,-148]\n",
    "boxes_lon_max = [-170,-140,-135,-140,-158]\n",
    "boxes_lat_min = [41,46,35,52,52]\n",
    "boxes_lat_max = [46,51,40,57,57]\n",
    "boxes_lon_min_180 = boxes_lon_min[:]\n",
    "boxes_lon_max_180 = boxes_lon_max[:]\n",
    "for i in range(0,5):\n",
    "    boxes_lon_min[i] += 360\n",
    "    boxes_lon_max[i] += 360\n",
    "\n",
    "def get_climatology(data_type):\n",
    "    if data_type=='oscar':\n",
    "        filename = 'F:/data/sat_data/oscar/L4/oscar_third_deg/climatology_1993_2018_monthly_data_oscar.nc'        \n",
    "    if data_type=='sss':\n",
    "        filename = 'F:/data/model_data/CMEM/global-reanalysis-phy-001-030-monthly/clim/climatology_monthly_1993_2016_mercatorglorys12v1_gl12_mean.nc'\n",
    "    if data_type=='sst':\n",
    "        filename = 'F:/data/sst/cmc/CMC0.2deg/v2/monthly/monthly_climatology_1992_2017_120000-CMC-L4_GHRSST-SSTfnd-CMC0.2deg-GLOB-v02.0-fv02.0.nc'\n",
    "    if data_type == 'ccmp':\n",
    "        filename = 'F:/data/sat_data/ccmp/v02.0/monthly/monthly_climatology_ccmp_V02.0_L3.5_RSS.nc'\n",
    "    return filename\n",
    "\n",
    "def get_data(data_type,lyr):\n",
    "    if data_type == 'oscar':\n",
    "        dir_data = 'F:/data/sat_data/oscar/L4/oscar_third_deg/'\n",
    "        filename = dir_data + str(lyr) + 'monthly_data_oscar.nc'\n",
    "    if data_type=='sss':\n",
    "        dir_data='F:/data/model_data/CMEM/global-reanalysis-phy-001-030-monthly/'\n",
    "        fname_tem=syr + '/'+ 'year_subset_mercatorglorys12v1_gl12_mean_' + str(lyr) + '.nc'\n",
    "        filename = dir_data + fname_tem\n",
    "    if data_type=='sst':\n",
    "        dir_data = 'F:/data/sst/cmc/CMC0.2deg/v2/monthly/' \n",
    "        filename = dir_data + str(lyr) + 'monthly_average_' + str(lyr) + '120000-CMC-L4_GHRSST-SSTfnd-CMC0.2deg-GLOB-v02.0-fv02.0.nc'\n",
    "    if data_type == 'ccmp':\n",
    "        dir_data='F:/data/sat_data/ccmp/v02.0/monthly/'\n",
    "        filename = dir_data + str(lyr) + 'monthly_average_ccmp_V02.0_L3.5_RSS.nc'\n",
    "    return filename\n"
   ]
  },
  {
   "cell_type": "code",
   "execution_count": 36,
   "metadata": {},
   "outputs": [
    {
     "name": "stdout",
     "output_type": "stream",
     "text": [
      "<xarray.Dataset>\n",
      "Dimensions:  (space: 5)\n",
      "Coordinates:\n",
      "  * space    (space) <U15 'NPC' 'NPC_biforcation' 'CalCur' 'Alaska1' 'Alaska2'\n",
      "Data variables:\n",
      "    bar      (space) float64 0.1386 0.333 0.7561 0.745 0.7454\n"
     ]
    },
    {
     "ename": "ValueError",
     "evalue": "coords is not dict-like, but it has 1 items, which does not match the 0 dimensions of the data",
     "output_type": "error",
     "traceback": [
      "\u001b[1;31m---------------------------------------------------------------------------\u001b[0m",
      "\u001b[1;31mValueError\u001b[0m                                Traceback (most recent call last)",
      "\u001b[1;32m<ipython-input-36-91ed0d04969a>\u001b[0m in \u001b[0;36m<module>\u001b[1;34m\u001b[0m\n\u001b[0;32m     10\u001b[0m         \u001b[1;34m'lat_min'\u001b[0m\u001b[1;33m:\u001b[0m \u001b[1;33m(\u001b[0m\u001b[1;33m[\u001b[0m\u001b[1;34m'locs'\u001b[0m\u001b[1;33m]\u001b[0m\u001b[1;33m,\u001b[0m  \u001b[1;33m[\u001b[0m\u001b[1;36m41\u001b[0m\u001b[1;33m,\u001b[0m\u001b[1;36m46\u001b[0m\u001b[1;33m,\u001b[0m\u001b[1;36m35\u001b[0m\u001b[1;33m,\u001b[0m\u001b[1;36m52\u001b[0m\u001b[1;33m,\u001b[0m\u001b[1;36m52\u001b[0m\u001b[1;33m]\u001b[0m\u001b[1;33m)\u001b[0m\u001b[1;33m,\u001b[0m\u001b[1;33m\u001b[0m\u001b[0m\n\u001b[0;32m     11\u001b[0m         'lat_max': (['locs'], [46,51,40,57,57])}\n\u001b[1;32m---> 12\u001b[1;33m \u001b[0mboxes\u001b[0m \u001b[1;33m=\u001b[0m \u001b[0mxr\u001b[0m\u001b[1;33m.\u001b[0m\u001b[0mDataArray\u001b[0m\u001b[1;33m(\u001b[0m\u001b[0mdata\u001b[0m\u001b[1;33m,\u001b[0m \u001b[0mcoords\u001b[0m\u001b[1;33m=\u001b[0m\u001b[1;33m[\u001b[0m\u001b[0mlocs\u001b[0m\u001b[1;33m]\u001b[0m\u001b[1;33m,\u001b[0m \u001b[0mdims\u001b[0m\u001b[1;33m=\u001b[0m\u001b[1;33m[\u001b[0m\u001b[1;34m'space'\u001b[0m\u001b[1;33m]\u001b[0m\u001b[1;33m)\u001b[0m\u001b[1;33m\u001b[0m\u001b[0m\n\u001b[0m\u001b[0;32m     13\u001b[0m \u001b[0mboxes_lon_min_180\u001b[0m \u001b[1;33m=\u001b[0m \u001b[0mboxes_lon_min\u001b[0m\u001b[1;33m[\u001b[0m\u001b[1;33m:\u001b[0m\u001b[1;33m]\u001b[0m\u001b[1;33m\u001b[0m\u001b[0m\n\u001b[0;32m     14\u001b[0m \u001b[0mboxes_lon_max_180\u001b[0m \u001b[1;33m=\u001b[0m \u001b[0mboxes_lon_max\u001b[0m\u001b[1;33m[\u001b[0m\u001b[1;33m:\u001b[0m\u001b[1;33m]\u001b[0m\u001b[1;33m\u001b[0m\u001b[0m\n",
      "\u001b[1;32m~\\Miniconda3\\lib\\site-packages\\xarray\\core\\dataarray.py\u001b[0m in \u001b[0;36m__init__\u001b[1;34m(self, data, coords, dims, name, attrs, encoding, fastpath)\u001b[0m\n\u001b[0;32m    226\u001b[0m \u001b[1;33m\u001b[0m\u001b[0m\n\u001b[0;32m    227\u001b[0m             \u001b[0mdata\u001b[0m \u001b[1;33m=\u001b[0m \u001b[0mas_compatible_data\u001b[0m\u001b[1;33m(\u001b[0m\u001b[0mdata\u001b[0m\u001b[1;33m)\u001b[0m\u001b[1;33m\u001b[0m\u001b[0m\n\u001b[1;32m--> 228\u001b[1;33m             \u001b[0mcoords\u001b[0m\u001b[1;33m,\u001b[0m \u001b[0mdims\u001b[0m \u001b[1;33m=\u001b[0m \u001b[0m_infer_coords_and_dims\u001b[0m\u001b[1;33m(\u001b[0m\u001b[0mdata\u001b[0m\u001b[1;33m.\u001b[0m\u001b[0mshape\u001b[0m\u001b[1;33m,\u001b[0m \u001b[0mcoords\u001b[0m\u001b[1;33m,\u001b[0m \u001b[0mdims\u001b[0m\u001b[1;33m)\u001b[0m\u001b[1;33m\u001b[0m\u001b[0m\n\u001b[0m\u001b[0;32m    229\u001b[0m             \u001b[0mvariable\u001b[0m \u001b[1;33m=\u001b[0m \u001b[0mVariable\u001b[0m\u001b[1;33m(\u001b[0m\u001b[0mdims\u001b[0m\u001b[1;33m,\u001b[0m \u001b[0mdata\u001b[0m\u001b[1;33m,\u001b[0m \u001b[0mattrs\u001b[0m\u001b[1;33m,\u001b[0m \u001b[0mencoding\u001b[0m\u001b[1;33m,\u001b[0m \u001b[0mfastpath\u001b[0m\u001b[1;33m=\u001b[0m\u001b[1;32mTrue\u001b[0m\u001b[1;33m)\u001b[0m\u001b[1;33m\u001b[0m\u001b[0m\n\u001b[0;32m    230\u001b[0m \u001b[1;33m\u001b[0m\u001b[0m\n",
      "\u001b[1;32m~\\Miniconda3\\lib\\site-packages\\xarray\\core\\dataarray.py\u001b[0m in \u001b[0;36m_infer_coords_and_dims\u001b[1;34m(shape, coords, dims)\u001b[0m\n\u001b[0;32m     34\u001b[0m         raise ValueError('coords is not dict-like, but it has %s items, '\n\u001b[0;32m     35\u001b[0m                          \u001b[1;34m'which does not match the %s dimensions of the '\u001b[0m\u001b[1;33m\u001b[0m\u001b[0m\n\u001b[1;32m---> 36\u001b[1;33m                          'data' % (len(coords), len(shape)))\n\u001b[0m\u001b[0;32m     37\u001b[0m \u001b[1;33m\u001b[0m\u001b[0m\n\u001b[0;32m     38\u001b[0m     \u001b[1;32mif\u001b[0m \u001b[0misinstance\u001b[0m\u001b[1;33m(\u001b[0m\u001b[0mdims\u001b[0m\u001b[1;33m,\u001b[0m \u001b[0mbasestring\u001b[0m\u001b[1;33m)\u001b[0m\u001b[1;33m:\u001b[0m\u001b[1;33m\u001b[0m\u001b[0m\n",
      "\u001b[1;31mValueError\u001b[0m: coords is not dict-like, but it has 1 items, which does not match the 0 dimensions of the data"
     ]
    }
   ],
   "source": [
    "data = np.random.rand(5)\n",
    "locs = ['NPC','NPC_biforcation','CalCur','Alaska1','Alaska2']\n",
    "foo = xr.DataArray(data, coords=[locs], dims=['space'])\n",
    "test = xr.Dataset({'bar': foo})\n",
    "print(test)\n",
    "\n",
    "locs = ['NPC','NPC_biforcation','CalCur','Alaska1','Alaska2']\n",
    "data = {'lon_min': (['locs'],  [-160,-130,-125,-130,-148]),\n",
    "        'lon_max': (['locs'], [-170,-140,-135,-140,-158]),\n",
    "        'lat_min': (['locs'],  [41,46,35,52,52]),\n",
    "        'lat_max': (['locs'], [46,51,40,57,57])}\n",
    "boxes = xr.DataArray(data, coords=[locs], dims=['space'])\n",
    "boxes_lon_min_180 = boxes_lon_min[:]\n",
    "boxes_lon_max_180 = boxes_lon_max[:]\n",
    "for i in range(0,5):\n",
    "    boxes_lon_min[i] += 360\n",
    "    boxes_lon_max[i] += 360\n"
   ]
  },
  {
   "cell_type": "code",
   "execution_count": 28,
   "metadata": {},
   "outputs": [
    {
     "ename": "AttributeError",
     "evalue": "'tuple' object has no attribute 'dims'",
     "output_type": "error",
     "traceback": [
      "\u001b[1;31m---------------------------------------------------------------------------\u001b[0m",
      "\u001b[1;31mAttributeError\u001b[0m                            Traceback (most recent call last)",
      "\u001b[1;32m<ipython-input-28-9ca42ba28e64>\u001b[0m in \u001b[0;36m<module>\u001b[1;34m\u001b[0m\n\u001b[1;32m----> 1\u001b[1;33m \u001b[0mdata\u001b[0m\u001b[1;33m[\u001b[0m\u001b[1;34m'lon_min'\u001b[0m\u001b[1;33m]\u001b[0m\u001b[1;33m.\u001b[0m\u001b[0mdims\u001b[0m\u001b[1;33m\u001b[0m\u001b[0m\n\u001b[0m",
      "\u001b[1;31mAttributeError\u001b[0m: 'tuple' object has no attribute 'dims'"
     ]
    }
   ],
   "source": [
    "data['lon_min'].dims"
   ]
  },
  {
   "cell_type": "code",
   "execution_count": null,
   "metadata": {},
   "outputs": [],
   "source": []
  },
  {
   "cell_type": "code",
   "execution_count": 14,
   "metadata": {},
   "outputs": [
    {
     "name": "stderr",
     "output_type": "stream",
     "text": [
      "C:\\Users\\gentemann\\Miniconda3\\lib\\site-packages\\xarray\\core\\nanops.py:161: RuntimeWarning: Mean of empty slice\n",
      "  return np.nanmean(a, axis=axis, dtype=dtype)\n",
      "C:\\Users\\gentemann\\Miniconda3\\lib\\site-packages\\xarray\\core\\nanops.py:161: RuntimeWarning: Mean of empty slice\n",
      "  return np.nanmean(a, axis=axis, dtype=dtype)\n"
     ]
    },
    {
     "ename": "NameError",
     "evalue": "name 'filename_oscar_out' is not defined",
     "output_type": "error",
     "traceback": [
      "\u001b[1;31m---------------------------------------------------------------------------\u001b[0m",
      "\u001b[1;31mNameError\u001b[0m                                 Traceback (most recent call last)",
      "\u001b[1;32m<ipython-input-14-3f5fe6a8d28f>\u001b[0m in \u001b[0;36m<module>\u001b[1;34m\u001b[0m\n\u001b[0;32m     29\u001b[0m         \u001b[0mds_newbox\u001b[0m \u001b[1;33m=\u001b[0m \u001b[0mxr\u001b[0m\u001b[1;33m.\u001b[0m\u001b[0mconcat\u001b[0m\u001b[1;33m(\u001b[0m\u001b[1;33m[\u001b[0m\u001b[0mds_newbox\u001b[0m\u001b[1;33m,\u001b[0m\u001b[0mds_box\u001b[0m\u001b[1;33m]\u001b[0m\u001b[1;33m,\u001b[0m\u001b[0mdim\u001b[0m\u001b[1;33m=\u001b[0m\u001b[1;34m'box'\u001b[0m\u001b[1;33m)\u001b[0m\u001b[1;33m\u001b[0m\u001b[0m\n\u001b[0;32m     30\u001b[0m         \u001b[1;31m#print(ds_newbox.box)\u001b[0m\u001b[1;33m\u001b[0m\u001b[1;33m\u001b[0m\u001b[0m\n\u001b[1;32m---> 31\u001b[1;33m \u001b[0mds_newbox\u001b[0m\u001b[1;33m.\u001b[0m\u001b[0mto_netcdf\u001b[0m\u001b[1;33m(\u001b[0m\u001b[0mfilename_oscar_out\u001b[0m\u001b[1;33m)\u001b[0m\u001b[1;33m\u001b[0m\u001b[0m\n\u001b[0m\u001b[0;32m     32\u001b[0m \u001b[1;33m\u001b[0m\u001b[0m\n\u001b[0;32m     33\u001b[0m \u001b[0mds_clim\u001b[0m\u001b[1;33m.\u001b[0m\u001b[0mclose\u001b[0m\u001b[1;33m(\u001b[0m\u001b[1;33m)\u001b[0m\u001b[1;33m\u001b[0m\u001b[0m\n",
      "\u001b[1;31mNameError\u001b[0m: name 'filename_oscar_out' is not defined"
     ]
    }
   ],
   "source": [
    "#make oscar timeseries\n",
    "#for ibox in range(0,2): #5):\n",
    "dtype = 'oscar'\n",
    "filename = get_climatology(dtype)\n",
    "ds_clim = xr.open_dataset(filename)\n",
    "\n",
    "inc=-1\n",
    "for box in boxes_names:\n",
    "    inc+=1 \n",
    "    for lyr in range(2000,2018):\n",
    "        filename = get_data(dtype,lyr)\n",
    "        ds=xr.open_dataset(filename)\n",
    "        ds_subset = ds.sel(longitude=slice(boxes_lon_max[inc],boxes_lon_min[inc]),latitude=slice(boxes_lat_max[inc],boxes_lat_min[inc])) \n",
    "        ds.close()       \n",
    "#        ds_subset['tot_vel']=(ds_subset.u**2+ds_subset.v**2)**.5       \n",
    "#        ds_subset['tot_vel_var']=ds_subset.tot_vel**2      \n",
    "#        ds_subset['u_sq']=ds_subset.u**2       \n",
    "#        ds_subset['v_sq']=ds_subset.v**2      \n",
    "#        ds_mean = ds_subset.groupby('time.month').mean('latitude').mean('longitude').resample(time='1MS').mean()    \n",
    "        ds_mean = ds_subset.mean('latitude').mean('longitude')   \n",
    "        if lyr==2000:\n",
    "            ds_box = ds_mean\n",
    "        else:\n",
    "            ds_box = xr.concat([ds_box,ds_mean],dim='time')\n",
    "        #print(box)\n",
    "    if box=='NPC':\n",
    "        ds_newbox = ds_box\n",
    "    else:\n",
    "        ds_newbox = xr.concat([ds_newbox,ds_box],dim='box')\n",
    "        #print(ds_newbox.box)\n",
    "ds_newbox.to_netcdf(filename_oscar_out)\n",
    "\n",
    "ds_clim.close()"
   ]
  },
  {
   "cell_type": "code",
   "execution_count": null,
   "metadata": {},
   "outputs": [],
   "source": [
    "filename_oscar_out = 'F:/data/eddy/bifurcation_ms/oscar_boxes_timeseries.nc'\n",
    "ds_oscar = xr.open_dataset(filename_oscar_out)\n",
    "ds_oscar.close()\n",
    "filename_TS_out = 'F:/data/eddy/bifurcation_ms/cmc_sst_boxes_timeseries.nc'\n",
    "ds_cmc = xr.open_dataset(filename_TS_out)\n",
    "ds_cmc.close()"
   ]
  },
  {
   "cell_type": "code",
   "execution_count": null,
   "metadata": {},
   "outputs": [],
   "source": [
    "ds_cmc.analysed_sst"
   ]
  },
  {
   "cell_type": "code",
   "execution_count": null,
   "metadata": {},
   "outputs": [],
   "source": [
    "min(ds_cmc.time[:])"
   ]
  },
  {
   "cell_type": "code",
   "execution_count": null,
   "metadata": {},
   "outputs": [],
   "source": [
    "import matplotlib.pyplot as plt\n",
    "#        fig,ax = plt.subplots(1)\n",
    "plt.figure(figsize=(6, 8))\n",
    "for i in range(0,5):\n",
    "    plt.subplot(5, 1, i+1)\n",
    "    plt.plot(ds_oscar.time[:],ds_oscar.tot_vel[i,:,0])\n",
    "    #plt.text(2012,0.1,str(boxes_names[i]), fontsize=12)\n",
    "    plt.ylim([0.03,0.15])\n",
    "#    if i<4:\n",
    "#        plt.set_xticklabels([])\n",
    "    if i==4:\n",
    "        plt.xlabel('Date')\n",
    "    if i==2:\n",
    "        plt.ylabel('Total Current (cm s$^{-1}$)')\n",
    "    #plt.plot(ds_cmc.time[:],ds_cmc.analysed_sst[i,:]-273.15,'r')\n",
    "fig_fname=dir_figs+\"boxes_oscar.png\"\n",
    "#fig_fname=dir_figs+\"boxes_sst.png\"\n",
    "plt.savefig(fig_fname, transparent=False, format='png')\n",
    "plt.show()\n",
    "print(fig_fname)"
   ]
  },
  {
   "cell_type": "code",
   "execution_count": null,
   "metadata": {},
   "outputs": [],
   "source": [
    "#filename_oscar_clim = dir_clim + 'oscar_v2009_1993_2016_climatology_12202118.nc'\n",
    "filename_TS_out = 'F:/data/eddy/bifurcation_ms/cmc_sst_boxes_timeseries.nc'\n",
    "#make cmc timeseries\n",
    "#for ibox in range(0,2): #5):\n",
    "inc=-1\n",
    "for box in boxes_names:\n",
    "    inc+=1 \n",
    "    for lyr in range(2000,2017):\n",
    "        syr=str(lyr).zfill(4)\n",
    "        fname_tem='monthly_average_' + syr + '120000-CMC-L4_GHRSST-SSTfnd-CMC0.2deg-GLOB-v02.0-fv02.0.nc'\n",
    "        cmc_filename_out = dir_cmc + syr + fname_tem\n",
    "        ds=xr.open_dataset(cmc_filename_out)\n",
    "        ds_subset = ds.sel(lon=slice(boxes_lon_max_180[inc],boxes_lon_min_180[inc]),lat=slice(boxes_lat_min[inc],boxes_lat_max[inc])) \n",
    "        ds.close()\n",
    " #       ds_mean = ds_subset #ds_subset.groupby('time.month').mean('latitude').mean('longitude').resample(time='1MS').mean()    \n",
    "        ds_mean = ds_subset.mean('lat').mean('lon')\n",
    "        if lyr==2000:\n",
    "            ds_box = ds_mean\n",
    "        else:\n",
    "            ds_box = xr.concat([ds_box,ds_mean],dim='time')\n",
    "        #print(box)\n",
    "    if box=='NPC':\n",
    "        ds_newbox = ds_box\n",
    "    else:\n",
    "        ds_newbox = xr.concat([ds_newbox,ds_box],dim='box')\n",
    "        #print(ds_newbox.box)\n",
    "ds_newbox.to_netcdf(filename_TS_out)"
   ]
  },
  {
   "cell_type": "code",
   "execution_count": null,
   "metadata": {},
   "outputs": [],
   "source": [
    "#ds\n",
    "#ds_subset.analysed_sst[0,:]\n",
    "#boxes_lon_max_180\n",
    "ds_cmc = xr.open_dataset(filename_TS_out)\n",
    "ds_cmc.analysed_sst"
   ]
  },
  {
   "cell_type": "code",
   "execution_count": null,
   "metadata": {},
   "outputs": [],
   "source": []
  },
  {
   "cell_type": "code",
   "execution_count": null,
   "metadata": {},
   "outputs": [],
   "source": []
  },
  {
   "cell_type": "code",
   "execution_count": null,
   "metadata": {},
   "outputs": [],
   "source": [
    "\n",
    "\n"
   ]
  },
  {
   "cell_type": "code",
   "execution_count": null,
   "metadata": {},
   "outputs": [],
   "source": []
  },
  {
   "cell_type": "code",
   "execution_count": null,
   "metadata": {},
   "outputs": [],
   "source": []
  },
  {
   "cell_type": "code",
   "execution_count": null,
   "metadata": {},
   "outputs": [],
   "source": []
  }
 ],
 "metadata": {
  "kernelspec": {
   "display_name": "Python 3",
   "language": "python",
   "name": "python3"
  },
  "language_info": {
   "codemirror_mode": {
    "name": "ipython",
    "version": 3
   },
   "file_extension": ".py",
   "mimetype": "text/x-python",
   "name": "python",
   "nbconvert_exporter": "python",
   "pygments_lexer": "ipython3",
   "version": "3.7.0"
  }
 },
 "nbformat": 4,
 "nbformat_minor": 2
}
