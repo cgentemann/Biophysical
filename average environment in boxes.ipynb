{
 "cells": [
  {
   "cell_type": "code",
   "execution_count": 19,
   "metadata": {},
   "outputs": [],
   "source": [
    "#take boxes determined by marisol from kathleens biforcation data and calculate average environmental information for them\n",
    "#want to calculate average SST, SSS, u^2+v^2, and var(u^2+v^2)\n",
    "import xarray as xr\n",
    "#import pandas as pd\n",
    "#import matplotlib as mpl\n",
    "#import openpyxl\n",
    "#from mpl_toolkits.basemap import Basemap\n",
    "#import matplotlib.pyplot as plt\n",
    "import numpy as np\n",
    "#from math import cos, radians\n",
    "import datetime as dt\n",
    "import os\n",
    "from os.path import exists\n",
    "\n",
    "\n",
    "dir_cmc='F:/data/sst/cmc/CMC0.2deg/v2/'\n",
    "dir_cmc_clim='F:/data/sst/cmc/CMC0.2deg/v2/climatology/'\n",
    "dir_clim='F:/data/sat_data/oscar/L4/oscar_third_deg/climatology/'\n",
    "dir_data = 'https://podaac-opendap.jpl.nasa.gov/opendap/allData/oscar/preview/L4/oscar_third_deg/'\n",
    "dir_figs = 'F:/data/eddy/figures/'\n",
    "dir_timeseries = 'F:/data/eddy/timeseries_data/'\n",
    "\n",
    "boxes_names = ['NPC','NPC_biforcation','CalCur','Alaska1','Alaska2']\n",
    "boxes_lon_min = [-160,-130,-125,-130,-148]\n",
    "boxes_lon_max = [-170,-140,-135,-140,-158]\n",
    "boxes_lat_min = [41,46,35,52,52]\n",
    "boxes_lat_max = [46,51,40,57,57]\n",
    "boxes_lon_min_180 = boxes_lon_min[:]\n",
    "boxes_lon_max_180 = boxes_lon_max[:]\n",
    "for i in range(0,5):\n",
    "    boxes_lon_min[i] += 360\n",
    "    boxes_lon_max[i] += 360\n",
    "\n",
    "#trying to get into xarray properly\n",
    "location_values = ['NPC','NPC_biforcation','CalCur','Alaska1','Alaska2']\n",
    "data = [-160,-130,-125,-130,-148]\n",
    "lon1 = xr.DataArray(data, coords=[location_values], dims=['location'])\n",
    "data = [-170,-140,-135,-140,-158]\n",
    "lon2 = xr.DataArray(data, coords=[location_values], dims=['location'])\n",
    "data = [41,46,35,52,52]\n",
    "lat1 = xr.DataArray(data, coords=[location_values], dims=['location'])\n",
    "data = [46,51,40,57,57]\n",
    "lat2 = xr.DataArray(data, coords=[location_values], dims=['location'])\n",
    "boxes = xr.Dataset({'lon_min':lon1,'lon_max':lon2,'lat_min':lat1,'lat_max':lat2})\n",
    "#boxes2 = xr.Dataset({'lon_min': (('location'), lon1),\n",
    "#                 'lon_max': (('location'), lon2)},\n",
    "#                { 'location': location_values})\n",
    "\n",
    "\n",
    "def get_climatology(data_type):\n",
    "    if data_type=='oscar':\n",
    "        filename = 'F:/data/sat_data/oscar/L4/oscar_third_deg/climatology_1993_2018_monthly_data_oscar.nc'        \n",
    "    if data_type=='sss':\n",
    "        filename = 'F:/data/model_data/CMEM/global-reanalysis-phy-001-030-monthly/clim/climatology_monthly_1993_2016_mercatorglorys12v1_gl12_mean.nc'\n",
    "    if data_type=='sst':\n",
    "        filename = 'F:/data/sst/cmc/CMC0.2deg/v2/monthly/monthly_climatology_1992_2017_120000-CMC-L4_GHRSST-SSTfnd-CMC0.2deg-GLOB-v02.0-fv02.0.nc'\n",
    "    if data_type == 'ccmp':\n",
    "        filename = 'F:/data/sat_data/ccmp/v02.0/monthly_climatology_ccmp_V02.0_L3.5_RSS.nc'\n",
    "    return filename\n",
    "\n",
    "def get_data(data_type,lyr):\n",
    "    if data_type == 'oscar':\n",
    "        dir_data = 'F:/data/sat_data/oscar/L4/oscar_third_deg/'\n",
    "        filename = dir_data + str(lyr) + 'monthly_data_oscar.nc'\n",
    "    if data_type=='sss':\n",
    "        dir_data='F:/data/model_data/CMEM/global-reanalysis-phy-001-030-monthly/'\n",
    "        fname_tem=str(lyr) + '/'+ 'year_subset_mercatorglorys12v1_gl12_mean_' + str(lyr) + '.nc'\n",
    "        filename = dir_data + fname_tem\n",
    "    if data_type=='sst':\n",
    "        dir_data = 'F:/data/sst/cmc/CMC0.2deg/v2/monthly/' \n",
    "        filename = dir_data + str(lyr) + 'monthly_average_' + str(lyr) + '120000-CMC-L4_GHRSST-SSTfnd-CMC0.2deg-GLOB-v02.0-fv02.0.nc'\n",
    "    if data_type == 'ccmp':\n",
    "        dir_data='F:/data/sat_data/ccmp/v02.0/'\n",
    "        filename = dir_data + str(lyr) + 'monthly_average_ccmp_V02.0_L3.5_RSS.nc'\n",
    "    return filename\n"
   ]
  },
  {
   "cell_type": "code",
   "execution_count": null,
   "metadata": {
    "scrolled": true
   },
   "outputs": [],
   "source": []
  },
  {
   "cell_type": "code",
   "execution_count": null,
   "metadata": {},
   "outputs": [],
   "source": []
  },
  {
   "cell_type": "code",
   "execution_count": 20,
   "metadata": {},
   "outputs": [
    {
     "name": "stdout",
     "output_type": "stream",
     "text": [
      "F:/data/sat_data/ccmp/v02.0/monthly_climatology_ccmp_V02.0_L3.5_RSS.nc\n",
      "<xarray.Dataset>\n",
      "Dimensions:  (lat: 628, lon: 1440, month: 12)\n",
      "Coordinates:\n",
      "  * lon      (lon) float32 0.125 0.375 0.625 0.875 ... 359.375 359.625 359.875\n",
      "  * lat      (lat) float32 -78.375 -78.125 -77.875 ... 77.875 78.125 78.375\n",
      "  * month    (month) int64 1 2 3 4 5 6 7 8 9 10 11 12\n",
      "Data variables:\n",
      "    uwnd     (month, lat, lon) float32 ...\n",
      "    vwnd     (month, lat, lon) float32 ...\n",
      "<xarray.Dataset>\n",
      "Dimensions:  (lat: 20, lon: 40, month: 12)\n",
      "Coordinates:\n",
      "  * lon      (lon) float32 190.125 190.375 190.625 ... 199.375 199.625 199.875\n",
      "  * lat      (lat) float32 41.125 41.375 41.625 41.875 ... 45.375 45.625 45.875\n",
      "  * month    (month) int64 1 2 3 4 5 6 7 8 9 10 11 12\n",
      "Data variables:\n",
      "    uwnd     (month, lat, lon) float32 ...\n",
      "    vwnd     (month, lat, lon) float32 ...\n"
     ]
    }
   ],
   "source": [
    "i=0\n",
    "lyr=2015\n",
    "dtype='ccmp'\n",
    "#dtype='oscar'\n",
    "#dtype='sst'\n",
    "#dtype='sss'\n",
    "filename = get_climatology(dtype)\n",
    "print(filename)\n",
    "ds=xr.open_dataset(filename)\n",
    "print(ds)\n",
    "if dtype=='ccmp':\n",
    "    ds_subset = ds.sel(lon=slice(boxes.lon_max[i]+360,boxes.lon_min[i]+360),lat=slice(boxes.lat_min[i],boxes.lat_max[i])) \n",
    "elif dtype=='oscar':\n",
    "    ds_subset = ds.sel(lon=slice(boxes.lon_max[i]+360,boxes.lon_min[i]+360),lat=slice(boxes.lat_max[i],boxes.lat_min[i])) \n",
    "else:\n",
    "    ds_subset = ds.sel(lon=slice(boxes.lon_max[i],boxes.lon_min[i]),lat=slice(boxes.lat_min[i],boxes.lat_max[i])) \n",
    "ds.close()       \n",
    "print(ds_subset)\n"
   ]
  },
  {
   "cell_type": "code",
   "execution_count": 21,
   "metadata": {},
   "outputs": [
    {
     "name": "stdout",
     "output_type": "stream",
     "text": [
      "<xarray.Dataset>\n",
      "Dimensions:  (depth: 1, lat: 481, lon: 1201, month: 12)\n",
      "Coordinates:\n",
      "  * depth    (depth) float32 15.0\n",
      "  * lat      (lat) float64 80.0 79.67 79.33 79.0 ... -79.0 -79.33 -79.67 -80.0\n",
      "  * lon      (lon) float64 20.0 20.33 20.67 21.0 ... 419.0 419.3 419.7 420.0\n",
      "  * month    (month) int64 1 2 3 4 5 6 7 8 9 10 11 12\n",
      "Data variables:\n",
      "    u        (month, depth, lat, lon) float64 ...\n",
      "    v        (month, depth, lat, lon) float64 ...\n"
     ]
    },
    {
     "data": {
      "text/plain": [
       "<xarray.Dataset>\n",
       "Dimensions:  (depth: 1, month: 12)\n",
       "Coordinates:\n",
       "  * depth    (depth) float32 15.0\n",
       "  * month    (month) int64 1 2 3 4 5 6 7 8 9 10 11 12\n",
       "Data variables:\n",
       "    u        (month, depth) float64 0.03773 0.04143 0.03425 ... 0.03791 0.04664\n",
       "    v        (month, depth) float64 -0.006465 -0.01019 ... -0.013 -0.01704"
      ]
     },
     "execution_count": 21,
     "metadata": {},
     "output_type": "execute_result"
    }
   ],
   "source": [
    "dtype = 'oscar'\n",
    "filename = get_climatology(dtype)\n",
    "ds = xr.open_dataset(filename)\n",
    "print(ds)\n",
    "if dtype=='ccmp':\n",
    "    ds_subset = ds.sel(lon=slice(boxes.lon_max[i]+360,boxes.lon_min[i]+360),lat=slice(boxes.lat_min[i],boxes.lat_max[i])) \n",
    "elif dtype=='oscar':\n",
    "    ds_subset = ds.sel(lon=slice(boxes.lon_max[i]+360,boxes.lon_min[i]+360),lat=slice(boxes.lat_max[i],boxes.lat_min[i])) \n",
    "else:\n",
    "    ds_subset = ds.sel(lon=slice(boxes.lon_max[i],boxes.lon_min[i]),lat=slice(boxes.lat_min[i],boxes.lat_max[i])) \n",
    "ds.close()       \n",
    "ds_mean_clim = ds_subset.mean('lat').mean('lon')   \n",
    "ds_mean_clim"
   ]
  },
  {
   "cell_type": "code",
   "execution_count": null,
   "metadata": {},
   "outputs": [],
   "source": [
    "ds.lon[0:10]"
   ]
  },
  {
   "cell_type": "code",
   "execution_count": null,
   "metadata": {},
   "outputs": [],
   "source": []
  },
  {
   "cell_type": "code",
   "execution_count": 55,
   "metadata": {},
   "outputs": [
    {
     "name": "stdout",
     "output_type": "stream",
     "text": [
      "out!\n"
     ]
    }
   ],
   "source": [
    "#make oscar timeseries\n",
    "#for ibox in range(0,2): #5):\n",
    "#dtype='ccmp'\n",
    "#dtype='oscar'\n",
    "#dtype='sst'\n",
    "dtype='sss'\n",
    "\n",
    "for i in range(0,5):\n",
    "    for lyr in range(2000,2018):\n",
    "        filename = get_data(dtype,lyr)\n",
    "        if os.path.exists(filename):      \n",
    "            ds=xr.open_dataset(filename)\n",
    "            if dtype=='ccmp':\n",
    "                ds_subset = ds.sel(lon=slice(boxes.lon_max[i]+360,boxes.lon_min[i]+360),lat=slice(boxes.lat_min[i],boxes.lat_max[i])) \n",
    "            elif dtype=='oscar':\n",
    "                ds = ds.drop('year')\n",
    "                ds_subset = ds.sel(lon=slice(boxes.lon_max[i]+360,boxes.lon_min[i]+360),lat=slice(boxes.lat_max[i],boxes.lat_min[i])) \n",
    "            else:\n",
    "                ds_subset = ds.sel(lon=slice(boxes.lon_max[i],boxes.lon_min[i]),lat=slice(boxes.lat_min[i],boxes.lat_max[i])) \n",
    "            ds.close()       \n",
    "            ds_mean = ds_subset.mean('lat').mean('lon')   \n",
    "#get climatology\n",
    "            filename = get_climatology(dtype)\n",
    "            ds = xr.open_dataset(filename)\n",
    "            if dtype=='ccmp':\n",
    "                ds_subset = ds.sel(lon=slice(boxes.lon_max[i]+360,boxes.lon_min[i]+360),lat=slice(boxes.lat_min[i],boxes.lat_max[i])) \n",
    "            elif dtype=='oscar':\n",
    "                ds_subset = ds.sel(lon=slice(boxes.lon_max[i]+360,boxes.lon_min[i]+360),lat=slice(boxes.lat_max[i],boxes.lat_min[i])) \n",
    "            else:\n",
    "                ds_subset = ds.sel(lon=slice(boxes.lon_max[i],boxes.lon_min[i]),lat=slice(boxes.lat_min[i],boxes.lat_max[i])) \n",
    "            ds.close()       \n",
    "            ds_mean_clim = ds_subset.mean('lat').mean('lon')   \n",
    "            \n",
    "            ds_diff = ds_mean.groupby('time.month') - ds_mean_clim\n",
    "            if lyr==2000:\n",
    "                ds_box = ds_mean\n",
    "                ds_box_clim = ds_diff\n",
    "            else:\n",
    "                ds_box = xr.concat([ds_box,ds_mean],dim='time')\n",
    "                ds_box_clim = xr.concat([ds_box_clim,ds_diff],dim='time')\n",
    "        #print(box)\n",
    "    if i==0:\n",
    "        ds_newbox = ds_box\n",
    "        ds_newbox_clim = ds_box_clim\n",
    "    else:\n",
    "        ds_newbox = xr.concat([ds_newbox,ds_box],dim='box')\n",
    "        ds_newbox_clim = xr.concat([ds_newbox_clim,ds_box_clim],dim='box')\n",
    "        #print(ds_newbox.box)\n",
    "filename_out = dir_timeseries + dtype + 'data.nc'\n",
    "ds_newbox.to_netcdf(filename_out)\n",
    "filename_out_clim = dir_timeseries + dtype + 'data_minus_clim.nc'\n",
    "ds_newbox_clim.to_netcdf(filename_out_clim)\n",
    "print('out!')\n",
    "#        ds_subset['tot_vel']=(ds_subset.u**2+ds_subset.v**2)**.5       \n",
    "#        ds_subset['tot_vel_var']=ds_subset.tot_vel**2      \n",
    "#        ds_subset['u_sq']=ds_subset.u**2       \n",
    "#        ds_subset['v_sq']=ds_subset.v**2      \n",
    "#        ds_mean = ds_subset.groupby('time.month').mean('latitude').mean('longitude').resample(time='1MS').mean()    \n"
   ]
  },
  {
   "cell_type": "code",
   "execution_count": 45,
   "metadata": {},
   "outputs": [
    {
     "data": {
      "text/plain": [
       "[<matplotlib.lines.Line2D at 0xd287be0>]"
      ]
     },
     "execution_count": 45,
     "metadata": {},
     "output_type": "execute_result"
    },
    {
     "data": {
      "image/png": "[encoded data removed]",
      "text/plain": [
       "<Figure size 432x288 with 1 Axes>"
      ]
     },
     "metadata": {
      "needs_background": "light"
     },
     "output_type": "display_data"
    }
   ],
   "source": [
    "#ds_mean.so.plot()\n",
    "#ds_diff = ds_mean.groupby('time.month') - ds_mean_clim\n",
    "#ds_diff.so.plot()\n",
    "#ds_mean_clim.so.plot()"
   ]
  },
  {
   "cell_type": "code",
   "execution_count": 9,
   "metadata": {},
   "outputs": [
    {
     "name": "stdout",
     "output_type": "stream",
     "text": [
      "<xarray.Dataset>\n",
      "Dimensions:  (month: 12)\n",
      "Coordinates:\n",
      "    depth    float32 ...\n",
      "  * month    (month) int64 1 2 3 4 5 6 7 8 9 10 11 12\n",
      "Data variables:\n",
      "    so       (month) float64 33.2 33.25 33.27 33.28 ... 33.09 33.1 33.11 33.12\n"
     ]
    },
    {
     "name": "stderr",
     "output_type": "stream",
     "text": [
      "C:\\Users\\gentemann\\Miniconda3\\lib\\site-packages\\xarray\\core\\nanops.py:161: RuntimeWarning: Mean of empty slice\n",
      "  return np.nanmean(a, axis=axis, dtype=dtype)\n"
     ]
    }
   ],
   "source": [
    "#print(ds_diff)\n",
    "#print(ds_mean)\n",
    "print(ds_mean_clim)\n",
    "\n",
    "toy_weather_climatology = ds.groupby('time.month').mean('time')\n",
    "\n",
    "toy_weather_anomalies = ds.groupby('time.month') - toy_weather_climatology\n"
   ]
  },
  {
   "cell_type": "code",
   "execution_count": 10,
   "metadata": {},
   "outputs": [
    {
     "name": "stdout",
     "output_type": "stream",
     "text": [
      "<xarray.Dataset>\n",
      "Dimensions:  (lat: 901, lon: 1800, month: 12)\n",
      "Coordinates:\n",
      "    depth    float32 0.494025\n",
      "  * lat      (lat) float64 -90.0 -89.8 -89.6 -89.4 -89.2 ... 89.4 89.6 89.8 90.0\n",
      "  * lon      (lon) float64 -180.0 -179.8 -179.6 -179.4 ... 179.4 179.6 179.8\n",
      "  * month    (month) int64 1 2 3 4 5 6 7 8 9 10 11 12\n",
      "Data variables:\n",
      "    mlotst   (month, lat, lon) float64 nan nan nan nan nan ... nan nan nan nan\n",
      "    zos      (month, lat, lon) float64 nan nan nan nan nan ... nan nan nan nan\n",
      "    bottomT  (month, lat, lon) float64 nan nan nan nan nan ... nan nan nan nan\n",
      "    sithick  (month, lat, lon) float64 nan nan nan nan nan ... nan nan nan nan\n",
      "    siconc   (month, lat, lon) float64 nan nan nan nan nan ... nan nan nan nan\n",
      "    usi      (month, lat, lon) float64 nan nan nan nan nan ... nan nan nan nan\n",
      "    vsi      (month, lat, lon) float64 nan nan nan nan nan ... nan nan nan nan\n",
      "    thetao   (month, lat, lon) float64 nan nan nan nan nan ... nan nan nan nan\n",
      "    so       (month, lat, lon) float64 nan nan nan nan nan ... nan nan nan nan\n",
      "    uo       (month, lat, lon) float64 nan nan nan nan nan ... nan nan nan nan\n",
      "    vo       (month, lat, lon) float64 nan nan nan nan nan ... nan nan nan nan\n",
      "<xarray.Dataset>\n",
      "Dimensions:  (lat: 901, lon: 1800, time: 12)\n",
      "Coordinates:\n",
      "    depth    float32 0.494025\n",
      "  * lat      (lat) float64 -90.0 -89.8 -89.6 -89.4 -89.2 ... 89.4 89.6 89.8 90.0\n",
      "  * lon      (lon) float64 -180.0 -179.8 -179.6 -179.4 ... 179.4 179.6 179.8\n",
      "  * time     (time) datetime64[ns] 2016-01-16T12:00:00 ... 2016-12-16T12:00:00\n",
      "    month    (time) int64 1 2 3 4 5 6 7 8 9 10 11 12\n",
      "Data variables:\n",
      "    mlotst   (time, lat, lon) float64 nan nan nan nan nan ... nan nan nan nan\n",
      "    zos      (time, lat, lon) float64 nan nan nan nan nan ... nan nan nan nan\n",
      "    bottomT  (time, lat, lon) float64 nan nan nan nan nan ... nan nan nan nan\n",
      "    sithick  (time, lat, lon) float64 nan nan nan nan nan ... nan nan nan nan\n",
      "    siconc   (time, lat, lon) float64 nan nan nan nan nan ... nan nan nan nan\n",
      "    usi      (time, lat, lon) float64 nan nan nan nan nan ... nan nan nan nan\n",
      "    vsi      (time, lat, lon) float64 nan nan nan nan nan ... nan nan nan nan\n",
      "    thetao   (time, lat, lon) float64 nan nan nan nan nan ... nan nan nan nan\n",
      "    so       (time, lat, lon) float64 nan nan nan nan nan ... nan nan nan nan\n",
      "    uo       (time, lat, lon) float64 nan nan nan nan nan ... nan nan nan nan\n",
      "    vo       (time, lat, lon) float64 nan nan nan nan nan ... nan nan nan nan\n"
     ]
    }
   ],
   "source": [
    "print(toy_weather_climatology)\n",
    "print(toy_weather_anomalies)"
   ]
  },
  {
   "cell_type": "code",
   "execution_count": null,
   "metadata": {},
   "outputs": [],
   "source": []
  },
  {
   "cell_type": "code",
   "execution_count": 52,
   "metadata": {},
   "outputs": [
    {
     "data": {
      "text/plain": [
       "[<matplotlib.lines.Line2D at 0xd32fcf8>]"
      ]
     },
     "execution_count": 52,
     "metadata": {},
     "output_type": "execute_result"
    },
    {
     "data": {
      "image/png": "[encoded data removed]",
      "text/plain": [
       "<Figure size 432x288 with 1 Axes>"
      ]
     },
     "metadata": {
      "needs_background": "light"
     },
     "output_type": "display_data"
    }
   ],
   "source": [
    "import matplotlib.pyplot as plt\n",
    "plt.plot(ds_newbox.time[:],ds_newbox.so[0,:]-33.2)\n",
    "plt.plot(ds_newbox.time[:],ds_newbox_clim.so[0,:])\n",
    "#plt.plot(ds_newbox.time[:],ds_newbox_clim.so[0,:,0])"
   ]
  },
  {
   "cell_type": "code",
   "execution_count": null,
   "metadata": {},
   "outputs": [],
   "source": []
  },
  {
   "cell_type": "code",
   "execution_count": null,
   "metadata": {},
   "outputs": [],
   "source": [
    "ds_newbox.time[0:15]"
   ]
  },
  {
   "cell_type": "code",
   "execution_count": null,
   "metadata": {},
   "outputs": [],
   "source": [
    "filename_oscar_out = 'F:/data/eddy/bifurcation_ms/oscar_boxes_timeseries.nc'\n",
    "ds_oscar = xr.open_dataset(filename_oscar_out)\n",
    "ds_oscar.close()\n",
    "filename_TS_out = 'F:/data/eddy/bifurcation_ms/cmc_sst_boxes_timeseries.nc'\n",
    "ds_cmc = xr.open_dataset(filename_TS_out)\n",
    "ds_cmc.close()"
   ]
  },
  {
   "cell_type": "code",
   "execution_count": null,
   "metadata": {},
   "outputs": [],
   "source": [
    "ds_cmc.analysed_sst"
   ]
  },
  {
   "cell_type": "code",
   "execution_count": null,
   "metadata": {},
   "outputs": [],
   "source": [
    "min(ds_cmc.time[:])"
   ]
  },
  {
   "cell_type": "code",
   "execution_count": null,
   "metadata": {},
   "outputs": [],
   "source": [
    "import matplotlib.pyplot as plt\n",
    "#        fig,ax = plt.subplots(1)\n",
    "plt.figure(figsize=(6, 8))\n",
    "for i in range(0,5):\n",
    "    plt.subplot(5, 1, i+1)\n",
    "    plt.plot(ds_oscar.time[:],ds_oscar.tot_vel[i,:,0])\n",
    "    #plt.text(2012,0.1,str(boxes_names[i]), fontsize=12)\n",
    "    plt.ylim([0.03,0.15])\n",
    "#    if i<4:\n",
    "#        plt.set_xticklabels([])\n",
    "    if i==4:\n",
    "        plt.xlabel('Date')\n",
    "    if i==2:\n",
    "        plt.ylabel('Total Current (cm s$^{-1}$)')\n",
    "    #plt.plot(ds_cmc.time[:],ds_cmc.analysed_sst[i,:]-273.15,'r')\n",
    "fig_fname=dir_figs+\"boxes_oscar.png\"\n",
    "#fig_fname=dir_figs+\"boxes_sst.png\"\n",
    "plt.savefig(fig_fname, transparent=False, format='png')\n",
    "plt.show()\n",
    "print(fig_fname)"
   ]
  },
  {
   "cell_type": "code",
   "execution_count": null,
   "metadata": {},
   "outputs": [],
   "source": [
    "#filename_oscar_clim = dir_clim + 'oscar_v2009_1993_2016_climatology_12202118.nc'\n",
    "filename_TS_out = 'F:/data/eddy/bifurcation_ms/cmc_sst_boxes_timeseries.nc'\n",
    "#make cmc timeseries\n",
    "#for ibox in range(0,2): #5):\n",
    "inc=-1\n",
    "for box in boxes_names:\n",
    "    inc+=1 \n",
    "    for lyr in range(2000,2017):\n",
    "        syr=str(lyr).zfill(4)\n",
    "        fname_tem='monthly_average_' + syr + '120000-CMC-L4_GHRSST-SSTfnd-CMC0.2deg-GLOB-v02.0-fv02.0.nc'\n",
    "        cmc_filename_out = dir_cmc + syr + fname_tem\n",
    "        ds=xr.open_dataset(cmc_filename_out)\n",
    "        ds_subset = ds.sel(lon=slice(boxes_lon_max_180[inc],boxes_lon_min_180[inc]),lat=slice(boxes_lat_min[inc],boxes_lat_max[inc])) \n",
    "        ds.close()\n",
    " #       ds_mean = ds_subset #ds_subset.groupby('time.month').mean('latitude').mean('longitude').resample(time='1MS').mean()    \n",
    "        ds_mean = ds_subset.mean('lat').mean('lon')\n",
    "        if lyr==2000:\n",
    "            ds_box = ds_mean\n",
    "        else:\n",
    "            ds_box = xr.concat([ds_box,ds_mean],dim='time')\n",
    "        #print(box)\n",
    "    if box=='NPC':\n",
    "        ds_newbox = ds_box\n",
    "    else:\n",
    "        ds_newbox = xr.concat([ds_newbox,ds_box],dim='box')\n",
    "        #print(ds_newbox.box)\n",
    "ds_newbox.to_netcdf(filename_TS_out)"
   ]
  },
  {
   "cell_type": "code",
   "execution_count": null,
   "metadata": {},
   "outputs": [],
   "source": [
    "#ds\n",
    "#ds_subset.analysed_sst[0,:]\n",
    "#boxes_lon_max_180\n",
    "ds_cmc = xr.open_dataset(filename_TS_out)\n",
    "ds_cmc.analysed_sst"
   ]
  },
  {
   "cell_type": "code",
   "execution_count": null,
   "metadata": {},
   "outputs": [],
   "source": []
  },
  {
   "cell_type": "code",
   "execution_count": null,
   "metadata": {},
   "outputs": [],
   "source": []
  },
  {
   "cell_type": "code",
   "execution_count": null,
   "metadata": {},
   "outputs": [],
   "source": [
    "\n",
    "\n"
   ]
  },
  {
   "cell_type": "code",
   "execution_count": null,
   "metadata": {},
   "outputs": [],
   "source": []
  },
  {
   "cell_type": "code",
   "execution_count": null,
   "metadata": {},
   "outputs": [],
   "source": []
  },
  {
   "cell_type": "code",
   "execution_count": null,
   "metadata": {},
   "outputs": [],
   "source": []
  }
 ],
 "metadata": {
  "kernelspec": {
   "display_name": "Python 3",
   "language": "python",
   "name": "python3"
  },
  "language_info": {
   "codemirror_mode": {
    "name": "ipython",
    "version": 3
   },
   "file_extension": ".py",
   "mimetype": "text/x-python",
   "name": "python",
   "nbconvert_exporter": "python",
   "pygments_lexer": "ipython3",
   "version": "3.7.0"
  }
 },
 "nbformat": 4,
 "nbformat_minor": 2
}
