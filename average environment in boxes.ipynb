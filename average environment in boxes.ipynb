{
 "cells": [
  {
   "cell_type": "code",
   "execution_count": 1,
   "metadata": {},
   "outputs": [],
   "source": [
    "#take boxes determined by marisol from kathleens biforcation data and calculate average environmental information for them\n",
    "#want to calculate average SST, SSS, u^2+v^2, and var(u^2+v^2)\n",
    "import xarray as xr\n",
    "#import pandas as pd\n",
    "#import matplotlib as mpl\n",
    "#import openpyxl\n",
    "#from mpl_toolkits.basemap import Basemap\n",
    "#import matplotlib.pyplot as plt\n",
    "import numpy as np\n",
    "#from math import cos, radians\n",
    "import datetime as dt\n",
    "\n",
    "dir_cmc='F:/data/sst/cmc/CMC0.2deg/v2/'\n",
    "dir_cmc_clim='F:/data/sst/cmc/CMC0.2deg/v2/climatology/'\n",
    "dir_clim='F:/data/sat_data/oscar/L4/oscar_third_deg/climatology/'\n",
    "dir_data = 'https://podaac-opendap.jpl.nasa.gov/opendap/allData/oscar/preview/L4/oscar_third_deg/'\n",
    "\n",
    "boxes_names = ['NPC','NPC_biforcation','CalCur','Alaska1','Alaska2']\n",
    "boxes_lon_min = [-160,-130,-125,-130,-148]\n",
    "boxes_lon_max = [-170,-140,-135,-140,-158]\n",
    "boxes_lat_min = [41,46,35,52,52]\n",
    "boxes_lat_max = [46,51,40,57,57]\n",
    "for i in range(0,5):\n",
    "    boxes_lon_min[i] += 360\n",
    "    boxes_lon_max[i] += 360\n"
   ]
  },
  {
   "cell_type": "code",
   "execution_count": 2,
   "metadata": {},
   "outputs": [
    {
     "name": "stdout",
     "output_type": "stream",
     "text": [
      "<xarray.DataArray 'box' (box: 2)>\n",
      "array([0, 1], dtype=int64)\n",
      "Dimensions without coordinates: box\n",
      "<xarray.DataArray 'box' (box: 3)>\n",
      "array([0, 1, 2], dtype=int64)\n",
      "Dimensions without coordinates: box\n",
      "<xarray.DataArray 'box' (box: 4)>\n",
      "array([0, 1, 2, 3], dtype=int64)\n",
      "Dimensions without coordinates: box\n",
      "<xarray.DataArray 'box' (box: 5)>\n",
      "array([0, 1, 2, 3, 4], dtype=int64)\n",
      "Dimensions without coordinates: box\n"
     ]
    }
   ],
   "source": [
    "filename_oscar_clim = dir_clim + 'oscar_v2009_1993_2016_climatology_12202118.nc'\n",
    "filename_oscar_out = 'F:/data/eddy/bifurcation_ms/oscar_boxes_timeseries.nc'\n",
    "#make oscar timeseries\n",
    "#for ibox in range(0,2): #5):\n",
    "inc=-1\n",
    "for box in boxes_names:\n",
    "    inc+=1 \n",
    "    for lyr in range(2000,2002): #2019):\n",
    "        filename = dir_data + 'oscar_vel' + str(lyr).zfill(4) + '.nc.gz'\n",
    "        ds=xr.open_dataset(filename,drop_variables=['um','vm'])\n",
    "        ds_subset = ds.sel(longitude=slice(boxes_lon_max[inc],boxes_lon_min[inc]),latitude=slice(boxes_lat_max[inc],boxes_lat_min[inc])) \n",
    "        ds_subset['tot_vel']=(ds_subset.u**2+ds_subset.v**2)**.5       \n",
    "        ds_subset['tot_vel_var']=ds_subset.tot_val**2      \n",
    "        ds_subset['u_sq']=ds_subset.u**2       \n",
    "        ds_subset['v_sq']=ds_subset.v**2      \n",
    "        ds_mean = ds_subset.groupby('time.month').mean('latitude').mean('longitude').resample(time='1MS').mean()    \n",
    "        if lyr==2000:\n",
    "            ds_box = ds_mean\n",
    "        else:\n",
    "            ds_box = xr.concat([ds_box,ds_mean],dim='time')\n",
    "        #print(box)\n",
    "    if box=='NPC':\n",
    "        ds_newbox = ds_box\n",
    "    else:\n",
    "        ds_newbox = xr.concat([ds_newbox,ds_box],dim='box')\n",
    "        #print(ds_newbox.box)\n",
    "ds_newbox.to_netcdf(filename_oscar_out)"
   ]
  },
  {
   "cell_type": "code",
   "execution_count": null,
   "metadata": {},
   "outputs": [],
   "source": [
    "filename_sst_out = 'F:/data/eddy/bifurcation_ms/sst_boxes_timeseries.nc'\n",
    "inc=-1\n",
    "for box in boxes_names:\n",
    "    inc+=1 \n",
    "    for idyjl in range(1,366):\n",
    "        clim_sum=np.zeros((1,901,1800))\n",
    "        clim_cnt=np.zeros((1,901,1800))\n",
    "        for lyr in range(1992,2017):\n",
    "        d = datetime.date(lyr,1,1) + datetime.timedelta(idyjl - 1)\n",
    "        syr=str(d.year).zfill(4)\n",
    "        smon=str(d.month).zfill(2)\n",
    "        sdym=str(d.day).zfill(2)\n",
    "        sjdy=str(idyjl).zfill(3)\n",
    "        fname_tem=syr + smon + sdym + '120000-CMC-L4_GHRSST-SSTfnd-CMC0.2deg-GLOB-v02.0-fv02.0.nc'\n",
    "        cmc_filename = dir_cmc + syr + '/' + sjdy + '/' + fname_tem\n",
    "        nc_fid = Dataset(cmc_filename, 'r')\n",
    "        sst = nc_fid.variables['analysed_sst'][:]\n",
    "        if lyr==1992:\n",
    "            print(d.year, d.month, d.day, idyjl)\n",
    "            lons = nc_fid.variables['lon'][:]\n",
    "            lats = nc_fid.variables['lat'][:]\n",
    "        nc_fid.close()\n",
    "\n",
    "        \n",
    "        filename = dir_data + 'oscar_vel' + str(lyr).zfill(4) + '.nc.gz'\n",
    "        ds=xr.open_dataset(filename,drop_variables=['um','vm'])\n",
    "        ds_subset = ds.sel(longitude=slice(boxes_lon_max[inc],boxes_lon_min[inc]),latitude=slice(boxes_lat_max[inc],boxes_lat_min[inc])) \n",
    "        ds_subset['tot_vel']=(ds_subset.u**2+ds_subset.v**2)**.5       \n",
    "        ds_subset['tot_vel_var']=ds_subset.tot_val**2      \n",
    "        ds_subset['u_sq']=ds_subset.u**2       \n",
    "        ds_subset['v_sq']=ds_subset.v**2      \n",
    "        ds_mean = ds_subset.groupby('time.month').mean('latitude').mean('longitude').resample(time='1MS').mean()    \n",
    "        if lyr==2000:\n",
    "            ds_box = ds_mean\n",
    "        else:\n",
    "            ds_box = xr.concat([ds_box,ds_mean],dim='time')\n",
    "        #print(box)\n",
    "    if box=='NPC':\n",
    "        ds_newbox = ds_box\n",
    "    else:\n",
    "        ds_newbox = xr.concat([ds_newbox,ds_box],dim='box')\n",
    "        #print(ds_newbox.box)\n",
    "ds_newbox.to_netcdf(filename_oscar_out)"
   ]
  },
  {
   "cell_type": "code",
   "execution_count": null,
   "metadata": {},
   "outputs": [],
   "source": []
  },
  {
   "cell_type": "code",
   "execution_count": null,
   "metadata": {},
   "outputs": [],
   "source": []
  },
  {
   "cell_type": "code",
   "execution_count": null,
   "metadata": {},
   "outputs": [],
   "source": []
  },
  {
   "cell_type": "code",
   "execution_count": null,
   "metadata": {},
   "outputs": [],
   "source": []
  },
  {
   "cell_type": "code",
   "execution_count": null,
   "metadata": {},
   "outputs": [],
   "source": [
    "\n",
    "\n"
   ]
  },
  {
   "cell_type": "code",
   "execution_count": null,
   "metadata": {},
   "outputs": [],
   "source": []
  },
  {
   "cell_type": "code",
   "execution_count": null,
   "metadata": {},
   "outputs": [],
   "source": []
  },
  {
   "cell_type": "code",
   "execution_count": null,
   "metadata": {},
   "outputs": [],
   "source": []
  }
 ],
 "metadata": {
  "kernelspec": {
   "display_name": "Python 3",
   "language": "python",
   "name": "python3"
  },
  "language_info": {
   "codemirror_mode": {
    "name": "ipython",
    "version": 3
   },
   "file_extension": ".py",
   "mimetype": "text/x-python",
   "name": "python",
   "nbconvert_exporter": "python",
   "pygments_lexer": "ipython3",
   "version": "3.7.0"
  }
 },
 "nbformat": 4,
 "nbformat_minor": 2
}
