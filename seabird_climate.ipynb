{
 "cells": [
  {
   "cell_type": "code",
   "execution_count": 89,
   "metadata": {},
   "outputs": [],
   "source": [
    "import pandas as pd\n",
    "from pandas import ExcelWriter\n",
    "from pandas import ExcelFile\n",
    "import matplotlib.pyplot as plt\n",
    "import netCDF4\n",
    "import datetime as dt\n",
    "from datetime import datetime, timedelta\n",
    "import numpy.ma as ma\n",
    "import numpy as np\n",
    "from scipy.interpolate import RegularGridInterpolator\n",
    "from scipy.interpolate import LinearNDInterpolator\n",
    "import pandas as pd\n",
    "import xarray as xr\n",
    "\n",
    "filename_seabird = 'F:/data/cruise_data/seabird/sitelist_lats_longs.xlsx'\n",
    "filename_sst = \"F:/data/sst/hadisst/HadISST_sst.nc\"\n",
    "filename_ice = \"F:/data/sst/hadisst/HadISST_ice.nc\"\n",
    "filename_sst_cvs = 'F:/data/cruise_data/seabird/sitelist_sst_timeseries.xlsx'\n",
    "filename_sst_cvs2 = 'F:/data/cruise_data/seabird/sitelist_sst_anomalies_timeseries.xlsx'\n",
    "filename_sst_cvs3 = 'F:/data/cruise_data/seabird/sitelist_sst_anomalies_monthly_climatology.xlsx'\n",
    "filename_sst_cvs4 = 'F:/data/cruise_data/seabird/sitelist_sst_anomalies_smoothed_timeseries.xlsx'\n",
    "filename_sst_time = 'F:/data/cruise_data/seabird/sitelist_sst_time.xlsx'\n",
    "filename_sst_time2 = 'F:/data/cruise_data/seabird/sitelist_sst_time_ymd.xlsx'\n"
   ]
  },
  {
   "cell_type": "code",
   "execution_count": 2,
   "metadata": {},
   "outputs": [
    {
     "data": {
      "text/html": [
       "<div>\n",
       "<style scoped>\n",
       "    .dataframe tbody tr th:only-of-type {\n",
       "        vertical-align: middle;\n",
       "    }\n",
       "\n",
       "    .dataframe tbody tr th {\n",
       "        vertical-align: top;\n",
       "    }\n",
       "\n",
       "    .dataframe thead th {\n",
       "        text-align: right;\n",
       "    }\n",
       "</style>\n",
       "<table border=\"1\" class=\"dataframe\">\n",
       "  <thead>\n",
       "    <tr style=\"text-align: right;\">\n",
       "      <th></th>\n",
       "      <th>site</th>\n",
       "      <th>site_num</th>\n",
       "      <th>latitude</th>\n",
       "      <th>longitude</th>\n",
       "    </tr>\n",
       "  </thead>\n",
       "  <tbody>\n",
       "    <tr>\n",
       "      <th>0</th>\n",
       "      <td>Admirality</td>\n",
       "      <td>31</td>\n",
       "      <td>-62.177800</td>\n",
       "      <td>-58.444700</td>\n",
       "    </tr>\n",
       "    <tr>\n",
       "      <th>1</th>\n",
       "      <td>Aiktak</td>\n",
       "      <td>1</td>\n",
       "      <td>54.188600</td>\n",
       "      <td>-164.840000</td>\n",
       "    </tr>\n",
       "    <tr>\n",
       "      <th>2</th>\n",
       "      <td>Alcatraz</td>\n",
       "      <td>2</td>\n",
       "      <td>37.826670</td>\n",
       "      <td>-122.423330</td>\n",
       "    </tr>\n",
       "    <tr>\n",
       "      <th>3</th>\n",
       "      <td>Anacapa</td>\n",
       "      <td>3</td>\n",
       "      <td>34.003889</td>\n",
       "      <td>-119.394722</td>\n",
       "    </tr>\n",
       "    <tr>\n",
       "      <th>4</th>\n",
       "      <td>Bird</td>\n",
       "      <td>4</td>\n",
       "      <td>-54.005556</td>\n",
       "      <td>-38.050000</td>\n",
       "    </tr>\n",
       "    <tr>\n",
       "      <th>5</th>\n",
       "      <td>Buldir</td>\n",
       "      <td>5</td>\n",
       "      <td>52.358056</td>\n",
       "      <td>175.924722</td>\n",
       "    </tr>\n",
       "    <tr>\n",
       "      <th>6</th>\n",
       "      <td>Cape Lisburne</td>\n",
       "      <td>6</td>\n",
       "      <td>68.881110</td>\n",
       "      <td>-166.210000</td>\n",
       "    </tr>\n",
       "    <tr>\n",
       "      <th>7</th>\n",
       "      <td>Cape Peirce</td>\n",
       "      <td>7</td>\n",
       "      <td>58.552780</td>\n",
       "      <td>-161.769000</td>\n",
       "    </tr>\n",
       "    <tr>\n",
       "      <th>8</th>\n",
       "      <td>Chowiet</td>\n",
       "      <td>8</td>\n",
       "      <td>56.034230</td>\n",
       "      <td>-156.701160</td>\n",
       "    </tr>\n",
       "    <tr>\n",
       "      <th>9</th>\n",
       "      <td>Dassen</td>\n",
       "      <td>32</td>\n",
       "      <td>-33.423402</td>\n",
       "      <td>18.087127</td>\n",
       "    </tr>\n",
       "    <tr>\n",
       "      <th>10</th>\n",
       "      <td>East Amatuli</td>\n",
       "      <td>9</td>\n",
       "      <td>58.917292</td>\n",
       "      <td>-151.986190</td>\n",
       "    </tr>\n",
       "    <tr>\n",
       "      <th>11</th>\n",
       "      <td>Foula</td>\n",
       "      <td>10</td>\n",
       "      <td>60.133330</td>\n",
       "      <td>-2.066670</td>\n",
       "    </tr>\n",
       "    <tr>\n",
       "      <th>12</th>\n",
       "      <td>Hornoya</td>\n",
       "      <td>11</td>\n",
       "      <td>70.387700</td>\n",
       "      <td>31.155300</td>\n",
       "    </tr>\n",
       "    <tr>\n",
       "      <th>13</th>\n",
       "      <td>Kaikoura</td>\n",
       "      <td>12</td>\n",
       "      <td>-42.400000</td>\n",
       "      <td>173.680000</td>\n",
       "    </tr>\n",
       "    <tr>\n",
       "      <th>14</th>\n",
       "      <td>Lamberts</td>\n",
       "      <td>13</td>\n",
       "      <td>-32.083333</td>\n",
       "      <td>18.300000</td>\n",
       "    </tr>\n",
       "    <tr>\n",
       "      <th>15</th>\n",
       "      <td>Malgas</td>\n",
       "      <td>14</td>\n",
       "      <td>-33.052778</td>\n",
       "      <td>17.925278</td>\n",
       "    </tr>\n",
       "    <tr>\n",
       "      <th>16</th>\n",
       "      <td>May</td>\n",
       "      <td>15</td>\n",
       "      <td>56.185833</td>\n",
       "      <td>-2.557500</td>\n",
       "    </tr>\n",
       "    <tr>\n",
       "      <th>17</th>\n",
       "      <td>Middleton</td>\n",
       "      <td>16</td>\n",
       "      <td>59.438200</td>\n",
       "      <td>-146.326600</td>\n",
       "    </tr>\n",
       "    <tr>\n",
       "      <th>18</th>\n",
       "      <td>Pelsaert</td>\n",
       "      <td>17</td>\n",
       "      <td>-28.900000</td>\n",
       "      <td>113.900000</td>\n",
       "    </tr>\n",
       "    <tr>\n",
       "      <th>19</th>\n",
       "      <td>Penguin</td>\n",
       "      <td>18</td>\n",
       "      <td>-32.305278</td>\n",
       "      <td>115.691111</td>\n",
       "    </tr>\n",
       "    <tr>\n",
       "      <th>20</th>\n",
       "      <td>Phillip</td>\n",
       "      <td>33</td>\n",
       "      <td>-38.483333</td>\n",
       "      <td>145.233333</td>\n",
       "    </tr>\n",
       "    <tr>\n",
       "      <th>21</th>\n",
       "      <td>Rasa</td>\n",
       "      <td>19</td>\n",
       "      <td>28.823922</td>\n",
       "      <td>-112.980286</td>\n",
       "    </tr>\n",
       "    <tr>\n",
       "      <th>22</th>\n",
       "      <td>Robben</td>\n",
       "      <td>20</td>\n",
       "      <td>-33.804734</td>\n",
       "      <td>18.366222</td>\n",
       "    </tr>\n",
       "    <tr>\n",
       "      <th>23</th>\n",
       "      <td>Rost</td>\n",
       "      <td>21</td>\n",
       "      <td>67.520000</td>\n",
       "      <td>12.098889</td>\n",
       "    </tr>\n",
       "    <tr>\n",
       "      <th>24</th>\n",
       "      <td>Santa Barbara Is</td>\n",
       "      <td>22</td>\n",
       "      <td>33.476989</td>\n",
       "      <td>-119.037722</td>\n",
       "    </tr>\n",
       "    <tr>\n",
       "      <th>25</th>\n",
       "      <td>SE Farallon Island</td>\n",
       "      <td>23</td>\n",
       "      <td>37.724930</td>\n",
       "      <td>-123.030278</td>\n",
       "    </tr>\n",
       "    <tr>\n",
       "      <th>26</th>\n",
       "      <td>Shirreff</td>\n",
       "      <td>24</td>\n",
       "      <td>-62.459000</td>\n",
       "      <td>-60.790200</td>\n",
       "    </tr>\n",
       "    <tr>\n",
       "      <th>27</th>\n",
       "      <td>St. George</td>\n",
       "      <td>25</td>\n",
       "      <td>56.574290</td>\n",
       "      <td>-169.613000</td>\n",
       "    </tr>\n",
       "    <tr>\n",
       "      <th>28</th>\n",
       "      <td>St. Lazaria</td>\n",
       "      <td>26</td>\n",
       "      <td>56.987222</td>\n",
       "      <td>-135.704722</td>\n",
       "    </tr>\n",
       "    <tr>\n",
       "      <th>29</th>\n",
       "      <td>St. Paul</td>\n",
       "      <td>27</td>\n",
       "      <td>57.204360</td>\n",
       "      <td>-170.283000</td>\n",
       "    </tr>\n",
       "    <tr>\n",
       "      <th>30</th>\n",
       "      <td>Tern</td>\n",
       "      <td>28</td>\n",
       "      <td>23.870000</td>\n",
       "      <td>-166.284000</td>\n",
       "    </tr>\n",
       "    <tr>\n",
       "      <th>31</th>\n",
       "      <td>Teuri</td>\n",
       "      <td>29</td>\n",
       "      <td>44.416667</td>\n",
       "      <td>141.300000</td>\n",
       "    </tr>\n",
       "    <tr>\n",
       "      <th>32</th>\n",
       "      <td>Varanus</td>\n",
       "      <td>30</td>\n",
       "      <td>-20.650833</td>\n",
       "      <td>115.574167</td>\n",
       "    </tr>\n",
       "  </tbody>\n",
       "</table>\n",
       "</div>"
      ],
      "text/plain": [
       "                  site  site_num   latitude   longitude\n",
       "0           Admirality        31 -62.177800  -58.444700\n",
       "1               Aiktak         1  54.188600 -164.840000\n",
       "2             Alcatraz         2  37.826670 -122.423330\n",
       "3              Anacapa         3  34.003889 -119.394722\n",
       "4                 Bird         4 -54.005556  -38.050000\n",
       "5               Buldir         5  52.358056  175.924722\n",
       "6        Cape Lisburne         6  68.881110 -166.210000\n",
       "7          Cape Peirce         7  58.552780 -161.769000\n",
       "8              Chowiet         8  56.034230 -156.701160\n",
       "9               Dassen        32 -33.423402   18.087127\n",
       "10        East Amatuli         9  58.917292 -151.986190\n",
       "11               Foula        10  60.133330   -2.066670\n",
       "12             Hornoya        11  70.387700   31.155300\n",
       "13            Kaikoura        12 -42.400000  173.680000\n",
       "14            Lamberts        13 -32.083333   18.300000\n",
       "15              Malgas        14 -33.052778   17.925278\n",
       "16                 May        15  56.185833   -2.557500\n",
       "17           Middleton        16  59.438200 -146.326600\n",
       "18            Pelsaert        17 -28.900000  113.900000\n",
       "19             Penguin        18 -32.305278  115.691111\n",
       "20             Phillip        33 -38.483333  145.233333\n",
       "21                Rasa        19  28.823922 -112.980286\n",
       "22              Robben        20 -33.804734   18.366222\n",
       "23                Rost        21  67.520000   12.098889\n",
       "24    Santa Barbara Is        22  33.476989 -119.037722\n",
       "25  SE Farallon Island        23  37.724930 -123.030278\n",
       "26            Shirreff        24 -62.459000  -60.790200\n",
       "27          St. George        25  56.574290 -169.613000\n",
       "28         St. Lazaria        26  56.987222 -135.704722\n",
       "29            St. Paul        27  57.204360 -170.283000\n",
       "30                Tern        28  23.870000 -166.284000\n",
       "31               Teuri        29  44.416667  141.300000\n",
       "32             Varanus        30 -20.650833  115.574167"
      ]
     },
     "execution_count": 2,
     "metadata": {},
     "output_type": "execute_result"
    }
   ],
   "source": [
    "#read seabird excel data\n",
    "df = pd.read_excel(filename_seabird, sheet_name='data')\n",
    "df"
   ]
  },
  {
   "cell_type": "code",
   "execution_count": 3,
   "metadata": {},
   "outputs": [
    {
     "data": {
      "text/plain": [
       "<class 'netCDF4._netCDF4.Dataset'>\n",
       "root group (NETCDF3_CLASSIC data model, file format NETCDF3):\n",
       "    Title: Monthly version of HadISST sea surface temperature component\n",
       "    description: HadISST 1.1 monthly average sea surface temperature\n",
       "    institution: Met Office Hadley Centre\n",
       "    source: HadISST\n",
       "    reference: Rayner, N. A., Parker, D. E., Horton, E. B., Folland, C. K., Alexander, L. V., Rowell, D. P., Kent, E. C., Kaplan, A.  Global analyses of sea surface temperature, sea ice, and night marine air temperature since the late nineteenth century J. Geophys. Res.Vol. 108, No. D14, 4407 10.1029/2002JD002670\n",
       "    Conventions: CF-1.0\n",
       "    history: 8/5/2018 converted to netcdf from pp format\n",
       "    supplementary_information: Updates and supplementary information will be available from http://www.metoffice.gov.uk/hadobs/hadisst\n",
       "    comment: Data restrictions: for academic research use only. Data are Crown copyright see (http://www.opsi.gov.uk/advice/crown-copyright/copyright-guidance/index.htm)\n",
       "    dimensions(sizes): time(1779), latitude(180), longitude(360), nv(2)\n",
       "    variables(dimensions): float32 \u001b[4mtime\u001b[0m(time), float32 \u001b[4mtime_bnds\u001b[0m(time,nv), float32 \u001b[4mlatitude\u001b[0m(latitude), float32 \u001b[4mlongitude\u001b[0m(longitude), float32 \u001b[4msst\u001b[0m(time,latitude,longitude)\n",
       "    groups: "
      ]
     },
     "execution_count": 3,
     "metadata": {},
     "output_type": "execute_result"
    }
   ],
   "source": [
    "#read sst and ice data\n",
    "#6/15/2018 the time in the sst data is bad.  all set to flag.  time in ice okay so using that.  ice data only used for time.\n",
    "f = netCDF4.Dataset(filename_sst, mode=\"r\")\n",
    "f2 = netCDF4.Dataset(filename_ice, mode=\"r\")\n",
    "f"
   ]
  },
  {
   "cell_type": "code",
   "execution_count": 4,
   "metadata": {},
   "outputs": [
    {
     "name": "stdout",
     "output_type": "stream",
     "text": [
      "<class 'numpy.ma.core.MaskedArray'>\n"
     ]
    }
   ],
   "source": [
    "#interpolate SST to 33 points using 'linear'\n",
    "lon_sst = f.variables['longitude'][:]\n",
    "lat_sst = f.variables['latitude'][:]\n",
    "dys_since1870 = f2.variables['time'][:]\n",
    "tem_sst = f.variables['sst'][:]\n",
    "print(type(tem_sst))\n",
    "date_1870 = dt.datetime(1870,1,1,0,0,0) # start date is1/1/1970\n",
    "tdim=tem_sst.shape[0]\n",
    "tem=dys_since1870.tolist()\n",
    "time_sst = np.array([dt.datetime(1870,1,1) + dt.timedelta(days=tem[i]) for i in range(tdim)])\n",
    "lat_sst2=np.flip(lat_sst,0)\n",
    "sst= ma.masked_values (tem_sst, -1000.)\n",
    "sst2=np.flip(sst,1)"
   ]
  },
  {
   "cell_type": "code",
   "execution_count": 566,
   "metadata": {},
   "outputs": [
    {
     "name": "stdout",
     "output_type": "stream",
     "text": [
      "tem: [[[-- --]\n",
      "  [-1.7999999523162842 -1.7999999523162842]]] <class 'numpy.ma.core.MaskedArray'>\n",
      "<bound method MaskedArray.view of masked_array(\n",
      "  data=[[[--, --],\n",
      "         [-1.7999999523162842, -1.7999999523162842]]],\n",
      "  mask=[[[ True,  True],\n",
      "         [False, False]]],\n",
      "  fill_value=-1000.0,\n",
      "  dtype=float32)>\n",
      "[[[ True  True]\n",
      "  [False False]]]\n",
      "[[[-- --]\n",
      "  [-1.7999999523162842 -1.7999999523162842]]]\n",
      "[[[ True  True]\n",
      "  [False False]]]\n",
      "-1.7999999523162842\n"
     ]
    }
   ],
   "source": [
    "tem=sst[-15:-14,13:15,20:22]\n",
    "print('tem:',tem,type(tem))\n",
    "m=ma.getmaskarray(tem)\n",
    "#print(df.site_num[6],lon_sst[13:15],lat_sst[20:22])\n",
    "print(tem.view)\n",
    "print(m)\n",
    "mx = ma.masked_values (tem, -1000.)\n",
    "ma.masked_less(mx, -10.)\n",
    "m=ma.getmaskarray(mx)\n",
    "print(mx)\n",
    "print(m)\n",
    "print(mx.mean())"
   ]
  },
  {
   "cell_type": "code",
   "execution_count": 567,
   "metadata": {},
   "outputs": [],
   "source": [
    "#print(df.longitude[2],df.latitude[2])\n",
    "#print(lon_sst[56:60],lat_sst[50:54])\n",
    "#print(sst[0,50:54,56:60])\n",
    "#plt.imshow(sst2[0,:,:],vmin=0,vmax=30)\n",
    "coarseness = 2\n",
    "temp = lon_sst.reshape((lon_sst.shape[0] // coarseness, coarseness))\n",
    "coarse_lon = np.mean(temp, axis=(1), dtype=np.float64)\n",
    "temp = lat_sst.reshape((lat_sst.shape[0] // coarseness, coarseness))\n",
    "coarse_lat = np.mean(temp, axis=(1), dtype=np.float64)\n",
    "coarse_sst=np.zeros((sst.shape[0],90,180))\n",
    "for i in range(0,tdim):\n",
    "    sst0=sst[i,:,:]\n",
    "    temp = sst0.reshape((sst0.shape[0] // coarseness, coarseness, sst0.shape[1] // coarseness, coarseness))\n",
    "    coarse_sst[i,:,:] = np.mean(temp, axis=(1,3), dtype=np.float64)\n",
    "#print(coarse_lon[28:30],coarse_lat[25:27])\n",
    "#print(coarse_sst[0,25:27,28:30])\n",
    "coarse_lat2=np.flip(coarse_lat,0)\n",
    "coarse_sst2=np.flip(coarse_sst,1)\n",
    "\n"
   ]
  },
  {
   "cell_type": "code",
   "execution_count": null,
   "metadata": {},
   "outputs": [],
   "source": []
  },
  {
   "cell_type": "code",
   "execution_count": 568,
   "metadata": {},
   "outputs": [],
   "source": [
    "x=dys_since1870.data\n",
    "#y=lat_sst2\n",
    "#z=lon_sst\n",
    "#v=sst2\n",
    "y=coarse_lat2\n",
    "z=coarse_lon\n",
    "v=coarse_sst2\n",
    "my_interpolating_function = RegularGridInterpolator((x, y, z), v,method='linear')\n",
    "#my_interpolating_function = LinearNDInterpolator((x, y, z), v)\n",
    "sst_seabird=np.empty((1779,33))\n",
    "for i in range(0,df.shape[0]):\n",
    "    x=np.ones(tdim)*df.longitude[i]\n",
    "    y=np.ones(tdim)*df.latitude[i]\n",
    "    pts=np.array([dys_since1870,y,x]).T\n",
    "    tem=my_interpolating_function(pts)\n",
    "    sst_seabird[:,i]=tem"
   ]
  },
  {
   "cell_type": "code",
   "execution_count": 569,
   "metadata": {},
   "outputs": [],
   "source": [
    "#print(df.site_num[6],lon_sst[13:15],lat_sst[20:22],sst[-15:-12,13:15,20:22],sst[0,0,0])"
   ]
  },
  {
   "cell_type": "code",
   "execution_count": 570,
   "metadata": {},
   "outputs": [
    {
     "name": "stdout",
     "output_type": "stream",
     "text": [
      "0.5 0.5 28.283539 <class 'numpy.ma.core.MaskedArray'>\n",
      "[27.83897524]\n",
      "<class 'numpy.ndarray'>\n"
     ]
    }
   ],
   "source": [
    "print(lat_sst2[90],lon_sst[180],sst2[1,90,180],type(sst2))\n",
    "print(my_interpolating_function(np.array([30.0,0.0,0.0])))\n",
    "print(type(sst_seabird))\n",
    "dfsst = pd.DataFrame(sst_seabird)\n",
    "writer = pd.ExcelWriter(filename_sst_cvs)\n",
    "dfsst.to_excel(writer,'HADISST')\n",
    "writer.save()"
   ]
  },
  {
   "cell_type": "code",
   "execution_count": 571,
   "metadata": {},
   "outputs": [],
   "source": [
    "#put sst_seabird into a panda series with the time_sst datetime as the index\n",
    "sv_anom=np.zeros((1779,33))\n",
    "sv_clim=np.zeros((12,33))\n",
    "for ilocation in range(0,33):\n",
    "    cum_data   = pd.Series(sst_seabird[:,ilocation], index=time_sst)\n",
    "    #print(cum_data)\n",
    "    #sst_clim = cum_data.groupby(cum_data.index.month).mean()\n",
    "    #sst_anom=cum_data.groupby(cum_data.index.month) - sst_clim\n",
    "    #put panda series into xarray\n",
    "    a = cum_data.to_xarray()\n",
    "    #put xarray into a dataset\n",
    "    ds = a.to_dataset(name=\"sst_seabird\")\n",
    "    #calculate climatology and anomalies\n",
    "    climatology = ds.groupby('index.month').mean('index')\n",
    "    anomalies = ds.groupby('index.month') - climatology\n",
    "    #create a timeseries that just has the climatology mapped onto it\n",
    "    sst_clim_ts=np.zeros(tdim)\n",
    "    for i in range(0,tdim):\n",
    "        sst_clim_ts[i]=climatology['sst_seabird'][int(time_sst[i].month)-1].data\n",
    "    #plot figure, offset anomaly by adding in mean value so that it is onto of data\n",
    "    plt.clf()\n",
    "    plt.plot(time_sst,sst_seabird[:,ilocation])\n",
    "    #plt.plot(time_sst,sst_seabird[:,ilocation].mean()+sst_clim_ts,'g')\n",
    "    plt.plot(time_sst,sst_seabird[:,ilocation].mean()+anomalies['sst_seabird'],'r')\n",
    "    plt.xlabel('Date')\n",
    "    plt.ylabel('HadISST (C)')\n",
    "    plt.xlim(datetime(1962,1,1),datetime(2017,1,1))\n",
    "    #plt.show()\n",
    "    filename_png='F:/data/cruise_data/seabird/site_num'+str(df.site_num[ilocation])+'_'+str(df.site[ilocation])+'.png'\n",
    "    plt.savefig(filename_png, transparent=False, format='png')\n",
    "    plt.close()\n",
    "    sv=anomalies['sst_seabird'].values\n",
    "    sv_anom[:,ilocation]=sv\n",
    "    sv2=climatology['sst_seabird'].values\n",
    "    sv_clim[:,ilocation]=sv2\n"
   ]
  },
  {
   "cell_type": "code",
   "execution_count": 572,
   "metadata": {},
   "outputs": [
    {
     "data": {
      "text/plain": [
       "<xarray.Dataset>\n",
       "Dimensions:      (index: 1779)\n",
       "Coordinates:\n",
       "  * index        (index) datetime64[ns] 1870-01-16T11:59:59.505615 ...\n",
       "    month        (index) int64 1 2 3 4 5 6 7 8 9 10 11 12 1 2 3 4 5 6 7 8 9 ...\n",
       "Data variables:\n",
       "    sst_seabird  (index) float64 0.08201 0.1112 0.2634 0.174 0.184 0.2482 ..."
      ]
     },
     "execution_count": 572,
     "metadata": {},
     "output_type": "execute_result"
    }
   ],
   "source": [
    "anomalies"
   ]
  },
  {
   "cell_type": "code",
   "execution_count": 573,
   "metadata": {},
   "outputs": [
    {
     "data": {
      "text/plain": [
       "<xarray.Dataset>\n",
       "Dimensions:      (month: 12)\n",
       "Coordinates:\n",
       "  * month        (month) int64 1 2 3 4 5 6 7 8 9 10 11 12\n",
       "Data variables:\n",
       "    sst_seabird  (month) float64 27.76 28.44 28.93 28.41 27.11 25.36 24.44 ..."
      ]
     },
     "execution_count": 573,
     "metadata": {},
     "output_type": "execute_result"
    }
   ],
   "source": [
    "climatology"
   ]
  },
  {
   "cell_type": "code",
   "execution_count": 574,
   "metadata": {},
   "outputs": [],
   "source": [
    "dfsst = pd.DataFrame(sv_anom)\n",
    "writer = pd.ExcelWriter(filename_sst_cvs2)\n",
    "dfsst.to_excel(writer,'HADISST Anomalies')\n",
    "writer.save()\n",
    "dfsst = pd.DataFrame(sv_clim)\n",
    "writer = pd.ExcelWriter(filename_sst_cvs3)\n",
    "dfsst.to_excel(writer,'HADISST Monthly Climatology')\n",
    "writer.save()"
   ]
  },
  {
   "cell_type": "code",
   "execution_count": 575,
   "metadata": {},
   "outputs": [],
   "source": [
    "import numpy\n",
    "\n",
    "def smooth(x,window_len=13,window='hanning'):\n",
    "    \"\"\"smooth the data using a window with requested size.\n",
    "    \n",
    "    This method is based on the convolution of a scaled window with the signal.\n",
    "    The signal is prepared by introducing reflected copies of the signal \n",
    "    (with the window size) in both ends so that transient parts are minimized\n",
    "    in the begining and end part of the output signal.\n",
    "    \n",
    "    input:\n",
    "        x: the input signal \n",
    "        window_len: the dimension of the smoothing window; should be an odd integer\n",
    "        window: the type of window from 'flat', 'hanning', 'hamming', 'bartlett', 'blackman'\n",
    "            flat window will produce a moving average smoothing.\n",
    "\n",
    "    output:\n",
    "        the smoothed signal\n",
    "        \n",
    "    example:\n",
    "\n",
    "    t=linspace(-2,2,0.1)\n",
    "    x=sin(t)+randn(len(t))*0.1\n",
    "    y=smooth(x)\n",
    "    \n",
    "    see also: \n",
    "    \n",
    "    numpy.hanning, numpy.hamming, numpy.bartlett, numpy.blackman, numpy.convolve\n",
    "    scipy.signal.lfilter\n",
    " \n",
    "    TODO: the window parameter could be the window itself if an array instead of a string\n",
    "    NOTE: length(output) != length(input), to correct this: return y[(window_len/2-1):-(window_len/2)] instead of just y.\n",
    "    \"\"\"\n",
    "\n",
    "    if x.ndim != 1:\n",
    "        raise ValueError(\"smooth only accepts 1 dimension arrays.\")\n",
    "\n",
    "    if x.size < window_len:\n",
    "        raise ValueError(\"Input vector needs to be bigger than window size.\")\n",
    "\n",
    "\n",
    "    if window_len<3:\n",
    "        return x\n",
    "\n",
    "\n",
    "    if not window in ['flat', 'hanning', 'hamming', 'bartlett', 'blackman']:\n",
    "        raise ValueError(\"Window is on of 'flat', 'hanning', 'hamming', 'bartlett', 'blackman'\")\n",
    "\n",
    "\n",
    "    s=numpy.r_[x[window_len-1:0:-1],x,x[-2:-window_len-1:-1]]\n",
    "    #print(len(s))\n",
    "    if window == 'flat': #moving average\n",
    "        w=numpy.ones(window_len,'d')\n",
    "    else:\n",
    "        w=eval('numpy.'+window+'(window_len)')\n",
    "\n",
    "    y=numpy.convolve(w/w.sum(),s,mode='valid')\n",
    "    return y\n",
    "\n"
   ]
  },
  {
   "cell_type": "code",
   "execution_count": 576,
   "metadata": {},
   "outputs": [
    {
     "name": "stdout",
     "output_type": "stream",
     "text": [
      "(1829,)\n"
     ]
    },
    {
     "data": {
      "text/plain": [
       "[<matplotlib.lines.Line2D at 0x1936eda0>]"
      ]
     },
     "execution_count": 576,
     "metadata": {},
     "output_type": "execute_result"
    },
    {
     "data": {
      "image/png": "[encoded data removed]",
      "text/plain": [
       "<Figure size 432x288 with 1 Axes>"
      ]
     },
     "metadata": {},
     "output_type": "display_data"
    }
   ],
   "source": [
    "t=smooth(sv_anom[:,0],51,'hanning')\n",
    "print(t.shape)\n",
    "plt.clf()\n",
    "plt.plot(time_sst,sv_anom[:,0])\n",
    "plt.plot(time_sst,t[25:1804])\n"
   ]
  },
  {
   "cell_type": "code",
   "execution_count": 577,
   "metadata": {},
   "outputs": [],
   "source": [
    "sv_anom=np.zeros((1779,33))\n",
    "sv_anom_smooth=np.zeros((1779,33))\n",
    "sv_clim=np.zeros((12,33))\n",
    "for ilocation in range(0,33):\n",
    "    cum_data   = pd.Series(sst_seabird[:,ilocation], index=time_sst)\n",
    "    #print(cum_data)\n",
    "    #sst_clim = cum_data.groupby(cum_data.index.month).mean()\n",
    "    #sst_anom=cum_data.groupby(cum_data.index.month) - sst_clim\n",
    "    #put panda series into xarray\n",
    "    a = cum_data.to_xarray()\n",
    "    #put xarray into a dataset\n",
    "    ds = a.to_dataset(name=\"sst_seabird\")\n",
    "    #calculate climatology and anomalies\n",
    "    climatology = ds.groupby('index.month').mean('index')\n",
    "    anomalies = ds.groupby('index.month') - climatology\n",
    "    #create a timeseries that just has the climatology mapped onto it\n",
    "    sst_clim_ts=np.zeros(tdim)\n",
    "    for i in range(0,tdim):\n",
    "        sst_clim_ts[i]=climatology['sst_seabird'][int(time_sst[i].month)-1].data\n",
    "    #plot figure, offset anomaly by adding in mean value so that it is onto of data\n",
    "    sv=anomalies['sst_seabird'].values\n",
    "    sv_anom[:,ilocation]=sv\n",
    "    sv2=climatology['sst_seabird'].values\n",
    "    sv_clim[:,ilocation]=sv2\n",
    "    t=smooth(sv_anom[:,ilocation],49,'hanning')\n",
    "    sv_anom_smooth[:,ilocation]=t[24:1803]\n",
    "    plt.clf()\n",
    "    plt.plot(time_sst,sst_seabird[:,ilocation])\n",
    "    #plt.plot(time_sst,sst_seabird[:,ilocation].mean()+sst_clim_ts,'g')\n",
    "    plt.plot(time_sst,sst_seabird[:,ilocation].mean()+anomalies['sst_seabird'],'r')\n",
    "    plt.plot(time_sst,sst_seabird[:,ilocation].mean()+t[24:1803],'g')\n",
    "    plt.xlabel('Date')\n",
    "    plt.ylabel('HadISST (C)')\n",
    "    plt.xlim(datetime(1962,1,1),datetime(2017,1,1))\n",
    "    #plt.show()\n",
    "    filename_png='F:/data/cruise_data/seabird/site_num'+str(df.site_num[ilocation])+'_'+str(df.site[ilocation])+'.png'\n",
    "    plt.savefig(filename_png, transparent=False, format='png')\n",
    "    plt.close()\n"
   ]
  },
  {
   "cell_type": "code",
   "execution_count": 583,
   "metadata": {},
   "outputs": [],
   "source": [
    "dfsst = pd.DataFrame(sv_anom_smooth)\n",
    "writer = pd.ExcelWriter(filename_sst_cvs4)\n",
    "dfsst.to_excel(writer,'HADISST Anomaly Smoothed')\n",
    "writer.save()\n",
    "dfsst = pd.DataFrame(dys_since1870)\n",
    "writer = pd.ExcelWriter(filename_sst_time)\n",
    "dfsst.to_excel(writer,'HADISST time')\n",
    "writer.save()"
   ]
  },
  {
   "cell_type": "code",
   "execution_count": 15,
   "metadata": {},
   "outputs": [
    {
     "name": "stdout",
     "output_type": "stream",
     "text": [
      "1779\n"
     ]
    }
   ],
   "source": []
  },
  {
   "cell_type": "code",
   "execution_count": 18,
   "metadata": {},
   "outputs": [
    {
     "ename": "SyntaxError",
     "evalue": "invalid syntax (<ipython-input-18-f04ed919426e>, line 1)",
     "output_type": "error",
     "traceback": [
      "\u001b[1;36m  File \u001b[1;32m\"<ipython-input-18-f04ed919426e>\"\u001b[1;36m, line \u001b[1;32m1\u001b[0m\n\u001b[1;33m    np.array({[time_sst[i].year],i=0:})\u001b[0m\n\u001b[1;37m                                  ^\u001b[0m\n\u001b[1;31mSyntaxError\u001b[0m\u001b[1;31m:\u001b[0m invalid syntax\n"
     ]
    }
   ],
   "source": []
  },
  {
   "cell_type": "code",
   "execution_count": 78,
   "metadata": {},
   "outputs": [
    {
     "data": {
      "text/plain": [
       "<xarray.DataArray 'time' ()>\n",
       "array('1870-01-16T11:59:59.505615234', dtype='datetime64[ns]')\n",
       "Coordinates:\n",
       "    time     datetime64[ns] 1870-01-16T11:59:59.505615234\n",
       "Attributes:\n",
       "    long_name:      Time\n",
       "    standard_name:  time"
      ]
     },
     "execution_count": 78,
     "metadata": {},
     "output_type": "execute_result"
    }
   ],
   "source": []
  },
  {
   "cell_type": "code",
   "execution_count": 80,
   "metadata": {},
   "outputs": [],
   "source": [
    "tstr=np.zeros([1779,3])\n",
    "for i in range(0,1779):\n",
    "    tstr[i,0]=time_sst[i].year\n",
    "    tstr[i,1]=time_sst[i].month\n",
    "    tstr[i,2]=time_sst[i].day"
   ]
  },
  {
   "cell_type": "code",
   "execution_count": 85,
   "metadata": {},
   "outputs": [
    {
     "data": {
      "text/plain": [
       "1870.0"
      ]
     },
     "execution_count": 85,
     "metadata": {},
     "output_type": "execute_result"
    }
   ],
   "source": [
    "tstr[0,0]"
   ]
  },
  {
   "cell_type": "code",
   "execution_count": 86,
   "metadata": {},
   "outputs": [],
   "source": [
    "df_time = pd.DataFrame({'year': tstr[:,0],\n",
    "                       'month': tstr[:,1],\n",
    "                       'day': tstr[:,2]})"
   ]
  },
  {
   "cell_type": "code",
   "execution_count": 90,
   "metadata": {},
   "outputs": [],
   "source": [
    "writer = pd.ExcelWriter(filename_sst_time2)\n",
    "df_time.to_excel(writer,'HADISST time')\n",
    "writer.save()"
   ]
  },
  {
   "cell_type": "code",
   "execution_count": null,
   "metadata": {},
   "outputs": [],
   "source": []
  }
 ],
 "metadata": {
  "kernelspec": {
   "display_name": "Python 3",
   "language": "python",
   "name": "python3"
  },
  "language_info": {
   "codemirror_mode": {
    "name": "ipython",
    "version": 3
   },
   "file_extension": ".py",
   "mimetype": "text/x-python",
   "name": "python",
   "nbconvert_exporter": "python",
   "pygments_lexer": "ipython3",
   "version": "3.5.5"
  }
 },
 "nbformat": 4,
 "nbformat_minor": 2
}
