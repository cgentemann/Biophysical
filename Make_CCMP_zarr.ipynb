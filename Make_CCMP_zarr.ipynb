{
 "cells": [
  {
   "cell_type": "code",
   "execution_count": 2,
   "metadata": {},
   "outputs": [],
   "source": [
    "import xarray as xr\n",
    "from glob import glob\n",
    "from os import path\n",
    "import os\n",
    "import numpy as np"
   ]
  },
  {
   "cell_type": "markdown",
   "metadata": {},
   "source": [
    "# Create list of CCMP filenames"
   ]
  },
  {
   "cell_type": "code",
   "execution_count": 2,
   "metadata": {},
   "outputs": [],
   "source": [
    "dir_pattern = 'F:/data/sat_data/ccmp/v02.0/'\n",
    "dir_pattern_zarr = 'F:/data/sat_data/ccmp/zarr_test/'\n",
    "pattern = 'F:/data/sat_data/ccmp/v02.0/*/*/*_V02.0_L3.0_RSS.nc'"
   ]
  },
  {
   "cell_type": "code",
   "execution_count": 3,
   "metadata": {
    "scrolled": true
   },
   "outputs": [
    {
     "name": "stdout",
     "output_type": "stream",
     "text": [
      "Wall time: 11min 37s\n"
     ]
    }
   ],
   "source": [
    "%%time\n",
    "#list files\n",
    "files = [x for x in glob(pattern)]\n",
    "#open dataset\n",
    "ds=xr.open_mfdataset(files,combine='nested',concat_dim='time',decode_cf=False,mask_and_scale=False)\n",
    "# if you don't need all the variables, drop extra ones here\n",
    "# ds = ds.drop({'nobs'})\n",
    "ds.close()"
   ]
  },
  {
   "cell_type": "code",
   "execution_count": 29,
   "metadata": {},
   "outputs": [],
   "source": [
    "#remove any duplicates -- CCMP has both NRT and RT data so some files are duplicates -- \n",
    "# this returns 1st occurance check this is what you want\n",
    "_, index = np.unique(ds['time'], return_index=True)\n",
    "ds = ds.isel(time=index)"
   ]
  },
  {
   "cell_type": "markdown",
   "metadata": {},
   "source": [
    "# Set Chunk Size Here"
   ]
  },
  {
   "cell_type": "code",
   "execution_count": 30,
   "metadata": {},
   "outputs": [],
   "source": [
    "#rechunck data      #cci SUGGESTION\n",
    "itime_chunk = 1000   #200\n",
    "ilat_chunk = 157    #300\n",
    "ilon_chunk = 180    #600\n",
    "\n",
    "ds = ds.chunk({'time':itime_chunk,'latitude':ilat_chunk,'longitude':ilon_chunk})\n"
   ]
  },
  {
   "cell_type": "markdown",
   "metadata": {},
   "source": [
    "# Subset & write out zarr store - subset only needed for this test run"
   ]
  },
  {
   "cell_type": "code",
   "execution_count": 55,
   "metadata": {},
   "outputs": [
    {
     "name": "stdout",
     "output_type": "stream",
     "text": [
      "Elapsed time to write file was 127.753 seconds\n"
     ]
    }
   ],
   "source": [
    "%%time\n",
    "#test this chunck size by subsetting data and checking both time to write and filesize\n",
    "subset = ds.isel(time=slice(0,itime_chunk),latitude=slice(0,ilat_chunk),longitude=slice(0,ilon_chunk))\n",
    "#output test zarr data\n",
    "subset.to_zarr(dir_pattern_zarr)"
   ]
  },
  {
   "cell_type": "markdown",
   "metadata": {},
   "source": [
    "# Check file size - if to small/big adjust cell above & try again"
   ]
  },
  {
   "cell_type": "code",
   "execution_count": 56,
   "metadata": {},
   "outputs": [
    {
     "name": "stdout",
     "output_type": "stream",
     "text": [
      "testing file: F:/data/sat_data/ccmp/zarr_test/nobs\\0.0.0\n",
      "The Zarr chunck is 90 mb\n",
      "you want 100-300 mb per file\n"
     ]
    }
   ],
   "source": [
    "#list files and check size\n",
    "for var in subset:\n",
    "    varname = var  #this just gets last var in file, you can set value if you already know eg. 'uwnd' \n",
    "files = [x for x in glob(dir_pattern_zarr+str(varname)+'/0*')]\n",
    "print('testing file:',files[0])\n",
    "file_size=os.stat(files[0]).st_size/1e6\n",
    "print('The Zarr chunck is '+'%.0f' % sz+' mb')\n",
    "print('you want 100-300 mb per file')"
   ]
  },
  {
   "cell_type": "markdown",
   "metadata": {},
   "source": [
    "# Okay you have right chunk size set, now write the entire file\n",
    "# first delete all files in the zarr directory"
   ]
  },
  {
   "cell_type": "code",
   "execution_count": 4,
   "metadata": {},
   "outputs": [
    {
     "data": {
      "text/plain": [
       "<xarray.backends.zarr.ZarrStore at 0x2865dd124c8>"
      ]
     },
     "execution_count": 4,
     "metadata": {},
     "output_type": "execute_result"
    }
   ],
   "source": [
    "#only need to run once to write data\n",
    "start_time = time.time()\n",
    "ds.to_zarr(dir_pattern_zarr)\n",
    "end_time = time.time()\n",
    "print(\"Elapsed time to write file was %g seconds\" % (end_time - start_time))\n"
   ]
  },
  {
   "cell_type": "markdown",
   "metadata": {},
   "source": [
    "# Test reading zarr file and making some plots"
   ]
  },
  {
   "cell_type": "code",
   "execution_count": 8,
   "metadata": {},
   "outputs": [
    {
     "name": "stdout",
     "output_type": "stream",
     "text": [
      "Elapsed time was 0.298431 seconds\n"
     ]
    }
   ],
   "source": [
    "%%time\n",
    "ds2= xr.open_zarr(dir_pattern_zarr)"
   ]
  },
  {
   "cell_type": "code",
   "execution_count": 7,
   "metadata": {},
   "outputs": [
    {
     "name": "stdout",
     "output_type": "stream",
     "text": [
      "Elapsed time was 0.0169871 seconds\n"
     ]
    }
   ],
   "source": [
    "%%time\n",
    "ts = ds2.uwnd.sel(latitude=slice(-10,0),longitude=slice(170,180)).mean({'latitude','longitude'}).plot()"
   ]
  },
  {
   "cell_type": "code",
   "execution_count": 8,
   "metadata": {},
   "outputs": [
    {
     "data": {
      "text/plain": [
       "[<matplotlib.lines.Line2D at 0x286766c5488>]"
      ]
     },
     "execution_count": 8,
     "metadata": {},
     "output_type": "execute_result"
    },
    {
     "data": {
      "image/png": "[encoded data removed]",
      "text/plain": [
       "<Figure size 432x288 with 1 Axes>"
      ]
     },
     "metadata": {
      "needs_background": "light"
     },
     "output_type": "display_data"
    }
   ],
   "source": [
    "ts.plot()"
   ]
  },
  {
   "cell_type": "markdown",
   "metadata": {},
   "source": [
    "# create CMC SST zarr data files"
   ]
  },
  {
   "cell_type": "code",
   "execution_count": 9,
   "metadata": {},
   "outputs": [],
   "source": [
    "dir_pattern_zarr = 'F:/data/sst/cmc/zarr/'\n",
    "dir_pattern = 'F:/data/sst/cmc/CMC0.2deg/v2/'\n",
    "pattern = 'F:/data/sst/cmc/CMC0.2deg/v2/data/*/*/*-v02.0-fv02.0.nc'\n",
    "files = [x for x in glob(pattern)]\n",
    "dir_pattern = 'F:/data/sst/cmc/CMC0.1deg/v3/'\n",
    "pattern = 'F:/data/sst/cmc/CMC0.1deg/v3/*/*/*-v02.0-fv03.0.nc'\n",
    "files2 = [x for x in glob(pattern)]"
   ]
  },
  {
   "cell_type": "code",
   "execution_count": 10,
   "metadata": {},
   "outputs": [
    {
     "name": "stdout",
     "output_type": "stream",
     "text": [
      "Elapsed time was 1227.53 seconds\n"
     ]
    }
   ],
   "source": [
    "%%time\n",
    "#open dataset\n",
    "ds=xr.open_mfdataset(files,combine='nested',concat_dim='time',decode_cf=False,mask_and_scale=False)\n",
    "ds.close()\n",
    "ds2=xr.open_mfdataset(files2,combine='nested',concat_dim='time',decode_cf=False,mask_and_scale=False)\n",
    "ds2.close()"
   ]
  },
  {
   "cell_type": "code",
   "execution_count": 11,
   "metadata": {},
   "outputs": [],
   "source": [
    "#interpolate the v3 0.1 data onto the older 0.2 deg grid for continuity\n",
    "ds2_interp = ds2.interp(lat=ds.lat,lon=ds.lon)\n",
    "#concat the two datasets together\n",
    "ds_all = xr.concat([ds,ds2_interp],dim='time')\n",
    "#remove any duplicates\n",
    "_, index = np.unique(ds_all['time'], return_index=True)\n",
    "ds_all=ds_all.isel(time=index)\n",
    "#rechunck data  #data in int16 = 2 bytes \n",
    "ds_all = ds_all.chunk({'time':1000,'lat':300,'lon':300})"
   ]
  },
  {
   "cell_type": "code",
   "execution_count": 12,
   "metadata": {},
   "outputs": [
    {
     "data": {
      "text/plain": [
       "<xarray.backends.zarr.ZarrStore at 0x28679eff708>"
      ]
     },
     "execution_count": 12,
     "metadata": {},
     "output_type": "execute_result"
    }
   ],
   "source": [
    "#output data to zarr format\n",
    "ds_all.to_zarr(dir_pattern_zarr)"
   ]
  },
  {
   "cell_type": "markdown",
   "metadata": {},
   "source": [
    "# create AVISO zarr data files"
   ]
  },
  {
   "cell_type": "code",
   "execution_count": 3,
   "metadata": {},
   "outputs": [],
   "source": [
    "dir_pattern = 'F:/data/sat_data/aviso/data'\n",
    "dir_pattern_zarr = 'F:/data/sat_data/aviso/zarr/'\n",
    "pattern = 'F:/data/sat_data/aviso/data/*/*.nc'\n",
    "files = [x for x in glob(pattern)]"
   ]
  },
  {
   "cell_type": "code",
   "execution_count": 4,
   "metadata": {},
   "outputs": [
    {
     "name": "stdout",
     "output_type": "stream",
     "text": [
      "Wall time: 22min 57s\n"
     ]
    }
   ],
   "source": [
    "%%time\n",
    "#open dataset\n",
    "ds=xr.open_mfdataset(files,combine='nested',concat_dim='time',decode_cf=False,mask_and_scale=False)\n",
    "ds.close()\n",
    "#remove any duplicates\n",
    "_, index = np.unique(ds['time'], return_index=True)\n",
    "ds=ds.isel(time=index)\n",
    "#rechunck data  #data in int16 = 2 bytes \n",
    "ds = ds.chunk({'time':1000,'latitude':180,'longitude':180})"
   ]
  },
  {
   "cell_type": "code",
   "execution_count": 15,
   "metadata": {},
   "outputs": [
    {
     "data": {
      "text/plain": [
       "<xarray.backends.zarr.ZarrStore at 0x2867c416588>"
      ]
     },
     "execution_count": 15,
     "metadata": {},
     "output_type": "execute_result"
    }
   ],
   "source": [
    "#output data to zarr format\n",
    "ds.to_zarr(dir_pattern_zarr)"
   ]
  },
  {
   "cell_type": "markdown",
   "metadata": {},
   "source": [
    "# test on opening zarr time"
   ]
  },
  {
   "cell_type": "code",
   "execution_count": 5,
   "metadata": {},
   "outputs": [
    {
     "name": "stdout",
     "output_type": "stream",
     "text": [
      "Wall time: 616 ms\n"
     ]
    }
   ],
   "source": [
    "%%time\n",
    "ds_zarr = xr.open_zarr(dir_pattern_zarr)"
   ]
  },
  {
   "cell_type": "code",
   "execution_count": null,
   "metadata": {},
   "outputs": [],
   "source": [
    "%%time\n",
    "ts = ds.sla.sel(latitude=slice(-10,0),longitude=slice(170,180)).mean({'latitude','longitude'}).plot()"
   ]
  },
  {
   "cell_type": "code",
   "execution_count": null,
   "metadata": {},
   "outputs": [],
   "source": [
    "%%time\n",
    "ts = ds_zarr.sla.sel(latitude=slice(-10,0),longitude=slice(170,180)).mean({'latitude','longitude'}).plot()"
   ]
  },
  {
   "cell_type": "code",
   "execution_count": null,
   "metadata": {},
   "outputs": [],
   "source": []
  }
 ],
 "metadata": {
  "kernelspec": {
   "display_name": "Python 3",
   "language": "python",
   "name": "python3"
  },
  "language_info": {
   "codemirror_mode": {
    "name": "ipython",
    "version": 3
   },
   "file_extension": ".py",
   "mimetype": "text/x-python",
   "name": "python",
   "nbconvert_exporter": "python",
   "pygments_lexer": "ipython3",
   "version": "3.7.6"
  }
 },
 "nbformat": 4,
 "nbformat_minor": 4
}
