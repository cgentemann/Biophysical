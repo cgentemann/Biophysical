{
 "cells": [
  {
   "cell_type": "code",
   "execution_count": null,
   "metadata": {},
   "outputs": [],
   "source": [
    "import matplotlib.pyplot as plt\n",
    "import numpy as np\n",
    "import xarray as xr\n",
    "import pandas as pd\n",
    "import warnings\n",
    "# filter some warning messages\n",
    "warnings.filterwarnings(\"ignore\") \n",
    "from geopy.distance import geodesic \n",
    "\n",
    "####################you will need to change some paths here!#####################\n",
    "#list of input files\n",
    "#list of input files\n",
    "\n",
    "filename_aviso='F:/data/project_data/NASA_biophysical/aviso/eddy_trajectory_19930101_20170106.nc'   #From AVISO  website\n",
    "filename_bird='f:/data/project_data/NASA_biophysical/collocated_data/NPPSD_GOA_allseabird_wide.csv'\n",
    "#output files\n",
    "filename_bird_out='f:/data/project_data/NASA_biophysical/collocated_data/NPPSD_GOA_allseabird_with_sat_and eddy_data'\n",
    "filename_bird_out_netcdf='f:/data/project_data/NASA_biophysical/collocated_data/NPPSD_GOA_allseabird_wide_sat_and_eddy_data'\n",
    "#################################################################################\n",
    "filename_bird_out_eddy_netcdf='f:/data/project_data/NASA_biophysical/collocated_data/NPPSD_GOA_allseabird_with_eddy.nc'"
   ]
  },
  {
   "cell_type": "markdown",
   "metadata": {},
   "source": [
    "# Define function to read in data and put in a dictionary"
   ]
  },
  {
   "cell_type": "code",
   "execution_count": null,
   "metadata": {},
   "outputs": [],
   "source": [
    "#define function to get all the data at once, use same years for climatology for all data\n",
    "def get_data():\n",
    "    \n",
    "    #climatology years\n",
    "    cyr1,cyr2='1993-01-01','2018-12-31'\n",
    "    \n",
    "    # CCMP test\n",
    "    dir_pattern_zarr = 'F:/data/sat_data/ccmp/zarr/'\n",
    "    ds= xr.open_zarr(dir_pattern_zarr)\n",
    "    ds = ds.rename({'latitude':'lat','longitude':'lon'})\n",
    "    ds.coords['lon'] = (ds.coords['lon'] + 180) % 360 - 180\n",
    "    ds_ccmp = ds.sortby(ds.lon)\n",
    "    ds_ccmp = ds_ccmp.drop('nobs')\n",
    "    for var in ds_ccmp:\n",
    "        tem = ds_ccmp[var].attrs\n",
    "        tem['var_name']='ccmp_'+str(var)\n",
    "        ds_ccmp[var].attrs=tem\n",
    "    ds_ccmp_clim = ds_ccmp.sel(time=slice(cyr1,cyr2))\n",
    "    ds_ccmp_clim = ds_ccmp_clim.groupby('time.dayofyear').mean('time',keep_attrs=True,skipna=False)\n",
    "    \n",
    "    # AVISO test\n",
    "    dir_pattern_zarr = 'F:/data/sat_data/aviso/zarr/'\n",
    "    ds= xr.open_zarr(dir_pattern_zarr)\n",
    "    ds = ds.rename({'latitude':'lat','longitude':'lon'})\n",
    "    ds.coords['lon'] = (ds.coords['lon'] + 180) % 360 - 180\n",
    "    ds_aviso = ds.sortby(ds.lon).drop({'lat_bnds','lon_bnds','crs','err'})\n",
    "    for var in ds_aviso:\n",
    "        tem = ds_aviso[var].attrs\n",
    "        tem['var_name']='aviso_'+str(var)\n",
    "        ds_aviso[var].attrs=tem\n",
    "    ds_aviso_clim = ds_aviso.sel(time=slice(cyr1,cyr2))\n",
    "    ds_aviso_clim = ds_aviso_clim.groupby('time.dayofyear').mean('time',keep_attrs=True,skipna=False)    \n",
    "\n",
    "    #sst\n",
    "    dir_pattern_zarr = 'F:/data/sat_data/sst/cmc/zarr/'\n",
    "    ds_sst= xr.open_zarr(dir_pattern_zarr)\n",
    "    ds_sst = ds_sst.drop({'analysis_error','mask','sea_ice_fraction'})\n",
    "    tem = ds_sst.analysed_sst.attrs\n",
    "    tem['var_name']='cmc_sst'\n",
    "    ds_sst.analysed_sst.attrs=tem\n",
    "    ds_sst_clim = ds_sst.sel(time=slice(cyr1,cyr2))\n",
    "    ds_sst_clim = ds_sst_clim.groupby('time.dayofyear').mean('time',keep_attrs=True,skipna=False)\n",
    "    \n",
    "    #get bathymetry from ETOPO1\n",
    "    fname_topo = 'F:/data/topo/ETOPO1_Ice_g_gmt4.grd'\n",
    "    ds = xr.open_dataset(fname_topo)\n",
    "    ds_topo = ds.rename_dims({'x':'lon','y':'lat'}).rename({'x':'lon','y':'lat'})\n",
    "    tem = ds_topo.z.attrs\n",
    "    tem['var_name']='etopo_depth'\n",
    "    ds_topo.z.attrs=tem\n",
    "\n",
    "    #put data into a dictionary\n",
    "    data_dict={'aviso':ds_aviso,\n",
    "               'wnd':ds_ccmp,\n",
    "               'sst':ds_sst,\n",
    "              'topo':ds_topo}\n",
    "    clim_dict={'aviso_clim':ds_aviso_clim,\n",
    "               'wnd_clim':ds_ccmp_clim,\n",
    "               'sst_clim':ds_sst_clim}\n",
    "  \n",
    "    return data_dict,clim_dict"
   ]
  },
  {
   "cell_type": "code",
   "execution_count": null,
   "metadata": {},
   "outputs": [],
   "source": [
    "data,clim = get_data()"
   ]
  },
  {
   "cell_type": "markdown",
   "metadata": {},
   "source": [
    "# Collocate all data with bird data"
   ]
  },
  {
   "cell_type": "code",
   "execution_count": null,
   "metadata": {},
   "outputs": [],
   "source": [
    "input_data = 'wnd'\n",
    "#output files\n",
    "ds_bird = xr.open_dataset(filename_bird_out_eddy_netcdf)\n",
    "ilen_bird = len(ds_bird.lat)\n",
    "for name in data:\n",
    "    ds_data=data[name]\n",
    "    if name=='topo':\n",
    "        continue\n",
    "    if not name==input_data:\n",
    "        continue\n",
    "    print('name',name)   \n",
    "    for var in ds_data:\n",
    "        var_tem=ds_data[var].attrs['var_name']\n",
    "        ds_bird[var_tem]=xr.DataArray(np.empty(ilen_bird, dtype=str(ds_data[var].dtype)), coords={'index': ds_bird.index}, dims=('index'))\n",
    "        ds_bird[var_tem].attrs=ds_data[var].attrs\n",
    "    print('var',var_tem)\n",
    "#    for i in range(80000,80100):\n",
    "    for i in range(len(ds_bird.lat)):\n",
    "        if ds_bird.time[i]<ds_data.time.min():\n",
    "            continue\n",
    "        if ds_bird.time[i]>ds_data.time.max():\n",
    "            continue\n",
    "        t1,t2 = ds_bird.time[i]-np.timedelta64(24,'h'), ds_bird.time[i]+np.timedelta64(24,'h')\n",
    "        lat1,lat2=ds_bird.lat[i]-.5,ds_bird.lat[i]+.5\n",
    "        lon1,lon2=ds_bird.lon[i]-.5,ds_bird.lon[i]+.5\n",
    "        tem = ds_data.sel(time=slice(t1,t2),lat=slice(lat1,lat2),lon=slice(lon1,lon2)).load()\n",
    "        tem = tem.interp(time=ds_bird.time[i],lat=ds_bird.lat[i],lon=ds_bird.lon[i])\n",
    "        #tem = tem.load()\n",
    "        for var in ds_data:\n",
    "            var_tem=ds_data[var].attrs['var_name']\n",
    "            ds_bird[var_tem][i]=tem[var].data\n",
    "        if int(i/10000)*10000==i:\n",
    "            print(i,len(ds_bird.lat))\n",
    "#at topo info\n",
    "#interp will create a new 2D array, to avoid that put the lat/lon into dataarrays\n",
    "ds_topo=data['topo']\n",
    "new_lat = xr.DataArray(ds_bird.lat.data, dims='z')\n",
    "new_lon = xr.DataArray(ds_bird.lon.data, dims='z')\n",
    "tem = ds_topo.z.interp(lat=new_lat, lon=new_lon,method='nearest')\n",
    "ds_bird['ETOPO_depth'] = xr.DataArray(tem.data, coords={'index': ds_bird.index}, dims=('index'))\n",
    "#ds_bird = ds_bird.drop('obs')\n",
    "\n",
    "#output data\n",
    "df_bird = ds_bird.to_dataframe()\n",
    "df_bird.to_csv(filename_bird_out+input_data+'.csv')\n",
    "ds_bird.to_netcdf(filename_bird_out_netcdf+input_data+'.nc')"
   ]
  },
  {
   "cell_type": "code",
   "execution_count": null,
   "metadata": {},
   "outputs": [],
   "source": [
    "ds_bird"
   ]
  },
  {
   "cell_type": "code",
   "execution_count": null,
   "metadata": {},
   "outputs": [],
   "source": [
    "tem = ds_bird.where(ds_bird.ccmp_uwnd<-50)\n",
    "plt.scatter(tem.lat,tem.lon,c=tem.ccmp_uwnd)"
   ]
  },
  {
   "cell_type": "code",
   "execution_count": null,
   "metadata": {},
   "outputs": [],
   "source": [
    "ds_bird.ccmp_uwnd.max()"
   ]
  },
  {
   "cell_type": "code",
   "execution_count": null,
   "metadata": {},
   "outputs": [],
   "source": []
  },
  {
   "cell_type": "markdown",
   "metadata": {},
   "source": [
    "# now add clim data"
   ]
  },
  {
   "cell_type": "code",
   "execution_count": null,
   "metadata": {},
   "outputs": [],
   "source": [
    "#read in csv file in to panda dataframe\n",
    "ds_bird = pd.read_csv(filename_bird_out)\n",
    "#calculate time\n",
    "tem=np.ones(len(ds_bird),dtype='datetime64[ns]')\n",
    "for i in range(len(ds_bird)):\n",
    "    tstr = str(ds_bird.Year[i])+'-'+str(ds_bird.Month[i]).zfill(2)+'-'+str(ds_bird.Day[i]).zfill(2)\n",
    "    tem[i]=np.datetime64(tstr)\n",
    "ds_bird['time']=tem\n",
    "ds_bird"
   ]
  },
  {
   "cell_type": "code",
   "execution_count": null,
   "metadata": {},
   "outputs": [],
   "source": [
    "for name in clim:\n",
    "    ds_data=clim[name]\n",
    "    print('name',name)\n",
    "    for var in ds_data:\n",
    "        var_tem=ds_data[var].attrs['var_name']+'_clim'\n",
    "        ds_bird[var_tem]=np.ones(len(ds_bird))*np.NaN\n",
    "        ds_bird[var_tem].attrs=ds_data[var].attrs\n",
    "    print('var',var_tem)\n",
    "    for i in range(len(ds_bird)):\n",
    "        t1,t2 = ds_bird.time[i]-np.timedelta64(24,'h'), ds_bird.time[i]+np.timedelta64(24,'h')\n",
    "        lat1,lat2=ds_bird.Lat[i]-.5,ds_bird.Lat[i]+.5\n",
    "        lon1,lon2=ds_bird.Lon[i]-.5,ds_bird.Lon[i]+.5\n",
    "        tem = ds_data.sel(dayofyear=ds_bird.time[i].dayofyear,lat=slice(lat1,lat2),lon=slice(lon1,lon2)).load()\n",
    "        tem = tem.interp(lat=ds_bird.Lat[i],lon=ds_bird.Lon[i])\n",
    "        for var in ds_data:\n",
    "            var_tem=ds_data[var].attrs['var_name']+'_clim'\n",
    "            ds_bird[var_tem][i]=tem[var].data\n",
    "            \n",
    "#output data\n",
    "ds_bird.to_csv(filename_bird_out_final)\n",
    "DS_bird = xr.Dataset.from_dataframe(ds_bird)\n",
    "DS_bird.to_netcdf(filename_bird_out_netcdf_final)\n",
    "\n",
    "\n"
   ]
  },
  {
   "cell_type": "code",
   "execution_count": null,
   "metadata": {},
   "outputs": [],
   "source": []
  }
 ],
 "metadata": {
  "kernelspec": {
   "display_name": "Python 3",
   "language": "python",
   "name": "python3"
  },
  "language_info": {
   "codemirror_mode": {
    "name": "ipython",
    "version": 3
   },
   "file_extension": ".py",
   "mimetype": "text/x-python",
   "name": "python",
   "nbconvert_exporter": "python",
   "pygments_lexer": "ipython3",
   "version": "3.8.3"
  }
 },
 "nbformat": 4,
 "nbformat_minor": 2
}
