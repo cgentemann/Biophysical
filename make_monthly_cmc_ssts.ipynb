{
 "cells": [
  {
   "cell_type": "code",
   "execution_count": null,
   "metadata": {
    "scrolled": true
   },
   "outputs": [],
   "source": [
    "import pandas\n",
    "import matplotlib as mpl\n",
    "import xarray as xr\n",
    "import numpy as np\n",
    "import datetime as dt\n",
    "dir_cmc='F:/data/sst/cmc/CMC0.2deg/v2/'\n",
    "dir_cmc_clim='F:/data/sst/cmc/CMC0.2deg/v2/climatology/'\n",
    "def cmc_filename(d):\n",
    "    dir_cmc='F:/data/sst/cmc/CMC0.2deg/v2/'\n",
    "    syr=str(d.year).zfill(4)\n",
    "    smon=str(d.month).zfill(2)\n",
    "    sdym=str(d.day).zfill(2)\n",
    "    sjdy=str(idyjl).zfill(3)\n",
    "    fname_tem=syr + smon + sdym + '120000-CMC-L4_GHRSST-SSTfnd-CMC0.2deg-GLOB-v02.0-fv02.0.nc'\n",
    "    cmc_filename = dir_cmc + syr + '/' + sjdy + '/' + fname_tem\n",
    "    return cmc_filename"
   ]
  },
  {
   "cell_type": "code",
   "execution_count": null,
   "metadata": {},
   "outputs": [],
   "source": [
    "#make cmc monthly average ssts\n",
    "for lyr in range(1992,2017): #2017):\n",
    "    ds_mnth=[]\n",
    "    for imon in range(1,13):\n",
    "        init = 0\n",
    "        for idyjl in range(1,366):\n",
    "            d = dt.date(lyr,1,1) + dt.timedelta(idyjl - 1)\n",
    "            if d.month!=imon:\n",
    "                continue\n",
    "            cmc_filename = cmc_filename(d)\n",
    "            #print(cmc_filename)\n",
    "            ds = xr.open_dataset(cmc_filename,drop_variables=['analysis_error','sea_ice_fraction'])\n",
    "            ds_masked = ds.where(ds['mask'] == 1.) \n",
    "            ds.close()\n",
    "            ds_masked['sq_sst']=ds_masked.analysed_sst**2\n",
    "            if init==0:\n",
    "                ds_sum = ds_masked\n",
    "                init = 1\n",
    "            else:\n",
    "                ds_sum = xr.concat([ds_sum,ds_masked],dim = 'time')\n",
    "            print(idyjl,ds_sum.dims)\n",
    "        ds_sum = ds_sum.mean('time',skipna=True)\n",
    "        ds_mnth.append(ds_sum)\n",
    "    combined = xr.concat(ds_mnth, dim='time')\n",
    "    fname_tem='monthly/' + syr + 'monthly_average_' + syr + '120000-CMC-L4_GHRSST-SSTfnd-CMC0.2deg-GLOB-v02.0-fv02.0.nc'\n",
    "    cmc_filename_out = dir_cmc + syr + fname_tem\n",
    "    combined.to_netcdf(cmc_filename_out)\n",
    "    "
   ]
  },
  {
   "cell_type": "code",
   "execution_count": null,
   "metadata": {},
   "outputs": [],
   "source": [
    "#make cmc climatology from monthly files\n",
    "init = 0\n",
    "for lyr in range(1992,2005): #2018): \n",
    "    fname_tem='monthly/' + str(lyr) + 'monthly_average_' + str(lyr) + '120000-CMC-L4_GHRSST-SSTfnd-CMC0.2deg-GLOB-v02.0-fv02.0.nc'\n",
    "    cmc_filename_out = dir_cmc + fname_tem\n",
    "    ds = xr.open_dataset(cmc_filename_out)\n",
    "    ds_masked = ds.where(ds['mask'] == 1.) \n",
    "    if init==0:\n",
    "        ds_sum = ds_masked\n",
    "        init = 1\n",
    "    else:\n",
    "        ds_sum = xr.concat([ds_sum,ds_masked],dim = 'time')\n",
    "    print(lyr,ds_sum.dims)\n",
    "ds_sum = ds_sum.mean('time',skipna=True)\n",
    "fname_tem='monthly/monthly_climatology_1992_2004_120000-CMC-L4_GHRSST-SSTfnd-CMC0.2deg-GLOB-v02.0-fv02.0.nc'\n",
    "cmc_filename_out = dir_cmc + fname_tem\n",
    "ds_sum.to_netcdf(cmc_filename_out)\n",
    "init = 0\n",
    "for lyr in range(2005,2018): #2018): \n",
    "    fname_tem='monthly/' + str(lyr) + 'monthly_average_' + str(lyr) + '120000-CMC-L4_GHRSST-SSTfnd-CMC0.2deg-GLOB-v02.0-fv02.0.nc'\n",
    "    cmc_filename_out = dir_cmc + fname_tem\n",
    "    ds = xr.open_dataset(cmc_filename_out)\n",
    "    ds_masked = ds.where(ds['mask'] == 1.) \n",
    "    if init==0:\n",
    "        ds_sum = ds_masked\n",
    "        init = 1\n",
    "    else:\n",
    "        ds_sum = xr.concat([ds_sum,ds_masked],dim = 'time')\n",
    "    print(lyr,ds_sum.dims)\n",
    "ds_sum = ds_sum.mean('time',skipna=True)\n",
    "fname_tem='monthly/monthly_climatology_2005_2017_120000-CMC-L4_GHRSST-SSTfnd-CMC0.2deg-GLOB-v02.0-fv02.0.nc'\n",
    "cmc_filename_out = dir_cmc + fname_tem\n",
    "ds_sum.to_netcdf(cmc_filename_out)\n",
    "    "
   ]
  },
  {
   "cell_type": "code",
   "execution_count": null,
   "metadata": {},
   "outputs": [],
   "source": [
    "fname_tem=dir_cmc + 'monthly/monthly_climatology_1992_2004_120000-CMC-L4_GHRSST-SSTfnd-CMC0.2deg-GLOB-v02.0-fv02.0.nc'\n",
    "print(fname_tem)\n",
    "ds = xr.open_dataset(fname_tem)\n",
    "ds_masked = ds.where(ds['mask'] == 1.) \n",
    "ds.close()\n",
    "fname_tem=dir_cmc + 'monthly/monthly_climatology_2005_2017_120000-CMC-L4_GHRSST-SSTfnd-CMC0.2deg-GLOB-v02.0-fv02.0.nc'\n",
    "print(fname_tem)\n",
    "ds = xr.open_dataset(fname_tem)\n",
    "ds_masked2 = ds.where(ds['mask'] == 1.) \n",
    "#ds_sum = xr.concat([ds_masked2,ds_masked],dim = 'time')\n",
    "ds.close()\n",
    "ds_ave = .5* (ds_masked + ds_masked)\n",
    "#ds_sum = ds_sum.mean('time',skipna=True)\n",
    "fname_tem=dir_cmc + 'monthly/monthly_climatology_1992_2017_120000-CMC-L4_GHRSST-SSTfnd-CMC0.2deg-GLOB-v02.0-fv02.0.nc'\n",
    "print(fname_tem)\n",
    "ds_ave.to_netcdf(fname_tem)\n"
   ]
  },
  {
   "cell_type": "code",
   "execution_count": null,
   "metadata": {},
   "outputs": [],
   "source": [
    "#testing nan in arrays\n",
    "lyr,idyjl=2017,10\n",
    "d = dt.date(lyr,1,1) + dt.timedelta(idyjl - 1)\n",
    "cmc_filename = cmc_filename(d)\n",
    "print(cmc_filename)\n",
    "ds = xr.open_dataset(cmc_filename,drop_variables=['analysis_error','sea_ice_fraction'])\n",
    "ds_masked = ds.where(ds['mask'] == 1.) \n",
    "ds.close()\n",
    "ds_masked.analysed_sst[0,0]"
   ]
  },
  {
   "cell_type": "code",
   "execution_count": null,
   "metadata": {},
   "outputs": [],
   "source": [
    "lyr=2002\n",
    "fname_tem='monthly/' + str(lyr) + 'monthly_average_' + str(lyr) + '120000-CMC-L4_GHRSST-SSTfnd-CMC0.2deg-GLOB-v02.0-fv02.0.nc'\n",
    "cmc_filename_out = dir_cmc + fname_tem\n",
    "ds = xr.open_dataset(cmc_filename_out)\n",
    "ds_masked = ds.where(ds['mask'] == 1.) \n",
    "print(ds.analysed_sst[0,0],ds_masked.analysed_sst[0,0])\n",
    "ds.close()"
   ]
  },
  {
   "cell_type": "code",
   "execution_count": null,
   "metadata": {},
   "outputs": [],
   "source": [
    "#testing\n",
    "ds_ave = .5* (ds_masked + ds_masked)"
   ]
  },
  {
   "cell_type": "code",
   "execution_count": null,
   "metadata": {},
   "outputs": [],
   "source": [
    "ds_ave.analysed_sst.plot()"
   ]
  },
  {
   "cell_type": "code",
   "execution_count": null,
   "metadata": {},
   "outputs": [],
   "source": [
    "ds_ave"
   ]
  },
  {
   "cell_type": "code",
   "execution_count": null,
   "metadata": {},
   "outputs": [],
   "source": []
  }
 ],
 "metadata": {
  "kernelspec": {
   "display_name": "Python 3",
   "language": "python",
   "name": "python3"
  },
  "language_info": {
   "codemirror_mode": {
    "name": "ipython",
    "version": 3
   },
   "file_extension": ".py",
   "mimetype": "text/x-python",
   "name": "python",
   "nbconvert_exporter": "python",
   "pygments_lexer": "ipython3",
   "version": "3.7.0"
  }
 },
 "nbformat": 4,
 "nbformat_minor": 2
}
