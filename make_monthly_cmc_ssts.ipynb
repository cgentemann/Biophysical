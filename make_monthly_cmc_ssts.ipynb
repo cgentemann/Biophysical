{
 "cells": [
  {
   "cell_type": "code",
   "execution_count": 2,
   "metadata": {
    "scrolled": true
   },
   "outputs": [],
   "source": [
    "import pandas\n",
    "import matplotlib as mpl\n",
    "import xarray as xr\n",
    "import numpy as np\n",
    "import datetime as dt\n",
    "dir_cmc='F:/data/sst/cmc/CMC0.2deg/v2/'\n",
    "dir_cmc_clim='F:/data/sst/cmc/CMC0.2deg/v2/climatology/'"
   ]
  },
  {
   "cell_type": "code",
   "execution_count": null,
   "metadata": {},
   "outputs": [],
   "source": [
    "#make cmc monthly average ssts\n",
    "for lyr in range(1992,2017): #2017):\n",
    "    ds_mnth=[]\n",
    "    for imon in range(1,13):\n",
    "        init = 0\n",
    "        for idyjl in range(1,366):\n",
    "            d = dt.date(lyr,1,1) + dt.timedelta(idyjl - 1)\n",
    "            if d.month!=imon:\n",
    "                continue\n",
    "            syr=str(d.year).zfill(4)\n",
    "            smon=str(d.month).zfill(2)\n",
    "            sdym=str(d.day).zfill(2)\n",
    "            sjdy=str(idyjl).zfill(3)\n",
    "            fname_tem=syr + smon + sdym + '120000-CMC-L4_GHRSST-SSTfnd-CMC0.2deg-GLOB-v02.0-fv02.0.nc'\n",
    "            cmc_filename = dir_cmc + syr + '/' + sjdy + '/' + fname_tem\n",
    "            #print(cmc_filename)\n",
    "            ds = xr.open_dataset(cmc_filename,drop_variables=['analysis_error','sea_ice_fraction'])\n",
    "            ds_masked = ds.where(ds['mask'] == 1.) \n",
    "            ds.close()\n",
    "            #ds_masked = ds_masked.fillna(0)\n",
    "            ds_masked['sq_sst']=ds_masked.analysed_sst**2\n",
    "            if init==0:\n",
    "                ds_sum = ds_masked\n",
    "                init = 1\n",
    "            else:\n",
    "                ds_sum = xr.concat([ds_sum,ds_masked],dim = 'time')\n",
    "            print(idyjl,ds_sum.dims)\n",
    "        ds_sum = ds_sum.mean('time',skipna=True)\n",
    "        ds_mnth.append(ds_sum)\n",
    "    combined = xr.concat(ds_mnth, dim='time')\n",
    "    fname_tem='monthly/monthly_average_' + syr + '120000-CMC-L4_GHRSST-SSTfnd-CMC0.2deg-GLOB-v02.0-fv02.0.nc'\n",
    "    cmc_filename_out = dir_cmc + syr + fname_tem\n",
    "    combined.to_netcdf(cmc_filename_out)\n",
    "    "
   ]
  },
  {
   "cell_type": "code",
   "execution_count": 4,
   "metadata": {},
   "outputs": [
    {
     "ename": "NameError",
     "evalue": "name 'syr' is not defined",
     "output_type": "error",
     "traceback": [
      "\u001b[1;31m---------------------------------------------------------------------------\u001b[0m",
      "\u001b[1;31mNameError\u001b[0m                                 Traceback (most recent call last)",
      "\u001b[1;32m<ipython-input-4-df2f1a8a199e>\u001b[0m in \u001b[0;36m<module>\u001b[1;34m\u001b[0m\n\u001b[0;32m      2\u001b[0m \u001b[1;32mfor\u001b[0m \u001b[0mlyr\u001b[0m \u001b[1;32min\u001b[0m \u001b[0mrange\u001b[0m\u001b[1;33m(\u001b[0m\u001b[1;36m1992\u001b[0m\u001b[1;33m,\u001b[0m\u001b[1;36m2018\u001b[0m\u001b[1;33m)\u001b[0m\u001b[1;33m:\u001b[0m\u001b[1;33m\u001b[0m\u001b[0m\n\u001b[0;32m      3\u001b[0m     \u001b[0mfname_tem\u001b[0m\u001b[1;33m=\u001b[0m\u001b[1;34m'monthly/monthly_average_'\u001b[0m \u001b[1;33m+\u001b[0m \u001b[0mstr\u001b[0m\u001b[1;33m(\u001b[0m\u001b[0mlyr\u001b[0m\u001b[1;33m)\u001b[0m \u001b[1;33m+\u001b[0m \u001b[1;34m'120000-CMC-L4_GHRSST-SSTfnd-CMC0.2deg-GLOB-v02.0-fv02.0.nc'\u001b[0m\u001b[1;33m\u001b[0m\u001b[0m\n\u001b[1;32m----> 4\u001b[1;33m     \u001b[0mcmc_filename_out\u001b[0m \u001b[1;33m=\u001b[0m \u001b[0mdir_cmc\u001b[0m \u001b[1;33m+\u001b[0m \u001b[0msyr\u001b[0m \u001b[1;33m+\u001b[0m \u001b[0mfname_tem\u001b[0m\u001b[1;33m\u001b[0m\u001b[0m\n\u001b[0m\u001b[0;32m      5\u001b[0m     \u001b[0mds\u001b[0m \u001b[1;33m=\u001b[0m \u001b[0mxr\u001b[0m\u001b[1;33m.\u001b[0m\u001b[0mopen_dataset\u001b[0m\u001b[1;33m(\u001b[0m\u001b[0mcmc_filename_out\u001b[0m\u001b[1;33m)\u001b[0m\u001b[1;33m\u001b[0m\u001b[0m\n\u001b[0;32m      6\u001b[0m     \u001b[1;32mif\u001b[0m \u001b[0minit\u001b[0m\u001b[1;33m==\u001b[0m\u001b[1;36m0\u001b[0m\u001b[1;33m:\u001b[0m\u001b[1;33m\u001b[0m\u001b[0m\n",
      "\u001b[1;31mNameError\u001b[0m: name 'syr' is not defined"
     ]
    }
   ],
   "source": [
    "#make cmc climatology from monthly files\n",
    "for lyr in range(1992,2018): \n",
    "    fname_tem='monthly/' + syr + 'monthly_average_' + str(lyr) + '120000-CMC-L4_GHRSST-SSTfnd-CMC0.2deg-GLOB-v02.0-fv02.0.nc'\n",
    "    cmc_filename_out = dir_cmc + fname_tem\n",
    "    ds = xr.open_dataset(cmc_filename_out)\n",
    "    if init==0:\n",
    "        ds_sum = ds\n",
    "        init = 1\n",
    "    else:\n",
    "        ds_sum = xr.concat([ds_sum,ds],dim = 'time')\n",
    "    print(idyjl,ds_sum.dims)\n",
    "ds_sum = ds_sum.mean('time',skipna=True)\n",
    "fname_tem='monthly_climatology_1992_2017_120000-CMC-L4_GHRSST-SSTfnd-CMC0.2deg-GLOB-v02.0-fv02.0.nc'\n",
    "cmc_filename_out = dir_cmc + syr + fname_tem\n",
    "combined.to_netcdf(cmc_filename_out)\n",
    "\n",
    "    "
   ]
  },
  {
   "cell_type": "code",
   "execution_count": null,
   "metadata": {},
   "outputs": [],
   "source": []
  },
  {
   "cell_type": "code",
   "execution_count": null,
   "metadata": {},
   "outputs": [],
   "source": [
    "\n"
   ]
  },
  {
   "cell_type": "code",
   "execution_count": null,
   "metadata": {},
   "outputs": [],
   "source": [
    "ds2"
   ]
  },
  {
   "cell_type": "code",
   "execution_count": null,
   "metadata": {},
   "outputs": [],
   "source": []
  }
 ],
 "metadata": {
  "kernelspec": {
   "display_name": "Python 3",
   "language": "python",
   "name": "python3"
  },
  "language_info": {
   "codemirror_mode": {
    "name": "ipython",
    "version": 3
   },
   "file_extension": ".py",
   "mimetype": "text/x-python",
   "name": "python",
   "nbconvert_exporter": "python",
   "pygments_lexer": "ipython3",
   "version": "3.7.0"
  }
 },
 "nbformat": 4,
 "nbformat_minor": 2
}
