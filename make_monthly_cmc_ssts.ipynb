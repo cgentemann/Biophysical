{
 "cells": [
  {
   "cell_type": "code",
   "execution_count": 1,
   "metadata": {
    "scrolled": true
   },
   "outputs": [],
   "source": [
    "import pandas\n",
    "import matplotlib as mpl\n",
    "import xarray as xr\n",
    "import numpy as np\n",
    "import datetime as dt\n",
    "dir_cmc='F:/data/sst/cmc/CMC0.2deg/v2/'\n",
    "dir_cmc_clim='F:/data/sst/cmc/CMC0.2deg/v2/climatology/'\n"
   ]
  },
  {
   "cell_type": "code",
   "execution_count": null,
   "metadata": {},
   "outputs": [],
   "source": [
    "#make cmc monthly average ssts\n",
    "for lyr in range(1992,2017): #2017):\n",
    "    ds_mnth=[]\n",
    "    for imon in range(1,13):\n",
    "        init = 0\n",
    "        for idyjl in range(1,366):\n",
    "            d = dt.date(lyr,1,1) + dt.timedelta(idyjl - 1)\n",
    "            if d.month!=imon:\n",
    "                continue\n",
    "            syr=str(d.year).zfill(4)\n",
    "            smon=str(d.month).zfill(2)\n",
    "            sdym=str(d.day).zfill(2)\n",
    "            sjdy=str(idyjl).zfill(3)\n",
    "            fname_tem=syr + smon + sdym + '120000-CMC-L4_GHRSST-SSTfnd-CMC0.2deg-GLOB-v02.0-fv02.0.nc'\n",
    "            cmc_filename = dir_cmc + syr + '/' + sjdy + '/' + fname_tem\n",
    "            #print(cmc_filename)\n",
    "            ds = xr.open_dataset(cmc_filename,drop_variables=['analysis_error','sea_ice_fraction'])\n",
    "            ds_masked = ds.where(ds['mask'] == 1.) \n",
    "            ds.close()\n",
    "            ds_masked = ds_masked.fillna(0)\n",
    "            ds_masked['sq_sst']=ds_masked.analysed_sst**2\n",
    "            if init==0:\n",
    "                ds_sum = ds_masked\n",
    "                init = 1\n",
    "            else:\n",
    "                ds_sum = xr.concat([ds_sum,ds_masked],dim = 'time')\n",
    "            print(idyjl,ds_sum.dims)\n",
    "        ds_sum = ds_sum.mean('time')\n",
    "        ds_mnth.append(ds_sum)\n",
    "    combined = xr.concat(ds_mnth, dim='time')\n",
    "    fname_tem='monthly_average_' + syr + '120000-CMC-L4_GHRSST-SSTfnd-CMC0.2deg-GLOB-v02.0-fv02.0.nc'\n",
    "    cmc_filename_out = dir_cmc + syr + fname_tem\n",
    "    combined.to_netcdf(cmc_filename_out)\n",
    "    "
   ]
  },
  {
   "cell_type": "code",
   "execution_count": 6,
   "metadata": {},
   "outputs": [
    {
     "ename": "KeyError",
     "evalue": "'mask'",
     "output_type": "error",
     "traceback": [
      "\u001b[1;31m---------------------------------------------------------------------------\u001b[0m",
      "\u001b[1;31mKeyError\u001b[0m                                  Traceback (most recent call last)",
      "\u001b[1;32m~\\Miniconda3\\lib\\site-packages\\xarray\\core\\dataset.py\u001b[0m in \u001b[0;36m_construct_dataarray\u001b[1;34m(self, name)\u001b[0m\n\u001b[0;32m    886\u001b[0m         \u001b[1;32mtry\u001b[0m\u001b[1;33m:\u001b[0m\u001b[1;33m\u001b[0m\u001b[0m\n\u001b[1;32m--> 887\u001b[1;33m             \u001b[0mvariable\u001b[0m \u001b[1;33m=\u001b[0m \u001b[0mself\u001b[0m\u001b[1;33m.\u001b[0m\u001b[0m_variables\u001b[0m\u001b[1;33m[\u001b[0m\u001b[0mname\u001b[0m\u001b[1;33m]\u001b[0m\u001b[1;33m\u001b[0m\u001b[0m\n\u001b[0m\u001b[0;32m    888\u001b[0m         \u001b[1;32mexcept\u001b[0m \u001b[0mKeyError\u001b[0m\u001b[1;33m:\u001b[0m\u001b[1;33m\u001b[0m\u001b[0m\n",
      "\u001b[1;31mKeyError\u001b[0m: 'mask'",
      "\nDuring handling of the above exception, another exception occurred:\n",
      "\u001b[1;31mKeyError\u001b[0m                                  Traceback (most recent call last)",
      "\u001b[1;32m<ipython-input-6-5573206f34c8>\u001b[0m in \u001b[0;36m<module>\u001b[1;34m\u001b[0m\n\u001b[0;32m     18\u001b[0m             \u001b[1;31m#print(cmc_filename)\u001b[0m\u001b[1;33m\u001b[0m\u001b[1;33m\u001b[0m\u001b[0m\n\u001b[0;32m     19\u001b[0m         \u001b[0mds\u001b[0m \u001b[1;33m=\u001b[0m \u001b[0mxr\u001b[0m\u001b[1;33m.\u001b[0m\u001b[0mopen_dataset\u001b[0m\u001b[1;33m(\u001b[0m\u001b[0mcmc_filename2\u001b[0m\u001b[1;33m)\u001b[0m \u001b[1;31m#,drop_variables=['analysis_error','sea_ice_fraction'])\u001b[0m\u001b[1;33m\u001b[0m\u001b[0m\n\u001b[1;32m---> 20\u001b[1;33m         \u001b[0mds_masked\u001b[0m \u001b[1;33m=\u001b[0m \u001b[0mds\u001b[0m\u001b[1;33m.\u001b[0m\u001b[0mwhere\u001b[0m\u001b[1;33m(\u001b[0m\u001b[0mds\u001b[0m\u001b[1;33m[\u001b[0m\u001b[1;34m'mask'\u001b[0m\u001b[1;33m]\u001b[0m \u001b[1;33m==\u001b[0m \u001b[1;36m1.\u001b[0m\u001b[1;33m)\u001b[0m\u001b[1;33m\u001b[0m\u001b[0m\n\u001b[0m\u001b[0;32m     21\u001b[0m         \u001b[0mds\u001b[0m\u001b[1;33m.\u001b[0m\u001b[0mclose\u001b[0m\u001b[1;33m(\u001b[0m\u001b[1;33m)\u001b[0m\u001b[1;33m\u001b[0m\u001b[0m\n\u001b[0;32m     22\u001b[0m         \u001b[0mds_masked\u001b[0m \u001b[1;33m=\u001b[0m \u001b[0mds_masked\u001b[0m\u001b[1;33m.\u001b[0m\u001b[0mfillna\u001b[0m\u001b[1;33m(\u001b[0m\u001b[1;36m0\u001b[0m\u001b[1;33m)\u001b[0m\u001b[1;33m\u001b[0m\u001b[0m\n",
      "\u001b[1;32m~\\Miniconda3\\lib\\site-packages\\xarray\\core\\dataset.py\u001b[0m in \u001b[0;36m__getitem__\u001b[1;34m(self, key)\u001b[0m\n\u001b[0;32m    959\u001b[0m \u001b[1;33m\u001b[0m\u001b[0m\n\u001b[0;32m    960\u001b[0m         \u001b[1;32mif\u001b[0m \u001b[0mhashable\u001b[0m\u001b[1;33m(\u001b[0m\u001b[0mkey\u001b[0m\u001b[1;33m)\u001b[0m\u001b[1;33m:\u001b[0m\u001b[1;33m\u001b[0m\u001b[0m\n\u001b[1;32m--> 961\u001b[1;33m             \u001b[1;32mreturn\u001b[0m \u001b[0mself\u001b[0m\u001b[1;33m.\u001b[0m\u001b[0m_construct_dataarray\u001b[0m\u001b[1;33m(\u001b[0m\u001b[0mkey\u001b[0m\u001b[1;33m)\u001b[0m\u001b[1;33m\u001b[0m\u001b[0m\n\u001b[0m\u001b[0;32m    962\u001b[0m         \u001b[1;32melse\u001b[0m\u001b[1;33m:\u001b[0m\u001b[1;33m\u001b[0m\u001b[0m\n\u001b[0;32m    963\u001b[0m             \u001b[1;32mreturn\u001b[0m \u001b[0mself\u001b[0m\u001b[1;33m.\u001b[0m\u001b[0m_copy_listed\u001b[0m\u001b[1;33m(\u001b[0m\u001b[0mnp\u001b[0m\u001b[1;33m.\u001b[0m\u001b[0masarray\u001b[0m\u001b[1;33m(\u001b[0m\u001b[0mkey\u001b[0m\u001b[1;33m)\u001b[0m\u001b[1;33m)\u001b[0m\u001b[1;33m\u001b[0m\u001b[0m\n",
      "\u001b[1;32m~\\Miniconda3\\lib\\site-packages\\xarray\\core\\dataset.py\u001b[0m in \u001b[0;36m_construct_dataarray\u001b[1;34m(self, name)\u001b[0m\n\u001b[0;32m    888\u001b[0m         \u001b[1;32mexcept\u001b[0m \u001b[0mKeyError\u001b[0m\u001b[1;33m:\u001b[0m\u001b[1;33m\u001b[0m\u001b[0m\n\u001b[0;32m    889\u001b[0m             _, name, variable = _get_virtual_variable(\n\u001b[1;32m--> 890\u001b[1;33m                 self._variables, name, self._level_coords, self.dims)\n\u001b[0m\u001b[0;32m    891\u001b[0m \u001b[1;33m\u001b[0m\u001b[0m\n\u001b[0;32m    892\u001b[0m         \u001b[0mcoords\u001b[0m \u001b[1;33m=\u001b[0m \u001b[0mOrderedDict\u001b[0m\u001b[1;33m(\u001b[0m\u001b[1;33m)\u001b[0m\u001b[1;33m\u001b[0m\u001b[0m\n",
      "\u001b[1;32m~\\Miniconda3\\lib\\site-packages\\xarray\\core\\dataset.py\u001b[0m in \u001b[0;36m_get_virtual_variable\u001b[1;34m(variables, key, level_vars, dim_sizes)\u001b[0m\n\u001b[0;32m     74\u001b[0m         \u001b[0mref_var\u001b[0m \u001b[1;33m=\u001b[0m \u001b[0mdim_var\u001b[0m\u001b[1;33m.\u001b[0m\u001b[0mto_index_variable\u001b[0m\u001b[1;33m(\u001b[0m\u001b[1;33m)\u001b[0m\u001b[1;33m.\u001b[0m\u001b[0mget_level_variable\u001b[0m\u001b[1;33m(\u001b[0m\u001b[0mref_name\u001b[0m\u001b[1;33m)\u001b[0m\u001b[1;33m\u001b[0m\u001b[0m\n\u001b[0;32m     75\u001b[0m     \u001b[1;32melse\u001b[0m\u001b[1;33m:\u001b[0m\u001b[1;33m\u001b[0m\u001b[0m\n\u001b[1;32m---> 76\u001b[1;33m         \u001b[0mref_var\u001b[0m \u001b[1;33m=\u001b[0m \u001b[0mvariables\u001b[0m\u001b[1;33m[\u001b[0m\u001b[0mref_name\u001b[0m\u001b[1;33m]\u001b[0m\u001b[1;33m\u001b[0m\u001b[0m\n\u001b[0m\u001b[0;32m     77\u001b[0m \u001b[1;33m\u001b[0m\u001b[0m\n\u001b[0;32m     78\u001b[0m     \u001b[1;32mif\u001b[0m \u001b[0mvar_name\u001b[0m \u001b[1;32mis\u001b[0m \u001b[1;32mNone\u001b[0m\u001b[1;33m:\u001b[0m\u001b[1;33m\u001b[0m\u001b[0m\n",
      "\u001b[1;31mKeyError\u001b[0m: 'mask'"
     ]
    }
   ],
   "source": [
    "#make cmc monthly average climatology\n",
    "dir_cmc='F:/data/sst/cmc/CMC0.2deg/v2/'\n",
    "dir_cmc_clim='F:/data/sst/cmc/CMC0.2deg/v2/climatology/'\n",
    "#for lyr in range(1992,2017): #2017):\n",
    "ds_mnth=[]\n",
    "for imon in range(1,13):\n",
    "    init = 0\n",
    "    for idyjl in range(1,366):\n",
    "        d = dt.date(2000,1,1) + dt.timedelta(idyjl - 1)\n",
    "        if d.month!=imon:\n",
    "            continue\n",
    "        syr=str(d.year).zfill(4)\n",
    "        smon=str(d.month).zfill(2)\n",
    "        sdym=str(d.day).zfill(2)\n",
    "        sjdy=str(idyjl).zfill(3)\n",
    "        fname_tem='clim1993_2016' + sjdy + '-CMC-L4_GHRSST-SSTfnd-CMC0.2deg-GLOB-v02.0-fv02.0.nc'\n",
    "        cmc_filename2 = dir_cmc_clim + fname_tem\n",
    "            #print(cmc_filename)\n",
    "        ds = xr.open_dataset(cmc_filename2) #,drop_variables=['analysis_error','sea_ice_fraction'])\n",
    "        ds_masked = ds.where(ds['mask'] == 1.) \n",
    "        ds.close()\n",
    "        ds_masked = ds_masked.fillna(0)\n",
    "        ds_masked['sq_sst']=ds_masked.analysed_sst**2\n",
    "        if init==0:\n",
    "            ds_sum = ds_masked\n",
    "            init = 1\n",
    "        else:\n",
    "            ds_sum = xr.concat([ds_sum,ds_masked],dim = 'time')\n",
    "        print(idyjl,ds_sum.dims)\n",
    "    ds_sum = ds_sum.mean('time')\n",
    "    ds_mnth.append(ds_sum)\n",
    "combined = xr.concat(ds_mnth, dim='time')\n",
    "fname_tem='clim_monthly_average_120000-CMC-L4_GHRSST-SSTfnd-CMC0.2deg-GLOB-v02.0-fv02.0.nc'\n",
    "cmc_filename_out = dir_cmc + syr + fname_tem\n",
    "combined.to_netcdf(cmc_filename_out)\n",
    "    "
   ]
  },
  {
   "cell_type": "code",
   "execution_count": 7,
   "metadata": {},
   "outputs": [
    {
     "data": {
      "text/plain": [
       "<xarray.Dataset>\n",
       "Dimensions:  (t: 1, x: 1800, y: 901)\n",
       "Dimensions without coordinates: t, x, y\n",
       "Data variables:\n",
       "    lon      (x) float32 ...\n",
       "    lat      (y) float32 ...\n",
       "    sst      (t, y, x) float32 ..."
      ]
     },
     "execution_count": 7,
     "metadata": {},
     "output_type": "execute_result"
    }
   ],
   "source": [
    "ds"
   ]
  },
  {
   "cell_type": "code",
   "execution_count": null,
   "metadata": {},
   "outputs": [],
   "source": []
  },
  {
   "cell_type": "code",
   "execution_count": null,
   "metadata": {},
   "outputs": [],
   "source": []
  },
  {
   "cell_type": "code",
   "execution_count": null,
   "metadata": {},
   "outputs": [],
   "source": []
  },
  {
   "cell_type": "code",
   "execution_count": null,
   "metadata": {},
   "outputs": [],
   "source": []
  },
  {
   "cell_type": "code",
   "execution_count": null,
   "metadata": {},
   "outputs": [],
   "source": [
    " \n"
   ]
  },
  {
   "cell_type": "code",
   "execution_count": null,
   "metadata": {},
   "outputs": [],
   "source": []
  },
  {
   "cell_type": "code",
   "execution_count": null,
   "metadata": {},
   "outputs": [],
   "source": []
  },
  {
   "cell_type": "code",
   "execution_count": null,
   "metadata": {},
   "outputs": [],
   "source": []
  },
  {
   "cell_type": "code",
   "execution_count": null,
   "metadata": {},
   "outputs": [],
   "source": []
  }
 ],
 "metadata": {
  "kernelspec": {
   "display_name": "Python 3",
   "language": "python",
   "name": "python3"
  },
  "language_info": {
   "codemirror_mode": {
    "name": "ipython",
    "version": 3
   },
   "file_extension": ".py",
   "mimetype": "text/x-python",
   "name": "python",
   "nbconvert_exporter": "python",
   "pygments_lexer": "ipython3",
   "version": "3.7.0"
  }
 },
 "nbformat": 4,
 "nbformat_minor": 2
}
