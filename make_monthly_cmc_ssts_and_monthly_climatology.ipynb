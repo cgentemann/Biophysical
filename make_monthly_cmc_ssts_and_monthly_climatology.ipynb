{
 "cells": [
  {
   "cell_type": "code",
   "execution_count": 3,
   "metadata": {
    "scrolled": true
   },
   "outputs": [],
   "source": [
    "import pandas\n",
    "import matplotlib as mpl\n",
    "import xarray as xr\n",
    "import numpy as np\n",
    "import datetime as dt\n",
    "dir_cmc='F:/data/sst/cmc/CMC0.2deg/v2/'\n",
    "dir_cmc_clim='F:/data/sst/cmc/CMC0.2deg/v2/climatology/'\n",
    "def get_filename(lyr,idyjl):\n",
    "    d = dt.date(lyr,1,1) + dt.timedelta(idyjl - 1)\n",
    "    dir_cmc='F:/data/sst/cmc/CMC0.2deg/v2/'\n",
    "    syr=str(d.year).zfill(4)\n",
    "    smon=str(d.month).zfill(2)\n",
    "    sdym=str(d.day).zfill(2)\n",
    "    sjdy=str(idyjl).zfill(3)\n",
    "    fname_tem=syr + smon + sdym + '120000-CMC-L4_GHRSST-SSTfnd-CMC0.2deg-GLOB-v02.0-fv02.0.nc'\n",
    "    cmc_filename = dir_cmc + syr + '/' + sjdy + '/' + fname_tem\n",
    "    return cmc_filename\n",
    "def get_filename_v3(lyr,idyjl):\n",
    "    d = dt.date(lyr,1,1) + dt.timedelta(idyjl - 1)\n",
    "    dir_cmc='F:/data/sst/cmc/CMC0.1deg/v3/'\n",
    "    syr=str(d.year).zfill(4)\n",
    "    smon=str(d.month).zfill(2)\n",
    "    sdym=str(d.day).zfill(2)\n",
    "    sjdy=str(idyjl).zfill(3)\n",
    "    fname_tem=syr + smon + sdym + '120000-CMC-L4_GHRSST-SSTfnd-CMC0.1deg-GLOB-v02.0-fv03.0.nc'\n",
    "    cmc_filename = dir_cmc + syr + '/' + sjdy + '/' + fname_tem\n",
    "    return cmc_filename"
   ]
  },
  {
   "cell_type": "code",
   "execution_count": null,
   "metadata": {},
   "outputs": [],
   "source": []
  },
  {
   "cell_type": "code",
   "execution_count": null,
   "metadata": {},
   "outputs": [],
   "source": [
    "#make cmc monthly average ssts\n",
    "for lyr in range(1992,2017): #2017):\n",
    "    ds_mnth=[]\n",
    "    for imon in range(1,13):\n",
    "        init = 0\n",
    "        for idyjl in range(1,366):\n",
    "            d = dt.date(lyr,1,1) + dt.timedelta(idyjl - 1)\n",
    "            if d.month!=imon:\n",
    "                continue\n",
    "            cmc_filename = get_filename(lyr,idyjl)\n",
    "            print(cmc_filename)\n",
    "            ds = xr.open_dataset(cmc_filename,drop_variables=['analysis_error','sea_ice_fraction'])\n",
    "            ds_masked = ds.where(ds['mask'] == 1.) \n",
    "            ds.close()\n",
    "            ds_masked['sq_sst']=ds_masked.analysed_sst**2\n",
    "            if init==0:\n",
    "                ds_sum = ds_masked\n",
    "                init = 1\n",
    "            else:\n",
    "                ds_sum = xr.concat([ds_sum,ds_masked],dim = 'time')\n",
    "            print(idyjl,ds_sum.dims)\n",
    "        ds_clim2 = ds_sum.resample(time='M').mean()    \n",
    "#        ds_clim2 = ds_sum.groupby('time.month').mean('time')\n",
    "        #ds_sum = ds_sum.mean('time',skipna=True)\n",
    "        ds_mnth.append(ds_clim2)\n",
    "    combined = xr.concat(ds_mnth, dim='time')\n",
    "    fname_tem='monthly/' + str(lyr) + 'monthly_average_120000-CMC-L4_GHRSST-SSTfnd-CMC0.2deg-GLOB-v02.0-fv02.0.nc'\n",
    "    cmc_filename_out = dir_cmc + fname_tem\n",
    "    combined.to_netcdf(cmc_filename_out)\n",
    "    "
   ]
  },
  {
   "cell_type": "code",
   "execution_count": null,
   "metadata": {},
   "outputs": [],
   "source": [
    "#make cmc monthly average ssts FOR 0.1 deg data\n",
    "#first read in 0.2 deg grid to interpolate onto\n",
    "\n",
    "#testing 0.1 CMC\n",
    "filename = 'F:/data/sst/cmc/CMC0.2deg/v2/1992/011/19920111120000-CMC-L4_GHRSST-SSTfnd-CMC0.2deg-GLOB-v02.0-fv02.0.nc'\n",
    "ds_v2 = xr.open_dataset(filename)\n",
    "new_lat = np.linspace(ds_v2.lat[0], ds_v2.lat[-1], ds_v2.dims['lat'])\n",
    "new_lon = np.linspace(ds_v2.lon[0], ds_v2.lon[-1], ds_v2.dims['lon'])\n",
    "\n",
    "for lyr in range(2017,2019): #2017):\n",
    "    ds_mnth=[]\n",
    "    for imon in range(1,13):\n",
    "        init = 0\n",
    "        for idyjl in range(1,366):\n",
    "            d = dt.date(lyr,1,1) + dt.timedelta(idyjl - 1)\n",
    "            if d.month!=imon:\n",
    "                continue\n",
    "            cmc_filename = get_filename_v3(lyr,idyjl)\n",
    "            print(cmc_filename)\n",
    "            ds = xr.open_dataset(cmc_filename,drop_variables=['analysis_error','sea_ice_fraction'])\n",
    "            ds_masked = ds.where(ds['mask'] == 1.) \n",
    "            ds_masked['sq_sst']=ds_masked.analysed_sst**2\n",
    "            ds_interp = ds_masked.interp(lat = new_lat,lon = new_lon)            \n",
    "            ds.close()\n",
    "            if init==0:\n",
    "                ds_sum = ds_interp\n",
    "                init = 1\n",
    "            else:\n",
    "                ds_sum = xr.concat([ds_sum,ds_interp],dim = 'time')\n",
    "            #print(idyjl,ds_sum.dims)\n",
    "        ds_clim2 = ds_sum.resample(time='M').mean()    \n",
    "#        ds_clim2 = ds_sum.groupby('time.month').mean('time')\n",
    "        #ds_sum = ds_sum.mean('time',skipna=True)\n",
    "        ds_mnth.append(ds_clim2)\n",
    "    combined = xr.concat(ds_mnth, dim='time')\n",
    "    fname_tem='monthly/' + str(lyr) + 'monthly_average_120000-CMC-L4_GHRSST-SSTfnd-CMC0.2deg-GLOB-v02.0-fv02.0.nc'\n",
    "    cmc_filename_out = dir_cmc + fname_tem\n",
    "    combined.to_netcdf(cmc_filename_out)\n",
    "    "
   ]
  },
  {
   "cell_type": "code",
   "execution_count": null,
   "metadata": {},
   "outputs": [],
   "source": [
    "#testing data files \n",
    "file1='F:/data/sst/cmc/CMC0.2deg/v2/monthly/2016monthly_average_120000-CMC-L4_GHRSST-SSTfnd-CMC0.2deg-GLOB-v02.0-fv02.0.nc'\n",
    "file2='F:/data/sst/cmc/CMC0.2deg/v2/monthly/2017monthly_average_120000-CMC-L4_GHRSST-SSTfnd-CMC0.2deg-GLOB-v02.0-fv02.0.nc'\n",
    "ds1=xr.open_dataset(file1)\n",
    "ds2=xr.open_dataset(file2)\n",
    "print(ds1)\n",
    "print(ds2)\n",
    "ds1.close()\n",
    "ds2.close()"
   ]
  },
  {
   "cell_type": "code",
   "execution_count": null,
   "metadata": {},
   "outputs": [],
   "source": [
    "#make cmc climatology from monthly files\n",
    "init = 0\n",
    "for lyr in range(1992,2002): \n",
    "    fname_tem='monthly/' + str(lyr) + 'monthly_average_120000-CMC-L4_GHRSST-SSTfnd-CMC0.2deg-GLOB-v02.0-fv02.0.nc'\n",
    "    cmc_filename_out = dir_cmc + fname_tem\n",
    "    ds = xr.open_dataset(cmc_filename_out)\n",
    "    ds_masked = ds.where(ds['mask'] == 1.) \n",
    "    if init==0:\n",
    "        ds_sum = ds_masked\n",
    "        init = 1\n",
    "    else:\n",
    "        ds_sum = xr.concat([ds_sum,ds_masked],dim = 'time')\n",
    "    print(lyr,ds_sum.dims)\n",
    "ds_sum2 = ds_sum.groupby('time.month').mean('time')\n",
    "fname_tem='monthly/monthly_climatology_1992_2001_120000-CMC-L4_GHRSST-SSTfnd-CMC0.2deg-GLOB-v02.0-fv02.0.nc'\n",
    "cmc_filename_out = dir_cmc + fname_tem\n",
    "ds_sum2.to_netcdf(cmc_filename_out)\n",
    "#make cmc climatology from monthly files\n",
    "init = 0\n",
    "for lyr in range(2002,2012): #2018): \n",
    "    fname_tem='monthly/' + str(lyr) + 'monthly_average_120000-CMC-L4_GHRSST-SSTfnd-CMC0.2deg-GLOB-v02.0-fv02.0.nc'\n",
    "    cmc_filename_out = dir_cmc + fname_tem\n",
    "    ds = xr.open_dataset(cmc_filename_out)\n",
    "    ds_masked = ds.where(ds['mask'] == 1.) \n",
    "    if init==0:\n",
    "        ds_sum = ds_masked\n",
    "        init = 1\n",
    "    else:\n",
    "        ds_sum = xr.concat([ds_sum,ds_masked],dim = 'time')\n",
    "    print(lyr,ds_sum.dims)\n",
    "ds_sum2 = ds_sum.groupby('time.month').mean('time')\n",
    "fname_tem='monthly/monthly_climatology_2002_2011_120000-CMC-L4_GHRSST-SSTfnd-CMC0.2deg-GLOB-v02.0-fv02.0.nc'\n",
    "cmc_filename_out = dir_cmc + fname_tem\n",
    "ds_sum2.to_netcdf(cmc_filename_out)\n",
    "#make cmc climatology from monthly files\n",
    "init = 0\n",
    "for lyr in range(2012,2019): #2018): \n",
    "    fname_tem='monthly/' + str(lyr) + 'monthly_average_120000-CMC-L4_GHRSST-SSTfnd-CMC0.2deg-GLOB-v02.0-fv02.0.nc'\n",
    "    cmc_filename_out = dir_cmc + fname_tem\n",
    "    ds = xr.open_dataset(cmc_filename_out)\n",
    "    ds_masked = ds.where(ds['mask'] == 1.) \n",
    "    if init==0:\n",
    "        ds_sum = ds_masked\n",
    "        init = 1\n",
    "    else:\n",
    "        ds_sum = xr.concat([ds_sum,ds_masked],dim = 'time')\n",
    "    print(lyr,ds_sum.dims)\n",
    "ds_sum2 = ds_sum.groupby('time.month').mean('time')\n",
    "fname_tem='monthly/monthly_climatology_2012_2018_120000-CMC-L4_GHRSST-SSTfnd-CMC0.2deg-GLOB-v02.0-fv02.0.nc'\n",
    "cmc_filename_out = dir_cmc + fname_tem\n",
    "ds_sum2.to_netcdf(cmc_filename_out)"
   ]
  },
  {
   "cell_type": "code",
   "execution_count": null,
   "metadata": {},
   "outputs": [],
   "source": []
  },
  {
   "cell_type": "code",
   "execution_count": 4,
   "metadata": {},
   "outputs": [
    {
     "name": "stdout",
     "output_type": "stream",
     "text": [
      "F:/data/sst/cmc/CMC0.2deg/v2/monthly/monthly_climatology_1992_2001_120000-CMC-L4_GHRSST-SSTfnd-CMC0.2deg-GLOB-v02.0-fv02.0.nc\n",
      "F:/data/sst/cmc/CMC0.2deg/v2/monthly/monthly_climatology_2002_2011_120000-CMC-L4_GHRSST-SSTfnd-CMC0.2deg-GLOB-v02.0-fv02.0.nc\n",
      "F:/data/sst/cmc/CMC0.2deg/v2/monthly/monthly_climatology_2012_2018_120000-CMC-L4_GHRSST-SSTfnd-CMC0.2deg-GLOB-v02.0-fv02.0.nc\n"
     ]
    },
    {
     "ename": "ValueError",
     "evalue": "cannot reindex or align along dimension 'lat' because the index has duplicate values",
     "output_type": "error",
     "traceback": [
      "\u001b[1;31m---------------------------------------------------------------------------\u001b[0m",
      "\u001b[1;31mValueError\u001b[0m                                Traceback (most recent call last)",
      "\u001b[1;32m<ipython-input-4-769775c96db9>\u001b[0m in \u001b[0;36m<module>\u001b[1;34m\u001b[0m\n\u001b[0;32m     23\u001b[0m \u001b[1;31m#ds_sum = xr.concat([ds_masked2,ds_masked],dim = 'time')\u001b[0m\u001b[1;33m\u001b[0m\u001b[1;33m\u001b[0m\u001b[0m\n\u001b[0;32m     24\u001b[0m \u001b[0mds\u001b[0m\u001b[1;33m.\u001b[0m\u001b[0mclose\u001b[0m\u001b[1;33m(\u001b[0m\u001b[1;33m)\u001b[0m\u001b[1;33m\u001b[0m\u001b[0m\n\u001b[1;32m---> 25\u001b[1;33m \u001b[0mds_ave\u001b[0m \u001b[1;33m=\u001b[0m \u001b[0mfrac_file1\u001b[0m\u001b[1;33m*\u001b[0m\u001b[0mds_masked\u001b[0m \u001b[1;33m+\u001b[0m \u001b[0mfrac_file2\u001b[0m\u001b[1;33m*\u001b[0m\u001b[0mds_masked2\u001b[0m \u001b[1;33m+\u001b[0m \u001b[0mfrac_file3\u001b[0m\u001b[1;33m*\u001b[0m\u001b[0mds_masked3\u001b[0m\u001b[1;33m\u001b[0m\u001b[0m\n\u001b[0m\u001b[0;32m     26\u001b[0m \u001b[1;31m#ds_sum = ds_sum.mean('time',skipna=True)\u001b[0m\u001b[1;33m\u001b[0m\u001b[1;33m\u001b[0m\u001b[0m\n\u001b[0;32m     27\u001b[0m \u001b[0mprint\u001b[0m\u001b[1;33m(\u001b[0m\u001b[0mfrac_file1\u001b[0m\u001b[1;33m+\u001b[0m\u001b[0mfrac_file2\u001b[0m\u001b[1;33m,\u001b[0m\u001b[0mfrac_file1\u001b[0m\u001b[1;33m,\u001b[0m\u001b[0mfrac_file2\u001b[0m\u001b[1;33m)\u001b[0m\u001b[1;33m\u001b[0m\u001b[0m\n",
      "\u001b[1;32m~\\Miniconda3\\lib\\site-packages\\xarray\\core\\dataset.py\u001b[0m in \u001b[0;36mfunc\u001b[1;34m(self, other)\u001b[0m\n\u001b[0;32m   3297\u001b[0m             \u001b[0malign_type\u001b[0m \u001b[1;33m=\u001b[0m \u001b[0mOPTIONS\u001b[0m\u001b[1;33m[\u001b[0m\u001b[1;34m'arithmetic_join'\u001b[0m\u001b[1;33m]\u001b[0m \u001b[1;32mif\u001b[0m \u001b[0mjoin\u001b[0m \u001b[1;32mis\u001b[0m \u001b[1;32mNone\u001b[0m \u001b[1;32melse\u001b[0m \u001b[0mjoin\u001b[0m\u001b[1;33m\u001b[0m\u001b[0m\n\u001b[0;32m   3298\u001b[0m             \u001b[1;32mif\u001b[0m \u001b[0misinstance\u001b[0m\u001b[1;33m(\u001b[0m\u001b[0mother\u001b[0m\u001b[1;33m,\u001b[0m \u001b[1;33m(\u001b[0m\u001b[0mDataArray\u001b[0m\u001b[1;33m,\u001b[0m \u001b[0mDataset\u001b[0m\u001b[1;33m)\u001b[0m\u001b[1;33m)\u001b[0m\u001b[1;33m:\u001b[0m\u001b[1;33m\u001b[0m\u001b[0m\n\u001b[1;32m-> 3299\u001b[1;33m                 \u001b[0mself\u001b[0m\u001b[1;33m,\u001b[0m \u001b[0mother\u001b[0m \u001b[1;33m=\u001b[0m \u001b[0malign\u001b[0m\u001b[1;33m(\u001b[0m\u001b[0mself\u001b[0m\u001b[1;33m,\u001b[0m \u001b[0mother\u001b[0m\u001b[1;33m,\u001b[0m \u001b[0mjoin\u001b[0m\u001b[1;33m=\u001b[0m\u001b[0malign_type\u001b[0m\u001b[1;33m,\u001b[0m \u001b[0mcopy\u001b[0m\u001b[1;33m=\u001b[0m\u001b[1;32mFalse\u001b[0m\u001b[1;33m)\u001b[0m\u001b[1;33m\u001b[0m\u001b[0m\n\u001b[0m\u001b[0;32m   3300\u001b[0m             \u001b[0mg\u001b[0m \u001b[1;33m=\u001b[0m \u001b[0mf\u001b[0m \u001b[1;32mif\u001b[0m \u001b[1;32mnot\u001b[0m \u001b[0mreflexive\u001b[0m \u001b[1;32melse\u001b[0m \u001b[1;32mlambda\u001b[0m \u001b[0mx\u001b[0m\u001b[1;33m,\u001b[0m \u001b[0my\u001b[0m\u001b[1;33m:\u001b[0m \u001b[0mf\u001b[0m\u001b[1;33m(\u001b[0m\u001b[0my\u001b[0m\u001b[1;33m,\u001b[0m \u001b[0mx\u001b[0m\u001b[1;33m)\u001b[0m\u001b[1;33m\u001b[0m\u001b[0m\n\u001b[0;32m   3301\u001b[0m             \u001b[0mds\u001b[0m \u001b[1;33m=\u001b[0m \u001b[0mself\u001b[0m\u001b[1;33m.\u001b[0m\u001b[0m_calculate_binary_op\u001b[0m\u001b[1;33m(\u001b[0m\u001b[0mg\u001b[0m\u001b[1;33m,\u001b[0m \u001b[0mother\u001b[0m\u001b[1;33m,\u001b[0m \u001b[0mjoin\u001b[0m\u001b[1;33m=\u001b[0m\u001b[0malign_type\u001b[0m\u001b[1;33m)\u001b[0m\u001b[1;33m\u001b[0m\u001b[0m\n",
      "\u001b[1;32m~\\Miniconda3\\lib\\site-packages\\xarray\\core\\alignment.py\u001b[0m in \u001b[0;36malign\u001b[1;34m(*objects, **kwargs)\u001b[0m\n\u001b[0;32m    162\u001b[0m             \u001b[0mnew_obj\u001b[0m \u001b[1;33m=\u001b[0m \u001b[0mobj\u001b[0m\u001b[1;33m.\u001b[0m\u001b[0mcopy\u001b[0m\u001b[1;33m(\u001b[0m\u001b[0mdeep\u001b[0m\u001b[1;33m=\u001b[0m\u001b[0mcopy\u001b[0m\u001b[1;33m)\u001b[0m\u001b[1;33m\u001b[0m\u001b[0m\n\u001b[0;32m    163\u001b[0m         \u001b[1;32melse\u001b[0m\u001b[1;33m:\u001b[0m\u001b[1;33m\u001b[0m\u001b[0m\n\u001b[1;32m--> 164\u001b[1;33m             \u001b[0mnew_obj\u001b[0m \u001b[1;33m=\u001b[0m \u001b[0mobj\u001b[0m\u001b[1;33m.\u001b[0m\u001b[0mreindex\u001b[0m\u001b[1;33m(\u001b[0m\u001b[0mcopy\u001b[0m\u001b[1;33m=\u001b[0m\u001b[0mcopy\u001b[0m\u001b[1;33m,\u001b[0m \u001b[1;33m**\u001b[0m\u001b[0mvalid_indexers\u001b[0m\u001b[1;33m)\u001b[0m\u001b[1;33m\u001b[0m\u001b[0m\n\u001b[0m\u001b[0;32m    165\u001b[0m         \u001b[0mnew_obj\u001b[0m\u001b[1;33m.\u001b[0m\u001b[0mencoding\u001b[0m \u001b[1;33m=\u001b[0m \u001b[0mobj\u001b[0m\u001b[1;33m.\u001b[0m\u001b[0mencoding\u001b[0m\u001b[1;33m\u001b[0m\u001b[0m\n\u001b[0;32m    166\u001b[0m         \u001b[0mresult\u001b[0m\u001b[1;33m.\u001b[0m\u001b[0mappend\u001b[0m\u001b[1;33m(\u001b[0m\u001b[0mnew_obj\u001b[0m\u001b[1;33m)\u001b[0m\u001b[1;33m\u001b[0m\u001b[0m\n",
      "\u001b[1;32m~\\Miniconda3\\lib\\site-packages\\xarray\\core\\dataset.py\u001b[0m in \u001b[0;36mreindex\u001b[1;34m(self, indexers, method, tolerance, copy, **indexers_kwargs)\u001b[0m\n\u001b[0;32m   1892\u001b[0m         variables = alignment.reindex_variables(\n\u001b[0;32m   1893\u001b[0m             \u001b[0mself\u001b[0m\u001b[1;33m.\u001b[0m\u001b[0mvariables\u001b[0m\u001b[1;33m,\u001b[0m \u001b[0mself\u001b[0m\u001b[1;33m.\u001b[0m\u001b[0msizes\u001b[0m\u001b[1;33m,\u001b[0m \u001b[0mself\u001b[0m\u001b[1;33m.\u001b[0m\u001b[0mindexes\u001b[0m\u001b[1;33m,\u001b[0m \u001b[0mindexers\u001b[0m\u001b[1;33m,\u001b[0m \u001b[0mmethod\u001b[0m\u001b[1;33m,\u001b[0m\u001b[1;33m\u001b[0m\u001b[0m\n\u001b[1;32m-> 1894\u001b[1;33m             tolerance, copy=copy)\n\u001b[0m\u001b[0;32m   1895\u001b[0m         \u001b[0mcoord_names\u001b[0m \u001b[1;33m=\u001b[0m \u001b[0mset\u001b[0m\u001b[1;33m(\u001b[0m\u001b[0mself\u001b[0m\u001b[1;33m.\u001b[0m\u001b[0m_coord_names\u001b[0m\u001b[1;33m)\u001b[0m\u001b[1;33m\u001b[0m\u001b[0m\n\u001b[0;32m   1896\u001b[0m         \u001b[0mcoord_names\u001b[0m\u001b[1;33m.\u001b[0m\u001b[0mupdate\u001b[0m\u001b[1;33m(\u001b[0m\u001b[0mindexers\u001b[0m\u001b[1;33m)\u001b[0m\u001b[1;33m\u001b[0m\u001b[0m\n",
      "\u001b[1;32m~\\Miniconda3\\lib\\site-packages\\xarray\\core\\alignment.py\u001b[0m in \u001b[0;36mreindex_variables\u001b[1;34m(variables, sizes, indexes, indexers, method, tolerance, copy)\u001b[0m\n\u001b[0;32m    320\u001b[0m                 raise ValueError(\n\u001b[0;32m    321\u001b[0m                     \u001b[1;34m'cannot reindex or align along dimension %r because the '\u001b[0m\u001b[1;33m\u001b[0m\u001b[0m\n\u001b[1;32m--> 322\u001b[1;33m                     'index has duplicate values' % name)\n\u001b[0m\u001b[0;32m    323\u001b[0m \u001b[1;33m\u001b[0m\u001b[0m\n\u001b[0;32m    324\u001b[0m             \u001b[0mtarget\u001b[0m \u001b[1;33m=\u001b[0m \u001b[0mutils\u001b[0m\u001b[1;33m.\u001b[0m\u001b[0msafe_cast_to_index\u001b[0m\u001b[1;33m(\u001b[0m\u001b[0mindexers\u001b[0m\u001b[1;33m[\u001b[0m\u001b[0mname\u001b[0m\u001b[1;33m]\u001b[0m\u001b[1;33m)\u001b[0m\u001b[1;33m\u001b[0m\u001b[0m\n",
      "\u001b[1;31mValueError\u001b[0m: cannot reindex or align along dimension 'lat' because the index has duplicate values"
     ]
    }
   ],
   "source": [
    "num_year = 2018-1992+1\n",
    "num_year_file1 = 2001 - 1992 +1\n",
    "num_year_file2 = 2011 - 2002 +1 \n",
    "num_year_file3 = 2018 - 2012 +1\n",
    "frac_file1 = num_year_file1 / num_year\n",
    "frac_file2 = num_year_file2 / num_year\n",
    "frac_file3 = num_year_file3 / num_year\n",
    "fname_tem=dir_cmc + 'monthly/monthly_climatology_1992_2001_120000-CMC-L4_GHRSST-SSTfnd-CMC0.2deg-GLOB-v02.0-fv02.0.nc'\n",
    "print(fname_tem)\n",
    "ds = xr.open_dataset(fname_tem)\n",
    "ds_masked = ds.where(ds['mask'] == 1.) \n",
    "ds.close()\n",
    "fname_tem=dir_cmc + 'monthly/monthly_climatology_2002_2011_120000-CMC-L4_GHRSST-SSTfnd-CMC0.2deg-GLOB-v02.0-fv02.0.nc'\n",
    "print(fname_tem)\n",
    "ds = xr.open_dataset(fname_tem)\n",
    "ds_masked2 = ds.where(ds['mask'] == 1.) \n",
    "#ds_sum = xr.concat([ds_masked2,ds_masked],dim = 'time')\n",
    "ds.close()\n",
    "fname_tem=dir_cmc + 'monthly/monthly_climatology_2012_2018_120000-CMC-L4_GHRSST-SSTfnd-CMC0.2deg-GLOB-v02.0-fv02.0.nc'\n",
    "print(fname_tem)\n",
    "ds = xr.open_dataset(fname_tem)\n",
    "ds_masked3 = ds.where(ds['mask'] == 1.) \n",
    "#ds_sum = xr.concat([ds_masked2,ds_masked],dim = 'time')\n",
    "ds.close()\n",
    "ds_ave = frac_file1*ds_masked + frac_file2*ds_masked2 + frac_file3*ds_masked3\n",
    "#ds_sum = ds_sum.mean('time',skipna=True)\n",
    "print(frac_file1+frac_file2,frac_file1,frac_file2)\n",
    "fname_tem=dir_cmc + 'monthly/monthly_climatology_1992_2018_120000-CMC-L4_GHRSST-SSTfnd-CMC0.2deg-GLOB-v02.0-fv02.0.nc'\n",
    "print(fname_tem)\n",
    "ds_ave.to_netcdf(fname_tem)"
   ]
  },
  {
   "cell_type": "code",
   "execution_count": null,
   "metadata": {},
   "outputs": [],
   "source": [
    "ds_ave"
   ]
  },
  {
   "cell_type": "code",
   "execution_count": null,
   "metadata": {},
   "outputs": [],
   "source": []
  },
  {
   "cell_type": "code",
   "execution_count": null,
   "metadata": {},
   "outputs": [],
   "source": []
  },
  {
   "cell_type": "code",
   "execution_count": null,
   "metadata": {},
   "outputs": [],
   "source": []
  },
  {
   "cell_type": "code",
   "execution_count": null,
   "metadata": {},
   "outputs": [],
   "source": [
    "\n"
   ]
  },
  {
   "cell_type": "code",
   "execution_count": null,
   "metadata": {},
   "outputs": [],
   "source": [
    "#testing nan in arrays\n",
    "lyr,idyjl=2017,10\n",
    "d = dt.date(lyr,1,1) + dt.timedelta(idyjl - 1)\n",
    "cmc_filename = cmc_filename(d)\n",
    "print(cmc_filename)\n",
    "ds = xr.open_dataset(cmc_filename,drop_variables=['analysis_error','sea_ice_fraction'])\n",
    "ds_masked = ds.where(ds['mask'] == 1.) \n",
    "ds.close()\n",
    "ds_masked.analysed_sst[0,0]"
   ]
  },
  {
   "cell_type": "code",
   "execution_count": null,
   "metadata": {},
   "outputs": [],
   "source": [
    "lyr=2002\n",
    "fname_tem='monthly/' + str(lyr) + 'monthly_average_' + str(lyr) + '120000-CMC-L4_GHRSST-SSTfnd-CMC0.2deg-GLOB-v02.0-fv02.0.nc'\n",
    "cmc_filename_out = dir_cmc + fname_tem\n",
    "ds = xr.open_dataset(cmc_filename_out)\n",
    "ds_masked = ds.where(ds['mask'] == 1.) \n",
    "print(ds.analysed_sst[0,0],ds_masked.analysed_sst[0,0])\n",
    "ds.close()"
   ]
  },
  {
   "cell_type": "code",
   "execution_count": null,
   "metadata": {},
   "outputs": [],
   "source": [
    "#testing\n",
    "ds_ave = .5* (ds_masked + ds_masked)"
   ]
  },
  {
   "cell_type": "code",
   "execution_count": null,
   "metadata": {},
   "outputs": [],
   "source": [
    "ds_ave.analysed_sst.plot()"
   ]
  },
  {
   "cell_type": "code",
   "execution_count": null,
   "metadata": {},
   "outputs": [],
   "source": []
  },
  {
   "cell_type": "code",
   "execution_count": null,
   "metadata": {},
   "outputs": [],
   "source": []
  }
 ],
 "metadata": {
  "kernelspec": {
   "display_name": "Python 3",
   "language": "python",
   "name": "python3"
  },
  "language_info": {
   "codemirror_mode": {
    "name": "ipython",
    "version": 3
   },
   "file_extension": ".py",
   "mimetype": "text/x-python",
   "name": "python",
   "nbconvert_exporter": "python",
   "pygments_lexer": "ipython3",
   "version": "3.7.0"
  }
 },
 "nbformat": 4,
 "nbformat_minor": 2
}
