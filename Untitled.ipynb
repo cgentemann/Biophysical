{
 "cells": [
  {
   "cell_type": "code",
   "execution_count": 2,
   "metadata": {},
   "outputs": [],
   "source": [
    "#take boxes determined by marisol from kathleens biforcation data and calculate average environmental information for them\n",
    "#want to calculate average SST, SSS, u^2+v^2, and var(u^2+v^2)\n",
    "import xarray as xr\n",
    "#import pandas as pd\n",
    "#import matplotlib as mpl\n",
    "#import openpyxl\n",
    "#from mpl_toolkits.basemap import Basemap\n",
    "#import matplotlib.pyplot as plt\n",
    "import numpy as np\n",
    "#from math import cos, radians\n",
    "import datetime as dt\n",
    "\n",
    "dir_cmc='F:/data/sst/cmc/CMC0.2deg/v2/'\n",
    "dir_cmc_clim='F:/data/sst/cmc/CMC0.2deg/v2/climatology/'\n",
    "dir_clim='F:/data/sat_data/oscar/L4/oscar_third_deg/climatology/'\n",
    "dir_data = 'https://podaac-opendap.jpl.nasa.gov/opendap/allData/oscar/preview/L4/oscar_third_deg/'\n",
    "\n",
    "boxes_names = ['NPC','NPC_biforcation','CalCur','Alaska1','Alaska2']\n",
    "boxes_lon_min = [-160,-130,-125,-130,-148]\n",
    "boxes_lon_max = [-170,-140,-135,-140,-158]\n",
    "boxes_lat_min = [41,46,35,52,52]\n",
    "boxes_lat_max = [46,51,40,57,57]\n",
    "for i in range(0,5):\n",
    "    boxes_lon_min[i] += 360\n",
    "    boxes_lon_max[i] += 360\n",
    "    \n"
   ]
  },
  {
   "cell_type": "code",
   "execution_count": 3,
   "metadata": {},
   "outputs": [
    {
     "ename": "SyntaxError",
     "evalue": "invalid syntax (<ipython-input-3-21085ef80180>, line 1)",
     "output_type": "error",
     "traceback": [
      "\u001b[1;36m  File \u001b[1;32m\"<ipython-input-3-21085ef80180>\"\u001b[1;36m, line \u001b[1;32m1\u001b[0m\n\u001b[1;33m    arr = xr.DataArray('names':boxes_names,[('lon_min', boxes_lon_min)])\u001b[0m\n\u001b[1;37m                              ^\u001b[0m\n\u001b[1;31mSyntaxError\u001b[0m\u001b[1;31m:\u001b[0m invalid syntax\n"
     ]
    }
   ],
   "source": [
    "arr = xr.DataArray('names':boxes_names,[('lon_min', boxes_lon_min)])\n",
    "arr"
   ]
  },
  {
   "cell_type": "code",
   "execution_count": null,
   "metadata": {},
   "outputs": [],
   "source": []
  }
 ],
 "metadata": {
  "kernelspec": {
   "display_name": "Python 3",
   "language": "python",
   "name": "python3"
  },
  "language_info": {
   "codemirror_mode": {
    "name": "ipython",
    "version": 3
   },
   "file_extension": ".py",
   "mimetype": "text/x-python",
   "name": "python",
   "nbconvert_exporter": "python",
   "pygments_lexer": "ipython3",
   "version": "3.7.0"
  }
 },
 "nbformat": 4,
 "nbformat_minor": 2
}
