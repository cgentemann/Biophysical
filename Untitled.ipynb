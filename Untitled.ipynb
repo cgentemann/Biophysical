{
 "cells": [
  {
   "cell_type": "code",
   "execution_count": 2,
   "metadata": {},
   "outputs": [],
   "source": [
    "#take boxes determined by marisol from kathleens biforcation data and calculate average environmental information for them\n",
    "#want to calculate average SST, SSS, u^2+v^2, and var(u^2+v^2)\n",
    "import xarray as xr\n",
    "#import pandas as pd\n",
    "#import matplotlib as mpl\n",
    "#import openpyxl\n",
    "#from mpl_toolkits.basemap import Basemap\n",
    "#import matplotlib.pyplot as plt\n",
    "import numpy as np\n",
    "#from math import cos, radians\n",
    "import datetime as dt\n",
    "\n",
    "dir_cmc='F:/data/sst/cmc/CMC0.2deg/v2/'\n",
    "dir_cmc_clim='F:/data/sst/cmc/CMC0.2deg/v2/climatology/'\n",
    "dir_clim='F:/data/sat_data/oscar/L4/oscar_third_deg/climatology/'\n",
    "dir_data = 'https://podaac-opendap.jpl.nasa.gov/opendap/allData/oscar/preview/L4/oscar_third_deg/'\n",
    "\n",
    "boxes_names = ['NPC','NPC_biforcation','CalCur','Alaska1','Alaska2']\n",
    "boxes_lon_min = [-160,-130,-125,-130,-148]\n",
    "boxes_lon_max = [-170,-140,-135,-140,-158]\n",
    "boxes_lat_min = [41,46,35,52,52]\n",
    "boxes_lat_max = [46,51,40,57,57]\n",
    "for i in range(0,5):\n",
    "    boxes_lon_min[i] += 360\n",
    "    boxes_lon_max[i] += 360\n",
    "    \n"
   ]
  },
  {
   "cell_type": "code",
   "execution_count": 4,
   "metadata": {
    "scrolled": true
   },
   "outputs": [
    {
     "data": {
      "text/plain": [
       "<xarray.Dataset>\n",
       "Dimensions:           (latitude: 720, longitude: 1440, time: 2)\n",
       "Coordinates:\n",
       "  * latitude          (latitude) float32 -89.875 -89.625 ... 89.625 89.875\n",
       "  * time              (time) object 2017-12-15 00:00:00 2017-12-15 00:00:00\n",
       "  * longitude         (longitude) float32 0.125 0.375 0.625 ... 359.625 359.875\n",
       "Data variables:\n",
       "    sos               (time, latitude, longitude) float32 ...\n",
       "    dos               (time, latitude, longitude) float32 ...\n",
       "    dos_error         (time, latitude, longitude) float32 ...\n",
       "    sea_ice_fraction  (time, latitude, longitude) float32 ...\n",
       "    sos_error         (time, latitude, longitude) float32 ...\n",
       "Attributes:\n",
       "    Conventions:                                CF-1.4\n",
       "    title:                                      Global analysed sea surface s...\n",
       "    references:                                 Buongiorno Nardelli, B., R. D...\n",
       "    institution:                                CNR\n",
       "    contact:                                    servicedesk.cmems@mercator-oc...\n",
       "    FROM_ORIGINAL_FILE__netcdf_version_id:      3.6.0-p1 of Oct 16 2005 13:23:24\n",
       "    creation_date:                              Sat Mar 17 21:05:53 2018 UTC\n",
       "    FROM_ORIGINAL_FILE__product_version:        1.1\n",
       "    grid_resolution:                            0.25 degree\n",
       "    FROM_ORIGINAL_FILE__software_version:       CMEMS SSS/SSD L4 Processor V1.1\n",
       "    FROM_ORIGINAL_FILE__westernmost_longitude:  0.125\n",
       "    FROM_ORIGINAL_FILE__easternmost_longitude:  359.875\n",
       "    FROM_ORIGINAL_FILE__southernmost_latitude:  -89.875\n",
       "    FROM_ORIGINAL_FILE__northernmost_latitude:  89.875\n",
       "    date:                                       2017-12-15\n",
       "    Scaling_Equation:                           (scale_factor*data) + add_offset\n",
       "    license:                                    free registration at Copernic...\n",
       "    _CoordSysBuilder:                           ucar.nc2.dataset.conv.CF1Conv...\n",
       "    comment:                                    \n",
       "    source:                                      \n",
       "    history:                                    Data extracted from dataset h..."
      ]
     },
     "execution_count": 4,
     "metadata": {},
     "output_type": "execute_result"
    }
   ],
   "source": [
    "sss = xr.open_dataset('F:/data/eddy/sss/dataset-sss-ssd-rep-monthly_1547086035260.nc')\n",
    "sss"
   ]
  },
  {
   "cell_type": "code",
   "execution_count": null,
   "metadata": {},
   "outputs": [],
   "source": []
  }
 ],
 "metadata": {
  "kernelspec": {
   "display_name": "Python 3",
   "language": "python",
   "name": "python3"
  },
  "language_info": {
   "codemirror_mode": {
    "name": "ipython",
    "version": 3
   },
   "file_extension": ".py",
   "mimetype": "text/x-python",
   "name": "python",
   "nbconvert_exporter": "python",
   "pygments_lexer": "ipython3",
   "version": "3.7.0"
  }
 },
 "nbformat": 4,
 "nbformat_minor": 2
}
