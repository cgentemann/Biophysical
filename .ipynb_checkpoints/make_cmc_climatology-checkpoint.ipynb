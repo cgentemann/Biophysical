{
 "cells": [
  {
   "cell_type": "code",
   "execution_count": null,
   "metadata": {
    "scrolled": true
   },
   "outputs": [],
   "source": [
    "import xarray as xr\n",
    "import numpy as np\n",
    "import datetime\n"
   ]
  },
  {
   "cell_type": "code",
   "execution_count": 5,
   "metadata": {},
   "outputs": [
    {
     "name": "stdout",
     "output_type": "stream",
     "text": [
      "276\n"
     ]
    },
    {
     "name": "stderr",
     "output_type": "stream",
     "text": [
      "C:\\Users\\gentemann\\Miniconda3\\lib\\site-packages\\xarray\\core\\nanops.py:161: RuntimeWarning: Mean of empty slice\n",
      "  return np.nanmean(a, axis=axis, dtype=dtype)\n"
     ]
    }
   ],
   "source": [
    "#make cmc climatology\n",
    "dir_cmc='F:/data/sst/cmc/CMC0.2deg/v2/'\n",
    "dir_cmc_clim='F:/data/sst/cmc/CMC0.2deg/v2/climatology/'\n",
    "for idyjl in range(1,366):\n",
    "    init = 0\n",
    "    print(idyjl)\n",
    "    for lyr in range(1993,2017):\n",
    "        d = datetime.date(lyr,1,1) + datetime.timedelta(idyjl - 1)\n",
    "        syr=str(d.year).zfill(4)\n",
    "        smon=str(d.month).zfill(2)\n",
    "        sdym=str(d.day).zfill(2)\n",
    "        sjdy=str(idyjl).zfill(3)\n",
    "        fname_tem=syr + smon + sdym + '120000-CMC-L4_GHRSST-SSTfnd-CMC0.2deg-GLOB-v02.0-fv02.0.nc'\n",
    "        cmc_filename = dir_cmc + syr + '/' + sjdy + '/' + fname_tem\n",
    "        ds = xr.open_dataset(cmc_filename,drop_variables=['analysis_error','sea_ice_fraction'])           \n",
    "        ds_masked = ds.where(ds['mask'] == 1.) \n",
    "        ds.close()\n",
    "        ds_masked['sq_sst']=ds_masked.analysed_sst**2\n",
    "        if init==0:\n",
    "            ds_sum = ds_masked\n",
    "            init = 1\n",
    "        else:\n",
    "            ds_sum = xr.concat([ds_sum,ds_masked],dim = 'time')\n",
    "    ds_sum = ds_sum.mean('time')\n",
    "    fname_tem='clim1993_2016' + sjdy + '-CMC-L4_GHRSST-SSTfnd-CMC0.2deg-GLOB-v02.0-fv02.0.nc'\n",
    "    cmc_filename2 = dir_cmc_clim + fname_tem\n",
    "    ds_sum.to_netcdf(cmc_filename2)\n"
   ]
  },
  {
   "cell_type": "code",
   "execution_count": null,
   "metadata": {},
   "outputs": [],
   "source": [
    "fname_tem='clim1993_2016' + sjdy + '-CMC-L4_GHRSST-SSTfnd-CMC0.2deg-GLOB-v02.0-fv02.0a.nc'\n",
    "cmc_filename2 = dir_cmc_clim + fname_tem\n",
    "ds1 = xr.open_dataset(cmc_filename2)\n",
    "fname_tem='clim1993_2016' + sjdy + '-CMC-L4_GHRSST-SSTfnd-CMC0.2deg-GLOB-v02.0-fv02.0.nc'\n",
    "cmc_filename2 = dir_cmc_clim + fname_tem\n",
    "ds0 = xr.open_dataset(cmc_filename2)\n",
    "ds0.close()\n",
    "ds1.close()"
   ]
  },
  {
   "cell_type": "code",
   "execution_count": null,
   "metadata": {},
   "outputs": [],
   "source": [
    "sjdy"
   ]
  },
  {
   "cell_type": "code",
   "execution_count": null,
   "metadata": {},
   "outputs": [],
   "source": [
    "ds1.analysed_sst[450,0]"
   ]
  },
  {
   "cell_type": "code",
   "execution_count": null,
   "metadata": {},
   "outputs": [],
   "source": [
    "ds0.sst[0,450,0]"
   ]
  },
  {
   "cell_type": "code",
   "execution_count": null,
   "metadata": {},
   "outputs": [],
   "source": [
    "ds_sum.analysed_sst.plot()"
   ]
  },
  {
   "cell_type": "code",
   "execution_count": null,
   "metadata": {},
   "outputs": [],
   "source": []
  }
 ],
 "metadata": {
  "kernelspec": {
   "display_name": "Python 3",
   "language": "python",
   "name": "python3"
  },
  "language_info": {
   "codemirror_mode": {
    "name": "ipython",
    "version": 3
   },
   "file_extension": ".py",
   "mimetype": "text/x-python",
   "name": "python",
   "nbconvert_exporter": "python",
   "pygments_lexer": "ipython3",
   "version": "3.7.0"
  }
 },
 "nbformat": 4,
 "nbformat_minor": 2
}
