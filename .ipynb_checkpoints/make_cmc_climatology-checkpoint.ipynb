{
 "cells": [
  {
   "cell_type": "code",
   "execution_count": null,
   "metadata": {
    "scrolled": true
   },
   "outputs": [],
   "source": []
  },
  {
   "cell_type": "code",
   "execution_count": 195,
   "metadata": {},
   "outputs": [],
   "source": [
    "from netCDF4 import Dataset  # http://code.google.com/p/netcdf4-python/\n",
    "####################you will need to change some paths here!#####################\n",
    "#list of input files\n",
    "filename_cpr='f:/data/eddy/CPR_data/All CPR Sample catalogue.xlsx'\n",
    "filename_northpac_eddies='F:/data/eddy/aviso/eddy_trajectory_19930101_20170106_north_pacific.nc'\n",
    "filename_cpr_eddy='F:/data/eddy/collocated_data/eddy_cpr_data_north_pacific.nc'\n",
    "filename_eddy='F:/data/eddy/collocated_data/eddy_ranking_data_north_pacific.nc'\n",
    "#output files\n",
    "filename_cpr_expanded='f:/data/eddy/collocated_data/All CPR Sample catalogue with eddy info.xlsx'\n",
    "filename_cpr_expanded_netcdf='f:/data/eddy/collocated_data/All CPR Sample catalogue with eddy info.nc'\n",
    "#################################################################################"
   ]
  },
  {
   "cell_type": "code",
   "execution_count": 196,
   "metadata": {},
   "outputs": [],
   "source": [
    "import pandas\n",
    "import matplotlib as mpl\n",
    "import openpyxl\n",
    "from mpl_toolkits.basemap import Basemap\n",
    "import matplotlib.pyplot as plt\n",
    "import numpy as np\n",
    "from math import cos, radians"
   ]
  },
  {
   "cell_type": "code",
   "execution_count": 51,
   "metadata": {
    "scrolled": true
   },
   "outputs": [
    {
     "name": "stdout",
     "output_type": "stream",
     "text": [
      "(10801, 21601)\n"
     ]
    }
   ],
   "source": [
    "import xarray as xr\n",
    "import numpy as np\n",
    "from scipy.interpolate import RectBivariateSpline\n"
   ]
  },
  {
   "cell_type": "code",
   "execution_count": null,
   "metadata": {},
   "outputs": [],
   "source": [
    "#make cmc climatology\n",
    "import datetime\n",
    "dir_cmc='F:/data/sst/cmc/CMC0.2deg/v2/'\n",
    "dir_cmc_clim='F:/data/sst/cmc/CMC0.2deg/v2/climatology/'\n",
    "for idyjl in range(1,366):\n",
    "    clim_sum=np.zeros((1,901,1800))\n",
    "    clim_cnt=np.zeros((1,901,1800))\n",
    "    for lyr in range(1992,2017):\n",
    "        d = datetime.date(lyr,1,1) + datetime.timedelta(idyjl - 1)\n",
    "        syr=str(d.year).zfill(4)\n",
    "        smon=str(d.month).zfill(2)\n",
    "        sdym=str(d.day).zfill(2)\n",
    "        sjdy=str(idyjl).zfill(3)\n",
    "        fname_tem=syr + smon + sdym + '120000-CMC-L4_GHRSST-SSTfnd-CMC0.2deg-GLOB-v02.0-fv02.0.nc'\n",
    "        cmc_filename = dir_cmc + syr + '/' + sjdy + '/' + fname_tem\n",
    "        nc_fid = Dataset(cmc_filename, 'r')\n",
    "        sst = nc_fid.variables['analysed_sst'][:]\n",
    "        if lyr==1992:\n",
    "            print(d.year, d.month, d.day, idyjl)\n",
    "            lons = nc_fid.variables['lon'][:]\n",
    "            lats = nc_fid.variables['lat'][:]\n",
    "        nc_fid.close()\n",
    "        clim_sum=clim_sum+sst\n",
    "        clim_cnt=clim_cnt+1\n",
    "    #print(clim_sum[0,1,1],clim_sum[0,400,900])\n",
    "    #print(clim_cnt[0,1,1],clim_cnt[0,400,900])\n",
    "    clim_sum=clim_sum/clim_cnt\n",
    "    #print(clim_sum[0,1,1],clim_sum[0,400,900])\n",
    "    #break\n",
    "    fname_tem='clim1993_2016' + sjdy + '-CMC-L4_GHRSST-SSTfnd-CMC0.2deg-GLOB-v02.0-fv02.0.nc'\n",
    "    cmc_filename2 = dir_cmc_clim + fname_tem\n",
    "    f = Dataset(cmc_filename2,'w', format='NETCDF4') \n",
    "    f.createDimension('t', 1)\n",
    "    f.createDimension('y', 901)\n",
    "    f.createDimension('x', 1800)\n",
    "    lons_netcdf = f.createVariable('lon', 'f4', 'x')\n",
    "    lats_netcdf = f.createVariable('lat', 'f4', 'y')  \n",
    "    sst_netcdf = f.createVariable('sst', 'f4', ('t', 'y', 'x'))\n",
    "    lons_netcdf[:] = lons\n",
    "    lats_netcdf[:] = lats\n",
    "    sst_netcdf[:] = clim_sum\n",
    "    lons_netcdf.units = 'degrees east'\n",
    "    lats_netcdf.units = 'degrees north'\n",
    "    sst_netcdf.units = 'K'\n",
    "    f.close()   "
   ]
  }
 ],
 "metadata": {
  "kernelspec": {
   "display_name": "Python 3",
   "language": "python",
   "name": "python3"
  },
  "language_info": {
   "codemirror_mode": {
    "name": "ipython",
    "version": 3
   },
   "file_extension": ".py",
   "mimetype": "text/x-python",
   "name": "python",
   "nbconvert_exporter": "python",
   "pygments_lexer": "ipython3",
   "version": "3.7.0"
  }
 },
 "nbformat": 4,
 "nbformat_minor": 2
}
