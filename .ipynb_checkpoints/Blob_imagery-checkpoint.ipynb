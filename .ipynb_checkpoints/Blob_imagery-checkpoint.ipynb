{
 "cells": [
  {
   "cell_type": "code",
   "execution_count": 17,
   "metadata": {},
   "outputs": [],
   "source": [
    "import xarray as xr\n",
    "import numpy as np\n",
    "from math import pi\n",
    "import datetime as dt\n",
    "import os\n",
    "import sys\n",
    "from pathlib import Path\n",
    "from os.path import exists\n",
    "import matplotlib.pyplot as plt\n",
    "import cartopy.crs as ccrs\n",
    "from pathlib import Path\n",
    "\n",
    "def get_data():\n",
    "    from pathlib import Path\n",
    "    filelist=[]\n",
    "    dir_data = 'F:/data/sst/jpl_mur/v4.1/'\n",
    "    for filename in Path(dir_data).rglob('*90000-JPL-L4_GHRSST-SSTfnd-MUR-GLOB-v02.0-fv04.1.nc'):\n",
    "        filelist.append(filename)\n",
    "    ds=xr.open_mfdataset(filelist,combine='nested',concat_dim='time')#.rename({'latitude':'lat','longitude':'lon'})\n",
    "    ds = ds.resample(time='M',keep_attrs=True).mean(skipna=False,keep_attrs=True)\n",
    "    return ds"
   ]
  },
  {
   "cell_type": "code",
   "execution_count": null,
   "metadata": {},
   "outputs": [],
   "source": [
    "#    ds = ds.isel(time=0).sel(lat=slice(20,90))\n",
    "#    ds.coords['lon'] = np.mod(ds['lon'], 360)\n",
    "#    ds = ds.sortby(ds.lon).sel(lon=slice(160,260))               \n",
    "dir_timeseries='F:/data/NASA_biophysical/blob/'\n",
    "date_start,date_end,date_end2='2003-01-01','2017-12-31','2019-10-01'\n",
    "ds= get_data()\n",
    "ds_tem=ds.sel(time=slice(date_start,date_end))\n",
    "data_climatology = ds_tem.groupby('time.month').mean('time',keep_attrs=True,skipna=False)\n",
    "ds_tem=ds.sel(time=slice(date_start,date_end2))\n",
    "data_anomaly = ds_tem.groupby('time.month') - data_climatology\n",
    "global_attributes = ds_tem.attrs\n",
    "data_anomaly.attrs = global_attributes\n"
   ]
  },
  {
   "cell_type": "code",
   "execution_count": null,
   "metadata": {},
   "outputs": [],
   "source": [
    "ds\n",
    "#ds_tem=ds.sel(time=slice(date_start,date_end))\n",
    "#ds_tem"
   ]
  },
  {
   "cell_type": "code",
   "execution_count": null,
   "metadata": {},
   "outputs": [],
   "source": [
    "ds"
   ]
  },
  {
   "cell_type": "code",
   "execution_count": null,
   "metadata": {},
   "outputs": [],
   "source": [
    "#make oscar timeseries\n",
    "#for ibox in range(0,2): #5):\n",
    "#a\n",
    "from matplotlib.lines import Line2D \n",
    "from cartopy.mpl.ticker import LongitudeFormatter, LatitudeFormatter\n",
    "\n",
    "import cartopy.crs as ccrs\n",
    "darray = ['ccmp','oscar','sst','sss','mld']\n",
    "fig, axarr = plt.subplots(1, 5,figsize=(20,6),subplot_kw={'projection': ccrs.PlateCarree(central_longitude=180)})\n",
    "\n",
    "time_start = time_now = datetime(2002, 6, 1, 12) # from this date (included)\n",
    "time_stop = datetime(2002, 6, 3, 12)     # to that date (excluded)\n",
    "while time_now<time_stop\n",
    "    year = str(dt.year)\n",
    "    month = str(dt.month).zfill(2)\n",
    "    ds_tem=ds.sel(time=time_now,method='nearest')\n",
    "    im = ax0.pcolormesh(ds_tem.lon.values,ds_tem.lat.values,ds_tem.analysed_sst[0,:,:],transform=ccrs.PlateCarree(),cmap='rainbow');\n",
    "    ax0.set_global(); ax0.coastlines();\n",
    "    ax0.set_xticks([0, 60, 120, 180, 240, 300, 360], crs=ccrs.PlateCarree())\n",
    "    ax0.set_yticks([-90, -60, -30, 0, 30, 60, 90], crs=ccrs.PlateCarree())\n",
    "    lon_formatter = LongitudeFormatter(zero_direction_label=True)\n",
    "    ax0.xaxis.set_major_formatter(lon_formatter)\n",
    "    ax0.set_xlim(-80,80); ax0.set_ylim(15,65)\n",
    "    ax0.set_title(darray[itype])      \n",
    "    fig.savefig(dir_figs + 'blob'+year+month+'.png', dpi=300)\n",
    "    dt += timedelta(months=1)\n",
    "\n",
    "           "
   ]
  }
 ],
 "metadata": {
  "kernelspec": {
   "display_name": "Python 3",
   "language": "python",
   "name": "python3"
  },
  "language_info": {
   "codemirror_mode": {
    "name": "ipython",
    "version": 3
   },
   "file_extension": ".py",
   "mimetype": "text/x-python",
   "name": "python",
   "nbconvert_exporter": "python",
   "pygments_lexer": "ipython3",
   "version": "3.7.3"
  }
 },
 "nbformat": 4,
 "nbformat_minor": 2
}
