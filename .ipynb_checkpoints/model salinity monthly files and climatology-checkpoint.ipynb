{
 "cells": [
  {
   "cell_type": "code",
   "execution_count": 1,
   "metadata": {},
   "outputs": [],
   "source": [
    "import pandas\n",
    "import matplotlib as mpl\n",
    "import xarray as xr\n",
    "import numpy as np\n",
    "import datetime as dt\n",
    "import os.path\n",
    "dir_data='F:/data/model_data/CMEM/global-reanalysis-phy-001-030-monthly/'\n",
    "dir_data_clim='F:/data/model_data/CMEM/global-reanalysis-phy-001-030-monthly/clim/'\n",
    "def sss_filename(d):\n",
    "    dir_data='F:/data/model_data/CMEM/global-reanalysis-phy-001-030-monthly/'\n",
    "    syr=str(d.year).zfill(4)\n",
    "    smon=str(d.month).zfill(2)\n",
    "    fname_tem=syr + '/'+ 'mercatorglorys12v1_gl12_mean_' + syr + smon + '.nc'\n",
    "    filename = dir_data + fname_tem\n",
    "    return filename\n",
    "def sss_filename_new(d):\n",
    "    dir_data='F:/data/model_data/CMEM/global-reanalysis-phy-001-030-monthly/'\n",
    "    syr=str(d.year).zfill(4)\n",
    "    smon=str(d.month).zfill(2)\n",
    "    fname_tem=syr + '/'+ 'subset_mercatorglorys12v1_gl12_mean_' + syr + smon + '.nc'\n",
    "    filename = dir_data + fname_tem\n",
    "    return filename\n",
    "def sss_filename_new_yearly(d):\n",
    "    dir_data='F:/data/model_data/CMEM/global-reanalysis-phy-001-030-monthly/'\n",
    "    syr=str(d.year).zfill(4)\n",
    "    smon=str(d.month).zfill(2)\n",
    "    fname_tem=syr + '/'+ 'year_subset_mercatorglorys12v1_gl12_mean_' + syr + '.nc'\n",
    "    filename = dir_data + fname_tem\n",
    "    return filename\n",
    "\n",
    "#get 0.25 km grid from cmc data to downsamplt this\n",
    "filename = 'https://podaac-opendap.jpl.nasa.gov/opendap/allData/ghrsst/data/GDS2/L4/GLOB/CMC/CMC0.2deg/v2/1994/002/19940102120000-CMC-L4_GHRSST-SSTfnd-CMC0.2deg-GLOB-v02.0-fv02.0.nc'\n",
    "ds_v2 = xr.open_dataset(filename)\n",
    "new_lat = np.linspace(ds_v2.lat[0], ds_v2.lat[-1], ds_v2.dims['lat'])\n",
    "new_lon = np.linspace(ds_v2.lon[0], ds_v2.lon[-1], ds_v2.dims['lon'])\n",
    "ds_v2.close()"
   ]
  },
  {
   "cell_type": "code",
   "execution_count": 3,
   "metadata": {},
   "outputs": [],
   "source": [
    "#files are huge becauseo of depth layers, so lower spatial resolution and only save surface data\n",
    "for lyr in range(2017,2018): #2017):\n",
    "    for imon in range(3,13): #3,13):\n",
    "        d = dt.date(lyr,imon,1) \n",
    "        filename = sss_filename(d)\n",
    "        if os.path.exists(filename):      \n",
    "            ds = xr.open_dataset(filename)\n",
    "            ds_subset = ds.sel(depth = ds.depth[0].data)\n",
    "            ds_low_res = ds_subset.interp(latitude = new_lat,longitude = new_lon)\n",
    "            ds.close()\n",
    "            filename_new = sss_filename_new(d)\n",
    "            ds_low_res.to_netcdf(filename_new)\n",
    "            os.remove(filename)"
   ]
  },
  {
   "cell_type": "code",
   "execution_count": 5,
   "metadata": {},
   "outputs": [
    {
     "name": "stderr",
     "output_type": "stream",
     "text": [
      "C:\\Users\\gentemann\\Miniconda3\\lib\\site-packages\\ipykernel_launcher.py:12: FutureWarning: The inplace argument has been deprecated and will be removed in xarray 0.12.0.\n",
      "  if sys.path[0] == '':\n"
     ]
    }
   ],
   "source": [
    "#make monthly average ssts into one yearly file\n",
    "for lyr in range(2017,2018): #2017):\n",
    "    ds_mnth=[]\n",
    "    for imon in range(1,13):\n",
    "        d = dt.date(lyr,imon,1) \n",
    "        filename = sss_filename_new(d)\n",
    "        filename_new = sss_filename_new_yearly(d)\n",
    "        ds = xr.open_dataset(filename)\n",
    "        ds.close()\n",
    "        ds_mnth.append(ds)\n",
    "    combined = xr.concat(ds_mnth, dim='time')\n",
    "    combined = combined.rename({'longitude':'lon','latitude':'lat'})\n",
    "    combined.to_netcdf(filename_new)\n",
    "    "
   ]
  },
  {
   "cell_type": "code",
   "execution_count": 4,
   "metadata": {},
   "outputs": [
    {
     "name": "stdout",
     "output_type": "stream",
     "text": [
      "<xarray.Dataset>\n",
      "Dimensions:  (lat: 901, lon: 1800, time: 12)\n",
      "Coordinates:\n",
      "    depth    float32 ...\n",
      "  * lat      (lat) float64 -90.0 -89.8 -89.6 -89.4 -89.2 ... 89.4 89.6 89.8 90.0\n",
      "  * lon      (lon) float64 -180.0 -179.8 -179.6 -179.4 ... 179.4 179.6 179.8\n",
      "  * time     (time) datetime64[ns] 2002-01-16T12:00:00 ... 2002-12-16T12:00:00\n",
      "Data variables:\n",
      "    mlotst   (time, lat, lon) float64 ...\n",
      "    zos      (time, lat, lon) float64 ...\n",
      "    bottomT  (time, lat, lon) float64 ...\n",
      "    sithick  (time, lat, lon) float64 ...\n",
      "    siconc   (time, lat, lon) float64 ...\n",
      "    usi      (time, lat, lon) float64 ...\n",
      "    vsi      (time, lat, lon) float64 ...\n",
      "    thetao   (time, lat, lon) float64 ...\n",
      "    so       (time, lat, lon) float64 ...\n",
      "    uo       (time, lat, lon) float64 ...\n",
      "    vo       (time, lat, lon) float64 ...\n",
      "Attributes:\n",
      "    title:                         Monthly mean fields for product GLOBAL_REA...\n",
      "    references:                    http://marine.copernicus.eu\n",
      "    credit:                        E.U. Copernicus Marine Service Information...\n",
      "    licence:                       http://marine.copernicus.eu/services-portf...\n",
      "    contact:                       servicedesk.cmems@mercator-ocean.eu\n",
      "    producer:                      CMEMS - Global Monitoring and Forecasting ...\n",
      "    institution:                   Mercator Ocean\n",
      "    Conventions:                   CF-1.6\n",
      "    area:                          GLOBAL\n",
      "    product:                       GLOBAL_REANALYSIS_001_030\n",
      "    dataset:                       global-reanalysis-001-030-monthly\n",
      "    source:                        MERCATOR GLORYS12V1\n",
      "    product_user_manual:           http://marine.copernicus.eu/documents/PUM/...\n",
      "    quality_information_document:  http://marine.copernicus.eu/documents/QUID...\n"
     ]
    },
    {
     "data": {
      "text/plain": [
       "<bound method DataWithCoords.close of <xarray.Dataset>\n",
       "Dimensions:  (lat: 901, lon: 1800, time: 12)\n",
       "Coordinates:\n",
       "    depth    float32 ...\n",
       "  * lat      (lat) float64 -90.0 -89.8 -89.6 -89.4 -89.2 ... 89.4 89.6 89.8 90.0\n",
       "  * lon      (lon) float64 -180.0 -179.8 -179.6 -179.4 ... 179.4 179.6 179.8\n",
       "  * time     (time) datetime64[ns] 2002-01-16T12:00:00 ... 2002-12-16T12:00:00\n",
       "Data variables:\n",
       "    mlotst   (time, lat, lon) float64 ...\n",
       "    zos      (time, lat, lon) float64 ...\n",
       "    bottomT  (time, lat, lon) float64 ...\n",
       "    sithick  (time, lat, lon) float64 ...\n",
       "    siconc   (time, lat, lon) float64 ...\n",
       "    usi      (time, lat, lon) float64 ...\n",
       "    vsi      (time, lat, lon) float64 ...\n",
       "    thetao   (time, lat, lon) float64 ...\n",
       "    so       (time, lat, lon) float64 ...\n",
       "    uo       (time, lat, lon) float64 ...\n",
       "    vo       (time, lat, lon) float64 ...\n",
       "Attributes:\n",
       "    title:                         Monthly mean fields for product GLOBAL_REA...\n",
       "    references:                    http://marine.copernicus.eu\n",
       "    credit:                        E.U. Copernicus Marine Service Information...\n",
       "    licence:                       http://marine.copernicus.eu/services-portf...\n",
       "    contact:                       servicedesk.cmems@mercator-ocean.eu\n",
       "    producer:                      CMEMS - Global Monitoring and Forecasting ...\n",
       "    institution:                   Mercator Ocean\n",
       "    Conventions:                   CF-1.6\n",
       "    area:                          GLOBAL\n",
       "    product:                       GLOBAL_REANALYSIS_001_030\n",
       "    dataset:                       global-reanalysis-001-030-monthly\n",
       "    source:                        MERCATOR GLORYS12V1\n",
       "    product_user_manual:           http://marine.copernicus.eu/documents/PUM/...\n",
       "    quality_information_document:  http://marine.copernicus.eu/documents/QUID...>"
      ]
     },
     "execution_count": 4,
     "metadata": {},
     "output_type": "execute_result"
    }
   ],
   "source": [
    "lyr=2002\n",
    "d = dt.date(lyr,1,1) \n",
    "filename_new = sss_filename_new_yearly(d)\n",
    "ds = xr.open_dataset(filename_new)\n",
    "print(ds)\n",
    "ds.close"
   ]
  },
  {
   "cell_type": "code",
   "execution_count": 4,
   "metadata": {},
   "outputs": [
    {
     "ename": "FileNotFoundError",
     "evalue": "[Errno 2] No such file or directory: b'F:\\\\data\\\\model_data\\\\CMEM\\\\global-reanalysis-phy-001-030-monthly\\\\2017\\\\year_subset_mercatorglorys12v1_gl12_mean_2017.nc'",
     "output_type": "error",
     "traceback": [
      "\u001b[1;31m---------------------------------------------------------------------------\u001b[0m",
      "\u001b[1;31mKeyError\u001b[0m                                  Traceback (most recent call last)",
      "\u001b[1;32m~\\Miniconda3\\lib\\site-packages\\xarray\\backends\\file_manager.py\u001b[0m in \u001b[0;36macquire\u001b[1;34m(self)\u001b[0m\n\u001b[0;32m    136\u001b[0m             \u001b[1;32mtry\u001b[0m\u001b[1;33m:\u001b[0m\u001b[1;33m\u001b[0m\u001b[0m\n\u001b[1;32m--> 137\u001b[1;33m                 \u001b[0mfile\u001b[0m \u001b[1;33m=\u001b[0m \u001b[0mself\u001b[0m\u001b[1;33m.\u001b[0m\u001b[0m_cache\u001b[0m\u001b[1;33m[\u001b[0m\u001b[0mself\u001b[0m\u001b[1;33m.\u001b[0m\u001b[0m_key\u001b[0m\u001b[1;33m]\u001b[0m\u001b[1;33m\u001b[0m\u001b[0m\n\u001b[0m\u001b[0;32m    138\u001b[0m             \u001b[1;32mexcept\u001b[0m \u001b[0mKeyError\u001b[0m\u001b[1;33m:\u001b[0m\u001b[1;33m\u001b[0m\u001b[0m\n",
      "\u001b[1;32m~\\Miniconda3\\lib\\site-packages\\xarray\\backends\\lru_cache.py\u001b[0m in \u001b[0;36m__getitem__\u001b[1;34m(self, key)\u001b[0m\n\u001b[0;32m     42\u001b[0m         \u001b[1;32mwith\u001b[0m \u001b[0mself\u001b[0m\u001b[1;33m.\u001b[0m\u001b[0m_lock\u001b[0m\u001b[1;33m:\u001b[0m\u001b[1;33m\u001b[0m\u001b[0m\n\u001b[1;32m---> 43\u001b[1;33m             \u001b[0mvalue\u001b[0m \u001b[1;33m=\u001b[0m \u001b[0mself\u001b[0m\u001b[1;33m.\u001b[0m\u001b[0m_cache\u001b[0m\u001b[1;33m[\u001b[0m\u001b[0mkey\u001b[0m\u001b[1;33m]\u001b[0m\u001b[1;33m\u001b[0m\u001b[0m\n\u001b[0m\u001b[0;32m     44\u001b[0m             \u001b[0mmove_to_end\u001b[0m\u001b[1;33m(\u001b[0m\u001b[0mself\u001b[0m\u001b[1;33m.\u001b[0m\u001b[0m_cache\u001b[0m\u001b[1;33m,\u001b[0m \u001b[0mkey\u001b[0m\u001b[1;33m)\u001b[0m\u001b[1;33m\u001b[0m\u001b[0m\n",
      "\u001b[1;31mKeyError\u001b[0m: [<function _open_netcdf4_group at 0x0000000008703BF8>, ('F:\\\\data\\\\model_data\\\\CMEM\\\\global-reanalysis-phy-001-030-monthly\\\\2017\\\\year_subset_mercatorglorys12v1_gl12_mean_2017.nc', CombinedLock([<SerializableLock: abf133bb-5cde-4bbd-8dc9-d551c67876d3>, <SerializableLock: 446a9030-224e-41e2-b7cf-b33b8ea82d75>])), 'r', (('clobber', True), ('diskless', False), ('format', 'NETCDF4'), ('group', None), ('persist', False))]",
      "\nDuring handling of the above exception, another exception occurred:\n",
      "\u001b[1;31mFileNotFoundError\u001b[0m                         Traceback (most recent call last)",
      "\u001b[1;32m<ipython-input-4-b57840775865>\u001b[0m in \u001b[0;36m<module>\u001b[1;34m\u001b[0m\n\u001b[0;32m      5\u001b[0m     \u001b[0md\u001b[0m \u001b[1;33m=\u001b[0m \u001b[0mdt\u001b[0m\u001b[1;33m.\u001b[0m\u001b[0mdate\u001b[0m\u001b[1;33m(\u001b[0m\u001b[0mlyr\u001b[0m\u001b[1;33m,\u001b[0m\u001b[1;36m1\u001b[0m\u001b[1;33m,\u001b[0m\u001b[1;36m1\u001b[0m\u001b[1;33m)\u001b[0m\u001b[1;33m\u001b[0m\u001b[0m\n\u001b[0;32m      6\u001b[0m     \u001b[0mfilename\u001b[0m \u001b[1;33m=\u001b[0m \u001b[0msss_filename_new_yearly\u001b[0m\u001b[1;33m(\u001b[0m\u001b[0md\u001b[0m\u001b[1;33m)\u001b[0m\u001b[1;33m\u001b[0m\u001b[0m\n\u001b[1;32m----> 7\u001b[1;33m     \u001b[0mds\u001b[0m \u001b[1;33m=\u001b[0m \u001b[0mxr\u001b[0m\u001b[1;33m.\u001b[0m\u001b[0mopen_dataset\u001b[0m\u001b[1;33m(\u001b[0m\u001b[0mfilename\u001b[0m\u001b[1;33m,\u001b[0m\u001b[0mdrop_variables\u001b[0m \u001b[1;33m=\u001b[0m \u001b[1;33m[\u001b[0m\u001b[1;34m'usi'\u001b[0m\u001b[1;33m,\u001b[0m\u001b[1;34m'vsi'\u001b[0m\u001b[1;33m,\u001b[0m\u001b[1;34m'mlotst'\u001b[0m\u001b[1;33m,\u001b[0m\u001b[1;34m'zos'\u001b[0m\u001b[1;33m,\u001b[0m\u001b[1;34m'bottomT'\u001b[0m\u001b[1;33m,\u001b[0m\u001b[1;34m'sithick'\u001b[0m\u001b[1;33m,\u001b[0m\u001b[1;34m'siconc'\u001b[0m\u001b[1;33m,\u001b[0m\u001b[1;34m'thetao'\u001b[0m\u001b[1;33m,\u001b[0m\u001b[1;34m'uo'\u001b[0m\u001b[1;33m,\u001b[0m\u001b[1;34m'vo'\u001b[0m\u001b[1;33m]\u001b[0m\u001b[1;33m)\u001b[0m\u001b[1;33m\u001b[0m\u001b[0m\n\u001b[0m\u001b[0;32m      8\u001b[0m     \u001b[1;32mif\u001b[0m \u001b[0minit\u001b[0m\u001b[1;33m==\u001b[0m\u001b[1;36m0\u001b[0m\u001b[1;33m:\u001b[0m\u001b[1;33m\u001b[0m\u001b[0m\n\u001b[0;32m      9\u001b[0m         \u001b[0mds_sum\u001b[0m \u001b[1;33m=\u001b[0m \u001b[0mds\u001b[0m\u001b[1;33m\u001b[0m\u001b[0m\n",
      "\u001b[1;32m~\\Miniconda3\\lib\\site-packages\\xarray\\backends\\api.py\u001b[0m in \u001b[0;36mopen_dataset\u001b[1;34m(filename_or_obj, group, decode_cf, mask_and_scale, decode_times, autoclose, concat_characters, decode_coords, engine, chunks, lock, cache, drop_variables, backend_kwargs)\u001b[0m\n\u001b[0;32m    318\u001b[0m         \u001b[1;32mif\u001b[0m \u001b[0mengine\u001b[0m \u001b[1;33m==\u001b[0m \u001b[1;34m'netcdf4'\u001b[0m\u001b[1;33m:\u001b[0m\u001b[1;33m\u001b[0m\u001b[0m\n\u001b[0;32m    319\u001b[0m             store = backends.NetCDF4DataStore.open(\n\u001b[1;32m--> 320\u001b[1;33m                 filename_or_obj, group=group, lock=lock, **backend_kwargs)\n\u001b[0m\u001b[0;32m    321\u001b[0m         \u001b[1;32melif\u001b[0m \u001b[0mengine\u001b[0m \u001b[1;33m==\u001b[0m \u001b[1;34m'scipy'\u001b[0m\u001b[1;33m:\u001b[0m\u001b[1;33m\u001b[0m\u001b[0m\n\u001b[0;32m    322\u001b[0m             \u001b[0mstore\u001b[0m \u001b[1;33m=\u001b[0m \u001b[0mbackends\u001b[0m\u001b[1;33m.\u001b[0m\u001b[0mScipyDataStore\u001b[0m\u001b[1;33m(\u001b[0m\u001b[0mfilename_or_obj\u001b[0m\u001b[1;33m,\u001b[0m \u001b[1;33m**\u001b[0m\u001b[0mbackend_kwargs\u001b[0m\u001b[1;33m)\u001b[0m\u001b[1;33m\u001b[0m\u001b[0m\n",
      "\u001b[1;32m~\\Miniconda3\\lib\\site-packages\\xarray\\backends\\netCDF4_.py\u001b[0m in \u001b[0;36mopen\u001b[1;34m(cls, filename, mode, format, group, clobber, diskless, persist, lock, lock_maker, autoclose)\u001b[0m\n\u001b[0;32m    353\u001b[0m             kwargs=dict(group=group, clobber=clobber, diskless=diskless,\n\u001b[0;32m    354\u001b[0m                         persist=persist, format=format))\n\u001b[1;32m--> 355\u001b[1;33m         \u001b[1;32mreturn\u001b[0m \u001b[0mcls\u001b[0m\u001b[1;33m(\u001b[0m\u001b[0mmanager\u001b[0m\u001b[1;33m,\u001b[0m \u001b[0mlock\u001b[0m\u001b[1;33m=\u001b[0m\u001b[0mlock\u001b[0m\u001b[1;33m,\u001b[0m \u001b[0mautoclose\u001b[0m\u001b[1;33m=\u001b[0m\u001b[0mautoclose\u001b[0m\u001b[1;33m)\u001b[0m\u001b[1;33m\u001b[0m\u001b[0m\n\u001b[0m\u001b[0;32m    356\u001b[0m \u001b[1;33m\u001b[0m\u001b[0m\n\u001b[0;32m    357\u001b[0m     \u001b[1;33m@\u001b[0m\u001b[0mproperty\u001b[0m\u001b[1;33m\u001b[0m\u001b[0m\n",
      "\u001b[1;32m~\\Miniconda3\\lib\\site-packages\\xarray\\backends\\netCDF4_.py\u001b[0m in \u001b[0;36m__init__\u001b[1;34m(self, manager, lock, autoclose)\u001b[0m\n\u001b[0;32m    312\u001b[0m \u001b[1;33m\u001b[0m\u001b[0m\n\u001b[0;32m    313\u001b[0m         \u001b[0mself\u001b[0m\u001b[1;33m.\u001b[0m\u001b[0m_manager\u001b[0m \u001b[1;33m=\u001b[0m \u001b[0mmanager\u001b[0m\u001b[1;33m\u001b[0m\u001b[0m\n\u001b[1;32m--> 314\u001b[1;33m         \u001b[0mself\u001b[0m\u001b[1;33m.\u001b[0m\u001b[0mformat\u001b[0m \u001b[1;33m=\u001b[0m \u001b[0mself\u001b[0m\u001b[1;33m.\u001b[0m\u001b[0mds\u001b[0m\u001b[1;33m.\u001b[0m\u001b[0mdata_model\u001b[0m\u001b[1;33m\u001b[0m\u001b[0m\n\u001b[0m\u001b[0;32m    315\u001b[0m         \u001b[0mself\u001b[0m\u001b[1;33m.\u001b[0m\u001b[0m_filename\u001b[0m \u001b[1;33m=\u001b[0m \u001b[0mself\u001b[0m\u001b[1;33m.\u001b[0m\u001b[0mds\u001b[0m\u001b[1;33m.\u001b[0m\u001b[0mfilepath\u001b[0m\u001b[1;33m(\u001b[0m\u001b[1;33m)\u001b[0m\u001b[1;33m\u001b[0m\u001b[0m\n\u001b[0;32m    316\u001b[0m         \u001b[0mself\u001b[0m\u001b[1;33m.\u001b[0m\u001b[0mis_remote\u001b[0m \u001b[1;33m=\u001b[0m \u001b[0mis_remote_uri\u001b[0m\u001b[1;33m(\u001b[0m\u001b[0mself\u001b[0m\u001b[1;33m.\u001b[0m\u001b[0m_filename\u001b[0m\u001b[1;33m)\u001b[0m\u001b[1;33m\u001b[0m\u001b[0m\n",
      "\u001b[1;32m~\\Miniconda3\\lib\\site-packages\\xarray\\backends\\netCDF4_.py\u001b[0m in \u001b[0;36mds\u001b[1;34m(self)\u001b[0m\n\u001b[0;32m    357\u001b[0m     \u001b[1;33m@\u001b[0m\u001b[0mproperty\u001b[0m\u001b[1;33m\u001b[0m\u001b[0m\n\u001b[0;32m    358\u001b[0m     \u001b[1;32mdef\u001b[0m \u001b[0mds\u001b[0m\u001b[1;33m(\u001b[0m\u001b[0mself\u001b[0m\u001b[1;33m)\u001b[0m\u001b[1;33m:\u001b[0m\u001b[1;33m\u001b[0m\u001b[0m\n\u001b[1;32m--> 359\u001b[1;33m         \u001b[1;32mreturn\u001b[0m \u001b[0mself\u001b[0m\u001b[1;33m.\u001b[0m\u001b[0m_manager\u001b[0m\u001b[1;33m.\u001b[0m\u001b[0macquire\u001b[0m\u001b[1;33m(\u001b[0m\u001b[1;33m)\u001b[0m\u001b[1;33m.\u001b[0m\u001b[0mvalue\u001b[0m\u001b[1;33m\u001b[0m\u001b[0m\n\u001b[0m\u001b[0;32m    360\u001b[0m \u001b[1;33m\u001b[0m\u001b[0m\n\u001b[0;32m    361\u001b[0m     \u001b[1;32mdef\u001b[0m \u001b[0mopen_store_variable\u001b[0m\u001b[1;33m(\u001b[0m\u001b[0mself\u001b[0m\u001b[1;33m,\u001b[0m \u001b[0mname\u001b[0m\u001b[1;33m,\u001b[0m \u001b[0mvar\u001b[0m\u001b[1;33m)\u001b[0m\u001b[1;33m:\u001b[0m\u001b[1;33m\u001b[0m\u001b[0m\n",
      "\u001b[1;32m~\\Miniconda3\\lib\\site-packages\\xarray\\backends\\file_manager.py\u001b[0m in \u001b[0;36macquire\u001b[1;34m(self)\u001b[0m\n\u001b[0;32m    141\u001b[0m                     \u001b[0mkwargs\u001b[0m \u001b[1;33m=\u001b[0m \u001b[0mkwargs\u001b[0m\u001b[1;33m.\u001b[0m\u001b[0mcopy\u001b[0m\u001b[1;33m(\u001b[0m\u001b[1;33m)\u001b[0m\u001b[1;33m\u001b[0m\u001b[0m\n\u001b[0;32m    142\u001b[0m                     \u001b[0mkwargs\u001b[0m\u001b[1;33m[\u001b[0m\u001b[1;34m'mode'\u001b[0m\u001b[1;33m]\u001b[0m \u001b[1;33m=\u001b[0m \u001b[0mself\u001b[0m\u001b[1;33m.\u001b[0m\u001b[0m_mode\u001b[0m\u001b[1;33m\u001b[0m\u001b[0m\n\u001b[1;32m--> 143\u001b[1;33m                 \u001b[0mfile\u001b[0m \u001b[1;33m=\u001b[0m \u001b[0mself\u001b[0m\u001b[1;33m.\u001b[0m\u001b[0m_opener\u001b[0m\u001b[1;33m(\u001b[0m\u001b[1;33m*\u001b[0m\u001b[0mself\u001b[0m\u001b[1;33m.\u001b[0m\u001b[0m_args\u001b[0m\u001b[1;33m,\u001b[0m \u001b[1;33m**\u001b[0m\u001b[0mkwargs\u001b[0m\u001b[1;33m)\u001b[0m\u001b[1;33m\u001b[0m\u001b[0m\n\u001b[0m\u001b[0;32m    144\u001b[0m                 \u001b[1;32mif\u001b[0m \u001b[0mself\u001b[0m\u001b[1;33m.\u001b[0m\u001b[0m_mode\u001b[0m \u001b[1;33m==\u001b[0m \u001b[1;34m'w'\u001b[0m\u001b[1;33m:\u001b[0m\u001b[1;33m\u001b[0m\u001b[0m\n\u001b[0;32m    145\u001b[0m                     \u001b[1;31m# ensure file doesn't get overriden when opened again\u001b[0m\u001b[1;33m\u001b[0m\u001b[1;33m\u001b[0m\u001b[0m\n",
      "\u001b[1;32m~\\Miniconda3\\lib\\site-packages\\xarray\\backends\\netCDF4_.py\u001b[0m in \u001b[0;36m_open_netcdf4_group\u001b[1;34m(filename, lock, mode, group, **kwargs)\u001b[0m\n\u001b[0;32m    245\u001b[0m     \u001b[1;32mimport\u001b[0m \u001b[0mnetCDF4\u001b[0m \u001b[1;32mas\u001b[0m \u001b[0mnc4\u001b[0m\u001b[1;33m\u001b[0m\u001b[0m\n\u001b[0;32m    246\u001b[0m \u001b[1;33m\u001b[0m\u001b[0m\n\u001b[1;32m--> 247\u001b[1;33m     \u001b[0mds\u001b[0m \u001b[1;33m=\u001b[0m \u001b[0mnc4\u001b[0m\u001b[1;33m.\u001b[0m\u001b[0mDataset\u001b[0m\u001b[1;33m(\u001b[0m\u001b[0mfilename\u001b[0m\u001b[1;33m,\u001b[0m \u001b[0mmode\u001b[0m\u001b[1;33m=\u001b[0m\u001b[0mmode\u001b[0m\u001b[1;33m,\u001b[0m \u001b[1;33m**\u001b[0m\u001b[0mkwargs\u001b[0m\u001b[1;33m)\u001b[0m\u001b[1;33m\u001b[0m\u001b[0m\n\u001b[0m\u001b[0;32m    248\u001b[0m \u001b[1;33m\u001b[0m\u001b[0m\n\u001b[0;32m    249\u001b[0m     \u001b[1;32mwith\u001b[0m \u001b[0mclose_on_error\u001b[0m\u001b[1;33m(\u001b[0m\u001b[0mds\u001b[0m\u001b[1;33m)\u001b[0m\u001b[1;33m:\u001b[0m\u001b[1;33m\u001b[0m\u001b[0m\n",
      "\u001b[1;32mnetCDF4\\_netCDF4.pyx\u001b[0m in \u001b[0;36mnetCDF4._netCDF4.Dataset.__init__\u001b[1;34m()\u001b[0m\n",
      "\u001b[1;32mnetCDF4\\_netCDF4.pyx\u001b[0m in \u001b[0;36mnetCDF4._netCDF4._ensure_nc_success\u001b[1;34m()\u001b[0m\n",
      "\u001b[1;31mFileNotFoundError\u001b[0m: [Errno 2] No such file or directory: b'F:\\\\data\\\\model_data\\\\CMEM\\\\global-reanalysis-phy-001-030-monthly\\\\2017\\\\year_subset_mercatorglorys12v1_gl12_mean_2017.nc'"
     ]
    }
   ],
   "source": [
    "#make climatology from monthly files\n",
    "#make cmc climatology from monthly files\n",
    "init = 0\n",
    "for lyr in range(2017,2018): #2018): \n",
    "    d = dt.date(lyr,1,1) \n",
    "    filename = sss_filename_new_yearly(d)\n",
    "    ds = xr.open_dataset(filename,drop_variables = ['usi','vsi','mlotst','zos','bottomT','sithick','siconc','thetao','uo','vo'])\n",
    "    if init==0:\n",
    "        ds_sum = ds\n",
    "        init = 1\n",
    "    else:\n",
    "        ds_sum = xr.concat([ds_sum,ds],dim = 'time')\n",
    "    ds.close()\n",
    "    print(lyr,ds_sum.dims)\n",
    "ds_sum2 = ds_sum.groupby('time.month').mean('time')\n",
    "fname_tem='climatology_monthly_1993_1998_mercatorglorys12v1_gl12_mean.nc'\n",
    "filename_out = dir_data_clim + fname_tem\n",
    "ds_sum2.to_netcdf(filename_out)\n"
   ]
  },
  {
   "cell_type": "code",
   "execution_count": 7,
   "metadata": {},
   "outputs": [
    {
     "name": "stdout",
     "output_type": "stream",
     "text": [
      "1999 Frozen(SortedKeysDict({'lat': 901, 'lon': 1800, 'time': 12}))\n",
      "2000 Frozen(SortedKeysDict({'lat': 901, 'lon': 1800, 'time': 24}))\n",
      "2001 Frozen(SortedKeysDict({'lat': 901, 'lon': 1800, 'time': 36}))\n",
      "2002 Frozen(SortedKeysDict({'lat': 901, 'lon': 1800, 'time': 48}))\n",
      "2003 Frozen(SortedKeysDict({'lat': 901, 'lon': 1800, 'time': 60}))\n",
      "2004 Frozen(SortedKeysDict({'lat': 901, 'lon': 1800, 'time': 72}))\n"
     ]
    },
    {
     "name": "stderr",
     "output_type": "stream",
     "text": [
      "C:\\Users\\gentemann\\Miniconda3\\lib\\site-packages\\xarray\\core\\nanops.py:161: RuntimeWarning: Mean of empty slice\n",
      "  return np.nanmean(a, axis=axis, dtype=dtype)\n"
     ]
    },
    {
     "name": "stdout",
     "output_type": "stream",
     "text": [
      "2005 Frozen(SortedKeysDict({'lat': 901, 'lon': 1800, 'time': 12}))\n",
      "2006 Frozen(SortedKeysDict({'lat': 901, 'lon': 1800, 'time': 24}))\n",
      "2007 Frozen(SortedKeysDict({'lat': 901, 'lon': 1800, 'time': 36}))\n",
      "2008 Frozen(SortedKeysDict({'lat': 901, 'lon': 1800, 'time': 48}))\n",
      "2009 Frozen(SortedKeysDict({'lat': 901, 'lon': 1800, 'time': 60}))\n",
      "2010 Frozen(SortedKeysDict({'lat': 901, 'lon': 1800, 'time': 72}))\n"
     ]
    },
    {
     "name": "stderr",
     "output_type": "stream",
     "text": [
      "C:\\Users\\gentemann\\Miniconda3\\lib\\site-packages\\xarray\\core\\nanops.py:161: RuntimeWarning: Mean of empty slice\n",
      "  return np.nanmean(a, axis=axis, dtype=dtype)\n"
     ]
    },
    {
     "name": "stdout",
     "output_type": "stream",
     "text": [
      "2011 Frozen(SortedKeysDict({'lat': 901, 'lon': 1800, 'time': 12}))\n",
      "2012 Frozen(SortedKeysDict({'lat': 901, 'lon': 1800, 'time': 24}))\n",
      "2013 Frozen(SortedKeysDict({'lat': 901, 'lon': 1800, 'time': 36}))\n",
      "2014 Frozen(SortedKeysDict({'lat': 901, 'lon': 1800, 'time': 48}))\n",
      "2015 Frozen(SortedKeysDict({'lat': 901, 'lon': 1800, 'time': 60}))\n",
      "2016 Frozen(SortedKeysDict({'lat': 901, 'lon': 1800, 'time': 72}))\n"
     ]
    },
    {
     "name": "stderr",
     "output_type": "stream",
     "text": [
      "C:\\Users\\gentemann\\Miniconda3\\lib\\site-packages\\xarray\\core\\nanops.py:161: RuntimeWarning: Mean of empty slice\n",
      "  return np.nanmean(a, axis=axis, dtype=dtype)\n"
     ]
    }
   ],
   "source": [
    "init = 0\n",
    "for lyr in range(1999,2005): #2018): \n",
    "    d = dt.date(lyr,1,1) \n",
    "    filename = sss_filename_new_yearly(d)\n",
    "    ds = xr.open_dataset(filename,drop_variables = ['usi','vsi','mlotst','zos','bottomT','sithick','siconc','thetao','uo','vo'])\n",
    "    if init==0:\n",
    "        ds_sum = ds\n",
    "        init = 1\n",
    "    else:\n",
    "        ds_sum = xr.concat([ds_sum,ds],dim = 'time')\n",
    "    ds.close()\n",
    "    print(lyr,ds_sum.dims)\n",
    "ds_sum2 = ds_sum.groupby('time.month').mean('time')\n",
    "fname_tem='climatology_monthly_1999_2004_mercatorglorys12v1_gl12_mean.nc'\n",
    "filename_out = dir_data_clim + fname_tem\n",
    "ds_sum2.to_netcdf(filename_out)\n",
    "init = 0\n",
    "for lyr in range(2005,2011): #2018): \n",
    "    d = dt.date(lyr,1,1) \n",
    "    filename = sss_filename_new_yearly(d)\n",
    "    ds = xr.open_dataset(filename,drop_variables = ['usi','vsi','mlotst','zos','bottomT','sithick','siconc','thetao','uo','vo'])\n",
    "    if init==0:\n",
    "        ds_sum = ds\n",
    "        init = 1\n",
    "    else:\n",
    "        ds_sum = xr.concat([ds_sum,ds],dim = 'time')\n",
    "    ds.close()\n",
    "    print(lyr,ds_sum.dims)\n",
    "ds_sum2 = ds_sum.groupby('time.month').mean('time')\n",
    "fname_tem='climatology_monthly_2005_2010_mercatorglorys12v1_gl12_mean.nc'\n",
    "filename_out = dir_data_clim + fname_tem\n",
    "ds_sum2.to_netcdf(filename_out)\n"
   ]
  },
  {
   "cell_type": "code",
   "execution_count": 7,
   "metadata": {},
   "outputs": [
    {
     "name": "stdout",
     "output_type": "stream",
     "text": [
      "2011 Frozen(SortedKeysDict({'lat': 901, 'lon': 1800, 'time': 12}))\n",
      "2012 Frozen(SortedKeysDict({'lat': 901, 'lon': 1800, 'time': 24}))\n",
      "2013 Frozen(SortedKeysDict({'lat': 901, 'lon': 1800, 'time': 36}))\n",
      "2014 Frozen(SortedKeysDict({'lat': 901, 'lon': 1800, 'time': 48}))\n",
      "2015 Frozen(SortedKeysDict({'lat': 901, 'lon': 1800, 'time': 60}))\n",
      "2016 Frozen(SortedKeysDict({'lat': 901, 'lon': 1800, 'time': 72}))\n",
      "2017 Frozen(SortedKeysDict({'lat': 901, 'lon': 1800, 'time': 84}))\n"
     ]
    },
    {
     "name": "stderr",
     "output_type": "stream",
     "text": [
      "C:\\Users\\gentemann\\Miniconda3\\lib\\site-packages\\xarray\\core\\nanops.py:161: RuntimeWarning: Mean of empty slice\n",
      "  return np.nanmean(a, axis=axis, dtype=dtype)\n"
     ]
    }
   ],
   "source": [
    "init = 0\n",
    "for lyr in range(2011,2018): #2018): \n",
    "    d = dt.date(lyr,1,1) \n",
    "    filename = sss_filename_new_yearly(d)\n",
    "    ds = xr.open_dataset(filename,drop_variables = ['usi','vsi','mlotst','zos','bottomT','sithick','siconc','thetao','uo','vo'])\n",
    "    if init==0:\n",
    "        ds_sum = ds\n",
    "        init = 1\n",
    "    else:\n",
    "        ds_sum = xr.concat([ds_sum,ds],dim = 'time')\n",
    "    ds.close()\n",
    "    print(lyr,ds_sum.dims)\n",
    "ds_sum2 = ds_sum.groupby('time.month').mean('time')\n",
    "fname_tem='climatology_monthly_2011_2017_mercatorglorys12v1_gl12_mean.nc'\n",
    "filename_out = dir_data_clim + fname_tem\n",
    "ds_sum2.to_netcdf(filename_out)\n",
    "    "
   ]
  },
  {
   "cell_type": "code",
   "execution_count": 8,
   "metadata": {},
   "outputs": [
    {
     "data": {
      "text/plain": [
       "<xarray.Dataset>\n",
       "Dimensions:  (lat: 901, lon: 1800, month: 12)\n",
       "Coordinates:\n",
       "    depth    float32 0.494025\n",
       "  * lat      (lat) float64 -90.0 -89.8 -89.6 -89.4 -89.2 ... 89.4 89.6 89.8 90.0\n",
       "  * lon      (lon) float64 -180.0 -179.8 -179.6 -179.4 ... 179.4 179.6 179.8\n",
       "  * month    (month) int64 1 2 3 4 5 6 7 8 9 10 11 12\n",
       "Data variables:\n",
       "    so       (month, lat, lon) float64 nan nan nan nan nan ... nan nan nan nan"
      ]
     },
     "execution_count": 8,
     "metadata": {},
     "output_type": "execute_result"
    }
   ],
   "source": [
    "ds_sum2"
   ]
  },
  {
   "cell_type": "code",
   "execution_count": 8,
   "metadata": {},
   "outputs": [
    {
     "name": "stderr",
     "output_type": "stream",
     "text": [
      "C:\\Users\\gentemann\\Miniconda3\\lib\\site-packages\\xarray\\core\\nanops.py:161: RuntimeWarning: Mean of empty slice\n",
      "  return np.nanmean(a, axis=axis, dtype=dtype)\n"
     ]
    }
   ],
   "source": [
    "#put clim together into one \n",
    "fname_tem='climatology_monthly_1993_1998_mercatorglorys12v1_gl12_mean.nc'\n",
    "filename = dir_data_clim + fname_tem\n",
    "ds = xr.open_dataset(filename)\n",
    "ds_sum = ds\n",
    "ds.close()\n",
    "fname_tem='climatology_monthly_1999_2004_mercatorglorys12v1_gl12_mean.nc'\n",
    "filename = dir_data_clim + fname_tem\n",
    "ds = xr.open_dataset(filename)\n",
    "ds_sum = xr.concat([ds_sum,ds],dim = 'month')\n",
    "ds.close()\n",
    "fname_tem='climatology_monthly_2005_2010_mercatorglorys12v1_gl12_mean.nc'\n",
    "filename = dir_data_clim + fname_tem\n",
    "ds = xr.open_dataset(filename)\n",
    "ds_sum = xr.concat([ds_sum,ds],dim = 'month')\n",
    "ds.close()\n",
    "fname_tem='climatology_monthly_2011_2017_mercatorglorys12v1_gl12_mean.nc'\n",
    "filename = dir_data_clim + fname_tem\n",
    "ds = xr.open_dataset(filename)\n",
    "ds_sum = xr.concat([ds_sum,ds],dim = 'month')\n",
    "ds.close()\n",
    "ds_sum2 = ds_sum.groupby('month').mean('month')\n",
    "#ds_sum2.rename({'longitude':'lon','latitude':'lat'}, inplace = True)\n",
    "fname_tem='climatology_monthly_1993_2017_mercatorglorys12v1_gl12_mean.nc'\n",
    "filename_out = dir_data_clim + fname_tem\n",
    "ds_sum2.to_netcdf(filename_out)\n"
   ]
  },
  {
   "cell_type": "code",
   "execution_count": 14,
   "metadata": {},
   "outputs": [
    {
     "data": {
      "text/plain": [
       "<xarray.Dataset>\n",
       "Dimensions:  (lat: 901, lon: 1800, month: 12)\n",
       "Coordinates:\n",
       "    depth    float32 0.494025\n",
       "  * lat      (lat) float64 -90.0 -89.8 -89.6 -89.4 -89.2 ... 89.4 89.6 89.8 90.0\n",
       "  * lon      (lon) float64 -180.0 -179.8 -179.6 -179.4 ... 179.4 179.6 179.8\n",
       "  * month    (month) int64 1 2 3 4 5 6 7 8 9 10 11 12\n",
       "Data variables:\n",
       "    so       (month, lat, lon) float64 nan nan nan nan nan ... nan nan nan nan"
      ]
     },
     "execution_count": 14,
     "metadata": {},
     "output_type": "execute_result"
    }
   ],
   "source": [
    "ds_sum2"
   ]
  },
  {
   "cell_type": "code",
   "execution_count": 4,
   "metadata": {},
   "outputs": [
    {
     "name": "stdout",
     "output_type": "stream",
     "text": [
      "<xarray.Dataset>\n",
      "Dimensions:  (lat: 901, lon: 1800)\n",
      "Coordinates:\n",
      "    depth    float32 ...\n",
      "  * lat      (lat) float64 -90.0 -89.8 -89.6 -89.4 -89.2 ... 89.4 89.6 89.8 90.0\n",
      "  * lon      (lon) float64 -180.0 -179.8 -179.6 -179.4 ... 179.4 179.6 179.8\n",
      "Data variables:\n",
      "    so       (lat, lon) float64 ...\n"
     ]
    }
   ],
   "source": [
    "#change clim to lat and lon rather than latitude and longitude\n",
    "fname_tem='climatology_monthly_1993_2016_mercatorglorys12v1_gl12_mean.nc'\n",
    "filename_out = dir_data_clim + fname_tem\n",
    "ds=xr.open_dataset(filename_out)\n",
    "#ds.rename({'longitude':'lon','latitude':'lat'}, inplace = True)\n",
    "print(ds)\n",
    "#ds.to_netcdf(filename_out)\n",
    "ds.close()\n"
   ]
  },
  {
   "cell_type": "code",
   "execution_count": null,
   "metadata": {},
   "outputs": [],
   "source": [
    "ds_sum"
   ]
  },
  {
   "cell_type": "code",
   "execution_count": null,
   "metadata": {},
   "outputs": [],
   "source": []
  }
 ],
 "metadata": {
  "kernelspec": {
   "display_name": "Python 3",
   "language": "python",
   "name": "python3"
  },
  "language_info": {
   "codemirror_mode": {
    "name": "ipython",
    "version": 3
   },
   "file_extension": ".py",
   "mimetype": "text/x-python",
   "name": "python",
   "nbconvert_exporter": "python",
   "pygments_lexer": "ipython3",
   "version": "3.7.0"
  }
 },
 "nbformat": 4,
 "nbformat_minor": 2
}
