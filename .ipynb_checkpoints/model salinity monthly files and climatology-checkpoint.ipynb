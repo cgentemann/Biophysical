{
 "cells": [
  {
   "cell_type": "code",
   "execution_count": 3,
   "metadata": {},
   "outputs": [],
   "source": [
    "import pandas\n",
    "import matplotlib as mpl\n",
    "import xarray as xr\n",
    "import numpy as np\n",
    "import datetime as dt\n",
    "import os.path\n",
    "dir_data='F:/data/model_data/CMEM/global-reanalysis-phy-001-030-monthly/'\n",
    "dir_data_clim='F:/data/model_data/CMEM/global-reanalysis-phy-001-030-monthly/clim/'\n",
    "def sss_filename(d):\n",
    "    dir_data='F:/data/model_data/CMEM/global-reanalysis-phy-001-030-monthly/'\n",
    "    syr=str(d.year).zfill(4)\n",
    "    smon=str(d.month).zfill(2)\n",
    "    fname_tem=syr + '/'+ 'mercatorglorys12v1_gl12_mean_' + syr + smon + '.nc'\n",
    "    filename = dir_data + fname_tem\n",
    "    return filename\n",
    "def sss_filename_new(d):\n",
    "    dir_data='F:/data/model_data/CMEM/global-reanalysis-phy-001-030-monthly/'\n",
    "    syr=str(d.year).zfill(4)\n",
    "    smon=str(d.month).zfill(2)\n",
    "    fname_tem=syr + '/'+ 'subset_mercatorglorys12v1_gl12_mean_' + syr + smon + '.nc'\n",
    "    filename = dir_data + fname_tem\n",
    "    return filename\n",
    "def sss_filename_new_yearly(d):\n",
    "    dir_data='F:/data/model_data/CMEM/global-reanalysis-phy-001-030-monthly/'\n",
    "    syr=str(d.year).zfill(4)\n",
    "    smon=str(d.month).zfill(2)\n",
    "    fname_tem=syr + '/'+ 'year_subset_mercatorglorys12v1_gl12_mean_' + syr + '.nc'\n",
    "    filename = dir_data + fname_tem\n",
    "    return filename\n",
    "\n",
    "#get 0.25 km grid from cmc data to downsamplt this\n",
    "filename = 'https://podaac-opendap.jpl.nasa.gov/opendap/allData/ghrsst/data/GDS2/L4/GLOB/CMC/CMC0.2deg/v2/1994/002/19940102120000-CMC-L4_GHRSST-SSTfnd-CMC0.2deg-GLOB-v02.0-fv02.0.nc'\n",
    "ds_v2 = xr.open_dataset(filename)\n",
    "new_lat = np.linspace(ds_v2.lat[0], ds_v2.lat[-1], ds_v2.dims['lat'])\n",
    "new_lon = np.linspace(ds_v2.lon[0], ds_v2.lon[-1], ds_v2.dims['lon'])\n",
    "ds_v2.close()"
   ]
  },
  {
   "cell_type": "code",
   "execution_count": null,
   "metadata": {},
   "outputs": [],
   "source": [
    "#files are huge becauseo of depth layers, so lower spatial resolution and only save surface data\n",
    "for lyr in range(2004,2005): #2017):\n",
    "    for imon in range(1,13): #3,13):\n",
    "        d = dt.date(lyr,imon,1) \n",
    "        filename = sss_filename(d)\n",
    "        if os.path.exists(filename):      \n",
    "            ds = xr.open_dataset(filename)\n",
    "            ds_subset = ds.sel(depth = ds.depth[0].data)\n",
    "            ds_low_res = ds_subset.interp(latitude = new_lat,longitude = new_lon)\n",
    "            ds.close()\n",
    "            filename_new = sss_filename_new(d)\n",
    "            ds_low_res.to_netcdf(filename_new)\n",
    "            os.remove(filename)"
   ]
  },
  {
   "cell_type": "code",
   "execution_count": 3,
   "metadata": {},
   "outputs": [
    {
     "name": "stderr",
     "output_type": "stream",
     "text": [
      "C:\\Users\\gentemann\\Miniconda3\\lib\\site-packages\\ipykernel_launcher.py:12: FutureWarning: The inplace argument has been deprecated and will be removed in xarray 0.12.0.\n",
      "  if sys.path[0] == '':\n",
      "C:\\Users\\gentemann\\Miniconda3\\lib\\site-packages\\ipykernel_launcher.py:12: FutureWarning: The inplace argument has been deprecated and will be removed in xarray 0.12.0.\n",
      "  if sys.path[0] == '':\n",
      "C:\\Users\\gentemann\\Miniconda3\\lib\\site-packages\\ipykernel_launcher.py:12: FutureWarning: The inplace argument has been deprecated and will be removed in xarray 0.12.0.\n",
      "  if sys.path[0] == '':\n",
      "C:\\Users\\gentemann\\Miniconda3\\lib\\site-packages\\ipykernel_launcher.py:12: FutureWarning: The inplace argument has been deprecated and will be removed in xarray 0.12.0.\n",
      "  if sys.path[0] == '':\n",
      "C:\\Users\\gentemann\\Miniconda3\\lib\\site-packages\\ipykernel_launcher.py:12: FutureWarning: The inplace argument has been deprecated and will be removed in xarray 0.12.0.\n",
      "  if sys.path[0] == '':\n",
      "C:\\Users\\gentemann\\Miniconda3\\lib\\site-packages\\ipykernel_launcher.py:12: FutureWarning: The inplace argument has been deprecated and will be removed in xarray 0.12.0.\n",
      "  if sys.path[0] == '':\n",
      "C:\\Users\\gentemann\\Miniconda3\\lib\\site-packages\\ipykernel_launcher.py:12: FutureWarning: The inplace argument has been deprecated and will be removed in xarray 0.12.0.\n",
      "  if sys.path[0] == '':\n",
      "C:\\Users\\gentemann\\Miniconda3\\lib\\site-packages\\ipykernel_launcher.py:12: FutureWarning: The inplace argument has been deprecated and will be removed in xarray 0.12.0.\n",
      "  if sys.path[0] == '':\n",
      "C:\\Users\\gentemann\\Miniconda3\\lib\\site-packages\\ipykernel_launcher.py:12: FutureWarning: The inplace argument has been deprecated and will be removed in xarray 0.12.0.\n",
      "  if sys.path[0] == '':\n",
      "C:\\Users\\gentemann\\Miniconda3\\lib\\site-packages\\ipykernel_launcher.py:12: FutureWarning: The inplace argument has been deprecated and will be removed in xarray 0.12.0.\n",
      "  if sys.path[0] == '':\n",
      "C:\\Users\\gentemann\\Miniconda3\\lib\\site-packages\\ipykernel_launcher.py:12: FutureWarning: The inplace argument has been deprecated and will be removed in xarray 0.12.0.\n",
      "  if sys.path[0] == '':\n",
      "C:\\Users\\gentemann\\Miniconda3\\lib\\site-packages\\ipykernel_launcher.py:12: FutureWarning: The inplace argument has been deprecated and will be removed in xarray 0.12.0.\n",
      "  if sys.path[0] == '':\n",
      "C:\\Users\\gentemann\\Miniconda3\\lib\\site-packages\\ipykernel_launcher.py:12: FutureWarning: The inplace argument has been deprecated and will be removed in xarray 0.12.0.\n",
      "  if sys.path[0] == '':\n",
      "C:\\Users\\gentemann\\Miniconda3\\lib\\site-packages\\ipykernel_launcher.py:12: FutureWarning: The inplace argument has been deprecated and will be removed in xarray 0.12.0.\n",
      "  if sys.path[0] == '':\n",
      "C:\\Users\\gentemann\\Miniconda3\\lib\\site-packages\\ipykernel_launcher.py:12: FutureWarning: The inplace argument has been deprecated and will be removed in xarray 0.12.0.\n",
      "  if sys.path[0] == '':\n",
      "C:\\Users\\gentemann\\Miniconda3\\lib\\site-packages\\ipykernel_launcher.py:12: FutureWarning: The inplace argument has been deprecated and will be removed in xarray 0.12.0.\n",
      "  if sys.path[0] == '':\n",
      "C:\\Users\\gentemann\\Miniconda3\\lib\\site-packages\\ipykernel_launcher.py:12: FutureWarning: The inplace argument has been deprecated and will be removed in xarray 0.12.0.\n",
      "  if sys.path[0] == '':\n",
      "C:\\Users\\gentemann\\Miniconda3\\lib\\site-packages\\ipykernel_launcher.py:12: FutureWarning: The inplace argument has been deprecated and will be removed in xarray 0.12.0.\n",
      "  if sys.path[0] == '':\n",
      "C:\\Users\\gentemann\\Miniconda3\\lib\\site-packages\\ipykernel_launcher.py:12: FutureWarning: The inplace argument has been deprecated and will be removed in xarray 0.12.0.\n",
      "  if sys.path[0] == '':\n",
      "C:\\Users\\gentemann\\Miniconda3\\lib\\site-packages\\ipykernel_launcher.py:12: FutureWarning: The inplace argument has been deprecated and will be removed in xarray 0.12.0.\n",
      "  if sys.path[0] == '':\n",
      "C:\\Users\\gentemann\\Miniconda3\\lib\\site-packages\\ipykernel_launcher.py:12: FutureWarning: The inplace argument has been deprecated and will be removed in xarray 0.12.0.\n",
      "  if sys.path[0] == '':\n",
      "C:\\Users\\gentemann\\Miniconda3\\lib\\site-packages\\ipykernel_launcher.py:12: FutureWarning: The inplace argument has been deprecated and will be removed in xarray 0.12.0.\n",
      "  if sys.path[0] == '':\n",
      "C:\\Users\\gentemann\\Miniconda3\\lib\\site-packages\\ipykernel_launcher.py:12: FutureWarning: The inplace argument has been deprecated and will be removed in xarray 0.12.0.\n",
      "  if sys.path[0] == '':\n",
      "C:\\Users\\gentemann\\Miniconda3\\lib\\site-packages\\ipykernel_launcher.py:12: FutureWarning: The inplace argument has been deprecated and will be removed in xarray 0.12.0.\n",
      "  if sys.path[0] == '':\n"
     ]
    }
   ],
   "source": [
    "#make cmc monthly average ssts into one yearly file\n",
    "for lyr in range(1993,2017): #2017):\n",
    "    ds_mnth=[]\n",
    "    for imon in range(1,13):\n",
    "        d = dt.date(lyr,imon,1) \n",
    "        filename = sss_filename_new(d)\n",
    "        filename_new = sss_filename_new_yearly(d)\n",
    "        ds = xr.open_dataset(filename)\n",
    "        ds.close()\n",
    "        ds_mnth.append(ds)\n",
    "    combined = xr.concat(ds_mnth, dim='time')\n",
    "    combined.rename({'longitude':'lon','latitude':'lat'}, inplace = True)\n",
    "    combined.to_netcdf(filename_new)\n",
    "    "
   ]
  },
  {
   "cell_type": "code",
   "execution_count": 4,
   "metadata": {},
   "outputs": [
    {
     "name": "stdout",
     "output_type": "stream",
     "text": [
      "<xarray.Dataset>\n",
      "Dimensions:  (lat: 901, lon: 1800, time: 12)\n",
      "Coordinates:\n",
      "    depth    float32 ...\n",
      "  * lat      (lat) float64 -90.0 -89.8 -89.6 -89.4 -89.2 ... 89.4 89.6 89.8 90.0\n",
      "  * lon      (lon) float64 -180.0 -179.8 -179.6 -179.4 ... 179.4 179.6 179.8\n",
      "  * time     (time) datetime64[ns] 2002-01-16T12:00:00 ... 2002-12-16T12:00:00\n",
      "Data variables:\n",
      "    mlotst   (time, lat, lon) float64 ...\n",
      "    zos      (time, lat, lon) float64 ...\n",
      "    bottomT  (time, lat, lon) float64 ...\n",
      "    sithick  (time, lat, lon) float64 ...\n",
      "    siconc   (time, lat, lon) float64 ...\n",
      "    usi      (time, lat, lon) float64 ...\n",
      "    vsi      (time, lat, lon) float64 ...\n",
      "    thetao   (time, lat, lon) float64 ...\n",
      "    so       (time, lat, lon) float64 ...\n",
      "    uo       (time, lat, lon) float64 ...\n",
      "    vo       (time, lat, lon) float64 ...\n",
      "Attributes:\n",
      "    title:                         Monthly mean fields for product GLOBAL_REA...\n",
      "    references:                    http://marine.copernicus.eu\n",
      "    credit:                        E.U. Copernicus Marine Service Information...\n",
      "    licence:                       http://marine.copernicus.eu/services-portf...\n",
      "    contact:                       servicedesk.cmems@mercator-ocean.eu\n",
      "    producer:                      CMEMS - Global Monitoring and Forecasting ...\n",
      "    institution:                   Mercator Ocean\n",
      "    Conventions:                   CF-1.6\n",
      "    area:                          GLOBAL\n",
      "    product:                       GLOBAL_REANALYSIS_001_030\n",
      "    dataset:                       global-reanalysis-001-030-monthly\n",
      "    source:                        MERCATOR GLORYS12V1\n",
      "    product_user_manual:           http://marine.copernicus.eu/documents/PUM/...\n",
      "    quality_information_document:  http://marine.copernicus.eu/documents/QUID...\n"
     ]
    },
    {
     "data": {
      "text/plain": [
       "<bound method DataWithCoords.close of <xarray.Dataset>\n",
       "Dimensions:  (lat: 901, lon: 1800, time: 12)\n",
       "Coordinates:\n",
       "    depth    float32 ...\n",
       "  * lat      (lat) float64 -90.0 -89.8 -89.6 -89.4 -89.2 ... 89.4 89.6 89.8 90.0\n",
       "  * lon      (lon) float64 -180.0 -179.8 -179.6 -179.4 ... 179.4 179.6 179.8\n",
       "  * time     (time) datetime64[ns] 2002-01-16T12:00:00 ... 2002-12-16T12:00:00\n",
       "Data variables:\n",
       "    mlotst   (time, lat, lon) float64 ...\n",
       "    zos      (time, lat, lon) float64 ...\n",
       "    bottomT  (time, lat, lon) float64 ...\n",
       "    sithick  (time, lat, lon) float64 ...\n",
       "    siconc   (time, lat, lon) float64 ...\n",
       "    usi      (time, lat, lon) float64 ...\n",
       "    vsi      (time, lat, lon) float64 ...\n",
       "    thetao   (time, lat, lon) float64 ...\n",
       "    so       (time, lat, lon) float64 ...\n",
       "    uo       (time, lat, lon) float64 ...\n",
       "    vo       (time, lat, lon) float64 ...\n",
       "Attributes:\n",
       "    title:                         Monthly mean fields for product GLOBAL_REA...\n",
       "    references:                    http://marine.copernicus.eu\n",
       "    credit:                        E.U. Copernicus Marine Service Information...\n",
       "    licence:                       http://marine.copernicus.eu/services-portf...\n",
       "    contact:                       servicedesk.cmems@mercator-ocean.eu\n",
       "    producer:                      CMEMS - Global Monitoring and Forecasting ...\n",
       "    institution:                   Mercator Ocean\n",
       "    Conventions:                   CF-1.6\n",
       "    area:                          GLOBAL\n",
       "    product:                       GLOBAL_REANALYSIS_001_030\n",
       "    dataset:                       global-reanalysis-001-030-monthly\n",
       "    source:                        MERCATOR GLORYS12V1\n",
       "    product_user_manual:           http://marine.copernicus.eu/documents/PUM/...\n",
       "    quality_information_document:  http://marine.copernicus.eu/documents/QUID...>"
      ]
     },
     "execution_count": 4,
     "metadata": {},
     "output_type": "execute_result"
    }
   ],
   "source": [
    "lyr=2002\n",
    "d = dt.date(lyr,1,1) \n",
    "filename_new = sss_filename_new_yearly(d)\n",
    "ds = xr.open_dataset(filename_new)\n",
    "print(ds)\n",
    "ds.close"
   ]
  },
  {
   "cell_type": "code",
   "execution_count": 5,
   "metadata": {},
   "outputs": [
    {
     "name": "stdout",
     "output_type": "stream",
     "text": [
      "1993 Frozen(SortedKeysDict({'lat': 901, 'lon': 1800, 'time': 12}))\n",
      "1994 Frozen(SortedKeysDict({'lat': 901, 'lon': 1800, 'time': 24}))\n",
      "1995 Frozen(SortedKeysDict({'lat': 901, 'lon': 1800, 'time': 36}))\n",
      "1996 Frozen(SortedKeysDict({'lat': 901, 'lon': 1800, 'time': 48}))\n",
      "1997 Frozen(SortedKeysDict({'lat': 901, 'lon': 1800, 'time': 60}))\n",
      "1998 Frozen(SortedKeysDict({'lat': 901, 'lon': 1800, 'time': 72}))\n"
     ]
    },
    {
     "name": "stderr",
     "output_type": "stream",
     "text": [
      "C:\\Users\\gentemann\\Miniconda3\\lib\\site-packages\\xarray\\core\\nanops.py:161: RuntimeWarning: Mean of empty slice\n",
      "  return np.nanmean(a, axis=axis, dtype=dtype)\n"
     ]
    }
   ],
   "source": [
    "#make climatology from monthly files\n",
    "#make cmc climatology from monthly files\n",
    "init = 0\n",
    "for lyr in range(1993,1999): #2018): \n",
    "    d = dt.date(lyr,1,1) \n",
    "    filename = sss_filename_new_yearly(d)\n",
    "    ds = xr.open_dataset(filename,drop_variables = ['usi','vsi','mlotst','zos','bottomT','sithick','siconc','thetao','uo','vo'])\n",
    "    if init==0:\n",
    "        ds_sum = ds\n",
    "        init = 1\n",
    "    else:\n",
    "        ds_sum = xr.concat([ds_sum,ds],dim = 'time')\n",
    "    ds.close()\n",
    "    print(lyr,ds_sum.dims)\n",
    "ds_sum2 = ds_sum.groupby('time.month').mean('time')\n",
    "fname_tem='climatology_monthly_1993_1998_mercatorglorys12v1_gl12_mean.nc'\n",
    "filename_out = dir_data_clim + fname_tem\n",
    "ds_sum2.to_netcdf(filename_out)\n"
   ]
  },
  {
   "cell_type": "code",
   "execution_count": 7,
   "metadata": {},
   "outputs": [
    {
     "name": "stdout",
     "output_type": "stream",
     "text": [
      "1999 Frozen(SortedKeysDict({'lat': 901, 'lon': 1800, 'time': 12}))\n",
      "2000 Frozen(SortedKeysDict({'lat': 901, 'lon': 1800, 'time': 24}))\n",
      "2001 Frozen(SortedKeysDict({'lat': 901, 'lon': 1800, 'time': 36}))\n",
      "2002 Frozen(SortedKeysDict({'lat': 901, 'lon': 1800, 'time': 48}))\n",
      "2003 Frozen(SortedKeysDict({'lat': 901, 'lon': 1800, 'time': 60}))\n",
      "2004 Frozen(SortedKeysDict({'lat': 901, 'lon': 1800, 'time': 72}))\n"
     ]
    },
    {
     "name": "stderr",
     "output_type": "stream",
     "text": [
      "C:\\Users\\gentemann\\Miniconda3\\lib\\site-packages\\xarray\\core\\nanops.py:161: RuntimeWarning: Mean of empty slice\n",
      "  return np.nanmean(a, axis=axis, dtype=dtype)\n"
     ]
    },
    {
     "name": "stdout",
     "output_type": "stream",
     "text": [
      "2005 Frozen(SortedKeysDict({'lat': 901, 'lon': 1800, 'time': 12}))\n",
      "2006 Frozen(SortedKeysDict({'lat': 901, 'lon': 1800, 'time': 24}))\n",
      "2007 Frozen(SortedKeysDict({'lat': 901, 'lon': 1800, 'time': 36}))\n",
      "2008 Frozen(SortedKeysDict({'lat': 901, 'lon': 1800, 'time': 48}))\n",
      "2009 Frozen(SortedKeysDict({'lat': 901, 'lon': 1800, 'time': 60}))\n",
      "2010 Frozen(SortedKeysDict({'lat': 901, 'lon': 1800, 'time': 72}))\n"
     ]
    },
    {
     "name": "stderr",
     "output_type": "stream",
     "text": [
      "C:\\Users\\gentemann\\Miniconda3\\lib\\site-packages\\xarray\\core\\nanops.py:161: RuntimeWarning: Mean of empty slice\n",
      "  return np.nanmean(a, axis=axis, dtype=dtype)\n"
     ]
    },
    {
     "name": "stdout",
     "output_type": "stream",
     "text": [
      "2011 Frozen(SortedKeysDict({'lat': 901, 'lon': 1800, 'time': 12}))\n",
      "2012 Frozen(SortedKeysDict({'lat': 901, 'lon': 1800, 'time': 24}))\n",
      "2013 Frozen(SortedKeysDict({'lat': 901, 'lon': 1800, 'time': 36}))\n",
      "2014 Frozen(SortedKeysDict({'lat': 901, 'lon': 1800, 'time': 48}))\n",
      "2015 Frozen(SortedKeysDict({'lat': 901, 'lon': 1800, 'time': 60}))\n",
      "2016 Frozen(SortedKeysDict({'lat': 901, 'lon': 1800, 'time': 72}))\n"
     ]
    },
    {
     "name": "stderr",
     "output_type": "stream",
     "text": [
      "C:\\Users\\gentemann\\Miniconda3\\lib\\site-packages\\xarray\\core\\nanops.py:161: RuntimeWarning: Mean of empty slice\n",
      "  return np.nanmean(a, axis=axis, dtype=dtype)\n"
     ]
    }
   ],
   "source": [
    "init = 0\n",
    "for lyr in range(1999,2005): #2018): \n",
    "    d = dt.date(lyr,1,1) \n",
    "    filename = sss_filename_new_yearly(d)\n",
    "    ds = xr.open_dataset(filename,drop_variables = ['usi','vsi','mlotst','zos','bottomT','sithick','siconc','thetao','uo','vo'])\n",
    "    if init==0:\n",
    "        ds_sum = ds\n",
    "        init = 1\n",
    "    else:\n",
    "        ds_sum = xr.concat([ds_sum,ds],dim = 'time')\n",
    "    ds.close()\n",
    "    print(lyr,ds_sum.dims)\n",
    "ds_sum2 = ds_sum.groupby('time.month').mean('time')\n",
    "fname_tem='climatology_monthly_1999_2004_mercatorglorys12v1_gl12_mean.nc'\n",
    "filename_out = dir_data_clim + fname_tem\n",
    "ds_sum2.to_netcdf(filename_out)\n",
    "init = 0\n",
    "for lyr in range(2005,2011): #2018): \n",
    "    d = dt.date(lyr,1,1) \n",
    "    filename = sss_filename_new_yearly(d)\n",
    "    ds = xr.open_dataset(filename,drop_variables = ['usi','vsi','mlotst','zos','bottomT','sithick','siconc','thetao','uo','vo'])\n",
    "    if init==0:\n",
    "        ds_sum = ds\n",
    "        init = 1\n",
    "    else:\n",
    "        ds_sum = xr.concat([ds_sum,ds],dim = 'time')\n",
    "    ds.close()\n",
    "    print(lyr,ds_sum.dims)\n",
    "ds_sum2 = ds_sum.groupby('time.month').mean('time')\n",
    "fname_tem='climatology_monthly_2005_2010_mercatorglorys12v1_gl12_mean.nc'\n",
    "filename_out = dir_data_clim + fname_tem\n",
    "ds_sum2.to_netcdf(filename_out)\n",
    "init = 0\n",
    "for lyr in range(2011,2017): #2018): \n",
    "    d = dt.date(lyr,1,1) \n",
    "    filename = sss_filename_new_yearly(d)\n",
    "    ds = xr.open_dataset(filename,drop_variables = ['usi','vsi','mlotst','zos','bottomT','sithick','siconc','thetao','uo','vo'])\n",
    "    if init==0:\n",
    "        ds_sum = ds\n",
    "        init = 1\n",
    "    else:\n",
    "        ds_sum = xr.concat([ds_sum,ds],dim = 'time')\n",
    "    ds.close()\n",
    "    print(lyr,ds_sum.dims)\n",
    "ds_sum2 = ds_sum.groupby('time.month').mean('time')\n",
    "fname_tem='climatology_monthly_2011_2016_mercatorglorys12v1_gl12_mean.nc'\n",
    "filename_out = dir_data_clim + fname_tem\n",
    "ds_sum2.to_netcdf(filename_out)\n",
    "    "
   ]
  },
  {
   "cell_type": "code",
   "execution_count": 8,
   "metadata": {},
   "outputs": [
    {
     "data": {
      "text/plain": [
       "<xarray.Dataset>\n",
       "Dimensions:  (lat: 901, lon: 1800, month: 12)\n",
       "Coordinates:\n",
       "    depth    float32 0.494025\n",
       "  * lat      (lat) float64 -90.0 -89.8 -89.6 -89.4 -89.2 ... 89.4 89.6 89.8 90.0\n",
       "  * lon      (lon) float64 -180.0 -179.8 -179.6 -179.4 ... 179.4 179.6 179.8\n",
       "  * month    (month) int64 1 2 3 4 5 6 7 8 9 10 11 12\n",
       "Data variables:\n",
       "    so       (month, lat, lon) float64 nan nan nan nan nan ... nan nan nan nan"
      ]
     },
     "execution_count": 8,
     "metadata": {},
     "output_type": "execute_result"
    }
   ],
   "source": [
    "ds_sum2"
   ]
  },
  {
   "cell_type": "code",
   "execution_count": 13,
   "metadata": {},
   "outputs": [
    {
     "name": "stderr",
     "output_type": "stream",
     "text": [
      "C:\\Users\\gentemann\\Miniconda3\\lib\\site-packages\\xarray\\core\\nanops.py:161: RuntimeWarning: Mean of empty slice\n",
      "  return np.nanmean(a, axis=axis, dtype=dtype)\n"
     ]
    }
   ],
   "source": [
    "#put clim together into one \n",
    "fname_tem='climatology_monthly_1993_1998_mercatorglorys12v1_gl12_mean.nc'\n",
    "filename = dir_data_clim + fname_tem\n",
    "ds = xr.open_dataset(filename)\n",
    "ds_sum = ds\n",
    "ds.close()\n",
    "fname_tem='climatology_monthly_1999_2004_mercatorglorys12v1_gl12_mean.nc'\n",
    "filename = dir_data_clim + fname_tem\n",
    "ds = xr.open_dataset(filename)\n",
    "ds_sum = xr.concat([ds_sum,ds],dim = 'month')\n",
    "ds.close()\n",
    "fname_tem='climatology_monthly_2005_2010_mercatorglorys12v1_gl12_mean.nc'\n",
    "filename = dir_data_clim + fname_tem\n",
    "ds = xr.open_dataset(filename)\n",
    "ds_sum = xr.concat([ds_sum,ds],dim = 'month')\n",
    "ds.close()\n",
    "fname_tem='climatology_monthly_2011_2016_mercatorglorys12v1_gl12_mean.nc'\n",
    "filename = dir_data_clim + fname_tem\n",
    "ds = xr.open_dataset(filename)\n",
    "ds_sum = xr.concat([ds_sum,ds],dim = 'month')\n",
    "ds.close()\n",
    "ds_sum2 = ds_sum.groupby('month').mean('month')\n",
    "#ds_sum2.rename({'longitude':'lon','latitude':'lat'}, inplace = True)\n",
    "fname_tem='climatology_monthly_1993_2016_mercatorglorys12v1_gl12_mean.nc'\n",
    "filename_out = dir_data_clim + fname_tem\n",
    "ds_sum2.to_netcdf(filename_out)\n"
   ]
  },
  {
   "cell_type": "code",
   "execution_count": 14,
   "metadata": {},
   "outputs": [
    {
     "data": {
      "text/plain": [
       "<xarray.Dataset>\n",
       "Dimensions:  (lat: 901, lon: 1800, month: 12)\n",
       "Coordinates:\n",
       "    depth    float32 0.494025\n",
       "  * lat      (lat) float64 -90.0 -89.8 -89.6 -89.4 -89.2 ... 89.4 89.6 89.8 90.0\n",
       "  * lon      (lon) float64 -180.0 -179.8 -179.6 -179.4 ... 179.4 179.6 179.8\n",
       "  * month    (month) int64 1 2 3 4 5 6 7 8 9 10 11 12\n",
       "Data variables:\n",
       "    so       (month, lat, lon) float64 nan nan nan nan nan ... nan nan nan nan"
      ]
     },
     "execution_count": 14,
     "metadata": {},
     "output_type": "execute_result"
    }
   ],
   "source": [
    "ds_sum2"
   ]
  },
  {
   "cell_type": "code",
   "execution_count": 4,
   "metadata": {},
   "outputs": [
    {
     "name": "stdout",
     "output_type": "stream",
     "text": [
      "<xarray.Dataset>\n",
      "Dimensions:  (lat: 901, lon: 1800)\n",
      "Coordinates:\n",
      "    depth    float32 ...\n",
      "  * lat      (lat) float64 -90.0 -89.8 -89.6 -89.4 -89.2 ... 89.4 89.6 89.8 90.0\n",
      "  * lon      (lon) float64 -180.0 -179.8 -179.6 -179.4 ... 179.4 179.6 179.8\n",
      "Data variables:\n",
      "    so       (lat, lon) float64 ...\n"
     ]
    }
   ],
   "source": [
    "#change clim to lat and lon rather than latitude and longitude\n",
    "fname_tem='climatology_monthly_1993_2016_mercatorglorys12v1_gl12_mean.nc'\n",
    "filename_out = dir_data_clim + fname_tem\n",
    "ds=xr.open_dataset(filename_out)\n",
    "#ds.rename({'longitude':'lon','latitude':'lat'}, inplace = True)\n",
    "print(ds)\n",
    "#ds.to_netcdf(filename_out)\n",
    "ds.close()\n"
   ]
  },
  {
   "cell_type": "code",
   "execution_count": null,
   "metadata": {},
   "outputs": [],
   "source": [
    "ds_sum"
   ]
  },
  {
   "cell_type": "code",
   "execution_count": null,
   "metadata": {},
   "outputs": [],
   "source": []
  }
 ],
 "metadata": {
  "kernelspec": {
   "display_name": "Python 3",
   "language": "python",
   "name": "python3"
  },
  "language_info": {
   "codemirror_mode": {
    "name": "ipython",
    "version": 3
   },
   "file_extension": ".py",
   "mimetype": "text/x-python",
   "name": "python",
   "nbconvert_exporter": "python",
   "pygments_lexer": "ipython3",
   "version": "3.7.0"
  }
 },
 "nbformat": 4,
 "nbformat_minor": 2
}
