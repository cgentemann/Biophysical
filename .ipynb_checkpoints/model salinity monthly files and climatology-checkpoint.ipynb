{
 "cells": [
  {
   "cell_type": "code",
   "execution_count": 1,
   "metadata": {},
   "outputs": [],
   "source": [
    "import pandas\n",
    "import matplotlib as mpl\n",
    "import xarray as xr\n",
    "import numpy as np\n",
    "import datetime as dt\n",
    "dir_data='F:/data/model_data/CMEM/global-reanalysis-phy-001-030-monthly/'\n",
    "dir_data_clim='F:/data/model_data/CMEM/global-reanalysis-phy-001-030-monthly/clim/'\n",
    "def sss_filename(d):\n",
    "    dir_data='F:/data/model_data/CMEM/global-reanalysis-phy-001-030-monthly/'\n",
    "    syr=str(d.year).zfill(4)\n",
    "    smon=str(d.month).zfill(2)\n",
    "    fname_tem=syr + '/'+ 'mercatorglorys12v1_gl12_mean_' + syr + smon + '.nc'\n",
    "    filename = dir_data + fname_tem\n",
    "    return filename\n",
    "\n",
    "#get 0.25 km grid from cmc data to downsamplt this\n",
    "filename = 'https://podaac-opendap.jpl.nasa.gov/opendap/allData/ghrsst/data/GDS2/L4/GLOB/CMC/CMC0.2deg/v2/1994/002/19940102120000-CMC-L4_GHRSST-SSTfnd-CMC0.2deg-GLOB-v02.0-fv02.0.nc'\n",
    "ds_v2 = xr.open_dataset(filename)\n",
    "new_lat = np.linspace(ds_v2.lat[0], ds_v2.lat[-1], ds_v2.dims['lat'])\n",
    "new_lon = np.linspace(ds_v2.lon[0], ds_v2.lon[-1], ds_v2.dims['lon'])\n",
    "ds_v2.close()"
   ]
  },
  {
   "cell_type": "code",
   "execution_count": null,
   "metadata": {},
   "outputs": [],
   "source": [
    "#make cmc monthly average ssts\n",
    "for lyr in range(1993,2017): #2017):\n",
    "    ds_mnth=[]\n",
    "    for imon in range(1,13):\n",
    "        d = dt.date(lyr,imon,1) \n",
    "        filename = sss_filename(d)\n",
    "        ds = xr.open_dataset(filename,drop_variables = ['usi','vsi','mlotst','zos','bottomT','sithick','siconc','thetao','uo','vo'])\n",
    "        ds_subset = ds.sel(depth = ds.depth[0].data)\n",
    "        ds_low_res = ds_subset.interp(latitude = new_lat,longitude = new_lon)\n",
    "        ds.close()\n",
    "        ds_mnth.append(ds_low_res)\n",
    "    combined = xr.concat(ds_mnth, dim='time')\n",
    "    fname_tem='clim/monthly_average_' + syr + 'mercatorglorys12v1_gl12_mean.nc'\n",
    "    cmc_filename_out = dir_data + fname_tem\n",
    "    combined.to_netcdf(cmc_filename_out)\n",
    "    "
   ]
  },
  {
   "cell_type": "code",
   "execution_count": null,
   "metadata": {},
   "outputs": [],
   "source": []
  },
  {
   "cell_type": "code",
   "execution_count": null,
   "metadata": {},
   "outputs": [],
   "source": [
    "ds_low_res.so[0,0,0].data"
   ]
  },
  {
   "cell_type": "code",
   "execution_count": null,
   "metadata": {},
   "outputs": [],
   "source": []
  }
 ],
 "metadata": {
  "kernelspec": {
   "display_name": "Python 3",
   "language": "python",
   "name": "python3"
  },
  "language_info": {
   "codemirror_mode": {
    "name": "ipython",
    "version": 3
   },
   "file_extension": ".py",
   "mimetype": "text/x-python",
   "name": "python",
   "nbconvert_exporter": "python",
   "pygments_lexer": "ipython3",
   "version": "3.7.0"
  }
 },
 "nbformat": 4,
 "nbformat_minor": 2
}
