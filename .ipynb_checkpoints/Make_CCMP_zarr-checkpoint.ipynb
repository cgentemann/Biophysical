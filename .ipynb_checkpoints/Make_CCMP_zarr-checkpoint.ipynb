{
 "cells": [
  {
   "cell_type": "code",
   "execution_count": 1,
   "metadata": {},
   "outputs": [],
   "source": [
    "import xarray as xr\n",
    "import time\n",
    "from glob import glob\n",
    "from os import path\n",
    "import numpy as np"
   ]
  },
  {
   "cell_type": "markdown",
   "metadata": {},
   "source": [
    "# Create list of CCMP filenames"
   ]
  },
  {
   "cell_type": "code",
   "execution_count": 2,
   "metadata": {},
   "outputs": [],
   "source": [
    "dir_pattern = 'F:/data/sat_data/ccmp/v02.0/'\n",
    "dir_pattern_zarr = 'F:/data/sat_data/ccmp/zarr/'\n",
    "pattern = 'F:/data/sat_data/ccmp/v02.0/*/*/*_V02.0_L3.0_RSS.nc'"
   ]
  },
  {
   "cell_type": "code",
   "execution_count": null,
   "metadata": {
    "scrolled": true
   },
   "outputs": [],
   "source": [
    "start_time = time.time()\n",
    "#list files\n",
    "files = [x for x in glob(pattern)]\n",
    "#open dataset\n",
    "ds=xr.open_mfdataset(files,combine='nested',concat_dim='time',decode_cf=False,mask_and_scale=False)\n",
    "ds.close()\n",
    "end_time = time.time()\n",
    "print(\"Elapsed time was %g seconds\" % (end_time - start_time))\n",
    "#remove any duplicates\n",
    "_, index = np.unique(ds['time'], return_index=True)\n",
    "ds=ds.isel(time=index)\n",
    "#rechunck data\n",
    "ds = ds.chunk({'time':1000,'latitude':157,'longitude':180})"
   ]
  },
  {
   "cell_type": "code",
   "execution_count": null,
   "metadata": {},
   "outputs": [],
   "source": [
    "#only need to run once to write data\n",
    "ds.to_zarr(dir_pattern_zarr)"
   ]
  },
  {
   "cell_type": "markdown",
   "metadata": {},
   "source": [
    "# Test reading zarr file and making some plots"
   ]
  },
  {
   "cell_type": "code",
   "execution_count": null,
   "metadata": {},
   "outputs": [],
   "source": [
    "start_time = time.time()\n",
    "ds2= xr.open_zarr(dir_pattern_zarr)\n",
    "end_time = time.time()\n",
    "print(\"Elapsed time was %g seconds\" % (end_time - start_time))\n"
   ]
  },
  {
   "cell_type": "code",
   "execution_count": null,
   "metadata": {},
   "outputs": [],
   "source": []
  },
  {
   "cell_type": "code",
   "execution_count": null,
   "metadata": {},
   "outputs": [],
   "source": [
    "#ts = ds3.uwnd.sel(time=slice('2000-01-01','2000-01-10')).mean({'latitude','longitude'})\n"
   ]
  },
  {
   "cell_type": "code",
   "execution_count": null,
   "metadata": {},
   "outputs": [],
   "source": [
    "start_time = time.time()\n",
    "ts = ds2.uwnd.sel(latitude=slice(-10,0),longitude=slice(170,180)).mean({'latitude','longitude'})\n",
    "end_time = time.time()\n",
    "print(\"Elapsed time was %g seconds\" % (end_time - start_time))\n"
   ]
  },
  {
   "cell_type": "code",
   "execution_count": null,
   "metadata": {},
   "outputs": [],
   "source": [
    "ts.plot()"
   ]
  },
  {
   "cell_type": "markdown",
   "metadata": {},
   "source": [
    "# create CMC SST zarr data files"
   ]
  },
  {
   "cell_type": "code",
   "execution_count": null,
   "metadata": {},
   "outputs": [],
   "source": [
    "dir_pattern_zarr = 'F:/data/sst/cmc/zarr/'\n",
    "dir_pattern = 'F:/data/sst/cmc/CMC0.2deg/v2/'\n",
    "pattern = 'F:/data/sst/cmc/CMC0.2deg/v2/data/*/*/*-v02.0-fv02.0.nc'\n",
    "files = [x for x in glob(pattern)]\n",
    "dir_pattern = 'F:/data/sst/cmc/CMC0.1deg/v3/'\n",
    "pattern = 'F:/data/sst/cmc/CMC0.1deg/v3/*/*/*-v02.0-fv03.0.nc'\n",
    "files2 = [x for x in glob(pattern)]"
   ]
  },
  {
   "cell_type": "code",
   "execution_count": null,
   "metadata": {},
   "outputs": [],
   "source": [
    "start_time = time.time()\n",
    "#open dataset\n",
    "ds=xr.open_mfdataset(files,combine='nested',concat_dim='time',decode_cf=False,mask_and_scale=False)\n",
    "ds.close()\n",
    "ds2=xr.open_mfdataset(files2,combine='nested',concat_dim='time',decode_cf=False,mask_and_scale=False)\n",
    "ds2.close()\n",
    "end_time = time.time()\n",
    "print(\"Elapsed time was %g seconds\" % (end_time - start_time))"
   ]
  },
  {
   "cell_type": "code",
   "execution_count": null,
   "metadata": {},
   "outputs": [],
   "source": [
    "#interpolate the v3 0.1 data onto the older 0.2 deg grid for continuity\n",
    "ds2_interp = ds2.interp(lat=ds.lat,lon=ds.lon)\n",
    "#concat the two datasets together\n",
    "ds_all = xr.concat([ds,ds2_interp],dim='time')\n",
    "#remove any duplicates\n",
    "_, index = np.unique(ds_all['time'], return_index=True)\n",
    "ds_all=ds_all.isel(time=index)\n",
    "#rechunck data  #data in int16 = 2 bytes \n",
    "ds_all = ds_all.chunk({'time':1000,'lat':300,'lon':300})"
   ]
  },
  {
   "cell_type": "code",
   "execution_count": null,
   "metadata": {},
   "outputs": [],
   "source": [
    "#output data to zarr format\n",
    "ds_all.to_zarr(dir_pattern_zarr)"
   ]
  },
  {
   "cell_type": "markdown",
   "metadata": {},
   "source": [
    "# create AVISO zarr data files"
   ]
  },
  {
   "cell_type": "code",
   "execution_count": null,
   "metadata": {},
   "outputs": [],
   "source": [
    "dir_pattern = 'F:/data/sat_data/aviso/data'\n",
    "dir_pattern_zarr = 'F:/data/sat_data/aviso/zarr/'\n",
    "pattern = 'F:/data/sat_data/aviso/data/*/*.nc'\n",
    "files = [x for x in glob(pattern)]"
   ]
  },
  {
   "cell_type": "code",
   "execution_count": null,
   "metadata": {},
   "outputs": [],
   "source": [
    "start_time = time.time()\n",
    "#open dataset\n",
    "ds=xr.open_mfdataset(files,combine='nested',concat_dim='time',decode_cf=False,mask_and_scale=False)\n",
    "ds.close()\n",
    "end_time = time.time()\n",
    "print(\"Elapsed time was %g seconds\" % (end_time - start_time))\n",
    "#remove any duplicates\n",
    "_, index = np.unique(ds['time'], return_index=True)\n",
    "ds=ds.isel(time=index)\n",
    "#rechunck data  #data in int16 = 2 bytes \n",
    "ds = ds.chunk({'time':1000,'latitude':180,'longitude':180})"
   ]
  },
  {
   "cell_type": "code",
   "execution_count": null,
   "metadata": {},
   "outputs": [],
   "source": [
    "#output data to zarr format\n",
    "ds.to_zarr(dir_pattern_zarr)"
   ]
  }
 ],
 "metadata": {
  "kernelspec": {
   "display_name": "Python 3",
   "language": "python",
   "name": "python3"
  },
  "language_info": {
   "codemirror_mode": {
    "name": "ipython",
    "version": 3
   },
   "file_extension": ".py",
   "mimetype": "text/x-python",
   "name": "python",
   "nbconvert_exporter": "python",
   "pygments_lexer": "ipython3",
   "version": "3.7.6"
  }
 },
 "nbformat": 4,
 "nbformat_minor": 4
}
