{
 "cells": [
  {
   "cell_type": "code",
   "execution_count": 1,
   "metadata": {},
   "outputs": [],
   "source": [
    "#take boxes determined by marisol from kathleens biforcation data and calculate average environmental information for them\n",
    "#want to calculate average SST, SSS, u^2+v^2, and var(u^2+v^2)\n",
    "import xarray as xr\n",
    "#import pandas as pd\n",
    "#import matplotlib as mpl\n",
    "#import openpyxl\n",
    "#from mpl_toolkits.basemap import Basemap\n",
    "#import matplotlib.pyplot as plt\n",
    "import numpy as np\n",
    "#from math import cos, radians\n",
    "import datetime as dt\n",
    "\n",
    "dir_cmc='F:/data/sst/cmc/CMC0.2deg/v2/'\n",
    "dir_cmc_clim='F:/data/sst/cmc/CMC0.2deg/v2/climatology/'\n",
    "dir_clim='F:/data/sat_data/oscar/L4/oscar_third_deg/climatology/'\n",
    "dir_data = 'https://podaac-opendap.jpl.nasa.gov/opendap/allData/oscar/preview/L4/oscar_third_deg/'\n",
    "dir_figs = 'F:/data/eddy/figures/'\n",
    "dir_timeseries = 'F:/data/eddy/timeseries_data/'\n",
    "\n",
    "boxes_names = ['NPC','NPC_biforcation','CalCur','Alaska1','Alaska2']\n",
    "boxes_lon_min = [-160,-130,-125,-130,-148]\n",
    "boxes_lon_max = [-170,-140,-135,-140,-158]\n",
    "boxes_lat_min = [41,46,35,52,52]\n",
    "boxes_lat_max = [46,51,40,57,57]\n",
    "boxes_lon_min_180 = boxes_lon_min[:]\n",
    "boxes_lon_max_180 = boxes_lon_max[:]\n",
    "for i in range(0,5):\n",
    "    boxes_lon_min[i] += 360\n",
    "    boxes_lon_max[i] += 360\n",
    "\n",
    "#trying to get into xarray properly\n",
    "locs = ['NPC','NPC_biforcation','CalCur','Alaska1','Alaska2']\n",
    "data = [-160,-130,-125,-130,-148]\n",
    "foo2 = xr.DataArray(data, coords=[locs], dims=['loc'])\n",
    "data = [-170,-140,-135,-140,-158]\n",
    "foo3 = xr.DataArray(data, coords=[locs], dims=['loc'])\n",
    "data = [41,46,35,52,52]\n",
    "foo4 = xr.DataArray(data, coords=[locs], dims=['loc'])\n",
    "data = [46,51,40,57,57]\n",
    "foo5 = xr.DataArray(data, coords=[locs], dims=['loc'])\n",
    "boxes = xr.Dataset({'lon_min':foo2,'lon_max':foo3,'lat_min':foo4,'lat_max':foo5})\n",
    "\n",
    "def get_climatology(data_type):\n",
    "    if data_type=='oscar':\n",
    "        filename = 'F:/data/sat_data/oscar/L4/oscar_third_deg/climatology_1993_2018_monthly_data_oscar.nc'        \n",
    "    if data_type=='sss':\n",
    "        filename = 'F:/data/model_data/CMEM/global-reanalysis-phy-001-030-monthly/clim/climatology_monthly_1993_2016_mercatorglorys12v1_gl12_mean.nc'\n",
    "    if data_type=='sst':\n",
    "        filename = 'F:/data/sst/cmc/CMC0.2deg/v2/monthly/monthly_climatology_1992_2017_120000-CMC-L4_GHRSST-SSTfnd-CMC0.2deg-GLOB-v02.0-fv02.0.nc'\n",
    "    if data_type == 'ccmp':\n",
    "        filename = 'F:/data/sat_data/ccmp/v02.0/monthly_climatology_ccmp_V02.0_L3.5_RSS.nc'\n",
    "    return filename\n",
    "\n",
    "def get_data(data_type,lyr):\n",
    "    if data_type == 'oscar':\n",
    "        dir_data = 'F:/data/sat_data/oscar/L4/oscar_third_deg/'\n",
    "        filename = dir_data + str(lyr) + 'monthly_data_oscar.nc'\n",
    "    if data_type=='sss':\n",
    "        dir_data='F:/data/model_data/CMEM/global-reanalysis-phy-001-030-monthly/'\n",
    "        fname_tem=str(lyr) + '/'+ 'year_subset_mercatorglorys12v1_gl12_mean_' + str(lyr) + '.nc'\n",
    "        filename = dir_data + fname_tem\n",
    "    if data_type=='sst':\n",
    "        dir_data = 'F:/data/sst/cmc/CMC0.2deg/v2/monthly/' \n",
    "        filename = dir_data + str(lyr) + 'monthly_average_' + str(lyr) + '120000-CMC-L4_GHRSST-SSTfnd-CMC0.2deg-GLOB-v02.0-fv02.0.nc'\n",
    "    if data_type == 'ccmp':\n",
    "        dir_data='F:/data/sat_data/ccmp/v02.0/'\n",
    "        filename = dir_data + str(lyr) + 'monthly_average_ccmp_V02.0_L3.5_RSS.nc'\n",
    "    return filename\n"
   ]
  },
  {
   "cell_type": "code",
   "execution_count": null,
   "metadata": {},
   "outputs": [],
   "source": [
    "print(boxes)\n",
    "#print(boxes.lon_min[0].data)\n",
    "#print(boxes.lon_min.space[0].data)\n",
    "for i in range(0,5):\n",
    "    print(boxes.lat_max[i].data,boxes['loc'][0].data)\n",
    "    #print(boxes.lon_min.space[box].data)\n"
   ]
  },
  {
   "cell_type": "code",
   "execution_count": null,
   "metadata": {},
   "outputs": [],
   "source": []
  },
  {
   "cell_type": "code",
   "execution_count": 2,
   "metadata": {},
   "outputs": [
    {
     "name": "stdout",
     "output_type": "stream",
     "text": [
      "F:/data/sat_data/oscar/L4/oscar_third_deg/climatology_1993_2018_monthly_data_oscar.nc\n",
      "<xarray.Dataset>\n",
      "Dimensions:  (depth: 1, lat: 481, lon: 1201, month: 12)\n",
      "Coordinates:\n",
      "  * depth    (depth) float32 15.0\n",
      "  * lat      (lat) float64 80.0 79.67 79.33 79.0 ... -79.0 -79.33 -79.67 -80.0\n",
      "  * lon      (lon) float64 20.0 20.33 20.67 21.0 ... 419.0 419.3 419.7 420.0\n",
      "  * month    (month) int64 1 2 3 4 5 6 7 8 9 10 11 12\n",
      "Data variables:\n",
      "    u        (month, depth, lat, lon) float64 ...\n",
      "    v        (month, depth, lat, lon) float64 ...\n",
      "<xarray.Dataset>\n",
      "Dimensions:  (depth: 1, lat: 16, lon: 31, month: 12)\n",
      "Coordinates:\n",
      "  * depth    (depth) float32 15.0\n",
      "  * lat      (lat) float64 46.0 45.67 45.33 45.0 44.67 ... 42.0 41.67 41.33 41.0\n",
      "  * lon      (lon) float64 190.0 190.3 190.7 191.0 ... 199.0 199.3 199.7 200.0\n",
      "  * month    (month) int64 1 2 3 4 5 6 7 8 9 10 11 12\n",
      "Data variables:\n",
      "    u        (month, depth, lat, lon) float64 ...\n",
      "    v        (month, depth, lat, lon) float64 ...\n"
     ]
    }
   ],
   "source": [
    "i=0\n",
    "lyr=2015\n",
    "#dtype='ccmp'\n",
    "dtype='oscar'\n",
    "#dtype='sst'\n",
    "#dtype='sss'\n",
    "filename = get_climatology(dtype)\n",
    "print(filename)\n",
    "ds=xr.open_dataset(filename)\n",
    "print(ds)\n",
    "if dtype=='ccmp':\n",
    "    ds_subset = ds.sel(lon=slice(boxes.lon_max[i]+360,boxes.lon_min[i]+360),lat=slice(boxes.lat_min[i],boxes.lat_max[i])) \n",
    "elif dtype=='oscar':\n",
    "    ds_subset = ds.sel(lon=slice(boxes.lon_max[i]+360,boxes.lon_min[i]+360),lat=slice(boxes.lat_max[i],boxes.lat_min[i])) \n",
    "else:\n",
    "    ds_subset = ds.sel(lon=slice(boxes.lon_max[i],boxes.lon_min[i]),lat=slice(boxes.lat_min[i],boxes.lat_max[i])) \n",
    "ds.close()       \n",
    "print(ds_subset)\n"
   ]
  },
  {
   "cell_type": "code",
   "execution_count": 3,
   "metadata": {},
   "outputs": [
    {
     "name": "stdout",
     "output_type": "stream",
     "text": [
      "<xarray.Dataset>\n",
      "Dimensions:  (depth: 1, lat: 481, lon: 1201, month: 12)\n",
      "Coordinates:\n",
      "  * depth    (depth) float32 15.0\n",
      "  * lat      (lat) float64 80.0 79.67 79.33 79.0 ... -79.0 -79.33 -79.67 -80.0\n",
      "  * lon      (lon) float64 20.0 20.33 20.67 21.0 ... 419.0 419.3 419.7 420.0\n",
      "  * month    (month) int64 1 2 3 4 5 6 7 8 9 10 11 12\n",
      "Data variables:\n",
      "    u        (month, depth, lat, lon) float64 ...\n",
      "    v        (month, depth, lat, lon) float64 ...\n"
     ]
    },
    {
     "data": {
      "text/plain": [
       "<xarray.Dataset>\n",
       "Dimensions:  (depth: 1, month: 12)\n",
       "Coordinates:\n",
       "  * depth    (depth) float32 15.0\n",
       "  * month    (month) int64 1 2 3 4 5 6 7 8 9 10 11 12\n",
       "Data variables:\n",
       "    u        (month, depth) float64 0.03773 0.04143 0.03425 ... 0.03791 0.04664\n",
       "    v        (month, depth) float64 -0.006465 -0.01019 ... -0.013 -0.01704"
      ]
     },
     "execution_count": 3,
     "metadata": {},
     "output_type": "execute_result"
    }
   ],
   "source": [
    "dtype = 'oscar'\n",
    "filename = get_climatology(dtype)\n",
    "ds = xr.open_dataset(filename)\n",
    "print(ds)\n",
    "if dtype=='ccmp':\n",
    "    ds_subset = ds.sel(lon=slice(boxes.lon_max[i]+360,boxes.lon_min[i]+360),lat=slice(boxes.lat_min[i],boxes.lat_max[i])) \n",
    "elif dtype=='oscar':\n",
    "    ds_subset = ds.sel(lon=slice(boxes.lon_max[i]+360,boxes.lon_min[i]+360),lat=slice(boxes.lat_max[i],boxes.lat_min[i])) \n",
    "else:\n",
    "    ds_subset = ds.sel(lon=slice(boxes.lon_max[i],boxes.lon_min[i]),lat=slice(boxes.lat_min[i],boxes.lat_max[i])) \n",
    "ds.close()       \n",
    "ds_mean_clim = ds_subset.mean('lat').mean('lon')   \n",
    "ds_mean_clim"
   ]
  },
  {
   "cell_type": "code",
   "execution_count": null,
   "metadata": {},
   "outputs": [],
   "source": [
    "ds.lon[0:10]"
   ]
  },
  {
   "cell_type": "code",
   "execution_count": null,
   "metadata": {},
   "outputs": [],
   "source": []
  },
  {
   "cell_type": "code",
   "execution_count": 13,
   "metadata": {},
   "outputs": [
    {
     "name": "stderr",
     "output_type": "stream",
     "text": [
      "C:\\Users\\gentemann\\Miniconda3\\lib\\site-packages\\xarray\\core\\nanops.py:161: RuntimeWarning: Mean of empty slice\n",
      "  return np.nanmean(a, axis=axis, dtype=dtype)\n",
      "C:\\Users\\gentemann\\Miniconda3\\lib\\site-packages\\xarray\\core\\nanops.py:161: RuntimeWarning: Mean of empty slice\n",
      "  return np.nanmean(a, axis=axis, dtype=dtype)\n"
     ]
    }
   ],
   "source": [
    "#make oscar timeseries\n",
    "#for ibox in range(0,2): #5):\n",
    "dtype = 'oscar'\n",
    "filename = get_climatology(dtype)\n",
    "ds = xr.open_dataset(filename)\n",
    "if dtype=='ccmp':\n",
    "    ds_subset = ds.sel(lon=slice(boxes.lon_max[i]+360,boxes.lon_min[i]+360),lat=slice(boxes.lat_min[i],boxes.lat_max[i])) \n",
    "elif dtype=='oscar':\n",
    "    ds_subset = ds.sel(lon=slice(boxes.lon_max[i]+360,boxes.lon_min[i]+360),lat=slice(boxes.lat_max[i],boxes.lat_min[i])) \n",
    "else:\n",
    "    ds_subset = ds.sel(lon=slice(boxes.lon_max[i],boxes.lon_min[i]),lat=slice(boxes.lat_min[i],boxes.lat_max[i])) \n",
    "ds.close()       \n",
    "ds_mean_clim = ds_subset.mean('lat').mean('lon')   \n",
    "\n",
    "for i in range(0,5):\n",
    "    for lyr in range(2000,2018):\n",
    "        filename = get_data(dtype,lyr)\n",
    "        ds=xr.open_dataset(filename)\n",
    "        if dtype=='ccmp':\n",
    "            ds_subset = ds.sel(lon=slice(boxes.lon_max[i]+360,boxes.lon_min[i]+360),lat=slice(boxes.lat_min[i],boxes.lat_max[i])) \n",
    "        elif dtype=='oscar':\n",
    "            ds = ds.drop('year')\n",
    "            ds_subset = ds.sel(lon=slice(boxes.lon_max[i]+360,boxes.lon_min[i]+360),lat=slice(boxes.lat_max[i],boxes.lat_min[i])) \n",
    "        else:\n",
    "            ds_subset = ds.sel(lon=slice(boxes.lon_max[i],boxes.lon_min[i]),lat=slice(boxes.lat_min[i],boxes.lat_max[i])) \n",
    "        ds.close()       \n",
    "#        ds_subset['tot_vel']=(ds_subset.u**2+ds_subset.v**2)**.5       \n",
    "#        ds_subset['tot_vel_var']=ds_subset.tot_vel**2      \n",
    "#        ds_subset['u_sq']=ds_subset.u**2       \n",
    "#        ds_subset['v_sq']=ds_subset.v**2      \n",
    "#        ds_mean = ds_subset.groupby('time.month').mean('latitude').mean('longitude').resample(time='1MS').mean()    \n",
    "        ds_mean = ds_subset.mean('lat').mean('lon')   \n",
    "        ds_diff = ds_mean - ds_mean_clim\n",
    "        if lyr==2000:\n",
    "            ds_box = ds_mean\n",
    "            ds_box_clim = ds_diff\n",
    "        else:\n",
    "            ds_box = xr.concat([ds_box,ds_mean],dim='time')\n",
    "            ds_box_clim = xr.concat([ds_box_clim,ds_diff],dim='time')\n",
    "        #print(box)\n",
    "    if i==0:\n",
    "        ds_newbox = ds_box\n",
    "        ds_newbox_clim = ds_box_clim\n",
    "    else:\n",
    "        ds_newbox = xr.concat([ds_newbox,ds_box],dim='box')\n",
    "        ds_newbox_clim = xr.concat([ds_newbox_clim,ds_box_clim],dim='box')\n",
    "        #print(ds_newbox.box)\n",
    "filename_out = dir_timeseries + dtype + 'data.nc'\n",
    "ds_newbox.to_netcdf(filename_out)\n",
    "filename_out_clim = dir_timeseries + dtype + 'data_minus_clim.nc'\n",
    "ds_newbox_clim.to_netcdf(filename_out_clim)\n"
   ]
  },
  {
   "cell_type": "code",
   "execution_count": 18,
   "metadata": {},
   "outputs": [
    {
     "data": {
      "text/plain": [
       "<xarray.Dataset>\n",
       "Dimensions:  (box: 5, depth: 1, month: 12, time: 216)\n",
       "Coordinates:\n",
       "  * depth    (depth) float32 15.0\n",
       "  * month    (month) int64 1 2 3 4 5 6 7 8 9 10 11 12\n",
       "  * time     (time) datetime64[ns] 2000-01-31 2000-02-29 ... 2017-12-31\n",
       "Dimensions without coordinates: box\n",
       "Data variables:\n",
       "    u        (box, time, depth, month) float64 0.07466 0.06872 ... 0.007177\n",
       "    v        (box, time, depth, month) float64 0.02115 0.01928 ... 0.001548"
      ]
     },
     "execution_count": 18,
     "metadata": {},
     "output_type": "execute_result"
    }
   ],
   "source": [
    "ds_newbox_clim"
   ]
  },
  {
   "cell_type": "code",
   "execution_count": null,
   "metadata": {},
   "outputs": [],
   "source": [
    "filename_oscar_out = 'F:/data/eddy/bifurcation_ms/oscar_boxes_timeseries.nc'\n",
    "ds_oscar = xr.open_dataset(filename_oscar_out)\n",
    "ds_oscar.close()\n",
    "filename_TS_out = 'F:/data/eddy/bifurcation_ms/cmc_sst_boxes_timeseries.nc'\n",
    "ds_cmc = xr.open_dataset(filename_TS_out)\n",
    "ds_cmc.close()"
   ]
  },
  {
   "cell_type": "code",
   "execution_count": null,
   "metadata": {},
   "outputs": [],
   "source": [
    "ds_cmc.analysed_sst"
   ]
  },
  {
   "cell_type": "code",
   "execution_count": null,
   "metadata": {},
   "outputs": [],
   "source": [
    "min(ds_cmc.time[:])"
   ]
  },
  {
   "cell_type": "code",
   "execution_count": null,
   "metadata": {},
   "outputs": [],
   "source": [
    "import matplotlib.pyplot as plt\n",
    "#        fig,ax = plt.subplots(1)\n",
    "plt.figure(figsize=(6, 8))\n",
    "for i in range(0,5):\n",
    "    plt.subplot(5, 1, i+1)\n",
    "    plt.plot(ds_oscar.time[:],ds_oscar.tot_vel[i,:,0])\n",
    "    #plt.text(2012,0.1,str(boxes_names[i]), fontsize=12)\n",
    "    plt.ylim([0.03,0.15])\n",
    "#    if i<4:\n",
    "#        plt.set_xticklabels([])\n",
    "    if i==4:\n",
    "        plt.xlabel('Date')\n",
    "    if i==2:\n",
    "        plt.ylabel('Total Current (cm s$^{-1}$)')\n",
    "    #plt.plot(ds_cmc.time[:],ds_cmc.analysed_sst[i,:]-273.15,'r')\n",
    "fig_fname=dir_figs+\"boxes_oscar.png\"\n",
    "#fig_fname=dir_figs+\"boxes_sst.png\"\n",
    "plt.savefig(fig_fname, transparent=False, format='png')\n",
    "plt.show()\n",
    "print(fig_fname)"
   ]
  },
  {
   "cell_type": "code",
   "execution_count": null,
   "metadata": {},
   "outputs": [],
   "source": [
    "#filename_oscar_clim = dir_clim + 'oscar_v2009_1993_2016_climatology_12202118.nc'\n",
    "filename_TS_out = 'F:/data/eddy/bifurcation_ms/cmc_sst_boxes_timeseries.nc'\n",
    "#make cmc timeseries\n",
    "#for ibox in range(0,2): #5):\n",
    "inc=-1\n",
    "for box in boxes_names:\n",
    "    inc+=1 \n",
    "    for lyr in range(2000,2017):\n",
    "        syr=str(lyr).zfill(4)\n",
    "        fname_tem='monthly_average_' + syr + '120000-CMC-L4_GHRSST-SSTfnd-CMC0.2deg-GLOB-v02.0-fv02.0.nc'\n",
    "        cmc_filename_out = dir_cmc + syr + fname_tem\n",
    "        ds=xr.open_dataset(cmc_filename_out)\n",
    "        ds_subset = ds.sel(lon=slice(boxes_lon_max_180[inc],boxes_lon_min_180[inc]),lat=slice(boxes_lat_min[inc],boxes_lat_max[inc])) \n",
    "        ds.close()\n",
    " #       ds_mean = ds_subset #ds_subset.groupby('time.month').mean('latitude').mean('longitude').resample(time='1MS').mean()    \n",
    "        ds_mean = ds_subset.mean('lat').mean('lon')\n",
    "        if lyr==2000:\n",
    "            ds_box = ds_mean\n",
    "        else:\n",
    "            ds_box = xr.concat([ds_box,ds_mean],dim='time')\n",
    "        #print(box)\n",
    "    if box=='NPC':\n",
    "        ds_newbox = ds_box\n",
    "    else:\n",
    "        ds_newbox = xr.concat([ds_newbox,ds_box],dim='box')\n",
    "        #print(ds_newbox.box)\n",
    "ds_newbox.to_netcdf(filename_TS_out)"
   ]
  },
  {
   "cell_type": "code",
   "execution_count": null,
   "metadata": {},
   "outputs": [],
   "source": [
    "#ds\n",
    "#ds_subset.analysed_sst[0,:]\n",
    "#boxes_lon_max_180\n",
    "ds_cmc = xr.open_dataset(filename_TS_out)\n",
    "ds_cmc.analysed_sst"
   ]
  },
  {
   "cell_type": "code",
   "execution_count": null,
   "metadata": {},
   "outputs": [],
   "source": []
  },
  {
   "cell_type": "code",
   "execution_count": null,
   "metadata": {},
   "outputs": [],
   "source": []
  },
  {
   "cell_type": "code",
   "execution_count": null,
   "metadata": {},
   "outputs": [],
   "source": [
    "\n",
    "\n"
   ]
  },
  {
   "cell_type": "code",
   "execution_count": null,
   "metadata": {},
   "outputs": [],
   "source": []
  },
  {
   "cell_type": "code",
   "execution_count": null,
   "metadata": {},
   "outputs": [],
   "source": []
  },
  {
   "cell_type": "code",
   "execution_count": null,
   "metadata": {},
   "outputs": [],
   "source": []
  }
 ],
 "metadata": {
  "kernelspec": {
   "display_name": "Python 3",
   "language": "python",
   "name": "python3"
  },
  "language_info": {
   "codemirror_mode": {
    "name": "ipython",
    "version": 3
   },
   "file_extension": ".py",
   "mimetype": "text/x-python",
   "name": "python",
   "nbconvert_exporter": "python",
   "pygments_lexer": "ipython3",
   "version": "3.7.0"
  }
 },
 "nbformat": 4,
 "nbformat_minor": 2
}
