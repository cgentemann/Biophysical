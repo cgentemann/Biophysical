{
 "cells": [
  {
   "cell_type": "code",
   "execution_count": 12,
   "metadata": {},
   "outputs": [],
   "source": [
    "#take boxes determined by marisol from kathleens biforcation data and calculate average environmental information for them\n",
    "#want to calculate average SST, SSS, u^2+v^2, and var(u^2+v^2)\n",
    "import xarray as xr\n",
    "#import pandas as pd\n",
    "#import matplotlib as mpl\n",
    "#import openpyxl\n",
    "#from mpl_toolkits.basemap import Basemap\n",
    "#import matplotlib.pyplot as plt\n",
    "import numpy as np\n",
    "#from math import cos, radians\n",
    "import datetime as dt\n",
    "\n",
    "dir_cmc='F:/data/sst/cmc/CMC0.2deg/v2/'\n",
    "dir_cmc_clim='F:/data/sst/cmc/CMC0.2deg/v2/climatology/'\n",
    "dir_clim='F:/data/sat_data/oscar/L4/oscar_third_deg/climatology/'\n",
    "dir_data = 'https://podaac-opendap.jpl.nasa.gov/opendap/allData/oscar/preview/L4/oscar_third_deg/'\n",
    "\n",
    "boxes_names = ['NPC','NPC_biforcation','CalCur','Alaska1','Alaska2']\n",
    "boxes_lon_min = [-160,-130,-125,-130,-148]\n",
    "boxes_lon_max = [-170,-140,-135,-140,-158]\n",
    "boxes_lat_min = [41,46,35,52,52]\n",
    "boxes_lat_max = [46,51,40,57,57]\n",
    "for i in range(0,5):\n",
    "    boxes_lon_min[i] += 360\n",
    "    boxes_lon_max[i] += 360\n"
   ]
  },
  {
   "cell_type": "code",
   "execution_count": 18,
   "metadata": {},
   "outputs": [
    {
     "name": "stderr",
     "output_type": "stream",
     "text": [
      "C:\\Users\\gentemann\\Miniconda3\\lib\\site-packages\\xarray\\core\\nanops.py:161: RuntimeWarning: Mean of empty slice\n",
      "  return np.nanmean(a, axis=axis, dtype=dtype)\n",
      "C:\\Users\\gentemann\\Miniconda3\\lib\\site-packages\\xarray\\core\\nanops.py:161: RuntimeWarning: Mean of empty slice\n",
      "  return np.nanmean(a, axis=axis, dtype=dtype)\n"
     ]
    }
   ],
   "source": [
    "filename_oscar_clim = dir_clim + 'oscar_v2009_1993_2016_climatology_12202118.nc'\n",
    "filename_oscar_out = 'F:/data/eddy/bifurcation_ms/oscar_boxes_timeseries.nc'\n",
    "#make oscar timeseries\n",
    "#for ibox in range(0,2): #5):\n",
    "inc=-1\n",
    "for box in boxes_names:\n",
    "    inc+=1 \n",
    "    for lyr in range(2000,2018):\n",
    "        filename = dir_data + 'oscar_vel' + str(lyr).zfill(4) + '.nc.gz'\n",
    "        ds=xr.open_dataset(filename,drop_variables=['um','vm'])\n",
    "        ds_subset = ds.sel(longitude=slice(boxes_lon_max[inc],boxes_lon_min[inc]),latitude=slice(boxes_lat_max[inc],boxes_lat_min[inc])) \n",
    "        ds_subset['tot_vel']=(ds_subset.u**2+ds_subset.v**2)**.5       \n",
    "        ds_subset['tot_vel_var']=ds_subset.tot_vel**2      \n",
    "        ds_subset['u_sq']=ds_subset.u**2       \n",
    "        ds_subset['v_sq']=ds_subset.v**2      \n",
    "        ds_mean = ds_subset.groupby('time.month').mean('latitude').mean('longitude').resample(time='1MS').mean()    \n",
    "        if lyr==2000:\n",
    "            ds_box = ds_mean\n",
    "        else:\n",
    "            ds_box = xr.concat([ds_box,ds_mean],dim='time')\n",
    "        #print(box)\n",
    "    if box=='NPC':\n",
    "        ds_newbox = ds_box\n",
    "    else:\n",
    "        ds_newbox = xr.concat([ds_newbox,ds_box],dim='box')\n",
    "        #print(ds_newbox.box)\n",
    "ds_newbox.to_netcdf(filename_oscar_out)"
   ]
  },
  {
   "cell_type": "code",
   "execution_count": 42,
   "metadata": {},
   "outputs": [],
   "source": [
    "filename_oscar_out = 'F:/data/eddy/bifurcation_ms/oscar_boxes_timeseries.nc'\n",
    "ds = xr.open_dataset(filename_oscar_out)\n"
   ]
  },
  {
   "cell_type": "code",
   "execution_count": null,
   "metadata": {},
   "outputs": [],
   "source": [
    "import matplotlib.pyplot as plt\n",
    "plt.figure(figsize=(6, 4))\n",
    "for i in range(0,5):\n",
    "    plt.subplot(5, 1, i+1)\n",
    "    plt.plot(ds.time[i,:],ds.tot_vel[i,:])\n"
   ]
  },
  {
   "cell_type": "code",
   "execution_count": null,
   "metadata": {},
   "outputs": [],
   "source": [
    "#filename_oscar_clim = dir_clim + 'oscar_v2009_1993_2016_climatology_12202118.nc'\n",
    "for i in range(0,5):\n",
    "    boxes_lon_min[i] += 360\n",
    "    boxes_lon_max[i] += 360\n",
    "filename_TS_out = 'F:/data/eddy/bifurcation_ms/cmc_sst_boxes_timeseries.nc'\n",
    "#make cmc timeseries\n",
    "#for ibox in range(0,2): #5):\n",
    "inc=-1\n",
    "for box in boxes_names:\n",
    "    inc+=1 \n",
    "    for lyr in range(2000,2017):\n",
    "        syr=str(lyr).zfill(4)\n",
    "        fname_tem='monthly_average_' + syr + '120000-CMC-L4_GHRSST-SSTfnd-CMC0.2deg-GLOB-v02.0-fv02.0.nc'\n",
    "        cmc_filename_out = dir_cmc + syr + fname_tem\n",
    "        ds=xr.open_dataset(cmc_filename_out)\n",
    "        ds_subset = ds.sel(lon=slice(boxes_lon_max[inc],boxes_lon_min[inc]),lat=slice(boxes_lat_min[inc],boxes_lat_max[inc])) \n",
    "        ds.close()\n",
    "        ds_mean = ds_subset #ds_subset.groupby('time.month').mean('latitude').mean('longitude').resample(time='1MS').mean()    \n",
    "        if lyr==2000:\n",
    "            ds_box = ds_mean\n",
    "        else:\n",
    "            ds_box = xr.concat([ds_box,ds_mean],dim='time')\n",
    "        #print(box)\n",
    "    if box=='NPC':\n",
    "        ds_newbox = ds_box\n",
    "    else:\n",
    "        ds_newbox = xr.concat([ds_newbox,ds_box],dim='box')\n",
    "        #print(ds_newbox.box)\n",
    "ds_newbox.to_netcdf(filename_TS_out)"
   ]
  },
  {
   "cell_type": "code",
   "execution_count": 53,
   "metadata": {},
   "outputs": [
    {
     "data": {
      "text/plain": [
       "[-520, -490, -485, -490, -508]"
      ]
     },
     "execution_count": 53,
     "metadata": {},
     "output_type": "execute_result"
    }
   ],
   "source": [
    "boxes_lon_min\n"
   ]
  },
  {
   "cell_type": "code",
   "execution_count": null,
   "metadata": {},
   "outputs": [],
   "source": []
  },
  {
   "cell_type": "code",
   "execution_count": null,
   "metadata": {},
   "outputs": [],
   "source": []
  },
  {
   "cell_type": "code",
   "execution_count": null,
   "metadata": {},
   "outputs": [],
   "source": [
    "\n",
    "\n"
   ]
  },
  {
   "cell_type": "code",
   "execution_count": null,
   "metadata": {},
   "outputs": [],
   "source": []
  },
  {
   "cell_type": "code",
   "execution_count": null,
   "metadata": {},
   "outputs": [],
   "source": []
  },
  {
   "cell_type": "code",
   "execution_count": null,
   "metadata": {},
   "outputs": [],
   "source": []
  }
 ],
 "metadata": {
  "kernelspec": {
   "display_name": "Python 3",
   "language": "python",
   "name": "python3"
  },
  "language_info": {
   "codemirror_mode": {
    "name": "ipython",
    "version": 3
   },
   "file_extension": ".py",
   "mimetype": "text/x-python",
   "name": "python",
   "nbconvert_exporter": "python",
   "pygments_lexer": "ipython3",
   "version": "3.7.0"
  }
 },
 "nbformat": 4,
 "nbformat_minor": 2
}
