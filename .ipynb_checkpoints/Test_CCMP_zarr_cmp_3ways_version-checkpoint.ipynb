{
 "cells": [
  {
   "cell_type": "markdown",
   "metadata": {},
   "source": [
    "# Advantage of using these tools\n",
    "- Create a 32 year timesseries at a single point in < 1 min, because only the data chunks that are needed are loaded"
   ]
  },
  {
   "cell_type": "markdown",
   "metadata": {},
   "source": [
    "# Import libraries"
   ]
  },
  {
   "cell_type": "code",
   "execution_count": 1,
   "metadata": {},
   "outputs": [],
   "source": [
    "import xarray as xr\n",
    "from glob import glob\n",
    "import numpy as np\n",
    "import os.path"
   ]
  },
  {
   "cell_type": "markdown",
   "metadata": {},
   "source": [
    "# Old School\n",
    "- Create a function to create filename and test if it exists"
   ]
  },
  {
   "cell_type": "code",
   "execution_count": 2,
   "metadata": {},
   "outputs": [],
   "source": [
    "def get_filename(lyr,idyjl):\n",
    "    import datetime as dt\n",
    "    import os.path\n",
    "    data_dir = 'F:/data/sat_data/ccmp/v02.0/'\n",
    "    d = dt.date(lyr,1,1) + dt.timedelta(idyjl)\n",
    "    syr=str(d.year).zfill(4)\n",
    "    smon=str(d.month).zfill(2)\n",
    "    sdym=str(d.day).zfill(2)\n",
    "    sjdy=str(idyjl).zfill(3)\n",
    "    if (lyr>=2020) or ((lyr==2019) and (idyjl>119)):\n",
    "        filename=data_dir + 'Y' + syr + '/M' + smon +  '/CCMP_RT_Wind_Analysis_'+ syr + smon + sdym +'_V02.0_L3.0_RSS.nc'\n",
    "    else:\n",
    "        filename=data_dir + 'Y' + syr + '/M' + smon +  '/CCMP_Wind_Analysis_'+ syr + smon + sdym +'_V02.0_L3.0_RSS.nc'\n",
    "    iexist = os.path.isfile(filename) \n",
    "    return filename,iexist"
   ]
  },
  {
   "cell_type": "code",
   "execution_count": null,
   "metadata": {},
   "outputs": [],
   "source": [
    "%%time\n",
    "icnt = 0 \n",
    "for lyr in range(1987,2021):\n",
    "    for idyjl in range(1,367):\n",
    "        fname,iexist = get_filename(lyr,idyjl)\n",
    "        if iexist:\n",
    "            ds_day=xr.open_dataset(fname)\n",
    "            if icnt==0:\n",
    "                ds = ds_day\n",
    "                icnt=1\n",
    "            else:\n",
    "                ds = xr.concat([ds,ds_day],dim='time')\n",
    "ds"
   ]
  },
  {
   "cell_type": "markdown",
   "metadata": {},
   "source": [
    "# Using Xarray and glob methods on netcdf files"
   ]
  },
  {
   "cell_type": "code",
   "execution_count": null,
   "metadata": {
    "scrolled": true
   },
   "outputs": [],
   "source": [
    "%%time\n",
    "#directory structure\n",
    "pattern_netcdf = 'F:/data/sat_data/ccmp/v02.0/*/*/*_V02.0_L3.0_RSS.nc'\n",
    "#list files\n",
    "netcdf_file_list = [x for x in glob(pattern_netcdf)]"
   ]
  },
  {
   "cell_type": "code",
   "execution_count": null,
   "metadata": {},
   "outputs": [],
   "source": [
    "%%time\n",
    "#open dataset\n",
    "ds=xr.open_mfdataset(files,combine='nested',concat_dim='time')"
   ]
  },
  {
   "cell_type": "code",
   "execution_count": null,
   "metadata": {},
   "outputs": [],
   "source": [
    "%%time\n",
    "\n",
    "ds['wspd'] = np.sqrt(ds.uwnd**2+ds.vwnd**2)\n",
    "\n",
    "ts = ds.wspd.sel(latitude=slice(-10,0),longitude=slice(170,180)).mean({'latitude','longitude'}).plot()"
   ]
  },
  {
   "cell_type": "markdown",
   "metadata": {},
   "source": [
    "# The same workflow using Zarr"
   ]
  },
  {
   "cell_type": "code",
   "execution_count": null,
   "metadata": {},
   "outputs": [],
   "source": [
    "%%time\n",
    "pattern_zarr = 'F:/data/sat_data/ccmp/zarr/'\n",
    "ds= xr.open_zarr(pattern_zarr)\n",
    "ds"
   ]
  },
  {
   "cell_type": "code",
   "execution_count": null,
   "metadata": {},
   "outputs": [],
   "source": [
    "%%time\n",
    "\n",
    "ds['wspd'] = np.sqrt(ds.uwnd**2+ds.vwnd**2)\n",
    "\n",
    "ts = ds.wspd.sel(latitude=slice(-10,0),longitude=slice(170,180)).mean({'latitude','longitude'}).plot()"
   ]
  }
 ],
 "metadata": {
  "kernelspec": {
   "display_name": "Python 3",
   "language": "python",
   "name": "python3"
  },
  "language_info": {
   "codemirror_mode": {
    "name": "ipython",
    "version": 3
   },
   "file_extension": ".py",
   "mimetype": "text/x-python",
   "name": "python",
   "nbconvert_exporter": "python",
   "pygments_lexer": "ipython3",
   "version": "3.8.3"
  }
 },
 "nbformat": 4,
 "nbformat_minor": 4
}
