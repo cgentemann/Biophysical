{
 "cells": [
  {
   "cell_type": "code",
   "execution_count": 1,
   "metadata": {},
   "outputs": [
    {
     "name": "stdout",
     "output_type": "stream",
     "text": [
      "total number of eddies in database: 23086878\n"
     ]
    }
   ],
   "source": [
    "#import directory and netcdf libs\n",
    "import datetime as dt\n",
    "from datetime import datetime\n",
    "from netCDF4 import Dataset  # http://code.google.com/p/netcdf4-python/\n",
    "import pandas\n",
    "import matplotlib.pyplot as plt\n",
    "import numpy as np\n",
    "#import plotly\n",
    "#import plotly.plotly as py\n",
    "#from plotly.graph_objs import *\n",
    "#!pip install geopy  #to install geopy use !pip install geopy but only run once\n",
    "import geopy.distance\n",
    "\n",
    "#set plotly credentials\n",
    "#plotly.tools.set_credentials_file(username='cgentemann', api_key='7uYsbupVsAjAScD0Hb0O')\n",
    "\n",
    "####################you will need to change some paths here!#####################\n",
    "#list of input files\n",
    "#F:\\data\\NASA_biophysical\\aviso\n",
    "filename_aviso='f:/data/NASA_biophysical/aviso/eddy_trajectory_19930101_20170106.nc'   #From AVISO  website\n",
    "filename_cpr='f:/data/NASA_biophysical/cpr_data/All CPR Sample catalogue.xlsx'\n",
    "filename_distance_land='f:/data/sst/jpl_mur/v4.1/distance_to_land_25km.nc' \n",
    "#list of output files\n",
    "filename_northpac_eddies='F:/data/NASA_biophysical/aviso/eddy_trajectory_19930101_20170106_amazon.nc'\n",
    "filename_cpr_eddy='F:/data/NASA_biophysical/collocated_data/eddy_cpr_data_amazon.nc'\n",
    "filename_eddy='F:/data/NASA_biophysical/collocated_data/eddy_ranking_data_amazon.nc'\n",
    "#################################################################################\n",
    "\n",
    "#open the netcdf file full eddy database from AVISO\n",
    "nc_fid = Dataset(filename_aviso, 'r')  \n",
    "# Extract data from NetCDF file\n",
    "time = nc_fid.variables['time'][:]\n",
    "lats = nc_fid.variables['latitude'][:]  \n",
    "lons = nc_fid.variables['longitude'][:]\n",
    "speed_average = nc_fid.variables['speed_average'][:]\n",
    "amplitude = nc_fid.variables['amplitude'][:]\n",
    "speed_radius = nc_fid.variables['speed_radius'][:]\n",
    "cyclonic_type = nc_fid.variables['cyclonic_type'][:]\n",
    "track = nc_fid.variables['track'][:]   #eddy identification number  0 - 272045\n",
    "observation_number = nc_fid.variables['observation_number'][:]\n",
    "nc_fid.close()\n",
    "max_eddy_index=len(track)  \n",
    "print('total number of eddies in database:',max_eddy_index)\n"
   ]
  },
  {
   "cell_type": "code",
   "execution_count": null,
   "metadata": {},
   "outputs": [],
   "source": []
  },
  {
   "cell_type": "code",
   "execution_count": null,
   "metadata": {
    "scrolled": false
   },
   "outputs": [
    {
     "name": "stdout",
     "output_type": "stream",
     "text": [
      "1993 1\n",
      "1993 2\n",
      "1993 3\n",
      "1993 4\n",
      "1993 5\n"
     ]
    }
   ],
   "source": [
    "#use datetime delta feature to find year and day\n",
    "#make sure lon is 0-360 for collocations since we are doing north pacific & cross dateline\n",
    "date_1950 = dt.datetime(1950,1,1,0,0,0) # start date is 1/1/1950\n",
    "year=[0] * (max_eddy_index)\n",
    "idayjl=[0] * (max_eddy_index)\n",
    "for t in range(0,max_eddy_index):\n",
    "    tem_date=date_1950+dt.timedelta(days=float(time[t]))  #create new time array that can be queried for year etc\n",
    "    year[t]=tem_date.year\n",
    "    idayjl[t]=tem_date.timetuple().tm_yday\n",
    "    if lons[t] < -180.:\n",
    "        lons[t]=lons[t]+360.\n",
    "    if t < 5:\n",
    "        print(year[t],idayjl[t])   \n",
    "print('max and min lons', max(lons), min(lons))"
   ]
  },
  {
   "cell_type": "code",
   "execution_count": null,
   "metadata": {},
   "outputs": [],
   "source": [
    "cond = (lons>280) & (lons<320) & (lats>-10) & (lats<20) & (observation_number<1) & (totobs>25)\n",
    "plt.plot(lons[cond],lats[cond],'.')"
   ]
  },
  {
   "cell_type": "code",
   "execution_count": null,
   "metadata": {},
   "outputs": [],
   "source": [
    "cond = (lons>280) & (lons<320) & (lats>-10) & (lats<20) & \n",
    "plt.plot(lons[cond],lats[cond],'.')"
   ]
  },
  {
   "cell_type": "code",
   "execution_count": null,
   "metadata": {
    "scrolled": true
   },
   "outputs": [],
   "source": [
    "# this code identifies the eddies that have any data in 2000 to 2017 in the north pacific region\n",
    "# the code sorts by eddy identification number after this so that if an eddy just passes through the north pacific\n",
    "# we still save all the eddy location and time information\n",
    "\n",
    "#find the maximum eddy identification integer\n",
    "max_eddy_identification=max(track)\n",
    "#create an array with 0/1 flag 0= default; 1 = it was in region of interest\n",
    "npac_eddy=[0] * (max_eddy_identification+1)\n",
    "for index in range(0,max_eddy_index):\n",
    "    if ((year[index]>=2000) and (lons>280) and (lons<320) and (lats>-10) and (lats<20)):\n",
    "        index_npac=track[index]\n",
    "        npac_eddy[index_npac]=1    #the array npac_eddy now has 1 if that eddy was in north pacific'\n",
    "print('total number of eddies in north pacific',sum(npac_eddy),len(npac_eddy))\n",
    "\n"
   ]
  },
  {
   "cell_type": "code",
   "execution_count": null,
   "metadata": {},
   "outputs": [],
   "source": [
    "#create a new dataset where you only have eddies from ones that are in the north pacific after 2000\n",
    "#totobs=[0] * (max_eddy_index)\n",
    "#for t in range(0,272046):\n",
    "#    cond = (track == track[t])\n",
    "#    totobs[t]=cond.sum().data\n",
    "    \n",
    "print(npac_eddy[0],npac_eddy[272045-1])\n",
    "time_new=[]\n",
    "lats_new=[]\n",
    "lons_new=[]\n",
    "amplitude_new=[]\n",
    "speed_radius_new=[]\n",
    "speed_average_new=[]\n",
    "cyclonic_type_new=[]\n",
    "track_new=[]\n",
    "observation_number_new=[]\n",
    "year_new=[]\n",
    "idayjl_new=[]\n",
    "for index in range(0,max_eddy_index):\n",
    "    index_npac=track[index]  #check the track id for the eddy & if it is in north pacific\n",
    "    if index_npac>272045:\n",
    "        print(index_npac)\n",
    "    if npac_eddy[index_npac]==1:\n",
    "        time_new.append(time[index])\n",
    "        lats_new.append(lats[index])\n",
    "        lons_new.append(lons[index])\n",
    "        amplitude_new.append(amplitude[index])\n",
    "        speed_average_new.append(speed_average[index])\n",
    "        speed_radius_new.append(speed_radius[index])\n",
    "        cyclonic_type_new.append(cyclonic_type[index])\n",
    "        track_new.append(track[index])\n",
    "        observation_number_new.append(observation_number[index])\n",
    "        year_new.append(year[index])\n",
    "        idayjl_new.append(idayjl[index])\n",
    "        "
   ]
  },
  {
   "cell_type": "code",
   "execution_count": null,
   "metadata": {},
   "outputs": [],
   "source": [
    "print(len(time_new))"
   ]
  },
  {
   "cell_type": "code",
   "execution_count": null,
   "metadata": {},
   "outputs": [],
   "source": [
    "#eddy_id is from AVISO so it starts at 79110 and goes to 272035 but not\n",
    "#sequentially since I downsampled the data.  Here I calucalte a new eddy\n",
    "#index that goes from 1 to N sequentially\n",
    "#this isn't used here, but could be used to go through all the eddies\n",
    "\n",
    "#first go through data and save a new eddy id for each first observation\n",
    "ilen_eddy=len(lons_new)\n",
    "track_npac=0\n",
    "print(max(track_new))\n",
    "track_npac_new=[0] * (max(track_new)+1)\n",
    "track_npac_new_array=[0] * (ilen_eddy+1)\n",
    "for index in range(0,ilen_eddy):\n",
    "    if observation_number_new[index]==0:\n",
    "        track_npac=track_npac+1\n",
    "        track_npac_new[track_new[index]]=track_npac\n",
    "max_new_eddy_number = track_npac\n",
    "new_length_eddy = [0] * (max_new_eddy_number+1)\n",
    "#now go through data and assign new track id for all observations\n",
    "for index in range(0,ilen_eddy):\n",
    "    itrack=track_npac_new[track_new[index]]\n",
    "    track_npac_new_array[index]=itrack\n",
    "#find all the eddies that match new eddy number to determine length of each eddy\n",
    "for ieddy_num in range(1,max_new_eddy_number):\n",
    "    new_list=[index for index, x in enumerate(track_npac_new_array) if x==ieddy_num] \n",
    "    new_length_eddy[ieddy_num]=len(new_list)"
   ]
  },
  {
   "cell_type": "code",
   "execution_count": null,
   "metadata": {},
   "outputs": [],
   "source": [
    "track_npac_new_array_length=[0]*(ilen_eddy)\n",
    "for index in range(0,ilen_eddy):\n",
    "    ieddy=track_npac_new_array[index]\n",
    "    ilen=new_length_eddy[ieddy]\n",
    "    track_npac_new_array_length[index]=ilen\n",
    "print('done')"
   ]
  },
  {
   "cell_type": "code",
   "execution_count": null,
   "metadata": {},
   "outputs": [],
   "source": [
    "inum_obs=len(idayjl_new)\n",
    "f = Dataset(filename_northpac_eddies,'w', format='NETCDF4') \n",
    "#tempgrp = f.createGroup('Eddy_data')\n",
    "f.createDimension('z', inum_obs)\n",
    "lons_netcdf = f.createVariable('Longitude', 'f4', 'z')\n",
    "lats_netcdf = f.createVariable('Latitude', 'f4', 'z')  \n",
    "time_netcdf = f.createVariable('time', 'i4', 'z')\n",
    "amplitude_netcdf = f.createVariable('amplitude', 'f4', 'z')\n",
    "speed_average_netcdf = f.createVariable('speed_average', 'f4', 'z')\n",
    "speed_radius_netcdf = f.createVariable('speed_radius', 'f4', 'z')\n",
    "cyclonic_type_netcdf = f.createVariable('cyclonic_type', 'i1', 'z')\n",
    "track_netcdf = f.createVariable('track', 'i4', 'z')\n",
    "track_days_netcdf = f.createVariable('track_total_days', 'i4', 'z')\n",
    "observation_number_netcdf = f.createVariable('observation_number', 'i2', 'z')\n",
    "year_netcdf = f.createVariable('year', 'f4', 'z')\n",
    "idayjl_netcdf = f.createVariable('idayjl', 'f4', 'z')\n",
    "lons_netcdf[:] = lons_new\n",
    "lats_netcdf[:] = lats_new\n",
    "time_netcdf[:] = time_new\n",
    "amplitude_netcdf[:] = amplitude_new\n",
    "speed_average_netcdf[:] = speed_average_new\n",
    "speed_radius_netcdf[:] = speed_radius_new\n",
    "track_netcdf[:] = track_new\n",
    "observation_number_netcdf[:] = observation_number_new\n",
    "year_netcdf[:] =year_new\n",
    "idayjl_netcdf[:] = idayjl_new\n",
    "track_days_netcdf[:]=track_npac_new_array_length\n",
    "lons_netcdf.units = 'degrees east'\n",
    "lats_netcdf.units = 'degrees north'\n",
    "time_netcdf.units = 'days since 1950-01-01 00:00:00 UTC'\n",
    "amplitude_netcdf.units = 'cm'\n",
    "speed_average_netcdf.units = 'cm/s'\n",
    "speed_radius_netcdf.units = 'km'\n",
    "cyclonic_type_netcdf.units = 'cyclonic -1; anti-cyclonic +1'\n",
    "track_netcdf.units = 'eddy identification number'\n",
    "track_days_netcdf.units = 'total number of days eddy identified'\n",
    "observation_number_netcdf.units = 'observation sequence number, days from start'\n",
    "f.close()"
   ]
  },
  {
   "cell_type": "code",
   "execution_count": 8,
   "metadata": {},
   "outputs": [
    {
     "ename": "NameError",
     "evalue": "name 'lons_new' is not defined",
     "output_type": "error",
     "traceback": [
      "\u001b[1;31m---------------------------------------------------------------------------\u001b[0m",
      "\u001b[1;31mNameError\u001b[0m                                 Traceback (most recent call last)",
      "\u001b[1;32m<ipython-input-8-aefad2ed3ed1>\u001b[0m in \u001b[0;36m<module>\u001b[1;34m\u001b[0m\n\u001b[1;32m----> 1\u001b[1;33m \u001b[0mplt\u001b[0m\u001b[1;33m.\u001b[0m\u001b[0mplot\u001b[0m\u001b[1;33m(\u001b[0m\u001b[0mlons_new\u001b[0m\u001b[1;33m,\u001b[0m\u001b[0mlats_new\u001b[0m\u001b[1;33m,\u001b[0m\u001b[1;34m'.'\u001b[0m\u001b[1;33m)\u001b[0m\u001b[1;33m\u001b[0m\u001b[1;33m\u001b[0m\u001b[0m\n\u001b[0m",
      "\u001b[1;31mNameError\u001b[0m: name 'lons_new' is not defined"
     ]
    }
   ],
   "source": [
    "plt.plot(lons_new,lats_new,'.')"
   ]
  },
  {
   "cell_type": "code",
   "execution_count": null,
   "metadata": {},
   "outputs": [],
   "source": []
  }
 ],
 "metadata": {
  "kernelspec": {
   "display_name": "Python 3",
   "language": "python",
   "name": "python3"
  },
  "language_info": {
   "codemirror_mode": {
    "name": "ipython",
    "version": 3
   },
   "file_extension": ".py",
   "mimetype": "text/x-python",
   "name": "python",
   "nbconvert_exporter": "python",
   "pygments_lexer": "ipython3",
   "version": "3.7.1"
  }
 },
 "nbformat": 4,
 "nbformat_minor": 2
}
