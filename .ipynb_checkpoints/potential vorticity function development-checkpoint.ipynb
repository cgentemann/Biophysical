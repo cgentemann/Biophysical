{
 "cells": [
  {
   "cell_type": "code",
   "execution_count": 1,
   "metadata": {},
   "outputs": [
    {
     "ename": "ModuleNotFoundError",
     "evalue": "No module named 'geopy'",
     "output_type": "error",
     "traceback": [
      "\u001b[1;31m---------------------------------------------------------------------------\u001b[0m",
      "\u001b[1;31mModuleNotFoundError\u001b[0m                       Traceback (most recent call last)",
      "\u001b[1;32m<ipython-input-1-dbf48f0f6d63>\u001b[0m in \u001b[0;36m<module>\u001b[1;34m\u001b[0m\n\u001b[0;32m      1\u001b[0m \u001b[1;31m#from netCDF4 import Dataset\u001b[0m\u001b[1;33m\u001b[0m\u001b[1;33m\u001b[0m\u001b[0m\n\u001b[0;32m      2\u001b[0m \u001b[1;32mimport\u001b[0m \u001b[0mnumpy\u001b[0m\u001b[1;33m\u001b[0m\u001b[0m\n\u001b[1;32m----> 3\u001b[1;33m \u001b[1;32mimport\u001b[0m \u001b[0mgeopy\u001b[0m\u001b[1;33m.\u001b[0m\u001b[0mdistance\u001b[0m\u001b[1;33m\u001b[0m\u001b[0m\n\u001b[0m\u001b[0;32m      4\u001b[0m \u001b[1;32mimport\u001b[0m \u001b[0mxarray\u001b[0m \u001b[1;32mas\u001b[0m \u001b[0mxr\u001b[0m\u001b[1;33m\u001b[0m\u001b[0m\n\u001b[0;32m      5\u001b[0m \u001b[1;32mimport\u001b[0m \u001b[0mpandas\u001b[0m\u001b[1;33m\u001b[0m\u001b[0m\n",
      "\u001b[1;31mModuleNotFoundError\u001b[0m: No module named 'geopy'"
     ]
    }
   ],
   "source": [
    "#from netCDF4 import Dataset\n",
    "import numpy\n",
    "import geopy.distance\n",
    "import xarray as xr\n",
    "import pandas\n",
    "import matplotlib as mpl\n",
    "import xarray as xr\n",
    "import numpy as np\n",
    "from math import pi\n",
    "import datetime as dt\n",
    "dir_data='F:/data/sat_data/ccmp/v02.0/'\n",
    "\n",
    "def get_ccmp_filename_daily(lyr,idyjl):\n",
    "    dir_data='F:/data/sat_data/ccmp/v02.0/'\n",
    "    d = dt.date(lyr,1,1) + dt.timedelta(idyjl - 1)\n",
    "    syr, smon, sdym =str(d.year).zfill(4), str(d.month).zfill(2), str(d.day).zfill(2)\n",
    "    filename = dir_data + 'Y' + syr + '/M' + smon + '/CCMP_Wind_Analysis_' + syr + smon + sdym + '_V02.0_L3.0_RSS.nc'\n",
    "    if lyr>=2018:\n",
    "        filename = dir_data + 'Y' + syr + '/M' + smon + '/CCMP_RT_Wind_Analysis_' + syr + smon + sdym + '_V02.0_L3.0_RSS.nc'\n",
    "    return filename\n",
    "\n",
    "\n",
    "def cal_dist(ds):\n",
    "    lons = ds.lon.values\n",
    "    lats = ds.lat.values\n",
    "    dx=[]  #dx has value for each lat\n",
    "    dy=[]  #dy has a value for each lat as well\n",
    "    for j in range(0,len(lats)):\n",
    "        i=10 #just a random lon\n",
    "        coords_1 = (lats[j], lons[i-1])  #cpr sample location\n",
    "        coords_2 = (lats[j], lons[i])  #eddy location\n",
    "        arclen_temp = geopy.distance.vincenty(coords_1, coords_2).m       \n",
    "        for i in range(1,len(lons)-1):\n",
    "            dx[j]=arclen_temp\n",
    "    for j in range(1,len(lats)):\n",
    "        i=10 #just a random lon\n",
    "        coords_1 = (lats[j], lons[i])  #cpr sample location\n",
    "        coords_2 = (lats[j-1], lons[i])  #eddy location\n",
    "        arclen_temp = geopy.distance.vincenty(coords_1, coords_2).m       \n",
    "        dy[j]=arclen_temp\n",
    "    j=0\n",
    "    i=10 #just a random lon\n",
    "    coords_1 = (lats[j], lons[i])  #cpr sample location\n",
    "    coords_2 = (lats[j+1], lons[i])  #eddy location\n",
    "    arclen_temp = geopy.distance.vincenty(coords_1, coords_2).m       \n",
    "    dy[j]=arclen_temp\n",
    "    ds['dx']=dx\n",
    "    ds['dy']=dy\n",
    "    return ds\n",
    "    \n",
    "\n",
    "def wrf_vort( U, V, dx,dy ):\n",
    "    \"\"\"Calculate the relative vorticity given the U and V vector components in m/s\n",
    "    and the grid spacing dx in meters.\n",
    "    U and V must be the same shape.\n",
    "    ---------------------\n",
    "    U (numpy.ndarray): ndarray of U vector values in m/s\n",
    "    V (numpy.ndarray): ndarray of V vector values in m/s\n",
    "    dx (float or int): float or integer of U and V grispacing in meters\n",
    "    ---------------------\n",
    "    returns:\n",
    "        numpy.ndarray of vorticity values s^-1 same shape as U and V\n",
    "    \"\"\"\n",
    "#    assert U.shape == V.shape, 'Arrays are different shapes. They must be the same shape.'\n",
    "    \n",
    "    du = numpy.gradient( U )\n",
    "    dv = numpy.gradient( V )\n",
    "    return ( dv[-1]/dx - du[-2]/dy )"
   ]
  },
  {
   "cell_type": "code",
   "execution_count": 8,
   "metadata": {},
   "outputs": [
    {
     "name": "stdout",
     "output_type": "stream",
     "text": [
      "<xarray.Dataset>\n",
      "Dimensions:    (depth: 1, latitude: 481, longitude: 1201, time: 72, year: 72)\n",
      "Coordinates:\n",
      "  * time       (time) datetime64[ns] 1998-01-01 1998-01-06 ... 1998-12-26\n",
      "  * year       (year) float32 1998.0 1998.0137 1998.0273 ... 1998.9698 1998.9835\n",
      "  * depth      (depth) float32 15.0\n",
      "  * latitude   (latitude) float64 80.0 79.67 79.33 79.0 ... -79.33 -79.67 -80.0\n",
      "  * longitude  (longitude) float64 20.0 20.33 20.67 21.0 ... 419.3 419.7 420.0\n",
      "Data variables:\n",
      "    u          (time, depth, latitude, longitude) float64 ...\n",
      "    v          (time, depth, latitude, longitude) float64 ...\n",
      "    um         (time, depth, latitude, longitude) float64 ...\n",
      "    vm         (time, depth, latitude, longitude) float64 ...\n",
      "Attributes:\n",
      "    VARIABLE:       Ocean Surface Currents\n",
      "    DATATYPE:       1/72 YEAR Interval\n",
      "    DATASUBTYPE:    unfiltered\n",
      "    GEORANGE:       20 to 420 -80 to 80\n",
      "    PERIOD:         Jan.01,1998 to Dec.26,1998\n",
      "    year:           1998\n",
      "    description:    OSCAR Third Degree Sea Surface Velocity\n",
      "    CREATION_DATE:  16:02 04-Apr-2017\n",
      "    version:        2017.0\n",
      "    source:         Kathleen Dohan, ESR (kdohan@esr.org)\n",
      "    contact:        Kathleen Dohan (kdohan@esr.org)\n",
      "    company:        Earth & Space Research, Seattle, WA\n",
      "    reference:      Bonjean F. and G.S.E. Lagerloef, 2002 ,Diagnostic model a...\n",
      "    note1:          Maximum Mask velocity is the geostrophic component at all...\n",
      "    note2:          Longitude extends from 20 E to 420 E to avoid a break in ...\n"
     ]
    }
   ],
   "source": [
    "lyr=2000\n",
    "filename = get_ccmp_filename_daily(2000,1)\n",
    "ds = xr.open_dataset(filename,drop_variables='nobs')\n",
    "ds['spd']=(ds.uwnd**2+ds.vwnd**2)**.5\n",
    "ds['dir']=np.arctan2(ds.vwnd,ds.uwnd)* 180./pi\n",
    "ds = ds.rename({'longitude':'lon','latitude':'lat'})\n",
    "print(ds)\n",
    "ds.close()"
   ]
  },
  {
   "cell_type": "code",
   "execution_count": 10,
   "metadata": {},
   "outputs": [],
   "source": [
    "ds=ds.rename({'latitude':'lat','longitude':'lon'})"
   ]
  },
  {
   "cell_type": "code",
   "execution_count": 13,
   "metadata": {},
   "outputs": [
    {
     "name": "stderr",
     "output_type": "stream",
     "text": [
      "C:\\Users\\gentemann\\Miniconda3\\lib\\site-packages\\ipykernel_launcher.py:16: DeprecationWarning: Vincenty is deprecated and is going to be removed in geopy 2.0. Use `geopy.distance.geodesic` (or the default `geopy.distance.distance`) instead, which is more accurate and always converges.\n",
      "  app.launch_new_instance()\n"
     ]
    },
    {
     "ename": "IndexError",
     "evalue": "list assignment index out of range",
     "output_type": "error",
     "traceback": [
      "\u001b[1;31m---------------------------------------------------------------------------\u001b[0m",
      "\u001b[1;31mIndexError\u001b[0m                                Traceback (most recent call last)",
      "\u001b[1;32m<ipython-input-13-9c74b5bdabed>\u001b[0m in \u001b[0;36m<module>\u001b[1;34m\u001b[0m\n\u001b[1;32m----> 1\u001b[1;33m \u001b[0mds2\u001b[0m \u001b[1;33m=\u001b[0m \u001b[0mcal_dist\u001b[0m\u001b[1;33m(\u001b[0m\u001b[0mds\u001b[0m\u001b[1;33m)\u001b[0m\u001b[1;33m\u001b[0m\u001b[1;33m\u001b[0m\u001b[0m\n\u001b[0m",
      "\u001b[1;32m<ipython-input-7-4a279b22a883>\u001b[0m in \u001b[0;36mcal_dist\u001b[1;34m(ds)\u001b[0m\n\u001b[0;32m     16\u001b[0m         \u001b[0marclen_temp\u001b[0m \u001b[1;33m=\u001b[0m \u001b[0mgeopy\u001b[0m\u001b[1;33m.\u001b[0m\u001b[0mdistance\u001b[0m\u001b[1;33m.\u001b[0m\u001b[0mvincenty\u001b[0m\u001b[1;33m(\u001b[0m\u001b[0mcoords_1\u001b[0m\u001b[1;33m,\u001b[0m \u001b[0mcoords_2\u001b[0m\u001b[1;33m)\u001b[0m\u001b[1;33m.\u001b[0m\u001b[0mm\u001b[0m\u001b[1;33m\u001b[0m\u001b[1;33m\u001b[0m\u001b[0m\n\u001b[0;32m     17\u001b[0m         \u001b[1;32mfor\u001b[0m \u001b[0mi\u001b[0m \u001b[1;32min\u001b[0m \u001b[0mrange\u001b[0m\u001b[1;33m(\u001b[0m\u001b[1;36m1\u001b[0m\u001b[1;33m,\u001b[0m\u001b[0mlen\u001b[0m\u001b[1;33m(\u001b[0m\u001b[0mlons\u001b[0m\u001b[1;33m)\u001b[0m\u001b[1;33m-\u001b[0m\u001b[1;36m1\u001b[0m\u001b[1;33m)\u001b[0m\u001b[1;33m:\u001b[0m\u001b[1;33m\u001b[0m\u001b[1;33m\u001b[0m\u001b[0m\n\u001b[1;32m---> 18\u001b[1;33m             \u001b[0mdx\u001b[0m\u001b[1;33m[\u001b[0m\u001b[0mj\u001b[0m\u001b[1;33m]\u001b[0m\u001b[1;33m=\u001b[0m\u001b[0marclen_temp\u001b[0m\u001b[1;33m\u001b[0m\u001b[1;33m\u001b[0m\u001b[0m\n\u001b[0m\u001b[0;32m     19\u001b[0m     \u001b[1;32mfor\u001b[0m \u001b[0mj\u001b[0m \u001b[1;32min\u001b[0m \u001b[0mrange\u001b[0m\u001b[1;33m(\u001b[0m\u001b[1;36m1\u001b[0m\u001b[1;33m,\u001b[0m\u001b[0mlen\u001b[0m\u001b[1;33m(\u001b[0m\u001b[0mlats\u001b[0m\u001b[1;33m)\u001b[0m\u001b[1;33m)\u001b[0m\u001b[1;33m:\u001b[0m\u001b[1;33m\u001b[0m\u001b[1;33m\u001b[0m\u001b[0m\n\u001b[0;32m     20\u001b[0m         \u001b[0mi\u001b[0m\u001b[1;33m=\u001b[0m\u001b[1;36m10\u001b[0m \u001b[1;31m#just a random lon\u001b[0m\u001b[1;33m\u001b[0m\u001b[1;33m\u001b[0m\u001b[0m\n",
      "\u001b[1;31mIndexError\u001b[0m: list assignment index out of range"
     ]
    }
   ],
   "source": [
    "ds2 = cal_dist(ds)"
   ]
  },
  {
   "cell_type": "code",
   "execution_count": null,
   "metadata": {},
   "outputs": [],
   "source": []
  }
 ],
 "metadata": {
  "kernelspec": {
   "display_name": "Python 3",
   "language": "python",
   "name": "python3"
  },
  "language_info": {
   "codemirror_mode": {
    "name": "ipython",
    "version": 3
   },
   "file_extension": ".py",
   "mimetype": "text/x-python",
   "name": "python",
   "nbconvert_exporter": "python",
   "pygments_lexer": "ipython3",
   "version": "3.7.0"
  }
 },
 "nbformat": 4,
 "nbformat_minor": 2
}
