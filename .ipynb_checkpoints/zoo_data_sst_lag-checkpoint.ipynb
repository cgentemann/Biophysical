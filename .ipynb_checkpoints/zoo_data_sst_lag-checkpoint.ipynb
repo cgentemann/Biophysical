{
 "cells": [
  {
   "cell_type": "markdown",
   "metadata": {},
   "source": [
    "# Tutorial on collocaing a dataset with lagged environmental data"
   ]
  },
  {
   "cell_type": "code",
   "execution_count": null,
   "metadata": {},
   "outputs": [],
   "source": [
    "import matplotlib.pyplot as plt\n",
    "import numpy as np\n",
    "import xarray as xr\n",
    "import pandas as pd\n",
    "import warnings\n",
    "# filter some warning messages\n",
    "warnings.filterwarnings(\"ignore\") \n",
    "from geopy.distance import geodesic \n",
    "\n",
    "####################you will need to change some paths here!#####################\n",
    "#list of input files\n",
    "filename_bird='f:/data/project_data/NASA_biophysical/collocated_data/zoo_selgroups_HadSST_relabundance_5aug2019_plumchrusV_4regions_final.csv'\n",
    "#output files\n",
    "filename_bird_out='f:/data/project_data/NASA_biophysical/collocated_data/zoo_selgroups_HadSST_relabundance_5aug2019_plumchrusV_4regions_final_satsst.csv'\n",
    "filename_bird_out_netcdf='f:/data/project_data/NASA_biophysical/collocated_data/zoo_selgroups_HadSST_relabundance_5aug2019_plumchrusV_4regions_final_satsst.nc'\n",
    "#################################################################################\n"
   ]
  },
  {
   "cell_type": "markdown",
   "metadata": {},
   "source": [
    "## Reading CSV datasets"
   ]
  },
  {
   "cell_type": "code",
   "execution_count": null,
   "metadata": {},
   "outputs": [],
   "source": [
    "#read in csv file in to panda dataframe & into xarray\n",
    "df_bird = pd.read_csv(filename_bird)\n",
    "ds_bird = df_bird.to_xarray()"
   ]
  },
  {
   "cell_type": "code",
   "execution_count": null,
   "metadata": {},
   "outputs": [],
   "source": [
    "#calculate time\n",
    "#error in time, later data includes date and hour\n",
    "ilen_bird = len(ds_bird.lat)\n",
    "ds_bird['time64'] = xr.DataArray(np.empty(ilen_bird, dtype='datetime64[ns]'), coords={'index': ds_bird.index}, dims=('index'))\n",
    "for i in range(len(df_bird)):\n",
    "    tem = df_bird.time[1]\n",
    "    ii=tem.find(' ')\n",
    "    shr = str(tem[ii+1:])\n",
    "    tstr = str(df_bird.year[i])+'-'+str(df_bird.month[i]).zfill(2)+'-'+str(df_bird.day[i]).zfill(2)+'T'+shr\n",
    "    ds_bird['time64'][i]=np.datetime64(tstr)\n",
    "ds_bird = ds_bird.rename({'long':'lon'})\n",
    "ds_bird"
   ]
  },
  {
   "cell_type": "code",
   "execution_count": null,
   "metadata": {},
   "outputs": [],
   "source": [
    "#just check lat/lon & see looks okay\n",
    "minlat,maxlat=ds_bird.lat.min(),ds_bird.lat.max()\n",
    "minlon,maxlon=ds_bird.lon.min(),ds_bird.lon.max()\n",
    "plt.scatter(ds_bird.lon,ds_bird.lat)\n",
    "print(minlat,maxlat,minlon,maxlon)"
   ]
  },
  {
   "cell_type": "code",
   "execution_count": null,
   "metadata": {},
   "outputs": [],
   "source": [
    "#open cmc sst\n",
    "ds = xr.open_zarr('F:/data/sat_data/sst/cmc/zarr').drop({'analysis_error','mask','sea_ice_fraction'})\n",
    "ds"
   ]
  },
  {
   "cell_type": "code",
   "execution_count": null,
   "metadata": {},
   "outputs": [],
   "source": [
    "#average 0.6 deg in each direction to create mean \n",
    "ds = ds.rolling(lat=3,center=True,keep_attrs=True).mean(keep_attrs=True)\n",
    "ds = ds.rolling(lon=3,center=True,keep_attrs=True).mean(keep_attrs=True)\n",
    "ds"
   ]
  },
  {
   "cell_type": "code",
   "execution_count": null,
   "metadata": {},
   "outputs": [],
   "source": [
    "ds_mon = ds.rolling(time=30, center=False,keep_attrs=True).mean(keep_attrs=True)\n",
    "ds_15 = ds.rolling(time=15, center=False,keep_attrs=True).mean(keep_attrs=True)\n",
    "ds['analysed_sst_1mon']=ds_mon['analysed_sst']\n",
    "ds['analysed_sst_15dy']=ds_15['analysed_sst']\n",
    "ds"
   ]
  },
  {
   "cell_type": "markdown",
   "metadata": {},
   "source": [
    "# Collocate all data with bird data"
   ]
  },
  {
   "cell_type": "code",
   "execution_count": null,
   "metadata": {},
   "outputs": [],
   "source": [
    "len(ds_bird.lat)\n"
   ]
  },
  {
   "cell_type": "code",
   "execution_count": null,
   "metadata": {},
   "outputs": [],
   "source": [
    "ds_data = ds\n",
    "for var in ds_data:\n",
    "    var_tem=var\n",
    "    ds_bird[var_tem]=xr.DataArray(np.empty(ilen_bird, dtype=str(ds_data[var].dtype)), coords={'index': ds_bird.index}, dims=('index'))\n",
    "    ds_bird[var_tem].attrs=ds_data[var].attrs\n",
    "print('var',var_tem)\n",
    "for i in range(len(ds_bird.lat)):\n",
    "#    for i in range(len(ds_bird.lat)):\n",
    "#    if ds_bird.time[i]<ds_data.time.min():\n",
    "#        continue\n",
    "#    if ds_bird.time[i]>ds_data.time.max():\n",
    "#        continue\n",
    "    t1,t2 = ds_bird.time64[i]-np.timedelta64(24,'h'), ds_bird.time64[i]+np.timedelta64(24,'h')\n",
    "    lat1,lat2=ds_bird.lat[i]-.5,ds_bird.lat[i]+.5\n",
    "    lon1,lon2=ds_bird.lon[i]-.5,ds_bird.lon[i]+.5\n",
    "    tem = ds_data.sel(time=slice(t1,t2),lat=slice(lat1,lat2),lon=slice(lon1,lon2)).load()\n",
    "    tem = tem.interp(time=ds_bird.time64[i],lat=ds_bird.lat[i],lon=ds_bird.lon[i])\n",
    "    #tem = tem.load()\n",
    "    for var in ds_data:\n",
    "        var_tem=var\n",
    "        ds_bird[var_tem][i]=tem[var].data\n",
    "    if int(i/100)*100==i:\n",
    "        print(i,len(ds_bird.lat))\n",
    "\n",
    "#output data\n",
    "df_bird = ds_bird.to_dataframe()\n",
    "df_bird.to_csv(filename_bird_out)\n",
    "#ds_bird.to_netcdf(filename_bird_out_netcdf)"
   ]
  },
  {
   "cell_type": "code",
   "execution_count": null,
   "metadata": {},
   "outputs": [],
   "source": []
  },
  {
   "cell_type": "code",
   "execution_count": null,
   "metadata": {},
   "outputs": [],
   "source": [
    "var2\n"
   ]
  },
  {
   "cell_type": "code",
   "execution_count": null,
   "metadata": {},
   "outputs": [],
   "source": [
    "#test rolling to check\n",
    "print(da.data)\n",
    "da = xr.DataArray(np.linspace(0, 11, num=12),coords=[pd.date_range( \"15/12/1999\", periods=12, freq=pd.DateOffset(months=1), )],dims=\"time\",)\n",
    "dar = da.rolling(time=3,center=False).mean()  #before and up too\n",
    "print(dar.data)"
   ]
  },
  {
   "cell_type": "code",
   "execution_count": null,
   "metadata": {},
   "outputs": [],
   "source": []
  }
 ],
 "metadata": {
  "kernelspec": {
   "display_name": "Python 3",
   "language": "python",
   "name": "python3"
  },
  "language_info": {
   "codemirror_mode": {
    "name": "ipython",
    "version": 3
   },
   "file_extension": ".py",
   "mimetype": "text/x-python",
   "name": "python",
   "nbconvert_exporter": "python",
   "pygments_lexer": "ipython3",
   "version": "3.7.6"
  }
 },
 "nbformat": 4,
 "nbformat_minor": 2
}
