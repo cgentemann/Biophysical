{
 "cells": [
  {
   "cell_type": "code",
   "execution_count": null,
   "id": "81d568dd",
   "metadata": {},
   "outputs": [],
   "source": [
    "import xarray as xr\n",
    "import numpy as np\n",
    "from math import pi\n",
    "import datetime as dt\n",
    "import os\n",
    "import sys\n",
    "from os.path import exists\n",
    "import matplotlib.pyplot as plt\n",
    "import cartopy.crs as ccrs\n",
    "from datetime import *; from dateutil.relativedelta import *\n",
    "from scipy.interpolate import make_interp_spline, BSpline\n",
    "from scipy.signal import savgol_filter\n",
    "import pandas as pd\n",
    "import dask\n",
    "dask.config.set(**{'array.slicing.split_large_chunks': False})\n",
    "dir_timeseries = 'F:/data/project_data/NASA_biophysical/UnimakPass/data/'\n",
    "\n",
    "#unimak pass center point\n",
    "ulon = -165.125\n",
    "ulat = 54.236\n",
    "ilen=14245\n",
    "time = pd.date_range(\"1982-01-01\", periods=ilen, freq='D')\n",
    "da = xr.DataArray(np.ones((ilen))*np.nan,dims=[\"time\"],coords={'time':time})\n",
    "ds_bird = xr.Dataset({'tem':da})\n",
    "\n",
    "time = pd.date_range(\"1982-01-01\", periods=ilen, freq='D')\n",
    "lat,lon = np.arange(ulat-1,ulat+1,.25),np.arange(ulon-1,ulon+1,.25)\n",
    "da = xr.DataArray(np.ones((8,8,ilen))*np.nan,dims=['lat','lon','time'],coords={'lat':lat,'lon':lon,'time':time})\n",
    "ds_bird_area=xr.Dataset({'temp':da})\n",
    "\n",
    "time = pd.date_range(\"1982-01-01\", periods=ilen, freq='D')\n",
    "lat,lon = np.arange(ulat-2,ulat+2,.25),np.arange(ulon-2,ulon+2,.25)\n",
    "da = xr.DataArray(np.ones((16,16,ilen))*np.nan,dims=['lat','lon','time'],coords={'lat':lat,'lon':lon,'time':time})\n",
    "ds_bird_area2=xr.Dataset({'temp':da})\n",
    "\n",
    "time = pd.date_range(\"1982-01-01\", periods=ilen, freq='D')\n",
    "lat,lon = np.arange(ulat-4,ulat+4,.25),np.arange(ulon-4,ulon+4,.25)\n",
    "da = xr.DataArray(np.ones((32,32,ilen))*np.nan,dims=['lat','lon','time'],coords={'lat':lat,'lon':lon,'time':time})\n",
    "ds_bird_area4=xr.Dataset({'temp':da})"
   ]
  },
  {
   "cell_type": "code",
   "execution_count": null,
   "id": "fc25c45c",
   "metadata": {},
   "outputs": [],
   "source": [
    "#define function to get all the data at once, use same years for climatology for all data\n",
    "def get_data():\n",
    "    \n",
    "    #climatology years\n",
    "    cyr1,cyr2='1993-01-01','2018-12-31'\n",
    "    \n",
    "    # CCMP test\n",
    "    dir_pattern_zarr = 'F:/data/sat_data/ccmp/zarr/'\n",
    "    ds= xr.open_zarr(dir_pattern_zarr)\n",
    "    ds = ds.rename({'latitude':'lat','longitude':'lon'})\n",
    "    ds.coords['lon'] = (ds.coords['lon'] + 180) % 360 - 180\n",
    "    ds_ccmp = ds.sortby(ds.lon)\n",
    "    ds_ccmp = ds_ccmp.drop('nobs')\n",
    "    for var in ds_ccmp:\n",
    "        tem = ds_ccmp[var].attrs\n",
    "        tem['var_name']='ccmp_'+str(var)\n",
    "        ds_ccmp[var].attrs=tem\n",
    "    #ds_ccmp_clim = ds_ccmp.sel(time=slice(cyr1,cyr2))\n",
    "    #ds_ccmp_clim = ds_ccmp_clim.groupby('time.dayofyear').mean('time',keep_attrs=True,skipna=False)\n",
    "    \n",
    "    # AVISO test\n",
    "    dir_pattern_zarr = 'F:/data/sat_data/aviso/aviso.zarr/'\n",
    "    ds= xr.open_zarr(dir_pattern_zarr)\n",
    "    ds = ds.rename({'latitude':'lat','longitude':'lon'})\n",
    "    ds.coords['lon'] = (ds.coords['lon'] + 180) % 360 - 180\n",
    "    ds_aviso = ds.sortby(ds.lon).drop({'lat_bnds','lon_bnds','crs','err'})\n",
    "    for var in ds_aviso:\n",
    "        tem = ds_aviso[var].attrs\n",
    "        tem['var_name']='aviso_'+str(var)\n",
    "        ds_aviso[var].attrs=tem\n",
    "    #ds_aviso_clim = ds_aviso.sel(time=slice(cyr1,cyr2))\n",
    "    #ds_aviso_clim = ds_aviso_clim.groupby('time.dayofyear').mean('time',keep_attrs=True,skipna=False)    \n",
    "\n",
    "    #sst\n",
    "    dir_pattern_zarr = 'F:/data/sat_data/sst/cmc/zarr/'\n",
    "    ds_sst= xr.open_zarr(dir_pattern_zarr)\n",
    "    ds_sst = ds_sst.drop({'analysis_error','mask','sea_ice_fraction'})\n",
    "    tem = ds_sst.analysed_sst.attrs\n",
    "    tem['var_name']='cmc_sst'\n",
    "    ds_sst.analysed_sst.attrs=tem\n",
    "    #ds_sst_clim = ds_sst.sel(time=slice(cyr1,cyr2))\n",
    "    #ds_sst_clim = ds_sst_clim.groupby('time.dayofyear').mean('time',keep_attrs=True,skipna=False)\n",
    "    \n",
    "    #color\n",
    "    ds_color = xr.open_dataset('https://rsg.pml.ac.uk/thredds/dodsC/CCI_ALL-v4.2-8DAY') #CCI_ALL-v4.2-DAILY')\n",
    "    #ds_color = xr.open_dataset('https://rsg.pml.ac.uk/thredds/dodsC/CCI_ALL-v4.2-DAILY')\n",
    "    #ds_color = xr.open_dataset('https://rsg.pml.ac.uk/thredds/dodsC/CCI_ALL-v4.2-8DAY')\n",
    "    for var in ds_color:\n",
    "        if not var=='chlor_a':\n",
    "            ds_color = ds_color.drop(var)\n",
    "    ds_color = ds_color.sortby('lat')\n",
    "    for var in ds_color:\n",
    "        tem = ds_color[var].attrs\n",
    "        tem['var_name']='CCI_'+str(var)\n",
    "        ds_color[var].attrs=tem\n",
    "\n",
    "    \n",
    "    #get bathymetry from ETOPO1\n",
    "    fname_topo = 'F:/data/topo/ETOPO1_Ice_g_gmt4.grd'\n",
    "    ds = xr.open_dataset(fname_topo)\n",
    "    ds_topo = ds.rename_dims({'x':'lon','y':'lat'}).rename({'x':'lon','y':'lat'})\n",
    "    tem = ds_topo.z.attrs\n",
    "    tem['var_name']='etopo_depth'\n",
    "    ds_topo.z.attrs=tem\n",
    "\n",
    "    #put data into a dictionary\n",
    "    data_dict={'aviso':ds_aviso,\n",
    "               'wnd':ds_ccmp,\n",
    "               'sst':ds_sst,\n",
    "              'topo':ds_topo,\n",
    "              'color':ds_color}\n",
    "  \n",
    "    return data_dict"
   ]
  },
  {
   "cell_type": "code",
   "execution_count": null,
   "id": "1f0a5c00",
   "metadata": {},
   "outputs": [],
   "source": [
    "data = get_data()"
   ]
  },
  {
   "cell_type": "code",
   "execution_count": null,
   "id": "e7502d6b",
   "metadata": {},
   "outputs": [],
   "source": [
    "ds = ds_bird\n",
    "ds['ccmp_wnd']=np.sqrt(ds.ccmp_uwnd**2+ds.ccmp_vwnd**2)\n",
    "clim_dy = ds.groupby(\"time.dayofyear\").mean(\"time\")\n",
    "anom_dy = ds.groupby(\"time.dayofyear\") - clim_dy\n",
    "clim_mn = ds.groupby(\"time.month\").mean(\"time\")\n",
    "anom_mn = ds.groupby(\"time.month\") - clim_mn"
   ]
  },
  {
   "cell_type": "code",
   "execution_count": null,
   "id": "937ae65c",
   "metadata": {},
   "outputs": [],
   "source": [
    "ds=anom_dy.drop('tem')\n",
    "f, ax = plt.subplots(11, 1, figsize=(6, 20))\n",
    "for ivar,var in enumerate(ds):\n",
    "    print(ivar,var)\n",
    "    ds[var].plot(ax=ax[ivar])"
   ]
  },
  {
   "cell_type": "code",
   "execution_count": null,
   "id": "a7a07b99",
   "metadata": {},
   "outputs": [],
   "source": [
    "for name in data:\n",
    "    ds_data=data[name]\n",
    "    if name=='topo':\n",
    "        continue\n",
    "    print('name',name)\n",
    "    lat1,lat2=ulat-2,ulat+2\n",
    "    lon1,lon2=ulon-2,ulon+2\n",
    "    tem = ds_data.sel(lat=slice(lat1,lat2),lon=slice(lon1,lon2)).load()\n",
    "    tem = tem.interp(lat=ds_bird_area.lat,lon=ds_bird_area.lon,time=ds_bird_area.time,method='nearest')\n",
    "    for var in ds_data:\n",
    "        var_tem=ds_data[var].attrs['var_name']\n",
    "        ds_bird_area[var_tem]=tem[var]\n",
    "        ds_bird_area[var_tem].attrs=ds_data[var].attrs\n",
    "fname_out = 'unimak_ts_area'\n",
    "ds_bird_area = ds_bird_area.drop('temp').reset_coords()\n",
    "#add a land mask, only cci has it, so use the cci to create a land mask & apply to all variables\n",
    "ds_bird_area = ds_bird_area.where(ds_bird_area.CCI_chlor_a.sum('time')>0)\n",
    "ds_bird_area.to_netcdf(dir_timeseries+fname_out+'_1deg.nc')\n",
    "\n",
    "for name in data:\n",
    "    ds_data=data[name]\n",
    "    if name=='topo':\n",
    "        continue\n",
    "    print('name',name)\n",
    "    lat1,lat2=ulat-3,ulat+3\n",
    "    lon1,lon2=ulon-3,ulon+3\n",
    "    tem = ds_data.sel(lat=slice(lat1,lat2),lon=slice(lon1,lon2)).load()\n",
    "    tem = tem.interp(lat=ds_bird_area2.lat,lon=ds_bird_area2.lon,time=ds_bird_area2.time,method='nearest')\n",
    "    for var in ds_data:\n",
    "        var_tem=ds_data[var].attrs['var_name']\n",
    "        ds_bird_area2[var_tem]=tem[var]\n",
    "        ds_bird_area2[var_tem].attrs=ds_data[var].attrs\n",
    "fname_out = 'unimak_ts_area'\n",
    "ds_bird_area2 = ds_bird_area2.drop('temp').reset_coords()\n",
    "ds_bird_area2 = ds_bird_area2.where(ds_bird_area2.CCI_chlor_a.sum('time')>0)\n",
    "ds_bird_area2.to_netcdf(dir_timeseries+fname_out+'_2deg.nc')\n",
    "\n",
    "for name in data:\n",
    "    ds_data=data[name]\n",
    "    if name=='topo':\n",
    "        continue\n",
    "    print('name',name)\n",
    "    lat1,lat2=ulat-5,ulat+5\n",
    "    lon1,lon2=ulon-5,ulon+5\n",
    "    tem = ds_data.sel(lat=slice(lat1,lat2),lon=slice(lon1,lon2)).load()\n",
    "    tem = tem.interp(lat=ds_bird_area4.lat,lon=ds_bird_area4.lon,time=ds_bird_area4.time,method='nearest')\n",
    "    for var in ds_data:\n",
    "        var_tem=ds_data[var].attrs['var_name']\n",
    "        ds_bird_area4[var_tem]=tem[var]\n",
    "        ds_bird_area4[var_tem].attrs=ds_data[var].attrs\n",
    "fname_out = 'unimak_ts_area'\n",
    "ds_bird_area4 = ds_bird_area4.drop('temp').reset_coords()\n",
    "ds_bird_area4 = ds_bird_area4.where(ds_bird_area4.CCI_chlor_a.sum('time')>0)\n",
    "ds_bird_area4.to_netcdf(dir_timeseries+fname_out+'_4deg.nc')"
   ]
  },
  {
   "cell_type": "code",
   "execution_count": null,
   "id": "3efa4684",
   "metadata": {},
   "outputs": [],
   "source": []
  },
  {
   "cell_type": "markdown",
   "id": "c425475a",
   "metadata": {},
   "source": [
    "# test data"
   ]
  },
  {
   "cell_type": "code",
   "execution_count": null,
   "id": "6c2ab73b",
   "metadata": {},
   "outputs": [],
   "source": [
    "fname_out = 'unimak_ts_area_4deg'\n",
    "fname = dir_timeseries+fname_out+'.nc'\n",
    "print(fname)\n",
    "ds = xr.open_dataset(fname)\n",
    "ds.close()\n",
    "ds['wnd']=np.sqrt(ds.ccmp_uwnd**2+ds.ccmp_vwnd**2)\n",
    "ds"
   ]
  },
  {
   "cell_type": "code",
   "execution_count": null,
   "id": "e6af3a08",
   "metadata": {},
   "outputs": [],
   "source": [
    "#ds.CCI_chlor_a.sum('time').plot()\n",
    "ds.ccmp_vwnd.sel(time='2017-01-14').plot()\n",
    "ds.cmc_sst.sel(time='2017-01-14').plot()\n",
    "#ds.CCI_chlor_a[10000,:,:].plot()\n",
    "#plt.scatter(ds.lon[16],ds.lat[14])\n",
    "#ds.ccmp_vwnd[:,15,14].plot()"
   ]
  },
  {
   "cell_type": "code",
   "execution_count": null,
   "id": "158572e5",
   "metadata": {},
   "outputs": [],
   "source": [
    "tem = ds.sel(time='2017-01-14')\n",
    "tem.wnd[:,:].plot()\n",
    "plt.scatter(tem.lon[15],tem.lat[14])"
   ]
  },
  {
   "cell_type": "code",
   "execution_count": null,
   "id": "4c8817cf",
   "metadata": {},
   "outputs": [],
   "source": [
    "clim_dy = ds.groupby(\"time.dayofyear\").mean(\"time\")\n",
    "anom_dy = ds.groupby(\"time.dayofyear\") - clim_dy\n",
    "clim_mn = ds.groupby(\"time.month\").mean(\"time\")\n",
    "anom_mn = ds.groupby(\"time.month\") - clim_mn"
   ]
  },
  {
   "cell_type": "code",
   "execution_count": null,
   "id": "087e0ab2",
   "metadata": {},
   "outputs": [],
   "source": [
    "#anom_dy.ccmp_vwnd.sel(time='2017-01-14').plot()\n",
    "anom_dy.cmc_sst.sel(time='2017-01-14').plot()"
   ]
  },
  {
   "cell_type": "code",
   "execution_count": null,
   "id": "fdedb5f4",
   "metadata": {},
   "outputs": [],
   "source": [
    "anom_dy.ccmp_vwnd[:,15,14].plot()\n",
    "anom_dy.cmc_sst[:,15,14].plot()"
   ]
  },
  {
   "cell_type": "code",
   "execution_count": null,
   "id": "f0151a1a",
   "metadata": {},
   "outputs": [],
   "source": [
    "#ds.ccmp_vwnd[:,15,14].plot()\n",
    "clim_mn.ccmp_vwnd[:,15,14].plot()\n",
    "#anom_mn.ccmp_vwnd[:,15,14].sel(time=slice('2014','2017')).plot()"
   ]
  },
  {
   "cell_type": "code",
   "execution_count": null,
   "id": "a4dc9acb",
   "metadata": {},
   "outputs": [],
   "source": [
    "import datashader\n",
    "plt.scatter(anom_dy.ccmp_vwnd,anom_dy.cmc_sst)"
   ]
  },
  {
   "cell_type": "code",
   "execution_count": null,
   "id": "8aa155aa",
   "metadata": {},
   "outputs": [],
   "source": []
  }
 ],
 "metadata": {
  "kernelspec": {
   "display_name": "Python 3",
   "language": "python",
   "name": "python3"
  },
  "language_info": {
   "codemirror_mode": {
    "name": "ipython",
    "version": 3
   },
   "file_extension": ".py",
   "mimetype": "text/x-python",
   "name": "python",
   "nbconvert_exporter": "python",
   "pygments_lexer": "ipython3",
   "version": "3.7.10"
  }
 },
 "nbformat": 4,
 "nbformat_minor": 5
}
