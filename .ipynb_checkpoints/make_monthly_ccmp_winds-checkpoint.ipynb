{
 "cells": [
  {
   "cell_type": "code",
   "execution_count": 1,
   "metadata": {
    "scrolled": true
   },
   "outputs": [],
   "source": [
    "import pandas\n",
    "import matplotlib as mpl\n",
    "import xarray as xr\n",
    "import numpy as np\n",
    "import datetime as dt\n",
    "dir_data='F:/data/sat_data/ccmp/v02.0/'\n"
   ]
  },
  {
   "cell_type": "code",
   "execution_count": null,
   "metadata": {},
   "outputs": [],
   "source": [
    "#make cmc monthly average ssts in annual file\n",
    "for lyr in range(1988,2018): #2017):\n",
    "    ds_mnth=[]\n",
    "    for imon in range(1,13):\n",
    "        filename = dir_data + 'Y' + str(lyr) + '/M' + str(imon).zfill(2) + '/CCMP_Wind_Analysis_' + str(lyr) + str(imon).zfill(2) + '_V02.0_L3.5_RSS.nc'\n",
    "        ds = xr.open_dataset(filename)\n",
    "        ds.rename({'longitude':'lon','latitude':'lat'}, inplace = True)\n",
    "        ds_mnth.append(ds)\n",
    "        ds.close()\n",
    "    combined = xr.concat(ds_mnth, dim='time')\n",
    "    fname_tem= str(lyr) + 'monthly_average_ccmp_V02.0_L3.5_RSS.nc'\n",
    "    cmc_filename_out = dir_data + fname_tem\n",
    "    combined.to_netcdf(cmc_filename_out)"
   ]
  },
  {
   "cell_type": "code",
   "execution_count": 3,
   "metadata": {},
   "outputs": [
    {
     "name": "stdout",
     "output_type": "stream",
     "text": [
      "1988 Frozen(SortedKeysDict({'lon': 1440, 'lat': 628, 'time': 12}))\n",
      "1989 Frozen(SortedKeysDict({'lon': 1440, 'lat': 628, 'time': 24}))\n",
      "1990 Frozen(SortedKeysDict({'lon': 1440, 'lat': 628, 'time': 36}))\n",
      "1991 Frozen(SortedKeysDict({'lon': 1440, 'lat': 628, 'time': 48}))\n",
      "1992 Frozen(SortedKeysDict({'lon': 1440, 'lat': 628, 'time': 60}))\n",
      "1993 Frozen(SortedKeysDict({'lon': 1440, 'lat': 628, 'time': 72}))\n",
      "1994 Frozen(SortedKeysDict({'lon': 1440, 'lat': 628, 'time': 84}))\n",
      "1995 Frozen(SortedKeysDict({'lon': 1440, 'lat': 628, 'time': 96}))\n",
      "1996 Frozen(SortedKeysDict({'lon': 1440, 'lat': 628, 'time': 108}))\n",
      "1997 Frozen(SortedKeysDict({'lon': 1440, 'lat': 628, 'time': 120}))\n",
      "1998 Frozen(SortedKeysDict({'lon': 1440, 'lat': 628, 'time': 132}))\n",
      "1999 Frozen(SortedKeysDict({'lon': 1440, 'lat': 628, 'time': 144}))\n",
      "2000 Frozen(SortedKeysDict({'lon': 1440, 'lat': 628, 'time': 156}))\n",
      "2001 Frozen(SortedKeysDict({'lon': 1440, 'lat': 628, 'time': 168}))\n",
      "2002 Frozen(SortedKeysDict({'lon': 1440, 'lat': 628, 'time': 180}))\n",
      "2003 Frozen(SortedKeysDict({'lon': 1440, 'lat': 628, 'time': 192}))\n",
      "2004 Frozen(SortedKeysDict({'lon': 1440, 'lat': 628, 'time': 204}))\n",
      "2005 Frozen(SortedKeysDict({'lon': 1440, 'lat': 628, 'time': 216}))\n",
      "2006 Frozen(SortedKeysDict({'lon': 1440, 'lat': 628, 'time': 228}))\n",
      "2007 Frozen(SortedKeysDict({'lon': 1440, 'lat': 628, 'time': 240}))\n",
      "2008 Frozen(SortedKeysDict({'lon': 1440, 'lat': 628, 'time': 252}))\n",
      "2009 Frozen(SortedKeysDict({'lon': 1440, 'lat': 628, 'time': 264}))\n",
      "2010 Frozen(SortedKeysDict({'lon': 1440, 'lat': 628, 'time': 276}))\n",
      "2011 Frozen(SortedKeysDict({'lon': 1440, 'lat': 628, 'time': 288}))\n",
      "2012 Frozen(SortedKeysDict({'lon': 1440, 'lat': 628, 'time': 300}))\n",
      "2013 Frozen(SortedKeysDict({'lon': 1440, 'lat': 628, 'time': 312}))\n",
      "2014 Frozen(SortedKeysDict({'lon': 1440, 'lat': 628, 'time': 324}))\n",
      "2015 Frozen(SortedKeysDict({'lon': 1440, 'lat': 628, 'time': 336}))\n",
      "2016 Frozen(SortedKeysDict({'lon': 1440, 'lat': 628, 'time': 348}))\n",
      "2017 Frozen(SortedKeysDict({'lon': 1440, 'lat': 628, 'time': 360}))\n"
     ]
    }
   ],
   "source": [
    "#make cmc climatology from monthly files\n",
    "init = 0\n",
    "for lyr in range(1988,2018): #2017):\n",
    "    fname_tem=str(lyr) + 'monthly_average_ccmp_V02.0_L3.5_RSS.nc'\n",
    "    cmc_filename_out = dir_data + fname_tem\n",
    "    ds = xr.open_dataset(cmc_filename_out)\n",
    "    #ds.rename({'longitude':'lon','latitude':'lat'}, inplace = True)\n",
    "    if init==0:\n",
    "        ds_sum = ds\n",
    "        init = 1\n",
    "    else:\n",
    "        ds_sum = xr.concat([ds_sum,ds],dim = 'time')\n",
    "    print(lyr,ds_sum.dims)\n",
    "ds_sum2 = ds_sum.groupby('time.month').mean('time')\n",
    "#ds_sum = ds_sum.mean('time',skipna=True)\n",
    "fname_tem='monthly_climatology_ccmp_V02.0_L3.5_RSS.nc'\n",
    "cmc_filename_out = dir_data + fname_tem\n",
    "ds_sum2.to_netcdf(cmc_filename_out)\n",
    "    "
   ]
  },
  {
   "cell_type": "code",
   "execution_count": 4,
   "metadata": {},
   "outputs": [
    {
     "data": {
      "text/plain": [
       "<xarray.Dataset>\n",
       "Dimensions:  (lat: 628, lon: 1440, month: 12)\n",
       "Coordinates:\n",
       "  * lon      (lon) float32 0.125 0.375 0.625 0.875 ... 359.375 359.625 359.875\n",
       "  * lat      (lat) float32 -78.375 -78.125 -77.875 ... 77.875 78.125 78.375\n",
       "  * month    (month) int64 1 2 3 4 5 6 7 8 9 10 11 12\n",
       "Data variables:\n",
       "    uwnd     (month, lat, lon) float32 -0.2759027 -0.25940928 ... -0.48334914\n",
       "    vwnd     (month, lat, lon) float32 -3.9688492 -3.9933357 ... -3.0052152"
      ]
     },
     "execution_count": 4,
     "metadata": {},
     "output_type": "execute_result"
    }
   ],
   "source": [
    "ds_sum2\n",
    "\n",
    "#not quite happy with monthly data, want to remake..."
   ]
  },
  {
   "cell_type": "code",
   "execution_count": null,
   "metadata": {},
   "outputs": [],
   "source": [
    "#change climatology lat lon from altitude longitude\n",
    "fname_tem='monthly_climatology_ccmp_V02.0_L3.5_RSS.nc'\n",
    "cmc_filename_out = dir_data + fname_tem\n",
    "fname_tem='monthly_climatology_ccmp_V02.0_L3.5_RSSa.nc'\n",
    "cmc_filename_outa = dir_data + fname_tem\n",
    "ds = xr.open_dataset(cmc_filename_out)\n",
    "ds.rename({'longitude':'lon','latitude':'lat'}, inplace = True)\n",
    "ds.to_netcdf(cmc_filename_outa)\n",
    "ds.close()\n",
    "\n"
   ]
  },
  {
   "cell_type": "code",
   "execution_count": null,
   "metadata": {},
   "outputs": [],
   "source": [
    "ds"
   ]
  },
  {
   "cell_type": "code",
   "execution_count": null,
   "metadata": {},
   "outputs": [],
   "source": []
  }
 ],
 "metadata": {
  "kernelspec": {
   "display_name": "Python 3",
   "language": "python",
   "name": "python3"
  },
  "language_info": {
   "codemirror_mode": {
    "name": "ipython",
    "version": 3
   },
   "file_extension": ".py",
   "mimetype": "text/x-python",
   "name": "python",
   "nbconvert_exporter": "python",
   "pygments_lexer": "ipython3",
   "version": "3.7.0"
  }
 },
 "nbformat": 4,
 "nbformat_minor": 2
}
