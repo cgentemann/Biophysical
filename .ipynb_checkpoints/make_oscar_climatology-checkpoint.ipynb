{
 "cells": [
  {
   "cell_type": "code",
   "execution_count": 1,
   "metadata": {
    "scrolled": true
   },
   "outputs": [],
   "source": [
    "import xarray as xr\n",
    "import numpy as np\n",
    "#import math\n",
    "from math import atan2, pi\n",
    "import datetime\n",
    "def data_ones(x):\n",
    "    x_new=x/x\n",
    "    x_new=x_new.fillna(0)\n",
    "    return x_new\n",
    "dir_data = 'F:/data/sat_data/oscar/L4/oscar_third_deg/'"
   ]
  },
  {
   "cell_type": "code",
   "execution_count": 2,
   "metadata": {},
   "outputs": [
    {
     "name": "stderr",
     "output_type": "stream",
     "text": [
      "C:\\Users\\gentemann\\Miniconda3\\lib\\site-packages\\xarray\\core\\nanops.py:161: RuntimeWarning: Mean of empty slice\n",
      "  return np.nanmean(a, axis=axis, dtype=dtype)\n",
      "C:\\Users\\gentemann\\Miniconda3\\lib\\site-packages\\xarray\\core\\nanops.py:161: RuntimeWarning: Mean of empty slice\n",
      "  return np.nanmean(a, axis=axis, dtype=dtype)\n",
      "C:\\Users\\gentemann\\Miniconda3\\lib\\site-packages\\xarray\\core\\nanops.py:161: RuntimeWarning: Mean of empty slice\n",
      "  return np.nanmean(a, axis=axis, dtype=dtype)\n",
      "C:\\Users\\gentemann\\Miniconda3\\lib\\site-packages\\xarray\\core\\nanops.py:161: RuntimeWarning: Mean of empty slice\n",
      "  return np.nanmean(a, axis=axis, dtype=dtype)\n",
      "C:\\Users\\gentemann\\Miniconda3\\lib\\site-packages\\xarray\\core\\nanops.py:161: RuntimeWarning: Mean of empty slice\n",
      "  return np.nanmean(a, axis=axis, dtype=dtype)\n",
      "C:\\Users\\gentemann\\Miniconda3\\lib\\site-packages\\xarray\\core\\nanops.py:161: RuntimeWarning: Mean of empty slice\n",
      "  return np.nanmean(a, axis=axis, dtype=dtype)\n",
      "C:\\Users\\gentemann\\Miniconda3\\lib\\site-packages\\xarray\\core\\nanops.py:161: RuntimeWarning: Mean of empty slice\n",
      "  return np.nanmean(a, axis=axis, dtype=dtype)\n",
      "C:\\Users\\gentemann\\Miniconda3\\lib\\site-packages\\xarray\\core\\nanops.py:161: RuntimeWarning: Mean of empty slice\n",
      "  return np.nanmean(a, axis=axis, dtype=dtype)\n",
      "C:\\Users\\gentemann\\Miniconda3\\lib\\site-packages\\xarray\\core\\nanops.py:161: RuntimeWarning: Mean of empty slice\n",
      "  return np.nanmean(a, axis=axis, dtype=dtype)\n",
      "C:\\Users\\gentemann\\Miniconda3\\lib\\site-packages\\xarray\\core\\nanops.py:161: RuntimeWarning: Mean of empty slice\n",
      "  return np.nanmean(a, axis=axis, dtype=dtype)\n",
      "C:\\Users\\gentemann\\Miniconda3\\lib\\site-packages\\xarray\\core\\nanops.py:161: RuntimeWarning: Mean of empty slice\n",
      "  return np.nanmean(a, axis=axis, dtype=dtype)\n",
      "C:\\Users\\gentemann\\Miniconda3\\lib\\site-packages\\xarray\\core\\nanops.py:161: RuntimeWarning: Mean of empty slice\n",
      "  return np.nanmean(a, axis=axis, dtype=dtype)\n",
      "C:\\Users\\gentemann\\Miniconda3\\lib\\site-packages\\xarray\\core\\nanops.py:161: RuntimeWarning: Mean of empty slice\n",
      "  return np.nanmean(a, axis=axis, dtype=dtype)\n",
      "C:\\Users\\gentemann\\Miniconda3\\lib\\site-packages\\xarray\\core\\nanops.py:161: RuntimeWarning: Mean of empty slice\n",
      "  return np.nanmean(a, axis=axis, dtype=dtype)\n",
      "C:\\Users\\gentemann\\Miniconda3\\lib\\site-packages\\xarray\\core\\nanops.py:161: RuntimeWarning: Mean of empty slice\n",
      "  return np.nanmean(a, axis=axis, dtype=dtype)\n",
      "C:\\Users\\gentemann\\Miniconda3\\lib\\site-packages\\xarray\\core\\nanops.py:161: RuntimeWarning: Mean of empty slice\n",
      "  return np.nanmean(a, axis=axis, dtype=dtype)\n",
      "C:\\Users\\gentemann\\Miniconda3\\lib\\site-packages\\xarray\\core\\nanops.py:161: RuntimeWarning: Mean of empty slice\n",
      "  return np.nanmean(a, axis=axis, dtype=dtype)\n",
      "C:\\Users\\gentemann\\Miniconda3\\lib\\site-packages\\xarray\\core\\nanops.py:161: RuntimeWarning: Mean of empty slice\n",
      "  return np.nanmean(a, axis=axis, dtype=dtype)\n",
      "C:\\Users\\gentemann\\Miniconda3\\lib\\site-packages\\xarray\\core\\nanops.py:161: RuntimeWarning: Mean of empty slice\n",
      "  return np.nanmean(a, axis=axis, dtype=dtype)\n",
      "C:\\Users\\gentemann\\Miniconda3\\lib\\site-packages\\xarray\\core\\nanops.py:161: RuntimeWarning: Mean of empty slice\n",
      "  return np.nanmean(a, axis=axis, dtype=dtype)\n",
      "C:\\Users\\gentemann\\Miniconda3\\lib\\site-packages\\xarray\\core\\nanops.py:161: RuntimeWarning: Mean of empty slice\n",
      "  return np.nanmean(a, axis=axis, dtype=dtype)\n",
      "C:\\Users\\gentemann\\Miniconda3\\lib\\site-packages\\xarray\\core\\nanops.py:161: RuntimeWarning: Mean of empty slice\n",
      "  return np.nanmean(a, axis=axis, dtype=dtype)\n",
      "C:\\Users\\gentemann\\Miniconda3\\lib\\site-packages\\xarray\\core\\nanops.py:161: RuntimeWarning: Mean of empty slice\n",
      "  return np.nanmean(a, axis=axis, dtype=dtype)\n",
      "C:\\Users\\gentemann\\Miniconda3\\lib\\site-packages\\xarray\\core\\nanops.py:161: RuntimeWarning: Mean of empty slice\n",
      "  return np.nanmean(a, axis=axis, dtype=dtype)\n",
      "C:\\Users\\gentemann\\Miniconda3\\lib\\site-packages\\xarray\\core\\nanops.py:161: RuntimeWarning: Mean of empty slice\n",
      "  return np.nanmean(a, axis=axis, dtype=dtype)\n",
      "C:\\Users\\gentemann\\Miniconda3\\lib\\site-packages\\xarray\\core\\nanops.py:161: RuntimeWarning: Mean of empty slice\n",
      "  return np.nanmean(a, axis=axis, dtype=dtype)\n"
     ]
    }
   ],
   "source": [
    "#make oscar monthly data, change latitue and longitude to lat and lon, group by month\n",
    "#dir_data = 'https://podaac-opendap.jpl.nasa.gov/opendap/allData/oscar/preview/L4/oscar_third_deg/'\n",
    "for lyr in range(1993,2019): #2017):\n",
    "    filename = dir_data + 'oscar_vel' + str(lyr).zfill(4) + '.nc'\n",
    "    ds=xr.open_dataset(filename,drop_variables=['um','vm'])\n",
    "    ds['spd']=(ds.u**2+ds.v**2)**.5\n",
    "    ds['dir']=np.arctan2(ds.v,ds.u)* 180./pi\n",
    "    ds_month = ds.resample(time='M').mean()    \n",
    "    ds_month = ds_month.rename({'longitude':'lon','latitude':'lat'})\n",
    "    ds.close()\n",
    "    ds_month.to_netcdf(dir_data + str(lyr) + 'monthly_data_oscar.nc')\n",
    "#check that yes, resampling is averaging for center of month\n",
    "#ds_month.u[0,0,450,900].data\n",
    "#ds.u[0:7,0,450,900].mean()"
   ]
  },
  {
   "cell_type": "code",
   "execution_count": 3,
   "metadata": {},
   "outputs": [
    {
     "data": {
      "text/plain": [
       "<xarray.Dataset>\n",
       "Dimensions:  (depth: 1, lat: 481, lon: 1201, time: 12, year: 72)\n",
       "Coordinates:\n",
       "  * time     (time) datetime64[ns] 2018-01-31 2018-02-28 ... 2018-12-31\n",
       "  * year     (year) float32 2018.0 2018.0139 2018.0278 ... 2018.9722 2018.9861\n",
       "  * depth    (depth) float32 15.0\n",
       "  * lat      (lat) float64 80.0 79.67 79.33 79.0 ... -79.0 -79.33 -79.67 -80.0\n",
       "  * lon      (lon) float64 20.0 20.33 20.67 21.0 ... 419.0 419.3 419.7 420.0\n",
       "Data variables:\n",
       "    u        (time, depth, lat, lon) float64 nan nan nan nan ... nan nan nan nan\n",
       "    v        (time, depth, lat, lon) float64 nan nan nan nan ... nan nan nan nan\n",
       "    spd      (time, depth, lat, lon) float64 nan nan nan nan ... nan nan nan nan\n",
       "    dir      (time, depth, lat, lon) float64 nan nan nan nan ... nan nan nan nan"
      ]
     },
     "execution_count": 3,
     "metadata": {},
     "output_type": "execute_result"
    }
   ],
   "source": [
    "ds_month"
   ]
  },
  {
   "cell_type": "code",
   "execution_count": 3,
   "metadata": {},
   "outputs": [
    {
     "name": "stderr",
     "output_type": "stream",
     "text": [
      "C:\\Users\\gentemann\\Miniconda3\\lib\\site-packages\\xarray\\core\\nanops.py:161: RuntimeWarning: Mean of empty slice\n",
      "  return np.nanmean(a, axis=axis, dtype=dtype)\n"
     ]
    }
   ],
   "source": [
    "#make monthly climatology, need to drop 'year' coordinate value for mean to work right\n",
    "for lyr in range(1993,2019):\n",
    "    filename = dir_data + str(lyr) + 'monthly_data_oscar.nc'\n",
    "    ds=xr.open_dataset(filename)\n",
    "    ds2 = ds.drop('year')\n",
    "    if lyr==1993:\n",
    "        ds_clim = ds2\n",
    "    else:\n",
    "        ds_clim = xr.concat([ds_clim,ds2],dim = 'time')\n",
    "    ds.close()\n",
    "ds_clim2 = ds_clim.groupby('time.month').mean('time')\n",
    "ds_clim2.to_netcdf(dir_data + 'climatology_1993_2018_monthly_data_oscar.nc')\n"
   ]
  },
  {
   "cell_type": "code",
   "execution_count": 5,
   "metadata": {},
   "outputs": [
    {
     "data": {
      "text/plain": [
       "<xarray.Dataset>\n",
       "Dimensions:  (depth: 1, lat: 481, lon: 1201, time: 12, year: 72)\n",
       "Coordinates:\n",
       "  * time     (time) datetime64[ns] 2018-01-31 2018-02-28 ... 2018-12-31\n",
       "  * year     (year) float32 2018.0 2018.0139 2018.0278 ... 2018.9722 2018.9861\n",
       "  * depth    (depth) float32 15.0\n",
       "  * lat      (lat) float64 80.0 79.67 79.33 79.0 ... -79.0 -79.33 -79.67 -80.0\n",
       "  * lon      (lon) float64 20.0 20.33 20.67 21.0 ... 419.0 419.3 419.7 420.0\n",
       "Data variables:\n",
       "    u        (time, depth, lat, lon) float64 ...\n",
       "    v        (time, depth, lat, lon) float64 ...\n",
       "    spd      (time, depth, lat, lon) float64 ...\n",
       "    dir      (time, depth, lat, lon) float64 ..."
      ]
     },
     "execution_count": 5,
     "metadata": {},
     "output_type": "execute_result"
    }
   ],
   "source": [
    "ds"
   ]
  },
  {
   "cell_type": "code",
   "execution_count": 6,
   "metadata": {},
   "outputs": [
    {
     "name": "stderr",
     "output_type": "stream",
     "text": [
      "C:\\Users\\gentemann\\Miniconda3\\lib\\site-packages\\xarray\\core\\nanops.py:161: RuntimeWarning: Mean of empty slice\n",
      "  return np.nanmean(a, axis=axis, dtype=dtype)\n"
     ]
    }
   ],
   "source": [
    "#make monthly climatology, need to drop 'year' coordinate value for mean to work right\n",
    "for lyr in range(2000,2019):\n",
    "    filename = dir_data + str(lyr) + 'monthly_data_oscar.nc'\n",
    "    ds=xr.open_dataset(filename)\n",
    "    ds2 = ds.drop('year')\n",
    "    if lyr==2000:\n",
    "        ds_clim = ds2\n",
    "    else:\n",
    "        ds_clim = xr.concat([ds_clim,ds2],dim = 'time')\n",
    "    ds.close()\n",
    "ds_clim2 = ds_clim.groupby('time.month').mean('time')\n",
    "ds_clim2.to_netcdf(dir_data + 'climatology_2000_2018_monthly_data_oscar.nc')"
   ]
  },
  {
   "cell_type": "code",
   "execution_count": null,
   "metadata": {},
   "outputs": [],
   "source": []
  },
  {
   "cell_type": "code",
   "execution_count": null,
   "metadata": {},
   "outputs": [],
   "source": []
  },
  {
   "cell_type": "code",
   "execution_count": null,
   "metadata": {},
   "outputs": [],
   "source": [
    "#OLD OLD OLD OLD OLD OLD CODE\n",
    "#make oscar climatology, OLD version of code\n",
    "#dir_data='F:/data/sat_data/oscar/L4/oscar_third_deg/'\n",
    "dir_clim='F:/data/sat_data/oscar/L4/oscar_third_deg/climatology/'\n",
    "dir_data = 'https://podaac-opendap.jpl.nasa.gov/opendap/allData/oscar/preview/L4/oscar_third_deg/'\n",
    "for lyr in range(1993,2018):\n",
    "    filename = dir_data + 'oscar_vel' + str(lyr).zfill(4) + '.nc.gz'\n",
    "    ds=xr.open_dataset(filename,drop_variables=['um','vm'])\n",
    "    ds_count=data_ones(ds)\n",
    "    #in order to add up the data the time arrays have to be aligned otherwise xarray doesn't know what to do with it\n",
    "    ds['time'] = ds['time'] - np.datetime64(lyr,'Y')\n",
    "    ds_count['time'] = ds_count['time'] - np.datetime64(lyr,'Y')\n",
    "    if lyr==1993:\n",
    "        ds2=ds.fillna(0)\n",
    "        ds_count2=ds_count.fillna(0)\n",
    "        ds_summer=ds2\n",
    "        ds_counter = ds_count2\n",
    "    else:\n",
    "        ds2 = ds.interp_like(ds_summer.time)\n",
    "        ds_count2 = ds_count.interp_like(ds_summer.time)\n",
    "        ds2=ds2.fillna(0)\n",
    "        ds_count2=ds_count2.fillna(0)\n",
    "        ds_summer=ds_summer + ds2\n",
    "        ds_counter = ds_counter + ds_count2\n",
    "    print(lyr)\n",
    "    print(ds.u.shape)\n",
    "    print(ds_summer.u.shape)\n",
    "   # print(ds_counter.u.shape)\n",
    "   # print(ds.u.shape)\n",
    "   # print(ds.time.data[0:20])\n",
    "ds_ave = ds_summer / ds_counter\n",
    "ds_ave.to_netcdf(dir_clim + 'oscar_v2009_1993_2016_climatology_12202118.nc')"
   ]
  }
 ],
 "metadata": {
  "kernelspec": {
   "display_name": "Python 3",
   "language": "python",
   "name": "python3"
  },
  "language_info": {
   "codemirror_mode": {
    "name": "ipython",
    "version": 3
   },
   "file_extension": ".py",
   "mimetype": "text/x-python",
   "name": "python",
   "nbconvert_exporter": "python",
   "pygments_lexer": "ipython3",
   "version": "3.7.0"
  }
 },
 "nbformat": 4,
 "nbformat_minor": 2
}
