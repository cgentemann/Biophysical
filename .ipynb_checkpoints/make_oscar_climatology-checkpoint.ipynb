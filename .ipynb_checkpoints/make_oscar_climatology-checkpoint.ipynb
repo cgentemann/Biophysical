{
 "cells": [
  {
   "cell_type": "code",
   "execution_count": 5,
   "metadata": {
    "scrolled": true
   },
   "outputs": [],
   "source": [
    "import xarray as xr\n",
    "import numpy as np\n",
    "import datetime\n",
    "def data_ones(x):\n",
    "    x_new=x/x\n",
    "    x_new=x_new.fillna(0)\n",
    "    return x_new"
   ]
  },
  {
   "cell_type": "code",
   "execution_count": 6,
   "metadata": {},
   "outputs": [
    {
     "data": {
      "text/plain": [
       "<xarray.Dataset>\n",
       "Dimensions:    (depth: 1, latitude: 481, longitude: 1201, time: 72, year: 72)\n",
       "Coordinates:\n",
       "  * time       (time) datetime64[ns] 2016-01-01 2016-01-06 ... 2016-12-26\n",
       "  * year       (year) float32 2016.0 2016.0139 2016.0278 ... 2016.9722 2016.9861\n",
       "  * depth      (depth) float32 15.0\n",
       "  * latitude   (latitude) float64 80.0 79.67 79.33 79.0 ... -79.33 -79.67 -80.0\n",
       "  * longitude  (longitude) float64 20.0 20.33 20.67 21.0 ... 419.3 419.7 420.0\n",
       "Data variables:\n",
       "    u          (time, depth, latitude, longitude) float64 ...\n",
       "    v          (time, depth, latitude, longitude) float64 ...\n",
       "Attributes:\n",
       "    VARIABLE:       Ocean Surface Currents\n",
       "    DATATYPE:       1/72 YEAR Interval\n",
       "    DATASUBTYPE:    unfiltered\n",
       "    GEORANGE:       20 to 420 -80 to 80\n",
       "    PERIOD:         Jan.01,2016 to Dec.26,2016\n",
       "    year:           2016\n",
       "    description:    OSCAR Third Degree Sea Surface Velocity\n",
       "    CREATION_DATE:  03:18 03-Aug-2017\n",
       "    version:        2009.0\n",
       "    source:         Gary Lagerloef, ESR (lager@esr.org) and Kathleen Dohan, E...\n",
       "    contact:        Kathleen Dohan (kdohan@esr.org) or John T. Gunn (gunn@esr...\n",
       "    company:        Earth & Space Research, Seattle, WA\n",
       "    reference:      Bonjean F. and G.S.E. Lagerloef, 2002 ,Diagnostic model a...\n",
       "    note1:          Maximum Mask velocity is the geostrophic component at all...\n",
       "    note2:          Longitude extends from 20 E to 420 E to avoid a break in ..."
      ]
     },
     "execution_count": 6,
     "metadata": {},
     "output_type": "execute_result"
    }
   ],
   "source": [
    "#make oscar monthly data\n",
    "#dir_data = 'https://podaac-opendap.jpl.nasa.gov/opendap/allData/oscar/preview/L4/oscar_third_deg/'\n",
    "dir_data = 'F:/data/sat_data/oscar/L4/oscar_third_deg/'\n",
    "for lyr in range(1993,2019): #2017):\n",
    "    filename = dir_data + 'oscar_vel' + str(lyr).zfill(4) + '.nc'\n",
    "    ds=xr.open_dataset(filename,drop_variables=['um','vm'])\n",
    "    ds_month = ds.resample(time='M').mean()    \n",
    "    ds.close()\n",
    "    ds_month.to_netcdf(dir_data + str(lyr) + 'monthly_data_oscar.nc')\n",
    "#check that yes, resampling is averaging for center of month\n",
    "#ds_month.u[0,0,450,900].data\n",
    "#ds.u[0:7,0,450,900].mean()"
   ]
  },
  {
   "cell_type": "code",
   "execution_count": null,
   "metadata": {},
   "outputs": [],
   "source": [
    "#make monthly climatology\n",
    "dir_data = 'F:/data/sat_data/oscar/L4/oscar_third_deg/'\n",
    "for lyr in range(1993,2019):\n",
    "    filename = dir_data + str(lyr) + 'monthly_data_oscar.nc'\n",
    "    ds=xr.open_dataset(filename)\n",
    "    if lyr==1993:\n",
    "        ds_clim = ds\n",
    "    else:\n",
    "        ds_clim = xr.concat([ds_clim,ds],dim = 'time')\n",
    "    ds.close()\n",
    "ds_clim = ds_clim.mean('time')\n",
    "ds_clim.to_netcdf(dir_data + 'climatology_1993_2018_monthly_data_oscar.nc')"
   ]
  },
  {
   "cell_type": "code",
   "execution_count": 25,
   "metadata": {},
   "outputs": [
    {
     "data": {
      "text/plain": [
       "1994"
      ]
     },
     "execution_count": 25,
     "metadata": {},
     "output_type": "execute_result"
    }
   ],
   "source": [
    "lyr\n"
   ]
  },
  {
   "cell_type": "code",
   "execution_count": 13,
   "metadata": {},
   "outputs": [
    {
     "data": {
      "text/plain": [
       "array(-0.00581426)"
      ]
     },
     "execution_count": 13,
     "metadata": {},
     "output_type": "execute_result"
    }
   ],
   "source": []
  },
  {
   "cell_type": "code",
   "execution_count": 18,
   "metadata": {},
   "outputs": [
    {
     "data": {
      "text/plain": [
       "<xarray.DataArray 'u' ()>\n",
       "array(nan)\n",
       "Coordinates:\n",
       "    time       datetime64[ns] 2016-01-01\n",
       "    depth      float32 15.0\n",
       "    latitude   float64 80.0\n",
       "    longitude  float64 20.0\n",
       "Attributes:\n",
       "    units:      meter/sec\n",
       "    long_name:  Ocean Surface Zonal Currents"
      ]
     },
     "execution_count": 18,
     "metadata": {},
     "output_type": "execute_result"
    }
   ],
   "source": []
  },
  {
   "cell_type": "code",
   "execution_count": 20,
   "metadata": {},
   "outputs": [
    {
     "name": "stderr",
     "output_type": "stream",
     "text": [
      "C:\\Users\\gentemann\\Miniconda3\\lib\\site-packages\\xarray\\core\\nanops.py:161: RuntimeWarning: Mean of empty slice\n",
      "  return np.nanmean(a, axis=axis, dtype=dtype)\n",
      "C:\\Users\\gentemann\\Miniconda3\\lib\\site-packages\\xarray\\core\\nanops.py:161: RuntimeWarning: Mean of empty slice\n",
      "  return np.nanmean(a, axis=axis, dtype=dtype)\n",
      "C:\\Users\\gentemann\\Miniconda3\\lib\\site-packages\\xarray\\core\\nanops.py:161: RuntimeWarning: Mean of empty slice\n",
      "  return np.nanmean(a, axis=axis, dtype=dtype)\n",
      "C:\\Users\\gentemann\\Miniconda3\\lib\\site-packages\\xarray\\core\\nanops.py:161: RuntimeWarning: Mean of empty slice\n",
      "  return np.nanmean(a, axis=axis, dtype=dtype)\n",
      "C:\\Users\\gentemann\\Miniconda3\\lib\\site-packages\\xarray\\core\\nanops.py:161: RuntimeWarning: Mean of empty slice\n",
      "  return np.nanmean(a, axis=axis, dtype=dtype)\n",
      "C:\\Users\\gentemann\\Miniconda3\\lib\\site-packages\\xarray\\core\\nanops.py:161: RuntimeWarning: Mean of empty slice\n",
      "  return np.nanmean(a, axis=axis, dtype=dtype)\n",
      "C:\\Users\\gentemann\\Miniconda3\\lib\\site-packages\\xarray\\core\\nanops.py:161: RuntimeWarning: Mean of empty slice\n",
      "  return np.nanmean(a, axis=axis, dtype=dtype)\n",
      "C:\\Users\\gentemann\\Miniconda3\\lib\\site-packages\\xarray\\core\\nanops.py:161: RuntimeWarning: Mean of empty slice\n",
      "  return np.nanmean(a, axis=axis, dtype=dtype)\n",
      "C:\\Users\\gentemann\\Miniconda3\\lib\\site-packages\\xarray\\core\\nanops.py:161: RuntimeWarning: Mean of empty slice\n",
      "  return np.nanmean(a, axis=axis, dtype=dtype)\n",
      "C:\\Users\\gentemann\\Miniconda3\\lib\\site-packages\\xarray\\core\\nanops.py:161: RuntimeWarning: Mean of empty slice\n",
      "  return np.nanmean(a, axis=axis, dtype=dtype)\n",
      "C:\\Users\\gentemann\\Miniconda3\\lib\\site-packages\\xarray\\core\\nanops.py:161: RuntimeWarning: Mean of empty slice\n",
      "  return np.nanmean(a, axis=axis, dtype=dtype)\n",
      "C:\\Users\\gentemann\\Miniconda3\\lib\\site-packages\\xarray\\core\\nanops.py:161: RuntimeWarning: Mean of empty slice\n",
      "  return np.nanmean(a, axis=axis, dtype=dtype)\n",
      "C:\\Users\\gentemann\\Miniconda3\\lib\\site-packages\\xarray\\core\\nanops.py:161: RuntimeWarning: Mean of empty slice\n",
      "  return np.nanmean(a, axis=axis, dtype=dtype)\n",
      "C:\\Users\\gentemann\\Miniconda3\\lib\\site-packages\\xarray\\core\\nanops.py:161: RuntimeWarning: Mean of empty slice\n",
      "  return np.nanmean(a, axis=axis, dtype=dtype)\n",
      "C:\\Users\\gentemann\\Miniconda3\\lib\\site-packages\\xarray\\core\\nanops.py:161: RuntimeWarning: Mean of empty slice\n",
      "  return np.nanmean(a, axis=axis, dtype=dtype)\n",
      "C:\\Users\\gentemann\\Miniconda3\\lib\\site-packages\\xarray\\core\\nanops.py:161: RuntimeWarning: Mean of empty slice\n",
      "  return np.nanmean(a, axis=axis, dtype=dtype)\n",
      "C:\\Users\\gentemann\\Miniconda3\\lib\\site-packages\\xarray\\core\\nanops.py:161: RuntimeWarning: Mean of empty slice\n",
      "  return np.nanmean(a, axis=axis, dtype=dtype)\n",
      "C:\\Users\\gentemann\\Miniconda3\\lib\\site-packages\\xarray\\core\\nanops.py:161: RuntimeWarning: Mean of empty slice\n",
      "  return np.nanmean(a, axis=axis, dtype=dtype)\n",
      "C:\\Users\\gentemann\\Miniconda3\\lib\\site-packages\\xarray\\core\\nanops.py:161: RuntimeWarning: Mean of empty slice\n",
      "  return np.nanmean(a, axis=axis, dtype=dtype)\n",
      "C:\\Users\\gentemann\\Miniconda3\\lib\\site-packages\\xarray\\core\\nanops.py:161: RuntimeWarning: Mean of empty slice\n",
      "  return np.nanmean(a, axis=axis, dtype=dtype)\n",
      "C:\\Users\\gentemann\\Miniconda3\\lib\\site-packages\\xarray\\core\\nanops.py:161: RuntimeWarning: Mean of empty slice\n",
      "  return np.nanmean(a, axis=axis, dtype=dtype)\n",
      "C:\\Users\\gentemann\\Miniconda3\\lib\\site-packages\\xarray\\core\\nanops.py:161: RuntimeWarning: Mean of empty slice\n",
      "  return np.nanmean(a, axis=axis, dtype=dtype)\n",
      "C:\\Users\\gentemann\\Miniconda3\\lib\\site-packages\\xarray\\core\\nanops.py:161: RuntimeWarning: Mean of empty slice\n",
      "  return np.nanmean(a, axis=axis, dtype=dtype)\n",
      "C:\\Users\\gentemann\\Miniconda3\\lib\\site-packages\\xarray\\core\\nanops.py:161: RuntimeWarning: Mean of empty slice\n",
      "  return np.nanmean(a, axis=axis, dtype=dtype)\n",
      "C:\\Users\\gentemann\\Miniconda3\\lib\\site-packages\\xarray\\core\\nanops.py:161: RuntimeWarning: Mean of empty slice\n",
      "  return np.nanmean(a, axis=axis, dtype=dtype)\n",
      "C:\\Users\\gentemann\\Miniconda3\\lib\\site-packages\\xarray\\core\\nanops.py:161: RuntimeWarning: Mean of empty slice\n",
      "  return np.nanmean(a, axis=axis, dtype=dtype)\n"
     ]
    }
   ],
   "source": []
  },
  {
   "cell_type": "code",
   "execution_count": null,
   "metadata": {},
   "outputs": [],
   "source": [
    "#make oscar climatology\n",
    "#dir_data='F:/data/sat_data/oscar/L4/oscar_third_deg/'\n",
    "dir_clim='F:/data/sat_data/oscar/L4/oscar_third_deg/climatology/'\n",
    "dir_data = 'https://podaac-opendap.jpl.nasa.gov/opendap/allData/oscar/preview/L4/oscar_third_deg/'\n",
    "for lyr in range(1993,2018):\n",
    "    filename = dir_data + 'oscar_vel' + str(lyr).zfill(4) + '.nc.gz'\n",
    "    ds=xr.open_dataset(filename,drop_variables=['um','vm'])\n",
    "    ds_count=data_ones(ds)\n",
    "    #in order to add up the data the time arrays have to be aligned otherwise xarray doesn't know what to do with it\n",
    "    ds['time'] = ds['time'] - np.datetime64(lyr,'Y')\n",
    "    ds_count['time'] = ds_count['time'] - np.datetime64(lyr,'Y')\n",
    "    if lyr==1993:\n",
    "        ds2=ds.fillna(0)\n",
    "        ds_count2=ds_count.fillna(0)\n",
    "        ds_summer=ds2\n",
    "        ds_counter = ds_count2\n",
    "    else:\n",
    "        ds2 = ds.interp_like(ds_summer.time)\n",
    "        ds_count2 = ds_count.interp_like(ds_summer.time)\n",
    "        ds2=ds2.fillna(0)\n",
    "        ds_count2=ds_count2.fillna(0)\n",
    "        ds_summer=ds_summer + ds2\n",
    "        ds_counter = ds_counter + ds_count2\n",
    "    print(lyr)\n",
    "    print(ds.u.shape)\n",
    "    print(ds_summer.u.shape)\n",
    "   # print(ds_counter.u.shape)\n",
    "   # print(ds.u.shape)\n",
    "   # print(ds.time.data[0:20])\n",
    "ds_ave = ds_summer / ds_counter\n",
    "ds_ave.to_netcdf(dir_clim + 'oscar_v2009_1993_2016_climatology_12202118.nc')"
   ]
  },
  {
   "cell_type": "code",
   "execution_count": null,
   "metadata": {},
   "outputs": [],
   "source": [
    "#make oscar climatology\n",
    "#dir_data='F:/data/sat_data/oscar/L4/oscar_third_deg/'\n",
    "dir_clim='F:/data/sat_data/oscar/L4/oscar_third_deg/climatology/'\n",
    "dir_data = 'https://podaac-opendap.jpl.nasa.gov/opendap/allData/oscar/preview/L4/oscar_third_deg/'\n",
    "for lyr in range(1993,2018):\n",
    "    filename = dir_data + 'oscar_vel' + str(lyr).zfill(4) + '.nc.gz'\n",
    "    ds=xr.open_dataset(filename,drop_variables=['um','vm'])\n",
    "    #ds_count=data_ones(ds)\n",
    "    #in order to add up the data the time arrays have to be aligned otherwise xarray doesn't know what to do with it\n",
    "    ds['time'] = ds['time'] - np.datetime64(lyr,'Y')\n",
    "    #ds_count['time'] = ds_count['time'] - np.datetime64(lyr,'Y')\n",
    "    if lyr==1993:\n",
    "        #ds2=ds.fillna(0)\n",
    "        #ds_count2=ds_count.fillna(0)\n",
    "        ds_save = ds\n",
    "#        ds2['time'] = ds2['time'] + np.datetime64(lyr,'Y')\n",
    "#        ds_summer=ds2\n",
    "        ds['time'] = ds['time'] + np.datetime64(lyr,'Y')\n",
    "        ds_summer=ds\n",
    "     #   ds_counter = ds_count2\n",
    "    else:\n",
    "        ds2 = ds.interp_like(ds_save.time)\n",
    "        #ds_count2 = ds_count.interp_like(ds_summer.time)\n",
    "        #ds2=ds2.fillna(0)\n",
    "        #ds_count2=ds_count2.fillna(0)\n",
    "        ds2['time'] = ds2['time'] + np.datetime64(lyr,'Y')\n",
    "        ds_summer = xr.concat([ds_summer,ds2],dim = 'time')\n",
    "        #ds_summer=ds_summer + ds2\n",
    "        #ds_counter = ds_counter + ds_count2\n",
    "    print(lyr)\n",
    "    print(ds.u.shape)\n",
    "    print(ds_summer.u.shape)\n",
    "   # print(ds_counter.u.shape)\n",
    "   # print(ds.u.shape)\n",
    "   # print(ds.time.data[0:20])\n",
    "#ds_ave = ds_summer / ds_counter\n",
    "ds_ave = ds_summer.mean('time')\n",
    "ds_ave.to_netcdf(dir_clim + 'oscar_v2009_1993_2016_climatology_12202118a.nc')"
   ]
  },
  {
   "cell_type": "code",
   "execution_count": 2,
   "metadata": {},
   "outputs": [
    {
     "ename": "NameError",
     "evalue": "name 'ds_ave' is not defined",
     "output_type": "error",
     "traceback": [
      "\u001b[1;31m---------------------------------------------------------------------------\u001b[0m",
      "\u001b[1;31mNameError\u001b[0m                                 Traceback (most recent call last)",
      "\u001b[1;32m<ipython-input-2-03457bf2fd30>\u001b[0m in \u001b[0;36m<module>\u001b[1;34m\u001b[0m\n\u001b[1;32m----> 1\u001b[1;33m \u001b[0mds_ave\u001b[0m\u001b[1;33m\u001b[0m\u001b[0m\n\u001b[0m",
      "\u001b[1;31mNameError\u001b[0m: name 'ds_ave' is not defined"
     ]
    }
   ],
   "source": [
    "ds_ave\n"
   ]
  },
  {
   "cell_type": "code",
   "execution_count": null,
   "metadata": {},
   "outputs": [],
   "source": []
  },
  {
   "cell_type": "code",
   "execution_count": null,
   "metadata": {},
   "outputs": [],
   "source": []
  },
  {
   "cell_type": "code",
   "execution_count": null,
   "metadata": {},
   "outputs": [],
   "source": [
    "#year after leap year, the days are all +1\n",
    "#for i in range(0,73):\n",
    "#    print(ds2.time[i].data + np.datetime64(1995,'Y'), ds_counter.time[i].data + np.datetime64(1995,'Y'))\n",
    "#    print(ds.u[0,0,200,600].data,ds2.u[0,0,200,600].data,ds.u[1,0,200,600].data)\n"
   ]
  },
  {
   "cell_type": "code",
   "execution_count": null,
   "metadata": {},
   "outputs": [],
   "source": [
    "ds"
   ]
  },
  {
   "cell_type": "code",
   "execution_count": null,
   "metadata": {},
   "outputs": [],
   "source": []
  },
  {
   "cell_type": "code",
   "execution_count": null,
   "metadata": {},
   "outputs": [],
   "source": [
    "print(ds_ave.u.shape)\n",
    "print(ds.u.shape)\n",
    "print(ds_count.u.shape)\n",
    "print(ds_summer.u.shape)\n",
    "print(ds_counter.u.shape)"
   ]
  },
  {
   "cell_type": "code",
   "execution_count": null,
   "metadata": {},
   "outputs": [],
   "source": [
    "\n"
   ]
  },
  {
   "cell_type": "code",
   "execution_count": null,
   "metadata": {},
   "outputs": [],
   "source": [
    "#check that time all the same, even leap years\n",
    "for lyr in range(1993,2018):\n",
    "    filename = dir_cmc + 'oscar_vel' + str(lyr).zfill(4) + '.nc'\n",
    "    ds=xr.open_dataset(filename,drop_variables=['um','vm'])\n",
    "    print(ds.time[12].data)"
   ]
  },
  {
   "cell_type": "code",
   "execution_count": null,
   "metadata": {},
   "outputs": [],
   "source": [
    "ds_counter"
   ]
  },
  {
   "cell_type": "code",
   "execution_count": null,
   "metadata": {},
   "outputs": [],
   "source": [
    "ds.time[12].data"
   ]
  },
  {
   "cell_type": "code",
   "execution_count": null,
   "metadata": {
    "scrolled": false
   },
   "outputs": [],
   "source": []
  },
  {
   "cell_type": "code",
   "execution_count": null,
   "metadata": {},
   "outputs": [],
   "source": [
    "    clim_sum=clim_sum+ds.analysed_sst.data\n",
    "    clim_cnt=clim_cnt+1\n",
    "    #print(clim_sum[0,1,1],clim_sum[0,400,900])\n",
    "    #print(clim_cnt[0,1,1],clim_cnt[0,400,900])\n",
    "clim_sum=clim_sum/clim_cnt\n",
    "    #print(clim_sum[0,1,1],clim_sum[0,400,900])\n",
    "fname_tem='clim1993_2016' + sjdy + '-CMC-L4_GHRSST-SSTfnd-CMC0.2deg-GLOB-v02.0-fv02.0a.nc'\n",
    "cmc_filename2 = dir_cmc_clim + fname_tem\n",
    "foo = xr.DataArray(clim_sum, coords=[ds.time, ds.lat, ds.lon], dims=['time', 'lat', 'lon'])\n",
    "foo.to_netcdf(cmc_filename2)\n",
    "foo = xr.DataArray(clim_sum, coords=[ds.time, ds.lat, ds.lon], dims=['time', 'lat', 'lon'])\n",
    "clim_sum.setncatts=ds.analysed_sst.attrs\n",
    "\n"
   ]
  },
  {
   "cell_type": "code",
   "execution_count": null,
   "metadata": {},
   "outputs": [],
   "source": []
  },
  {
   "cell_type": "code",
   "execution_count": null,
   "metadata": {},
   "outputs": [],
   "source": []
  }
 ],
 "metadata": {
  "kernelspec": {
   "display_name": "Python 3",
   "language": "python",
   "name": "python3"
  },
  "language_info": {
   "codemirror_mode": {
    "name": "ipython",
    "version": 3
   },
   "file_extension": ".py",
   "mimetype": "text/x-python",
   "name": "python",
   "nbconvert_exporter": "python",
   "pygments_lexer": "ipython3",
   "version": "3.7.0"
  }
 },
 "nbformat": 4,
 "nbformat_minor": 2
}
