{
 "cells": [
  {
   "cell_type": "code",
   "execution_count": 2,
   "metadata": {
    "scrolled": true
   },
   "outputs": [],
   "source": [
    "import pandas\n",
    "import matplotlib as mpl\n",
    "import xarray as xr\n",
    "import numpy as np\n",
    "import datetime as dt"
   ]
  },
  {
   "cell_type": "code",
   "execution_count": null,
   "metadata": {},
   "outputs": [
    {
     "name": "stdout",
     "output_type": "stream",
     "text": [
      "1 Frozen(SortedKeysDict({'time': 1, 'lat': 901, 'lon': 1800}))\n",
      "2 Frozen(SortedKeysDict({'lat': 901, 'lon': 1800, 'time': 2}))\n",
      "3 Frozen(SortedKeysDict({'lat': 901, 'lon': 1800, 'time': 3}))\n",
      "4 Frozen(SortedKeysDict({'lat': 901, 'lon': 1800, 'time': 4}))\n",
      "5 Frozen(SortedKeysDict({'lat': 901, 'lon': 1800, 'time': 5}))\n",
      "6 Frozen(SortedKeysDict({'lat': 901, 'lon': 1800, 'time': 6}))\n",
      "7 Frozen(SortedKeysDict({'lat': 901, 'lon': 1800, 'time': 7}))\n",
      "8 Frozen(SortedKeysDict({'lat': 901, 'lon': 1800, 'time': 8}))\n",
      "9 Frozen(SortedKeysDict({'lat': 901, 'lon': 1800, 'time': 9}))\n",
      "10 Frozen(SortedKeysDict({'lat': 901, 'lon': 1800, 'time': 10}))\n",
      "11 Frozen(SortedKeysDict({'lat': 901, 'lon': 1800, 'time': 11}))\n",
      "12 Frozen(SortedKeysDict({'lat': 901, 'lon': 1800, 'time': 12}))\n",
      "13 Frozen(SortedKeysDict({'lat': 901, 'lon': 1800, 'time': 13}))\n",
      "14 Frozen(SortedKeysDict({'lat': 901, 'lon': 1800, 'time': 14}))\n",
      "15 Frozen(SortedKeysDict({'lat': 901, 'lon': 1800, 'time': 15}))\n",
      "16 Frozen(SortedKeysDict({'lat': 901, 'lon': 1800, 'time': 16}))\n",
      "17 Frozen(SortedKeysDict({'lat': 901, 'lon': 1800, 'time': 17}))\n",
      "18 Frozen(SortedKeysDict({'lat': 901, 'lon': 1800, 'time': 18}))\n",
      "19 Frozen(SortedKeysDict({'lat': 901, 'lon': 1800, 'time': 19}))\n",
      "20 Frozen(SortedKeysDict({'lat': 901, 'lon': 1800, 'time': 20}))\n",
      "21 Frozen(SortedKeysDict({'lat': 901, 'lon': 1800, 'time': 21}))\n",
      "22 Frozen(SortedKeysDict({'lat': 901, 'lon': 1800, 'time': 22}))\n",
      "23 Frozen(SortedKeysDict({'lat': 901, 'lon': 1800, 'time': 23}))\n",
      "24 Frozen(SortedKeysDict({'lat': 901, 'lon': 1800, 'time': 24}))\n",
      "25 Frozen(SortedKeysDict({'lat': 901, 'lon': 1800, 'time': 25}))\n",
      "26 Frozen(SortedKeysDict({'lat': 901, 'lon': 1800, 'time': 26}))\n",
      "27 Frozen(SortedKeysDict({'lat': 901, 'lon': 1800, 'time': 27}))\n",
      "28 Frozen(SortedKeysDict({'lat': 901, 'lon': 1800, 'time': 28}))\n",
      "29 Frozen(SortedKeysDict({'lat': 901, 'lon': 1800, 'time': 29}))\n",
      "30 Frozen(SortedKeysDict({'lat': 901, 'lon': 1800, 'time': 30}))\n",
      "31 Frozen(SortedKeysDict({'lat': 901, 'lon': 1800, 'time': 31}))\n",
      "32 Frozen(SortedKeysDict({'time': 1, 'lat': 901, 'lon': 1800}))\n",
      "33 Frozen(SortedKeysDict({'lat': 901, 'lon': 1800, 'time': 2}))\n",
      "34 Frozen(SortedKeysDict({'lat': 901, 'lon': 1800, 'time': 3}))\n",
      "35 Frozen(SortedKeysDict({'lat': 901, 'lon': 1800, 'time': 4}))\n",
      "36 Frozen(SortedKeysDict({'lat': 901, 'lon': 1800, 'time': 5}))\n",
      "37 Frozen(SortedKeysDict({'lat': 901, 'lon': 1800, 'time': 6}))\n",
      "38 Frozen(SortedKeysDict({'lat': 901, 'lon': 1800, 'time': 7}))\n",
      "39 Frozen(SortedKeysDict({'lat': 901, 'lon': 1800, 'time': 8}))\n",
      "40 Frozen(SortedKeysDict({'lat': 901, 'lon': 1800, 'time': 9}))\n",
      "41 Frozen(SortedKeysDict({'lat': 901, 'lon': 1800, 'time': 10}))\n",
      "42 Frozen(SortedKeysDict({'lat': 901, 'lon': 1800, 'time': 11}))\n",
      "43 Frozen(SortedKeysDict({'lat': 901, 'lon': 1800, 'time': 12}))\n",
      "44 Frozen(SortedKeysDict({'lat': 901, 'lon': 1800, 'time': 13}))\n",
      "45 Frozen(SortedKeysDict({'lat': 901, 'lon': 1800, 'time': 14}))\n",
      "46 Frozen(SortedKeysDict({'lat': 901, 'lon': 1800, 'time': 15}))\n",
      "47 Frozen(SortedKeysDict({'lat': 901, 'lon': 1800, 'time': 16}))\n",
      "48 Frozen(SortedKeysDict({'lat': 901, 'lon': 1800, 'time': 17}))\n",
      "49 Frozen(SortedKeysDict({'lat': 901, 'lon': 1800, 'time': 18}))\n",
      "50 Frozen(SortedKeysDict({'lat': 901, 'lon': 1800, 'time': 19}))\n",
      "51 Frozen(SortedKeysDict({'lat': 901, 'lon': 1800, 'time': 20}))\n",
      "52 Frozen(SortedKeysDict({'lat': 901, 'lon': 1800, 'time': 21}))\n",
      "53 Frozen(SortedKeysDict({'lat': 901, 'lon': 1800, 'time': 22}))\n",
      "54 Frozen(SortedKeysDict({'lat': 901, 'lon': 1800, 'time': 23}))\n",
      "55 Frozen(SortedKeysDict({'lat': 901, 'lon': 1800, 'time': 24}))\n",
      "56 Frozen(SortedKeysDict({'lat': 901, 'lon': 1800, 'time': 25}))\n",
      "57 Frozen(SortedKeysDict({'lat': 901, 'lon': 1800, 'time': 26}))\n",
      "58 Frozen(SortedKeysDict({'lat': 901, 'lon': 1800, 'time': 27}))\n",
      "59 Frozen(SortedKeysDict({'lat': 901, 'lon': 1800, 'time': 28}))\n",
      "60 Frozen(SortedKeysDict({'lat': 901, 'lon': 1800, 'time': 29}))\n",
      "61 Frozen(SortedKeysDict({'time': 1, 'lat': 901, 'lon': 1800}))\n",
      "62 Frozen(SortedKeysDict({'lat': 901, 'lon': 1800, 'time': 2}))\n",
      "63 Frozen(SortedKeysDict({'lat': 901, 'lon': 1800, 'time': 3}))\n",
      "64 Frozen(SortedKeysDict({'lat': 901, 'lon': 1800, 'time': 4}))\n",
      "65 Frozen(SortedKeysDict({'lat': 901, 'lon': 1800, 'time': 5}))\n",
      "66 Frozen(SortedKeysDict({'lat': 901, 'lon': 1800, 'time': 6}))\n",
      "67 Frozen(SortedKeysDict({'lat': 901, 'lon': 1800, 'time': 7}))\n",
      "68 Frozen(SortedKeysDict({'lat': 901, 'lon': 1800, 'time': 8}))\n",
      "69 Frozen(SortedKeysDict({'lat': 901, 'lon': 1800, 'time': 9}))\n",
      "70 Frozen(SortedKeysDict({'lat': 901, 'lon': 1800, 'time': 10}))\n",
      "71 Frozen(SortedKeysDict({'lat': 901, 'lon': 1800, 'time': 11}))\n",
      "72 Frozen(SortedKeysDict({'lat': 901, 'lon': 1800, 'time': 12}))\n",
      "73 Frozen(SortedKeysDict({'lat': 901, 'lon': 1800, 'time': 13}))\n",
      "74 Frozen(SortedKeysDict({'lat': 901, 'lon': 1800, 'time': 14}))\n",
      "75 Frozen(SortedKeysDict({'lat': 901, 'lon': 1800, 'time': 15}))\n",
      "76 Frozen(SortedKeysDict({'lat': 901, 'lon': 1800, 'time': 16}))\n",
      "77 Frozen(SortedKeysDict({'lat': 901, 'lon': 1800, 'time': 17}))\n",
      "78 Frozen(SortedKeysDict({'lat': 901, 'lon': 1800, 'time': 18}))\n",
      "79 Frozen(SortedKeysDict({'lat': 901, 'lon': 1800, 'time': 19}))\n",
      "80 Frozen(SortedKeysDict({'lat': 901, 'lon': 1800, 'time': 20}))\n",
      "81 Frozen(SortedKeysDict({'lat': 901, 'lon': 1800, 'time': 21}))\n",
      "82 Frozen(SortedKeysDict({'lat': 901, 'lon': 1800, 'time': 22}))\n",
      "83 Frozen(SortedKeysDict({'lat': 901, 'lon': 1800, 'time': 23}))\n",
      "84 Frozen(SortedKeysDict({'lat': 901, 'lon': 1800, 'time': 24}))\n",
      "85 Frozen(SortedKeysDict({'lat': 901, 'lon': 1800, 'time': 25}))\n",
      "86 Frozen(SortedKeysDict({'lat': 901, 'lon': 1800, 'time': 26}))\n",
      "87 Frozen(SortedKeysDict({'lat': 901, 'lon': 1800, 'time': 27}))\n",
      "88 Frozen(SortedKeysDict({'lat': 901, 'lon': 1800, 'time': 28}))\n",
      "89 Frozen(SortedKeysDict({'lat': 901, 'lon': 1800, 'time': 29}))\n",
      "90 Frozen(SortedKeysDict({'lat': 901, 'lon': 1800, 'time': 30}))\n",
      "91 Frozen(SortedKeysDict({'lat': 901, 'lon': 1800, 'time': 31}))\n",
      "92 Frozen(SortedKeysDict({'time': 1, 'lat': 901, 'lon': 1800}))\n",
      "93 Frozen(SortedKeysDict({'lat': 901, 'lon': 1800, 'time': 2}))\n",
      "94 Frozen(SortedKeysDict({'lat': 901, 'lon': 1800, 'time': 3}))\n",
      "95 Frozen(SortedKeysDict({'lat': 901, 'lon': 1800, 'time': 4}))\n",
      "96 Frozen(SortedKeysDict({'lat': 901, 'lon': 1800, 'time': 5}))\n",
      "97 Frozen(SortedKeysDict({'lat': 901, 'lon': 1800, 'time': 6}))\n",
      "98 Frozen(SortedKeysDict({'lat': 901, 'lon': 1800, 'time': 7}))\n",
      "99 Frozen(SortedKeysDict({'lat': 901, 'lon': 1800, 'time': 8}))\n",
      "100 Frozen(SortedKeysDict({'lat': 901, 'lon': 1800, 'time': 9}))\n",
      "101 Frozen(SortedKeysDict({'lat': 901, 'lon': 1800, 'time': 10}))\n",
      "102 Frozen(SortedKeysDict({'lat': 901, 'lon': 1800, 'time': 11}))\n",
      "103 Frozen(SortedKeysDict({'lat': 901, 'lon': 1800, 'time': 12}))\n",
      "104 Frozen(SortedKeysDict({'lat': 901, 'lon': 1800, 'time': 13}))\n",
      "105 Frozen(SortedKeysDict({'lat': 901, 'lon': 1800, 'time': 14}))\n",
      "106 Frozen(SortedKeysDict({'lat': 901, 'lon': 1800, 'time': 15}))\n",
      "107 Frozen(SortedKeysDict({'lat': 901, 'lon': 1800, 'time': 16}))\n"
     ]
    }
   ],
   "source": [
    "#make cmc climatology\n",
    "dir_cmc='F:/data/sst/cmc/CMC0.2deg/v2/'\n",
    "dir_cmc_clim='F:/data/sst/cmc/CMC0.2deg/v2/climatology/'\n",
    "for lyr in range(1992,2993): #2017):\n",
    "    ds_mnth=[]\n",
    "    for imon in range(1,13):\n",
    "        init = 0\n",
    "        for idyjl in range(1,366):\n",
    "            d = dt.date(lyr,1,1) + dt.timedelta(idyjl - 1)\n",
    "            if d.month!=imon:\n",
    "                continue\n",
    "            syr=str(d.year).zfill(4)\n",
    "            smon=str(d.month).zfill(2)\n",
    "            sdym=str(d.day).zfill(2)\n",
    "            sjdy=str(idyjl).zfill(3)\n",
    "            fname_tem=syr + smon + sdym + '120000-CMC-L4_GHRSST-SSTfnd-CMC0.2deg-GLOB-v02.0-fv02.0.nc'\n",
    "            cmc_filename = dir_cmc + syr + '/' + sjdy + '/' + fname_tem\n",
    "            #print(cmc_filename)\n",
    "            ds = xr.open_dataset(cmc_filename,drop_variables=['analysis_error','sea_ice_fraction'])\n",
    "            ds_masked = ds.where(ds['mask'] == 1.) \n",
    "            ds.close()\n",
    "            ds_masked = ds_masked.fillna(0)\n",
    "            ds_masked['sq_sst']=ds_masked.analysed_sst**2\n",
    "            if init==0:\n",
    "                ds_sum = ds_masked\n",
    "                init = 1\n",
    "            else:\n",
    "                ds_sum = xr.concat([ds_sum,ds_masked],dim = 'time')\n",
    "            print(idyjl,ds_sum.dims)\n",
    "        ds_sum = ds_sum.mean('time')\n",
    "        ds_mnth.append(ds_sum)\n",
    "    combined = xr.concat(ds_mnth, dim='time')\n",
    "    fname_tem='monthly_average_' + syr + '120000-CMC-L4_GHRSST-SSTfnd-CMC0.2deg-GLOB-v02.0-fv02.0.nc'\n",
    "    cmc_filename_out = dir_cmc + syr + fname_tem\n",
    "    combined.to_netcdf(cmc_filename_out)\n",
    "    "
   ]
  },
  {
   "cell_type": "code",
   "execution_count": 54,
   "metadata": {},
   "outputs": [
    {
     "data": {
      "text/plain": [
       "<xarray.Dataset>\n",
       "Dimensions:       (lat: 901, lon: 1800)\n",
       "Coordinates:\n",
       "  * lat           (lat) float32 -90.0 -89.8 -89.6 -89.4 ... 89.4 89.6 89.8 90.0\n",
       "  * lon           (lon) float32 -180.0 -179.8 -179.6 ... 179.4 179.6 179.8\n",
       "Data variables:\n",
       "    analysed_sst  (lat, lon) float32 0.0 0.0 0.0 0.0 0.0 ... 0.0 0.0 0.0 0.0 0.0\n",
       "    mask          (lat, lon) float32 0.0 0.0 0.0 0.0 0.0 ... 0.0 0.0 0.0 0.0 0.0\n",
       "    sq_sst        (lat, lon) float32 0.0 0.0 0.0 0.0 0.0 ... 0.0 0.0 0.0 0.0 0.0"
      ]
     },
     "execution_count": 54,
     "metadata": {},
     "output_type": "execute_result"
    }
   ],
   "source": [
    "ds_sum"
   ]
  },
  {
   "cell_type": "code",
   "execution_count": null,
   "metadata": {},
   "outputs": [],
   "source": [
    "cmc_filename_out"
   ]
  },
  {
   "cell_type": "code",
   "execution_count": null,
   "metadata": {},
   "outputs": [],
   "source": [
    "combined.analysed_sst[11,:,:].plot()"
   ]
  },
  {
   "cell_type": "code",
   "execution_count": null,
   "metadata": {},
   "outputs": [],
   "source": []
  },
  {
   "cell_type": "code",
   "execution_count": null,
   "metadata": {},
   "outputs": [],
   "source": []
  },
  {
   "cell_type": "code",
   "execution_count": 43,
   "metadata": {},
   "outputs": [
    {
     "name": "stdout",
     "output_type": "stream",
     "text": [
      "Frozen(SortedKeysDict({'time': 1, 'lat': 901, 'lon': 1800}))\n",
      "Frozen(SortedKeysDict({'time': 1, 'lat': 901, 'lon': 1800}))\n",
      "1 299.94998 1.0 299.94998\n",
      "Frozen(SortedKeysDict({'lat': 901, 'lon': 1800, 'time': 2}))\n",
      "Frozen(SortedKeysDict({'time': 1, 'lat': 901, 'lon': 1800}))\n",
      "2 299.94998 1.0 299.94\n",
      "Frozen(SortedKeysDict({'lat': 901, 'lon': 1800, 'time': 3}))\n",
      "Frozen(SortedKeysDict({'time': 1, 'lat': 901, 'lon': 1800}))\n",
      "3 299.94998 1.0 299.86\n",
      "Frozen(SortedKeysDict({'lat': 901, 'lon': 1800, 'time': 4}))\n",
      "Frozen(SortedKeysDict({'time': 1, 'lat': 901, 'lon': 1800}))\n",
      "4 299.94998 1.0 299.86\n"
     ]
    }
   ],
   "source": [
    "#make cmc climatology\n",
    "dir_cmc='F:/data/sst/cmc/CMC0.2deg/v2/'\n",
    "dir_cmc_clim='F:/data/sst/cmc/CMC0.2deg/v2/climatology/'\n",
    "lyr=2000\n",
    "ds_mnth=[]\n",
    "imon=1\n",
    "init = 0\n",
    "for idyjl in range(1,5):\n",
    "    d = dt.date(lyr,1,1) + dt.timedelta(idyjl - 1)\n",
    "    if d.month!=imon:\n",
    "        continue\n",
    "    syr=str(d.year).zfill(4)\n",
    "    smon=str(d.month).zfill(2)\n",
    "    sdym=str(d.day).zfill(2)\n",
    "    sjdy=str(idyjl).zfill(3)\n",
    "    fname_tem=syr + smon + sdym + '120000-CMC-L4_GHRSST-SSTfnd-CMC0.2deg-GLOB-v02.0-fv02.0.nc'\n",
    "    cmc_filename = dir_cmc + syr + '/' + sjdy + '/' + fname_tem\n",
    "            #print(cmc_filename)\n",
    "    ds = xr.open_dataset(cmc_filename,drop_variables=['analysis_error','sea_ice_fraction'])\n",
    "    ds_masked = ds.where(ds['mask'] == 1.) \n",
    "    ds.close()\n",
    "    ds_masked = ds_masked.fillna(0)\n",
    "    ds_masked['sq_sst']=ds_masked.analysed_sst**2\n",
    "    if init==0:\n",
    "        ds_sum = ds_masked\n",
    "        init = 1\n",
    "    else:\n",
    "        ds_sum = xr.concat([ds_sum,ds_masked],dim = 'time')\n",
    "    mn = ds_sum.mean('time')\n",
    "    print(ds_sum.dims)\n",
    "    print(ds_masked.dims)\n",
    "    print(idyjl,ds_sum.analysed_sst[0,450,0].data,ds_sum.mask[0,450,0].data,ds_masked.analysed_sst[0,450,0].data,)\n"
   ]
  },
  {
   "cell_type": "code",
   "execution_count": 46,
   "metadata": {},
   "outputs": [],
   "source": [
    " \n"
   ]
  },
  {
   "cell_type": "code",
   "execution_count": 51,
   "metadata": {},
   "outputs": [
    {
     "data": {
      "text/plain": [
       "<matplotlib.collections.QuadMesh at 0xb040908>"
      ]
     },
     "execution_count": 51,
     "metadata": {},
     "output_type": "execute_result"
    },
    {
     "data": {
      "image/png": "[encoded data removed]",
      "text/plain": [
       "<Figure size 432x288 with 2 Axes>"
      ]
     },
     "metadata": {
      "needs_background": "light"
     },
     "output_type": "display_data"
    }
   ],
   "source": [
    "mn.analysed_sst.plot()"
   ]
  },
  {
   "cell_type": "code",
   "execution_count": 20,
   "metadata": {},
   "outputs": [
    {
     "data": {
      "text/plain": [
       "<xarray.DataArray 'analysed_sst' ()>\n",
       "array(599.88, dtype=float32)\n",
       "Coordinates:\n",
       "    time     datetime64[ns] 2000-01-02T12:00:00\n",
       "    lat      float32 0.0\n",
       "    lon      float32 -180.0"
      ]
     },
     "execution_count": 20,
     "metadata": {},
     "output_type": "execute_result"
    }
   ],
   "source": [
    "ds_sum.analysed_sst[0,450,0]"
   ]
  },
  {
   "cell_type": "code",
   "execution_count": 33,
   "metadata": {},
   "outputs": [
    {
     "data": {
      "text/plain": [
       "<xarray.Dataset>\n",
       "Dimensions:       (lat: 901, lon: 1800, time: 1)\n",
       "Coordinates:\n",
       "  * lat           (lat) float32 -90.0 -89.8 -89.6 -89.4 ... 89.4 89.6 89.8 90.0\n",
       "  * lon           (lon) float32 -180.0 -179.8 -179.6 ... 179.4 179.6 179.8\n",
       "Dimensions without coordinates: time\n",
       "Data variables:\n",
       "    analysed_sst  (time, lat, lon) float32 0.0 0.0 0.0 0.0 ... 0.0 0.0 0.0 0.0\n",
       "    mask          (time, lat, lon) float32 0.0 0.0 0.0 0.0 ... 0.0 0.0 0.0 0.0\n",
       "    sq_sst        (time, lat, lon) float32 0.0 0.0 0.0 0.0 ... 0.0 0.0 0.0 0.0\n",
       "Attributes:\n",
       "    Conventions:                CF-1.4\n",
       "    title:                      CMC 0.2 deg global sea surface temperature an...\n",
       "    summary:                    Applies the method of statistical interpolati...\n",
       "    references:                 Brasnett B. 2008. The impact of satellite ret...\n",
       "    institution:                CMC\n",
       "    history:                    Processed through sfc.thin_sst, sfc.sstobs, i...\n",
       "    comment:                    WARNING Some applications are unable to prope...\n",
       "    license:                    GHRSST protocol describes data use as free an...\n",
       "    id:                         CMC0.2deg-CMC-L4-GLOB-v2.0\n",
       "    naming_authority:           org.ghrsst\n",
       "    product_version:            2.0\n",
       "    uuid:                       67270ff2-25d7-4390-8bc1-fee0a6209243\n",
       "    gds_version_id:             02.5\n",
       "    netcdf_version_id:          4.3.0\n",
       "    date_created:               20131003T193248Z\n",
       "    file_quality_level:         3\n",
       "    spatial_resolution:         0.2 degree\n",
       "    start_time:                 20000102T000000Z\n",
       "    time_coverage_start:        20000102T000000Z\n",
       "    stop_time:                  20000103T000000Z\n",
       "    time_coverage_end:          20000103T000000Z\n",
       "    northernmost_latitude:      90.0\n",
       "    southernmost_latitude:      -90.0\n",
       "    westernmost_longitude:      -180.0\n",
       "    easternmost_longitude:      179.8\n",
       "    source:                     EUR-L2P-ATS_NR_2P,REMSS-L2P-TMI,IN_SITU-ICOAD...\n",
       "    platform:                   ERS-2,TRMM\n",
       "    sensor:                     ATSR,TMI\n",
       "    metadata_link:              http://podaac.jpl.nasa.gov/ws/metadata/datase...\n",
       "    Metadata_Conventions:       Unidata Observation Dataset v1.0\n",
       "    keywords:                   Oceans > Ocean Temperature > Sea Surface Temp...\n",
       "    keywords_vocabulary:        NASA Global Change Master Directory (GCMD) Sc...\n",
       "    standard_name_vocabulary:   NetCDF Climate and Forecast (CF) Metadata Con...\n",
       "    geospatial_lat_units:       degrees_north\n",
       "    geospatial_lat_resolution:  0.2\n",
       "    geospatial_lon_units:       degrees_east\n",
       "    geospatial_lon_resolution:  0.2\n",
       "    acknowledgment:             Please acknowledge the use of these data with...\n",
       "    creator_name:               Bruce Brasnett, Environment Canada\n",
       "    creator_email:              Bruce.Brasnett@ec.gc.ca\n",
       "    creator_url:                http://www.ec.gc.ca/scitech/default.asp?lang=...\n",
       "    project:                    Group for High Resolution Sea Surface Tempera...\n",
       "    publisher_name:             GHRSST Project Office\n",
       "    publisher_url:              http://www.ghrsst.org\n",
       "    publisher_email:            ghrsst-po@nceo.ac.uk\n",
       "    processing_level:           L4\n",
       "    cdm_data_type:              grid"
      ]
     },
     "execution_count": 33,
     "metadata": {},
     "output_type": "execute_result"
    }
   ],
   "source": [
    "ds2 = ds_masked.drop('time')\n",
    "ds2"
   ]
  },
  {
   "cell_type": "code",
   "execution_count": null,
   "metadata": {},
   "outputs": [],
   "source": []
  }
 ],
 "metadata": {
  "kernelspec": {
   "display_name": "Python 3",
   "language": "python",
   "name": "python3"
  },
  "language_info": {
   "codemirror_mode": {
    "name": "ipython",
    "version": 3
   },
   "file_extension": ".py",
   "mimetype": "text/x-python",
   "name": "python",
   "nbconvert_exporter": "python",
   "pygments_lexer": "ipython3",
   "version": "3.7.0"
  }
 },
 "nbformat": 4,
 "nbformat_minor": 2
}
