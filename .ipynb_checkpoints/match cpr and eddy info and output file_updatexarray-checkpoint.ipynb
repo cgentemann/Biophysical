{
 "cells": [
  {
   "cell_type": "code",
   "execution_count": 4,
   "metadata": {},
   "outputs": [],
   "source": [
    "import xarray as xr\n",
    "import numpy as np\n",
    "import matplotlib.pyplot as plt\n",
    "from math import cos, radians\n",
    "import xarray as xr\n",
    "import pandas as pd\n",
    "####################you will need to change some paths here!#####################\n",
    "#list of input files\n",
    "filename_cpr='f:/data/project_data/NASA_biophysical/CPR_data/All CPR Sample catalogue.xlsx'\n",
    "filename_northpac_eddies='F:/data/project_data/NASA_biophysical/aviso/eddy_trajectory_19930101_20170106_north_pacific.nc'\n",
    "filename_cpr_eddy='F:/data/project_data/NASA_biophysical/collocated_data/CPR/eddy_cpr_data_north_pacific.nc'\n",
    "filename_eddy='F:/data/project_data/NASA_biophysical/collocated_data/CPR/eddy_ranking_data_north_pacific.nc'\n",
    "#output files\n",
    "filename_cpr_expanded='F:/data/project_data/NASA_biophysical/collocated_data/CPR/All CPR Sample catalogue with env info_2020_10_05'\n",
    "#filename_cpr_expanded='F:/data/project_data/NASA_biophysical/collocated_data/CPR/All CPR Sample catalogue with env info_2020_10_05.csv'\n",
    "#filename_cpr_expanded_netcdf='F:/data/project_data/NASA_biophysical/collocated_data/CPR/All CPR Sample catalogue with env info_2020_10_05.nc'\n",
    "#filename_cpr_eddy='F:/data/project_data/NASA_biophysical/collocated_data/CPR/All CPR Sample catalogue with eddy and env info_2020_10_05.csv'\n",
    "#filename_cpr_eddy_netcdf='F:/data/project_data/NASA_biophysical/collocated_data/CPR/All CPR Sample catalogue with eddy and env info_2020_10_05.nc'\n",
    "#################################################################################"
   ]
  },
  {
   "cell_type": "code",
   "execution_count": 5,
   "metadata": {},
   "outputs": [
    {
     "name": "stdout",
     "output_type": "stream",
     "text": [
      "Index(['cpr_sample_id', 'cpr_sample_day', 'cpr_sample_month',\n",
      "       'cpr_sample_year', 'cpr_sample_lat', 'cpr_sample_lon',\n",
      "       'cpr_sample_proc'],\n",
      "      dtype='object')\n"
     ]
    },
    {
     "data": {
      "text/html": [
       "<pre>&lt;xarray.Dataset&gt;\n",
       "Dimensions:           (index: 23306)\n",
       "Coordinates:\n",
       "  * index             (index) int64 0 1 2 3 4 ... 23301 23302 23303 23304 23305\n",
       "Data variables:\n",
       "    cpr_sample_id     (index) object &#x27;5AC1&#x27; &#x27;5AC2&#x27; &#x27;5AC3&#x27; ... &#x27;310VJ7&#x27; &#x27;310VJ8&#x27;\n",
       "    cpr_sample_day    (index) int64 20 20 20 20 20 21 21 ... 11 11 11 11 11 11\n",
       "    cpr_sample_month  (index) int64 3 3 3 3 3 3 3 3 ... 11 11 11 11 11 11 11 11\n",
       "    cpr_sample_year   (index) int64 2000 2000 2000 2000 ... 2016 2016 2016 2016\n",
       "    cpr_sample_lat    (index) float64 34.62 34.77 34.91 ... 54.7 54.67 54.65\n",
       "    cpr_sample_lon    (index) float64 -121.2 -121.3 -121.4 ... 178.8 178.5 178.3\n",
       "    cpr_sample_proc   (index) object &#x27;Yes&#x27; &#x27;No&#x27; &#x27;No&#x27; &#x27;No&#x27; ... &#x27;No&#x27; &#x27;No&#x27; &#x27;No&#x27;\n",
       "    cpr_sample_time   (index) datetime64[ns] 2000-03-20 ... 2016-11-11</pre>"
      ],
      "text/plain": [
       "<xarray.Dataset>\n",
       "Dimensions:           (index: 23306)\n",
       "Coordinates:\n",
       "  * index             (index) int64 0 1 2 3 4 ... 23301 23302 23303 23304 23305\n",
       "Data variables:\n",
       "    cpr_sample_id     (index) object '5AC1' '5AC2' '5AC3' ... '310VJ7' '310VJ8'\n",
       "    cpr_sample_day    (index) int64 20 20 20 20 20 21 21 ... 11 11 11 11 11 11\n",
       "    cpr_sample_month  (index) int64 3 3 3 3 3 3 3 3 ... 11 11 11 11 11 11 11 11\n",
       "    cpr_sample_year   (index) int64 2000 2000 2000 2000 ... 2016 2016 2016 2016\n",
       "    cpr_sample_lat    (index) float64 34.62 34.77 34.91 ... 54.7 54.67 54.65\n",
       "    cpr_sample_lon    (index) float64 -121.2 -121.3 -121.4 ... 178.8 178.5 178.3\n",
       "    cpr_sample_proc   (index) object 'Yes' 'No' 'No' 'No' ... 'No' 'No' 'No'\n",
       "    cpr_sample_time   (index) datetime64[ns] 2000-03-20 ... 2016-11-11"
      ]
     },
     "execution_count": 5,
     "metadata": {},
     "output_type": "execute_result"
    }
   ],
   "source": [
    "#read in CPR data excell file using pandas library\n",
    "df = pd.read_excel(filename_cpr)\n",
    "df = df.rename(columns={'Sample ID':'cpr_sample_id','day':'cpr_sample_day',\n",
    "                'month':'cpr_sample_month','year':'cpr_sample_year',\n",
    "                'lat':'cpr_sample_lat','Long':'cpr_sample_lon','Already processed?':'cpr_sample_proc'})\n",
    "ds_cpr = df.to_xarray()\n",
    "ds_cpr['index']=ds_cpr.index.astype('int')\n",
    "ds_cpr\n",
    "ilen = ds_cpr.cpr_sample_lat.size\n",
    "tt=np.empty(ilen,dtype='datetime64[ns]') \n",
    "for i in range(ilen):\n",
    "    tstr=str(ds_cpr.cpr_sample_year[i].data)+'-'+str(ds_cpr.cpr_sample_month[i].data).zfill(2)+'-'+str(ds_cpr.cpr_sample_day[i].data).zfill(2)\n",
    "    tem=np.datetime64(tstr)\n",
    "    tt[i]=tem\n",
    "ds_cpr['cpr_sample_time']=xr.DataArray(tt,dims=['index'])\n",
    "ds_cpr"
   ]
  },
  {
   "cell_type": "code",
   "execution_count": 6,
   "metadata": {},
   "outputs": [
    {
     "data": {
      "text/plain": [
       "(array(-179.935), array(181.176), array(33.48765), array(61.15166667))"
      ]
     },
     "execution_count": 6,
     "metadata": {},
     "output_type": "execute_result"
    }
   ],
   "source": [
    "ds_cpr.cpr_sample_lon.min().data,ds_cpr.cpr_sample_lon.max().data,ds_cpr.cpr_sample_lat.min().data,ds_cpr.cpr_sample_lat.max().data"
   ]
  },
  {
   "cell_type": "code",
   "execution_count": 7,
   "metadata": {},
   "outputs": [
    {
     "data": {
      "text/html": [
       "<pre>&lt;xarray.Dataset&gt;\n",
       "Dimensions:             (z: 1514261)\n",
       "Dimensions without coordinates: z\n",
       "Data variables:\n",
       "    lon                 (z) float32 ...\n",
       "    lat                 (z) float32 ...\n",
       "    time                (z) datetime64[ns] ...\n",
       "    amplitude           (z) float32 ...\n",
       "    speed_average       (z) float32 ...\n",
       "    speed_radius        (z) float32 ...\n",
       "    cyclonic_type       (z) int8 ...\n",
       "    track               (z) int32 ...\n",
       "    track_total_days    (z) int32 ...\n",
       "    observation_number  (z) int16 ...\n",
       "    year                (z) float32 ...\n",
       "    idayjl              (z) float32 ...</pre>"
      ],
      "text/plain": [
       "<xarray.Dataset>\n",
       "Dimensions:             (z: 1514261)\n",
       "Dimensions without coordinates: z\n",
       "Data variables:\n",
       "    lon                 (z) float32 ...\n",
       "    lat                 (z) float32 ...\n",
       "    time                (z) datetime64[ns] ...\n",
       "    amplitude           (z) float32 ...\n",
       "    speed_average       (z) float32 ...\n",
       "    speed_radius        (z) float32 ...\n",
       "    cyclonic_type       (z) int8 ...\n",
       "    track               (z) int32 ...\n",
       "    track_total_days    (z) int32 ...\n",
       "    observation_number  (z) int16 ...\n",
       "    year                (z) float32 ...\n",
       "    idayjl              (z) float32 ..."
      ]
     },
     "execution_count": 7,
     "metadata": {},
     "output_type": "execute_result"
    }
   ],
   "source": [
    "ds_eddy = xr.open_dataset(filename_northpac_eddies).rename({'Longitude':'lon','Latitude':'lat'})\n",
    "ds_eddy"
   ]
  },
  {
   "cell_type": "code",
   "execution_count": 26,
   "metadata": {},
   "outputs": [
    {
     "data": {
      "text/plain": [
       "[<matplotlib.lines.Line2D at 0x21de3895f08>]"
      ]
     },
     "execution_count": 26,
     "metadata": {},
     "output_type": "execute_result"
    },
    {
     "data": {
      "image/png": "[encoded data removed]",
      "text/plain": [
       "<Figure size 432x288 with 1 Axes>"
      ]
     },
     "metadata": {
      "needs_background": "light"
     },
     "output_type": "display_data"
    }
   ],
   "source": [
    "ds_eddy.cyclonic_type.plot()"
   ]
  },
  {
   "cell_type": "code",
   "execution_count": 8,
   "metadata": {},
   "outputs": [
    {
     "data": {
      "text/html": [
       "<pre>&lt;xarray.Dataset&gt;\n",
       "Dimensions:             (z: 23306)\n",
       "Dimensions without coordinates: z\n",
       "Data variables:\n",
       "    save_eddy_index     (z) int32 ...\n",
       "    save_eddy_distance  (z) float32 ...\n",
       "    save_eddy_radius    (z) float32 ...\n",
       "    cpr_dist_from_land  (z) float32 ...</pre>"
      ],
      "text/plain": [
       "<xarray.Dataset>\n",
       "Dimensions:             (z: 23306)\n",
       "Dimensions without coordinates: z\n",
       "Data variables:\n",
       "    save_eddy_index     (z) int32 ...\n",
       "    save_eddy_distance  (z) float32 ...\n",
       "    save_eddy_radius    (z) float32 ...\n",
       "    cpr_dist_from_land  (z) float32 ..."
      ]
     },
     "execution_count": 8,
     "metadata": {},
     "output_type": "execute_result"
    }
   ],
   "source": [
    "ds_eddy_cpr = xr.open_dataset(filename_cpr_eddy)\n",
    "ds_eddy_cpr"
   ]
  },
  {
   "cell_type": "code",
   "execution_count": 9,
   "metadata": {
    "scrolled": true
   },
   "outputs": [],
   "source": [
    "#get bathymetry from ETOPO1\n",
    "fname_topo = 'F:/data/topo/ETOPO1_Ice_g_gmt4.grd'\n",
    "ds = xr.open_dataset(fname_topo)\n",
    "ds_topo = ds.rename_dims({'x':'lon','y':'lat'}).rename({'x':'lon','y':'lat'})"
   ]
  },
  {
   "cell_type": "code",
   "execution_count": 10,
   "metadata": {},
   "outputs": [
    {
     "data": {
      "text/plain": [
       "<matplotlib.collections.QuadMesh at 0x21ddd30ca88>"
      ]
     },
     "execution_count": 10,
     "metadata": {},
     "output_type": "execute_result"
    },
    {
     "data": {
      "image/png": "[encoded data removed]",
      "text/plain": [
       "<Figure size 432x288 with 2 Axes>"
      ]
     },
     "metadata": {
      "needs_background": "light"
     },
     "output_type": "display_data"
    }
   ],
   "source": [
    "tem = ds_topo.isel(lat=slice(7000,9500),lon=slice(0,4500))\n",
    "tem.z.plot()"
   ]
  },
  {
   "cell_type": "code",
   "execution_count": 11,
   "metadata": {},
   "outputs": [],
   "source": [
    "tt = ds_topo.z.interp(lat=ds_cpr.cpr_sample_lat,lon=ds_cpr.cpr_sample_lon,method='nearest').data\n",
    "ds_cpr['ETOPO_depth']= xr.DataArray(tt, coords={'index':ds_cpr.index}, dims=[\"index\"])\n",
    "ds_cpr['cpr_sample_lon2'] = np.mod(ds_cpr['cpr_sample_lon'],360)"
   ]
  },
  {
   "cell_type": "code",
   "execution_count": 12,
   "metadata": {},
   "outputs": [
    {
     "data": {
      "text/plain": [
       "<matplotlib.collections.PathCollection at 0x21ddeeeac88>"
      ]
     },
     "execution_count": 12,
     "metadata": {},
     "output_type": "execute_result"
    },
    {
     "data": {
      "image/png": "[encoded data removed]",
      "text/plain": [
       "<Figure size 432x288 with 1 Axes>"
      ]
     },
     "metadata": {
      "needs_background": "light"
     },
     "output_type": "display_data"
    }
   ],
   "source": [
    "plt.scatter(ds_cpr.cpr_sample_lon2,ds_cpr.cpr_sample_lat,c=ds_cpr.ETOPO_depth,cmap='coolwarm',vmin=-8000,vmax=8000)"
   ]
  },
  {
   "cell_type": "code",
   "execution_count": null,
   "metadata": {},
   "outputs": [],
   "source": [
    "def get_data():\n",
    "    #climatology years\n",
    "    cyr1,cyr2='1993-01-01','2018-12-31'\n",
    "    \n",
    "    # CCMP test\n",
    "    dir_pattern_zarr = 'F:/data/sat_data/ccmp/zarr/'\n",
    "    ds= xr.open_zarr(dir_pattern_zarr)\n",
    "    ds = ds.rename({'latitude':'lat','longitude':'lon'})\n",
    "    ds.coords['lon'] = (ds.coords['lon'] + 180) % 360 - 180\n",
    "    ds_ccmp = ds.sortby(ds.lon)\n",
    "    ds_ccmp = ds_ccmp.drop('nobs')\n",
    "    for var in ds_ccmp:\n",
    "        tem = ds_ccmp[var].attrs\n",
    "        tem['var_name']='ccmp_'+str(var)\n",
    "        ds_ccmp[var].attrs=tem\n",
    "    ds_ccmp_clim = ds_ccmp.sel(time=slice(cyr1,cyr2))\n",
    "    ds_ccmp_clim = ds_ccmp_clim.groupby('time.dayofyear').mean('time',keep_attrs=True,skipna=False)\n",
    "    \n",
    "    # AVISO test\n",
    "    dir_pattern_zarr = 'F:/data/sat_data/aviso/zarr/'\n",
    "    ds= xr.open_zarr(dir_pattern_zarr)\n",
    "    ds = ds.rename({'latitude':'lat','longitude':'lon'})\n",
    "    ds.coords['lon'] = (ds.coords['lon'] + 180) % 360 - 180\n",
    "    ds_aviso = ds.sortby(ds.lon).drop({'lat_bnds','lon_bnds','crs','err'})\n",
    "    for var in ds_aviso:\n",
    "        tem = ds_aviso[var].attrs\n",
    "        tem['var_name']='aviso_'+str(var)\n",
    "        ds_aviso[var].attrs=tem\n",
    "    ds_aviso_clim = ds_aviso.sel(time=slice(cyr1,cyr2))\n",
    "    ds_aviso_clim = ds_aviso_clim.groupby('time.dayofyear').mean('time',keep_attrs=True,skipna=False)    \n",
    "\n",
    "    #sst\n",
    "    dir_pattern_zarr = 'F:/data/sat_data/sst/cmc/zarr/'\n",
    "    ds_sst= xr.open_zarr(dir_pattern_zarr)\n",
    "    ds_sst = ds_sst.drop({'analysis_error','mask','sea_ice_fraction'})\n",
    "    tem = ds_sst.analysed_sst.attrs\n",
    "    tem['var_name']='cmc_sst'\n",
    "    ds_sst.analysed_sst.attrs=tem\n",
    "    ds_sst_clim = ds_sst.sel(time=slice(cyr1,cyr2))\n",
    "    ds_sst_clim = ds_sst_clim.groupby('time.dayofyear').mean('time',keep_attrs=True,skipna=False)\n",
    "    \n",
    "    #put data into a dictionary\n",
    "    data_dict={'aviso':ds_aviso,\n",
    "               'wnd':ds_ccmp,\n",
    "               'sst':ds_sst,\n",
    "              'topo':ds_topo}\n",
    "    clim_dict={'aviso_clim':ds_aviso_clim,\n",
    "               'wnd_clim':ds_ccmp_clim,\n",
    "               'sst_clim':ds_sst_clim}\n",
    "  \n",
    "    return data_dict,clim_dict\n",
    "\n",
    "data,clim = get_data()"
   ]
  },
  {
   "cell_type": "code",
   "execution_count": null,
   "metadata": {},
   "outputs": [],
   "source": [
    "#ds_cpr = xr.open_dataset(filename_bird_out_eddy_netcdf)\n",
    "ilen_bird1 = len(ds_cpr.cpr_sample_lon)\n",
    "\n",
    "clonmin,clonmax = ds_cpr.cpr_sample_lon.min().data,ds_cpr.cpr_sample_lon.max().data\n",
    "clatmin,clatmax = ds_cpr.cpr_sample_lat.min().data,ds_cpr.cpr_sample_lat.max().data\n",
    "t1save=0\n",
    "\n",
    "for name in data:\n",
    "    ds_data=data[name]\n",
    "    if name=='topo':\n",
    "        continue\n",
    "#    if not name==input_data:\n",
    "#        continue\n",
    "    print('name',name)   \n",
    "    for var in ds_data:\n",
    "        var_tem=ds_data[var].attrs['var_name']\n",
    "        ds_cpr[var_tem]=xr.DataArray(np.nan*np.empty((ilen_bird1), \n",
    "                                                      dtype=str(ds_data[var].dtype)), \n",
    "                                      coords={'index': ds_cpr.index},\n",
    "                                      dims=('index'))\n",
    "        ds_cpr[var_tem].attrs=ds_data[var].attrs\n",
    "    print('var',var_tem)\n",
    "    for i in range(ilen_bird1):\n",
    "        if np.isnan(ds_cpr.cpr_sample_lat[i]):\n",
    "            continue\n",
    "        if ds_cpr.cpr_sample_time[i]<ds_data.time.min():\n",
    "            continue\n",
    "        if ds_cpr.cpr_sample_time[i]>ds_data.time.max():\n",
    "            continue\n",
    "        t1,t2 = ds_cpr.cpr_sample_time[i]-np.timedelta64(24,'h'), ds_cpr.cpr_sample_time[i]+np.timedelta64(24,'h')\n",
    "        if not t1==t1save:\n",
    "            tem2 = ds_data.sel(time=slice(t1,t2),lat=slice(clatmin-.5,clatmax+.5),lon=slice(clonmin-.5,clonmax+.5)).load()               \n",
    "            t1save=t1\n",
    "            print(i,ilen_bird1)\n",
    "            #            lat1,lat2=ds_cpr.cpr_sample_lat[i]-.5,ds_cpr.cpr_sample_lat[i,j]+.5\n",
    "            #            lon1,lon2=ds_cpr.cpr_sample_lon[i]-.5,ds_cpr.cpr_sample_lon[i,j]+.5\n",
    "            #            tem = ds_data.sel(time=slice(t1,t2),lat=slice(lat1,lat2),lon=slice(lon1,lon2)).load()\n",
    "        tem = tem2.interp(time=ds_cpr.cpr_sample_time[i],lat=ds_cpr.cpr_sample_lat[i],lon=ds_cpr.cpr_sample_lon[i])\n",
    "        for var in ds_data:\n",
    "            var_tem=ds_data[var].attrs['var_name']\n",
    "            ds_cpr[var_tem][i]=tem[var].data\n",
    "    #output data\n",
    "    df_bird = ds_cpr.to_dataframe()\n",
    "    df_bird.to_csv(filename_cpr_expanded)\n",
    "    ds_cpr.to_netcdf(filename_cpr_expanded_netcdf)"
   ]
  },
  {
   "cell_type": "markdown",
   "metadata": {},
   "source": [
    "# Put files together"
   ]
  },
  {
   "cell_type": "code",
   "execution_count": 13,
   "metadata": {},
   "outputs": [
    {
     "data": {
      "text/html": [
       "<pre>&lt;xarray.Dataset&gt;\n",
       "Dimensions:           (index: 23306)\n",
       "Coordinates:\n",
       "  * index             (index) int64 0 1 2 3 4 ... 23301 23302 23303 23304 23305\n",
       "Data variables:\n",
       "    cpr_sample_id     (index) object &#x27;5AC1&#x27; &#x27;5AC2&#x27; &#x27;5AC3&#x27; ... &#x27;310VJ7&#x27; &#x27;310VJ8&#x27;\n",
       "    cpr_sample_day    (index) int64 20 20 20 20 20 21 21 ... 11 11 11 11 11 11\n",
       "    cpr_sample_month  (index) int64 3 3 3 3 3 3 3 3 ... 11 11 11 11 11 11 11 11\n",
       "    cpr_sample_year   (index) int64 2000 2000 2000 2000 ... 2016 2016 2016 2016\n",
       "    cpr_sample_lat    (index) float64 34.62 34.77 34.91 ... 54.7 54.67 54.65\n",
       "    cpr_sample_lon    (index) float64 -121.2 -121.3 -121.4 ... 178.8 178.5 178.3\n",
       "    cpr_sample_proc   (index) object &#x27;Yes&#x27; &#x27;No&#x27; &#x27;No&#x27; &#x27;No&#x27; ... &#x27;No&#x27; &#x27;No&#x27; &#x27;No&#x27;\n",
       "    cpr_sample_time   (index) datetime64[ns] 2000-03-20 ... 2016-11-11\n",
       "    ETOPO_depth       (index) float64 -821.0 -556.0 ... -1.001e+03 -1.559e+03\n",
       "    cpr_sample_lon2   (index) float64 238.8 238.7 238.6 ... 178.8 178.5 178.3\n",
       "    aviso_adt         (index) float64 0.4663 0.4701 0.475 ... 0.2641 0.2651\n",
       "    aviso_sla         (index) float64 0.006201 0.0119 ... 0.05835 0.06175\n",
       "    aviso_ugos        (index) float64 -0.02633 -0.0155 ... -0.01448 -0.02389\n",
       "    aviso_ugosa       (index) float64 -0.04151 -0.02289 ... 0.001308 -0.007064\n",
       "    aviso_vgos        (index) float64 -0.01376 -0.03681 ... -0.01138 -0.00892\n",
       "    aviso_vgosa       (index) float64 -0.01413 -0.03719 ... -0.02481 -0.01878\n",
       "    ccmp_uwnd         (index) float32 5.0298753 5.0731 ... -13.17893 -13.309051\n",
       "    ccmp_vwnd         (index) float32 -11.586034 -12.049752 ... -3.7546368\n",
       "    cmc_sst           (index) float32 285.06012 285.14456 ... 279.42648</pre>"
      ],
      "text/plain": [
       "<xarray.Dataset>\n",
       "Dimensions:           (index: 23306)\n",
       "Coordinates:\n",
       "  * index             (index) int64 0 1 2 3 4 ... 23301 23302 23303 23304 23305\n",
       "Data variables:\n",
       "    cpr_sample_id     (index) object '5AC1' '5AC2' '5AC3' ... '310VJ7' '310VJ8'\n",
       "    cpr_sample_day    (index) int64 20 20 20 20 20 21 21 ... 11 11 11 11 11 11\n",
       "    cpr_sample_month  (index) int64 3 3 3 3 3 3 3 3 ... 11 11 11 11 11 11 11 11\n",
       "    cpr_sample_year   (index) int64 2000 2000 2000 2000 ... 2016 2016 2016 2016\n",
       "    cpr_sample_lat    (index) float64 34.62 34.77 34.91 ... 54.7 54.67 54.65\n",
       "    cpr_sample_lon    (index) float64 -121.2 -121.3 -121.4 ... 178.8 178.5 178.3\n",
       "    cpr_sample_proc   (index) object 'Yes' 'No' 'No' 'No' ... 'No' 'No' 'No'\n",
       "    cpr_sample_time   (index) datetime64[ns] 2000-03-20 ... 2016-11-11\n",
       "    ETOPO_depth       (index) float64 -821.0 -556.0 ... -1.001e+03 -1.559e+03\n",
       "    cpr_sample_lon2   (index) float64 238.8 238.7 238.6 ... 178.8 178.5 178.3\n",
       "    aviso_adt         (index) float64 0.4663 0.4701 0.475 ... 0.2641 0.2651\n",
       "    aviso_sla         (index) float64 0.006201 0.0119 ... 0.05835 0.06175\n",
       "    aviso_ugos        (index) float64 -0.02633 -0.0155 ... -0.01448 -0.02389\n",
       "    aviso_ugosa       (index) float64 -0.04151 -0.02289 ... 0.001308 -0.007064\n",
       "    aviso_vgos        (index) float64 -0.01376 -0.03681 ... -0.01138 -0.00892\n",
       "    aviso_vgosa       (index) float64 -0.01413 -0.03719 ... -0.02481 -0.01878\n",
       "    ccmp_uwnd         (index) float32 5.0298753 5.0731 ... -13.17893 -13.309051\n",
       "    ccmp_vwnd         (index) float32 -11.586034 -12.049752 ... -3.7546368\n",
       "    cmc_sst           (index) float32 285.06012 285.14456 ... 279.42648"
      ]
     },
     "execution_count": 13,
     "metadata": {},
     "output_type": "execute_result"
    }
   ],
   "source": [
    "file1 = filename_cpr_expanded+'aviso'+'.nc'\n",
    "file2 = filename_cpr_expanded+'wnd'+'.nc'\n",
    "file3 = filename_cpr_expanded+'sst'+'.nc'\n",
    "\n",
    "ds = xr.open_dataset(file1)\n",
    "ds2 = xr.open_dataset(file2)\n",
    "for var in ds2:\n",
    "    if not var in ds:\n",
    "        ds[var]=ds2[var]\n",
    "ds2 = xr.open_dataset(file3)\n",
    "for var in ds2:\n",
    "    if not var in ds:\n",
    "        ds[var]=ds2[var]\n",
    "                \n",
    "ds.to_netcdf(filename_cpr_expanded+'.nc')\n",
    "df_bird = ds.to_dataframe()\n",
    "df_bird.to_csv(filename_cpr_expanded+'.csv')\n",
    "ds"
   ]
  },
  {
   "cell_type": "markdown",
   "metadata": {},
   "source": [
    "# collocate with eddies"
   ]
  },
  {
   "cell_type": "code",
   "execution_count": 14,
   "metadata": {},
   "outputs": [
    {
     "name": "stdout",
     "output_type": "stream",
     "text": [
      "<xarray.Dataset>\n",
      "Dimensions:                           (z: 1514261)\n",
      "Dimensions without coordinates: z\n",
      "Data variables:\n",
      "    cpr_eddy_data_lon                 (z) float32 ...\n",
      "    cpr_eddy_data_lat                 (z) float32 ...\n",
      "    cpr_eddy_data_time                (z) datetime64[ns] ...\n",
      "    cpr_eddy_data_amplitude           (z) float32 ...\n",
      "    cpr_eddy_data_speed_average       (z) float32 ...\n",
      "    cpr_eddy_data_speed_radius        (z) float32 ...\n",
      "    cpr_eddy_data_cyclonic_type       (z) int8 ...\n",
      "    cpr_eddy_data_track               (z) int32 ...\n",
      "    cpr_eddy_data_track_total_days    (z) int32 ...\n",
      "    cpr_eddy_data_observation_number  (z) int16 ...\n",
      "    cpr_eddy_data_year                (z) float32 ...\n",
      "    cpr_eddy_data_idayjl              (z) float32 ...\n",
      "<xarray.Dataset>\n",
      "Dimensions:                       (z: 23306)\n",
      "Dimensions without coordinates: z\n",
      "Data variables:\n",
      "    cpr_eddy_data_index           (z) int32 ...\n",
      "    cpr_eddy_data_distance        (z) float32 ...\n",
      "    cpr_eddy_data_radius          (z) float32 ...\n",
      "    cpr_eddy_data_dist_from_land  (z) float32 ...\n"
     ]
    }
   ],
   "source": [
    "ds_npac_eddy = xr.open_dataset(filename_northpac_eddies).rename({'Longitude':'lon','Latitude':'lat'})\n",
    "for var in ds_npac_eddy:\n",
    "    ds_npac_eddy = ds_npac_eddy.rename({var:str('cpr_eddy_data_'+var)})\n",
    "ds_cpr_eddy = xr.open_dataset(filename_cpr_eddy)\n",
    "for var in ds_cpr_eddy:\n",
    "    if var[0]=='s':\n",
    "        ds_cpr_eddy = ds_cpr_eddy.rename({var:str('cpr_eddy_data_'+var[10:])})\n",
    "    else:\n",
    "        ds_cpr_eddy = ds_cpr_eddy.rename({var:str('cpr_eddy_data_'+var[4:])})        \n",
    "ds_npac_eddy.close()\n",
    "ds_cpr_eddy.close()\n",
    "print(ds_npac_eddy)\n",
    "print(ds_cpr_eddy)"
   ]
  },
  {
   "cell_type": "markdown",
   "metadata": {},
   "source": [
    "# make single array with all info"
   ]
  },
  {
   "cell_type": "code",
   "execution_count": 15,
   "metadata": {},
   "outputs": [],
   "source": [
    "ilen = len(ds_cpr_eddy.cpr_eddy_data_index)\n",
    "for var in ds_npac_eddy:\n",
    "    if not var=='cpr_eddy_data_time':\n",
    "        ds_cpr_eddy[var]=xr.DataArray(np.nan*np.empty(ilen, dtype=str(ds_npac_eddy[var].dtype)), dims=('z'))\n",
    "        ds_cpr_eddy[var].attrs=ds_npac_eddy[var].attrs\n",
    "    else:\n",
    "        ds_cpr_eddy[var]=xr.DataArray(np.empty(ilen, dtype=str(ds_npac_eddy[var].dtype)), dims=('z'))\n",
    "        \n",
    "for i in range(ilen):\n",
    "    ii = ds_cpr_eddy.cpr_eddy_data_index[i]\n",
    "    for var in ds_npac_eddy:\n",
    "        ds_cpr_eddy[var][i]=ds_npac_eddy[var][ii]"
   ]
  },
  {
   "cell_type": "markdown",
   "metadata": {},
   "source": [
    "# check where double crossing "
   ]
  },
  {
   "cell_type": "code",
   "execution_count": 16,
   "metadata": {},
   "outputs": [],
   "source": [
    "#proc_cpr ==1 whre distance is GREATER than radius of eddy\n",
    "#proc_cpr = np.where(ds_cpr_eddy.cpr_eddy_data_distance>ds_cpr_eddy.cpr_eddy_data_radius,1,0)\n",
    "#proc_cpr"
   ]
  },
  {
   "cell_type": "code",
   "execution_count": 17,
   "metadata": {},
   "outputs": [
    {
     "data": {
      "text/plain": [
       "[<matplotlib.lines.Line2D at 0x21ddd884388>]"
      ]
     },
     "execution_count": 17,
     "metadata": {},
     "output_type": "execute_result"
    },
    {
     "data": {
      "image/png": "[encoded data removed]",
      "text/plain": [
       "<Figure size 432x288 with 1 Axes>"
      ]
     },
     "metadata": {
      "needs_background": "light"
     },
     "output_type": "display_data"
    }
   ],
   "source": [
    "ilen = len(ds_cpr_eddy.cpr_eddy_data_track)\n",
    "ds_cpr_eddy['num_cross']=xr.DataArray(np.zeros(ilen, dtype='int32'), dims=('z'))\n",
    "ds_cpr_eddy['num_cross'].attrs={'description':'how many times eddy crossed by cpr data'}\n",
    "#calculate where cpr in eddy radius, put nan where not in eddy\n",
    "subset = ds_cpr_eddy.where(ds_cpr_eddy.cpr_eddy_data_distance<ds_cpr_eddy.cpr_eddy_data_radius)\n",
    "#find unique eddy track ids\n",
    "u, indices = np.unique(ds_cpr_eddy.cpr_eddy_data_track, return_index=True)\n",
    "#cycle through each unique eddy id to find unique years\n",
    "for i in range(len(u)):\n",
    "    ind = np.where(subset.cpr_eddy_data_track==u[i])\n",
    "    ind_tem = np.where(ds_cpr_eddy.cpr_eddy_data_track==u[i])\n",
    "    tem = subset.cpr_eddy_data_year[ind]\n",
    "    u1, indices1 = np.unique(tem, return_index=True)\n",
    "    ds_cpr_eddy.num_cross[ind_tem]=len(u1)\n",
    "ds_cpr_eddy.num_cross.plot()"
   ]
  },
  {
   "cell_type": "code",
   "execution_count": 18,
   "metadata": {},
   "outputs": [
    {
     "data": {
      "text/html": [
       "<pre>&lt;xarray.Dataset&gt;\n",
       "Dimensions:                           (z: 23306)\n",
       "Dimensions without coordinates: z\n",
       "Data variables:\n",
       "    cpr_eddy_data_index               (z) int32 ...\n",
       "    cpr_eddy_data_distance            (z) float32 ...\n",
       "    cpr_eddy_data_radius              (z) float32 ...\n",
       "    cpr_eddy_data_dist_from_land      (z) float32 ...\n",
       "    cpr_eddy_data_lon                 (z) float32 238.172 238.172 ... 180.361\n",
       "    cpr_eddy_data_lat                 (z) float32 32.9281 32.9281 ... 55.3178\n",
       "    cpr_eddy_data_time                (z) datetime64[ns] 2000-03-20 ... 2016-11-11\n",
       "    cpr_eddy_data_amplitude           (z) float32 7.2425 7.2425 ... 1.0151\n",
       "    cpr_eddy_data_speed_average       (z) float32 19.312 19.312 ... 3.9226\n",
       "    cpr_eddy_data_speed_radius        (z) float32 101.72 101.72 ... 75.8342\n",
       "    cpr_eddy_data_cyclonic_type       (z) float64 -127.0 -127.0 ... -127.0\n",
       "    cpr_eddy_data_track               (z) float64 8.37e+04 ... 2.714e+05\n",
       "    cpr_eddy_data_track_total_days    (z) float64 123.0 123.0 94.0 ... 47.0 47.0\n",
       "    cpr_eddy_data_observation_number  (z) float64 54.0 54.0 53.0 ... 44.0 44.0\n",
       "    cpr_eddy_data_year                (z) float32 2000.0 2000.0 ... 2016.0\n",
       "    cpr_eddy_data_idayjl              (z) float32 80.0 80.0 80.0 ... 316.0 316.0\n",
       "    num_cross                         (z) int32 0 0 0 0 0 0 0 ... 1 1 1 1 1 1 1</pre>"
      ],
      "text/plain": [
       "<xarray.Dataset>\n",
       "Dimensions:                           (z: 23306)\n",
       "Dimensions without coordinates: z\n",
       "Data variables:\n",
       "    cpr_eddy_data_index               (z) int32 ...\n",
       "    cpr_eddy_data_distance            (z) float32 ...\n",
       "    cpr_eddy_data_radius              (z) float32 ...\n",
       "    cpr_eddy_data_dist_from_land      (z) float32 ...\n",
       "    cpr_eddy_data_lon                 (z) float32 238.172 238.172 ... 180.361\n",
       "    cpr_eddy_data_lat                 (z) float32 32.9281 32.9281 ... 55.3178\n",
       "    cpr_eddy_data_time                (z) datetime64[ns] 2000-03-20 ... 2016-11-11\n",
       "    cpr_eddy_data_amplitude           (z) float32 7.2425 7.2425 ... 1.0151\n",
       "    cpr_eddy_data_speed_average       (z) float32 19.312 19.312 ... 3.9226\n",
       "    cpr_eddy_data_speed_radius        (z) float32 101.72 101.72 ... 75.8342\n",
       "    cpr_eddy_data_cyclonic_type       (z) float64 -127.0 -127.0 ... -127.0\n",
       "    cpr_eddy_data_track               (z) float64 8.37e+04 ... 2.714e+05\n",
       "    cpr_eddy_data_track_total_days    (z) float64 123.0 123.0 94.0 ... 47.0 47.0\n",
       "    cpr_eddy_data_observation_number  (z) float64 54.0 54.0 53.0 ... 44.0 44.0\n",
       "    cpr_eddy_data_year                (z) float32 2000.0 2000.0 ... 2016.0\n",
       "    cpr_eddy_data_idayjl              (z) float32 80.0 80.0 80.0 ... 316.0 316.0\n",
       "    num_cross                         (z) int32 0 0 0 0 0 0 0 ... 1 1 1 1 1 1 1"
      ]
     },
     "execution_count": 18,
     "metadata": {},
     "output_type": "execute_result"
    }
   ],
   "source": [
    "ds_cpr_eddy"
   ]
  },
  {
   "cell_type": "code",
   "execution_count": 19,
   "metadata": {},
   "outputs": [
    {
     "data": {
      "text/html": [
       "<pre>&lt;xarray.Dataset&gt;\n",
       "Dimensions:           (z: 23306)\n",
       "Coordinates:\n",
       "  * z                 (z) int64 0 1 2 3 4 5 ... 23301 23302 23303 23304 23305\n",
       "Data variables:\n",
       "    cpr_sample_id     (z) object ...\n",
       "    cpr_sample_day    (z) int64 ...\n",
       "    cpr_sample_month  (z) int64 ...\n",
       "    cpr_sample_year   (z) int64 ...\n",
       "    cpr_sample_lat    (z) float64 ...\n",
       "    cpr_sample_lon    (z) float64 ...\n",
       "    cpr_sample_proc   (z) object ...\n",
       "    cpr_sample_time   (z) datetime64[ns] ...\n",
       "    ETOPO_depth       (z) float64 ...\n",
       "    cpr_sample_lon2   (z) float64 ...\n",
       "    aviso_adt         (z) float64 ...\n",
       "    aviso_sla         (z) float64 ...\n",
       "    aviso_ugos        (z) float64 ...\n",
       "    aviso_ugosa       (z) float64 ...\n",
       "    aviso_vgos        (z) float64 ...\n",
       "    aviso_vgosa       (z) float64 ...\n",
       "    ccmp_uwnd         (z) float32 ...\n",
       "    ccmp_vwnd         (z) float32 ...\n",
       "    cmc_sst           (z) float32 ...</pre>"
      ],
      "text/plain": [
       "<xarray.Dataset>\n",
       "Dimensions:           (z: 23306)\n",
       "Coordinates:\n",
       "  * z                 (z) int64 0 1 2 3 4 5 ... 23301 23302 23303 23304 23305\n",
       "Data variables:\n",
       "    cpr_sample_id     (z) object ...\n",
       "    cpr_sample_day    (z) int64 ...\n",
       "    cpr_sample_month  (z) int64 ...\n",
       "    cpr_sample_year   (z) int64 ...\n",
       "    cpr_sample_lat    (z) float64 ...\n",
       "    cpr_sample_lon    (z) float64 ...\n",
       "    cpr_sample_proc   (z) object ...\n",
       "    cpr_sample_time   (z) datetime64[ns] ...\n",
       "    ETOPO_depth       (z) float64 ...\n",
       "    cpr_sample_lon2   (z) float64 ...\n",
       "    aviso_adt         (z) float64 ...\n",
       "    aviso_sla         (z) float64 ...\n",
       "    aviso_ugos        (z) float64 ...\n",
       "    aviso_ugosa       (z) float64 ...\n",
       "    aviso_vgos        (z) float64 ...\n",
       "    aviso_vgosa       (z) float64 ...\n",
       "    ccmp_uwnd         (z) float32 ...\n",
       "    ccmp_vwnd         (z) float32 ...\n",
       "    cmc_sst           (z) float32 ..."
      ]
     },
     "execution_count": 19,
     "metadata": {},
     "output_type": "execute_result"
    }
   ],
   "source": [
    "ds_env = xr.open_dataset(filename_cpr_expanded+'.nc')\n",
    "ds_env.close()\n",
    "ds_env = ds_env.rename({'index':'z'})\n",
    "ds_env"
   ]
  },
  {
   "cell_type": "code",
   "execution_count": 21,
   "metadata": {},
   "outputs": [],
   "source": [
    "for var in ds_env:\n",
    "    var_tem = var\n",
    "    if not var_tem[0:3]=='cpr':\n",
    "        var_tem = 'cpr_sample_'+var\n",
    "    ds_cpr_eddy[var_tem]=xr.DataArray(ds_env[var].data, dims=('z'))    \n",
    "    ds_cpr_eddy[var_tem].attrs=ds_env[var].attrs"
   ]
  },
  {
   "cell_type": "code",
   "execution_count": 22,
   "metadata": {},
   "outputs": [
    {
     "data": {
      "text/html": [
       "<pre>&lt;xarray.Dataset&gt;\n",
       "Dimensions:                           (z: 23306)\n",
       "Dimensions without coordinates: z\n",
       "Data variables:\n",
       "    cpr_eddy_data_index               (z) int32 ...\n",
       "    cpr_eddy_data_distance            (z) float32 ...\n",
       "    cpr_eddy_data_radius              (z) float32 ...\n",
       "    cpr_eddy_data_dist_from_land      (z) float32 ...\n",
       "    cpr_eddy_data_lon                 (z) float32 238.172 238.172 ... 180.361\n",
       "    cpr_eddy_data_lat                 (z) float32 32.9281 32.9281 ... 55.3178\n",
       "    cpr_eddy_data_time                (z) datetime64[ns] 2000-03-20 ... 2016-11-11\n",
       "    cpr_eddy_data_amplitude           (z) float32 7.2425 7.2425 ... 1.0151\n",
       "    cpr_eddy_data_speed_average       (z) float32 19.312 19.312 ... 3.9226\n",
       "    cpr_eddy_data_speed_radius        (z) float32 101.72 101.72 ... 75.8342\n",
       "    cpr_eddy_data_cyclonic_type       (z) float64 -127.0 -127.0 ... -127.0\n",
       "    cpr_eddy_data_track               (z) float64 8.37e+04 ... 2.714e+05\n",
       "    cpr_eddy_data_track_total_days    (z) float64 123.0 123.0 94.0 ... 47.0 47.0\n",
       "    cpr_eddy_data_observation_number  (z) float64 54.0 54.0 53.0 ... 44.0 44.0\n",
       "    cpr_eddy_data_year                (z) float32 2000.0 2000.0 ... 2016.0\n",
       "    cpr_eddy_data_idayjl              (z) float32 80.0 80.0 80.0 ... 316.0 316.0\n",
       "    num_cross                         (z) int32 0 0 0 0 0 0 0 ... 1 1 1 1 1 1 1\n",
       "    cpr_sample_id                     (z) object &#x27;5AC1&#x27; &#x27;5AC2&#x27; ... &#x27;310VJ8&#x27;\n",
       "    cpr_sample_day                    (z) int64 20 20 20 20 20 ... 11 11 11 11\n",
       "    cpr_sample_month                  (z) int64 3 3 3 3 3 3 ... 11 11 11 11 11\n",
       "    cpr_sample_year                   (z) int64 2000 2000 2000 ... 2016 2016\n",
       "    cpr_sample_lat                    (z) float64 34.62 34.77 ... 54.67 54.65\n",
       "    cpr_sample_lon                    (z) float64 -121.2 -121.3 ... 178.5 178.3\n",
       "    cpr_sample_proc                   (z) object &#x27;Yes&#x27; &#x27;No&#x27; &#x27;No&#x27; ... &#x27;No&#x27; &#x27;No&#x27;\n",
       "    cpr_sample_time                   (z) datetime64[ns] 2000-03-20 ... 2016-11-11\n",
       "    cpr_sample_ETOPO_depth            (z) float64 -821.0 -556.0 ... -1.559e+03\n",
       "    cpr_sample_lon2                   (z) float64 238.8 238.7 ... 178.5 178.3\n",
       "    cpr_sample_aviso_adt              (z) float64 0.4663 0.4701 ... 0.2651\n",
       "    cpr_sample_aviso_sla              (z) float64 0.006201 0.0119 ... 0.06175\n",
       "    cpr_sample_aviso_ugos             (z) float64 -0.02633 -0.0155 ... -0.02389\n",
       "    cpr_sample_aviso_ugosa            (z) float64 -0.04151 ... -0.007064\n",
       "    cpr_sample_aviso_vgos             (z) float64 -0.01376 -0.03681 ... -0.00892\n",
       "    cpr_sample_aviso_vgosa            (z) float64 -0.01413 -0.03719 ... -0.01878\n",
       "    cpr_sample_ccmp_uwnd              (z) float32 5.0298753 ... -13.309051\n",
       "    cpr_sample_ccmp_vwnd              (z) float32 -11.586034 ... -3.7546368\n",
       "    cpr_sample_cmc_sst                (z) float32 285.06012 ... 279.42648</pre>"
      ],
      "text/plain": [
       "<xarray.Dataset>\n",
       "Dimensions:                           (z: 23306)\n",
       "Dimensions without coordinates: z\n",
       "Data variables:\n",
       "    cpr_eddy_data_index               (z) int32 ...\n",
       "    cpr_eddy_data_distance            (z) float32 ...\n",
       "    cpr_eddy_data_radius              (z) float32 ...\n",
       "    cpr_eddy_data_dist_from_land      (z) float32 ...\n",
       "    cpr_eddy_data_lon                 (z) float32 238.172 238.172 ... 180.361\n",
       "    cpr_eddy_data_lat                 (z) float32 32.9281 32.9281 ... 55.3178\n",
       "    cpr_eddy_data_time                (z) datetime64[ns] 2000-03-20 ... 2016-11-11\n",
       "    cpr_eddy_data_amplitude           (z) float32 7.2425 7.2425 ... 1.0151\n",
       "    cpr_eddy_data_speed_average       (z) float32 19.312 19.312 ... 3.9226\n",
       "    cpr_eddy_data_speed_radius        (z) float32 101.72 101.72 ... 75.8342\n",
       "    cpr_eddy_data_cyclonic_type       (z) float64 -127.0 -127.0 ... -127.0\n",
       "    cpr_eddy_data_track               (z) float64 8.37e+04 ... 2.714e+05\n",
       "    cpr_eddy_data_track_total_days    (z) float64 123.0 123.0 94.0 ... 47.0 47.0\n",
       "    cpr_eddy_data_observation_number  (z) float64 54.0 54.0 53.0 ... 44.0 44.0\n",
       "    cpr_eddy_data_year                (z) float32 2000.0 2000.0 ... 2016.0\n",
       "    cpr_eddy_data_idayjl              (z) float32 80.0 80.0 80.0 ... 316.0 316.0\n",
       "    num_cross                         (z) int32 0 0 0 0 0 0 0 ... 1 1 1 1 1 1 1\n",
       "    cpr_sample_id                     (z) object '5AC1' '5AC2' ... '310VJ8'\n",
       "    cpr_sample_day                    (z) int64 20 20 20 20 20 ... 11 11 11 11\n",
       "    cpr_sample_month                  (z) int64 3 3 3 3 3 3 ... 11 11 11 11 11\n",
       "    cpr_sample_year                   (z) int64 2000 2000 2000 ... 2016 2016\n",
       "    cpr_sample_lat                    (z) float64 34.62 34.77 ... 54.67 54.65\n",
       "    cpr_sample_lon                    (z) float64 -121.2 -121.3 ... 178.5 178.3\n",
       "    cpr_sample_proc                   (z) object 'Yes' 'No' 'No' ... 'No' 'No'\n",
       "    cpr_sample_time                   (z) datetime64[ns] 2000-03-20 ... 2016-11-11\n",
       "    cpr_sample_ETOPO_depth            (z) float64 -821.0 -556.0 ... -1.559e+03\n",
       "    cpr_sample_lon2                   (z) float64 238.8 238.7 ... 178.5 178.3\n",
       "    cpr_sample_aviso_adt              (z) float64 0.4663 0.4701 ... 0.2651\n",
       "    cpr_sample_aviso_sla              (z) float64 0.006201 0.0119 ... 0.06175\n",
       "    cpr_sample_aviso_ugos             (z) float64 -0.02633 -0.0155 ... -0.02389\n",
       "    cpr_sample_aviso_ugosa            (z) float64 -0.04151 ... -0.007064\n",
       "    cpr_sample_aviso_vgos             (z) float64 -0.01376 -0.03681 ... -0.00892\n",
       "    cpr_sample_aviso_vgosa            (z) float64 -0.01413 -0.03719 ... -0.01878\n",
       "    cpr_sample_ccmp_uwnd              (z) float32 5.0298753 ... -13.309051\n",
       "    cpr_sample_ccmp_vwnd              (z) float32 -11.586034 ... -3.7546368\n",
       "    cpr_sample_cmc_sst                (z) float32 285.06012 ... 279.42648"
      ]
     },
     "execution_count": 22,
     "metadata": {},
     "output_type": "execute_result"
    }
   ],
   "source": [
    "ds_cpr_eddy"
   ]
  },
  {
   "cell_type": "code",
   "execution_count": 23,
   "metadata": {},
   "outputs": [],
   "source": [
    "filename_cpr_expanded='F:/data/project_data/NASA_biophysical/collocated_data/CPR/All CPR Sample catalogue with eddy info_2020_10_06'\n",
    "ds_cpr_eddy.to_netcdf(filename_cpr_expanded+'.nc')\n",
    "df_bird = ds_cpr_eddy.to_dataframe()\n",
    "df_bird.to_csv(filename_cpr_expanded+'.csv')"
   ]
  },
  {
   "cell_type": "code",
   "execution_count": 24,
   "metadata": {},
   "outputs": [
    {
     "name": "stdout",
     "output_type": "stream",
     "text": [
      "<xarray.Dataset>\n",
      "Dimensions:                           (z: 23306)\n",
      "Dimensions without coordinates: z\n",
      "Data variables:\n",
      "    cpr_sample_id                     (z) object ...\n",
      "    cpr_sample_day                    (z) int32 ...\n",
      "    cpr_sample_month                  (z) int32 ...\n",
      "    cpr_sample_year                   (z) int32 ...\n",
      "    cpr_sample_lat                    (z) float32 ...\n",
      "    cpr_sample_lon                    (z) float32 ...\n",
      "    cpr_sample_proc                   (z) |S1 ...\n",
      "    cpr_eddy_data_distance            (z) float32 ...\n",
      "    cpr_eddy_data_distance_from_land  (z) float32 ...\n",
      "    cpr_eddy_data_radius              (z) float32 ...\n",
      "    cpr_eddy_data_lons                (z) float32 ...\n",
      "    cpr_eddy_data_lats                (z) float32 ...\n",
      "    cpr_eddy_data_time                (z) float32 ...\n",
      "    cpr_eddy_data_amplitude           (z) float32 ...\n",
      "    cpr_eddy_data_speed_average       (z) float32 ...\n",
      "    cpr_eddy_data_speed_radius        (z) float32 ...\n",
      "    cpr_eddy_data_cyclonic_type       (z) int32 ...\n",
      "    cpr_eddy_data_track_id            (z) int32 ...\n",
      "    cpr_eddy_data_total_days          (z) int32 ...\n",
      "    cpr_eddy_data_ob_num              (z) int32 ...\n",
      "    cpr_eddy_data_year                (z) int32 ...\n",
      "    cpr_eddy_data_idyjl               (z) int32 ...\n",
      "    num_cross                         (z) int32 ...\n",
      "    cpr_sample_oscar_ucur             (z) float32 ...\n",
      "    cpr_sample_oscar_vcur             (z) float32 ...\n",
      "    cpr_sample_oscar_ucur_clim        (z) float32 ...\n",
      "    cpr_sample_oscar_vcur_clim        (z) float32 ...\n",
      "    cpr_sample_cmc_sst                (z) float32 ...\n",
      "    cpr_sample_cmc_sst_clim           (z) float32 ...\n",
      "    cpr_sample_ccmp_uwnd              (z) float32 ...\n",
      "    cpr_sample_ccmp_uwnd_clim         (z) float32 ...\n",
      "    cpr_sample_ccmp_vwnd              (z) float32 ...\n",
      "    cpr_sample_ccmp_vwnd_clim         (z) float32 ...\n",
      "    cpr_sample_ETOPO_depth            (z) float32 ...\n"
     ]
    },
    {
     "data": {
      "image/png": "[encoded data removed]",
      "text/plain": [
       "<Figure size 432x288 with 1 Axes>"
      ]
     },
     "metadata": {
      "needs_background": "light"
     },
     "output_type": "display_data"
    }
   ],
   "source": [
    "filename_cpr_expanded_netcdf='F:/data/project_data/NASA_biophysical/collocated_data/CPR/All CPR Sample catalogue with eddy info4.nc'\n",
    "ds_tem = xr.open_dataset(filename_cpr_expanded_netcdf)\n",
    "ds_tem.close()\n",
    "ds_tem.num_cross.plot()\n",
    "print(ds_tem)"
   ]
  },
  {
   "cell_type": "code",
   "execution_count": null,
   "metadata": {},
   "outputs": [],
   "source": [
    "#chech on subset\n",
    "#subset = ds_cpr_eddy.where(ds_cpr_eddy.cpr_eddy_data_distance<ds_cpr_eddy.cpr_eddy_data_radius)\n",
    "#for i in range(100):\n",
    "#    print(subset.cpr_eddy_data_track[i].data,ds_cpr_eddy.cpr_eddy_data_distance[i].data,ds_cpr_eddy.cpr_eddy_data_radius[i].data)"
   ]
  },
  {
   "cell_type": "code",
   "execution_count": null,
   "metadata": {},
   "outputs": [],
   "source": [
    "#print(filename_eddy)\n",
    "#ds_unique = xr.open_dataset(filename_eddy,group='eddy_data')\n",
    "#ds_unique.close()\n",
    "#ds_unique"
   ]
  },
  {
   "cell_type": "code",
   "execution_count": 25,
   "metadata": {},
   "outputs": [
    {
     "data": {
      "text/plain": [
       "[<matplotlib.lines.Line2D at 0x21de3c76148>]"
      ]
     },
     "execution_count": 25,
     "metadata": {},
     "output_type": "execute_result"
    },
    {
     "data": {
      "image/png": "[encoded data removed]",
      "text/plain": [
       "<Figure size 432x288 with 1 Axes>"
      ]
     },
     "metadata": {
      "needs_background": "light"
     },
     "output_type": "display_data"
    }
   ],
   "source": [
    "ds_cpr_eddy.cpr_eddy_data_cyclonic_type.plot()\n"
   ]
  },
  {
   "cell_type": "code",
   "execution_count": null,
   "metadata": {},
   "outputs": [],
   "source": []
  },
  {
   "cell_type": "code",
   "execution_count": null,
   "metadata": {},
   "outputs": [],
   "source": []
  },
  {
   "cell_type": "code",
   "execution_count": null,
   "metadata": {},
   "outputs": [],
   "source": [
    "plt.plot(ds_cpr_eddy.cpr_eddy_data_distance)\n",
    "plt.plot(ds_cpr_eddy.cpr_eddy_data_radius)"
   ]
  },
  {
   "cell_type": "code",
   "execution_count": null,
   "metadata": {},
   "outputs": [],
   "source": [
    "for i in range(10):\n",
    "    print(ds_cpr_eddy.cpr_eddy_data_distance[i].data,ds_cpr_eddy.cpr_eddy_data_radius[i].data)"
   ]
  },
  {
   "cell_type": "code",
   "execution_count": null,
   "metadata": {},
   "outputs": [],
   "source": [
    "#cpr_eddy_data_speed_radius_deg[index]=speed_radius_eddy[index_eddy]*cos(radians(lats_eddy[index_eddy]))/111.0\n",
    "#proc_cpr ==1 whre distance is GREATER than radius of eddy\n",
    "proc_cpr = np.where(ds_cpr_eddy.cpr_eddy_data_distance>ds_cpr_eddy.cpr_eddy_data_radius,1,0)\n",
    "proc_cpr"
   ]
  },
  {
   "cell_type": "code",
   "execution_count": null,
   "metadata": {},
   "outputs": [],
   "source": [
    "import numpy.ma as ma\n",
    "from numpy import *\n",
    "\n",
    "#remove masked values from data\n",
    "data = np.ma.filled(cpr_sample_ucur, np.nan)\n",
    "data[isnan(data)] = -9999\n",
    "cpr_sample_ucur2=data\n",
    "\n",
    "data = np.ma.filled(cpr_sample_vcur, np.nan)\n",
    "data[isnan(data)] = -9999\n",
    "cpr_sample_vcur2=data\n",
    "\n",
    "data = np.ma.filled(cpr_sample_ucur_clim, np.nan)\n",
    "data[isnan(data)] = -9999\n",
    "cpr_sample_ucur_clim2=data\n",
    "\n",
    "data = np.ma.filled(cpr_sample_vcur_clim, np.nan)\n",
    "data[isnan(data)] = -9999\n",
    "cpr_sample_vcur_clim2=data\n",
    "\n",
    "data = np.ma.filled(cpr_sample_sst, np.nan)\n",
    "data[isnan(data)] = -9999\n",
    "cpr_sample_sst2=data\n",
    "\n",
    "data = np.ma.filled(cpr_sample_sst_clim, np.nan)\n",
    "data[isnan(data)] = -9999\n",
    "cpr_sample_sst_clim2=data\n",
    "\n",
    "data = np.ma.filled(cpr_sample_uwnd, np.nan)\n",
    "data[isnan(data)] = -9999\n",
    "cpr_sample_uwnd2=data\n",
    "\n",
    "data = np.ma.filled(cpr_sample_uwnd_clim, np.nan)\n",
    "data[isnan(data)] = -9999\n",
    "cpr_sample_uwnd_clim2=data\n",
    "\n",
    "data = np.ma.filled(cpr_sample_vwnd, np.nan)\n",
    "data[isnan(data)] = -9999\n",
    "cpr_sample_vwnd2=data\n",
    "\n",
    "data = np.ma.filled(cpr_sample_vwnd_clim, np.nan)\n",
    "data[isnan(data)] = -9999\n",
    "cpr_sample_vwnd_clim2=data\n"
   ]
  },
  {
   "cell_type": "code",
   "execution_count": null,
   "metadata": {},
   "outputs": [],
   "source": [
    "#print(shape(df))\n",
    "#print(shape(cpr_sample_jday))\n",
    "#df_time=[0] * (ilen_cpr)\n",
    "#print(ilen_cpr)\n",
    "#for index in range(0,ilen_cpr):\n",
    "#    df_time[index] = dt.datetime(cpr_sample_year[index],cpr_sample_month[index],cpr_sample_day[index])\n",
    "#df_vars=['Sample ID','day','month','year','lat','lon','already processed?','ETOPO_depth (m) nearest neighbor','ETOPO_depth (m) interp','SST CMC 2.0','SST Climatology CMC 2.0','U_wnd CCMC m/s','V_wnd CCMC m/s','Climatology U_wnd CCMC m/s','Climatology V_wnd CCMC m/s','U_cur oscar m/s','V_cur oscar m/s','Climatology U_cur oscar m/s','Climatology V_cur oscar m/s']"
   ]
  },
  {
   "cell_type": "code",
   "execution_count": null,
   "metadata": {},
   "outputs": [],
   "source": [
    "#print(shape(df_time))\n",
    "#print(shape(df_vars))\n",
    "#print(type(df_time))"
   ]
  },
  {
   "cell_type": "code",
   "execution_count": null,
   "metadata": {},
   "outputs": [],
   "source": [
    "#type(df)\n",
    "#print(type(df))\n",
    "#print(shape(df))\n",
    "##print(shape(df_time))\n",
    "#print(shape(df_vars))\n",
    "#df_out = xr.DataArray(df, coords=[df_time,df_vars]) #, dims=['time' 'vars'])"
   ]
  },
  {
   "cell_type": "code",
   "execution_count": null,
   "metadata": {},
   "outputs": [],
   "source": [
    "#df_out.to_netcdf(filename_cpr_expanded_netcdf)\n"
   ]
  },
  {
   "cell_type": "code",
   "execution_count": null,
   "metadata": {},
   "outputs": [],
   "source": [
    "#df_test=xr.open_dataset(filename_cpr_expanded_netcdf)\n",
    "#df_test"
   ]
  },
  {
   "cell_type": "code",
   "execution_count": null,
   "metadata": {},
   "outputs": [],
   "source": [
    "print(len(cpr_sample_sst2))\n",
    "print(cpr_sample_sst2[-11:-1])\n"
   ]
  },
  {
   "cell_type": "code",
   "execution_count": null,
   "metadata": {
    "scrolled": true
   },
   "outputs": [],
   "source": [
    "#output in netcdf\n",
    "#get the values for a given column\n",
    "#f.close()\n",
    "\n",
    "filename_cpr_expanded_netcdf='f:/data/eddy/collocated_data/All CPR Sample catalogue with eddy info4.nc'\n",
    "\n",
    "print(type(cpr_sample_id))\n",
    "print(len(cpr_sample_id))\n",
    "\n",
    "print(cpr_sample_ucur_clim[9:10])\n",
    "print(cpr_sample_ucur[9:10])\n",
    "\n",
    "#f.close()\n",
    "ilen_cpr=len(cpr_sample_id)\n",
    "f = Dataset(filename_cpr_expanded_netcdf,'w', format='NETCDF4') #'w' stands for write\n",
    "#tempgrp = f.createGroup('CPR_data')\n",
    "f.createDimension('z', ilen_cpr)\n",
    "cpr_sample_id_netcdf = f.createVariable('cpr_sample_id', 'str', 'z')\n",
    "cpr_sample_day_netcdf = f.createVariable('cpr_sample_day', 'i4', 'z')  \n",
    "cpr_sample_month_netcdf = f.createVariable('cpr_sample_month', 'i4', 'z')\n",
    "cpr_sample_year_netcdf =f.createVariable('cpr_sample_year', 'i4', 'z')\n",
    "cpr_sample_lat_netcdf = f.createVariable('cpr_sample_lat', 'f4', 'z')\n",
    "cpr_sample_lon_netcdf = f.createVariable('cpr_sample_lon', 'f4', 'z')\n",
    "cpr_sample_proc_netcdf = f.createVariable('cpr_sample_proc', 'c', 'z')\n",
    "eddy_dist_netcdf = f.createVariable('cpr_eddy_data_distance', 'f4', 'z')\n",
    "eddy_dist_from_land_netcdf = f.createVariable('cpr_eddy_data_distance_from_land', 'f4', 'z')\n",
    "eddy_rad_netcdf = f.createVariable('cpr_eddy_data_radius', 'f4', 'z')\n",
    "eddy_lon_netcdf = f.createVariable('cpr_eddy_data_lons', 'f4', 'z')\n",
    "eddy_lat_netcdf = f.createVariable('cpr_eddy_data_lats', 'f4', 'z')\n",
    "eddy_time_netcdf = f.createVariable('cpr_eddy_data_time', 'f4', 'z')\n",
    "eddy_amp_netcdf = f.createVariable('cpr_eddy_data_amplitude', 'f4', 'z')\n",
    "eddy_spd_netcdf = f.createVariable('cpr_eddy_data_speed_average', 'f4', 'z')\n",
    "eddy_rad2_netcdf = f.createVariable('cpr_eddy_data_speed_radius', 'f4', 'z')\n",
    "eddy_cyc_netcdf = f.createVariable('cpr_eddy_data_cyclonic_type', 'i4', 'z')\n",
    "eddy_id_netcdf = f.createVariable('cpr_eddy_data_track_id', 'i4', 'z')\n",
    "eddy_tdy_netcdf = f.createVariable('cpr_eddy_data_total_days', 'i4', 'z')\n",
    "eddy_ob_netcdf = f.createVariable('cpr_eddy_data_ob_num', 'i4', 'z')\n",
    "eddy_yr_netcdf = f.createVariable('cpr_eddy_data_year', 'i4', 'z')\n",
    "eddy_dy_netcdf = f.createVariable('cpr_eddy_data_idyjl', 'i4', 'z')\n",
    "eddy_crossings_netcdf = f.createVariable('num_cross', 'i4', 'z')\n",
    "ucur_netcdf = f.createVariable('cpr_sample_oscar_ucur', 'f4', 'z')\n",
    "vcur_netcdf = f.createVariable('cpr_sample_oscar_vcur', 'f4', 'z')\n",
    "ucur_clim_netcdf = f.createVariable('cpr_sample_oscar_ucur_clim', 'f4', 'z')\n",
    "vcur_clim_netcdf = f.createVariable('cpr_sample_oscar_vcur_clim', 'f4', 'z')\n",
    "sst_netcdf = f.createVariable('cpr_sample_cmc_sst', 'f4', 'z')\n",
    "sst_clim_netcdf = f.createVariable('cpr_sample_cmc_sst_clim', 'f4', 'z')\n",
    "uwnd_netcdf = f.createVariable('cpr_sample_ccmp_uwnd', 'f4', 'z')\n",
    "uwnd_clim_netcdf = f.createVariable('cpr_sample_ccmp_uwnd_clim', 'f4', 'z')\n",
    "vwnd_netcdf = f.createVariable('cpr_sample_ccmp_vwnd', 'f4', 'z')\n",
    "vwnd_clim_netcdf = f.createVariable('cpr_sample_ccmp_vwnd_clim', 'f4', 'z')\n",
    "depth_netcdf = f.createVariable('cpr_sample_ETOPO_depth', 'f4', 'z')\n",
    "\n",
    "tem=cpr_sample_id.tolist()\n",
    "print(type(tem))\n",
    "print(tem[0:10])\n",
    "cpr_sample_id_netcdf[:] = cpr_sample_id #tem\n",
    "cpr_sample_day_netcdf[:] = cpr_sample_day  \n",
    "cpr_sample_month_netcdf[:] = cpr_sample_month\n",
    "cpr_sample_year_netcdf[:] = cpr_sample_year\n",
    "cpr_sample_lat_netcdf[:] = cpr_sample_lat\n",
    "cpr_sample_lon_netcdf[:] = cpr_sample_lon\n",
    "cpr_sample_proc_netcdf[:] = cpr_sample_proc\n",
    "eddy_dist_netcdf[:] = cpr_eddy_data_distance\n",
    "eddy_dist_from_land_netcdf[:] = cpr_eddy_data_distance_from_land\n",
    "eddy_rad_netcdf[:] = cpr_eddy_data_radius\n",
    "eddy_lon_netcdf[:] = cpr_eddy_data_lons\n",
    "eddy_lat_netcdf[:] = cpr_eddy_data_lats\n",
    "eddy_time_netcdf[:] = cpr_eddy_data_time\n",
    "eddy_amp_netcdf[:] = cpr_eddy_data_amplitude\n",
    "eddy_spd_netcdf[:] = cpr_eddy_data_speed_average\n",
    "eddy_rad2_netcdf[:] = cpr_eddy_data_speed_radius\n",
    "eddy_cyc_netcdf[:] = cpr_eddy_data_cyclonic_type\n",
    "eddy_id_netcdf[:] = cpr_eddy_data_track_id\n",
    "eddy_tdy_netcdf[:] = cpr_eddy_data_total_days\n",
    "eddy_ob_netcdf[:] = cpr_eddy_data_ob_num\n",
    "eddy_yr_netcdf[:] = cpr_eddy_data_year\n",
    "eddy_dy_netcdf[:] = cpr_eddy_data_idyjl\n",
    "eddy_crossings_netcdf[:] = num_cross\n",
    "ucur_netcdf[:] =cpr_sample_ucur2\n",
    "vcur_netcdf[:] =cpr_sample_vcur2\n",
    "ucur_clim_netcdf[:] = cpr_sample_ucur_clim2\n",
    "vcur_clim_netcdf[:] = cpr_sample_vcur_clim2\n",
    "sst_netcdf[:] =cpr_sample_sst2\n",
    "sst_clim_netcdf[:] =cpr_sample_sst_clim2\n",
    "uwnd_netcdf[:] =cpr_sample_uwnd2\n",
    "uwnd_clim_netcdf[:] =cpr_sample_uwnd_clim2\n",
    "vwnd_netcdf[:] =cpr_sample_vwnd2\n",
    "vwnd_clim_netcdf[:] =cpr_sample_vwnd_clim2\n",
    "depth_netcdf[:] =cpr_sample_depth_exact\n",
    "f.close()"
   ]
  },
  {
   "cell_type": "code",
   "execution_count": null,
   "metadata": {},
   "outputs": [],
   "source": [
    "df_test=xr.open_dataset(filename_cpr_expanded_netcdf)\n",
    "df_test.cpr_sample_id"
   ]
  },
  {
   "cell_type": "code",
   "execution_count": null,
   "metadata": {
    "scrolled": true
   },
   "outputs": [],
   "source": []
  },
  {
   "cell_type": "code",
   "execution_count": null,
   "metadata": {},
   "outputs": [],
   "source": []
  },
  {
   "cell_type": "code",
   "execution_count": null,
   "metadata": {},
   "outputs": [],
   "source": [
    "#into excel file\n",
    "#from pandas import DataFrame\n",
    "#tem=cpr_sample_id.tolist()\n",
    "#df = DataFrame({'CPR Sample ID': tem, 'CPR sample day': cpr_sample_day})\n",
    "#print(filename_cpr_expanded)\n",
    "#df.to_excel('filename_cpr_expanded,', sheet_name='sheet1', index=False)\n",
    "#find number of crossings\n",
    "\n",
    "print(cpr_eddy_data_speed_radius[1],cpr_eddy_data_speed_radius_deg[1])\n",
    "filename_cpr"
   ]
  },
  {
   "cell_type": "code",
   "execution_count": null,
   "metadata": {
    "scrolled": true
   },
   "outputs": [],
   "source": [
    "wb = openpyxl.load_workbook(filename_cpr)\n",
    "sheet=wb['2000_2016'] #sheet = wb.get_sheet_by_name('2000_2016')\n",
    "for i in range(0,1):\n",
    "    sheet['A' + str(i + 1)].value = 'cpr_sample_id'\n",
    "    sheet['B' + str(i + 1)].value = 'cpr_sample_day'\n",
    "    sheet['C' + str(i + 1)].value = 'cpr_sample_month'\n",
    "    sheet['D' + str(i + 1)].value = 'cpr_sample_year'\n",
    "    sheet['E' + str(i + 1)].value = 'cpr_sample_lat'\n",
    "    sheet['F' + str(i + 1)].value = 'cpr_sample_lon'\n",
    "    sheet['G' + str(i + 1)].value = 'cpr_sample_proc'\n",
    "    sheet['H' + str(i + 1)].value = 'eddy_data_track_id'\n",
    "    sheet['I' + str(i + 1)].value = 'eddy_data_distance'\n",
    "    sheet['J' + str(i + 1)].value = 'eddy_data_distance_from_land'\n",
    "    sheet['K' + str(i + 1)].value = 'eddy_data_radius'\n",
    "    sheet['L' + str(i + 1)].value = 'eddy_data_lons'\n",
    "    sheet['M' + str(i + 1)].value = 'eddy_data_lats'\n",
    "    sheet['N' + str(i + 1)].value = 'eddy_data_time'\n",
    "    sheet['O' + str(i + 1)].value = 'eddy_data_amplitude'\n",
    "    sheet['P' + str(i + 1)].value = 'eddy_data_speed_average'\n",
    "    sheet['Q' + str(i + 1)].value = 'eddy_data_speed_radius'\n",
    "    sheet['R' + str(i + 1)].value = 'eddy_data_cyclonic_type'\n",
    "    sheet['S' + str(i + 1)].value = 'eddy_data_total_days'\n",
    "    sheet['T' + str(i + 1)].value = 'eddy_data_ob_num'\n",
    "    sheet['U' + str(i + 1)].value = 'eddy_data_year'\n",
    "    sheet['V' + str(i + 1)].value = 'eddy_data_idyjl'\n",
    "    sheet['W' + str(i + 1)].value = 'number_times_cpr_crosses_this_eddy'\n",
    "    sheet['X' + str(i + 1)].value = 'cpr_sample_oscar_ucur'\n",
    "    sheet['Y' + str(i + 1)].value = 'cpr_sample_oscar_vcur'\n",
    "    sheet['Z' + str(i + 1)].value = 'cpr_sample_oscar_ucur_clim'\n",
    "    sheet['AA' + str(i + 1)].value = 'cpr_sample_oscar_vcur_clim'\n",
    "    sheet['AB' + str(i + 1)].value = 'cpr_sample_cmc_sst'\n",
    "    sheet['AC' + str(i + 1)].value = 'cpr_sample_cmc_sst_clim'\n",
    "    sheet['AD' + str(i + 1)].value = 'cpr_sample_ccmp_uwnd'\n",
    "    sheet['AE' + str(i + 1)].value = 'cpr_sample_ccmp_uwnd_clim'\n",
    "    sheet['AF' + str(i + 1)].value = 'cpr_sample_ccmp_vwnd'\n",
    "    sheet['AG' + str(i + 1)].value = 'cpr_sample_ccmp_vwnd_clim'\n",
    "    sheet['AH' + str(i + 1)].value = 'cpr_sample_ETOPO_depth'\n",
    "  \n",
    "    \n",
    "ilen_cpr=len(cpr_sample_id)\n",
    "cpr_eddy_data_lons2=cpr_eddy_data_lons\n",
    "for i in range(0,ilen):\n",
    "    if cpr_eddy_data_lons[i]>180.:\n",
    "        cpr_eddy_data_lons2[i]=cpr_eddy_data_lons[i]-360.\n",
    "        \n",
    "for i in range(0,ilen_cpr):\n",
    "    sheet['A' + str(i + 2)].value = cpr_sample_id[i]\n",
    "    sheet['B' + str(i + 2)].value = cpr_sample_day[i]\n",
    "    sheet['C' + str(i + 2)].value = cpr_sample_month[i]\n",
    "    sheet['D' + str(i + 2)].value = cpr_sample_year[i]\n",
    "    sheet['E' + str(i + 2)].value = cpr_sample_lat[i]\n",
    "    sheet['F' + str(i + 2)].value = cpr_sample_lon[i]\n",
    "    sheet['G' + str(i + 2)].value = cpr_sample_proc[i]\n",
    "    sheet['H' + str(i + 2)].value = cpr_eddy_data_track_id[i]\n",
    "    sheet['I' + str(i + 2)].value = cpr_eddy_data_distance[i]\n",
    "    sheet['J' + str(i + 2)].value = cpr_eddy_data_distance_from_land[i]\n",
    "    sheet['K' + str(i + 2)].value = cpr_eddy_data_radius[i]\n",
    "    sheet['L' + str(i + 2)].value = cpr_eddy_data_lons2[i]\n",
    "    sheet['M' + str(i + 2)].value = cpr_eddy_data_lats[i]\n",
    "    sheet['N' + str(i + 2)].value = cpr_eddy_data_time[i]\n",
    "    sheet['O' + str(i + 2)].value = cpr_eddy_data_amplitude[i]\n",
    "    sheet['P' + str(i + 2)].value = cpr_eddy_data_speed_average[i]\n",
    "    sheet['Q' + str(i + 2)].value = cpr_eddy_data_speed_radius[i]\n",
    "    sheet['R' + str(i + 2)].value = cpr_eddy_data_cyclonic_type[i]\n",
    "    sheet['S' + str(i + 2)].value = cpr_eddy_data_total_days[i]\n",
    "    sheet['T' + str(i + 2)].value = cpr_eddy_data_ob_num[i]\n",
    "    sheet['U' + str(i + 2)].value = cpr_eddy_data_year[i]\n",
    "    sheet['V' + str(i + 2)].value = cpr_eddy_data_idyjl[i]\n",
    "    sheet['W' + str(i + 2)].value = num_cross[i]\n",
    "    sheet['X' + str(i + 2)].value = cpr_sample_ucur2[i]\n",
    "    sheet['Y' + str(i + 2)].value = cpr_sample_vcur2[i]\n",
    "    sheet['Z' + str(i + 2)].value = cpr_sample_ucur_clim2[i]\n",
    "    sheet['AA' + str(i + 2)].value = cpr_sample_vcur_clim2[i]\n",
    "    sheet['AB' + str(i + 2)].value = cpr_sample_sst2[i]\n",
    "    sheet['AC' + str(i + 2)].value = cpr_sample_sst_clim2[i]\n",
    "    sheet['AD' + str(i + 2)].value = cpr_sample_uwnd2[i]\n",
    "    sheet['AE' + str(i + 2)].value = cpr_sample_uwnd_clim2[i]\n",
    "    sheet['AF' + str(i + 2)].value = cpr_sample_vwnd2[i]\n",
    "    sheet['AG' + str(i + 2)].value = cpr_sample_vwnd_clim2[i]\n",
    "    sheet['AH' + str(i + 2)].value = cpr_sample_depth_exact[i]\n",
    "        \n",
    "wb.save(filename_cpr_expanded)"
   ]
  },
  {
   "cell_type": "code",
   "execution_count": null,
   "metadata": {},
   "outputs": [],
   "source": []
  },
  {
   "cell_type": "code",
   "execution_count": null,
   "metadata": {
    "scrolled": true
   },
   "outputs": [],
   "source": [
    "\n",
    "f = plt.figure()\n",
    "clats=[]\n",
    "clons=[]\n",
    "clats2=[]\n",
    "clons2=[]\n",
    "for i in range(0,len(cpr_sample_lat)):\n",
    "    tem=cpr_sample_proc[i]\n",
    "    if cpr_eddy_data_distance[i]<=cpr_eddy_data_radius[i] and tem=='Yes' :\n",
    "        clats.append(cpr_sample_lat[i])\n",
    "        clons.append(cpr_sample_lon[i])\n",
    "    elif cpr_eddy_data_distance[i]<=cpr_eddy_data_radius[i] and tem=='No' :\n",
    "        clats2.append(cpr_sample_lat[i])\n",
    "        clons2.append(cpr_sample_lon[i])\n",
    "map = Basemap(projection='merc', lat_0 = 45, lon_0 = -130,    resolution = 'l', area_thresh = 0.1,    \n",
    "              llcrnrlon=-180.25, llcrnrlat=30.0,urcrnrlon=-115.25, urcrnrlat=62.75)\n",
    "#map.drawcoastlines()\n",
    "#map.drawcountries()\n",
    "map.fillcontinents(color = 'coral')\n",
    "#map.drawmapboundary()\n",
    "        #xx=cpr_sample_lon[i]\n",
    "        #map.plot(xx,yy,'ko',markersize=24)\n",
    "x,y = map(clons,clats)\n",
    "map.plot(x, y, 'bo', markersize=.2)\n",
    "x,y = map(clons2,clats2)\n",
    "map.plot(x, y, 'ro', markersize=.2)\n",
    "plt.show()\n",
    "f.savefig(\"F:/data/eddy/figures/all_collocated_cpr_data.pdf\", bbox_inches='tight')\n",
    "\n"
   ]
  },
  {
   "cell_type": "code",
   "execution_count": null,
   "metadata": {},
   "outputs": [],
   "source": [
    "print(cpr_eddy_data_speed_radius[1],cpr_eddy_data_speed_radius_deg[1])\n"
   ]
  },
  {
   "cell_type": "code",
   "execution_count": null,
   "metadata": {
    "scrolled": true
   },
   "outputs": [],
   "source": [
    "\n",
    "f = plt.figure()\n",
    "clats=[]\n",
    "clons=[]\n",
    "clats2=[]\n",
    "clons2=[]\n",
    "elats=[]\n",
    "elons=[]\n",
    "erads=[]\n",
    "erads2=[]\n",
    "espokes=[]\n",
    "ecross=[]\n",
    "for i in range(0,len(cpr_sample_lat)):\n",
    "    tem=cpr_sample_proc[i]\n",
    "    if cpr_eddy_data_distance[i]<=cpr_eddy_data_radius[i] and tem=='Yes' :\n",
    "        clats.append(cpr_sample_lat[i])\n",
    "        clons.append(cpr_sample_lon[i])\n",
    "        elats.append(cpr_eddy_data_lats[i])\n",
    "        elons.append(cpr_eddy_data_lons2[i])\n",
    "        erads.append(cpr_eddy_data_speed_radius[i])\n",
    "        erads2.append(cpr_eddy_data_speed_radius_deg[i])\n",
    "        ecross.append(num_cross[i])\n",
    "        espokes.append(50)\n",
    "    elif cpr_eddy_data_distance[i]<=cpr_eddy_data_radius[i] and tem=='No' :\n",
    "        clats2.append(cpr_sample_lat[i])\n",
    "        clons2.append(cpr_sample_lon[i])\n",
    "        elats.append(cpr_eddy_data_lats[i])\n",
    "        elons.append(cpr_eddy_data_lons2[i])\n",
    "        erads.append(cpr_eddy_data_speed_radius[i])\n",
    "        erads2.append(cpr_eddy_data_speed_radius_deg[i])\n",
    "        ecross.append(num_cross[i])\n",
    "        espokes.append(50)      \n"
   ]
  },
  {
   "cell_type": "code",
   "execution_count": null,
   "metadata": {},
   "outputs": [],
   "source": [
    "print(cpr_eddy_data_speed_radius[1],cpr_eddy_data_speed_radius_deg[1])\n"
   ]
  },
  {
   "cell_type": "code",
   "execution_count": null,
   "metadata": {},
   "outputs": [],
   "source": [
    "def shoot(lon, lat, azimuth, maxdist=None):\n",
    "    \"\"\"Shooter Function\n",
    "    Original javascript on http://williams.best.vwh.net/gccalc.htm\n",
    "    Translated to python by Thomas Lecocq\n",
    "    \"\"\"\n",
    "    glat1 = lat * np.pi / 180.\n",
    "    glon1 = lon * np.pi / 180.\n",
    "    s = maxdist / 1.852\n",
    "    faz = azimuth * np.pi / 180.\n",
    " \n",
    "    EPS= 0.00000000005\n",
    "    if ((np.abs(np.cos(glat1))<EPS) and not (np.abs(np.sin(faz))<EPS)):\n",
    "        alert(\"Only N-S courses are meaningful, starting at a pole!\")\n",
    " \n",
    "    a=6378.13/1.852\n",
    "    f=1/298.257223563\n",
    "    r = 1 - f\n",
    "    tu = r * np.tan(glat1)\n",
    "    sf = np.sin(faz)\n",
    "    cf = np.cos(faz)\n",
    "    if (cf==0):\n",
    "        b=0.\n",
    "    else:\n",
    "        b=2. * np.arctan2 (tu, cf)\n",
    " \n",
    "    cu = 1. / np.sqrt(1 + tu * tu)\n",
    "    su = tu * cu\n",
    "    sa = cu * sf\n",
    "    c2a = 1 - sa * sa\n",
    "    x = 1. + np.sqrt(1. + c2a * (1. / (r * r) - 1.))\n",
    "    x = (x - 2.) / x\n",
    "    c = 1. - x\n",
    "    c = (x * x / 4. + 1.) / c\n",
    "    d = (0.375 * x * x - 1.) * x\n",
    "    tu = s / (r * a * c)\n",
    "    y = tu\n",
    "    c = y + 1\n",
    "    while (np.abs (y - c) > EPS):\n",
    " \n",
    "        sy = np.sin(y)\n",
    "        cy = np.cos(y)\n",
    "        cz = np.cos(b + y)\n",
    "        e = 2. * cz * cz - 1.\n",
    "        c = y\n",
    "        x = e * cy\n",
    "        y = e + e - 1.\n",
    "        y = (((sy * sy * 4. - 3.) * y * cz * d / 6. + x) *\n",
    "              d / 4. - cz) * sy * d + tu\n",
    " \n",
    "    b = cu * cy * cf - su * sy\n",
    "    c = r * np.sqrt(sa * sa + b * b)\n",
    "    d = su * cy + cu * sy * cf\n",
    "    glat2 = (np.arctan2(d, c) + np.pi) % (2*np.pi) - np.pi\n",
    "    c = cu * cy - su * sy * cf\n",
    "    x = np.arctan2(sy * sf, c)\n",
    "    c = ((-3. * c2a + 4.) * f + 4.) * c2a * f / 16.\n",
    "    d = ((e * cy * c + cz) * sy * c + y) * sa\n",
    "    glon2 = ((glon1 + x - (1. - c) * d * f + np.pi) % (2*np.pi)) - np.pi    \n",
    " \n",
    "    baz = (np.arctan2(sa, b) + np.pi) % (2 * np.pi)\n",
    " \n",
    "    glon2 *= 180./np.pi\n",
    "    glat2 *= 180./np.pi\n",
    "    baz *= 180./np.pi\n",
    " \n",
    "    return (glon2, glat2, baz)\n",
    "def equi(m, centerlon, centerlat, radius, *args, **kwargs):\n",
    "    glon1 = centerlon\n",
    "    glat1 = centerlat\n",
    "    X = []\n",
    "    Y = []\n",
    "    for azimuth in range(0, 360):\n",
    "        glon2, glat2, baz = shoot(glon1, glat1, azimuth, radius)\n",
    "        X.append(glon2)\n",
    "        Y.append(glat2)\n",
    "    X.append(X[0])\n",
    "    Y.append(Y[0])\n",
    " \n",
    "    #m.plot(X,Y,**kwargs) #Should work, but doesn't...\n",
    "    X,Y = m(X,Y)\n",
    "    plt.plot(X,Y,**kwargs)"
   ]
  },
  {
   "cell_type": "code",
   "execution_count": null,
   "metadata": {},
   "outputs": [],
   "source": [
    "fig = plt.figure(figsize=(11.7,8.3))\n",
    "#Custom adjust of the subplots\n",
    "plt.subplots_adjust(left=0.05,right=0.95,top=0.90,bottom=0.05,wspace=0.15,hspace=0.05)\n",
    "ax = plt.subplot(111)\n",
    " \n",
    "print(cpr_eddy_data_speed_radius[1],cpr_eddy_data_speed_radius_deg[1])\n",
    "#Let's create a basemap of the world\n",
    "m = Basemap(projection='merc', lat_0 = 45, lon_0 = -130,    resolution = 'l', area_thresh = 0.1,    \n",
    "              llcrnrlon=-180.25, llcrnrlat=30.0,urcrnrlon=-115.25, urcrnrlat=62.75)\n",
    "m.fillcontinents(color='coral',lake_color='white')\n",
    " \n",
    "x,y = m(clons,clats)\n",
    "m.plot(x, y, 'bo', markersize=.2)\n",
    "x,y = m(clons2,clats2)\n",
    "m.plot(x, y, 'ro', markersize=.2)\n",
    "\n",
    "for i in range(0,len(erads)):\n",
    "    centerlon = elons[i]\n",
    "    centerlat = elats[i]\n",
    "    radius = erads[i]\n",
    "    if abs(centerlon-erads2[i])<177:\n",
    "        equi(m, centerlon, centerlat, radius,lw=1.)\n",
    " \n",
    "plt.savefig(\"F:/data/eddy/figures/all_collocated_cpr_data3.pdf\",dpi=300)\n",
    " \n",
    "plt.show()"
   ]
  },
  {
   "cell_type": "code",
   "execution_count": null,
   "metadata": {},
   "outputs": [],
   "source": [
    "#make a list of eddy id that have two visits\n",
    "#make icheck have a 1 where trackid has more than two visits\n",
    "icheck=[]\n",
    "for i in range(0,len(cpr_sample_lat)):\n",
    "    if num_cross[i]>1:\n",
    "        itest=0\n",
    "        for i2 in range(0,len(icheck)):\n",
    "            if icheck[i2]==cpr_eddy_data_track_id[i]:\n",
    "                itest=1\n",
    "        if itest==0:\n",
    "            icheck.append(cpr_eddy_data_track_id[i])\n",
    "print(icheck)"
   ]
  },
  {
   "cell_type": "code",
   "execution_count": null,
   "metadata": {},
   "outputs": [],
   "source": [
    "#now just do for eddies that have 2 visits\n",
    "        \n",
    "for i_tem in range(0,len(icheck)):\n",
    "    tem_id=icheck[i_tem]\n",
    "\n",
    "    #get all lat/lon for specific eddy to pring\n",
    "    alats=[]\n",
    "    alons=[]\n",
    "    for i in range(0,len(lons_eddy)):\n",
    "        if tem_id==track_eddy[i]:\n",
    "            alats.append(lats_eddy[i])\n",
    "            if lons_eddy[i]<=180:\n",
    "                alons.append(lons_eddy[i])\n",
    "            if lons_eddy[i]>180:\n",
    "                alons.append(lons_eddy[i]-360)\n",
    "  \n",
    "    clats=[]\n",
    "    clons=[]\n",
    "    clats2=[]\n",
    "    clons2=[]\n",
    "    elats=[]\n",
    "    elons=[]\n",
    "    erads=[]\n",
    "    erads2=[]\n",
    "    for i in range(0,len(cpr_sample_lat)):\n",
    "        tem=cpr_sample_proc[i]\n",
    "        if cpr_sample_lon[i]>0:\n",
    "            continue\n",
    "        if cpr_eddy_data_distance[i]<=cpr_eddy_data_radius[i] \\\n",
    "            and tem=='Yes' and cpr_eddy_data_track_id[i]==tem_id:\n",
    "            clats.append(cpr_sample_lat[i])\n",
    "            clons.append(cpr_sample_lon[i])\n",
    "            elats.append(cpr_eddy_data_lats[i])\n",
    "            elons.append(cpr_eddy_data_lons2[i])\n",
    "            erads.append(cpr_eddy_data_speed_radius[i])\n",
    "            erads2.append(cpr_eddy_data_speed_radius_deg[i])\n",
    "        elif cpr_eddy_data_distance[i]<=cpr_eddy_data_radius[i] \\\n",
    "            and tem=='No' and cpr_eddy_data_track_id[i]==tem_id:\n",
    "            clats2.append(cpr_sample_lat[i])\n",
    "            clons2.append(cpr_sample_lon[i])\n",
    "            elats.append(cpr_eddy_data_lats[i])\n",
    "            elons.append(cpr_eddy_data_lons2[i])\n",
    "            erads.append(cpr_eddy_data_speed_radius[i])\n",
    "            erads2.append(cpr_eddy_data_speed_radius_deg[i])\n",
    "\n",
    "    if len(clons2)<1 and len(clats)<1:\n",
    "        continue\n",
    "    fig = plt.figure(figsize=(11.7,8.3))\n",
    "    #Custom adjust of the subplots\n",
    "    plt.subplots_adjust(left=0.05,right=0.95,top=0.90,bottom=0.05,wspace=0.15,hspace=0.05)\n",
    "    ax = plt.subplot(111)\n",
    "\n",
    "    print(cpr_eddy_data_speed_radius[1],cpr_eddy_data_speed_radius_deg[1])\n",
    "    #Let's create a basemap of the world\n",
    "    m = Basemap(projection='merc', lat_0 = 45, lon_0 = -130,    resolution = 'l', area_thresh = 0.1,    \n",
    "                  llcrnrlon=-180.25, llcrnrlat=30.0,urcrnrlon=-115.25, urcrnrlat=62.75)\n",
    "    m.fillcontinents(color='coral',lake_color='white')\n",
    "\n",
    "\n",
    "    x,y = m(clons,clats)\n",
    "    m.plot(x, y, 'bo', markersize=.2)\n",
    "    x,y = m(clons2,clats2)\n",
    "    m.plot(x, y, 'ro', markersize=.2)\n",
    "    x,y = m(alons,alats)\n",
    "    m.plot(x, y, 'k')\n",
    "\n",
    "    for i in range(0,len(erads)):\n",
    "        centerlon = elons[i]\n",
    "        centerlat = elats[i]\n",
    "        radius = erads[i]\n",
    "        if abs(centerlon-erads2[i])<177:\n",
    "            equi(m, centerlon, centerlat, radius,lw=1.)\n",
    "\n",
    " #   plt.show()\n",
    "    fig_fname=\"F:/data/eddy/figures/all_collocated_cpr_data_doubles\" + str(tem_id) + \".pdf\"\n",
    "    plt.savefig(fig_fname,dpi=300)\n",
    "    print(fig_fname)\n",
    "\n"
   ]
  },
  {
   "cell_type": "code",
   "execution_count": null,
   "metadata": {},
   "outputs": [],
   "source": [
    "print(len(alons))\n",
    "print(alons[1:200])"
   ]
  },
  {
   "cell_type": "code",
   "execution_count": null,
   "metadata": {},
   "outputs": [],
   "source": [
    "    for i in range(0,len(cpr_sample_lat)):\n",
    "        tem=cpr_sample_proc[i]\n",
    "        if cpr_eddy_data_track_id[i]==tem_id:\n",
    "            print(i,cpr_eddy_data_distance[i],cpr_eddy_data_radius[i],tem)\n",
    "print('clons2',clons2)\n",
    "print('clats2',clats2)\n",
    "print(len(clons))\n",
    "print('clons',clons)\n",
    "print('clats',clats)\n"
   ]
  },
  {
   "cell_type": "code",
   "execution_count": null,
   "metadata": {},
   "outputs": [],
   "source": [
    "filename='F:/data/eddy/collocated_data/All CPR Sample catalogue with eddy info4.nc'\n",
    "ds_eddy = xr.open_dataset(filename)\n",
    "ds_eddy"
   ]
  },
  {
   "cell_type": "code",
   "execution_count": null,
   "metadata": {},
   "outputs": [],
   "source": [
    "ds_eddy.cpr_sample_id[2].values\n",
    "print(type(ds_eddy))"
   ]
  },
  {
   "cell_type": "code",
   "execution_count": null,
   "metadata": {},
   "outputs": [],
   "source": [
    "fig, (ax1) = plt.subplots(nrows=1, figsize=(6, 5.4))\n",
    "#f = plt.figure()\n",
    "#map = Basemap(projection='merc', lat_0 = 45, lon_0 = -130,    resolution = 'l', area_thresh = 0.1,    \n",
    "#              llcrnrlon=-180.25, llcrnrlat=30.0,urcrnrlon=-115.25, urcrnrlat=62.75)\n",
    "#map.fillcontinents(color = 'coral')\n",
    "#x,y = map(ds_eddy.cpr_sample_lon.values,ds_eddy.cpr_sample_lat.values)\n",
    "d2=ds_eddy.where(ds_eddy.cpr_sample_lon<0)\n",
    "print(len(d2))\n",
    "print(type(d2))\n",
    "ax1.scatter(d2.cpr_sample_lon.values,d2.cpr_sample_lat.values, c = cpr_sample_depth_exact,s=1)\n",
    "#plt.scatter(ds_eddy.cpr_sample_lon.values,ds_eddy.cpr_sample_lat.values, c = ds_eddy.cpr_sample_ETOPO_depth.values)\n",
    "#plt.plot(ds_eddy.cpr_sample_lon.values[0:1000],ds_eddy.cpr_sample_ETOPO_depth.values[0:1000],'.')\n",
    "plt.show()\n",
    "f.savefig('F:/data/eddy/collocated_data/depth_image.png', transparent=False, format='png')\n"
   ]
  },
  {
   "cell_type": "code",
   "execution_count": null,
   "metadata": {},
   "outputs": [],
   "source": [
    "fig, (ax1) = plt.subplots(nrows=1, figsize=(6, 5.4))\n",
    "im = ax1.imshow(ds_topo.z[7000:9500,0:4500], interpolation='bilinear',vmin=-7000.0, vmax=1.0,aspect='auto',origin='lower')\n",
    "plt.show()\n"
   ]
  },
  {
   "cell_type": "code",
   "execution_count": null,
   "metadata": {},
   "outputs": [],
   "source": [
    "ds_eddy.cpr_sample_ETOPO_depth.values[0:10]"
   ]
  },
  {
   "cell_type": "code",
   "execution_count": null,
   "metadata": {},
   "outputs": [],
   "source": [
    "ds_eddy.cpr_sample_id[0:1000]"
   ]
  },
  {
   "cell_type": "code",
   "execution_count": null,
   "metadata": {},
   "outputs": [],
   "source": []
  },
  {
   "cell_type": "code",
   "execution_count": null,
   "metadata": {},
   "outputs": [],
   "source": []
  },
  {
   "cell_type": "code",
   "execution_count": null,
   "metadata": {},
   "outputs": [],
   "source": []
  }
 ],
 "metadata": {
  "kernelspec": {
   "display_name": "Python 3",
   "language": "python",
   "name": "python3"
  },
  "language_info": {
   "codemirror_mode": {
    "name": "ipython",
    "version": 3
   },
   "file_extension": ".py",
   "mimetype": "text/x-python",
   "name": "python",
   "nbconvert_exporter": "python",
   "pygments_lexer": "ipython3",
   "version": "3.7.6"
  }
 },
 "nbformat": 4,
 "nbformat_minor": 2
}
