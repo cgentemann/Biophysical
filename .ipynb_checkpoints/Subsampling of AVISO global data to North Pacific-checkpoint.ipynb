{
 "cells": [
  {
   "cell_type": "code",
   "execution_count": 29,
   "metadata": {},
   "outputs": [],
   "source": [
    "#import directory and netcdf libs\n",
    "import datetime as dt\n",
    "from datetime import datetime\n",
    "from netCDF4 import Dataset  # http://code.google.com/p/netcdf4-python/\n",
    "import pandas\n",
    "import matplotlib.pyplot as plt\n",
    "import numpy as np\n",
    "import xarray as xr\n",
    "#import plotly\n",
    "#import plotly.plotly as py\n",
    "#from plotly.graph_objs import *\n",
    "#!pip install geopy  #to install geopy use !pip install geopy but only run once\n",
    "from geopy.distance import geodesic \n",
    "#set plotly credentials\n",
    "#plotly.tools.set_credentials_file(username='cgentemann', api_key='7uYsbupVsAjAScD0Hb0O')\n",
    "\n",
    "####################you will need to change some paths here!#####################\n",
    "#list of input files\n",
    "filename_aviso='f:/data/project_data/NASA_biophysical/aviso/eddy_trajectory_19930101_20170106.nc'   #From AVISO  website\n",
    "filename_cpr='f:/data/project_data/NASA_biophysical/cpr_data/All CPR Sample catalogue.xlsx'\n",
    "filename_distance_land='f:/data/sat_data/distance_to_land_25km.nc' \n",
    "#list of output files\n",
    "filename_northpac_eddies='f:/data/project_data/NASA_biophysical/aviso/eddy_trajectory_19930101_20170106_north_pacific_2020_10_06.nc'\n",
    "filename_cpr_eddy='f:/data/project_data/NASA_biophysical/collocated_data/cpr/eddy_cpr_data_north_pacific_2020_10_06.nc'\n",
    "filename_eddy='f:/data/project_data/NASA_biophysical/collocated_data/cpr/eddy_ranking_data_north_pacific_2020_10_06.nc'\n",
    "#################################################################################\n",
    "\n"
   ]
  },
  {
   "cell_type": "code",
   "execution_count": 7,
   "metadata": {},
   "outputs": [
    {
     "name": "stdout",
     "output_type": "stream",
     "text": [
      "total number of eddies in database: 23086878\n"
     ]
    }
   ],
   "source": [
    "#open the netcdf file full eddy database from AVISO\n",
    "nc_fid = Dataset(filename_aviso, 'r')  \n",
    "# Extract data from NetCDF file\n",
    "time = nc_fid.variables['time'][:]\n",
    "lats = nc_fid.variables['latitude'][:]  \n",
    "lons = nc_fid.variables['longitude'][:]\n",
    "speed_average = nc_fid.variables['speed_average'][:]\n",
    "amplitude = nc_fid.variables['amplitude'][:]\n",
    "speed_radius = nc_fid.variables['speed_radius'][:]\n",
    "cyclonic_type = nc_fid.variables['cyclonic_type'][:]\n",
    "track = nc_fid.variables['track'][:]   #eddy identification number  0 - 272045\n",
    "observation_number = nc_fid.variables['observation_number'][:]\n",
    "nc_fid.close()\n",
    "max_eddy_index=len(track)  \n",
    "print('total number of eddies in database:',max_eddy_index)\n"
   ]
  },
  {
   "cell_type": "code",
   "execution_count": 8,
   "metadata": {
    "scrolled": false
   },
   "outputs": [
    {
     "name": "stdout",
     "output_type": "stream",
     "text": [
      "1993 1\n",
      "1993 2\n",
      "1993 3\n",
      "1993 4\n",
      "1993 5\n",
      "max and min lons 359.999 0.0\n"
     ]
    }
   ],
   "source": [
    "#use datetime delta feature to find year and day\n",
    "#make sure lon is 0-360 for collocations since we are doing north pacific & cross dateline\n",
    "date_1950 = dt.datetime(1950,1,1,0,0,0) # start date is 1/1/1950\n",
    "year=[0] * (max_eddy_index)\n",
    "idayjl=[0] * (max_eddy_index)\n",
    "for t in range(0,max_eddy_index):\n",
    "    tem_date=date_1950+dt.timedelta(days=float(time[t]))  #create new time array that can be queried for year etc\n",
    "    year[t]=tem_date.year\n",
    "    idayjl[t]=tem_date.timetuple().tm_yday\n",
    "    if lons[t] < -180.:\n",
    "        lons[t]=lons[t]+360.\n",
    "    if t < 5:\n",
    "        print(year[t],idayjl[t])   \n",
    "print('max and min lons', max(lons), min(lons))"
   ]
  },
  {
   "cell_type": "code",
   "execution_count": 9,
   "metadata": {
    "scrolled": true
   },
   "outputs": [
    {
     "name": "stdout",
     "output_type": "stream",
     "text": [
      "total number of eddies in north pacific 16023 272046\n"
     ]
    }
   ],
   "source": [
    "# this code identifies the eddies that have any data in 2000 to 2017 in the north pacific region\n",
    "# the code sorts by eddy identification number after this so that if an eddy just passes through the north pacific\n",
    "# we still save all the eddy location and time information\n",
    "\n",
    "#find the maximum eddy identification integer\n",
    "max_eddy_identification=max(track)\n",
    "#create an array with 0/1 flag 0= default; 1 = it was in region of interest\n",
    "npac_eddy=[0] * (max_eddy_identification+1)\n",
    "for index in range(0,max_eddy_index):\n",
    "    if year[index]>=2000 and lats[index]>=33 and (lons[index]>=140 and lons[index]<=245):\n",
    "        index_npac=track[index]\n",
    "        npac_eddy[index_npac]=1    #the array npac_eddy now has 1 if that eddy was in north pacific'\n",
    "print('total number of eddies in north pacific',sum(npac_eddy),len(npac_eddy))\n",
    "\n"
   ]
  },
  {
   "cell_type": "code",
   "execution_count": 10,
   "metadata": {},
   "outputs": [
    {
     "name": "stdout",
     "output_type": "stream",
     "text": [
      "0 0\n"
     ]
    }
   ],
   "source": [
    "#create a new dataset where you only have eddies from ones that are in the north pacific after 2000\n",
    "print(npac_eddy[0],npac_eddy[272045-1])\n",
    "time_new=[]\n",
    "lats_new=[]\n",
    "lons_new=[]\n",
    "amplitude_new=[]\n",
    "speed_radius_new=[]\n",
    "speed_average_new=[]\n",
    "cyclonic_type_new=[]\n",
    "track_new=[]\n",
    "observation_number_new=[]\n",
    "year_new=[]\n",
    "idayjl_new=[]\n",
    "for index in range(0,max_eddy_index):\n",
    "    index_npac=track[index]  #check the track id for the eddy & if it is in north pacific\n",
    "    if index_npac>272045:\n",
    "        print(index_npac)\n",
    "    if npac_eddy[index_npac]==1:\n",
    "        time_new.append(time[index])\n",
    "        lats_new.append(lats[index])\n",
    "        lons_new.append(lons[index])\n",
    "        amplitude_new.append(amplitude[index])\n",
    "        speed_average_new.append(speed_average[index])\n",
    "        speed_radius_new.append(speed_radius[index])\n",
    "        cyclonic_type_new.append(cyclonic_type[index])\n",
    "        track_new.append(track[index])\n",
    "        observation_number_new.append(observation_number[index])\n",
    "        year_new.append(year[index])\n",
    "        idayjl_new.append(idayjl[index])\n",
    "        "
   ]
  },
  {
   "cell_type": "code",
   "execution_count": 11,
   "metadata": {},
   "outputs": [
    {
     "name": "stdout",
     "output_type": "stream",
     "text": [
      "1514261\n"
     ]
    }
   ],
   "source": [
    "print(len(time_new))"
   ]
  },
  {
   "cell_type": "code",
   "execution_count": 13,
   "metadata": {},
   "outputs": [
    {
     "name": "stdout",
     "output_type": "stream",
     "text": [
      "272035\n"
     ]
    }
   ],
   "source": [
    "#eddy_id is from AVISO so it starts at 79110 and goes to 272035 but not\n",
    "#sequentially since I downsampled the data.  Here I calucalte a new eddy\n",
    "#index that goes from 1 to N sequentially\n",
    "#this isn't used here, but could be used to go through all the eddies\n",
    "\n",
    "#first go through data and save a new eddy id for each first observation\n",
    "ilen_eddy=len(lons_new)\n",
    "track_npac=0\n",
    "print(max(track_new))\n",
    "track_npac_new=[0] * (max(track_new)+1)\n",
    "track_npac_new_array=[0] * (ilen_eddy+1)\n",
    "for index in range(0,ilen_eddy):\n",
    "    if observation_number_new[index]==0:\n",
    "        track_npac=track_npac+1\n",
    "        track_npac_new[track_new[index]]=track_npac\n",
    "max_new_eddy_number = track_npac\n",
    "new_length_eddy = [0] * (max_new_eddy_number+1)\n",
    "#now go through data and assign new track id for all observations\n",
    "for index in range(0,ilen_eddy):\n",
    "    itrack=track_npac_new[track_new[index]]\n",
    "    track_npac_new_array[index]=itrack\n",
    "#find all the eddies that match new eddy number to determine length of each eddy\n",
    "for ieddy_num in range(1,max_new_eddy_number):\n",
    "    new_list=[index for index, x in enumerate(track_npac_new_array) if x==ieddy_num] \n",
    "    new_length_eddy[ieddy_num]=len(new_list)"
   ]
  },
  {
   "cell_type": "code",
   "execution_count": 14,
   "metadata": {},
   "outputs": [
    {
     "name": "stdout",
     "output_type": "stream",
     "text": [
      "done\n"
     ]
    }
   ],
   "source": [
    "track_npac_new_array_length=[0]*(ilen_eddy)\n",
    "for index in range(0,ilen_eddy):\n",
    "    ieddy=track_npac_new_array[index]\n",
    "    ilen=new_length_eddy[ieddy]\n",
    "    track_npac_new_array_length[index]=ilen\n",
    "print('done')"
   ]
  },
  {
   "cell_type": "code",
   "execution_count": null,
   "metadata": {},
   "outputs": [],
   "source": [
    "da = xr.DataArray(lons_new, dims=('z'))\n",
    "ds = xr.Dataset({'Longitude':lons_new})\n",
    "ds['Latitude']=xr.DataArray(lats_new, dims=('z'))\n",
    "ds['time']=xr.DataArray(time_new, dims=('z'))\n",
    "ds['amplitude']=xr.DataArray(amplitude_new, dims=('z'))\n",
    "ds['speed_average']=xr.DataArray(speed_average_new, dims=('z'))\n",
    "ds['speed_radius']=xr.DataArray(speed_radius_new, dims=('z'))\n",
    "ds['cyclonic_type']=xr.DataArray(, dims=('z'))\n",
    "ds['track']=xr.DataArray(, dims=('z'))\n",
    "ds['track_total_days']=xr.DataArray(, dims=('z'))\n",
    "ds['observation_number']=xr.DataArray(, dims=('z'))\n",
    "ds['year']=xr.DataArray(, dims=('z'))\n",
    "ds['idyjl']=xr.DataArray(, dims=('z'))\n"
   ]
  },
  {
   "cell_type": "code",
   "execution_count": 19,
   "metadata": {},
   "outputs": [],
   "source": [
    "inum_obs=len(idayjl_new)\n",
    "\n",
    "f = Dataset(filename_northpac_eddies,'w', format='NETCDF4') \n",
    "#tempgrp = f.createGroup('Eddy_data')\n",
    "f.createDimension('z', inum_obs)\n",
    "lons_netcdf = f.createVariable('Longitude', 'f4', 'z')\n",
    "lats_netcdf = f.createVariable('Latitude', 'f4', 'z')  \n",
    "time_netcdf = f.createVariable('time', 'i4', 'z')\n",
    "amplitude_netcdf = f.createVariable('amplitude', 'f4', 'z')\n",
    "speed_average_netcdf = f.createVariable('speed_average', 'f4', 'z')\n",
    "speed_radius_netcdf = f.createVariable('speed_radius', 'f4', 'z')\n",
    "cyclonic_type_netcdf = f.createVariable('cyclonic_type', 'i4', 'z')\n",
    "track_netcdf = f.createVariable('track', 'i4', 'z')\n",
    "track_days_netcdf = f.createVariable('track_total_days', 'i4', 'z')\n",
    "observation_number_netcdf = f.createVariable('observation_number', 'i2', 'z')\n",
    "year_netcdf = f.createVariable('year', 'f4', 'z')\n",
    "idayjl_netcdf = f.createVariable('idayjl', 'f4', 'z')\n",
    "lons_netcdf[:] = lons_new\n",
    "lats_netcdf[:] = lats_new\n",
    "time_netcdf[:] = time_new\n",
    "amplitude_netcdf[:] = amplitude_new\n",
    "cyclonic_type_netcdf[:] = cyclonic_type_new\n",
    "speed_average_netcdf[:] = speed_average_new\n",
    "speed_radius_netcdf[:] = speed_radius_new\n",
    "track_netcdf[:] = track_new\n",
    "observation_number_netcdf[:] = observation_number_new\n",
    "year_netcdf[:] =year_new\n",
    "idayjl_netcdf[:] = idayjl_new\n",
    "track_days_netcdf[:]=track_npac_new_array_length\n",
    "lons_netcdf.units = 'degrees east'\n",
    "lats_netcdf.units = 'degrees north'\n",
    "time_netcdf.units = 'days since 1950-01-01 00:00:00 UTC'\n",
    "amplitude_netcdf.units = 'cm'\n",
    "speed_average_netcdf.units = 'cm/s'\n",
    "speed_radius_netcdf.units = 'km'\n",
    "cyclonic_type_netcdf.units = 'cyclonic -1; anti-cyclonic +1'\n",
    "track_netcdf.units = 'eddy identification number'\n",
    "track_days_netcdf.units = 'total number of days eddy identified'\n",
    "observation_number_netcdf.units = 'observation sequence number, days from start'\n",
    "f.close()"
   ]
  },
  {
   "cell_type": "code",
   "execution_count": 20,
   "metadata": {},
   "outputs": [
    {
     "data": {
      "text/html": [
       "<pre>&lt;xarray.Dataset&gt;\n",
       "Dimensions:             (z: 1514261)\n",
       "Dimensions without coordinates: z\n",
       "Data variables:\n",
       "    Longitude           (z) float32 ...\n",
       "    Latitude            (z) float32 ...\n",
       "    time                (z) datetime64[ns] ...\n",
       "    amplitude           (z) float32 ...\n",
       "    speed_average       (z) float32 ...\n",
       "    speed_radius        (z) float32 ...\n",
       "    cyclonic_type       (z) int32 ...\n",
       "    track               (z) int32 ...\n",
       "    track_total_days    (z) int32 ...\n",
       "    observation_number  (z) int16 ...\n",
       "    year                (z) float32 ...\n",
       "    idayjl              (z) float32 ...</pre>"
      ],
      "text/plain": [
       "<xarray.Dataset>\n",
       "Dimensions:             (z: 1514261)\n",
       "Dimensions without coordinates: z\n",
       "Data variables:\n",
       "    Longitude           (z) float32 ...\n",
       "    Latitude            (z) float32 ...\n",
       "    time                (z) datetime64[ns] ...\n",
       "    amplitude           (z) float32 ...\n",
       "    speed_average       (z) float32 ...\n",
       "    speed_radius        (z) float32 ...\n",
       "    cyclonic_type       (z) int32 ...\n",
       "    track               (z) int32 ...\n",
       "    track_total_days    (z) int32 ...\n",
       "    observation_number  (z) int16 ...\n",
       "    year                (z) float32 ...\n",
       "    idayjl              (z) float32 ..."
      ]
     },
     "execution_count": 20,
     "metadata": {},
     "output_type": "execute_result"
    }
   ],
   "source": [
    "ds = xr.open_dataset(filename_northpac_eddies)\n",
    "ds.close()\n",
    "ds"
   ]
  },
  {
   "cell_type": "code",
   "execution_count": 22,
   "metadata": {},
   "outputs": [
    {
     "name": "stdout",
     "output_type": "stream",
     "text": [
      "Index(['Sample ID', 'day', 'month', 'year', 'lat', 'Long',\n",
      "       'Already processed?'],\n",
      "      dtype='object')\n"
     ]
    }
   ],
   "source": [
    "#read in CPR data excell file using pandas library\n",
    "df = pandas.read_excel(filename_cpr)\n",
    "#print the column names\n",
    "print(df.columns)\n",
    "#get the values for a given column\n",
    "cpr_sample_id = df['Sample ID'].values\n",
    "cpr_sample_day = df['day'].values\n",
    "cpr_sample_month = df['month'].values\n",
    "cpr_sample_year = df['year'].values\n",
    "cpr_sample_lat = df['lat'].values\n",
    "cpr_sample_lon = df['Long'].values\n",
    "cpr_sample_proc = df['Already processed?'].values"
   ]
  },
  {
   "cell_type": "code",
   "execution_count": 23,
   "metadata": {},
   "outputs": [],
   "source": [
    "ilen_cpr=len(cpr_sample_proc)\n",
    "cpr_sample_jday=[0] * (ilen_cpr)\n",
    "for index in range(0,ilen_cpr):\n",
    "    tem_time = dt.datetime(cpr_sample_year[index],cpr_sample_month[index],cpr_sample_day[index])\n",
    "    tt = tem_time.timetuple()\n",
    "    cpr_sample_jday[index]=tt.tm_yday\n",
    "    #print(cpr_sample_jday[index],cpr_sample_month[index],cpr_sample_day[index])"
   ]
  },
  {
   "cell_type": "code",
   "execution_count": 24,
   "metadata": {},
   "outputs": [
    {
     "name": "stdout",
     "output_type": "stream",
     "text": [
      "23306\n",
      "['Yes' 'No' 'No' 'No' 'Yes']\n",
      "143.94296666666665 241.62925\n"
     ]
    }
   ],
   "source": [
    "ilen_cpr=len(cpr_sample_proc)\n",
    "print(len(cpr_sample_proc))\n",
    "#change lon -180 180 to 0 360\n",
    "for index in range(0,ilen_cpr):\n",
    "    if cpr_sample_lon[index]<0.:\n",
    "        cpr_sample_lon[index]=cpr_sample_lon[index]+360.\n",
    "ilen_eddy=len(lons_new)\n",
    "for index in range(0,ilen_eddy):\n",
    "    if lons_new[index]<.0:\n",
    "        lons_new[index]=lons_new[index]+360.\n",
    "if cpr_sample_proc[0]=='Yes':\n",
    "    print(cpr_sample_proc[0:5])\n",
    "print(min(cpr_sample_lon),max(cpr_sample_lon))"
   ]
  },
  {
   "cell_type": "code",
   "execution_count": 30,
   "metadata": {},
   "outputs": [
    {
     "name": "stdout",
     "output_type": "stream",
     "text": [
      "143.94296666666665 241.62925\n",
      "<class 'numpy.ma.core.MaskedArray'>\n",
      "(720, 1440)\n",
      "2606.019287109375\n",
      "23306 23306\n"
     ]
    }
   ],
   "source": [
    "#read in distance from land file and calculate all the cpr data distance from land  \n",
    "nc_fid = Dataset(filename_distance_land, 'r')  \n",
    "# Extract data from NetCDF file\n",
    "distance_to_land_km = nc_fid.variables['dist_land'][:]\n",
    "nc_fid.close()\n",
    "print(min(cpr_sample_lon),max(cpr_sample_lon))\n",
    "print(type(distance_to_land_km))\n",
    "print(distance_to_land_km.shape)\n",
    "print(distance_to_land_km[160][200])  #checked == to dist_land(201,161) in matlab\n",
    "#lon goes from -180 to 180\n",
    "cpr_dist_from_land=[0]*(ilen_cpr)\n",
    "print(len(cpr_sample_lon),ilen_cpr)\n",
    "for index in range(0,ilen_cpr):\n",
    "    lon_tem=cpr_sample_lon[index]\n",
    "    if lon_tem>180:\n",
    "        lon_tem=lon_tem-360.\n",
    "    ilon=int(round((lon_tem-179.875)/.25))\n",
    "    ilat=int(round((cpr_sample_lat[index]+89.875)/.25))\n",
    "    if ilon>1440:\n",
    "        print(ilon,ilat,type(ilon),type(ilat))\n",
    "        print(cpr_sample_lon[index])\n",
    "    if ilon<0:\n",
    "        ilon=ilon+1440\n",
    "    #print(ilon,ilat,distance_to_land_km[ilat][ilon])\n",
    "    cpr_dist_from_land[index]=distance_to_land_km[ilat][ilon]\n",
    "#print(cpr_dist_from_land[0:10])"
   ]
  },
  {
   "cell_type": "code",
   "execution_count": 31,
   "metadata": {},
   "outputs": [
    {
     "name": "stdout",
     "output_type": "stream",
     "text": [
      "[34.62166667 34.76666667 34.91166667]\n",
      "[50.5142, 50.4552, 50.4967]\n"
     ]
    }
   ],
   "source": [
    "print(cpr_sample_lat[0:3])\n",
    "print(lats_new[0:3])"
   ]
  },
  {
   "cell_type": "code",
   "execution_count": 33,
   "metadata": {},
   "outputs": [
    {
     "name": "stdout",
     "output_type": "stream",
     "text": [
      "23306 1514261\n"
     ]
    },
    {
     "name": "stderr",
     "output_type": "stream",
     "text": [
      "C:\\Users\\gentemann\\Miniconda3\\envs\\satenv\\lib\\site-packages\\ipykernel_launcher.py:14: DeprecationWarning: Vincenty is deprecated and is going to be removed in geopy 2.0. Use `geopy.distance.geodesic` (or the default `geopy.distance.distance`) instead, which is more accurate and always converges.\n",
      "  \n"
     ]
    },
    {
     "name": "stdout",
     "output_type": "stream",
     "text": [
      "[31980, 31980, 26200, 32925, 32925]\n",
      "[196.64671409652559, 209.7049695641839, 221.49094760404344, 213.3836033430838, 198.97979399482097]\n",
      "[101.72, 101.72, 69.8102, 52.924, 52.924]\n"
     ]
    }
   ],
   "source": [
    "import geopy\n",
    "## print(len(cpr_sample_lat),ilen_cpr)\n",
    "#print(len(lats_new),ilen_eddy)\n",
    "save_eddy_index=[0] * (ilen_cpr)\n",
    "save_eddy_distance=[0] * (ilen_cpr)\n",
    "save_eddy_radius=[0] * (ilen_cpr)\n",
    "print(ilen_cpr,ilen_eddy)\n",
    "for index_cpr in range(0,ilen_cpr):\n",
    "    arclen_to_eddy=100000  #set to a high value\n",
    "    for index_eddy in range(0,ilen_eddy):\n",
    "        if cpr_sample_year[index_cpr]==year_new[index_eddy] and cpr_sample_jday[index_cpr]==idayjl_new[index_eddy]:\n",
    "            coords_1 = (cpr_sample_lat[index_cpr], cpr_sample_lon[index_cpr])  #cpr sample location\n",
    "            coords_2 = (lats_new[index_eddy], lons_new[index_eddy])  #eddy location\n",
    "            arclen_temp = geopy.distance.vincenty(coords_1, coords_2).km\n",
    "            if arclen_temp<arclen_to_eddy:\n",
    "                arclen_to_eddy=arclen_temp\n",
    "                save_eddy_index[index_cpr]=index_eddy\n",
    "                save_eddy_distance[index_cpr]=arclen_temp\n",
    "                save_eddy_radius[index_cpr]=speed_radius_new[index_eddy]  \n",
    "#                save_observation_number[index_cpr]=observation_number_new[index_eddy]\n",
    "    index_eddy=save_eddy_index[index_cpr]\n",
    "    #print(cpr_sample_day[index_cpr],idayjl_new[index_eddy],index_eddy)\n",
    "print(save_eddy_index[0:5])\n",
    "print(save_eddy_distance[0:5])\n",
    "print(save_eddy_radius[0:5])"
   ]
  },
  {
   "cell_type": "code",
   "execution_count": 34,
   "metadata": {},
   "outputs": [],
   "source": [
    "save_total_number_eddy_days=[0] * (ilen_cpr)\n",
    "save_total_number_cruises=[0] * (ilen_cpr)\n",
    "for index_cpr in range(0,ilen_cpr):\n",
    "    index_eddy=save_eddy_index[index_cpr] #get eddy index\n",
    "    track_id=track_new[index_eddy]          #get eddy track id\n",
    "    #search full N.Pac eddy archive for days\n",
    "    indices = [i for i, x in enumerate(track_new) if x==track_id]\n",
    "    save_total_number_eddy_days[index_cpr]=len(indices)\n",
    "    #for i in range(0,len(indices)):\n",
    "    #    print(year_new[indices[i]])\n",
    "    #now indices has all the times the cpr data crossed this eddy\n",
    "    tem_data=[0]*len(indices)\n",
    "    for ind in range(0,len(indices)):\n",
    "        ind2=indices[ind]\n",
    "        tem_data[ind]=year_new[ind2]\n",
    "    for lyr in range(2000,2018):\n",
    "        #year_array=year_new[indices]\n",
    "        indices = [i for i, x in enumerate(tem_data) if x==lyr]\n",
    "        if len(indices)>0:\n",
    "            save_total_number_cruises[index_cpr]= \\\n",
    "            save_total_number_cruises[index_cpr]+1"
   ]
  },
  {
   "cell_type": "code",
   "execution_count": 35,
   "metadata": {},
   "outputs": [
    {
     "name": "stdout",
     "output_type": "stream",
     "text": [
      "271948\n",
      "[83695, 82825, 83762, 82512, 83731, 83455, 83183, 82714, 83837, 82637]\n"
     ]
    },
    {
     "ename": "PermissionError",
     "evalue": "[Errno 13] Permission denied: b'F:\\\\data\\\\eddy\\\\eddy_randing_data_north_pacific.nc'",
     "output_type": "error",
     "traceback": [
      "\u001b[1;31m---------------------------------------------------------------------------\u001b[0m",
      "\u001b[1;31mPermissionError\u001b[0m                           Traceback (most recent call last)",
      "\u001b[1;32m<ipython-input-35-0fd698d34185>\u001b[0m in \u001b[0;36m<module>\u001b[1;34m\u001b[0m\n\u001b[0;32m     32\u001b[0m \u001b[1;31m#output a file to go along with cpr unique eddy info\u001b[0m\u001b[1;33m\u001b[0m\u001b[1;33m\u001b[0m\u001b[1;33m\u001b[0m\u001b[0m\n\u001b[0;32m     33\u001b[0m \u001b[0mfilename_eddy\u001b[0m\u001b[1;33m=\u001b[0m\u001b[1;34m'F:\\data\\eddy\\eddy_randing_data_north_pacific.nc'\u001b[0m\u001b[1;33m\u001b[0m\u001b[1;33m\u001b[0m\u001b[0m\n\u001b[1;32m---> 34\u001b[1;33m \u001b[0mf\u001b[0m \u001b[1;33m=\u001b[0m \u001b[0mDataset\u001b[0m\u001b[1;33m(\u001b[0m\u001b[0mfilename_eddy\u001b[0m\u001b[1;33m,\u001b[0m\u001b[1;34m'w'\u001b[0m\u001b[1;33m,\u001b[0m \u001b[0mformat\u001b[0m\u001b[1;33m=\u001b[0m\u001b[1;34m'NETCDF4'\u001b[0m\u001b[1;33m)\u001b[0m \u001b[1;31m#'w' stands for write\u001b[0m\u001b[1;33m\u001b[0m\u001b[1;33m\u001b[0m\u001b[0m\n\u001b[0m\u001b[0;32m     35\u001b[0m \u001b[1;31m#tempgrp = f.createGroup('eddy_data')\u001b[0m\u001b[1;33m\u001b[0m\u001b[1;33m\u001b[0m\u001b[1;33m\u001b[0m\u001b[0m\n\u001b[0;32m     36\u001b[0m \u001b[0mf\u001b[0m\u001b[1;33m.\u001b[0m\u001b[0mcreateDimension\u001b[0m\u001b[1;33m(\u001b[0m\u001b[1;34m'z'\u001b[0m\u001b[1;33m,\u001b[0m \u001b[0milen\u001b[0m\u001b[1;33m)\u001b[0m\u001b[1;33m\u001b[0m\u001b[1;33m\u001b[0m\u001b[0m\n",
      "\u001b[1;32mnetCDF4\\_netCDF4.pyx\u001b[0m in \u001b[0;36mnetCDF4._netCDF4.Dataset.__init__\u001b[1;34m()\u001b[0m\n",
      "\u001b[1;32mnetCDF4\\_netCDF4.pyx\u001b[0m in \u001b[0;36mnetCDF4._netCDF4._ensure_nc_success\u001b[1;34m()\u001b[0m\n",
      "\u001b[1;31mPermissionError\u001b[0m: [Errno 13] Permission denied: b'F:\\\\data\\\\eddy\\\\eddy_randing_data_north_pacific.nc'"
     ]
    }
   ],
   "source": [
    "#create cpr list of eddy track id\n",
    "save_eddy_track=[0]*ilen_cpr\n",
    "for index_cpr in range(0,ilen_cpr):\n",
    "    index_eddy=save_eddy_index[index_cpr] #get eddy index\n",
    "    track_id=track_new[index_eddy]          #get eddy track id\n",
    "    save_eddy_track[index_cpr]=track_id\n",
    "#now file unique track id\n",
    "print(max(save_eddy_track))\n",
    "cpr_unique_eddy=[0]\n",
    "cpr_unique_eddy_index_cpr=[0]\n",
    "cpr_unique_eddy_flag_array=[0]*(max(save_eddy_track)+1)\n",
    "for index_cpr in range(0,ilen_cpr):\n",
    "    track_id=save_eddy_track[index_cpr]   #get eddy index\n",
    "    if cpr_unique_eddy_flag_array[track_id]==0:\n",
    "        cpr_unique_eddy.append(track_id)\n",
    "        cpr_unique_eddy_index_cpr.append(index_cpr)\n",
    "        cpr_unique_eddy_flag_array[track_id]=1\n",
    "    else:\n",
    "        cpr_unique_eddy_flag_array[track_id]=cpr_unique_eddy_flag_array[track_id]+1\n",
    "ilen=len(cpr_unique_eddy)\n",
    "cpr_unique_eddy=cpr_unique_eddy[1:ilen+1]\n",
    "cpr_unique_eddy_index_cpr=cpr_unique_eddy_index_cpr[1:ilen+1]\n",
    "print(cpr_unique_eddy[0:10])\n",
    "#now in cpr_unique_eddy is a list of all the unique eddy tha tthe cpr data colloates with\n",
    "#now get all sorts of info about the eddy to help distingish what we want to look at\n",
    "ilen=len(cpr_unique_eddy)\n",
    "cpr_unique_eddy_collocations=[0]*ilen\n",
    "for index in range(0,ilen):\n",
    "    track_id=cpr_unique_eddy[index]\n",
    "    index_cpr=cpr_unique_eddy_index_cpr[index]\n",
    "    cpr_unique_eddy_collocations[index]=cpr_unique_eddy_flag_array[track_id]\n",
    "#output a file to go along with cpr unique eddy info\n",
    "filename_eddy='F:\\data\\eddy\\eddy_randing_data_north_pacific.nc'\n",
    "f = Dataset(filename_eddy,'w', format='NETCDF4') #'w' stands for write\n",
    "#tempgrp = f.createGroup('eddy_data')\n",
    "f.createDimension('z', ilen)\n",
    "lons_netcdf = f.createVariable('cpr_unique_eddy_collocations', 'i4', 'z')\n",
    "lats_netcdf = f.createVariable('cpr_unique_eddy', 'i4', 'z')  \n",
    "time_netcdf = f.createVariable('cpr_unique_eddy_index_cpr', 'i4', 'z')\n",
    "lons_netcdf[:] = cpr_unique_eddy_collocations\n",
    "lats_netcdf[:] = cpr_unique_eddy\n",
    "time_netcdf[:] = cpr_unique_eddy_index_cpr\n",
    "lons_netcdf.units = 'eddy number of cpr collocations'\n",
    "lats_netcdf.units = 'unique eddy track id'\n",
    "time_netcdf.units = 'cpr index for eddy id'\n",
    "f.close()"
   ]
  },
  {
   "cell_type": "code",
   "execution_count": null,
   "metadata": {},
   "outputs": [],
   "source": [
    "#output a file to go along with cpr data in netcdf\n",
    "#file contains the collocated eddy index, distance, and radius, distance from land\n",
    "f = Dataset(filename_cpr_eddy,'w', format='NETCDF4') #'w' stands for write\n",
    "#tempgrp = f.createGroup('CPR_data')\n",
    "f.createDimension('z', ilen_cpr)\n",
    "lons_netcdf = f.createVariable('save_eddy_index', 'i4', 'z')\n",
    "lats_netcdf = f.createVariable('save_eddy_distance', 'f4', 'z')  \n",
    "time_netcdf = f.createVariable('save_eddy_radius', 'f4', 'z')\n",
    "dlnd_netcdf = f.createVariable('cpr_dist_from_land', 'f4', 'z')\n",
    "lons_netcdf[:] = save_eddy_index\n",
    "lats_netcdf[:] = save_eddy_distance\n",
    "time_netcdf[:] = save_eddy_radius\n",
    "dlnd_netcdf[:] = cpr_dist_from_land\n",
    "lons_netcdf.units = 'eddy index number'\n",
    "lats_netcdf.units = 'distance to eddy in km'\n",
    "time_netcdf.units = 'radius of eddy in km'\n",
    "dlnd_netcdf.units = 'distance from land in km'\n",
    "f.close()"
   ]
  },
  {
   "cell_type": "code",
   "execution_count": null,
   "metadata": {},
   "outputs": [],
   "source": [
    "print(save_eddy_index[0:2],cpr_dist_from_land[0:2])\n",
    "print(save_eddy_distance[0:2],save_eddy_radius[0:2])"
   ]
  },
  {
   "cell_type": "code",
   "execution_count": null,
   "metadata": {},
   "outputs": [],
   "source": [
    "#plt.hist(amplitude_new)\n",
    "#plt.title(\"\")\n",
    "#plt.xlabel(\"Value\")\n",
    "#plt.ylabel(\"Frequency\")\n",
    "#fig = plt.gcf()\n",
    "#plot_url = py.plot_mpl(fig, filename='mpl-basic-histogram')\n",
    "# the histogram of the data\n",
    "#n, bins, patches = plt.hist(amplitude_new, 50, normed=1, facecolor='green', alpha=0.75)\n",
    "# add a 'best fit' line\n",
    "#print(type(bins))\n",
    "# the histogram of the data with histtype='step'\n",
    "n, bins, patches = plt.hist(amplitude_new, 50, normed=1, histtype='stepfilled')\n",
    "plt.setp(patches, 'facecolor', 'g', 'alpha', 0.75)\n",
    "# add a line showing the expected distribution\n",
    "l = plt.plot(bins)\n",
    "plt.show()\n",
    "\n",
    "#pyplot.set_cmap('hot')\n",
    "\n",
    "#layout = Layout(title=\"Eddy Amplitude Histogram\",\n",
    "#                xaxis=dict(title='Eddy Amplitude (cm)'),\n",
    "#                yaxis=dict(title='Eddy Radius (km)'))\n",
    "#fig = Figure(data=data, layout=layout)\n",
    "#py.iplot(data, filename='basic_bar')\n",
    "#create a table\n",
    "#table = ff.create_table(df)\n",
    "#py.iplot(table, filename='jupyter/table1')\n",
    "\n",
    "\n",
    "#for index_cpr in range(0,ilen_cpr):\n",
    "#    index_eddy=save_eddy_index[index_cpr]\n",
    "    \n",
    "\n"
   ]
  },
  {
   "cell_type": "code",
   "execution_count": null,
   "metadata": {
    "collapsed": true
   },
   "outputs": [],
   "source": []
  }
 ],
 "metadata": {
  "kernelspec": {
   "display_name": "Python 3",
   "language": "python",
   "name": "python3"
  },
  "language_info": {
   "codemirror_mode": {
    "name": "ipython",
    "version": 3
   },
   "file_extension": ".py",
   "mimetype": "text/x-python",
   "name": "python",
   "nbconvert_exporter": "python",
   "pygments_lexer": "ipython3",
   "version": "3.7.6"
  }
 },
 "nbformat": 4,
 "nbformat_minor": 2
}
