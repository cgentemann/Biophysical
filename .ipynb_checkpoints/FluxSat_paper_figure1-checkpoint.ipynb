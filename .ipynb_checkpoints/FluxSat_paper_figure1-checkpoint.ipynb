{
 "cells": [
  {
   "cell_type": "code",
   "execution_count": null,
   "metadata": {},
   "outputs": [],
   "source": [
    "import xarray as xr\n",
    "import matplotlib.pyplot as plt\n",
    "import cartopy.crs as ccrs\n",
    "\n",
    "#where to find the data\n",
    "adir= 'F:/data/fluxsat/WS_SST_Correlation/'\n",
    "\n",
    "#read in the data\n",
    "ds1=xr.open_dataset(adir+'Corr_High.nc')\n",
    "ds1.close()\n",
    "ds2=xr.open_dataset(adir+'Corr_Full.nc') #Full: corelation using unfiltered daily data: \n",
    "ds2.close()\n"
   ]
  },
  {
   "cell_type": "code",
   "execution_count": null,
   "metadata": {},
   "outputs": [],
   "source": [
    "#scientific colormaps\n",
    "import numpy as np\n",
    "import matplotlib.pyplot as plt\n",
    "from matplotlib.colors import LinearSegmentedColormap\n",
    "cm_data = np.loadtxt(\"C:/Users/gentemann/Google Drive/d_drive/ScientificColourMaps6/vik/vik.txt\")\n",
    "vik_map = LinearSegmentedColormap.from_list(\"vik\", cm_data)"
   ]
  },
  {
   "cell_type": "code",
   "execution_count": null,
   "metadata": {},
   "outputs": [],
   "source": [
    "tem=xr.concat([ds2.sel(lon=slice(20,360)),ds2.sel(lon=slice(0,20))],dim='lon')\n",
    "fig = plt.figure(figsize=(12, 4))\n",
    "ax = plt.axes(projection=ccrs.Mollweide(central_longitude=-160))\n",
    "ax.stock_img()\n",
    "ax.coastlines(resolution='50m', color='black', linewidth=1)\n",
    "ax0=ax.pcolormesh(tem.lon,tem.lat,tem.mask,vmin=0,vmax=10,cmap='binary',transform=ccrs.PlateCarree())\n",
    "ax1=ax.pcolormesh(tem.lon,tem.lat,tem.corrH,vmin=-1,vmax=1,cmap=vik_map,transform=ccrs.PlateCarree())\n",
    "cax=plt.colorbar(ax1,ax=ax, shrink=.6)\n",
    "cax.set_label('Correlation Coefficient')\n",
    "axt = plt.axes((.3, .8, .01, .01))\n",
    "axt.axis('off')\n",
    "axt.text(0,1.2,'a)',fontsize=16)\n",
    "fig.savefig(adir+'no_filter_wh.png')"
   ]
  },
  {
   "cell_type": "code",
   "execution_count": null,
   "metadata": {},
   "outputs": [],
   "source": [
    "tem=xr.concat([ds1.sel(lon=slice(20,360)),ds1.sel(lon=slice(0,20))],dim='lon')\n",
    "fig = plt.figure(figsize=(12, 4))\n",
    "ax = plt.axes(projection=ccrs.Mollweide(central_longitude=-160))\n",
    "ax.stock_img()\n",
    "ax.coastlines(resolution='50m', color='black', linewidth=1)\n",
    "ax0=ax.pcolormesh(tem.lon,tem.lat,tem.mask,vmin=0,vmax=10,cmap='binary',transform=ccrs.PlateCarree())\n",
    "ax1=ax.pcolormesh(tem.lon,tem.lat,tem.corrH,vmin=-1,vmax=1,cmap=vik_map,transform=ccrs.PlateCarree())\n",
    "cax=plt.colorbar(ax1,ax=ax, shrink=.6)\n",
    "cax.set_label('Correlation Coefficient High Pass')\n",
    "axt = plt.axes((.3, .8, .01, .01))\n",
    "axt.axis('off')\n",
    "axt.text(0,1.2,'b)',fontsize=16)\n",
    "fig.savefig(adir+'high_pass_wh.png')"
   ]
  },
  {
   "cell_type": "code",
   "execution_count": null,
   "metadata": {},
   "outputs": [],
   "source": [
    "vv=.75\n",
    "tem=xr.concat([ds2.sel(lon=slice(20,360)),ds2.sel(lon=slice(0,20))],dim='lon')\n",
    "fig = plt.figure(figsize=(15, 8))\n",
    "ax = plt.subplot(211,projection=ccrs.Mollweide(central_longitude=-160))\n",
    "ax.stock_img()\n",
    "ax.coastlines(resolution='50m', color='black', linewidth=1)\n",
    "ax0=ax.pcolormesh(tem.lon,tem.lat,tem.mask,vmin=0,vmax=10,cmap='binary',transform=ccrs.PlateCarree())\n",
    "ax1=ax.pcolormesh(tem.lon,tem.lat,tem.corrH,vmin=-vv,vmax=vv,cmap=vik_map,transform=ccrs.PlateCarree())\n",
    "cax=plt.colorbar(ax1,ax=ax, shrink=.6, pad=0.01)\n",
    "cax.set_label('Correlation Coefficient')\n",
    "axt = plt.axes((.4, .8, .01, .01))\n",
    "axt.axis('off')\n",
    "axt.text(0,1.2,'a)',fontsize=16)\n",
    "\n",
    "tem=xr.concat([ds1.sel(lon=slice(20,360)),ds1.sel(lon=slice(0,20))],dim='lon')\n",
    "ax = plt.subplot(212,projection=ccrs.Mollweide(central_longitude=-160))\n",
    "ax.stock_img()\n",
    "ax.coastlines(resolution='50m', color='black', linewidth=1)\n",
    "ax0=ax.pcolormesh(tem.lon,tem.lat,tem.mask,vmin=0,vmax=10,cmap='binary',transform=ccrs.PlateCarree())\n",
    "ax1=ax.pcolormesh(tem.lon,tem.lat,tem.corrH,vmin=-vv,vmax=vv,cmap=vik_map,transform=ccrs.PlateCarree())\n",
    "cax=plt.colorbar(ax1,ax=ax, shrink=.6, pad=0.01)\n",
    "cax.set_label('Correlation Coefficient High Pass')\n",
    "axt = plt.axes((.4, .4, .01, .01))\n",
    "axt.axis('off')\n",
    "axt.text(0,1.2,'b)',fontsize=16)\n",
    "fig.savefig(adir+'both.png')\n"
   ]
  },
  {
   "cell_type": "code",
   "execution_count": null,
   "metadata": {},
   "outputs": [],
   "source": []
  }
 ],
 "metadata": {
  "kernelspec": {
   "display_name": "Python 3",
   "language": "python",
   "name": "python3"
  },
  "language_info": {
   "codemirror_mode": {
    "name": "ipython",
    "version": 3
   },
   "file_extension": ".py",
   "mimetype": "text/x-python",
   "name": "python",
   "nbconvert_exporter": "python",
   "pygments_lexer": "ipython3",
   "version": "3.7.3"
  }
 },
 "nbformat": 4,
 "nbformat_minor": 2
}
