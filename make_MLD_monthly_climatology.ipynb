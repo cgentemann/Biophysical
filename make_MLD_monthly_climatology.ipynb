{
 "cells": [
  {
   "cell_type": "code",
   "execution_count": null,
   "metadata": {
    "scrolled": true
   },
   "outputs": [],
   "source": [
    "import pandas\n",
    "import matplotlib as mpl\n",
    "import xarray as xr\n",
    "import numpy as np\n",
    "import datetime as dt\n",
    "dir_data='F:/data/model_data/godas/'\n",
    "dir_data_clim='F:/data/model_data/godas/'\n",
    "def get_filename(d):\n",
    "    syr=str(d.year).zfill(4)\n",
    "    filename ='F:/data/model_data/godas/' + 'dbss_obml.'+ syr +'.nc'\n",
    "    return filename"
   ]
  },
  {
   "cell_type": "code",
   "execution_count": null,
   "metadata": {},
   "outputs": [],
   "source": [
    "lyr=2002\n",
    "d = dt.date(lyr,1,1) \n",
    "filename = get_filename(d)\n",
    "ds = xr.open_dataset(filename,drop_variables=['timePlot','date'])\n",
    "ds.close()\n",
    "ds"
   ]
  },
  {
   "cell_type": "code",
   "execution_count": null,
   "metadata": {},
   "outputs": [],
   "source": [
    "#make mld climatology from monthly files\n",
    "init = 0\n",
    "for lyr in range(1992,2019): #2018): \n",
    "    d = dt.datetime(lyr,1,1)\n",
    "    filename = get_filename(d)\n",
    "    ds = xr.open_dataset(filename)\n",
    "#    ds_masked = ds.where(ds['mask'] == 1.) \n",
    "    if init==0:\n",
    "        ds_sum = ds\n",
    "        init = 1\n",
    "    else:\n",
    "        ds_sum = xr.concat([ds_sum,ds],dim = 'time')\n",
    "    print(lyr,ds_sum.dims)\n",
    "ds_sum2 = ds_sum.groupby('time.month').mean('time')\n",
    "fname_tem='monthly_climatology_dbss_obml_1992_2018.nc'\n",
    "cmc_filename_out = dir_data + fname_tem\n",
    "ds_sum2.to_netcdf(cmc_filename_out)\n",
    "\n",
    "    "
   ]
  },
  {
   "cell_type": "code",
   "execution_count": null,
   "metadata": {},
   "outputs": [],
   "source": [
    "ds_sum2.dbss_obml[1,:,:]"
   ]
  },
  {
   "cell_type": "code",
   "execution_count": null,
   "metadata": {},
   "outputs": [],
   "source": []
  }
 ],
 "metadata": {
  "kernelspec": {
   "display_name": "Python 3",
   "language": "python",
   "name": "python3"
  },
  "language_info": {
   "codemirror_mode": {
    "name": "ipython",
    "version": 3
   },
   "file_extension": ".py",
   "mimetype": "text/x-python",
   "name": "python",
   "nbconvert_exporter": "python",
   "pygments_lexer": "ipython3",
   "version": "3.7.0"
  }
 },
 "nbformat": 4,
 "nbformat_minor": 2
}
