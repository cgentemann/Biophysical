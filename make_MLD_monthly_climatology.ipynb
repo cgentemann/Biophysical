{
 "cells": [
  {
   "cell_type": "code",
   "execution_count": 1,
   "metadata": {
    "scrolled": true
   },
   "outputs": [],
   "source": [
    "import pandas\n",
    "import matplotlib as mpl\n",
    "import xarray as xr\n",
    "import numpy as np\n",
    "import datetime as dt\n",
    "dir_data='F:/data/model_data/godas/'\n",
    "dir_data_clim='F:/data/model_data/godas/'\n",
    "def get_filename(d):\n",
    "    syr=str(d.year).zfill(4)\n",
    "    filename ='F:/data/model_data/godas/' + 'dbss_obml.'+ syr +'.nc'\n",
    "    return filename"
   ]
  },
  {
   "cell_type": "code",
   "execution_count": 2,
   "metadata": {},
   "outputs": [
    {
     "data": {
      "text/plain": [
       "<xarray.Dataset>\n",
       "Dimensions:    (lat: 418, lon: 360, time: 12)\n",
       "Coordinates:\n",
       "  * lon        (lon) float32 0.5 1.5 2.5 3.5 4.5 ... 356.5 357.5 358.5 359.5\n",
       "  * lat        (lat) float32 -74.5 -74.16667 -73.83334 ... 64.16566 64.499\n",
       "  * time       (time) datetime64[ns] 2002-01-01 2002-02-01 ... 2002-12-01\n",
       "Data variables:\n",
       "    dbss_obml  (time, lat, lon) float32 ...\n",
       "Attributes:\n",
       "    creation_date:    Sat Dec 16 20:00:00 MDT 2006\n",
       "    sfcHeatFlux:      \\nNote that the net surface heat flux are the total sur...\n",
       "    time_comment:     The internal time stamp indicates the FIRST day of the ...\n",
       "    Conventions:      COARDS\n",
       "    grib_file:        godas.M.200201-12.grb\n",
       "    html_REFERENCES:  http://www.cpc.ncep.noaa.gov/products/GODAS/background....\n",
       "    html_BACKGROUND:  http://www.cpc.ncep.noaa.gov/products/GODAS/background....\n",
       "    html_GODAS:       www.cpc.ncep.noaa.gov/products/GODAS\n",
       "    comment:          NOTE:  THESE ARE THE BIAS CORRECTED GODAS FILES.\n",
       "    title:            GODAS: Global Ocean Data Assimilation System\n",
       "    history:          Created 2006/12 by Hoop\n",
       "    References:       https://www.esrl.noaa.gov/psd/data/gridded/data.godas.html\n",
       "    dataset_title:    NCEP Global Ocean Data Assimilation System (GODAS)"
      ]
     },
     "execution_count": 2,
     "metadata": {},
     "output_type": "execute_result"
    }
   ],
   "source": [
    "lyr=2002\n",
    "d = dt.date(lyr,1,1) \n",
    "filename = get_filename(d)\n",
    "ds = xr.open_dataset(filename,drop_variables=['timePlot','date'])\n",
    "ds.close()\n",
    "ds"
   ]
  },
  {
   "cell_type": "code",
   "execution_count": 4,
   "metadata": {},
   "outputs": [
    {
     "name": "stdout",
     "output_type": "stream",
     "text": [
      "1992 Frozen(SortedKeysDict({'lon': 360, 'lat': 418, 'time': 12}))\n",
      "1993 Frozen(SortedKeysDict({'lon': 360, 'lat': 418, 'time': 24}))\n",
      "1994 Frozen(SortedKeysDict({'lon': 360, 'lat': 418, 'time': 36}))\n",
      "1995 Frozen(SortedKeysDict({'lon': 360, 'lat': 418, 'time': 48}))\n",
      "1996 Frozen(SortedKeysDict({'lon': 360, 'lat': 418, 'time': 60}))\n",
      "1997 Frozen(SortedKeysDict({'lon': 360, 'lat': 418, 'time': 72}))\n",
      "1998 Frozen(SortedKeysDict({'lon': 360, 'lat': 418, 'time': 84}))\n",
      "1999 Frozen(SortedKeysDict({'lon': 360, 'lat': 418, 'time': 96}))\n",
      "2000 Frozen(SortedKeysDict({'lon': 360, 'lat': 418, 'time': 108}))\n",
      "2001 Frozen(SortedKeysDict({'lon': 360, 'lat': 418, 'time': 120}))\n",
      "2002 Frozen(SortedKeysDict({'lon': 360, 'lat': 418, 'time': 132}))\n",
      "2003 Frozen(SortedKeysDict({'lon': 360, 'lat': 418, 'time': 144}))\n",
      "2004 Frozen(SortedKeysDict({'lon': 360, 'lat': 418, 'time': 156}))\n",
      "2005 Frozen(SortedKeysDict({'lon': 360, 'lat': 418, 'time': 168}))\n",
      "2006 Frozen(SortedKeysDict({'lon': 360, 'lat': 418, 'time': 180}))\n",
      "2007 Frozen(SortedKeysDict({'lon': 360, 'lat': 418, 'time': 192}))\n",
      "2008 Frozen(SortedKeysDict({'lon': 360, 'lat': 418, 'time': 204}))\n",
      "2009 Frozen(SortedKeysDict({'lon': 360, 'lat': 418, 'time': 216}))\n",
      "2010 Frozen(SortedKeysDict({'lon': 360, 'lat': 418, 'time': 228}))\n",
      "2011 Frozen(SortedKeysDict({'lon': 360, 'lat': 418, 'time': 240}))\n",
      "2012 Frozen(SortedKeysDict({'lon': 360, 'lat': 418, 'time': 252}))\n",
      "2013 Frozen(SortedKeysDict({'lon': 360, 'lat': 418, 'time': 264}))\n",
      "2014 Frozen(SortedKeysDict({'lon': 360, 'lat': 418, 'time': 276}))\n",
      "2015 Frozen(SortedKeysDict({'lon': 360, 'lat': 418, 'time': 288}))\n",
      "2016 Frozen(SortedKeysDict({'lon': 360, 'lat': 418, 'time': 300}))\n",
      "2017 Frozen(SortedKeysDict({'lon': 360, 'lat': 418, 'time': 312}))\n",
      "2018 Frozen(SortedKeysDict({'lon': 360, 'lat': 418, 'time': 323}))\n"
     ]
    },
    {
     "name": "stderr",
     "output_type": "stream",
     "text": [
      "C:\\Users\\gentemann\\Miniconda3\\lib\\site-packages\\xarray\\core\\nanops.py:161: RuntimeWarning: Mean of empty slice\n",
      "  return np.nanmean(a, axis=axis, dtype=dtype)\n"
     ]
    }
   ],
   "source": [
    "#make mld climatology from monthly files\n",
    "init = 0\n",
    "for lyr in range(1992,2019): #2018): \n",
    "    d = dt.datetime(lyr,1,1)\n",
    "    filename = get_filename(d)\n",
    "    ds = xr.open_dataset(filename)\n",
    "#    ds_masked = ds.where(ds['mask'] == 1.) \n",
    "    if init==0:\n",
    "        ds_sum = ds\n",
    "        init = 1\n",
    "    else:\n",
    "        ds_sum = xr.concat([ds_sum,ds],dim = 'time')\n",
    "    print(lyr,ds_sum.dims)\n",
    "ds_sum2 = ds_sum.groupby('time.month').mean('time')\n",
    "fname_tem='monthly_climatology_dbss_obml_1992_2018.nc'\n",
    "cmc_filename_out = dir_data + fname_tem\n",
    "ds_sum2.to_netcdf(cmc_filename_out)\n",
    "\n",
    "    "
   ]
  },
  {
   "cell_type": "code",
   "execution_count": 8,
   "metadata": {},
   "outputs": [
    {
     "data": {
      "text/plain": [
       "<xarray.DataArray 'dbss_obml' (lat: 418, lon: 360)>\n",
       "array([[       nan,        nan,        nan, ...,        nan,        nan,\n",
       "               nan],\n",
       "       [       nan,        nan,        nan, ...,        nan,        nan,\n",
       "               nan],\n",
       "       [       nan,        nan,        nan, ...,        nan,        nan,\n",
       "               nan],\n",
       "       ...,\n",
       "       [ 844.3364 ,  772.12054,  709.0852 , ..., 1036.9194 ,  981.5849 ,\n",
       "         915.2523 ],\n",
       "       [ 894.04767,  821.50415,  751.4825 , ..., 1086.5857 , 1031.1719 ,\n",
       "         965.1558 ],\n",
       "       [ 943.75323,  870.8989 ,  793.89136, ..., 1136.2405 , 1080.7758 ,\n",
       "        1015.0536 ]], dtype=float32)\n",
       "Coordinates:\n",
       "  * lon      (lon) float32 0.5 1.5 2.5 3.5 4.5 ... 355.5 356.5 357.5 358.5 359.5\n",
       "  * lat      (lat) float32 -74.5 -74.16667 -73.83334 ... 64.16566 64.499\n",
       "    month    int64 2"
      ]
     },
     "execution_count": 8,
     "metadata": {},
     "output_type": "execute_result"
    }
   ],
   "source": [
    "ds_sum2.dbss_obml[1,:,:]"
   ]
  },
  {
   "cell_type": "code",
   "execution_count": null,
   "metadata": {},
   "outputs": [],
   "source": []
  }
 ],
 "metadata": {
  "kernelspec": {
   "display_name": "Python 3",
   "language": "python",
   "name": "python3"
  },
  "language_info": {
   "codemirror_mode": {
    "name": "ipython",
    "version": 3
   },
   "file_extension": ".py",
   "mimetype": "text/x-python",
   "name": "python",
   "nbconvert_exporter": "python",
   "pygments_lexer": "ipython3",
   "version": "3.7.0"
  }
 },
 "nbformat": 4,
 "nbformat_minor": 2
}
