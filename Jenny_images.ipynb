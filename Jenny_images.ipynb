{
 "cells": [
  {
   "cell_type": "code",
   "execution_count": 2,
   "metadata": {},
   "outputs": [],
   "source": [
    "import xarray as xr\n",
    "import numpy as np\n",
    "from math import pi\n",
    "import datetime as dt\n",
    "import os\n",
    "import sys\n",
    "from pathlib import Path\n",
    "from os.path import exists\n",
    "import matplotlib.pyplot as plt\n",
    "import cartopy.crs as ccrs\n",
    "#from pathlib import Path\n",
    "from datetime import *; from dateutil.relativedelta import *\n",
    "#from scipy.interpolate import make_interp_spline, BSpline\n",
    "#from scipy.signal import savgol_filter\n",
    "%matplotlib inline\n",
    "sys.path.append('./subroutines/')\n",
    "from read_gridded_data import get_monthly_data\n"
   ]
  },
  {
   "cell_type": "code",
   "execution_count": 5,
   "metadata": {
    "scrolled": true
   },
   "outputs": [
    {
     "ename": "SyntaxError",
     "evalue": "invalid syntax (<ipython-input-5-a8aaa25c5323>, line 7)",
     "output_type": "error",
     "traceback": [
      "\u001b[1;36m  File \u001b[1;32m\"<ipython-input-5-a8aaa25c5323>\"\u001b[1;36m, line \u001b[1;32m7\u001b[0m\n\u001b[1;33m    for var in ds\u001b[0m\n\u001b[1;37m                 ^\u001b[0m\n\u001b[1;31mSyntaxError\u001b[0m\u001b[1;31m:\u001b[0m invalid syntax\n"
     ]
    }
   ],
   "source": [
    "filelist=[]\n",
    "dir_data = 'F:/data/sst/jpl_mur/v4.1/2003/'\n",
    "for filename in Path(dir_data).rglob('*90000-JPL-L4_GHRSST-SSTfnd-MUR-GLOB-v02.0-fv04.1.nc'):\n",
    "    filelist.append(filename)\n",
    "ds=xr.open_dataset(filelist[0])#,combine='nested',concat_dim='time').drop({'analysis_error'})\n",
    "#ds = ds.resample(time='M',keep_attrs=True).mean(skipna=False,keep_attrs=True)\n"
   ]
  },
  {
   "cell_type": "code",
   "execution_count": 11,
   "metadata": {},
   "outputs": [
    {
     "data": {
      "text/plain": [
       "KeysView(<xarray.Dataset>\n",
       "Dimensions:           (lat: 17999, lon: 36000, time: 1)\n",
       "Coordinates:\n",
       "  * time              (time) datetime64[ns] 2003-01-01T09:00:00\n",
       "  * lat               (lat) float32 -89.99 -89.98 -89.97 ... 89.97 89.98 89.99\n",
       "  * lon               (lon) float32 -179.99 -179.98 -179.97 ... 179.99 180.0\n",
       "Data variables:\n",
       "    analysed_sst      (time, lat, lon) float32 nan nan nan ... 271.35 271.35\n",
       "    analysis_error    (time, lat, lon) float32 nan nan nan ... 0.34 0.34 0.34\n",
       "    mask              (time, lat, lon) float32 2.0 2.0 2.0 2.0 ... 9.0 9.0 9.0\n",
       "    sea_ice_fraction  (time, lat, lon) float32 nan nan ... 0.97999996 0.97999996\n",
       "Attributes:\n",
       "    Conventions:                CF-1.5\n",
       "    title:                      Daily MUR SST, Final product\n",
       "    summary:                    A merged, multi-sensor L4 Foundation SST anal...\n",
       "    references:                 http://podaac.jpl.nasa.gov/Multi-scale_Ultra-...\n",
       "    institution:                Jet Propulsion Laboratory\n",
       "    history:                    created at nominal 4-day latency; replaced nr...\n",
       "    comment:                    MUR = \"Multi-scale Ultra-high Reolution\"\n",
       "    license:                    These data are available free of charge under...\n",
       "    id:                         MUR-JPL-L4-GLOB-v04.1\n",
       "    naming_authority:           org.ghrsst\n",
       "    product_version:            04.1\n",
       "    uuid:                       27665bc0-d5fc-11e1-9b23-0800200c9a66\n",
       "    gds_version_id:             2.0\n",
       "    netcdf_version_id:          4.1\n",
       "    date_created:               20150818T185930Z\n",
       "    start_time:                 20030101T090000Z\n",
       "    stop_time:                  20030101T090000Z\n",
       "    time_coverage_start:        20021231T210000Z\n",
       "    time_coverage_end:          20030101T210000Z\n",
       "    file_quality_level:         1\n",
       "    source:                     AMSRE-REMSS, AVHRR_Pathfinder-PFV5.2-NODC_day...\n",
       "    platform:                   Aqua, DMSP, NOAA-POES, Suomi-NPP, Terra\n",
       "    sensor:                     AMSR-E, AVHRR, MODIS, SSM/I, VIIRS, in-situ\n",
       "    Metadata_Conventions:       Unidata Observation Dataset v1.0\n",
       "    metadata_link:              http://podaac.jpl.nasa.gov/ws/metadata/datase...\n",
       "    keywords:                   Oceans > Ocean Temperature > Sea Surface Temp...\n",
       "    keywords_vocabulary:        NASA Global Change Master Directory (GCMD) Sc...\n",
       "    standard_name_vocabulary:   NetCDF Climate and Forecast (CF) Metadata Con...\n",
       "    southernmost_latitude:      -90.0\n",
       "    northernmost_latitude:      90.0\n",
       "    westernmost_longitude:      -180.0\n",
       "    easternmost_longitude:      180.0\n",
       "    spatial_resolution:         0.01 degrees\n",
       "    geospatial_lat_units:       degrees north\n",
       "    geospatial_lat_resolution:  0.01 degrees\n",
       "    geospatial_lon_units:       degrees east\n",
       "    geospatial_lon_resolution:  0.01 degrees\n",
       "    acknowledgment:             Please acknowledge the use of these data with...\n",
       "    creator_name:               JPL MUR SST project\n",
       "    creator_email:              ghrsst@podaac.jpl.nasa.gov\n",
       "    creator_url:                http://mur.jpl.nasa.gov\n",
       "    project:                    NASA Making Earth Science Data Records for Us...\n",
       "    publisher_name:             GHRSST Project Office\n",
       "    publisher_url:              http://www.ghrsst.org\n",
       "    publisher_email:            ghrsst-po@nceo.ac.uk\n",
       "    processing_level:           L4\n",
       "    cdm_data_type:              grid)"
      ]
     },
     "execution_count": 11,
     "metadata": {},
     "output_type": "execute_result"
    }
   ],
   "source": [
    "ds.keys()"
   ]
  },
  {
   "cell_type": "code",
   "execution_count": 12,
   "metadata": {},
   "outputs": [
    {
     "data": {
      "text/plain": [
       "{'long_name': 'sea/land field composite mask',\n",
       " 'valid_min': 1,\n",
       " 'valid_max': 31,\n",
       " 'flag_masks': array([ 1,  2,  4,  8, 16], dtype=int8),\n",
       " 'flag_values': array([ 1,  2,  5,  9, 13], dtype=int8),\n",
       " 'flag_meanings': '1=open-sea, 2=land, 5=open-lake, 9=open-sea with ice in the grid, 13=open-lake with ice in the grid',\n",
       " 'comment': 'mask can be used to further filter the data.',\n",
       " 'source': 'GMT \"grdlandmask\", ice flag from sea_ice_fraction data'}"
      ]
     },
     "execution_count": 12,
     "metadata": {},
     "output_type": "execute_result"
    }
   ],
   "source": [
    "ds..maskattrs"
   ]
  },
  {
   "cell_type": "code",
   "execution_count": 2,
   "metadata": {},
   "outputs": [
    {
     "data": {
      "text/plain": [
       "<xarray.Dataset>\n",
       "Dimensions:           (lat: 901, lon: 1800, time: 339)\n",
       "Coordinates:\n",
       "  * time              (time) datetime64[ns] 1991-09-30 1991-10-31 ... 2019-11-30\n",
       "  * lat               (lat) float32 -90.0 -89.8 -89.6 -89.4 ... 89.6 89.8 90.0\n",
       "  * lon               (lon) float32 -180.0 -179.8 -179.6 ... 179.6 179.79999\n",
       "Data variables:\n",
       "    analysed_sst      (time, lat, lon) float32 dask.array<chunksize=(1, 901, 1800), meta=np.ndarray>\n",
       "    analysis_error    (time, lat, lon) float32 dask.array<chunksize=(1, 901, 1800), meta=np.ndarray>\n",
       "    sea_ice_fraction  (time, lat, lon) float32 dask.array<chunksize=(1, 901, 1800), meta=np.ndarray>\n",
       "    mask              (time, lat, lon) float32 dask.array<chunksize=(1, 901, 1800), meta=np.ndarray>\n",
       "Attributes:\n",
       "    Conventions:                CF-1.4\n",
       "    title:                      CMC 0.2 deg global sea surface temperature an...\n",
       "    summary:                    Applies the method of statistical interpolati...\n",
       "    references:                 Brasnett B. 2008. The impact of satellite ret...\n",
       "    institution:                CMC\n",
       "    history:                    Processed through sfc.thin_sst, sfc.sstobs, i...\n",
       "    comment:                    WARNING Some applications are unable to prope...\n",
       "    license:                    GHRSST protocol describes data use as free an...\n",
       "    id:                         CMC0.2deg-CMC-L4-GLOB-v2.0\n",
       "    naming_authority:           org.ghrsst\n",
       "    product_version:            2.0\n",
       "    uuid:                       67270ff2-25d7-4390-8bc1-fee0a6209243\n",
       "    gds_version_id:             02.5\n",
       "    netcdf_version_id:          4.3.0\n",
       "    date_created:               20131002T175853Z\n",
       "    file_quality_level:         3\n",
       "    spatial_resolution:         0.2 degree\n",
       "    start_time:                 19910901T000000Z\n",
       "    time_coverage_start:        19910901T000000Z\n",
       "    stop_time:                  19910902T000000Z\n",
       "    time_coverage_end:          19910902T000000Z\n",
       "    northernmost_latitude:      90.0\n",
       "    southernmost_latitude:      -90.0\n",
       "    westernmost_longitude:      -180.0\n",
       "    easternmost_longitude:      179.8\n",
       "    source:                     EUR-L2P-ATS_NR_2P,IN_SITU-ICOADS_BUOYS,IN_SIT...\n",
       "    platform:                   ERS-1\n",
       "    sensor:                     ATSR\n",
       "    metadata_link:              http://podaac.jpl.nasa.gov/ws/metadata/datase...\n",
       "    Metadata_Conventions:       Unidata Observation Dataset v1.0\n",
       "    keywords:                   Oceans > Ocean Temperature > Sea Surface Temp...\n",
       "    keywords_vocabulary:        NASA Global Change Master Directory (GCMD) Sc...\n",
       "    standard_name_vocabulary:   NetCDF Climate and Forecast (CF) Metadata Con...\n",
       "    geospatial_lat_units:       degrees_north\n",
       "    geospatial_lat_resolution:  0.2\n",
       "    geospatial_lon_units:       degrees_east\n",
       "    geospatial_lon_resolution:  0.2\n",
       "    acknowledgment:             Please acknowledge the use of these data with...\n",
       "    creator_name:               Bruce Brasnett, Environment Canada\n",
       "    creator_email:              Bruce.Brasnett@ec.gc.ca\n",
       "    creator_url:                http://www.ec.gc.ca/scitech/default.asp?lang=...\n",
       "    project:                    Group for High Resolution Sea Surface Tempera...\n",
       "    publisher_name:             GHRSST Project Office\n",
       "    publisher_url:              http://www.ghrsst.org\n",
       "    publisher_email:            ghrsst-po@nceo.ac.uk\n",
       "    processing_level:           L4\n",
       "    cdm_data_type:              grid"
      ]
     },
     "execution_count": 2,
     "metadata": {},
     "output_type": "execute_result"
    }
   ],
   "source": [
    "ds=get_monthly_data('cmc_sst')\n",
    "ds"
   ]
  },
  {
   "cell_type": "code",
   "execution_count": 31,
   "metadata": {},
   "outputs": [
    {
     "data": {
      "text/plain": [
       "<xarray.Dataset>\n",
       "Dimensions:           (lat: 66, lon: 41, month: 12)\n",
       "Coordinates:\n",
       "  * lat               (lat) float32 32.0 32.2 32.4 32.6 ... 44.4 44.6 44.8 45.0\n",
       "  * lon               (lon) float32 -128.0 -127.8 -127.6 ... -120.2 -120.0\n",
       "  * month             (month) int64 1 2 3 4 5 6 7 8 9 10 11 12\n",
       "Data variables:\n",
       "    analysed_sst      (month, lat, lon) float32 289.79083 289.75885 ... nan nan\n",
       "    analysis_error    (month, lat, lon) float32 0.22481391 0.22434242 ... nan\n",
       "    sea_ice_fraction  (month, lat, lon) float32 0.0 0.0 0.0 0.0 ... nan nan nan\n",
       "    mask              (month, lat, lon) float32 1.0 1.0 1.0 1.0 ... nan nan nan\n",
       "Attributes:\n",
       "    Conventions:                CF-1.4\n",
       "    title:                      CMC 0.2 deg global sea surface temperature an...\n",
       "    summary:                    Applies the method of statistical interpolati...\n",
       "    references:                 Brasnett B. 2008. The impact of satellite ret...\n",
       "    institution:                CMC\n",
       "    history:                    Processed through sfc.thin_sst, sfc.sstobs, i...\n",
       "    comment:                    WARNING Some applications are unable to prope...\n",
       "    license:                    GHRSST protocol describes data use as free an...\n",
       "    id:                         CMC0.2deg-CMC-L4-GLOB-v2.0\n",
       "    naming_authority:           org.ghrsst\n",
       "    product_version:            2.0\n",
       "    uuid:                       67270ff2-25d7-4390-8bc1-fee0a6209243\n",
       "    gds_version_id:             02.5\n",
       "    netcdf_version_id:          4.3.0\n",
       "    date_created:               20131002T175853Z\n",
       "    file_quality_level:         3\n",
       "    spatial_resolution:         0.2 degree\n",
       "    start_time:                 19910901T000000Z\n",
       "    time_coverage_start:        19910901T000000Z\n",
       "    stop_time:                  19910902T000000Z\n",
       "    time_coverage_end:          19910902T000000Z\n",
       "    northernmost_latitude:      90.0\n",
       "    southernmost_latitude:      -90.0\n",
       "    westernmost_longitude:      -180.0\n",
       "    easternmost_longitude:      179.8\n",
       "    source:                     EUR-L2P-ATS_NR_2P,IN_SITU-ICOADS_BUOYS,IN_SIT...\n",
       "    platform:                   ERS-1\n",
       "    sensor:                     ATSR\n",
       "    metadata_link:              http://podaac.jpl.nasa.gov/ws/metadata/datase...\n",
       "    Metadata_Conventions:       Unidata Observation Dataset v1.0\n",
       "    keywords:                   Oceans > Ocean Temperature > Sea Surface Temp...\n",
       "    keywords_vocabulary:        NASA Global Change Master Directory (GCMD) Sc...\n",
       "    standard_name_vocabulary:   NetCDF Climate and Forecast (CF) Metadata Con...\n",
       "    geospatial_lat_units:       degrees_north\n",
       "    geospatial_lat_resolution:  0.2\n",
       "    geospatial_lon_units:       degrees_east\n",
       "    geospatial_lon_resolution:  0.2\n",
       "    acknowledgment:             Please acknowledge the use of these data with...\n",
       "    creator_name:               Bruce Brasnett, Environment Canada\n",
       "    creator_email:              Bruce.Brasnett@ec.gc.ca\n",
       "    creator_url:                http://www.ec.gc.ca/scitech/default.asp?lang=...\n",
       "    project:                    Group for High Resolution Sea Surface Tempera...\n",
       "    publisher_name:             GHRSST Project Office\n",
       "    publisher_url:              http://www.ghrsst.org\n",
       "    publisher_email:            ghrsst-po@nceo.ac.uk\n",
       "    processing_level:           L4\n",
       "    cdm_data_type:              grid"
      ]
     },
     "execution_count": 31,
     "metadata": {},
     "output_type": "execute_result"
    }
   ],
   "source": [
    "ds=ds.where(ds.mask==1)\n",
    "date_start,date_end,date_end2='1993-01-01','2018-12-31','2019-12-31'\n",
    "ds=ds.sel(time=slice(date_start,date_end2))\n",
    "ds_mean = ds.sel(lat=slice(32,45),lon=slice(-128.,-120.))\n",
    "ds_mean_tem=ds_mean.sel(time=slice(date_start,date_end))\n",
    "data_climatology = ds_mean_tem.groupby('time.month').mean('time',keep_attrs=True,skipna=False)\n",
    "data_anomaly = ds_mean.groupby('time.month') - data_climatology\n",
    "ds_anom=data_anomaly\n",
    "global_attributes = ds.attrs\n",
    "data_anomaly.attrs = global_attributes      \n",
    "ds_mean_clim=ds_mean-ds_anom\n",
    "ds_mean_clim.load()\n",
    "data_anomaly.load()\n",
    "data_climatology.load()"
   ]
  },
  {
   "cell_type": "code",
   "execution_count": 60,
   "metadata": {},
   "outputs": [
    {
     "data": {
      "image/png": "[encoded data removed]",
      "text/plain": [
       "<Figure size 720x720 with 16 Axes>"
      ]
     },
     "metadata": {
      "needs_background": "light"
     },
     "output_type": "display_data"
    }
   ],
   "source": [
    "import cartopy.crs as ccrs\n",
    "fig=plt.figure(figsize=(10,10))\n",
    "xlon,xlat=np.meshgrid(data_anomaly.lon,data_anomaly.lat)\n",
    "for i in range(16):\n",
    "    ax=plt.subplot(5,5,i+1,projection=ccrs.Orthographic())\n",
    "    ii=(i-1)*12\n",
    "    ax.pcolormesh(xlon,xlat,data_anomaly.analysed_sst[ii,:,:],transform=ccrs.PlateCarree())\n",
    "    ax.coastlines(resolution='50m')\n",
    "    ax.set_title(str(data_anomaly.time[ii].dt.year.data)+'-'+str(data_anomaly.time[ii].dt.month.data).zfill(2))"
   ]
  },
  {
   "cell_type": "code",
   "execution_count": 53,
   "metadata": {},
   "outputs": [],
   "source": [
    "data_anomaly2=data_anomaly.copy(deep=True)\n",
    "data_anomaly2['lon']=data_anomaly2.lon+360"
   ]
  },
  {
   "cell_type": "code",
   "execution_count": null,
   "metadata": {},
   "outputs": [],
   "source": []
  }
 ],
 "metadata": {
  "kernelspec": {
   "display_name": "Python 3",
   "language": "python",
   "name": "python3"
  },
  "language_info": {
   "codemirror_mode": {
    "name": "ipython",
    "version": 3
   },
   "file_extension": ".py",
   "mimetype": "text/x-python",
   "name": "python",
   "nbconvert_exporter": "python",
   "pygments_lexer": "ipython3",
   "version": "3.7.3"
  }
 },
 "nbformat": 4,
 "nbformat_minor": 2
}
