{
 "cells": [
  {
   "cell_type": "code",
   "execution_count": null,
   "metadata": {},
   "outputs": [],
   "source": [
    "import xarray as xr\n",
    "import numpy as np\n",
    "from math import pi\n",
    "import datetime as dt\n",
    "import os\n",
    "import sys\n",
    "#        dir_data = 'F:/data/sat_data/aviso/'\n",
    "from pathlib import Path\n",
    "from os.path import exists\n",
    "import matplotlib.pyplot as plt\n",
    "import cartopy.crs as ccrs\n",
    "from pathlib import Path\n",
    "from datetime import *; from dateutil.relativedelta import *\n",
    "from scipy.interpolate import make_interp_spline, BSpline\n",
    "from scipy.signal import savgol_filter\n",
    "boxes_names = ['NPC','NPC_biforcation','CalCur','Alaska1','Alaska2','CalCur1','CalCur3']"
   ]
  },
  {
   "cell_type": "code",
   "execution_count": null,
   "metadata": {},
   "outputs": [],
   "source": [
    "dir_timeseries='F:/data/NASA_biophysical/timeseries_data/'\n",
    "date_start,date_end,date_end2='1993-01-01','2018-12-31','2019-10-31'\n",
    "darray = ['oscar','mld','ccmp','sst','sss','ssh']\n"
   ]
  },
  {
   "cell_type": "code",
   "execution_count": null,
   "metadata": {},
   "outputs": [],
   "source": [
    "#testing\n",
    "#fname=dir_timeseries + dtype +str(date_start)+'data_v6.nc'\n",
    "#fname=dir_timeseries + dtype +str(date_start)+'data_clim_v6.nc'\n",
    "dir_figs='F:/data/NASA_biophysical/timeseries_data/figs'\n",
    "\n",
    "for itype in range(6):\n",
    "    if itype==1:\n",
    "        continue\n",
    "    if itype==6:\n",
    "        dtype=darray[5]\n",
    "        fname=dir_timeseries + dtype +str(date_start)+'data_minus_clim_v6.nc'\n",
    "        ds=xr.open_dataset(fname)\n",
    "        ds.close()\n",
    "        dtype=darray[0]\n",
    "        fname=dir_timeseries + dtype +'data_minus_clim_v5.nc'\n",
    "        ds2=xr.open_dataset(fname)\n",
    "        ds2.close()  \n",
    "        figout=dir_figs + dtype + 'cur'+'v6v5cmp.png'\n",
    "    else:\n",
    "        dtype=darray[itype]\n",
    "        fname=dir_timeseries + dtype +str(date_start)+'data_minus_clim_v6.nc'\n",
    "        ds=xr.open_dataset(fname)\n",
    "        ds.close()\n",
    "        fname=dir_timeseries + dtype +'data_minus_clim_v5.nc'\n",
    "        ds2=xr.open_dataset(fname)\n",
    "        ds2.close()\n",
    "        figout=dir_figs + dtype + 'v6v5cmp.png'\n",
    "\n",
    "    #ds.analysed_sst[5,:].plot(label='v6')\n",
    "    #ds2.analysed_sst[5,:].plot(label='v5')\n",
    "    #ds.u[5,:].plot(label='v6')\n",
    "    fig, axs = plt.subplots(9,figsize=(8,15))\n",
    "    for i in range(9):\n",
    "        if itype==0:\n",
    "            ds.u[i,:].plot(ax=axs[i],label='v6',linewidth=2)\n",
    "            ds2.u[i,:].plot(ax=axs[i],label='v5')\n",
    "        if itype==2:\n",
    "            ds.uwnd[i,:].plot(ax=axs[i],label='v6',linewidth=2)\n",
    "            ds2.uwnd[i,:].plot(ax=axs[i],label='v5')\n",
    "        if itype==3:\n",
    "            ds.analysed_sst[i,:].plot(ax=axs[i],label='v6',linewidth=2)\n",
    "            ds2.analysed_sst[i,:].plot(ax=axs[i],label='v5')\n",
    "        if itype==4:\n",
    "            ds.so[i,:].plot(ax=axs[i],label='v6',linewidth=2)\n",
    "            ds2.so[i,:].plot(ax=axs[i],label='v5')\n",
    "        if itype==5:\n",
    "            ds.sla[i,:].plot(ax=axs[i],label='v6',linewidth=2)\n",
    "            ds2.zos[i,:].plot(ax=axs[i],label='v5')\n",
    "        if itype==6:\n",
    "            ds.ugos[i,:].plot(ax=axs[i],label='v6',linewidth=2)\n",
    "            ds2.u[i,:].plot(ax=axs[i],label='v5')\n",
    "    #ds2.ugos[5,:].plot(label='v5')\n",
    "    axs[i].legend()\n",
    "    fig.savefig(figout, dpi=100)  "
   ]
  },
  {
   "cell_type": "code",
   "execution_count": null,
   "metadata": {},
   "outputs": [],
   "source": []
  }
 ],
 "metadata": {
  "kernelspec": {
   "display_name": "Python 3",
   "language": "python",
   "name": "python3"
  },
  "language_info": {
   "codemirror_mode": {
    "name": "ipython",
    "version": 3
   },
   "file_extension": ".py",
   "mimetype": "text/x-python",
   "name": "python",
   "nbconvert_exporter": "python",
   "pygments_lexer": "ipython3",
   "version": "3.7.3"
  }
 },
 "nbformat": 4,
 "nbformat_minor": 2
}
