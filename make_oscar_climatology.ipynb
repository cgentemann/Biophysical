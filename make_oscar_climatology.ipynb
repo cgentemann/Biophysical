{
 "cells": [
  {
   "cell_type": "code",
   "execution_count": 1,
   "metadata": {
    "scrolled": true
   },
   "outputs": [],
   "source": [
    "import xarray as xr\n",
    "import numpy as np\n",
    "import datetime\n",
    "def data_ones(x):\n",
    "    x_new=x/x\n",
    "    x_new=x_new.fillna(0)\n",
    "    return x_new"
   ]
  },
  {
   "cell_type": "code",
   "execution_count": 49,
   "metadata": {},
   "outputs": [
    {
     "name": "stdout",
     "output_type": "stream",
     "text": [
      "1993\n",
      "(72, 1, 481, 1201)\n",
      "(72, 1, 481, 1201)\n",
      "1994\n",
      "(72, 1, 481, 1201)\n",
      "(72, 1, 481, 1201)\n"
     ]
    }
   ],
   "source": [
    "#make oscar climatology\n",
    "#dir_data='F:/data/sat_data/oscar/L4/oscar_third_deg/'\n",
    "dir_clim='F:/data/sat_data/oscar/L4/oscar_third_deg/climatology/'\n",
    "dir_data = 'https://podaac-opendap.jpl.nasa.gov/opendap/allData/oscar/preview/L4/oscar_third_deg/'\n",
    "for lyr in range(1993,1995): #2018\n",
    "    filename = dir_data + 'oscar_vel' + str(lyr).zfill(4) + '.nc.gz'\n",
    "    ds=xr.open_dataset(filename,drop_variables=['um','vm'])\n",
    "    ds_count=data_ones(ds)\n",
    "    ds=ds.fillna(0)\n",
    "    #in order to add up the data the time arrays have to be aligned otherwise xarray doesn't know what to do with it\n",
    "    ds['time'] = ds['time'] - np.datetime64(lyr,'Y')\n",
    "    ds_count['time'] = ds_count['time'] - np.datetime64(lyr,'Y')\n",
    "    if lyr==1993:\n",
    "        ds_summer=ds\n",
    "        ds_counter = ds_count\n",
    "    else:\n",
    "        ds_summer=ds_summer + ds\n",
    "        ds_counter = ds_counter + ds_count\n",
    "    print(lyr)\n",
    "    print(ds.u.shape)\n",
    "    print(ds_summer.u.shape)\n",
    "   # print(ds_counter.u.shape)\n",
    "   # print(ds.u.shape)\n",
    "   # print(ds.time.data[0:20])\n",
    "ds_ave = ds_summer / ds_counter\n"
   ]
  },
  {
   "cell_type": "code",
   "execution_count": 50,
   "metadata": {},
   "outputs": [],
   "source": [
    "lyr=1995\n",
    "filename = dir_data + 'oscar_vel' + str(lyr).zfill(4) + '.nc.gz'\n",
    "ds=xr.open_dataset(filename,drop_variables=['um','vm'])\n",
    "ds_count=data_ones(ds)\n",
    "ds=ds.fillna(0)\n",
    "#in order to add up the data the time arrays have to be aligned otherwise xarray doesn't know what to do with it\n",
    "ds['time'] = ds['time'] - np.datetime64(lyr,'Y')\n",
    "ds_count['time'] = ds_count['time'] - np.datetime64(lyr,'Y')\n"
   ]
  },
  {
   "cell_type": "code",
   "execution_count": 59,
   "metadata": {},
   "outputs": [],
   "source": [
    "ds2 = ds.interp_like(ds_summer.time)\n",
    "#year after leap year, the days are all +1\n",
    "#for i in range(0,73):\n",
    "#    print(ds.time[i].data + np.datetime64(1995,'Y'), ds_summer.time[i].data + np.datetime64(1995,'Y'))\n"
   ]
  },
  {
   "cell_type": "code",
   "execution_count": 45,
   "metadata": {},
   "outputs": [],
   "source": [
    " ds['time'] = ds['time'] - np.datetime64(lyr,'Y')"
   ]
  },
  {
   "cell_type": "code",
   "execution_count": 65,
   "metadata": {},
   "outputs": [
    {
     "data": {
      "text/plain": [
       "<xarray.DataArray 'u' (time: 72, depth: 1, latitude: 481, longitude: 1201)>\n",
       "array([[[[0., ..., 0.],\n",
       "         ...,\n",
       "         [0., ..., 0.]]],\n",
       "\n",
       "\n",
       "       ...,\n",
       "\n",
       "\n",
       "       [[[0., ..., 0.],\n",
       "         ...,\n",
       "         [0., ..., 0.]]]])\n",
       "Coordinates:\n",
       "  * time       (time) timedelta64[ns] -79017 days +22:43:41.128654 ... -78658 days +22:43:41.128654\n",
       "  * depth      (depth) float32 15.0\n",
       "  * latitude   (latitude) float64 80.0 79.67 79.33 79.0 ... -79.33 -79.67 -80.0\n",
       "  * longitude  (longitude) float64 20.0 20.33 20.67 21.0 ... 419.3 419.7 420.0\n",
       "Attributes:\n",
       "    units:      meter/sec\n",
       "    long_name:  Ocean Surface Zonal Currents"
      ]
     },
     "execution_count": 65,
     "metadata": {},
     "output_type": "execute_result"
    }
   ],
   "source": [
    "ds.u"
   ]
  },
  {
   "cell_type": "code",
   "execution_count": 67,
   "metadata": {},
   "outputs": [
    {
     "name": "stdout",
     "output_type": "stream",
     "text": [
      "1995-01-02T00:00:00.000000000 1995-01-02T00:00:00.000000000\n",
      "0.014016411267220974 0.01081351232714951 -0.001998083433136344\n",
      "1995-01-07T00:00:00.000000000 1995-01-07T00:00:00.000000000\n",
      "0.014016411267220974 0.01081351232714951 -0.001998083433136344\n",
      "1995-01-12T00:00:00.000000000 1995-01-12T00:00:00.000000000\n",
      "0.014016411267220974 0.01081351232714951 -0.001998083433136344\n",
      "1995-01-17T00:00:00.000000000 1995-01-17T00:00:00.000000000\n",
      "0.014016411267220974 0.01081351232714951 -0.001998083433136344\n",
      "1995-01-22T00:00:00.000000000 1995-01-22T00:00:00.000000000\n",
      "0.014016411267220974 0.01081351232714951 -0.001998083433136344\n",
      "1995-01-27T00:00:00.000000000 1995-01-27T00:00:00.000000000\n",
      "0.014016411267220974 0.01081351232714951 -0.001998083433136344\n",
      "1995-02-01T00:00:00.000000000 1995-02-01T00:00:00.000000000\n",
      "0.014016411267220974 0.01081351232714951 -0.001998083433136344\n",
      "1995-02-06T00:00:00.000000000 1995-02-06T00:00:00.000000000\n",
      "0.014016411267220974 0.01081351232714951 -0.001998083433136344\n",
      "1995-02-11T00:00:00.000000000 1995-02-11T00:00:00.000000000\n",
      "0.014016411267220974 0.01081351232714951 -0.001998083433136344\n",
      "1995-02-16T00:00:00.000000000 1995-02-16T00:00:00.000000000\n",
      "0.014016411267220974 0.01081351232714951 -0.001998083433136344\n",
      "1995-02-21T00:00:00.000000000 1995-02-21T00:00:00.000000000\n",
      "0.014016411267220974 0.01081351232714951 -0.001998083433136344\n",
      "1995-02-26T00:00:00.000000000 1995-02-26T00:00:00.000000000\n",
      "0.014016411267220974 0.01081351232714951 -0.001998083433136344\n",
      "1995-03-03T00:00:00.000000000 1995-03-03T00:00:00.000000000\n",
      "0.014016411267220974 0.01081351232714951 -0.001998083433136344\n",
      "1995-03-08T00:00:00.000000000 1995-03-08T00:00:00.000000000\n",
      "0.014016411267220974 0.01081351232714951 -0.001998083433136344\n",
      "1995-03-13T00:00:00.000000000 1995-03-13T00:00:00.000000000\n",
      "0.014016411267220974 0.01081351232714951 -0.001998083433136344\n",
      "1995-03-19T00:00:00.000000000 1995-03-19T00:00:00.000000000\n",
      "0.014016411267220974 0.01081351232714951 -0.001998083433136344\n",
      "1995-03-24T00:00:00.000000000 1995-03-24T00:00:00.000000000\n",
      "0.014016411267220974 0.01081351232714951 -0.001998083433136344\n",
      "1995-03-29T00:00:00.000000000 1995-03-29T00:00:00.000000000\n",
      "0.014016411267220974 0.01081351232714951 -0.001998083433136344\n",
      "1995-04-03T00:00:00.000000000 1995-04-03T00:00:00.000000000\n",
      "0.014016411267220974 0.01081351232714951 -0.001998083433136344\n",
      "1995-04-08T00:00:00.000000000 1995-04-08T00:00:00.000000000\n",
      "0.014016411267220974 0.01081351232714951 -0.001998083433136344\n",
      "1995-04-13T00:00:00.000000000 1995-04-13T00:00:00.000000000\n",
      "0.014016411267220974 0.01081351232714951 -0.001998083433136344\n",
      "1995-04-18T00:00:00.000000000 1995-04-18T00:00:00.000000000\n",
      "0.014016411267220974 0.01081351232714951 -0.001998083433136344\n",
      "1995-04-23T00:00:00.000000000 1995-04-23T00:00:00.000000000\n",
      "0.014016411267220974 0.01081351232714951 -0.001998083433136344\n",
      "1995-04-28T00:00:00.000000000 1995-04-28T00:00:00.000000000\n",
      "0.014016411267220974 0.01081351232714951 -0.001998083433136344\n",
      "1995-05-03T00:00:00.000000000 1995-05-03T00:00:00.000000000\n",
      "0.014016411267220974 0.01081351232714951 -0.001998083433136344\n",
      "1995-05-08T00:00:00.000000000 1995-05-08T00:00:00.000000000\n",
      "0.014016411267220974 0.01081351232714951 -0.001998083433136344\n",
      "1995-05-13T00:00:00.000000000 1995-05-13T00:00:00.000000000\n",
      "0.014016411267220974 0.01081351232714951 -0.001998083433136344\n",
      "1995-05-18T00:00:00.000000000 1995-05-18T00:00:00.000000000\n",
      "0.014016411267220974 0.01081351232714951 -0.001998083433136344\n",
      "1995-05-23T00:00:00.000000000 1995-05-23T00:00:00.000000000\n",
      "0.014016411267220974 0.01081351232714951 -0.001998083433136344\n",
      "1995-05-29T00:00:00.000000000 1995-05-29T00:00:00.000000000\n",
      "0.014016411267220974 0.01081351232714951 -0.001998083433136344\n",
      "1995-06-03T00:00:00.000000000 1995-06-03T00:00:00.000000000\n",
      "0.014016411267220974 0.01081351232714951 -0.001998083433136344\n",
      "1995-06-08T00:00:00.000000000 1995-06-08T00:00:00.000000000\n",
      "0.014016411267220974 0.01081351232714951 -0.001998083433136344\n",
      "1995-06-13T00:00:00.000000000 1995-06-13T00:00:00.000000000\n",
      "0.014016411267220974 0.01081351232714951 -0.001998083433136344\n",
      "1995-06-18T00:00:00.000000000 1995-06-18T00:00:00.000000000\n",
      "0.014016411267220974 0.01081351232714951 -0.001998083433136344\n",
      "1995-06-23T00:00:00.000000000 1995-06-23T00:00:00.000000000\n",
      "0.014016411267220974 0.01081351232714951 -0.001998083433136344\n",
      "1995-06-28T00:00:00.000000000 1995-06-28T00:00:00.000000000\n",
      "0.014016411267220974 0.01081351232714951 -0.001998083433136344\n",
      "1995-07-03T00:00:00.000000000 1995-07-03T00:00:00.000000000\n",
      "0.014016411267220974 0.01081351232714951 -0.001998083433136344\n",
      "1995-07-08T00:00:00.000000000 1995-07-08T00:00:00.000000000\n",
      "0.014016411267220974 0.01081351232714951 -0.001998083433136344\n",
      "1995-07-13T00:00:00.000000000 1995-07-13T00:00:00.000000000\n",
      "0.014016411267220974 0.01081351232714951 -0.001998083433136344\n",
      "1995-07-18T00:00:00.000000000 1995-07-18T00:00:00.000000000\n",
      "0.014016411267220974 0.01081351232714951 -0.001998083433136344\n",
      "1995-07-23T00:00:00.000000000 1995-07-23T00:00:00.000000000\n",
      "0.014016411267220974 0.01081351232714951 -0.001998083433136344\n",
      "1995-07-28T00:00:00.000000000 1995-07-28T00:00:00.000000000\n",
      "0.014016411267220974 0.01081351232714951 -0.001998083433136344\n",
      "1995-08-02T00:00:00.000000000 1995-08-02T00:00:00.000000000\n",
      "0.014016411267220974 0.01081351232714951 -0.001998083433136344\n",
      "1995-08-07T00:00:00.000000000 1995-08-07T00:00:00.000000000\n",
      "0.014016411267220974 0.01081351232714951 -0.001998083433136344\n",
      "1995-08-13T00:00:00.000000000 1995-08-13T00:00:00.000000000\n",
      "0.014016411267220974 0.01081351232714951 -0.001998083433136344\n",
      "1995-08-18T00:00:00.000000000 1995-08-18T00:00:00.000000000\n",
      "0.014016411267220974 0.01081351232714951 -0.001998083433136344\n",
      "1995-08-23T00:00:00.000000000 1995-08-23T00:00:00.000000000\n",
      "0.014016411267220974 0.01081351232714951 -0.001998083433136344\n",
      "1995-08-28T00:00:00.000000000 1995-08-28T00:00:00.000000000\n",
      "0.014016411267220974 0.01081351232714951 -0.001998083433136344\n",
      "1995-09-02T00:00:00.000000000 1995-09-02T00:00:00.000000000\n",
      "0.014016411267220974 0.01081351232714951 -0.001998083433136344\n",
      "1995-09-07T00:00:00.000000000 1995-09-07T00:00:00.000000000\n",
      "0.014016411267220974 0.01081351232714951 -0.001998083433136344\n",
      "1995-09-12T00:00:00.000000000 1995-09-12T00:00:00.000000000\n",
      "0.014016411267220974 0.01081351232714951 -0.001998083433136344\n",
      "1995-09-17T00:00:00.000000000 1995-09-17T00:00:00.000000000\n",
      "0.014016411267220974 0.01081351232714951 -0.001998083433136344\n",
      "1995-09-22T00:00:00.000000000 1995-09-22T00:00:00.000000000\n",
      "0.014016411267220974 0.01081351232714951 -0.001998083433136344\n",
      "1995-09-27T00:00:00.000000000 1995-09-27T00:00:00.000000000\n",
      "0.014016411267220974 0.01081351232714951 -0.001998083433136344\n",
      "1995-10-02T00:00:00.000000000 1995-10-02T00:00:00.000000000\n",
      "0.014016411267220974 0.01081351232714951 -0.001998083433136344\n",
      "1995-10-07T00:00:00.000000000 1995-10-07T00:00:00.000000000\n",
      "0.014016411267220974 0.01081351232714951 -0.001998083433136344\n",
      "1995-10-12T00:00:00.000000000 1995-10-12T00:00:00.000000000\n",
      "0.014016411267220974 0.01081351232714951 -0.001998083433136344\n",
      "1995-10-17T00:00:00.000000000 1995-10-17T00:00:00.000000000\n",
      "0.014016411267220974 0.01081351232714951 -0.001998083433136344\n",
      "1995-10-23T00:00:00.000000000 1995-10-23T00:00:00.000000000\n",
      "0.014016411267220974 0.01081351232714951 -0.001998083433136344\n",
      "1995-10-28T00:00:00.000000000 1995-10-28T00:00:00.000000000\n",
      "0.014016411267220974 0.01081351232714951 -0.001998083433136344\n",
      "1995-11-02T00:00:00.000000000 1995-11-02T00:00:00.000000000\n",
      "0.014016411267220974 0.01081351232714951 -0.001998083433136344\n",
      "1995-11-07T00:00:00.000000000 1995-11-07T00:00:00.000000000\n",
      "0.014016411267220974 0.01081351232714951 -0.001998083433136344\n",
      "1995-11-12T00:00:00.000000000 1995-11-12T00:00:00.000000000\n",
      "0.014016411267220974 0.01081351232714951 -0.001998083433136344\n",
      "1995-11-17T00:00:00.000000000 1995-11-17T00:00:00.000000000\n",
      "0.014016411267220974 0.01081351232714951 -0.001998083433136344\n",
      "1995-11-22T00:00:00.000000000 1995-11-22T00:00:00.000000000\n",
      "0.014016411267220974 0.01081351232714951 -0.001998083433136344\n",
      "1995-11-27T00:00:00.000000000 1995-11-27T00:00:00.000000000\n",
      "0.014016411267220974 0.01081351232714951 -0.001998083433136344\n",
      "1995-12-02T00:00:00.000000000 1995-12-02T00:00:00.000000000\n",
      "0.014016411267220974 0.01081351232714951 -0.001998083433136344\n",
      "1995-12-07T00:00:00.000000000 1995-12-07T00:00:00.000000000\n",
      "0.014016411267220974 0.01081351232714951 -0.001998083433136344\n",
      "1995-12-12T00:00:00.000000000 1995-12-12T00:00:00.000000000\n",
      "0.014016411267220974 0.01081351232714951 -0.001998083433136344\n",
      "1995-12-17T00:00:00.000000000 1995-12-17T00:00:00.000000000\n",
      "0.014016411267220974 0.01081351232714951 -0.001998083433136344\n",
      "1995-12-22T00:00:00.000000000 1995-12-22T00:00:00.000000000\n",
      "0.014016411267220974 0.01081351232714951 -0.001998083433136344\n",
      "1995-12-27T00:00:00.000000000 1995-12-27T00:00:00.000000000\n",
      "0.014016411267220974 0.01081351232714951 -0.001998083433136344\n"
     ]
    },
    {
     "ename": "IndexError",
     "evalue": "index 72 is out of bounds for axis 0 with size 72",
     "output_type": "error",
     "traceback": [
      "\u001b[1;31m---------------------------------------------------------------------------\u001b[0m",
      "\u001b[1;31mIndexError\u001b[0m                                Traceback (most recent call last)",
      "\u001b[1;32m<ipython-input-67-cb3938ca5388>\u001b[0m in \u001b[0;36m<module>\u001b[1;34m\u001b[0m\n\u001b[0;32m      1\u001b[0m \u001b[1;31m#year after leap year, the days are all +1\u001b[0m\u001b[1;33m\u001b[0m\u001b[1;33m\u001b[0m\u001b[0m\n\u001b[0;32m      2\u001b[0m \u001b[1;32mfor\u001b[0m \u001b[0mi\u001b[0m \u001b[1;32min\u001b[0m \u001b[0mrange\u001b[0m\u001b[1;33m(\u001b[0m\u001b[1;36m0\u001b[0m\u001b[1;33m,\u001b[0m\u001b[1;36m73\u001b[0m\u001b[1;33m)\u001b[0m\u001b[1;33m:\u001b[0m\u001b[1;33m\u001b[0m\u001b[0m\n\u001b[1;32m----> 3\u001b[1;33m     \u001b[0mprint\u001b[0m\u001b[1;33m(\u001b[0m\u001b[0mds2\u001b[0m\u001b[1;33m.\u001b[0m\u001b[0mtime\u001b[0m\u001b[1;33m[\u001b[0m\u001b[0mi\u001b[0m\u001b[1;33m]\u001b[0m\u001b[1;33m.\u001b[0m\u001b[0mdata\u001b[0m \u001b[1;33m+\u001b[0m \u001b[0mnp\u001b[0m\u001b[1;33m.\u001b[0m\u001b[0mdatetime64\u001b[0m\u001b[1;33m(\u001b[0m\u001b[1;36m1995\u001b[0m\u001b[1;33m,\u001b[0m\u001b[1;34m'Y'\u001b[0m\u001b[1;33m)\u001b[0m\u001b[1;33m,\u001b[0m \u001b[0mds_counter\u001b[0m\u001b[1;33m.\u001b[0m\u001b[0mtime\u001b[0m\u001b[1;33m[\u001b[0m\u001b[0mi\u001b[0m\u001b[1;33m]\u001b[0m\u001b[1;33m.\u001b[0m\u001b[0mdata\u001b[0m \u001b[1;33m+\u001b[0m \u001b[0mnp\u001b[0m\u001b[1;33m.\u001b[0m\u001b[0mdatetime64\u001b[0m\u001b[1;33m(\u001b[0m\u001b[1;36m1995\u001b[0m\u001b[1;33m,\u001b[0m\u001b[1;34m'Y'\u001b[0m\u001b[1;33m)\u001b[0m\u001b[1;33m)\u001b[0m\u001b[1;33m\u001b[0m\u001b[0m\n\u001b[0m\u001b[0;32m      4\u001b[0m     \u001b[0mprint\u001b[0m\u001b[1;33m(\u001b[0m\u001b[0mds\u001b[0m\u001b[1;33m.\u001b[0m\u001b[0mu\u001b[0m\u001b[1;33m[\u001b[0m\u001b[1;36m0\u001b[0m\u001b[1;33m,\u001b[0m\u001b[1;36m0\u001b[0m\u001b[1;33m,\u001b[0m\u001b[1;36m200\u001b[0m\u001b[1;33m,\u001b[0m\u001b[1;36m600\u001b[0m\u001b[1;33m]\u001b[0m\u001b[1;33m.\u001b[0m\u001b[0mdata\u001b[0m\u001b[1;33m,\u001b[0m\u001b[0mds2\u001b[0m\u001b[1;33m.\u001b[0m\u001b[0mu\u001b[0m\u001b[1;33m[\u001b[0m\u001b[1;36m0\u001b[0m\u001b[1;33m,\u001b[0m\u001b[1;36m0\u001b[0m\u001b[1;33m,\u001b[0m\u001b[1;36m200\u001b[0m\u001b[1;33m,\u001b[0m\u001b[1;36m600\u001b[0m\u001b[1;33m]\u001b[0m\u001b[1;33m.\u001b[0m\u001b[0mdata\u001b[0m\u001b[1;33m,\u001b[0m\u001b[0mds\u001b[0m\u001b[1;33m.\u001b[0m\u001b[0mu\u001b[0m\u001b[1;33m[\u001b[0m\u001b[1;36m1\u001b[0m\u001b[1;33m,\u001b[0m\u001b[1;36m0\u001b[0m\u001b[1;33m,\u001b[0m\u001b[1;36m200\u001b[0m\u001b[1;33m,\u001b[0m\u001b[1;36m600\u001b[0m\u001b[1;33m]\u001b[0m\u001b[1;33m.\u001b[0m\u001b[0mdata\u001b[0m\u001b[1;33m)\u001b[0m\u001b[1;33m\u001b[0m\u001b[0m\n",
      "\u001b[1;32m~\\Miniconda3\\lib\\site-packages\\xarray\\core\\dataarray.py\u001b[0m in \u001b[0;36m__getitem__\u001b[1;34m(self, key)\u001b[0m\n\u001b[0;32m    473\u001b[0m         \u001b[1;32melse\u001b[0m\u001b[1;33m:\u001b[0m\u001b[1;33m\u001b[0m\u001b[0m\n\u001b[0;32m    474\u001b[0m             \u001b[1;31m# xarray-style array indexing\u001b[0m\u001b[1;33m\u001b[0m\u001b[1;33m\u001b[0m\u001b[0m\n\u001b[1;32m--> 475\u001b[1;33m             \u001b[1;32mreturn\u001b[0m \u001b[0mself\u001b[0m\u001b[1;33m.\u001b[0m\u001b[0misel\u001b[0m\u001b[1;33m(\u001b[0m\u001b[0mindexers\u001b[0m\u001b[1;33m=\u001b[0m\u001b[0mself\u001b[0m\u001b[1;33m.\u001b[0m\u001b[0m_item_key_to_dict\u001b[0m\u001b[1;33m(\u001b[0m\u001b[0mkey\u001b[0m\u001b[1;33m)\u001b[0m\u001b[1;33m)\u001b[0m\u001b[1;33m\u001b[0m\u001b[0m\n\u001b[0m\u001b[0;32m    476\u001b[0m \u001b[1;33m\u001b[0m\u001b[0m\n\u001b[0;32m    477\u001b[0m     \u001b[1;32mdef\u001b[0m \u001b[0m__setitem__\u001b[0m\u001b[1;33m(\u001b[0m\u001b[0mself\u001b[0m\u001b[1;33m,\u001b[0m \u001b[0mkey\u001b[0m\u001b[1;33m,\u001b[0m \u001b[0mvalue\u001b[0m\u001b[1;33m)\u001b[0m\u001b[1;33m:\u001b[0m\u001b[1;33m\u001b[0m\u001b[0m\n",
      "\u001b[1;32m~\\Miniconda3\\lib\\site-packages\\xarray\\core\\dataarray.py\u001b[0m in \u001b[0;36misel\u001b[1;34m(self, indexers, drop, **indexers_kwargs)\u001b[0m\n\u001b[0;32m    815\u001b[0m         \"\"\"\n\u001b[0;32m    816\u001b[0m         \u001b[0mindexers\u001b[0m \u001b[1;33m=\u001b[0m \u001b[0meither_dict_or_kwargs\u001b[0m\u001b[1;33m(\u001b[0m\u001b[0mindexers\u001b[0m\u001b[1;33m,\u001b[0m \u001b[0mindexers_kwargs\u001b[0m\u001b[1;33m,\u001b[0m \u001b[1;34m'isel'\u001b[0m\u001b[1;33m)\u001b[0m\u001b[1;33m\u001b[0m\u001b[0m\n\u001b[1;32m--> 817\u001b[1;33m         \u001b[0mds\u001b[0m \u001b[1;33m=\u001b[0m \u001b[0mself\u001b[0m\u001b[1;33m.\u001b[0m\u001b[0m_to_temp_dataset\u001b[0m\u001b[1;33m(\u001b[0m\u001b[1;33m)\u001b[0m\u001b[1;33m.\u001b[0m\u001b[0misel\u001b[0m\u001b[1;33m(\u001b[0m\u001b[0mdrop\u001b[0m\u001b[1;33m=\u001b[0m\u001b[0mdrop\u001b[0m\u001b[1;33m,\u001b[0m \u001b[0mindexers\u001b[0m\u001b[1;33m=\u001b[0m\u001b[0mindexers\u001b[0m\u001b[1;33m)\u001b[0m\u001b[1;33m\u001b[0m\u001b[0m\n\u001b[0m\u001b[0;32m    818\u001b[0m         \u001b[1;32mreturn\u001b[0m \u001b[0mself\u001b[0m\u001b[1;33m.\u001b[0m\u001b[0m_from_temp_dataset\u001b[0m\u001b[1;33m(\u001b[0m\u001b[0mds\u001b[0m\u001b[1;33m)\u001b[0m\u001b[1;33m\u001b[0m\u001b[0m\n\u001b[0;32m    819\u001b[0m \u001b[1;33m\u001b[0m\u001b[0m\n",
      "\u001b[1;32m~\\Miniconda3\\lib\\site-packages\\xarray\\core\\dataset.py\u001b[0m in \u001b[0;36misel\u001b[1;34m(self, indexers, drop, **indexers_kwargs)\u001b[0m\n\u001b[0;32m   1507\u001b[0m         \u001b[1;32mfor\u001b[0m \u001b[0mname\u001b[0m\u001b[1;33m,\u001b[0m \u001b[0mvar\u001b[0m \u001b[1;32min\u001b[0m \u001b[0miteritems\u001b[0m\u001b[1;33m(\u001b[0m\u001b[0mself\u001b[0m\u001b[1;33m.\u001b[0m\u001b[0m_variables\u001b[0m\u001b[1;33m)\u001b[0m\u001b[1;33m:\u001b[0m\u001b[1;33m\u001b[0m\u001b[0m\n\u001b[0;32m   1508\u001b[0m             \u001b[0mvar_indexers\u001b[0m \u001b[1;33m=\u001b[0m \u001b[1;33m{\u001b[0m\u001b[0mk\u001b[0m\u001b[1;33m:\u001b[0m \u001b[0mv\u001b[0m \u001b[1;32mfor\u001b[0m \u001b[0mk\u001b[0m\u001b[1;33m,\u001b[0m \u001b[0mv\u001b[0m \u001b[1;32min\u001b[0m \u001b[0mindexers_list\u001b[0m \u001b[1;32mif\u001b[0m \u001b[0mk\u001b[0m \u001b[1;32min\u001b[0m \u001b[0mvar\u001b[0m\u001b[1;33m.\u001b[0m\u001b[0mdims\u001b[0m\u001b[1;33m}\u001b[0m\u001b[1;33m\u001b[0m\u001b[0m\n\u001b[1;32m-> 1509\u001b[1;33m             \u001b[0mnew_var\u001b[0m \u001b[1;33m=\u001b[0m \u001b[0mvar\u001b[0m\u001b[1;33m.\u001b[0m\u001b[0misel\u001b[0m\u001b[1;33m(\u001b[0m\u001b[0mindexers\u001b[0m\u001b[1;33m=\u001b[0m\u001b[0mvar_indexers\u001b[0m\u001b[1;33m)\u001b[0m\u001b[1;33m\u001b[0m\u001b[0m\n\u001b[0m\u001b[0;32m   1510\u001b[0m             \u001b[1;32mif\u001b[0m \u001b[1;32mnot\u001b[0m \u001b[1;33m(\u001b[0m\u001b[0mdrop\u001b[0m \u001b[1;32mand\u001b[0m \u001b[0mname\u001b[0m \u001b[1;32min\u001b[0m \u001b[0mvar_indexers\u001b[0m\u001b[1;33m)\u001b[0m\u001b[1;33m:\u001b[0m\u001b[1;33m\u001b[0m\u001b[0m\n\u001b[0;32m   1511\u001b[0m                 \u001b[0mvariables\u001b[0m\u001b[1;33m[\u001b[0m\u001b[0mname\u001b[0m\u001b[1;33m]\u001b[0m \u001b[1;33m=\u001b[0m \u001b[0mnew_var\u001b[0m\u001b[1;33m\u001b[0m\u001b[0m\n",
      "\u001b[1;32m~\\Miniconda3\\lib\\site-packages\\xarray\\core\\variable.py\u001b[0m in \u001b[0;36misel\u001b[1;34m(self, indexers, drop, **indexers_kwargs)\u001b[0m\n\u001b[0;32m    906\u001b[0m             \u001b[1;32mif\u001b[0m \u001b[0mdim\u001b[0m \u001b[1;32min\u001b[0m \u001b[0mindexers\u001b[0m\u001b[1;33m:\u001b[0m\u001b[1;33m\u001b[0m\u001b[0m\n\u001b[0;32m    907\u001b[0m                 \u001b[0mkey\u001b[0m\u001b[1;33m[\u001b[0m\u001b[0mi\u001b[0m\u001b[1;33m]\u001b[0m \u001b[1;33m=\u001b[0m \u001b[0mindexers\u001b[0m\u001b[1;33m[\u001b[0m\u001b[0mdim\u001b[0m\u001b[1;33m]\u001b[0m\u001b[1;33m\u001b[0m\u001b[0m\n\u001b[1;32m--> 908\u001b[1;33m         \u001b[1;32mreturn\u001b[0m \u001b[0mself\u001b[0m\u001b[1;33m[\u001b[0m\u001b[0mtuple\u001b[0m\u001b[1;33m(\u001b[0m\u001b[0mkey\u001b[0m\u001b[1;33m)\u001b[0m\u001b[1;33m]\u001b[0m\u001b[1;33m\u001b[0m\u001b[0m\n\u001b[0m\u001b[0;32m    909\u001b[0m \u001b[1;33m\u001b[0m\u001b[0m\n\u001b[0;32m    910\u001b[0m     \u001b[1;32mdef\u001b[0m \u001b[0msqueeze\u001b[0m\u001b[1;33m(\u001b[0m\u001b[0mself\u001b[0m\u001b[1;33m,\u001b[0m \u001b[0mdim\u001b[0m\u001b[1;33m=\u001b[0m\u001b[1;32mNone\u001b[0m\u001b[1;33m)\u001b[0m\u001b[1;33m:\u001b[0m\u001b[1;33m\u001b[0m\u001b[0m\n",
      "\u001b[1;32m~\\Miniconda3\\lib\\site-packages\\xarray\\core\\variable.py\u001b[0m in \u001b[0;36m__getitem__\u001b[1;34m(self, key)\u001b[0m\n\u001b[0;32m    616\u001b[0m         \"\"\"\n\u001b[0;32m    617\u001b[0m         \u001b[0mdims\u001b[0m\u001b[1;33m,\u001b[0m \u001b[0mindexer\u001b[0m\u001b[1;33m,\u001b[0m \u001b[0mnew_order\u001b[0m \u001b[1;33m=\u001b[0m \u001b[0mself\u001b[0m\u001b[1;33m.\u001b[0m\u001b[0m_broadcast_indexes\u001b[0m\u001b[1;33m(\u001b[0m\u001b[0mkey\u001b[0m\u001b[1;33m)\u001b[0m\u001b[1;33m\u001b[0m\u001b[0m\n\u001b[1;32m--> 618\u001b[1;33m         \u001b[0mdata\u001b[0m \u001b[1;33m=\u001b[0m \u001b[0mas_indexable\u001b[0m\u001b[1;33m(\u001b[0m\u001b[0mself\u001b[0m\u001b[1;33m.\u001b[0m\u001b[0m_data\u001b[0m\u001b[1;33m)\u001b[0m\u001b[1;33m[\u001b[0m\u001b[0mindexer\u001b[0m\u001b[1;33m]\u001b[0m\u001b[1;33m\u001b[0m\u001b[0m\n\u001b[0m\u001b[0;32m    619\u001b[0m         \u001b[1;32mif\u001b[0m \u001b[0mnew_order\u001b[0m\u001b[1;33m:\u001b[0m\u001b[1;33m\u001b[0m\u001b[0m\n\u001b[0;32m    620\u001b[0m             \u001b[0mdata\u001b[0m \u001b[1;33m=\u001b[0m \u001b[0mnp\u001b[0m\u001b[1;33m.\u001b[0m\u001b[0mmoveaxis\u001b[0m\u001b[1;33m(\u001b[0m\u001b[0mdata\u001b[0m\u001b[1;33m,\u001b[0m \u001b[0mrange\u001b[0m\u001b[1;33m(\u001b[0m\u001b[0mlen\u001b[0m\u001b[1;33m(\u001b[0m\u001b[0mnew_order\u001b[0m\u001b[1;33m)\u001b[0m\u001b[1;33m)\u001b[0m\u001b[1;33m,\u001b[0m \u001b[0mnew_order\u001b[0m\u001b[1;33m)\u001b[0m\u001b[1;33m\u001b[0m\u001b[0m\n",
      "\u001b[1;32m~\\Miniconda3\\lib\\site-packages\\xarray\\core\\indexing.py\u001b[0m in \u001b[0;36m__getitem__\u001b[1;34m(self, key)\u001b[0m\n\u001b[0;32m   1172\u001b[0m     \u001b[1;32mdef\u001b[0m \u001b[0m__getitem__\u001b[0m\u001b[1;33m(\u001b[0m\u001b[0mself\u001b[0m\u001b[1;33m,\u001b[0m \u001b[0mkey\u001b[0m\u001b[1;33m)\u001b[0m\u001b[1;33m:\u001b[0m\u001b[1;33m\u001b[0m\u001b[0m\n\u001b[0;32m   1173\u001b[0m         \u001b[0marray\u001b[0m\u001b[1;33m,\u001b[0m \u001b[0mkey\u001b[0m \u001b[1;33m=\u001b[0m \u001b[0mself\u001b[0m\u001b[1;33m.\u001b[0m\u001b[0m_indexing_array_and_key\u001b[0m\u001b[1;33m(\u001b[0m\u001b[0mkey\u001b[0m\u001b[1;33m)\u001b[0m\u001b[1;33m\u001b[0m\u001b[0m\n\u001b[1;32m-> 1174\u001b[1;33m         \u001b[1;32mreturn\u001b[0m \u001b[0mself\u001b[0m\u001b[1;33m.\u001b[0m\u001b[0m_ensure_ndarray\u001b[0m\u001b[1;33m(\u001b[0m\u001b[0marray\u001b[0m\u001b[1;33m[\u001b[0m\u001b[0mkey\u001b[0m\u001b[1;33m]\u001b[0m\u001b[1;33m)\u001b[0m\u001b[1;33m\u001b[0m\u001b[0m\n\u001b[0m\u001b[0;32m   1175\u001b[0m \u001b[1;33m\u001b[0m\u001b[0m\n\u001b[0;32m   1176\u001b[0m     \u001b[1;32mdef\u001b[0m \u001b[0m__setitem__\u001b[0m\u001b[1;33m(\u001b[0m\u001b[0mself\u001b[0m\u001b[1;33m,\u001b[0m \u001b[0mkey\u001b[0m\u001b[1;33m,\u001b[0m \u001b[0mvalue\u001b[0m\u001b[1;33m)\u001b[0m\u001b[1;33m:\u001b[0m\u001b[1;33m\u001b[0m\u001b[0m\n",
      "\u001b[1;31mIndexError\u001b[0m: index 72 is out of bounds for axis 0 with size 72"
     ]
    }
   ],
   "source": [
    "#year after leap year, the days are all +1\n",
    "for i in range(0,73):\n",
    "    print(ds2.time[i].data + np.datetime64(1995,'Y'), ds_counter.time[i].data + np.datetime64(1995,'Y'))\n",
    "    print(ds.u[0,0,200,600].data,ds2.u[0,0,200,600].data,ds.u[1,0,200,600].data)\n"
   ]
  },
  {
   "cell_type": "code",
   "execution_count": 26,
   "metadata": {},
   "outputs": [
    {
     "data": {
      "text/plain": [
       "<xarray.Dataset>\n",
       "Dimensions:    (depth: 1, latitude: 481, longitude: 1201, time: 72, year: 72)\n",
       "Coordinates:\n",
       "  * time       (time) timedelta64[ns] 0 days 5 days ... 354 days 359 days\n",
       "  * year       (year) float32 1993.0 1993.0137 1993.0273 ... 1993.9698 1993.9835\n",
       "  * depth      (depth) float32 15.0\n",
       "  * latitude   (latitude) float64 80.0 79.67 79.33 79.0 ... -79.33 -79.67 -80.0\n",
       "  * longitude  (longitude) float64 20.0 20.33 20.67 21.0 ... 419.3 419.7 420.0\n",
       "Data variables:\n",
       "    u          (time, depth, latitude, longitude) float64 0.0 0.0 ... 0.0 0.0\n",
       "    v          (time, depth, latitude, longitude) float64 0.0 0.0 ... 0.0 0.0\n",
       "Attributes:\n",
       "    VARIABLE:       Ocean Surface Currents\n",
       "    DATATYPE:       1/72 YEAR Interval\n",
       "    DATASUBTYPE:    unfiltered\n",
       "    GEORANGE:       20 to 420 -80 to 80\n",
       "    PERIOD:         Jan.01,1993 to Dec.26,1993\n",
       "    year:           1993\n",
       "    description:    OSCAR Third Degree Sea Surface Velocity\n",
       "    CREATION_DATE:  15:59 04-Apr-2017\n",
       "    version:        2017.0\n",
       "    source:         Kathleen Dohan, ESR (kdohan@esr.org)\n",
       "    contact:        Kathleen Dohan (kdohan@esr.org)\n",
       "    company:        Earth & Space Research, Seattle, WA\n",
       "    reference:      Bonjean F. and G.S.E. Lagerloef, 2002 ,Diagnostic model a...\n",
       "    note1:          Maximum Mask velocity is the geostrophic component at all...\n",
       "    note2:          Longitude extends from 20 E to 420 E to avoid a break in ..."
      ]
     },
     "execution_count": 26,
     "metadata": {},
     "output_type": "execute_result"
    }
   ],
   "source": [
    "ds"
   ]
  },
  {
   "cell_type": "code",
   "execution_count": 7,
   "metadata": {},
   "outputs": [
    {
     "data": {
      "text/plain": [
       "array(['1993-01-01T00:00:00.000000000', '1993-01-06T00:00:00.000000000',\n",
       "       '1993-01-11T00:00:00.000000000', '1993-01-16T00:00:00.000000000',\n",
       "       '1993-01-21T00:00:00.000000000', '1993-01-26T00:00:00.000000000',\n",
       "       '1993-01-31T00:00:00.000000000', '1993-02-05T00:00:00.000000000',\n",
       "       '1993-02-10T00:00:00.000000000', '1993-02-15T00:00:00.000000000',\n",
       "       '1993-02-20T00:00:00.000000000', '1993-02-25T00:00:00.000000000',\n",
       "       '1993-03-02T00:00:00.000000000', '1993-03-07T00:00:00.000000000',\n",
       "       '1993-03-12T00:00:00.000000000', '1993-03-18T00:00:00.000000000',\n",
       "       '1993-03-23T00:00:00.000000000', '1993-03-28T00:00:00.000000000',\n",
       "       '1993-04-02T00:00:00.000000000', '1993-04-07T00:00:00.000000000'],\n",
       "      dtype='datetime64[ns]')"
      ]
     },
     "execution_count": 7,
     "metadata": {},
     "output_type": "execute_result"
    }
   ],
   "source": []
  },
  {
   "cell_type": "code",
   "execution_count": 112,
   "metadata": {},
   "outputs": [
    {
     "name": "stdout",
     "output_type": "stream",
     "text": [
      "(0, 1, 481, 1201)\n",
      "(72, 1, 481, 1201)\n",
      "(72, 1, 481, 1201)\n",
      "(0, 1, 481, 1201)\n",
      "(0, 1, 481, 1201)\n"
     ]
    }
   ],
   "source": [
    "print(ds_ave.u.shape)\n",
    "print(ds.u.shape)\n",
    "print(ds_count.u.shape)\n",
    "print(ds_summer.u.shape)\n",
    "print(ds_counter.u.shape)"
   ]
  },
  {
   "cell_type": "code",
   "execution_count": 96,
   "metadata": {},
   "outputs": [
    {
     "ename": "RuntimeError",
     "evalue": "NetCDF: Invalid argument",
     "output_type": "error",
     "traceback": [
      "\u001b[1;31m---------------------------------------------------------------------------\u001b[0m",
      "\u001b[1;31mRuntimeError\u001b[0m                              Traceback (most recent call last)",
      "\u001b[1;32m<ipython-input-96-ba6c889fa199>\u001b[0m in \u001b[0;36m<module>\u001b[1;34m\u001b[0m\n\u001b[1;32m----> 1\u001b[1;33m \u001b[0mds_ave\u001b[0m\u001b[1;33m.\u001b[0m\u001b[0mto_netcdf\u001b[0m\u001b[1;33m(\u001b[0m\u001b[0mdir_clim\u001b[0m \u001b[1;33m+\u001b[0m \u001b[1;34m'oscar_v2009_1993_2016_climatology_12202118.nc'\u001b[0m\u001b[1;33m)\u001b[0m\u001b[1;33m\u001b[0m\u001b[0m\n\u001b[0m",
      "\u001b[1;32m~\\Miniconda3\\lib\\site-packages\\xarray\\core\\dataset.py\u001b[0m in \u001b[0;36mto_netcdf\u001b[1;34m(self, path, mode, format, group, engine, encoding, unlimited_dims, compute)\u001b[0m\n\u001b[0;32m   1220\u001b[0m                          \u001b[0mengine\u001b[0m\u001b[1;33m=\u001b[0m\u001b[0mengine\u001b[0m\u001b[1;33m,\u001b[0m \u001b[0mencoding\u001b[0m\u001b[1;33m=\u001b[0m\u001b[0mencoding\u001b[0m\u001b[1;33m,\u001b[0m\u001b[1;33m\u001b[0m\u001b[0m\n\u001b[0;32m   1221\u001b[0m                          \u001b[0munlimited_dims\u001b[0m\u001b[1;33m=\u001b[0m\u001b[0munlimited_dims\u001b[0m\u001b[1;33m,\u001b[0m\u001b[1;33m\u001b[0m\u001b[0m\n\u001b[1;32m-> 1222\u001b[1;33m                          compute=compute)\n\u001b[0m\u001b[0;32m   1223\u001b[0m \u001b[1;33m\u001b[0m\u001b[0m\n\u001b[0;32m   1224\u001b[0m     def to_zarr(self, store=None, mode='w-', synchronizer=None, group=None,\n",
      "\u001b[1;32m~\\Miniconda3\\lib\\site-packages\\xarray\\backends\\api.py\u001b[0m in \u001b[0;36mto_netcdf\u001b[1;34m(dataset, path_or_file, mode, format, group, engine, encoding, unlimited_dims, compute, multifile)\u001b[0m\n\u001b[0;32m    716\u001b[0m         \u001b[1;31m# to be parallelized with dask\u001b[0m\u001b[1;33m\u001b[0m\u001b[1;33m\u001b[0m\u001b[0m\n\u001b[0;32m    717\u001b[0m         dump_to_store(dataset, store, writer, encoding=encoding,\n\u001b[1;32m--> 718\u001b[1;33m                       unlimited_dims=unlimited_dims)\n\u001b[0m\u001b[0;32m    719\u001b[0m         \u001b[1;32mif\u001b[0m \u001b[0mautoclose\u001b[0m\u001b[1;33m:\u001b[0m\u001b[1;33m\u001b[0m\u001b[0m\n\u001b[0;32m    720\u001b[0m             \u001b[0mstore\u001b[0m\u001b[1;33m.\u001b[0m\u001b[0mclose\u001b[0m\u001b[1;33m(\u001b[0m\u001b[1;33m)\u001b[0m\u001b[1;33m\u001b[0m\u001b[0m\n",
      "\u001b[1;32m~\\Miniconda3\\lib\\site-packages\\xarray\\backends\\api.py\u001b[0m in \u001b[0;36mdump_to_store\u001b[1;34m(dataset, store, writer, encoder, encoding, unlimited_dims)\u001b[0m\n\u001b[0;32m    759\u001b[0m \u001b[1;33m\u001b[0m\u001b[0m\n\u001b[0;32m    760\u001b[0m     store.store(variables, attrs, check_encoding, writer,\n\u001b[1;32m--> 761\u001b[1;33m                 unlimited_dims=unlimited_dims)\n\u001b[0m\u001b[0;32m    762\u001b[0m \u001b[1;33m\u001b[0m\u001b[0m\n\u001b[0;32m    763\u001b[0m \u001b[1;33m\u001b[0m\u001b[0m\n",
      "\u001b[1;32m~\\Miniconda3\\lib\\site-packages\\xarray\\backends\\common.py\u001b[0m in \u001b[0;36mstore\u001b[1;34m(self, variables, attributes, check_encoding_set, writer, unlimited_dims)\u001b[0m\n\u001b[0;32m    264\u001b[0m         \u001b[0mself\u001b[0m\u001b[1;33m.\u001b[0m\u001b[0mset_dimensions\u001b[0m\u001b[1;33m(\u001b[0m\u001b[0mvariables\u001b[0m\u001b[1;33m,\u001b[0m \u001b[0munlimited_dims\u001b[0m\u001b[1;33m=\u001b[0m\u001b[0munlimited_dims\u001b[0m\u001b[1;33m)\u001b[0m\u001b[1;33m\u001b[0m\u001b[0m\n\u001b[0;32m    265\u001b[0m         self.set_variables(variables, check_encoding_set, writer,\n\u001b[1;32m--> 266\u001b[1;33m                            unlimited_dims=unlimited_dims)\n\u001b[0m\u001b[0;32m    267\u001b[0m \u001b[1;33m\u001b[0m\u001b[0m\n\u001b[0;32m    268\u001b[0m     \u001b[1;32mdef\u001b[0m \u001b[0mset_attributes\u001b[0m\u001b[1;33m(\u001b[0m\u001b[0mself\u001b[0m\u001b[1;33m,\u001b[0m \u001b[0mattributes\u001b[0m\u001b[1;33m)\u001b[0m\u001b[1;33m:\u001b[0m\u001b[1;33m\u001b[0m\u001b[0m\n",
      "\u001b[1;32m~\\Miniconda3\\lib\\site-packages\\xarray\\backends\\common.py\u001b[0m in \u001b[0;36mset_variables\u001b[1;34m(self, variables, check_encoding_set, writer, unlimited_dims)\u001b[0m\n\u001b[0;32m    302\u001b[0m             \u001b[0mcheck\u001b[0m \u001b[1;33m=\u001b[0m \u001b[0mvn\u001b[0m \u001b[1;32min\u001b[0m \u001b[0mcheck_encoding_set\u001b[0m\u001b[1;33m\u001b[0m\u001b[0m\n\u001b[0;32m    303\u001b[0m             target, source = self.prepare_variable(\n\u001b[1;32m--> 304\u001b[1;33m                 name, v, check, unlimited_dims=unlimited_dims)\n\u001b[0m\u001b[0;32m    305\u001b[0m \u001b[1;33m\u001b[0m\u001b[0m\n\u001b[0;32m    306\u001b[0m             \u001b[0mwriter\u001b[0m\u001b[1;33m.\u001b[0m\u001b[0madd\u001b[0m\u001b[1;33m(\u001b[0m\u001b[0msource\u001b[0m\u001b[1;33m,\u001b[0m \u001b[0mtarget\u001b[0m\u001b[1;33m)\u001b[0m\u001b[1;33m\u001b[0m\u001b[0m\n",
      "\u001b[1;32m~\\Miniconda3\\lib\\site-packages\\xarray\\backends\\netCDF4_.py\u001b[0m in \u001b[0;36mprepare_variable\u001b[1;34m(self, name, variable, check_encoding, unlimited_dims)\u001b[0m\n\u001b[0;32m    465\u001b[0m                 least_significant_digit=encoding.get(\n\u001b[0;32m    466\u001b[0m                     'least_significant_digit'),\n\u001b[1;32m--> 467\u001b[1;33m                 fill_value=fill_value)\n\u001b[0m\u001b[0;32m    468\u001b[0m             \u001b[0m_disable_auto_decode_variable\u001b[0m\u001b[1;33m(\u001b[0m\u001b[0mnc4_var\u001b[0m\u001b[1;33m)\u001b[0m\u001b[1;33m\u001b[0m\u001b[0m\n\u001b[0;32m    469\u001b[0m \u001b[1;33m\u001b[0m\u001b[0m\n",
      "\u001b[1;32mnetCDF4\\_netCDF4.pyx\u001b[0m in \u001b[0;36mnetCDF4._netCDF4.Dataset.createVariable\u001b[1;34m()\u001b[0m\n",
      "\u001b[1;32mnetCDF4\\_netCDF4.pyx\u001b[0m in \u001b[0;36mnetCDF4._netCDF4.Variable.__init__\u001b[1;34m()\u001b[0m\n",
      "\u001b[1;32mnetCDF4\\_netCDF4.pyx\u001b[0m in \u001b[0;36mnetCDF4._netCDF4._ensure_nc_success\u001b[1;34m()\u001b[0m\n",
      "\u001b[1;31mRuntimeError\u001b[0m: NetCDF: Invalid argument"
     ]
    }
   ],
   "source": [
    "ds_ave.to_netcdf(dir_clim + 'oscar_v2009_1993_2016_climatology_12202118.nc')\n"
   ]
  },
  {
   "cell_type": "code",
   "execution_count": 91,
   "metadata": {},
   "outputs": [
    {
     "name": "stdout",
     "output_type": "stream",
     "text": [
      "1993-03-02T00:00:00.000000000\n",
      "1994-03-02T00:00:00.000000000\n",
      "1995-03-02T00:00:00.000000000\n",
      "1996-03-02T00:00:00.000000000\n",
      "1997-03-02T00:00:00.000000000\n",
      "1998-03-02T00:00:00.000000000\n",
      "1999-03-02T00:00:00.000000000\n",
      "2000-03-02T00:00:00.000000000\n",
      "2001-03-02T00:00:00.000000000\n",
      "2002-03-02T00:00:00.000000000\n",
      "2003-03-02T00:00:00.000000000\n",
      "2004-03-02T00:00:00.000000000\n",
      "2005-03-02T00:00:00.000000000\n",
      "2006-03-02T00:00:00.000000000\n",
      "2007-03-02T00:00:00.000000000\n",
      "2008-03-02T00:00:00.000000000\n",
      "2009-03-02T00:00:00.000000000\n",
      "2010-03-02T00:00:00.000000000\n",
      "2011-03-02T00:00:00.000000000\n",
      "2012-03-02T00:00:00.000000000\n",
      "2013-03-02T00:00:00.000000000\n",
      "2014-03-02T00:00:00.000000000\n",
      "2015-03-02T00:00:00.000000000\n",
      "2016-03-02T00:00:00.000000000\n",
      "2017-03-02T00:00:00.000000000\n"
     ]
    }
   ],
   "source": [
    "#check that time all the same, even leap years\n",
    "for lyr in range(1993,2018):\n",
    "    filename = dir_cmc + 'oscar_vel' + str(lyr).zfill(4) + '.nc'\n",
    "    ds=xr.open_dataset(filename,drop_variables=['um','vm'])\n",
    "    print(ds.time[12].data)"
   ]
  },
  {
   "cell_type": "code",
   "execution_count": 93,
   "metadata": {},
   "outputs": [
    {
     "data": {
      "text/plain": [
       "<xarray.Dataset>\n",
       "Dimensions:    (depth: 1, latitude: 481, longitude: 1201, time: 72, year: 72)\n",
       "Coordinates:\n",
       "  * time       (time) datetime64[ns] 1993-01-01 1993-01-06 ... 1993-12-26\n",
       "  * year       (year) float32 1993.0 1993.0137 1993.0273 ... 1993.9698 1993.9835\n",
       "  * depth      (depth) float32 15.0\n",
       "  * latitude   (latitude) float64 80.0 79.67 79.33 79.0 ... -79.33 -79.67 -80.0\n",
       "  * longitude  (longitude) float64 20.0 20.33 20.67 21.0 ... 419.3 419.7 420.0\n",
       "Data variables:\n",
       "    u          (time, depth, latitude, longitude) float64 0.0 0.0 ... 0.0 0.0\n",
       "    v          (time, depth, latitude, longitude) float64 0.0 0.0 ... 0.0 0.0\n",
       "    um         (time, depth, latitude, longitude) float64 0.0 0.0 ... 0.0 0.0\n",
       "    vm         (time, depth, latitude, longitude) float64 0.0 0.0 ... 0.0 0.0"
      ]
     },
     "execution_count": 93,
     "metadata": {},
     "output_type": "execute_result"
    }
   ],
   "source": [
    "ds_counter"
   ]
  },
  {
   "cell_type": "code",
   "execution_count": 89,
   "metadata": {},
   "outputs": [
    {
     "data": {
      "text/plain": [
       "numpy.datetime64('1994-03-02T00:00:00.000000000')"
      ]
     },
     "execution_count": 89,
     "metadata": {},
     "output_type": "execute_result"
    }
   ],
   "source": [
    "ds.time[12].data"
   ]
  },
  {
   "cell_type": "code",
   "execution_count": 79,
   "metadata": {
    "scrolled": false
   },
   "outputs": [
    {
     "name": "stdout",
     "output_type": "stream",
     "text": [
      "<xarray.DataArray 'u' ()>\n",
      "array(0.028033)\n",
      "Coordinates:\n",
      "    time       datetime64[ns] 1995-01-01\n",
      "    depth      float32 15.0\n",
      "    latitude   float64 13.33\n",
      "    longitude  float64 220.0 <xarray.DataArray 'u' ()>\n",
      "array(0.014016)\n",
      "Coordinates:\n",
      "    time       datetime64[ns] 1995-01-01\n",
      "    depth      float32 15.0\n",
      "    latitude   float64 13.33\n",
      "    longitude  float64 220.0\n",
      "Attributes:\n",
      "    units:      meter/sec\n",
      "    long_name:  Ocean Surface Zonal Currents <xarray.DataArray 'u' ()>\n",
      "array(1.)\n",
      "Coordinates:\n",
      "    time       datetime64[ns] 1995-01-01\n",
      "    depth      float32 15.0\n",
      "    latitude   float64 13.33\n",
      "    longitude  float64 220.0\n",
      "<xarray.DataArray 'u' ()>\n",
      "array(nan)\n",
      "Coordinates:\n",
      "    time       datetime64[ns] 1995-01-01\n",
      "    depth      float32 15.0\n",
      "    latitude   float64 13.33\n",
      "    longitude  float64 20.0 <xarray.DataArray 'u' ()>\n",
      "array(nan)\n",
      "Coordinates:\n",
      "    time       datetime64[ns] 1995-01-01\n",
      "    depth      float32 15.0\n",
      "    latitude   float64 13.33\n",
      "    longitude  float64 20.0\n",
      "Attributes:\n",
      "    units:      meter/sec\n",
      "    long_name:  Ocean Surface Zonal Currents <xarray.DataArray 'u' ()>\n",
      "array(0.)\n",
      "Coordinates:\n",
      "    time       datetime64[ns] 1995-01-01\n",
      "    depth      float32 15.0\n",
      "    latitude   float64 13.33\n",
      "    longitude  float64 20.0\n"
     ]
    }
   ],
   "source": []
  },
  {
   "cell_type": "code",
   "execution_count": 12,
   "metadata": {},
   "outputs": [
    {
     "ename": "AttributeError",
     "evalue": "'numpy.ndarray' object has no attribute 'setncatts'",
     "output_type": "error",
     "traceback": [
      "\u001b[1;31m---------------------------------------------------------------------------\u001b[0m",
      "\u001b[1;31mAttributeError\u001b[0m                            Traceback (most recent call last)",
      "\u001b[1;32m<ipython-input-12-d02121db4d61>\u001b[0m in \u001b[0;36m<module>\u001b[1;34m\u001b[0m\n\u001b[0;32m      1\u001b[0m \u001b[0mfoo\u001b[0m \u001b[1;33m=\u001b[0m \u001b[0mxr\u001b[0m\u001b[1;33m.\u001b[0m\u001b[0mDataArray\u001b[0m\u001b[1;33m(\u001b[0m\u001b[0mclim_sum\u001b[0m\u001b[1;33m,\u001b[0m \u001b[0mcoords\u001b[0m\u001b[1;33m=\u001b[0m\u001b[1;33m[\u001b[0m\u001b[0mds\u001b[0m\u001b[1;33m.\u001b[0m\u001b[0mtime\u001b[0m\u001b[1;33m,\u001b[0m \u001b[0mds\u001b[0m\u001b[1;33m.\u001b[0m\u001b[0mlat\u001b[0m\u001b[1;33m,\u001b[0m \u001b[0mds\u001b[0m\u001b[1;33m.\u001b[0m\u001b[0mlon\u001b[0m\u001b[1;33m]\u001b[0m\u001b[1;33m,\u001b[0m \u001b[0mdims\u001b[0m\u001b[1;33m=\u001b[0m\u001b[1;33m[\u001b[0m\u001b[1;34m'time'\u001b[0m\u001b[1;33m,\u001b[0m \u001b[1;34m'lat'\u001b[0m\u001b[1;33m,\u001b[0m \u001b[1;34m'lon'\u001b[0m\u001b[1;33m]\u001b[0m\u001b[1;33m)\u001b[0m\u001b[1;33m\u001b[0m\u001b[0m\n\u001b[1;32m----> 2\u001b[1;33m \u001b[0mclim_sum\u001b[0m\u001b[1;33m.\u001b[0m\u001b[0msetncatts\u001b[0m\u001b[1;33m=\u001b[0m\u001b[0mds\u001b[0m\u001b[1;33m.\u001b[0m\u001b[0manalysed_sst\u001b[0m\u001b[1;33m.\u001b[0m\u001b[0mattrs\u001b[0m\u001b[1;33m\u001b[0m\u001b[0m\n\u001b[0m\u001b[0;32m      3\u001b[0m \u001b[1;33m\u001b[0m\u001b[0m\n",
      "\u001b[1;31mAttributeError\u001b[0m: 'numpy.ndarray' object has no attribute 'setncatts'"
     ]
    }
   ],
   "source": [
    "    clim_sum=clim_sum+ds.analysed_sst.data\n",
    "    clim_cnt=clim_cnt+1\n",
    "    #print(clim_sum[0,1,1],clim_sum[0,400,900])\n",
    "    #print(clim_cnt[0,1,1],clim_cnt[0,400,900])\n",
    "clim_sum=clim_sum/clim_cnt\n",
    "    #print(clim_sum[0,1,1],clim_sum[0,400,900])\n",
    "fname_tem='clim1993_2016' + sjdy + '-CMC-L4_GHRSST-SSTfnd-CMC0.2deg-GLOB-v02.0-fv02.0a.nc'\n",
    "cmc_filename2 = dir_cmc_clim + fname_tem\n",
    "foo = xr.DataArray(clim_sum, coords=[ds.time, ds.lat, ds.lon], dims=['time', 'lat', 'lon'])\n",
    "foo.to_netcdf(cmc_filename2)\n",
    "foo = xr.DataArray(clim_sum, coords=[ds.time, ds.lat, ds.lon], dims=['time', 'lat', 'lon'])\n",
    "clim_sum.setncatts=ds.analysed_sst.attrs\n",
    "\n"
   ]
  },
  {
   "cell_type": "code",
   "execution_count": null,
   "metadata": {},
   "outputs": [],
   "source": []
  },
  {
   "cell_type": "code",
   "execution_count": null,
   "metadata": {},
   "outputs": [],
   "source": []
  }
 ],
 "metadata": {
  "kernelspec": {
   "display_name": "Python 3",
   "language": "python",
   "name": "python3"
  },
  "language_info": {
   "codemirror_mode": {
    "name": "ipython",
    "version": 3
   },
   "file_extension": ".py",
   "mimetype": "text/x-python",
   "name": "python",
   "nbconvert_exporter": "python",
   "pygments_lexer": "ipython3",
   "version": "3.7.0"
  }
 },
 "nbformat": 4,
 "nbformat_minor": 2
}
