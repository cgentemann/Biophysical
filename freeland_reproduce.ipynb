{
 "cells": [
  {
   "cell_type": "code",
   "execution_count": null,
   "metadata": {},
   "outputs": [],
   "source": [
    "import numpy as np\n",
    "import xarray as xr\n",
    "import matplotlib.pyplot as plt\n",
    "plt.rcParams['figure.figsize'] = (15,10)\n",
    "%matplotlib inline"
   ]
  },
  {
   "cell_type": "code",
   "execution_count": null,
   "metadata": {},
   "outputs": [],
   "source": [
    "#xt_timeseries = ds.sla.sel(latitude=35,longitude=210, method='nearest').load()\n",
    "#xp_timeseries = ds.sla.sel(latitude=55,longitude=210, method='nearest').load()\n",
    "#xt_timeseries_box = ds.sla.sel(latitude=slice(32.5,37.5),longitude=slice(207.5,212.5)).mean(dim=('latitude', 'longitude')).load()\n",
    "#xp_timeseries_box = ds.sla.sel(latitude=slice(52.5,57.5),longitude=slice(207.5,212.5)).mean(dim=('latitude', 'longitude')).load()"
   ]
  },
  {
   "cell_type": "code",
   "execution_count": null,
   "metadata": {},
   "outputs": [],
   "source": [
    "adir = 'F:/data/NASA_biophysical/aviso/'\n",
    "xt_timeseries=xr.open_dataset(adir+'xt_ts2.nc')\n",
    "xp_timeseries=xr.open_dataset(adir+'xp_ts2.nc')\n",
    "xt_timeseries_box=xr.open_dataset(adir+'xt_ts_box2.nc')\n",
    "xp_timeseries_box=xr.open_dataset(adir+'xp_ts_box2.nc')\n",
    "\n",
    "xt_month_ave = xt_timeseries.resample(time='1M').mean('time')\n",
    "xp_month_ave = xp_timeseries.resample(time='1M').mean('time')\n",
    "xt_month_box_ave = xt_timeseries_box.resample(time='1M').mean('time')\n",
    "xp_month_box_ave = xp_timeseries_box.resample(time='1M').mean('time')\n"
   ]
  },
  {
   "cell_type": "code",
   "execution_count": null,
   "metadata": {},
   "outputs": [],
   "source": [
    "xt_month_ave.sla.plot()\n",
    "xt_timeseries.sla.plot()"
   ]
  },
  {
   "cell_type": "markdown",
   "metadata": {},
   "source": [
    "## need to .groupby month & subtract to create anomaly then 3 month boxcar"
   ]
  },
  {
   "cell_type": "code",
   "execution_count": null,
   "metadata": {},
   "outputs": [],
   "source": [
    "#monthly\n",
    "N=3\n",
    "climatology = xt_month_ave.sla.groupby('time.month').mean('time')\n",
    "xt_anomalies = xt_month_ave.sla.groupby('time.month') - climatology\n",
    "xt_smoothed_anom = np.convolve(xt_anomalies, np.ones((N,))/N, mode='valid')\n",
    "xt_smoothed_anom2 = np.convolve(xt_smoothed_anom, np.ones((N,))/N, mode='valid')\n",
    "\n",
    "#show that smoothed timeseries aligned with unsmoothed timeseries\n",
    "xt_anomalies.plot()\n",
    "plt.plot(xt_anomalies.time[1:-1],xt_smoothed_anom,'r')\n",
    "plt.plot(xt_anomalies.time[2:-2],xt_smoothed_anom2,'g')\n",
    "plt.savefig(adir+'st_anomaly.png', transparent=False, format='png')\n",
    "\n"
   ]
  },
  {
   "cell_type": "code",
   "execution_count": null,
   "metadata": {},
   "outputs": [],
   "source": [
    "\n",
    "climatology = xp_month_ave.sla.groupby('time.month').mean('time')\n",
    "xp_anomalies = xp_month_ave.sla.groupby('time.month') - climatology\n",
    "xp_smoothed_anom = np.convolve(xp_anomalies, np.ones((N,))/N, mode='valid')\n",
    "xp_smoothed_anom2 = np.convolve(xp_smoothed_anom, np.ones((N,))/N, mode='valid')\n",
    "\n",
    "#show that smoothed timeseries aligned with unsmoothed timeseries\n",
    "xp_anomalies.plot()\n",
    "plt.plot(xp_anomalies.time[1:-1],xp_smoothed_anom,'r')\n",
    "plt.plot(xp_anomalies.time[2:-2],xp_smoothed_anom2,'g')\n",
    "plt.savefig(adir+'sp_anomaly.png', transparent=False, format='png')\n"
   ]
  },
  {
   "cell_type": "markdown",
   "metadata": {},
   "source": [
    "## smoothed 5deg box\n",
    "Freeland and Cummings says that they use a 25 point spatial average of a 1 deg aviso SSH dataset.  I'm guessing here, that they mean a 5degx5deg box average centered at point xt and xp"
   ]
  },
  {
   "cell_type": "code",
   "execution_count": null,
   "metadata": {},
   "outputs": [],
   "source": [
    "xt_month_box_ave"
   ]
  },
  {
   "cell_type": "code",
   "execution_count": null,
   "metadata": {},
   "outputs": [],
   "source": [
    "#monthly BOX, smooth 3 month box car twice\n",
    "N=3\n",
    "climatology = xt_month_box_ave.sla.groupby('time.month').mean('time')\n",
    "xt_anomalies = xt_month_box_ave.sla.groupby('time.month') - climatology\n",
    "xt_smoothed_box_anom = np.convolve(xt_anomalies, np.ones((N,))/N, mode='valid')\n",
    "xt_smoothed_box_anom2 = np.convolve(xt_smoothed_box_anom, np.ones((N,))/N, mode='valid')\n",
    "climatology = xp_month_box_ave.sla.groupby('time.month').mean('time')\n",
    "xp_anomalies = xp_month_box_ave.sla.groupby('time.month') - climatology\n",
    "xp_smoothed_box_anom = np.convolve(xp_anomalies, np.ones((N,))/N, mode='valid')\n",
    "xp_smoothed_box_anom2 = np.convolve(xp_smoothed_box_anom, np.ones((N,))/N, mode='valid')\n",
    "\n",
    "#N=3\n",
    "climatology = xt_month_box_ave.ugosa.groupby('time.month').mean('time')\n",
    "xt_anomalies_u = xt_month_box_ave.ugosa.groupby('time.month') - climatology\n",
    "xt_smoothed_box_anom_u = np.convolve(xt_anomalies_u, np.ones((N,))/N, mode='valid')\n",
    "xt_smoothed_box_anom2_u = np.convolve(xt_smoothed_box_anom_u, np.ones((N,))/N, mode='valid')\n",
    "climatology = xp_month_box_ave.ugosa.groupby('time.month').mean('time')\n",
    "xp_anomalies_u = xp_month_box_ave.ugosa.groupby('time.month') - climatology\n",
    "xp_smoothed_box_anom_u = np.convolve(xp_anomalies_u, np.ones((N,))/N, mode='valid')\n",
    "xp_smoothed_box_anom2_u = np.convolve(xp_smoothed_box_anom_u, np.ones((N,))/N, mode='valid')\n"
   ]
  },
  {
   "cell_type": "code",
   "execution_count": null,
   "metadata": {},
   "outputs": [],
   "source": [
    "#show that smoothed timeseries aligned with unsmoothed timeseries\n",
    "xt_anomalies.plot()\n",
    "plt.plot(xt_anomalies.time[1:-1],xt_smoothed_box_anom,'r')\n"
   ]
  },
  {
   "cell_type": "code",
   "execution_count": null,
   "metadata": {},
   "outputs": [],
   "source": [
    "#plt.plot(xp_anomalies.time[2:-2],xt_smoothed_anom2-xp_smoothed_anom2)\n",
    "fig, ax1 = plt.subplots()\n",
    "ax1.plot(xp_anomalies.time[2:-2],xt_smoothed_box_anom2-xp_smoothed_box_anom2,'r')\n",
    "xmin, xmax = ax1.set_xlim()\n",
    "ax1.set_xlim(xmin,xmax-4500)\n",
    "ax1.set_ylim(-.15,.15)\n",
    "ax1.set_ylabel('$\\Delta$ SSH (m)')\n",
    "ax1.set_xlabel('Time')\n",
    "\n",
    "ax2 = ax1.twinx()  # instantiate a second axes that shares the same x-axis\n",
    "ax2.plot(xp_anomalies_u.time[2:-2],xt_smoothed_box_anom2_u-xp_smoothed_box_anom2_u,'b')\n",
    "ax2.plot(xp_anomalies.time[2:-2],(xp_smoothed_anom2-xt_smoothed_anom2)*0)\n",
    "ax2.set_xlim(xmin,xmax-4500)\n",
    "ax2.set_ylim(-0.03,0.03)\n",
    "ax2.set_ylabel('$\\Delta$ horiz vel (m/s)')\n",
    "ax2.set_xlabel('Time')\n",
    "#plt.legend(['point','5 deg box'])\n",
    "plt.savefig(adir+'ssh_cur_2006.png', transparent=False, format='png')\n"
   ]
  },
  {
   "cell_type": "code",
   "execution_count": null,
   "metadata": {},
   "outputs": [],
   "source": [
    "#plt.plot(xp_anomalies.time[2:-2],xt_smoothed_anom2-xp_smoothed_anom2)\n",
    "fig, ax1 = plt.subplots()\n",
    "ax1.plot(xp_anomalies.time[2:-2],xt_smoothed_box_anom2-xp_smoothed_box_anom2,'r')\n",
    "xmin, xmax = ax1.set_xlim()\n",
    "#ax1.set_xlim(xmin,xmax-4500)\n",
    "ax1.set_ylim(-.15,.15)\n",
    "ax1.set_ylabel('$\\Delta$ SSH (m)')\n",
    "ax1.set_xlabel('Time')\n",
    "\n",
    "ax2 = ax1.twinx()  # instantiate a second axes that shares the same x-axis\n",
    "ax2.plot(xp_anomalies_u.time[2:-2],xt_smoothed_box_anom2_u-xp_smoothed_box_anom2_u,'b')\n",
    "ax2.plot(xp_anomalies.time[2:-2],(xp_smoothed_anom2-xt_smoothed_anom2)*0)\n",
    "#ax2.set_xlim(xmin,xmax-4500)\n",
    "ax2.set_ylim(-0.03,0.03)\n",
    "ax2.set_ylabel('$\\Delta$ horiz vel (m/s)')\n",
    "ax2.set_xlabel('Time')\n",
    "#plt.legend(['point','5 deg box'])\n",
    "plt.savefig(adir+'ssh_cur_2017.png', transparent=False, format='png')\n"
   ]
  },
  {
   "cell_type": "code",
   "execution_count": null,
   "metadata": {},
   "outputs": [],
   "source": [
    "xp_anomalies.time[30]"
   ]
  },
  {
   "cell_type": "code",
   "execution_count": null,
   "metadata": {},
   "outputs": [],
   "source": [
    "#T = C * [a,b]\n",
    "#to 2006\n",
    "#timeseries with zero mean\n",
    "T1 = xt_smoothed_box_anom2[:13*12]-np.mean(xt_smoothed_box_anom2[:13*12])\n",
    "T2 = xp_smoothed_box_anom2[:13*12]-np.mean(xp_smoothed_box_anom2[:13*12])\n",
    "#T1 = xp_smoothed_box_anom2[:13*12]-np.mean(xp_smoothed_box_anom2[:13*12])\n",
    "#T2 = xt_smoothed_box_anom2[:13*12]-np.mean(xt_smoothed_box_anom2[:13*12])\n",
    "\n",
    "#all\n",
    "#T1 = xt_smoothed_box_anom2\n",
    "#T2 = xp_smoothed_box_anom2\n",
    "a = (np.sqrt(2)/2)*(T1+T2)\n",
    "b = (np.sqrt(2)/2)*(T1-T2)\n",
    "#check that total variance is conserved\n",
    "var = np.mean(T1**2)+np.mean(T2**2)\n",
    "var2 = np.mean(a**2)+np.mean(b**2)\n",
    "print('var',var,'=',var2)\n",
    "#calculate the fraction of variance in the breathing\n",
    "#and biforcation modes\n",
    "R1 = np.mean(a**2) / var2 #breathing\n",
    "R2 = np.mean(b**2) / var2 #biforcation\n",
    "print('percent variance')\n",
    "print('breathing:',R1)\n",
    "print('biforcation:',R2)\n",
    "plt.plot(xp_anomalies.time[2:13*12+2],a)\n",
    "plt.plot(xp_anomalies.time[2:13*12+2],b)\n",
    "plt.savefig(adir+'ab_2006.png', transparent=False, format='png')\n"
   ]
  },
  {
   "cell_type": "code",
   "execution_count": null,
   "metadata": {
    "scrolled": true
   },
   "outputs": [],
   "source": [
    "#T = C * [a,b]\n",
    "#to 2006\n",
    "#T1 = xt_smoothed_box_anom2[:13*12]\n",
    "#T2 = xp_smoothed_box_anom2[13*12]\n",
    "#all\n",
    "T1 = xp_smoothed_box_anom2-np.mean(xp_smoothed_box_anom2)\n",
    "T2 = xt_smoothed_box_anom2-np.mean(xt_smoothed_box_anom2)\n",
    "a = (np.sqrt(2)/2)*(T1+T2)\n",
    "b = (np.sqrt(2)/2)*(T1-T2)\n",
    "#check that total variance is conserved\n",
    "var = np.mean(T1**2)+np.mean(T2**2)\n",
    "var2 = np.mean(a**2)+np.mean(b**2)\n",
    "print('var',var,'=',var2)\n",
    "#calculate the fraction of variance in the breathing\n",
    "#and biforcation modes\n",
    "R1 = np.mean(a**2) / var2 #breathing\n",
    "R2 = np.mean(b**2) / var2 #biforcation\n",
    "print('percent variance')\n",
    "print('breathing:',R1)\n",
    "print('biforcation:',R2)\n",
    "plt.plot(xp_anomalies.time[2:-2],a)\n",
    "plt.plot(xp_anomalies.time[2:-2],b)\n",
    "plt.savefig(adir+'ab_2017.png', transparent=False, format='png')\n"
   ]
  },
  {
   "cell_type": "code",
   "execution_count": null,
   "metadata": {},
   "outputs": [],
   "source": [
    "#modal variance\n",
    "r = np.mean(T1*T2)/(np.sqrt(np.mean(T1**2))*np.sqrt(np.mean(T2**2)))\n",
    "print('corr coeff:',r)"
   ]
  },
  {
   "cell_type": "code",
   "execution_count": null,
   "metadata": {},
   "outputs": [],
   "source": [
    "#beta\n",
    "beta = np.mean(T1**2)/np.mean(T2**2)\n",
    "print('ratio of variance of SSH', beta)"
   ]
  },
  {
   "cell_type": "code",
   "execution_count": null,
   "metadata": {},
   "outputs": [],
   "source": [
    "#streamfunction\n",
    "[x,y] = meshgrid(0:20,0:15);  % This makes regular grid\n",
    "[phi,psi] = flowfun(u,v);  % Here comes the potential and streamfun.\n"
   ]
  },
  {
   "cell_type": "code",
   "execution_count": null,
   "metadata": {},
   "outputs": [],
   "source": [
    "def flowfun(u, v=None, flag=''):\n",
    "    \"\"\"Calculates the potential phi and the stream function psi of a\n",
    "    two-dimensional flow defined by the velocity components u and v, so\n",
    "    that\n",
    "    \n",
    "            d(phi)   d(psi)       d(phi)   d(psi)\n",
    "        u = ------ - ------;  v = ------ + ------\n",
    "              dx       dy           dy       dx\n",
    "    PARAMETERS\n",
    "        u, v (array like) :\n",
    "            Zonal and meridional velocity field vectors. 'v' can be \n",
    "            ommited if the velocity vector field U is given in complex\n",
    "            form, such that U = u + i*v.\n",
    "        flag (string, optional) :\n",
    "            If only the stream function is needed, the '-', 'psi' or \n",
    "            'streamfunction' flag should be used. For the velocity\n",
    "            potential, use '+', 'phi' or 'potential'.\n",
    "            \n",
    "    RETURNS\n",
    "    \n",
    "    EXAMPLES\n",
    "        phi, psi = flowfun(u, v)\n",
    "        psi = flowfun(u + i*v, '-')\n",
    "    \n",
    "    REFERENCES\n",
    "    \n",
    "    Based upon http://www-pord.ucsd.edu/~matlab/stream.htm\n",
    "    \n",
    "    \"\"\"\n",
    "    # Checks input arguments\n",
    "    u = numpy.asarray(u)\n",
    "    if v == None:\n",
    "        v = u.imag\n",
    "        u = u.real\n",
    "    if u.shape != v.shape:\n",
    "        raise Exception, 'Error: matrices U and V must be of equal size'\n",
    "    isphi, ispsi = True, True\n",
    "    if flag in ['-', 'psi', 'streamfunction']:\n",
    "        isphi = False\n",
    "    if flag in ['+', 'phi', 'potential']:\n",
    "        ispsi = False\n",
    "    \n",
    "    a, b = u.shape\n",
    "    \n",
    "    # Now, the main computations. Integrates the velocity fields to get the\n",
    "    # velocity potential and stream function using Simpson rule summation\n",
    "    \n",
    "    # The velocity potential (phi), non-rotating part\n",
    "    if isphi:\n",
    "        cx = simpson(u[0, :])     # Computes the x-integration constant\n",
    "        cy = simpson(v[:, 0])     # Computes the y-integration constant\n",
    "        phi = simpson(v) + cx * numpy.ones((a, 1))\n",
    "        phi = (phi + simpson(u.transpose()).transpose() + \n",
    "            (cy * numpy.ones((b, 1))).transpose()) / 2\n",
    "    \n",
    "    # Compute streamfunction (psi), solenoidal part\n",
    "    if ispsi:\n",
    "        cx = simpson(v[0, :])      # Computes the x-integration constant\n",
    "        cy = simpson(u[:, 0])      # Computes the y-integration constant\n",
    "        psi = -simpson(u) + cx * numpy.ones((a, 1))\n",
    "        psi = (psi + simpson(v.transpose()).transpose() - \n",
    "            (cy * numpy.ones((b, 1))).transpose()) / 2\n",
    "    \n",
    "    if isphi & ispsi:\n",
    "        return (phi, psi)\n",
    "    elif isphi:\n",
    "        return phi\n",
    "    elif ispsi:\n",
    "        return psi\n",
    "    else:\n",
    "        return None\n"
   ]
  },
  {
   "cell_type": "code",
   "execution_count": null,
   "metadata": {},
   "outputs": [],
   "source": []
  },
  {
   "cell_type": "code",
   "execution_count": null,
   "metadata": {},
   "outputs": [],
   "source": []
  },
  {
   "cell_type": "code",
   "execution_count": null,
   "metadata": {},
   "outputs": [],
   "source": []
  },
  {
   "cell_type": "code",
   "execution_count": null,
   "metadata": {},
   "outputs": [],
   "source": []
  },
  {
   "cell_type": "code",
   "execution_count": null,
   "metadata": {},
   "outputs": [],
   "source": []
  },
  {
   "cell_type": "code",
   "execution_count": null,
   "metadata": {},
   "outputs": [],
   "source": []
  },
  {
   "cell_type": "code",
   "execution_count": null,
   "metadata": {},
   "outputs": [],
   "source": []
  }
 ],
 "metadata": {
  "kernelspec": {
   "display_name": "Python 3",
   "language": "python",
   "name": "python3"
  },
  "language_info": {
   "codemirror_mode": {
    "name": "ipython",
    "version": 3
   },
   "file_extension": ".py",
   "mimetype": "text/x-python",
   "name": "python",
   "nbconvert_exporter": "python",
   "pygments_lexer": "ipython3",
   "version": "3.7.3"
  }
 },
 "nbformat": 4,
 "nbformat_minor": 4
}
