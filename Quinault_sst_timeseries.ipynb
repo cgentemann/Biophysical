{
 "cells": [
  {
   "cell_type": "markdown",
   "metadata": {},
   "source": [
    "# CCMP Winds run locally"
   ]
  },
  {
   "cell_type": "code",
   "execution_count": 4,
   "metadata": {},
   "outputs": [],
   "source": [
    "import xarray as xr\n",
    "from glob import glob\n",
    "import numpy as np\n",
    "import matplotlib.pyplot as plt"
   ]
  },
  {
   "cell_type": "code",
   "execution_count": 5,
   "metadata": {},
   "outputs": [],
   "source": [
    "pattern_zarr = 'F:/data/sat_data/ccmp/zarr/'\n",
    "ds= xr.open_zarr(pattern_zarr).rename({'latitude':'lat','longitude':'lon'})\n",
    "ds.coords['lon'] = (ds.coords['lon'] + 180) % 360 - 180\n",
    "ds = ds.sortby(ds.lon)\n",
    "ds = ds.drop('nobs')"
   ]
  },
  {
   "cell_type": "code",
   "execution_count": 6,
   "metadata": {},
   "outputs": [
    {
     "data": {
      "text/plain": [
       "<matplotlib.collections.QuadMesh at 0x28efbe91688>"
      ]
     },
     "execution_count": 6,
     "metadata": {},
     "output_type": "execute_result"
    },
    {
     "data": {
      "image/png": "[encoded data removed]",
      "text/plain": [
       "<Figure size 432x288 with 2 Axes>"
      ]
     },
     "metadata": {
      "needs_background": "light"
     },
     "output_type": "display_data"
    }
   ],
   "source": [
    "ds_map = ds.sel(lat=slice(35,55),lon=slice(-135,-120)).mean({'time'},skipna=True,keep_attrs=True).load()\n",
    "ds_map.uwnd.plot()"
   ]
  },
  {
   "cell_type": "code",
   "execution_count": 8,
   "metadata": {},
   "outputs": [],
   "source": [
    "#35-55N, 135-120W.\n",
    "#ts = ds.sel(lat=slice(35,55),lon=slice(-135,-120)).mean({'lat','lon'},skipna=False,keep_attrs=True).load()\n",
    "#ts.to_netcdf('C:/Users/gentemann/Google Drive/public/marisol/timeseries_wind_ccmp.nc')\n",
    "ds2 = ds.resample(time='M',keep_attrs=True).mean(skipna=False)\n",
    "ds2 = ds2.sel(lat=slice(35,55),lon=slice(-135,-120))\n",
    "ds2 = ds2.load()\n",
    "ds2.to_netcdf('timeseries_wind_ccmp_25km.nc')"
   ]
  },
  {
   "cell_type": "markdown",
   "metadata": {},
   "source": [
    "# AVISO & ERA5 & MUR SST\n",
    "# RUN ON Ocean Pangeo GCP HUB"
   ]
  },
  {
   "cell_type": "code",
   "execution_count": null,
   "metadata": {},
   "outputs": [],
   "source": [
    "# filter some warning messages\n",
    "warnings.filterwarnings(\"ignore\") \n",
    "import xarray as xr\n",
    "import fsspec\n",
    "from matplotlib import pyplot as plt\n",
    "import numpy as np\n",
    "import intake\n",
    "import dask\n",
    "xr.set_options(display_style=\"html\")  #display dataset nicely \n",
    "%matplotlib inline\n",
    "plt.rcParams['figure.figsize'] = 12, 6\n",
    "%config InlineBackend.figure_format = 'retina'\n",
    "%%time\n",
    "cat_pangeo = intake.open_catalog(\"https://raw.githubusercontent.com/pangeo-data/pangeo-datastore/master/intake-catalogs/master.yaml\")\n",
    "ds = cat_pangeo.ocean.sea_surface_height.to_dask()\n",
    "ds.coords['longitude'] = (ds.coords['longitude'] + 180) % 360 - 180\n",
    "ds = ds.sortby(ds.longitude)"
   ]
  },
  {
   "cell_type": "code",
   "execution_count": null,
   "metadata": {},
   "outputs": [],
   "source": [
    "from dask_gateway import Gateway\n",
    "from dask.distributed import Client\n",
    "gateway = Gateway()\n",
    "cluster = gateway.new_cluster()\n",
    "cluster.adapt(minimum=1, maximum=80)\n",
    "client = Client(cluster)\n",
    "cluster"
   ]
  },
  {
   "cell_type": "code",
   "execution_count": null,
   "metadata": {},
   "outputs": [],
   "source": [
    "ds_map = ds.sel(latitude=slice(35,55),longitude=slice(-135,-120)).mean({'time'},skipna=False,keep_attrs=True).load()\n",
    "ds_map.sla.plot()"
   ]
  },
  {
   "cell_type": "code",
   "execution_count": null,
   "metadata": {},
   "outputs": [],
   "source": [
    "#35-55N, 135-120W.\n",
    "ds2 = ds.resample(time='M',keep_attrs=True).mean(skipna=False)\n",
    "ds2 = ds2.sel(latitude=slice(35,55),longitude=slice(-135,-120))\n",
    "ds2 = ds2.load()\n",
    "ds2.to_netcdf('timeseries_ssh_currents_aviso_25km.nc')\n",
    "#ts = ds.sel(latitude=slice(35,55),longitude=slice(-135,-120)).mean({'latitude','longitude'},skipna=False,keep_attrs=True).load()\n",
    "#ts.to_netcdf('timeseries_ssh_currents_aviso.nc')"
   ]
  },
  {
   "cell_type": "markdown",
   "metadata": {},
   "source": [
    "## ERA5"
   ]
  },
  {
   "cell_type": "code",
   "execution_count": null,
   "metadata": {},
   "outputs": [],
   "source": [
    "# Run on Ocean pangeo\n",
    "cat = intake.open_catalog(\"https://raw.githubusercontent.com/pangeo-data/pangeo-datastore/master/intake-catalogs/master.yaml\")\n",
    "era5 = cat.atmosphere.era5_hourly_reanalysis_single_levels_sa().to_dask()\n",
    "subset = era5.sel(latitude=slice(56,45),longitude=slice(215,225)).mean({'latitude','longitude'},skipna=False,keep_attrs=True).load()\n",
    "subset.to_netcdf('timeseries_era5_data.nc')"
   ]
  },
  {
   "cell_type": "markdown",
   "metadata": {},
   "source": [
    "## SST"
   ]
  },
  {
   "cell_type": "code",
   "execution_count": null,
   "metadata": {},
   "outputs": [],
   "source": [
    "%%time\n",
    "file_location = 's3://mur-sst/zarr'\n",
    "ds = xr.open_zarr(fsspec.get_mapper(file_location, anon=True),consolidated=True)\n",
    "#35-55N, 135-120W.\n",
    "#ts = ds.sel(lat=slice(35,55),lon=slice(-135,-120)).mean({'lat','lon'},skipna=False,keep_attrs=True).load()\n",
    "#ts.to_netcdf('timeseries_sst_mur.nc')\n",
    "#45-49N, 126-123W\n",
    "subset = ds.sel(lat=slice(45,49),lon=slice(-126,-123))\n",
    "ds_month = subset.resample(time='M',keep_attrs=True).mean(skipna=False)\n",
    "ds_month = ds_month.load()\n",
    "ds_month.to_netcdf('timeseries_sst_mur_high_res.nc')"
   ]
  },
  {
   "cell_type": "code",
   "execution_count": null,
   "metadata": {},
   "outputs": [],
   "source": [
    "#35-55N, 135-120W.\n",
    "subset = ds.sel(lat=slice(35,55),lon=slice(-135,-120))\n",
    "ds_month = subset.resample(time='M',keep_attrs=True).mean(skipna=False)\n",
    "ds_month2 = ds_month.chunk({'time':1,'lat':2001,'lon':1501})\n",
    "ds_month25 = ds_month2.interp(lat=np.arange(35.125,55.125,.25),lon=np.arange(-135.125,-120.125,.25),method='linear')\n",
    "ds_month25 = ds_month25.load()\n",
    "ds_month25.to_netcdf('timeseries_sst_mur_25km.nc')\n"
   ]
  },
  {
   "cell_type": "code",
   "execution_count": null,
   "metadata": {},
   "outputs": [],
   "source": []
  },
  {
   "cell_type": "code",
   "execution_count": null,
   "metadata": {},
   "outputs": [],
   "source": [
    "ds_map = ds.sel(lat=slice(35,55),lon=slice(-135,-120))\n",
    "ds_map.analysed_sst[:,:,0].plot()"
   ]
  },
  {
   "cell_type": "code",
   "execution_count": null,
   "metadata": {},
   "outputs": [],
   "source": [
    "import xarray as xr\n",
    "ds=xr.open_dataset('C:/Users/gentemann/Google Drive/public/marisol/timeseries_sst_mur.nc')\n",
    "ds"
   ]
  },
  {
   "cell_type": "code",
   "execution_count": null,
   "metadata": {},
   "outputs": [],
   "source": [
    "clim = ds.groupby('time.dayofyear').mean('time',keep_attrs=True,skipna=False)    \n",
    "anom = ds.groupby('time.dayofyear')-clim\n",
    "anom.analysed_sst.plot()"
   ]
  },
  {
   "cell_type": "code",
   "execution_count": null,
   "metadata": {},
   "outputs": [],
   "source": [
    "import matplotlib.pyplot as plt\n",
    "anomp=anom.where(anom.analysed_sst>0)\n",
    "anomn=anom.where(anom.analysed_sst<=0)\n",
    "plt.bar(anomp.time,anomp.analysed_sst,color='r')\n",
    "plt.bar(anomn.time,anomn.analysed_sst,color='b')\n",
    "plt.ylabel('SST anomaly (K)')\n",
    "plt.savefig('C:/Users/gentemann/Google Drive/public/marisol/sst_anom.png')"
   ]
  },
  {
   "cell_type": "code",
   "execution_count": null,
   "metadata": {},
   "outputs": [],
   "source": []
  }
 ],
 "metadata": {
  "kernelspec": {
   "display_name": "Python 3",
   "language": "python",
   "name": "python3"
  },
  "language_info": {
   "codemirror_mode": {
    "name": "ipython",
    "version": 3
   },
   "file_extension": ".py",
   "mimetype": "text/x-python",
   "name": "python",
   "nbconvert_exporter": "python",
   "pygments_lexer": "ipython3",
   "version": "3.7.6"
  }
 },
 "nbformat": 4,
 "nbformat_minor": 4
}
