{
 "cells": [
  {
   "cell_type": "code",
   "execution_count": null,
   "metadata": {},
   "outputs": [],
   "source": [
    "import xarray as xr\n",
    "import numpy as np\n",
    "import matplotlib.pyplot as plt\n",
    "import cartopy.crs as ccrs\n",
    "import sys\n",
    "import pandas as pd\n",
    "\n",
    "data_dir = 'F:/data/NASA_biophysical/pices/shapefiles/LME/'\n",
    "\n",
    "\n",
    "filename_lme = data_dir+'all_mask.nc'\n",
    "inital_date = '1980-01-01'\n",
    "final_date = '2020-02-01'\n",
    "\n",
    "filename_noaa = 'F:/data/sst/noaa_oisst/sst.mnmean.nc'\n",
    "filename_cmc = 'F:/data/sst/cmc/CMC0.2deg/v2/monthly/'\n",
    "\n",
    "def weighted_mean_of_data(data_in,data_cond):\n",
    "    import numpy as np\n",
    "    import xarray as xr\n",
    "    #data_in = input xarray data to have weighted mean\n",
    "    #LME mask T or F values\n",
    "    global_attrs = data_in.attrs\n",
    "    R = 6.37e6 #radius of earth in m\n",
    "    grid_dy,grid_dx = (data_in.lat[0]-data_in.lat[1]).data,(data_in.lon[0]-data_in.lon[1]).data\n",
    "    dϕ = np.deg2rad(grid_dy)\n",
    "    dλ = np.deg2rad(grid_dx)\n",
    "    dA = R**2 * dϕ * dλ * np.cos(np.deg2rad(data_in.lat)) \n",
    "    pixel_area = dA.where(data_cond)  #pixel_area.plot()\n",
    "    #pixel_area = pixel_area.where(np.isfinite(data_mask))\n",
    "    sum_data=(data_in*pixel_area).sum(dim=('lon', 'lat'),keep_attrs=True)\n",
    "    total_ocean_area = ((data_in/data_in)*pixel_area).sum(dim=('lon', 'lat'))\n",
    "    #print(sum_data)\n",
    "    #print(total_ocean_area)\n",
    "    data_weighted_mean = sum_data/total_ocean_area\n",
    "    data_weighted_mean.attrs = global_attrs  #save global attributes\n",
    "    for a in data_in:                      #set attributes for each variable in dataset\n",
    "        gatt = data_in[a].attrs\n",
    "        data_weighted_mean[a].attrs=gatt\n",
    "\n",
    "    return data_weighted_mean\n"
   ]
  },
  {
   "cell_type": "markdown",
   "metadata": {},
   "source": [
    "## Read in LME mask"
   ]
  },
  {
   "cell_type": "code",
   "execution_count": null,
   "metadata": {},
   "outputs": [],
   "source": [
    "ds_mask = xr.open_dataset(filename_lme)\n",
    "ds_mask.close()\n",
    "print(ds_mask)"
   ]
  },
  {
   "cell_type": "code",
   "execution_count": null,
   "metadata": {},
   "outputs": [],
   "source": [
    "ds_mask.region_mask.plot()\n",
    "print(ds_mask.LME_names)"
   ]
  },
  {
   "cell_type": "code",
   "execution_count": null,
   "metadata": {},
   "outputs": [],
   "source": [
    "ds_mask.region_mask.where(ds_mask.region_mask==3).plot()"
   ]
  },
  {
   "cell_type": "markdown",
   "metadata": {},
   "source": [
    "## Read in CMC 30 years of data"
   ]
  },
  {
   "cell_type": "code",
   "execution_count": null,
   "metadata": {},
   "outputs": [],
   "source": [
    "ds=xr.open_mfdataset(filename_cmc+'*.nc',combine='nested',concat_dim='time').drop({'sq_sst','mask'})#,'vgosa','err'}).rename({'latitude':'lat','longitude':'lon'})\n",
    "ds.close()\n",
    "print(ds)"
   ]
  },
  {
   "cell_type": "code",
   "execution_count": null,
   "metadata": {},
   "outputs": [],
   "source": [
    "ds.analysed_sst[10,:,:].plot()"
   ]
  },
  {
   "cell_type": "code",
   "execution_count": null,
   "metadata": {},
   "outputs": [],
   "source": [
    "ds_mask = xr.open_dataset(filename_lme)\n",
    "ds_mask.close()\n",
    "ds_mask"
   ]
  },
  {
   "cell_type": "code",
   "execution_count": null,
   "metadata": {},
   "outputs": [],
   "source": [
    "#interpolate mask\n",
    "mask_interp = ds_mask.interp_like(ds,method='nearest')\n",
    "\n",
    "#mask data using climatology so that each month has the same data\n",
    "ds_climatology = ds.groupby('time.month').mean('time',keep_attrs=True,skipna=False)\n",
    "ds_masked = ds.groupby('time.month').where(ds_climatology>-3)\n",
    "\n",
    "for ilme in range(67):\n",
    "\n",
    "    #create mean for lme region\n",
    "    cond = (mask_interp.region_mask==ilme)\n",
    "    tem = weighted_mean_of_data(ds_masked,cond)\n",
    "    data_mean=tem.assign_coords(region=ilme)\n",
    "\n",
    "    #make climatology and anomalies using .groupby method\n",
    "    data_climatology = data_mean.sel(time=slice('1993-01-01','2019-12-31')).groupby('time.month').mean('time',keep_attrs=True,skipna=False)\n",
    "    data_anomaly = data_mean.groupby('time.month') - data_climatology\n",
    "    global_attributes = ds.attrs\n",
    "    data_anomaly.attrs = global_attributes\n",
    "\n",
    "    if ilme==0:\n",
    "        ds_ts = data_mean\n",
    "        ds_anom = data_anomaly\n",
    "    else:\n",
    "        ds_ts = xr.concat([ds_ts, data_mean], dim='region')\n",
    "        ds_anom = xr.concat([ds_anom, data_anomaly], dim='region')\n",
    "ds_ts = ds_ts.assign_coords(region_name=ds_mask.LME_names)\n",
    "ds_anom = ds_anom.assign_coords(region_name=ds_mask.LME_names)\n",
    "tem=ds_ts.isel(region=slice(2,67)).transpose().load()\n",
    "df = pd.DataFrame(data=tem.analysed_sst.data-273.15,index=tem.time.data,columns=ds_ts.region_name[2:67])\n",
    "df.to_csv('F:/data/NASA_biophysical/LME_timeseries/cmc_sst_v1.csv')\n",
    "ds_ts.to_netcdf('F:/data/NASA_biophysical/LME_timeseries/cmc_sst_v1.nc')\n",
    "tem=ds_anom.isel(region=slice(2,67)).transpose().load()\n",
    "df = pd.DataFrame(data=tem.analysed_sst.data,index=tem.time.data,columns=ds_ts.region_name[2:67])\n",
    "df.to_csv('F:/data/NASA_biophysical/LME_timeseries/cmc_sst_anom_v1.csv')\n",
    "ds_ts.to_netcdf('F:/data/NASA_biophysical/LME_timeseries/cmc_sst_anom_v1.nc')\n"
   ]
  },
  {
   "cell_type": "code",
   "execution_count": null,
   "metadata": {},
   "outputs": [],
   "source": [
    "#ds_ts.analysed_sst[1,:].plot(lw=3)\n",
    "#ds_anom.analysed_sst[1,:].plot()"
   ]
  },
  {
   "cell_type": "code",
   "execution_count": null,
   "metadata": {},
   "outputs": [],
   "source": [
    "ds=xr.open_dataset('F:/data/sst/noaa_oisst/sst.mnmean.nc')#.drop({'sq_sst','mask'})#,'vgosa','err'}).rename({'latitude':'lat','longitude':'lon'})\n",
    "ds.close()\n",
    "ds.coords['lon'] = (ds.coords['lon'] + 180) % 360 - 180\n",
    "ds = ds.sortby(ds.lon).rename({'sst':'analysed_sst'})\n",
    "print(ds)"
   ]
  },
  {
   "cell_type": "code",
   "execution_count": null,
   "metadata": {},
   "outputs": [],
   "source": [
    "#interpolate mask\n",
    "mask_interp = ds_mask.interp_like(ds,method='nearest')\n",
    "\n",
    "#mask data using climatology so that each month has the same data\n",
    "ds_climatology = ds.groupby('time.month').mean('time',keep_attrs=True,skipna=False)\n",
    "ds_masked = ds.groupby('time.month').where(ds_climatology>-3)\n",
    "\n",
    "for ilme in range(67):\n",
    "\n",
    "    #create mean for lme region\n",
    "    cond = (mask_interp.region_mask==ilme)\n",
    "    tem = weighted_mean_of_data(ds_masked,cond)\n",
    "    data_mean=tem.assign_coords(region=ilme)\n",
    "\n",
    "    #make climatology and anomalies using .groupby method\n",
    "    data_climatology = data_mean.sel(time=slice('1854-01-01','2019-12-31')).groupby('time.month').mean('time',keep_attrs=True,skipna=False)\n",
    "    data_anomaly = data_mean.groupby('time.month') - data_climatology\n",
    "    global_attributes = ds.attrs\n",
    "    data_anomaly.attrs = global_attributes\n",
    "\n",
    "    if ilme==0:\n",
    "        ds_ts = data_mean\n",
    "        ds_anom = data_anomaly\n",
    "    else:\n",
    "        ds_ts = xr.concat([ds_ts, data_mean], dim='region')\n",
    "        ds_anom = xr.concat([ds_anom, data_anomaly], dim='region')\n",
    "ds_ts = ds_ts.assign_coords(region_name=ds_mask.LME_names)\n",
    "ds_anom = ds_anom.assign_coords(region_name=ds_mask.LME_names)\n",
    "tem=ds_ts.isel(region=slice(2,67)).transpose().load()\n",
    "df = pd.DataFrame(data=tem.analysed_sst.data,index=tem.time.data,columns=ds_ts.region_name[2:67])\n",
    "df.to_csv('F:/data/NASA_biophysical/LME_timeseries/noaa_oisst_v1.csv')\n",
    "ds_ts.to_netcdf('F:/data/NASA_biophysical/LME_timeseries/noaa_oisst_v1.nc')\n",
    "tem=ds_anom.isel(region=slice(2,67)).transpose().load()\n",
    "df = pd.DataFrame(data=tem.analysed_sst.data,index=tem.time.data,columns=ds_ts.region_name[2:67])\n",
    "df.to_csv('F:/data/NASA_biophysical/LME_timeseries/noaa_oisst_anom_v1.csv')\n",
    "ds_ts.to_netcdf('F:/data/NASA_biophysical/LME_timeseries/noaa_oisstt_anom_v1.nc')\n"
   ]
  },
  {
   "cell_type": "code",
   "execution_count": null,
   "metadata": {},
   "outputs": [],
   "source": []
  }
 ],
 "metadata": {
  "kernelspec": {
   "display_name": "Python 3",
   "language": "python",
   "name": "python3"
  },
  "language_info": {
   "codemirror_mode": {
    "name": "ipython",
    "version": 3
   },
   "file_extension": ".py",
   "mimetype": "text/x-python",
   "name": "python",
   "nbconvert_exporter": "python",
   "pygments_lexer": "ipython3",
   "version": "3.7.3"
  }
 },
 "nbformat": 4,
 "nbformat_minor": 2
}
